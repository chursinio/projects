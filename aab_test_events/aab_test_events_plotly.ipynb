{
 "cells": [
  {
   "cell_type": "markdown",
   "metadata": {},
   "source": [
    "# Исследование поведения пользователей мобильного приложения"
   ]
  },
  {
   "cell_type": "markdown",
   "metadata": {},
   "source": [
    "Вы работаете в стартапе, который продаёт продукты питания. Нужно разобраться, как ведут себя пользователи вашего мобильного приложения.\n",
    "\n",
    "Также был проведен A/A/B-эксперимент. Дизайнеры захотели поменять шрифты во всём приложении, а менеджеры испугались, что пользователям будет непривычно. Договорились принять решение по результатам A/A/B-теста. Пользователей разбили на 3 группы: 2 контрольные со старыми шрифтами и одну экспериментальную — с новыми. Выясните, какой шрифт лучше."
   ]
  },
  {
   "cell_type": "markdown",
   "metadata": {},
   "source": [
    "**Цели исследования:** \n",
    "- выяснить сколько пользователей доходит до покупки, сколько \"застревает\" на предыдущих шагах и на каких шагах это происходит\n",
    "- исследовать результаты А/А/В-эксперимента и определить, как повлияло на поведение пользователей изменение шрифта во всем приложении"
   ]
  },
  {
   "cell_type": "markdown",
   "metadata": {},
   "source": [
    "**Этапы исследования:**\n",
    "1. определить \n",
    "    - сколько событий, пользователей в логе\n",
    "    - сколько в среднем событий приходится на пользователя\n",
    "    - определить максимальную и минимальную дату, построить гистрограмму по времени\n",
    "    - определить с какого момента данные полные, отбросить старые\n",
    "    - определить сколько событий и пользователей было потеряно\n",
    "    - проверить из всех ли групп остались пользователи в полученной выборке\n",
    "2. изучить воронку продаж\n",
    "    - посмотреть, какие события есть в логах, как часто они встречаются\n",
    "    - посчитать, сколько пользователей совершали каждое из этих событий, долю пользователей, которые хоть раз совершали событие.\n",
    "    - предположить, в каком порядке происходят события\n",
    "    - посчитать, какая доля пользователей проходит на следующий шаг воронки (от числа пользователей на предыдущем)\n",
    "    - выяснить, на каком шаге теряется больше всего пользователей, какая доля пользователей доходит от первого события до оплаты\n",
    "3. изучить результаты А/А/В теста\n",
    "    - определить количество пользователей в группах и проверить есть ли статистически значимая разница между выборками 246 и 247\n",
    "    - определить самое популярное событие и число пользователей, совершивших это событие в каждой из контрольных групп\n",
    "    - посчитать долю пользователей, совершивших это событие. Проверить, будет ли отличие между группами статистически достоверным. Повторить для остальных событий. Определить корректно ли проведено разбиение на группы?\n",
    "    - произвести те же операции с группой с изменённым шрифтом. Сравнить результаты с каждой из контрольных групп в отдельности по каждому событию и с объединённой контрольной группой. Сделать выводы"
   ]
  },
  {
   "cell_type": "markdown",
   "metadata": {},
   "source": [
    "## Загрузка данных"
   ]
  },
  {
   "cell_type": "markdown",
   "metadata": {},
   "source": [
    "Нам предоставлена таблица с логами. Каждая запись в логе — это действие пользователя, или событие.\n",
    "Согласно технической документации в таблце имееются следующие столбцы:\n",
    "- `EventName` — название события;\n",
    "- `DeviceIDHash` — уникальный идентификатор пользователя;\n",
    "- `EventTimestamp` — время события;\n",
    "- `ExpId` — номер эксперимента: 246 и 247 — контрольные группы, а 248 — экспериментальная."
   ]
  },
  {
   "cell_type": "markdown",
   "metadata": {},
   "source": [
    "Импортируем необходимые библиотеки и откроем таблицу"
   ]
  },
  {
   "cell_type": "code",
   "execution_count": 1,
   "metadata": {},
   "outputs": [],
   "source": [
    "import pandas as pd\n",
    "import numpy as np\n",
    "from datetime import datetime, timedelta\n",
    "\n",
    "from plotly import graph_objects as go\n",
    "import plotly.express as px\n",
    "import plotly.io as pio\n",
    "pio.renderers.default = \"png\"\n",
    "\n",
    "import matplotlib.pyplot as plt\n",
    "import seaborn as sns\n",
    "\n",
    "from scipy import stats as st\n",
    "import math as mth"
   ]
  },
  {
   "cell_type": "code",
   "execution_count": 2,
   "metadata": {},
   "outputs": [],
   "source": [
    "import warnings\n",
    "warnings.filterwarnings(\"ignore\")"
   ]
  },
  {
   "cell_type": "code",
   "execution_count": 3,
   "metadata": {},
   "outputs": [],
   "source": [
    "try:\n",
    "    logs = pd.read_csv('logs_exp.csv', sep='\\t')\n",
    "except:\n",
    "    logs = pd.read_csv('/Users/ASUS/Учебные проекты/9_Сборный 2/logs_exp.csv', sep='\\t')"
   ]
  },
  {
   "cell_type": "code",
   "execution_count": 4,
   "metadata": {},
   "outputs": [],
   "source": [
    "def data_info(data):\n",
    "    data.columns = data.columns.str.lower()\n",
    "    display(data.head())\n",
    "    print('*' * 90)\n",
    "    data.info()\n",
    "    print('*' * 90)\n",
    "    print(f' Количество явных дубликатов - {data.duplicated().sum()}');"
   ]
  },
  {
   "cell_type": "code",
   "execution_count": 5,
   "metadata": {},
   "outputs": [
    {
     "data": {
      "text/html": [
       "<div>\n",
       "<style scoped>\n",
       "    .dataframe tbody tr th:only-of-type {\n",
       "        vertical-align: middle;\n",
       "    }\n",
       "\n",
       "    .dataframe tbody tr th {\n",
       "        vertical-align: top;\n",
       "    }\n",
       "\n",
       "    .dataframe thead th {\n",
       "        text-align: right;\n",
       "    }\n",
       "</style>\n",
       "<table border=\"1\" class=\"dataframe\">\n",
       "  <thead>\n",
       "    <tr style=\"text-align: right;\">\n",
       "      <th></th>\n",
       "      <th>eventname</th>\n",
       "      <th>deviceidhash</th>\n",
       "      <th>eventtimestamp</th>\n",
       "      <th>expid</th>\n",
       "    </tr>\n",
       "  </thead>\n",
       "  <tbody>\n",
       "    <tr>\n",
       "      <th>0</th>\n",
       "      <td>MainScreenAppear</td>\n",
       "      <td>4575588528974610257</td>\n",
       "      <td>1564029816</td>\n",
       "      <td>246</td>\n",
       "    </tr>\n",
       "    <tr>\n",
       "      <th>1</th>\n",
       "      <td>MainScreenAppear</td>\n",
       "      <td>7416695313311560658</td>\n",
       "      <td>1564053102</td>\n",
       "      <td>246</td>\n",
       "    </tr>\n",
       "    <tr>\n",
       "      <th>2</th>\n",
       "      <td>PaymentScreenSuccessful</td>\n",
       "      <td>3518123091307005509</td>\n",
       "      <td>1564054127</td>\n",
       "      <td>248</td>\n",
       "    </tr>\n",
       "    <tr>\n",
       "      <th>3</th>\n",
       "      <td>CartScreenAppear</td>\n",
       "      <td>3518123091307005509</td>\n",
       "      <td>1564054127</td>\n",
       "      <td>248</td>\n",
       "    </tr>\n",
       "    <tr>\n",
       "      <th>4</th>\n",
       "      <td>PaymentScreenSuccessful</td>\n",
       "      <td>6217807653094995999</td>\n",
       "      <td>1564055322</td>\n",
       "      <td>248</td>\n",
       "    </tr>\n",
       "  </tbody>\n",
       "</table>\n",
       "</div>"
      ],
      "text/plain": [
       "                 eventname         deviceidhash  eventtimestamp  expid\n",
       "0         MainScreenAppear  4575588528974610257      1564029816    246\n",
       "1         MainScreenAppear  7416695313311560658      1564053102    246\n",
       "2  PaymentScreenSuccessful  3518123091307005509      1564054127    248\n",
       "3         CartScreenAppear  3518123091307005509      1564054127    248\n",
       "4  PaymentScreenSuccessful  6217807653094995999      1564055322    248"
      ]
     },
     "metadata": {},
     "output_type": "display_data"
    },
    {
     "name": "stdout",
     "output_type": "stream",
     "text": [
      "******************************************************************************************\n",
      "<class 'pandas.core.frame.DataFrame'>\n",
      "RangeIndex: 244126 entries, 0 to 244125\n",
      "Data columns (total 4 columns):\n",
      " #   Column          Non-Null Count   Dtype \n",
      "---  ------          --------------   ----- \n",
      " 0   eventname       244126 non-null  object\n",
      " 1   deviceidhash    244126 non-null  int64 \n",
      " 2   eventtimestamp  244126 non-null  int64 \n",
      " 3   expid           244126 non-null  int64 \n",
      "dtypes: int64(3), object(1)\n",
      "memory usage: 7.5+ MB\n",
      "******************************************************************************************\n",
      " Количество явных дубликатов - 413\n"
     ]
    }
   ],
   "source": [
    "data_info(logs)"
   ]
  },
  {
   "cell_type": "markdown",
   "metadata": {},
   "source": [
    "### Выводы"
   ]
  },
  {
   "cell_type": "markdown",
   "metadata": {},
   "source": [
    "Видим, что\n",
    "- записей очень много - 244 тыс.\n",
    "- названия столбцов плохо читаемы, т.к. был использован camel case\n",
    "- имеются явные дубликаты\n",
    "- какой-то набор цифр в столбце с датой\n",
    "- пропуски отсутствуют\n",
    "\n",
    "Вышеперечисленные проблемы устраним в следующем разделе"
   ]
  },
  {
   "cell_type": "markdown",
   "metadata": {},
   "source": [
    "## Подготовка данных к анализу"
   ]
  },
  {
   "cell_type": "markdown",
   "metadata": {},
   "source": [
    "Переименуем столбцы"
   ]
  },
  {
   "cell_type": "code",
   "execution_count": 6,
   "metadata": {},
   "outputs": [],
   "source": [
    "logs.columns = ['event', 'user', 'dt', 'group']"
   ]
  },
  {
   "cell_type": "markdown",
   "metadata": {},
   "source": [
    "Поменяем тип данных в столбце с датами в datetime64. Судя по числам в столбце `event_dt` дата события указана в секундах, отсчитанных от 1го января 1970. Учтем это при переводе"
   ]
  },
  {
   "cell_type": "code",
   "execution_count": 7,
   "metadata": {},
   "outputs": [],
   "source": [
    "logs['dt'] = pd.to_datetime(logs['dt'], unit='s')"
   ]
  },
  {
   "cell_type": "markdown",
   "metadata": {},
   "source": [
    "Выделим дату в отдельный столбец"
   ]
  },
  {
   "cell_type": "code",
   "execution_count": 8,
   "metadata": {},
   "outputs": [],
   "source": [
    "logs['date'] = logs['dt'].dt.date"
   ]
  },
  {
   "cell_type": "markdown",
   "metadata": {},
   "source": [
    "Определим количество дубликатов в данных"
   ]
  },
  {
   "cell_type": "code",
   "execution_count": 9,
   "metadata": {},
   "outputs": [
    {
     "data": {
      "text/plain": [
       "413"
      ]
     },
     "execution_count": 9,
     "metadata": {},
     "output_type": "execute_result"
    }
   ],
   "source": [
    "logs.duplicated().sum()"
   ]
  },
  {
   "cell_type": "markdown",
   "metadata": {},
   "source": [
    "Удалим дубликаты"
   ]
  },
  {
   "cell_type": "code",
   "execution_count": 10,
   "metadata": {},
   "outputs": [],
   "source": [
    "logs = logs.drop_duplicates().reset_index()"
   ]
  },
  {
   "cell_type": "markdown",
   "metadata": {},
   "source": [
    "Проверим кокрректность наших действий"
   ]
  },
  {
   "cell_type": "code",
   "execution_count": 11,
   "metadata": {},
   "outputs": [
    {
     "name": "stdout",
     "output_type": "stream",
     "text": [
      "<class 'pandas.core.frame.DataFrame'>\n",
      "RangeIndex: 243713 entries, 0 to 243712\n",
      "Data columns (total 6 columns):\n",
      " #   Column  Non-Null Count   Dtype         \n",
      "---  ------  --------------   -----         \n",
      " 0   index   243713 non-null  int64         \n",
      " 1   event   243713 non-null  object        \n",
      " 2   user    243713 non-null  int64         \n",
      " 3   dt      243713 non-null  datetime64[ns]\n",
      " 4   group   243713 non-null  int64         \n",
      " 5   date    243713 non-null  object        \n",
      "dtypes: datetime64[ns](1), int64(3), object(2)\n",
      "memory usage: 11.2+ MB\n"
     ]
    }
   ],
   "source": [
    "logs.info()"
   ]
  },
  {
   "cell_type": "code",
   "execution_count": 12,
   "metadata": {},
   "outputs": [
    {
     "data": {
      "text/html": [
       "<div>\n",
       "<style scoped>\n",
       "    .dataframe tbody tr th:only-of-type {\n",
       "        vertical-align: middle;\n",
       "    }\n",
       "\n",
       "    .dataframe tbody tr th {\n",
       "        vertical-align: top;\n",
       "    }\n",
       "\n",
       "    .dataframe thead th {\n",
       "        text-align: right;\n",
       "    }\n",
       "</style>\n",
       "<table border=\"1\" class=\"dataframe\">\n",
       "  <thead>\n",
       "    <tr style=\"text-align: right;\">\n",
       "      <th></th>\n",
       "      <th>index</th>\n",
       "      <th>event</th>\n",
       "      <th>user</th>\n",
       "      <th>dt</th>\n",
       "      <th>group</th>\n",
       "      <th>date</th>\n",
       "    </tr>\n",
       "  </thead>\n",
       "  <tbody>\n",
       "    <tr>\n",
       "      <th>0</th>\n",
       "      <td>0</td>\n",
       "      <td>MainScreenAppear</td>\n",
       "      <td>4575588528974610257</td>\n",
       "      <td>2019-07-25 04:43:36</td>\n",
       "      <td>246</td>\n",
       "      <td>2019-07-25</td>\n",
       "    </tr>\n",
       "    <tr>\n",
       "      <th>1</th>\n",
       "      <td>1</td>\n",
       "      <td>MainScreenAppear</td>\n",
       "      <td>7416695313311560658</td>\n",
       "      <td>2019-07-25 11:11:42</td>\n",
       "      <td>246</td>\n",
       "      <td>2019-07-25</td>\n",
       "    </tr>\n",
       "    <tr>\n",
       "      <th>2</th>\n",
       "      <td>2</td>\n",
       "      <td>PaymentScreenSuccessful</td>\n",
       "      <td>3518123091307005509</td>\n",
       "      <td>2019-07-25 11:28:47</td>\n",
       "      <td>248</td>\n",
       "      <td>2019-07-25</td>\n",
       "    </tr>\n",
       "    <tr>\n",
       "      <th>3</th>\n",
       "      <td>3</td>\n",
       "      <td>CartScreenAppear</td>\n",
       "      <td>3518123091307005509</td>\n",
       "      <td>2019-07-25 11:28:47</td>\n",
       "      <td>248</td>\n",
       "      <td>2019-07-25</td>\n",
       "    </tr>\n",
       "    <tr>\n",
       "      <th>4</th>\n",
       "      <td>4</td>\n",
       "      <td>PaymentScreenSuccessful</td>\n",
       "      <td>6217807653094995999</td>\n",
       "      <td>2019-07-25 11:48:42</td>\n",
       "      <td>248</td>\n",
       "      <td>2019-07-25</td>\n",
       "    </tr>\n",
       "  </tbody>\n",
       "</table>\n",
       "</div>"
      ],
      "text/plain": [
       "   index                    event                 user                  dt  \\\n",
       "0      0         MainScreenAppear  4575588528974610257 2019-07-25 04:43:36   \n",
       "1      1         MainScreenAppear  7416695313311560658 2019-07-25 11:11:42   \n",
       "2      2  PaymentScreenSuccessful  3518123091307005509 2019-07-25 11:28:47   \n",
       "3      3         CartScreenAppear  3518123091307005509 2019-07-25 11:28:47   \n",
       "4      4  PaymentScreenSuccessful  6217807653094995999 2019-07-25 11:48:42   \n",
       "\n",
       "   group        date  \n",
       "0    246  2019-07-25  \n",
       "1    246  2019-07-25  \n",
       "2    248  2019-07-25  \n",
       "3    248  2019-07-25  \n",
       "4    248  2019-07-25  "
      ]
     },
     "execution_count": 12,
     "metadata": {},
     "output_type": "execute_result"
    }
   ],
   "source": [
    "logs.head()"
   ]
  },
  {
   "cell_type": "markdown",
   "metadata": {},
   "source": [
    "Проверим какие имеются значения в столбцах с категориальными данными"
   ]
  },
  {
   "cell_type": "code",
   "execution_count": 13,
   "metadata": {},
   "outputs": [
    {
     "data": {
      "text/plain": [
       "array(['MainScreenAppear', 'PaymentScreenSuccessful', 'CartScreenAppear',\n",
       "       'OffersScreenAppear', 'Tutorial'], dtype=object)"
      ]
     },
     "execution_count": 13,
     "metadata": {},
     "output_type": "execute_result"
    }
   ],
   "source": [
    "logs['event'].unique()"
   ]
  },
  {
   "cell_type": "code",
   "execution_count": 14,
   "metadata": {},
   "outputs": [
    {
     "data": {
      "text/plain": [
       "array([246, 248, 247], dtype=int64)"
      ]
     },
     "execution_count": 14,
     "metadata": {},
     "output_type": "execute_result"
    }
   ],
   "source": [
    "logs['group'].unique()"
   ]
  },
  {
   "cell_type": "markdown",
   "metadata": {},
   "source": [
    "Количество и номера групп экспериментов совпадают с указанными в задании"
   ]
  },
  {
   "cell_type": "markdown",
   "metadata": {},
   "source": [
    "### Выводы"
   ]
  },
  {
   "cell_type": "markdown",
   "metadata": {},
   "source": [
    "Были произведены следующие действия:\n",
    "1. изменили названия столбцов\n",
    "2. скорректировали типы данных\n",
    "3. выделили дату в отдельный столбец\n",
    "4. удалили явные дубликаты\n",
    "5. убедились в правильности номеров групп экспериментов\n",
    "\n",
    "Можем продолжать исследование"
   ]
  },
  {
   "cell_type": "markdown",
   "metadata": {},
   "source": [
    "## Изучение данных"
   ]
  },
  {
   "cell_type": "markdown",
   "metadata": {},
   "source": [
    "Определим количество событий и количество уникальных пользователей"
   ]
  },
  {
   "cell_type": "code",
   "execution_count": 15,
   "metadata": {},
   "outputs": [
    {
     "data": {
      "text/plain": [
       "event    243713\n",
       "user       7551\n",
       "dtype: int64"
      ]
     },
     "execution_count": 15,
     "metadata": {},
     "output_type": "execute_result"
    }
   ],
   "source": [
    "logs.agg({'event' : 'count', 'user' : 'nunique'})"
   ]
  },
  {
   "cell_type": "markdown",
   "metadata": {},
   "source": [
    "Определим, сколько в среднем событий приходится на пользователя."
   ]
  },
  {
   "cell_type": "code",
   "execution_count": 16,
   "metadata": {
    "scrolled": true
   },
   "outputs": [
    {
     "data": {
      "text/plain": [
       "count    7551.000000\n",
       "mean       32.275593\n",
       "std        65.154219\n",
       "min         1.000000\n",
       "25%         9.000000\n",
       "50%        20.000000\n",
       "75%        37.000000\n",
       "max      2307.000000\n",
       "Name: event, dtype: float64"
      ]
     },
     "execution_count": 16,
     "metadata": {},
     "output_type": "execute_result"
    }
   ],
   "source": [
    "logs.groupby('user')['event'].count().describe()"
   ]
  },
  {
   "cell_type": "markdown",
   "metadata": {},
   "source": [
    "Получается порядка 32 событий. Также наблюдаем аномальное максимальное значение - 2300 событий. Похоже, на выброс"
   ]
  },
  {
   "cell_type": "markdown",
   "metadata": {},
   "source": [
    "Посмотрим, как распределено количество событий в группах"
   ]
  },
  {
   "cell_type": "code",
   "execution_count": 17,
   "metadata": {},
   "outputs": [
    {
     "data": {
      "text/plain": [
       "248    85582\n",
       "246    80181\n",
       "247    77950\n",
       "Name: group, dtype: int64"
      ]
     },
     "execution_count": 17,
     "metadata": {},
     "output_type": "execute_result"
    }
   ],
   "source": [
    "logs['group'].value_counts()"
   ]
  },
  {
   "cell_type": "markdown",
   "metadata": {},
   "source": [
    "События  распределены по группам неравномерно. Больше всего событий в группе 248."
   ]
  },
  {
   "cell_type": "markdown",
   "metadata": {},
   "source": [
    "Определим минимальную и максимальную дату, а также промежуток между ними."
   ]
  },
  {
   "cell_type": "code",
   "execution_count": 18,
   "metadata": {},
   "outputs": [
    {
     "data": {
      "text/html": [
       "<div>\n",
       "<style scoped>\n",
       "    .dataframe tbody tr th:only-of-type {\n",
       "        vertical-align: middle;\n",
       "    }\n",
       "\n",
       "    .dataframe tbody tr th {\n",
       "        vertical-align: top;\n",
       "    }\n",
       "\n",
       "    .dataframe thead th {\n",
       "        text-align: right;\n",
       "    }\n",
       "</style>\n",
       "<table border=\"1\" class=\"dataframe\">\n",
       "  <thead>\n",
       "    <tr style=\"text-align: right;\">\n",
       "      <th></th>\n",
       "      <th>dt</th>\n",
       "    </tr>\n",
       "  </thead>\n",
       "  <tbody>\n",
       "    <tr>\n",
       "      <th>min</th>\n",
       "      <td>2019-07-25 04:43:36</td>\n",
       "    </tr>\n",
       "    <tr>\n",
       "      <th>max</th>\n",
       "      <td>2019-08-07 21:15:17</td>\n",
       "    </tr>\n",
       "  </tbody>\n",
       "</table>\n",
       "</div>"
      ],
      "text/plain": [
       "                     dt\n",
       "min 2019-07-25 04:43:36\n",
       "max 2019-08-07 21:15:17"
      ]
     },
     "execution_count": 18,
     "metadata": {},
     "output_type": "execute_result"
    }
   ],
   "source": [
    "logs.agg({'dt' : [min, max]})"
   ]
  },
  {
   "cell_type": "code",
   "execution_count": 19,
   "metadata": {},
   "outputs": [
    {
     "data": {
      "text/plain": [
       "Timedelta('13 days 16:31:41')"
      ]
     },
     "execution_count": 19,
     "metadata": {},
     "output_type": "execute_result"
    }
   ],
   "source": [
    "logs['dt'].max() - logs['dt'].min()"
   ]
  },
  {
   "cell_type": "markdown",
   "metadata": {},
   "source": [
    "Исследование начали 25 июля, а закончили 07 августа. Всего оно длилось почти 2 недели - 13 дней 16 часов."
   ]
  },
  {
   "cell_type": "markdown",
   "metadata": {},
   "source": [
    "Рассмотрим временные промежутки подробнее. Построим гистрограмму по дате и времени"
   ]
  },
  {
   "cell_type": "code",
   "execution_count": 20,
   "metadata": {
    "scrolled": true
   },
   "outputs": [
    {
     "data": {
      "image/png": "[encoded data removed]",
      "text/plain": [
       "<Figure size 1440x432 with 1 Axes>"
      ]
     },
     "metadata": {
      "needs_background": "light"
     },
     "output_type": "display_data"
    }
   ],
   "source": [
    "plt.figure(figsize=(20,6))\n",
    "sns.histplot(logs['dt'], color= 'purple', bins = 329)\n",
    "plt.title('Распределение количества событий по дате и времени', fontsize=16)\n",
    "plt.ylabel('')\n",
    "plt.xlabel('');"
   ]
  },
  {
   "cell_type": "markdown",
   "metadata": {},
   "source": [
    "Наблюдаем следующее:\n",
    "1. до 01 августа (01.08) практически никакой активности в приложении не происходило. Вероятно, о нем еще мало кто знал, еще не была запущена компания по продвижению.\n",
    "2. после 01 августа посещения выросли\n",
    "3. в ночное время приложением почти не пользуются, активность возрастает днем и вечером, что логично, т.к. в это время люди обедают и ужинают. \n",
    "\n",
    "Выводы справедливы при нескольких допущениях:\n",
    "- сервис работает пока только в одном городе или регионе\n",
    "- приложение позволяет сделать заказ круглосуточно\n",
    "\n",
    "Считаю, что данные до 01 августа можно не учитывать в дальнейшем анализе."
   ]
  },
  {
   "cell_type": "markdown",
   "metadata": {},
   "source": [
    "Для удобства дальнейших вычислений создадим переменную с количеством пользователей и событий."
   ]
  },
  {
   "cell_type": "code",
   "execution_count": 21,
   "metadata": {},
   "outputs": [
    {
     "data": {
      "text/plain": [
       "event    243713\n",
       "user       7551\n",
       "dtype: int64"
      ]
     },
     "execution_count": 21,
     "metadata": {},
     "output_type": "execute_result"
    }
   ],
   "source": [
    "logs_count_old = logs.agg({'event' : 'count', 'user' : 'nunique'})\n",
    "logs_count_old"
   ]
  },
  {
   "cell_type": "markdown",
   "metadata": {},
   "source": [
    "Отсекаем лишние данные"
   ]
  },
  {
   "cell_type": "code",
   "execution_count": 22,
   "metadata": {},
   "outputs": [],
   "source": [
    "logs = logs.query('dt >= \"2019-08-01\"')"
   ]
  },
  {
   "cell_type": "markdown",
   "metadata": {},
   "source": [
    "Посмотрим, как поменялась гистограмма"
   ]
  },
  {
   "cell_type": "code",
   "execution_count": 23,
   "metadata": {},
   "outputs": [
    {
     "data": {
      "image/png": "[encoded data removed]",
      "text/plain": [
       "<Figure size 1440x432 with 1 Axes>"
      ]
     },
     "metadata": {
      "needs_background": "light"
     },
     "output_type": "display_data"
    }
   ],
   "source": [
    "plt.figure(figsize=(20,6))\n",
    "sns.histplot(logs['dt'], color= 'purple', bins = 329)\n",
    "plt.title('Распределение количества событий по дате и времени', fontsize=16)\n",
    "plt.xlabel('')\n",
    "plt.ylabel('');"
   ]
  },
  {
   "cell_type": "markdown",
   "metadata": {},
   "source": [
    "Всего выходит одна неделя. Проверим присутствуют ли пользователи всех групп в этом временном промежутке. Предполагаю, что да, т.к. не так уж много данных было отсечено."
   ]
  },
  {
   "cell_type": "code",
   "execution_count": 24,
   "metadata": {},
   "outputs": [
    {
     "data": {
      "text/plain": [
       "event    240887\n",
       "user       7534\n",
       "dtype: int64"
      ]
     },
     "execution_count": 24,
     "metadata": {},
     "output_type": "execute_result"
    }
   ],
   "source": [
    "logs.agg({'event' : 'count', 'user' : 'nunique'})"
   ]
  },
  {
   "cell_type": "code",
   "execution_count": 25,
   "metadata": {},
   "outputs": [
    {
     "data": {
      "text/html": [
       "<div>\n",
       "<style scoped>\n",
       "    .dataframe tbody tr th:only-of-type {\n",
       "        vertical-align: middle;\n",
       "    }\n",
       "\n",
       "    .dataframe tbody tr th {\n",
       "        vertical-align: top;\n",
       "    }\n",
       "\n",
       "    .dataframe thead th {\n",
       "        text-align: right;\n",
       "    }\n",
       "</style>\n",
       "<table border=\"1\" class=\"dataframe\">\n",
       "  <thead>\n",
       "    <tr style=\"text-align: right;\">\n",
       "      <th></th>\n",
       "      <th>name</th>\n",
       "      <th>count</th>\n",
       "    </tr>\n",
       "  </thead>\n",
       "  <tbody>\n",
       "    <tr>\n",
       "      <th>0</th>\n",
       "      <td>event</td>\n",
       "      <td>2826</td>\n",
       "    </tr>\n",
       "    <tr>\n",
       "      <th>1</th>\n",
       "      <td>user</td>\n",
       "      <td>17</td>\n",
       "    </tr>\n",
       "  </tbody>\n",
       "</table>\n",
       "</div>"
      ],
      "text/plain": [
       "    name  count\n",
       "0  event   2826\n",
       "1   user     17"
      ]
     },
     "execution_count": 25,
     "metadata": {},
     "output_type": "execute_result"
    }
   ],
   "source": [
    "changes = (logs_count_old - logs.agg({'event' : 'count', 'user' : 'nunique'})).reset_index()\n",
    "changes.columns = ['name', 'count']\n",
    "changes"
   ]
  },
  {
   "cell_type": "markdown",
   "metadata": {},
   "source": [
    "Мы получили абсолютные значения, теперь посчитаем, насколько уменшилось количество пользователей и событий в относительных единицах"
   ]
  },
  {
   "cell_type": "code",
   "execution_count": 26,
   "metadata": {},
   "outputs": [
    {
     "data": {
      "text/plain": [
       "'1.16%'"
      ]
     },
     "execution_count": 26,
     "metadata": {},
     "output_type": "execute_result"
    }
   ],
   "source": [
    "\"{:.2%}\".format(changes.loc[0,'count'] / logs_count_old[0])"
   ]
  },
  {
   "cell_type": "code",
   "execution_count": 27,
   "metadata": {},
   "outputs": [
    {
     "data": {
      "text/plain": [
       "'0.23%'"
      ]
     },
     "execution_count": 27,
     "metadata": {},
     "output_type": "execute_result"
    }
   ],
   "source": [
    "\"{:.2%}\".format(changes.loc[1,'count'] / logs_count_old[1])"
   ]
  },
  {
   "cell_type": "markdown",
   "metadata": {},
   "source": [
    "Было отсечено 17 пользователей (0,2% от изначального количества) и 2826 событий ( 1,1% от изначального количества)"
   ]
  },
  {
   "cell_type": "code",
   "execution_count": 28,
   "metadata": {},
   "outputs": [
    {
     "data": {
      "text/plain": [
       "248    84563\n",
       "246    79302\n",
       "247    77022\n",
       "Name: group, dtype: int64"
      ]
     },
     "execution_count": 28,
     "metadata": {},
     "output_type": "execute_result"
    }
   ],
   "source": [
    "logs['group'].value_counts()"
   ]
  },
  {
   "cell_type": "markdown",
   "metadata": {},
   "source": [
    "Все группы присутствуют в выборке. В группе 248 по-прежнему больше всего событий."
   ]
  },
  {
   "cell_type": "markdown",
   "metadata": {},
   "source": [
    "### Выводы"
   ]
  },
  {
   "cell_type": "markdown",
   "metadata": {},
   "source": [
    "- Изучили количественные показатели\n",
    "- Определили временной промежуток проведения эксперимента - с 25 июля по 07 августа\n",
    "- Определили, что наибольшая активность пользователей происходит в дневное и вечернее время\n",
    "- Отсекли лишние данные до 01 августа. При этом ушло 0,23% пользователей и 1,16% событий"
   ]
  },
  {
   "cell_type": "markdown",
   "metadata": {},
   "source": [
    "##  Изучение воронки событий"
   ]
  },
  {
   "cell_type": "markdown",
   "metadata": {},
   "source": [
    "В логах представлены следюущие события"
   ]
  },
  {
   "cell_type": "code",
   "execution_count": 29,
   "metadata": {},
   "outputs": [
    {
     "data": {
      "text/plain": [
       "array(['Tutorial', 'MainScreenAppear', 'OffersScreenAppear',\n",
       "       'CartScreenAppear', 'PaymentScreenSuccessful'], dtype=object)"
      ]
     },
     "execution_count": 29,
     "metadata": {},
     "output_type": "execute_result"
    }
   ],
   "source": [
    "logs['event'].unique()"
   ]
  },
  {
   "cell_type": "markdown",
   "metadata": {},
   "source": [
    "Предположим, что означают данные события по их названию\n",
    "- **Tutorial** экран с вводной частью, обучением\n",
    "- **MainScreenAppear** появление главного экрана (страницы). Первое, что видит пользователь при открытии приложения\n",
    "- **OffersScreenAppear** появление экрана с предложениями, похожими запросами\n",
    "- **CartScreenAppear** появление экрана с корзиной\n",
    "- **PaymentScreenSuccessful** экран, сообщающий об успешной оплате"
   ]
  },
  {
   "cell_type": "markdown",
   "metadata": {},
   "source": [
    "Определим, сколько раз каждое событие повторяется в эксперименте."
   ]
  },
  {
   "cell_type": "code",
   "execution_count": 30,
   "metadata": {},
   "outputs": [
    {
     "data": {
      "text/html": [
       "<div>\n",
       "<style scoped>\n",
       "    .dataframe tbody tr th:only-of-type {\n",
       "        vertical-align: middle;\n",
       "    }\n",
       "\n",
       "    .dataframe tbody tr th {\n",
       "        vertical-align: top;\n",
       "    }\n",
       "\n",
       "    .dataframe thead th {\n",
       "        text-align: right;\n",
       "    }\n",
       "</style>\n",
       "<table border=\"1\" class=\"dataframe\">\n",
       "  <thead>\n",
       "    <tr style=\"text-align: right;\">\n",
       "      <th></th>\n",
       "      <th>index</th>\n",
       "      <th>event</th>\n",
       "    </tr>\n",
       "  </thead>\n",
       "  <tbody>\n",
       "    <tr>\n",
       "      <th>0</th>\n",
       "      <td>MainScreenAppear</td>\n",
       "      <td>117328</td>\n",
       "    </tr>\n",
       "    <tr>\n",
       "      <th>1</th>\n",
       "      <td>OffersScreenAppear</td>\n",
       "      <td>46333</td>\n",
       "    </tr>\n",
       "    <tr>\n",
       "      <th>2</th>\n",
       "      <td>CartScreenAppear</td>\n",
       "      <td>42303</td>\n",
       "    </tr>\n",
       "    <tr>\n",
       "      <th>3</th>\n",
       "      <td>PaymentScreenSuccessful</td>\n",
       "      <td>33918</td>\n",
       "    </tr>\n",
       "    <tr>\n",
       "      <th>4</th>\n",
       "      <td>Tutorial</td>\n",
       "      <td>1005</td>\n",
       "    </tr>\n",
       "  </tbody>\n",
       "</table>\n",
       "</div>"
      ],
      "text/plain": [
       "                     index   event\n",
       "0         MainScreenAppear  117328\n",
       "1       OffersScreenAppear   46333\n",
       "2         CartScreenAppear   42303\n",
       "3  PaymentScreenSuccessful   33918\n",
       "4                 Tutorial    1005"
      ]
     },
     "execution_count": 30,
     "metadata": {},
     "output_type": "execute_result"
    }
   ],
   "source": [
    "logs['event'].value_counts().reset_index()"
   ]
  },
  {
   "cell_type": "markdown",
   "metadata": {},
   "source": [
    "Видим, что чаще всего были произвдены переходы на главный кран. Пока всё логично\n",
    "\n",
    "Посмотрим, сколько и какая доля пользователей выполнило каждое из этих событий. Предварительно посчитаем количество уникальных пользователей."
   ]
  },
  {
   "cell_type": "code",
   "execution_count": 31,
   "metadata": {},
   "outputs": [
    {
     "name": "stdout",
     "output_type": "stream",
     "text": [
      "Общее количество уникальных пользоваелей - 7534\n"
     ]
    }
   ],
   "source": [
    "total_users = logs['user'].nunique()\n",
    "print('Общее количество уникальных пользоваелей -', total_users)"
   ]
  },
  {
   "cell_type": "code",
   "execution_count": 32,
   "metadata": {},
   "outputs": [],
   "source": [
    "user_count = logs.groupby('event').agg({'user' : 'nunique'}).sort_values('user', ascending=False).reset_index()\n",
    "user_count.columns = ['name', 'users']\n",
    "user_count['rate'] = user_count['users'] / total_users"
   ]
  },
  {
   "cell_type": "code",
   "execution_count": 33,
   "metadata": {},
   "outputs": [
    {
     "data": {
      "text/html": [
       "<div>\n",
       "<style scoped>\n",
       "    .dataframe tbody tr th:only-of-type {\n",
       "        vertical-align: middle;\n",
       "    }\n",
       "\n",
       "    .dataframe tbody tr th {\n",
       "        vertical-align: top;\n",
       "    }\n",
       "\n",
       "    .dataframe thead th {\n",
       "        text-align: right;\n",
       "    }\n",
       "</style>\n",
       "<table border=\"1\" class=\"dataframe\">\n",
       "  <thead>\n",
       "    <tr style=\"text-align: right;\">\n",
       "      <th></th>\n",
       "      <th>name</th>\n",
       "      <th>users</th>\n",
       "      <th>rate</th>\n",
       "    </tr>\n",
       "  </thead>\n",
       "  <tbody>\n",
       "    <tr>\n",
       "      <th>0</th>\n",
       "      <td>MainScreenAppear</td>\n",
       "      <td>7419</td>\n",
       "      <td>0.984736</td>\n",
       "    </tr>\n",
       "    <tr>\n",
       "      <th>1</th>\n",
       "      <td>OffersScreenAppear</td>\n",
       "      <td>4593</td>\n",
       "      <td>0.609636</td>\n",
       "    </tr>\n",
       "    <tr>\n",
       "      <th>2</th>\n",
       "      <td>CartScreenAppear</td>\n",
       "      <td>3734</td>\n",
       "      <td>0.495620</td>\n",
       "    </tr>\n",
       "    <tr>\n",
       "      <th>3</th>\n",
       "      <td>PaymentScreenSuccessful</td>\n",
       "      <td>3539</td>\n",
       "      <td>0.469737</td>\n",
       "    </tr>\n",
       "    <tr>\n",
       "      <th>4</th>\n",
       "      <td>Tutorial</td>\n",
       "      <td>840</td>\n",
       "      <td>0.111495</td>\n",
       "    </tr>\n",
       "  </tbody>\n",
       "</table>\n",
       "</div>"
      ],
      "text/plain": [
       "                      name  users      rate\n",
       "0         MainScreenAppear   7419  0.984736\n",
       "1       OffersScreenAppear   4593  0.609636\n",
       "2         CartScreenAppear   3734  0.495620\n",
       "3  PaymentScreenSuccessful   3539  0.469737\n",
       "4                 Tutorial    840  0.111495"
      ]
     },
     "execution_count": 33,
     "metadata": {},
     "output_type": "execute_result"
    }
   ],
   "source": [
    "user_count"
   ]
  },
  {
   "cell_type": "markdown",
   "metadata": {},
   "source": [
    "Предположим последовательность данных событий:\n",
    "1. **MainScreenAppear**\n",
    "2. **OffersScreenAppear**\n",
    "3. **CartScreenAppear**\n",
    "4. **PaymentScreenSuccessful**\n",
    "**Tutorial** никак связан с остальными событиями, вероятно попал в выборку по ошибке. Если бы для доступа к другим функциям необходимо было пройти некое обучение, то данное событие производилось бы намного чаще.\n",
    "\n",
    "Перед построением воронки уберем строки с событием **Tutorial**"
   ]
  },
  {
   "cell_type": "code",
   "execution_count": 34,
   "metadata": {},
   "outputs": [
    {
     "data": {
      "image/png": "[encoded data removed]"
     },
     "metadata": {},
     "output_type": "display_data"
    }
   ],
   "source": [
    "user_count = user_count.query('name != \"Tutorial\"')\n",
    "\n",
    "fig = go.Figure(go.Funnel(\n",
    "        y=user_count['name'],\n",
    "        x=user_count['users'],\n",
    "        textposition = \"inside\",\n",
    "        textinfo = \"value+percent previous+percent initial\")\n",
    ")\n",
    "fig.update_layout(title_text='Воронка событий',\n",
    "                   paper_bgcolor='rgba(0,0,0,0)',\n",
    "                   plot_bgcolor='rgba(0,0,0,0)')\n",
    "fig.show()"
   ]
  },
  {
   "cell_type": "code",
   "execution_count": 35,
   "metadata": {},
   "outputs": [],
   "source": [
    "user_count['previous'] = user_count['users'] / user_count['users'].shift(1, fill_value= 7419)"
   ]
  },
  {
   "cell_type": "code",
   "execution_count": 36,
   "metadata": {},
   "outputs": [
    {
     "data": {
      "text/html": [
       "<div>\n",
       "<style scoped>\n",
       "    .dataframe tbody tr th:only-of-type {\n",
       "        vertical-align: middle;\n",
       "    }\n",
       "\n",
       "    .dataframe tbody tr th {\n",
       "        vertical-align: top;\n",
       "    }\n",
       "\n",
       "    .dataframe thead th {\n",
       "        text-align: right;\n",
       "    }\n",
       "</style>\n",
       "<table border=\"1\" class=\"dataframe\">\n",
       "  <thead>\n",
       "    <tr style=\"text-align: right;\">\n",
       "      <th></th>\n",
       "      <th>name</th>\n",
       "      <th>users</th>\n",
       "      <th>rate</th>\n",
       "      <th>previous</th>\n",
       "    </tr>\n",
       "  </thead>\n",
       "  <tbody>\n",
       "    <tr>\n",
       "      <th>0</th>\n",
       "      <td>MainScreenAppear</td>\n",
       "      <td>7419</td>\n",
       "      <td>0.984736</td>\n",
       "      <td>1.000000</td>\n",
       "    </tr>\n",
       "    <tr>\n",
       "      <th>1</th>\n",
       "      <td>OffersScreenAppear</td>\n",
       "      <td>4593</td>\n",
       "      <td>0.609636</td>\n",
       "      <td>0.619086</td>\n",
       "    </tr>\n",
       "    <tr>\n",
       "      <th>2</th>\n",
       "      <td>CartScreenAppear</td>\n",
       "      <td>3734</td>\n",
       "      <td>0.495620</td>\n",
       "      <td>0.812976</td>\n",
       "    </tr>\n",
       "    <tr>\n",
       "      <th>3</th>\n",
       "      <td>PaymentScreenSuccessful</td>\n",
       "      <td>3539</td>\n",
       "      <td>0.469737</td>\n",
       "      <td>0.947777</td>\n",
       "    </tr>\n",
       "  </tbody>\n",
       "</table>\n",
       "</div>"
      ],
      "text/plain": [
       "                      name  users      rate  previous\n",
       "0         MainScreenAppear   7419  0.984736  1.000000\n",
       "1       OffersScreenAppear   4593  0.609636  0.619086\n",
       "2         CartScreenAppear   3734  0.495620  0.812976\n",
       "3  PaymentScreenSuccessful   3539  0.469737  0.947777"
      ]
     },
     "execution_count": 36,
     "metadata": {},
     "output_type": "execute_result"
    }
   ],
   "source": [
    "user_count"
   ]
  },
  {
   "cell_type": "markdown",
   "metadata": {},
   "source": [
    "Из воронки событий видим, что за исключением первой ступени, процент пользователей, которые переходят с одного этапа на другой, сохраняется достаточно высоким. \n",
    "61,9% пользователей,открывших главный экран(по сути включивших приложение), перешли на страницу с предложениями.\n",
    "Из них 81,3% перешли в корзину, из которых 94,8% оплатили свой заказ.\n",
    "\n",
    "Наблюдаем очень хорошую конверсию - 48% пользователей, запустивших приложение, сделали заказ.\n",
    "\n",
    "Больше всего пользователей теряем на первом шаге. Возможно, что-то не так с главным экраном: слишком маленькие кнопочки, вырвиглазный дизайн, сложная йерархия разделов."
   ]
  },
  {
   "cell_type": "markdown",
   "metadata": {},
   "source": [
    "## Изучение результатов эксперимента"
   ]
  },
  {
   "cell_type": "markdown",
   "metadata": {},
   "source": [
    "### Количество пользователей в каждой группе"
   ]
  },
  {
   "cell_type": "markdown",
   "metadata": {},
   "source": [
    "Определим количество пользователей в каждой экспериментальной группе и долю от общего количества"
   ]
  },
  {
   "cell_type": "code",
   "execution_count": 37,
   "metadata": {},
   "outputs": [],
   "source": [
    "user_group = logs.query('event != \"Tutorial\"').groupby('group').agg({'user' : 'nunique'}).reset_index()\n",
    "user_group.columns = ['group', 'users']\n",
    "total_users = user_group['users'].sum()\n",
    "user_group['rate'] = (user_group['users'] / total_users).map(\"{:.2%}\".format)"
   ]
  },
  {
   "cell_type": "code",
   "execution_count": 38,
   "metadata": {},
   "outputs": [
    {
     "data": {
      "text/html": [
       "<div>\n",
       "<style scoped>\n",
       "    .dataframe tbody tr th:only-of-type {\n",
       "        vertical-align: middle;\n",
       "    }\n",
       "\n",
       "    .dataframe tbody tr th {\n",
       "        vertical-align: top;\n",
       "    }\n",
       "\n",
       "    .dataframe thead th {\n",
       "        text-align: right;\n",
       "    }\n",
       "</style>\n",
       "<table border=\"1\" class=\"dataframe\">\n",
       "  <thead>\n",
       "    <tr style=\"text-align: right;\">\n",
       "      <th></th>\n",
       "      <th>group</th>\n",
       "      <th>users</th>\n",
       "      <th>rate</th>\n",
       "    </tr>\n",
       "  </thead>\n",
       "  <tbody>\n",
       "    <tr>\n",
       "      <th>0</th>\n",
       "      <td>246</td>\n",
       "      <td>2483</td>\n",
       "      <td>32.97%</td>\n",
       "    </tr>\n",
       "    <tr>\n",
       "      <th>1</th>\n",
       "      <td>247</td>\n",
       "      <td>2512</td>\n",
       "      <td>33.36%</td>\n",
       "    </tr>\n",
       "    <tr>\n",
       "      <th>2</th>\n",
       "      <td>248</td>\n",
       "      <td>2535</td>\n",
       "      <td>33.67%</td>\n",
       "    </tr>\n",
       "  </tbody>\n",
       "</table>\n",
       "</div>"
      ],
      "text/plain": [
       "   group  users    rate\n",
       "0    246   2483  32.97%\n",
       "1    247   2512  33.36%\n",
       "2    248   2535  33.67%"
      ]
     },
     "execution_count": 38,
     "metadata": {},
     "output_type": "execute_result"
    }
   ],
   "source": [
    "user_group"
   ]
  },
  {
   "cell_type": "markdown",
   "metadata": {},
   "source": [
    "Сохраним количество пользователей в каждой группе в отдельную переменную для дальнейших расчетов"
   ]
  },
  {
   "cell_type": "code",
   "execution_count": 39,
   "metadata": {},
   "outputs": [],
   "source": [
    "users_246 = user_group.loc[0,'users']\n",
    "users_247 = user_group.loc[1,'users']\n",
    "users_248 = user_group.loc[2,'users']"
   ]
  },
  {
   "cell_type": "markdown",
   "metadata": {},
   "source": [
    "Построим воронку событий для с разбивкой на экспериментальные группы"
   ]
  },
  {
   "cell_type": "code",
   "execution_count": 40,
   "metadata": {},
   "outputs": [
    {
     "data": {
      "text/html": [
       "<div>\n",
       "<style scoped>\n",
       "    .dataframe tbody tr th:only-of-type {\n",
       "        vertical-align: middle;\n",
       "    }\n",
       "\n",
       "    .dataframe tbody tr th {\n",
       "        vertical-align: top;\n",
       "    }\n",
       "\n",
       "    .dataframe thead th {\n",
       "        text-align: right;\n",
       "    }\n",
       "</style>\n",
       "<table border=\"1\" class=\"dataframe\">\n",
       "  <thead>\n",
       "    <tr style=\"text-align: right;\">\n",
       "      <th></th>\n",
       "      <th>event</th>\n",
       "      <th>246</th>\n",
       "      <th>247</th>\n",
       "      <th>248</th>\n",
       "    </tr>\n",
       "  </thead>\n",
       "  <tbody>\n",
       "    <tr>\n",
       "      <th>1</th>\n",
       "      <td>MainScreenAppear</td>\n",
       "      <td>2450</td>\n",
       "      <td>2476</td>\n",
       "      <td>2493</td>\n",
       "    </tr>\n",
       "    <tr>\n",
       "      <th>2</th>\n",
       "      <td>OffersScreenAppear</td>\n",
       "      <td>1542</td>\n",
       "      <td>1520</td>\n",
       "      <td>1531</td>\n",
       "    </tr>\n",
       "    <tr>\n",
       "      <th>0</th>\n",
       "      <td>CartScreenAppear</td>\n",
       "      <td>1266</td>\n",
       "      <td>1238</td>\n",
       "      <td>1230</td>\n",
       "    </tr>\n",
       "    <tr>\n",
       "      <th>3</th>\n",
       "      <td>PaymentScreenSuccessful</td>\n",
       "      <td>1200</td>\n",
       "      <td>1158</td>\n",
       "      <td>1181</td>\n",
       "    </tr>\n",
       "  </tbody>\n",
       "</table>\n",
       "</div>"
      ],
      "text/plain": [
       "                     event   246   247   248\n",
       "1         MainScreenAppear  2450  2476  2493\n",
       "2       OffersScreenAppear  1542  1520  1531\n",
       "0         CartScreenAppear  1266  1238  1230\n",
       "3  PaymentScreenSuccessful  1200  1158  1181"
      ]
     },
     "execution_count": 40,
     "metadata": {},
     "output_type": "execute_result"
    }
   ],
   "source": [
    "user_count_groups = logs.query('event != \"Tutorial\"').pivot_table(index='event', columns='group', values='user',\n",
    "                                                                aggfunc='nunique').reset_index()\n",
    "user_count_groups.columns = ['event', '246', '247', '248']\n",
    "user_count_groups = user_count_groups.sort_values('246', ascending=False)\n",
    "user_count_groups"
   ]
  },
  {
   "cell_type": "markdown",
   "metadata": {},
   "source": [
    "Интересно, что количество пользователей, перешедших на главный экран не равно количеству всех пользователей в каждой группе. Значит некоторые пользователи не пользовались приложением,а только скачали его."
   ]
  },
  {
   "cell_type": "code",
   "execution_count": 41,
   "metadata": {
    "scrolled": false
   },
   "outputs": [
    {
     "data": {
      "image/png": "[encoded data removed]"
     },
     "metadata": {},
     "output_type": "display_data"
    }
   ],
   "source": [
    "fig2 = go.Figure()\n",
    "\n",
    "fig2.add_trace(go.Funnel(\n",
    "    name = 'Группа 246',\n",
    "    y = user_count_groups['event'],\n",
    "    x = user_count_groups['246'],\n",
    "    textinfo = \"value+percent previous+percent initial\",\n",
    "    marker = {\"color\": [\"seashell\", \"seashell\", \"seashell\", \"seashell\"]}\n",
    "))\n",
    "\n",
    "fig2.add_trace(go.Funnel(\n",
    "    name = 'Группа 247',\n",
    "    orientation = \"h\",\n",
    "    y = user_count_groups['event'],\n",
    "    x = user_count_groups['247'],\n",
    "    textposition = \"inside\",\n",
    "    textinfo = \"value+percent previous+percent initial\",\n",
    "    marker = {\"color\": [\"lavender\", \"lavender\", \"lavender\", \"lavender\"]}\n",
    "))\n",
    "\n",
    "fig2.add_trace(go.Funnel(\n",
    "    name = 'Группа 248',\n",
    "    orientation = \"h\",\n",
    "    y = user_count_groups['event'],\n",
    "    x = user_count_groups['248'],\n",
    "    textposition = \"inside\",\n",
    "    textinfo = \"value+percent previous+percent initial\",\n",
    "    marker = {\"color\": [\"palegreen\", \"palegreen\", \"palegreen\", \"palegreen\"]}\n",
    "))\n",
    "\n",
    "fig2.update_layout(title_text='Воронка событий по группам экспериментов',\n",
    "                   paper_bgcolor='rgba(0,0,0,0)',\n",
    "                   plot_bgcolor='rgba(0,0,0,0)')\n",
    "fig2.show()"
   ]
  },
  {
   "cell_type": "markdown",
   "metadata": {},
   "source": [
    "Видим, что разница в долях между контрольными группами небольшая - не более 1%. Только при переходе с главного экрана на экран с предложениями доли отличаются на 2%. Проверим далее является ли статистически значимой подобная разница"
   ]
  },
  {
   "cell_type": "markdown",
   "metadata": {},
   "source": [
    "### Проверка равенства долей двух контрольных групп"
   ]
  },
  {
   "cell_type": "markdown",
   "metadata": {},
   "source": [
    "Добавим доли пользователей, перешедших с одного экрана на другой, в сводную таблицу. "
   ]
  },
  {
   "cell_type": "code",
   "execution_count": 42,
   "metadata": {},
   "outputs": [
    {
     "data": {
      "text/html": [
       "<div>\n",
       "<style scoped>\n",
       "    .dataframe tbody tr th:only-of-type {\n",
       "        vertical-align: middle;\n",
       "    }\n",
       "\n",
       "    .dataframe tbody tr th {\n",
       "        vertical-align: top;\n",
       "    }\n",
       "\n",
       "    .dataframe thead th {\n",
       "        text-align: right;\n",
       "    }\n",
       "</style>\n",
       "<table border=\"1\" class=\"dataframe\">\n",
       "  <thead>\n",
       "    <tr style=\"text-align: right;\">\n",
       "      <th></th>\n",
       "      <th>event</th>\n",
       "      <th>246</th>\n",
       "      <th>247</th>\n",
       "      <th>248</th>\n",
       "      <th>rate_246</th>\n",
       "      <th>rate_247</th>\n",
       "      <th>rate_248</th>\n",
       "    </tr>\n",
       "  </thead>\n",
       "  <tbody>\n",
       "    <tr>\n",
       "      <th>0</th>\n",
       "      <td>MainScreenAppear</td>\n",
       "      <td>2450</td>\n",
       "      <td>2476</td>\n",
       "      <td>2493</td>\n",
       "      <td>1.935229</td>\n",
       "      <td>2.000000</td>\n",
       "      <td>2.026829</td>\n",
       "    </tr>\n",
       "    <tr>\n",
       "      <th>1</th>\n",
       "      <td>OffersScreenAppear</td>\n",
       "      <td>1542</td>\n",
       "      <td>1520</td>\n",
       "      <td>1531</td>\n",
       "      <td>0.629388</td>\n",
       "      <td>0.613893</td>\n",
       "      <td>0.614120</td>\n",
       "    </tr>\n",
       "    <tr>\n",
       "      <th>2</th>\n",
       "      <td>CartScreenAppear</td>\n",
       "      <td>1266</td>\n",
       "      <td>1238</td>\n",
       "      <td>1230</td>\n",
       "      <td>0.821012</td>\n",
       "      <td>0.814474</td>\n",
       "      <td>0.803396</td>\n",
       "    </tr>\n",
       "    <tr>\n",
       "      <th>3</th>\n",
       "      <td>PaymentScreenSuccessful</td>\n",
       "      <td>1200</td>\n",
       "      <td>1158</td>\n",
       "      <td>1181</td>\n",
       "      <td>0.947867</td>\n",
       "      <td>0.935380</td>\n",
       "      <td>0.960163</td>\n",
       "    </tr>\n",
       "  </tbody>\n",
       "</table>\n",
       "</div>"
      ],
      "text/plain": [
       "                     event   246   247   248  rate_246  rate_247  rate_248\n",
       "0         MainScreenAppear  2450  2476  2493  1.935229  2.000000  2.026829\n",
       "1       OffersScreenAppear  1542  1520  1531  0.629388  0.613893  0.614120\n",
       "2         CartScreenAppear  1266  1238  1230  0.821012  0.814474  0.803396\n",
       "3  PaymentScreenSuccessful  1200  1158  1181  0.947867  0.935380  0.960163"
      ]
     },
     "execution_count": 42,
     "metadata": {},
     "output_type": "execute_result"
    }
   ],
   "source": [
    "user_count_groups['rate_246'] = user_count_groups['246'] / user_count_groups['246'].shift(1,fill_value=user_count_groups.loc[0,'246'])\n",
    "user_count_groups['rate_247'] = user_count_groups['247'] / user_count_groups['247'].shift(1,fill_value=user_count_groups.loc[0,'247'])\n",
    "user_count_groups['rate_248'] = user_count_groups['248'] / user_count_groups['248'].shift(1,fill_value=user_count_groups.loc[0,'248'])\n",
    "user_count_groups.reset_index(drop=True, inplace=True)\n",
    "user_count_groups"
   ]
  },
  {
   "cell_type": "markdown",
   "metadata": {},
   "source": [
    "Определим, есть ли разница в двух контрольных А/А группах - 246 и 247. Для этого проверим гипотезу о равенстве долей двух выборок для каждого изменения экрана.\n",
    "\n",
    "Зададим нулевую и альтернативную гипотезы.\n",
    "\n",
    "H0: доли выборок 246 и 247 равны\n",
    "\n",
    "H1: доли выборок 246 и 247 не равны\n",
    "\n",
    "Уровень статистической значимости alpha зададим равным 0.05"
   ]
  },
  {
   "cell_type": "code",
   "execution_count": 43,
   "metadata": {},
   "outputs": [],
   "source": [
    "alpha = 0.05"
   ]
  },
  {
   "cell_type": "markdown",
   "metadata": {},
   "source": [
    "Проведем z-тест для долей зрителей из контрольных групп, перешедших с одного экрана на другой. Упакуем формулу в функцию."
   ]
  },
  {
   "cell_type": "code",
   "execution_count": 44,
   "metadata": {},
   "outputs": [],
   "source": [
    "def ztest(r1,r2,n1,n2):\n",
    "    p1 = r1 / n1\n",
    "    p2 = r2 / n2\n",
    "    p = (r1 + r2) / (n1 + n2)  \n",
    "    z_value = (p1 - p2) / mth.sqrt(p * (1 - p) * (1/n1 + 1/n2))\n",
    "\n",
    "    distr = st.norm(0, 1)\n",
    "    p_value = (1 - distr.cdf(abs(z_value))) * 2\n",
    "    if p_value < alpha:\n",
    "        return display(p_value, 'Отвергаем нулевую гипотезу: между долями есть значимая разница')\n",
    "    else: return display(p_value, 'Не получилось отвергнуть нулевую гипотезу, нет оснований считать доли разными')"
   ]
  },
  {
   "cell_type": "markdown",
   "metadata": {},
   "source": [
    "1. Сравним доли контрольных групп пользователей при переходе с главного экрана на экран с предложениями"
   ]
  },
  {
   "cell_type": "code",
   "execution_count": 45,
   "metadata": {},
   "outputs": [
    {
     "data": {
      "text/plain": [
       "0.2622344959255778"
      ]
     },
     "metadata": {},
     "output_type": "display_data"
    },
    {
     "data": {
      "text/plain": [
       "'Не получилось отвергнуть нулевую гипотезу, нет оснований считать доли разными'"
      ]
     },
     "metadata": {},
     "output_type": "display_data"
    }
   ],
   "source": [
    "ztest(user_count_groups.loc[1,'246'],\n",
    "      user_count_groups.loc[1,'247'],\n",
    "      user_count_groups.loc[0,'246'],\n",
    "      user_count_groups.loc[0,'247'])"
   ]
  },
  {
   "cell_type": "markdown",
   "metadata": {},
   "source": [
    "2. Сравним доли контрольных групп пользователей при переходе с экрана с предложениями на экран с корзиной"
   ]
  },
  {
   "cell_type": "code",
   "execution_count": 46,
   "metadata": {},
   "outputs": [
    {
     "data": {
      "text/plain": [
       "0.6393754713145263"
      ]
     },
     "metadata": {},
     "output_type": "display_data"
    },
    {
     "data": {
      "text/plain": [
       "'Не получилось отвергнуть нулевую гипотезу, нет оснований считать доли разными'"
      ]
     },
     "metadata": {},
     "output_type": "display_data"
    }
   ],
   "source": [
    "ztest(user_count_groups.loc[2,'246'],\n",
    "      user_count_groups.loc[2,'247'],\n",
    "      user_count_groups.loc[1,'246'],\n",
    "      user_count_groups.loc[1,'247'])"
   ]
  },
  {
   "cell_type": "markdown",
   "metadata": {},
   "source": [
    "3. Сравним доли контрольных групп пользователей при переходе с экрана с корзиной на экран с оплатой"
   ]
  },
  {
   "cell_type": "code",
   "execution_count": 47,
   "metadata": {},
   "outputs": [
    {
     "data": {
      "text/plain": [
       "0.18243439408067652"
      ]
     },
     "metadata": {},
     "output_type": "display_data"
    },
    {
     "data": {
      "text/plain": [
       "'Не получилось отвергнуть нулевую гипотезу, нет оснований считать доли разными'"
      ]
     },
     "metadata": {},
     "output_type": "display_data"
    }
   ],
   "source": [
    "ztest(user_count_groups.loc[3,'246'],\n",
    "      user_count_groups.loc[3,'247'],\n",
    "      user_count_groups.loc[2,'246'],\n",
    "      user_count_groups.loc[2,'247'])"
   ]
  },
  {
   "cell_type": "markdown",
   "metadata": {},
   "source": [
    "#### Выводы"
   ]
  },
  {
   "cell_type": "markdown",
   "metadata": {},
   "source": [
    "Результаты тестов показали, что статистически значимых различий между долями нет. При этом p-value в первом и третьем сравнении значительно меньше, чем во втором, и достаточно близка к заданному уровню статистической значимости. Разница в долях во втором случае, действительно наименьшая - менее одного процента"
   ]
  },
  {
   "cell_type": "code",
   "execution_count": 48,
   "metadata": {},
   "outputs": [
    {
     "data": {
      "text/plain": [
       "0   -0.064771\n",
       "1    0.015494\n",
       "2    0.006538\n",
       "3    0.012488\n",
       "dtype: float64"
      ]
     },
     "execution_count": 48,
     "metadata": {},
     "output_type": "execute_result"
    }
   ],
   "source": [
    "user_count_groups['rate_246'] - user_count_groups['rate_247']"
   ]
  },
  {
   "cell_type": "markdown",
   "metadata": {},
   "source": [
    "### Проверка равенства долей пользователей двух контрольных групп по событиям"
   ]
  },
  {
   "cell_type": "markdown",
   "metadata": {},
   "source": [
    "Посчитаем и сравним доли пользователей, совершивших событие, от общего количества пользователей в данной группе."
   ]
  },
  {
   "cell_type": "code",
   "execution_count": 49,
   "metadata": {},
   "outputs": [],
   "source": [
    "groups_events = logs.query('event != \"Tutorial\"').pivot_table(index='event', columns='group', aggfunc=({'user' : 'nunique'})).reset_index()\n",
    "groups_events.columns= ['events', '246', '247', '248']\n",
    "groups_events = groups_events.sort_values('246', ascending=False).reset_index(drop=True)\n",
    "\n",
    "groups_events['rate_246'] = groups_events['246'] / users_246\n",
    "groups_events['rate_247'] = groups_events['247'] / users_247\n",
    "groups_events['rate_248'] = groups_events['248'] / users_248"
   ]
  },
  {
   "cell_type": "code",
   "execution_count": 50,
   "metadata": {},
   "outputs": [
    {
     "data": {
      "text/html": [
       "<div>\n",
       "<style scoped>\n",
       "    .dataframe tbody tr th:only-of-type {\n",
       "        vertical-align: middle;\n",
       "    }\n",
       "\n",
       "    .dataframe tbody tr th {\n",
       "        vertical-align: top;\n",
       "    }\n",
       "\n",
       "    .dataframe thead th {\n",
       "        text-align: right;\n",
       "    }\n",
       "</style>\n",
       "<table border=\"1\" class=\"dataframe\">\n",
       "  <thead>\n",
       "    <tr style=\"text-align: right;\">\n",
       "      <th></th>\n",
       "      <th>events</th>\n",
       "      <th>246</th>\n",
       "      <th>247</th>\n",
       "      <th>248</th>\n",
       "      <th>rate_246</th>\n",
       "      <th>rate_247</th>\n",
       "      <th>rate_248</th>\n",
       "    </tr>\n",
       "  </thead>\n",
       "  <tbody>\n",
       "    <tr>\n",
       "      <th>0</th>\n",
       "      <td>MainScreenAppear</td>\n",
       "      <td>2450</td>\n",
       "      <td>2476</td>\n",
       "      <td>2493</td>\n",
       "      <td>0.986710</td>\n",
       "      <td>0.985669</td>\n",
       "      <td>0.983432</td>\n",
       "    </tr>\n",
       "    <tr>\n",
       "      <th>1</th>\n",
       "      <td>OffersScreenAppear</td>\n",
       "      <td>1542</td>\n",
       "      <td>1520</td>\n",
       "      <td>1531</td>\n",
       "      <td>0.621023</td>\n",
       "      <td>0.605096</td>\n",
       "      <td>0.603945</td>\n",
       "    </tr>\n",
       "    <tr>\n",
       "      <th>2</th>\n",
       "      <td>CartScreenAppear</td>\n",
       "      <td>1266</td>\n",
       "      <td>1238</td>\n",
       "      <td>1230</td>\n",
       "      <td>0.509867</td>\n",
       "      <td>0.492834</td>\n",
       "      <td>0.485207</td>\n",
       "    </tr>\n",
       "    <tr>\n",
       "      <th>3</th>\n",
       "      <td>PaymentScreenSuccessful</td>\n",
       "      <td>1200</td>\n",
       "      <td>1158</td>\n",
       "      <td>1181</td>\n",
       "      <td>0.483286</td>\n",
       "      <td>0.460987</td>\n",
       "      <td>0.465878</td>\n",
       "    </tr>\n",
       "  </tbody>\n",
       "</table>\n",
       "</div>"
      ],
      "text/plain": [
       "                    events   246   247   248  rate_246  rate_247  rate_248\n",
       "0         MainScreenAppear  2450  2476  2493  0.986710  0.985669  0.983432\n",
       "1       OffersScreenAppear  1542  1520  1531  0.621023  0.605096  0.603945\n",
       "2         CartScreenAppear  1266  1238  1230  0.509867  0.492834  0.485207\n",
       "3  PaymentScreenSuccessful  1200  1158  1181  0.483286  0.460987  0.465878"
      ]
     },
     "execution_count": 50,
     "metadata": {},
     "output_type": "execute_result"
    }
   ],
   "source": [
    "groups_events"
   ]
  },
  {
   "cell_type": "markdown",
   "metadata": {},
   "source": [
    "Зададим нулевую и альтернативную гипотезы.\n",
    "\n",
    "H0: доли выборок 246 и 247 равны\n",
    "\n",
    "H1: доли выборок 246 и 247 не равны\n",
    "\n",
    "Уровень статистической значимости alpha зададим равным 0.05"
   ]
  },
  {
   "cell_type": "code",
   "execution_count": 51,
   "metadata": {},
   "outputs": [
    {
     "name": "stdout",
     "output_type": "stream",
     "text": [
      "MainScreenAppear\n"
     ]
    },
    {
     "data": {
      "text/plain": [
       "0.7526703436483038"
      ]
     },
     "metadata": {},
     "output_type": "display_data"
    },
    {
     "data": {
      "text/plain": [
       "'Не получилось отвергнуть нулевую гипотезу, нет оснований считать доли разными'"
      ]
     },
     "metadata": {},
     "output_type": "display_data"
    },
    {
     "name": "stdout",
     "output_type": "stream",
     "text": [
      "OffersScreenAppear\n"
     ]
    },
    {
     "data": {
      "text/plain": [
       "0.24786096925282264"
      ]
     },
     "metadata": {},
     "output_type": "display_data"
    },
    {
     "data": {
      "text/plain": [
       "'Не получилось отвергнуть нулевую гипотезу, нет оснований считать доли разными'"
      ]
     },
     "metadata": {},
     "output_type": "display_data"
    },
    {
     "name": "stdout",
     "output_type": "stream",
     "text": [
      "CartScreenAppear\n"
     ]
    },
    {
     "data": {
      "text/plain": [
       "0.22867643757335676"
      ]
     },
     "metadata": {},
     "output_type": "display_data"
    },
    {
     "data": {
      "text/plain": [
       "'Не получилось отвергнуть нулевую гипотезу, нет оснований считать доли разными'"
      ]
     },
     "metadata": {},
     "output_type": "display_data"
    },
    {
     "name": "stdout",
     "output_type": "stream",
     "text": [
      "PaymentScreenSuccessful\n"
     ]
    },
    {
     "data": {
      "text/plain": [
       "0.11446627829276612"
      ]
     },
     "metadata": {},
     "output_type": "display_data"
    },
    {
     "data": {
      "text/plain": [
       "'Не получилось отвергнуть нулевую гипотезу, нет оснований считать доли разными'"
      ]
     },
     "metadata": {},
     "output_type": "display_data"
    }
   ],
   "source": [
    "groups_events.set_index('events', inplace=True)\n",
    "for event in groups_events.index:\n",
    "    print(event)\n",
    "    ztest(groups_events.loc[event, '246'], groups_events.loc[event, '247'],users_246,users_247)"
   ]
  },
  {
   "cell_type": "markdown",
   "metadata": {},
   "source": [
    "#### Выводы"
   ]
  },
  {
   "cell_type": "markdown",
   "metadata": {},
   "source": [
    "По всем событиям нет оснований считать доли разными, соответственно разбиение на группы работает корректно"
   ]
  },
  {
   "cell_type": "markdown",
   "metadata": {},
   "source": [
    "### Проверка равенства долей экспериментальной группы и контрольных групп"
   ]
  },
  {
   "cell_type": "markdown",
   "metadata": {},
   "source": [
    "Теперь посмотрим, есть ли различия между долями экспериментальной группы (в которой изменили шрифт) и долями контрольных групп"
   ]
  },
  {
   "cell_type": "markdown",
   "metadata": {},
   "source": [
    "#### Проверка равенства долей экспериментальной группы и контрольной группы 246"
   ]
  },
  {
   "cell_type": "code",
   "execution_count": 52,
   "metadata": {},
   "outputs": [
    {
     "data": {
      "text/html": [
       "<div>\n",
       "<style scoped>\n",
       "    .dataframe tbody tr th:only-of-type {\n",
       "        vertical-align: middle;\n",
       "    }\n",
       "\n",
       "    .dataframe tbody tr th {\n",
       "        vertical-align: top;\n",
       "    }\n",
       "\n",
       "    .dataframe thead th {\n",
       "        text-align: right;\n",
       "    }\n",
       "</style>\n",
       "<table border=\"1\" class=\"dataframe\">\n",
       "  <thead>\n",
       "    <tr style=\"text-align: right;\">\n",
       "      <th></th>\n",
       "      <th>246</th>\n",
       "      <th>247</th>\n",
       "      <th>248</th>\n",
       "      <th>rate_246</th>\n",
       "      <th>rate_247</th>\n",
       "      <th>rate_248</th>\n",
       "    </tr>\n",
       "    <tr>\n",
       "      <th>events</th>\n",
       "      <th></th>\n",
       "      <th></th>\n",
       "      <th></th>\n",
       "      <th></th>\n",
       "      <th></th>\n",
       "      <th></th>\n",
       "    </tr>\n",
       "  </thead>\n",
       "  <tbody>\n",
       "    <tr>\n",
       "      <th>MainScreenAppear</th>\n",
       "      <td>2450</td>\n",
       "      <td>2476</td>\n",
       "      <td>2493</td>\n",
       "      <td>0.986710</td>\n",
       "      <td>0.985669</td>\n",
       "      <td>0.983432</td>\n",
       "    </tr>\n",
       "    <tr>\n",
       "      <th>OffersScreenAppear</th>\n",
       "      <td>1542</td>\n",
       "      <td>1520</td>\n",
       "      <td>1531</td>\n",
       "      <td>0.621023</td>\n",
       "      <td>0.605096</td>\n",
       "      <td>0.603945</td>\n",
       "    </tr>\n",
       "    <tr>\n",
       "      <th>CartScreenAppear</th>\n",
       "      <td>1266</td>\n",
       "      <td>1238</td>\n",
       "      <td>1230</td>\n",
       "      <td>0.509867</td>\n",
       "      <td>0.492834</td>\n",
       "      <td>0.485207</td>\n",
       "    </tr>\n",
       "    <tr>\n",
       "      <th>PaymentScreenSuccessful</th>\n",
       "      <td>1200</td>\n",
       "      <td>1158</td>\n",
       "      <td>1181</td>\n",
       "      <td>0.483286</td>\n",
       "      <td>0.460987</td>\n",
       "      <td>0.465878</td>\n",
       "    </tr>\n",
       "  </tbody>\n",
       "</table>\n",
       "</div>"
      ],
      "text/plain": [
       "                          246   247   248  rate_246  rate_247  rate_248\n",
       "events                                                                 \n",
       "MainScreenAppear         2450  2476  2493  0.986710  0.985669  0.983432\n",
       "OffersScreenAppear       1542  1520  1531  0.621023  0.605096  0.603945\n",
       "CartScreenAppear         1266  1238  1230  0.509867  0.492834  0.485207\n",
       "PaymentScreenSuccessful  1200  1158  1181  0.483286  0.460987  0.465878"
      ]
     },
     "execution_count": 52,
     "metadata": {},
     "output_type": "execute_result"
    }
   ],
   "source": [
    "groups_events"
   ]
  },
  {
   "cell_type": "code",
   "execution_count": 53,
   "metadata": {},
   "outputs": [
    {
     "name": "stdout",
     "output_type": "stream",
     "text": [
      "MainScreenAppear\n"
     ]
    },
    {
     "data": {
      "text/plain": [
       "0.3387114076159288"
      ]
     },
     "metadata": {},
     "output_type": "display_data"
    },
    {
     "data": {
      "text/plain": [
       "'Не получилось отвергнуть нулевую гипотезу, нет оснований считать доли разными'"
      ]
     },
     "metadata": {},
     "output_type": "display_data"
    },
    {
     "name": "stdout",
     "output_type": "stream",
     "text": [
      "OffersScreenAppear\n"
     ]
    },
    {
     "data": {
      "text/plain": [
       "0.21442476639710506"
      ]
     },
     "metadata": {},
     "output_type": "display_data"
    },
    {
     "data": {
      "text/plain": [
       "'Не получилось отвергнуть нулевую гипотезу, нет оснований считать доли разными'"
      ]
     },
     "metadata": {},
     "output_type": "display_data"
    },
    {
     "name": "stdout",
     "output_type": "stream",
     "text": [
      "CartScreenAppear\n"
     ]
    },
    {
     "data": {
      "text/plain": [
       "0.08067367598823139"
      ]
     },
     "metadata": {},
     "output_type": "display_data"
    },
    {
     "data": {
      "text/plain": [
       "'Не получилось отвергнуть нулевую гипотезу, нет оснований считать доли разными'"
      ]
     },
     "metadata": {},
     "output_type": "display_data"
    },
    {
     "name": "stdout",
     "output_type": "stream",
     "text": [
      "PaymentScreenSuccessful\n"
     ]
    },
    {
     "data": {
      "text/plain": [
       "0.21693033984516674"
      ]
     },
     "metadata": {},
     "output_type": "display_data"
    },
    {
     "data": {
      "text/plain": [
       "'Не получилось отвергнуть нулевую гипотезу, нет оснований считать доли разными'"
      ]
     },
     "metadata": {},
     "output_type": "display_data"
    }
   ],
   "source": [
    "for event in groups_events.index:\n",
    "    print(event)\n",
    "    ztest(groups_events.loc[event,'246'], groups_events.loc[event,'248'],users_246, users_248)"
   ]
  },
  {
   "cell_type": "markdown",
   "metadata": {},
   "source": [
    "#### Проверка равенства долей экспериментальной группы и контрольной группы 247"
   ]
  },
  {
   "cell_type": "code",
   "execution_count": 54,
   "metadata": {},
   "outputs": [
    {
     "name": "stdout",
     "output_type": "stream",
     "text": [
      "MainScreenAppear\n"
     ]
    },
    {
     "data": {
      "text/plain": [
       "0.5194964354051703"
      ]
     },
     "metadata": {},
     "output_type": "display_data"
    },
    {
     "data": {
      "text/plain": [
       "'Не получилось отвергнуть нулевую гипотезу, нет оснований считать доли разными'"
      ]
     },
     "metadata": {},
     "output_type": "display_data"
    },
    {
     "name": "stdout",
     "output_type": "stream",
     "text": [
      "OffersScreenAppear\n"
     ]
    },
    {
     "data": {
      "text/plain": [
       "0.9333751305879443"
      ]
     },
     "metadata": {},
     "output_type": "display_data"
    },
    {
     "data": {
      "text/plain": [
       "'Не получилось отвергнуть нулевую гипотезу, нет оснований считать доли разными'"
      ]
     },
     "metadata": {},
     "output_type": "display_data"
    },
    {
     "name": "stdout",
     "output_type": "stream",
     "text": [
      "CartScreenAppear\n"
     ]
    },
    {
     "data": {
      "text/plain": [
       "0.5878284605111943"
      ]
     },
     "metadata": {},
     "output_type": "display_data"
    },
    {
     "data": {
      "text/plain": [
       "'Не получилось отвергнуть нулевую гипотезу, нет оснований считать доли разными'"
      ]
     },
     "metadata": {},
     "output_type": "display_data"
    },
    {
     "name": "stdout",
     "output_type": "stream",
     "text": [
      "PaymentScreenSuccessful\n"
     ]
    },
    {
     "data": {
      "text/plain": [
       "0.7275718682261119"
      ]
     },
     "metadata": {},
     "output_type": "display_data"
    },
    {
     "data": {
      "text/plain": [
       "'Не получилось отвергнуть нулевую гипотезу, нет оснований считать доли разными'"
      ]
     },
     "metadata": {},
     "output_type": "display_data"
    }
   ],
   "source": [
    "for event in groups_events.index:\n",
    "    print(event)\n",
    "    ztest(groups_events.loc[event,'247'], groups_events.loc[event,'248'],users_247, users_248)"
   ]
  },
  {
   "cell_type": "markdown",
   "metadata": {},
   "source": [
    "#### Проверка равенства долей экспериментальной группы и объединенной контрольной группы"
   ]
  },
  {
   "cell_type": "code",
   "execution_count": 55,
   "metadata": {},
   "outputs": [],
   "source": [
    "groups_events['246_247'] = groups_events['246'] + groups_events['247']\n",
    "users_246_247 = users_246 + users_247"
   ]
  },
  {
   "cell_type": "code",
   "execution_count": 56,
   "metadata": {},
   "outputs": [
    {
     "data": {
      "text/html": [
       "<div>\n",
       "<style scoped>\n",
       "    .dataframe tbody tr th:only-of-type {\n",
       "        vertical-align: middle;\n",
       "    }\n",
       "\n",
       "    .dataframe tbody tr th {\n",
       "        vertical-align: top;\n",
       "    }\n",
       "\n",
       "    .dataframe thead th {\n",
       "        text-align: right;\n",
       "    }\n",
       "</style>\n",
       "<table border=\"1\" class=\"dataframe\">\n",
       "  <thead>\n",
       "    <tr style=\"text-align: right;\">\n",
       "      <th></th>\n",
       "      <th>246</th>\n",
       "      <th>247</th>\n",
       "      <th>248</th>\n",
       "      <th>rate_246</th>\n",
       "      <th>rate_247</th>\n",
       "      <th>rate_248</th>\n",
       "      <th>246_247</th>\n",
       "    </tr>\n",
       "    <tr>\n",
       "      <th>events</th>\n",
       "      <th></th>\n",
       "      <th></th>\n",
       "      <th></th>\n",
       "      <th></th>\n",
       "      <th></th>\n",
       "      <th></th>\n",
       "      <th></th>\n",
       "    </tr>\n",
       "  </thead>\n",
       "  <tbody>\n",
       "    <tr>\n",
       "      <th>MainScreenAppear</th>\n",
       "      <td>2450</td>\n",
       "      <td>2476</td>\n",
       "      <td>2493</td>\n",
       "      <td>0.986710</td>\n",
       "      <td>0.985669</td>\n",
       "      <td>0.983432</td>\n",
       "      <td>4926</td>\n",
       "    </tr>\n",
       "    <tr>\n",
       "      <th>OffersScreenAppear</th>\n",
       "      <td>1542</td>\n",
       "      <td>1520</td>\n",
       "      <td>1531</td>\n",
       "      <td>0.621023</td>\n",
       "      <td>0.605096</td>\n",
       "      <td>0.603945</td>\n",
       "      <td>3062</td>\n",
       "    </tr>\n",
       "    <tr>\n",
       "      <th>CartScreenAppear</th>\n",
       "      <td>1266</td>\n",
       "      <td>1238</td>\n",
       "      <td>1230</td>\n",
       "      <td>0.509867</td>\n",
       "      <td>0.492834</td>\n",
       "      <td>0.485207</td>\n",
       "      <td>2504</td>\n",
       "    </tr>\n",
       "    <tr>\n",
       "      <th>PaymentScreenSuccessful</th>\n",
       "      <td>1200</td>\n",
       "      <td>1158</td>\n",
       "      <td>1181</td>\n",
       "      <td>0.483286</td>\n",
       "      <td>0.460987</td>\n",
       "      <td>0.465878</td>\n",
       "      <td>2358</td>\n",
       "    </tr>\n",
       "  </tbody>\n",
       "</table>\n",
       "</div>"
      ],
      "text/plain": [
       "                          246   247   248  rate_246  rate_247  rate_248  \\\n",
       "events                                                                    \n",
       "MainScreenAppear         2450  2476  2493  0.986710  0.985669  0.983432   \n",
       "OffersScreenAppear       1542  1520  1531  0.621023  0.605096  0.603945   \n",
       "CartScreenAppear         1266  1238  1230  0.509867  0.492834  0.485207   \n",
       "PaymentScreenSuccessful  1200  1158  1181  0.483286  0.460987  0.465878   \n",
       "\n",
       "                         246_247  \n",
       "events                            \n",
       "MainScreenAppear            4926  \n",
       "OffersScreenAppear          3062  \n",
       "CartScreenAppear            2504  \n",
       "PaymentScreenSuccessful     2358  "
      ]
     },
     "execution_count": 56,
     "metadata": {},
     "output_type": "execute_result"
    }
   ],
   "source": [
    "groups_events"
   ]
  },
  {
   "cell_type": "code",
   "execution_count": 57,
   "metadata": {},
   "outputs": [
    {
     "name": "stdout",
     "output_type": "stream",
     "text": [
      "MainScreenAppear\n"
     ]
    },
    {
     "data": {
      "text/plain": [
       "0.3486684291093256"
      ]
     },
     "metadata": {},
     "output_type": "display_data"
    },
    {
     "data": {
      "text/plain": [
       "'Не получилось отвергнуть нулевую гипотезу, нет оснований считать доли разными'"
      ]
     },
     "metadata": {},
     "output_type": "display_data"
    },
    {
     "name": "stdout",
     "output_type": "stream",
     "text": [
      "OffersScreenAppear\n"
     ]
    },
    {
     "data": {
      "text/plain": [
       "0.44582745409482394"
      ]
     },
     "metadata": {},
     "output_type": "display_data"
    },
    {
     "data": {
      "text/plain": [
       "'Не получилось отвергнуть нулевую гипотезу, нет оснований считать доли разными'"
      ]
     },
     "metadata": {},
     "output_type": "display_data"
    },
    {
     "name": "stdout",
     "output_type": "stream",
     "text": [
      "CartScreenAppear\n"
     ]
    },
    {
     "data": {
      "text/plain": [
       "0.18683558686831558"
      ]
     },
     "metadata": {},
     "output_type": "display_data"
    },
    {
     "data": {
      "text/plain": [
       "'Не получилось отвергнуть нулевую гипотезу, нет оснований считать доли разными'"
      ]
     },
     "metadata": {},
     "output_type": "display_data"
    },
    {
     "name": "stdout",
     "output_type": "stream",
     "text": [
      "PaymentScreenSuccessful\n"
     ]
    },
    {
     "data": {
      "text/plain": [
       "0.6107918742187335"
      ]
     },
     "metadata": {},
     "output_type": "display_data"
    },
    {
     "data": {
      "text/plain": [
       "'Не получилось отвергнуть нулевую гипотезу, нет оснований считать доли разными'"
      ]
     },
     "metadata": {},
     "output_type": "display_data"
    }
   ],
   "source": [
    "for event in groups_events.index:\n",
    "    print(event)\n",
    "    ztest(groups_events.loc[event,'246_247'], groups_events.loc[event,'248'],users_246_247, users_248)"
   ]
  },
  {
   "cell_type": "markdown",
   "metadata": {},
   "source": [
    "Немного скорректируем функцию и создадим таблицу со всеми значениями p-value."
   ]
  },
  {
   "cell_type": "code",
   "execution_count": 58,
   "metadata": {},
   "outputs": [],
   "source": [
    "def ztest_n(r1,r2,n1,n2):\n",
    "    p1 = r1 / n1\n",
    "    p2 = r2 / n2\n",
    "    p = (r1 + r2) / (n1 + n2)  \n",
    "    z_value = (p1 - p2) / mth.sqrt(p * (1 - p) * (1/n1 + 1/n2))\n",
    "\n",
    "    distr = st.norm(0, 1)\n",
    "    p_value = (1 - distr.cdf(abs(z_value))) * 2\n",
    "    return p_value.round(4)\n",
    "    "
   ]
  },
  {
   "cell_type": "code",
   "execution_count": 59,
   "metadata": {},
   "outputs": [],
   "source": [
    "diff_a1_a2 = []\n",
    "diff_a1_b = []\n",
    "diff_a2_b = []\n",
    "diff_a_b = []\n",
    "\n",
    "for event in groups_events.index:\n",
    "    diff_a1_a2.append(ztest_n(groups_events.loc[event, '246'], groups_events.loc[event, '247'],users_246,users_247))\n",
    "for event in groups_events.index:\n",
    "    diff_a1_b.append(ztest_n(groups_events.loc[event,'246'], groups_events.loc[event,'248'],users_246, users_248))\n",
    "for event in groups_events.index:\n",
    "    diff_a2_b.append(ztest_n(groups_events.loc[event,'247'], groups_events.loc[event,'248'],users_247, users_248))    \n",
    "for event in groups_events.index:\n",
    "    diff_a_b.append(ztest_n(groups_events.loc[event,'246_247'], groups_events.loc[event,'248'],users_246_247, users_248))\n",
    "\n",
    "    \n",
    "p_values = pd.DataFrame({'Сравнение контрольных групп' : diff_a1_a2,\n",
    "                         'Сравнение с группой 246' : diff_a1_b,\n",
    "                         'Сравнение с группой 247' : diff_a2_b,\n",
    "                         'Сравнение с объединенной группой' : diff_a_b})    "
   ]
  },
  {
   "cell_type": "code",
   "execution_count": 60,
   "metadata": {},
   "outputs": [],
   "source": [
    "p_values.set_index(groups_events.index, inplace=True)"
   ]
  },
  {
   "cell_type": "code",
   "execution_count": 61,
   "metadata": {},
   "outputs": [
    {
     "data": {
      "text/html": [
       "<div>\n",
       "<style scoped>\n",
       "    .dataframe tbody tr th:only-of-type {\n",
       "        vertical-align: middle;\n",
       "    }\n",
       "\n",
       "    .dataframe tbody tr th {\n",
       "        vertical-align: top;\n",
       "    }\n",
       "\n",
       "    .dataframe thead th {\n",
       "        text-align: right;\n",
       "    }\n",
       "</style>\n",
       "<table border=\"1\" class=\"dataframe\">\n",
       "  <thead>\n",
       "    <tr style=\"text-align: right;\">\n",
       "      <th></th>\n",
       "      <th>Сравнение контрольных групп</th>\n",
       "      <th>Сравнение с группой 246</th>\n",
       "      <th>Сравнение с группой 247</th>\n",
       "      <th>Сравнение с объединенной группой</th>\n",
       "    </tr>\n",
       "    <tr>\n",
       "      <th>events</th>\n",
       "      <th></th>\n",
       "      <th></th>\n",
       "      <th></th>\n",
       "      <th></th>\n",
       "    </tr>\n",
       "  </thead>\n",
       "  <tbody>\n",
       "    <tr>\n",
       "      <th>MainScreenAppear</th>\n",
       "      <td>0.7527</td>\n",
       "      <td>0.3387</td>\n",
       "      <td>0.5195</td>\n",
       "      <td>0.3487</td>\n",
       "    </tr>\n",
       "    <tr>\n",
       "      <th>OffersScreenAppear</th>\n",
       "      <td>0.2479</td>\n",
       "      <td>0.2144</td>\n",
       "      <td>0.9334</td>\n",
       "      <td>0.4458</td>\n",
       "    </tr>\n",
       "    <tr>\n",
       "      <th>CartScreenAppear</th>\n",
       "      <td>0.2287</td>\n",
       "      <td>0.0807</td>\n",
       "      <td>0.5878</td>\n",
       "      <td>0.1868</td>\n",
       "    </tr>\n",
       "    <tr>\n",
       "      <th>PaymentScreenSuccessful</th>\n",
       "      <td>0.1145</td>\n",
       "      <td>0.2169</td>\n",
       "      <td>0.7276</td>\n",
       "      <td>0.6108</td>\n",
       "    </tr>\n",
       "  </tbody>\n",
       "</table>\n",
       "</div>"
      ],
      "text/plain": [
       "                         Сравнение контрольных групп  Сравнение с группой 246  \\\n",
       "events                                                                          \n",
       "MainScreenAppear                              0.7527                   0.3387   \n",
       "OffersScreenAppear                            0.2479                   0.2144   \n",
       "CartScreenAppear                              0.2287                   0.0807   \n",
       "PaymentScreenSuccessful                       0.1145                   0.2169   \n",
       "\n",
       "                         Сравнение с группой 247  \\\n",
       "events                                             \n",
       "MainScreenAppear                          0.5195   \n",
       "OffersScreenAppear                        0.9334   \n",
       "CartScreenAppear                          0.5878   \n",
       "PaymentScreenSuccessful                   0.7276   \n",
       "\n",
       "                         Сравнение с объединенной группой  \n",
       "events                                                     \n",
       "MainScreenAppear                                   0.3487  \n",
       "OffersScreenAppear                                 0.4458  \n",
       "CartScreenAppear                                   0.1868  \n",
       "PaymentScreenSuccessful                            0.6108  "
      ]
     },
     "execution_count": 61,
     "metadata": {},
     "output_type": "execute_result"
    }
   ],
   "source": [
    "p_values"
   ]
  },
  {
   "cell_type": "markdown",
   "metadata": {},
   "source": [
    "#### Выводы"
   ]
  },
  {
   "cell_type": "markdown",
   "metadata": {},
   "source": [
    "Во всех проведенных тестах был получен одинаковый результат : доли выборок в экспериментальной группе и в контрольных группах равны.\n",
    "\n",
    "При этом некая разница между группами 246 и 247 все-такие наблюдается, результаты при поочередном сравнении с экспериментальной группой не идентичны . Видим большие отличия в значении p-value. Это наиболее заметно в сравнении с группой 246, где на третьем событии p-value очень близко к уровню статистической значимости, а в сравнении с группой 247 p-value почти 60%.\n",
    "\n"
   ]
  },
  {
   "cell_type": "markdown",
   "metadata": {},
   "source": [
    "### Уровень статистической значимости"
   ]
  },
  {
   "cell_type": "markdown",
   "metadata": {},
   "source": [
    "При проверке статистических гипотез был выбран уровень статистической значимости равный 0.05.\n",
    "\n",
    "Всего было сделано 19 проверок.\n",
    "\n",
    "По полученным результатам могу сказать, что только увеличение уровня статистической значимости может изменить некоторые выводы, но тем самым мы уменьшим точность проверки.\n",
    "\n",
    "Считаю, что уровень статистической значимости необходимо оставить прежним."
   ]
  },
  {
   "cell_type": "markdown",
   "metadata": {},
   "source": [
    "## Выводы"
   ]
  },
  {
   "cell_type": "markdown",
   "metadata": {},
   "source": [
    "1. До покупки доходит порядка 48% пользователей, зашедших в приложение, что  ,по моему мнению, является крайне хорошим результатом. При этом больше всего пользователей теряем на первом шаге. Возможно, что-то не так с главным экраном: слишком маленькие кнопочки, вырвиглазный дизайн, сложная йерархия разделов.\n",
    "\n",
    "2. По результатам тестов можно сделать вывод, что введение новых шрифтов никак не повлияло на поведение пользователей.Доли пользователей во всех группах практически идентичны и статистически значимых различий мы не наблюдаем. Возможно, что они даже не заметили какие-либо изменения. С точки зрения потраченных ресурсов - это ,конечно, ошибка, с точки зрения продукта - это не так уж плохо. Если всё работает и как прежде показывает хорошие результаты, значит как минимум изменение шрифтов не ухудшило ситуацию."
   ]
  }
 ],
 "metadata": {
  "ExecuteTimeLog": [
   {
    "duration": 4,
    "start_time": "2022-08-22T10:09:09.715Z"
   },
   {
    "duration": 2,
    "start_time": "2022-08-22T10:09:44.601Z"
   },
   {
    "duration": 1505,
    "start_time": "2022-08-22T10:10:48.817Z"
   },
   {
    "duration": 53,
    "start_time": "2022-08-22T10:12:57.706Z"
   },
   {
    "duration": 4,
    "start_time": "2022-08-22T10:13:29.615Z"
   },
   {
    "duration": 725,
    "start_time": "2022-08-22T10:14:32.775Z"
   },
   {
    "duration": 6,
    "start_time": "2022-08-22T10:14:34.327Z"
   },
   {
    "duration": 4,
    "start_time": "2022-08-22T10:16:59.991Z"
   },
   {
    "duration": 184,
    "start_time": "2022-08-22T10:17:12.059Z"
   },
   {
    "duration": 314,
    "start_time": "2022-08-22T10:17:55.429Z"
   },
   {
    "duration": 4,
    "start_time": "2022-08-22T10:17:57.322Z"
   },
   {
    "duration": 160,
    "start_time": "2022-08-22T10:17:57.931Z"
   },
   {
    "duration": 61,
    "start_time": "2022-08-22T10:18:03.688Z"
   },
   {
    "duration": 47,
    "start_time": "2022-08-22T10:18:19.716Z"
   },
   {
    "duration": 290,
    "start_time": "2022-08-22T10:20:20.558Z"
   },
   {
    "duration": 152,
    "start_time": "2022-08-22T10:20:23.294Z"
   },
   {
    "duration": 295,
    "start_time": "2022-08-22T10:22:07.872Z"
   },
   {
    "duration": 7,
    "start_time": "2022-08-22T10:22:18.576Z"
   },
   {
    "duration": 278,
    "start_time": "2022-08-22T10:22:35.111Z"
   },
   {
    "duration": 7,
    "start_time": "2022-08-22T10:22:36.849Z"
   },
   {
    "duration": 1150,
    "start_time": "2022-08-22T10:22:58.103Z"
   },
   {
    "duration": 163,
    "start_time": "2022-08-22T10:23:03.514Z"
   },
   {
    "duration": 9,
    "start_time": "2022-08-22T10:23:05.385Z"
   },
   {
    "duration": 71,
    "start_time": "2022-08-22T10:23:24.368Z"
   },
   {
    "duration": 105,
    "start_time": "2022-08-22T10:36:00.264Z"
   },
   {
    "duration": 10,
    "start_time": "2022-08-22T10:36:07.367Z"
   },
   {
    "duration": 3,
    "start_time": "2022-08-22T10:36:47.252Z"
   },
   {
    "duration": 8,
    "start_time": "2022-08-22T10:36:54.180Z"
   },
   {
    "duration": 48,
    "start_time": "2022-08-22T10:45:19.960Z"
   },
   {
    "duration": 9,
    "start_time": "2022-08-22T10:45:28.671Z"
   },
   {
    "duration": 71,
    "start_time": "2022-08-22T10:45:38.721Z"
   },
   {
    "duration": 10,
    "start_time": "2022-08-22T10:45:39.152Z"
   },
   {
    "duration": 15,
    "start_time": "2022-08-22T10:48:40.281Z"
   },
   {
    "duration": 12,
    "start_time": "2022-08-22T10:50:57.161Z"
   },
   {
    "duration": 12,
    "start_time": "2022-08-22T10:51:02.361Z"
   },
   {
    "duration": 11,
    "start_time": "2022-08-22T11:42:36.840Z"
   },
   {
    "duration": 9,
    "start_time": "2022-08-22T11:42:39.832Z"
   },
   {
    "duration": 13,
    "start_time": "2022-08-22T11:42:55.732Z"
   },
   {
    "duration": 1206,
    "start_time": "2022-08-22T11:43:13.817Z"
   },
   {
    "duration": 157,
    "start_time": "2022-08-22T11:43:15.025Z"
   },
   {
    "duration": 3,
    "start_time": "2022-08-22T11:43:15.184Z"
   },
   {
    "duration": 112,
    "start_time": "2022-08-22T11:43:15.188Z"
   },
   {
    "duration": 3,
    "start_time": "2022-08-22T11:43:15.302Z"
   },
   {
    "duration": 19,
    "start_time": "2022-08-22T11:43:15.307Z"
   },
   {
    "duration": 33,
    "start_time": "2022-08-22T11:43:15.328Z"
   },
   {
    "duration": 109,
    "start_time": "2022-08-22T11:43:52.049Z"
   },
   {
    "duration": 11,
    "start_time": "2022-08-22T11:44:05.185Z"
   },
   {
    "duration": 14,
    "start_time": "2022-08-22T11:44:28.991Z"
   },
   {
    "duration": 1177,
    "start_time": "2022-08-22T11:46:01.932Z"
   },
   {
    "duration": 165,
    "start_time": "2022-08-22T11:46:03.111Z"
   },
   {
    "duration": 5,
    "start_time": "2022-08-22T11:46:03.278Z"
   },
   {
    "duration": 113,
    "start_time": "2022-08-22T11:46:03.285Z"
   },
   {
    "duration": 3,
    "start_time": "2022-08-22T11:46:03.400Z"
   },
   {
    "duration": 16,
    "start_time": "2022-08-22T11:46:03.404Z"
   },
   {
    "duration": 8,
    "start_time": "2022-08-22T11:46:03.421Z"
   },
   {
    "duration": 165,
    "start_time": "2022-08-22T11:47:53.234Z"
   },
   {
    "duration": 13,
    "start_time": "2022-08-22T11:48:01.955Z"
   },
   {
    "duration": 3,
    "start_time": "2022-08-22T11:51:03.505Z"
   },
   {
    "duration": 73,
    "start_time": "2022-08-22T11:51:28.480Z"
   },
   {
    "duration": 9,
    "start_time": "2022-08-22T11:51:42.685Z"
   },
   {
    "duration": 105,
    "start_time": "2022-08-22T11:52:56.363Z"
   },
   {
    "duration": 26,
    "start_time": "2022-08-22T11:53:08.818Z"
   },
   {
    "duration": 20,
    "start_time": "2022-08-22T11:54:39.774Z"
   },
   {
    "duration": 7,
    "start_time": "2022-08-22T11:55:29.162Z"
   },
   {
    "duration": 84,
    "start_time": "2022-08-22T11:56:39.934Z"
   },
   {
    "duration": 65,
    "start_time": "2022-08-22T11:56:50.407Z"
   },
   {
    "duration": 10,
    "start_time": "2022-08-22T11:57:03.591Z"
   },
   {
    "duration": 10,
    "start_time": "2022-08-22T11:57:50.309Z"
   },
   {
    "duration": 10,
    "start_time": "2022-08-22T11:57:53.807Z"
   },
   {
    "duration": 7,
    "start_time": "2022-08-22T11:58:00.091Z"
   },
   {
    "duration": 28,
    "start_time": "2022-08-22T12:06:48.789Z"
   },
   {
    "duration": 83,
    "start_time": "2022-08-22T12:12:15.422Z"
   },
   {
    "duration": 26,
    "start_time": "2022-08-22T12:12:18.086Z"
   },
   {
    "duration": 90,
    "start_time": "2022-08-22T12:12:29.042Z"
   },
   {
    "duration": 1197,
    "start_time": "2022-08-22T12:12:45.514Z"
   },
   {
    "duration": 160,
    "start_time": "2022-08-22T12:12:46.713Z"
   },
   {
    "duration": 4,
    "start_time": "2022-08-22T12:12:46.874Z"
   },
   {
    "duration": 101,
    "start_time": "2022-08-22T12:12:46.879Z"
   },
   {
    "duration": 3,
    "start_time": "2022-08-22T12:12:46.983Z"
   },
   {
    "duration": 26,
    "start_time": "2022-08-22T12:12:46.987Z"
   },
   {
    "duration": 70,
    "start_time": "2022-08-22T12:12:47.015Z"
   },
   {
    "duration": 127,
    "start_time": "2022-08-22T12:12:47.087Z"
   },
   {
    "duration": 28,
    "start_time": "2022-08-22T12:12:47.216Z"
   },
   {
    "duration": 10,
    "start_time": "2022-08-22T12:12:47.245Z"
   },
   {
    "duration": 28,
    "start_time": "2022-08-22T12:12:47.257Z"
   },
   {
    "duration": 6,
    "start_time": "2022-08-22T12:12:47.304Z"
   },
   {
    "duration": 15,
    "start_time": "2022-08-22T12:12:47.312Z"
   },
   {
    "duration": 6,
    "start_time": "2022-08-22T12:12:47.331Z"
   },
   {
    "duration": 122,
    "start_time": "2022-08-22T12:18:57.181Z"
   },
   {
    "duration": 29,
    "start_time": "2022-08-22T12:19:05.750Z"
   },
   {
    "duration": 5,
    "start_time": "2022-08-22T12:19:19.155Z"
   },
   {
    "duration": 34,
    "start_time": "2022-08-22T12:19:23.421Z"
   },
   {
    "duration": 31,
    "start_time": "2022-08-22T12:19:34.003Z"
   },
   {
    "duration": 34,
    "start_time": "2022-08-22T12:19:36.819Z"
   },
   {
    "duration": 1209,
    "start_time": "2022-08-23T07:56:08.439Z"
   },
   {
    "duration": 510,
    "start_time": "2022-08-23T07:56:09.650Z"
   },
   {
    "duration": 3,
    "start_time": "2022-08-23T07:56:10.163Z"
   },
   {
    "duration": 95,
    "start_time": "2022-08-23T07:56:10.168Z"
   },
   {
    "duration": 3,
    "start_time": "2022-08-23T07:56:10.265Z"
   },
   {
    "duration": 14,
    "start_time": "2022-08-23T07:56:10.270Z"
   },
   {
    "duration": 80,
    "start_time": "2022-08-23T07:56:10.286Z"
   },
   {
    "duration": 110,
    "start_time": "2022-08-23T07:56:10.367Z"
   },
   {
    "duration": 24,
    "start_time": "2022-08-23T07:56:10.479Z"
   },
   {
    "duration": 12,
    "start_time": "2022-08-23T07:56:10.505Z"
   },
   {
    "duration": 20,
    "start_time": "2022-08-23T07:56:10.519Z"
   },
   {
    "duration": 18,
    "start_time": "2022-08-23T07:56:10.541Z"
   },
   {
    "duration": 30,
    "start_time": "2022-08-23T07:56:10.560Z"
   },
   {
    "duration": 11,
    "start_time": "2022-08-23T07:56:10.592Z"
   },
   {
    "duration": 6,
    "start_time": "2022-08-23T07:56:10.605Z"
   },
   {
    "duration": 10,
    "start_time": "2022-08-23T07:57:35.292Z"
   },
   {
    "duration": 7,
    "start_time": "2022-08-23T07:57:35.555Z"
   },
   {
    "duration": 94,
    "start_time": "2022-08-23T07:59:44.967Z"
   },
   {
    "duration": 10,
    "start_time": "2022-08-23T07:59:57.978Z"
   },
   {
    "duration": 17,
    "start_time": "2022-08-23T08:00:27.943Z"
   },
   {
    "duration": 16,
    "start_time": "2022-08-23T08:02:15.179Z"
   },
   {
    "duration": 21,
    "start_time": "2022-08-23T08:03:45.743Z"
   },
   {
    "duration": 239,
    "start_time": "2022-08-23T08:08:41.032Z"
   },
   {
    "duration": 266,
    "start_time": "2022-08-23T08:08:48.391Z"
   },
   {
    "duration": 1435,
    "start_time": "2022-08-23T08:09:01.160Z"
   },
   {
    "duration": 1182,
    "start_time": "2022-08-23T08:11:30.861Z"
   },
   {
    "duration": 599,
    "start_time": "2022-08-23T08:11:54.895Z"
   },
   {
    "duration": 1228,
    "start_time": "2022-08-23T08:12:20.071Z"
   },
   {
    "duration": 1423,
    "start_time": "2022-08-23T08:13:05.598Z"
   },
   {
    "duration": 1402,
    "start_time": "2022-08-23T08:14:52.158Z"
   },
   {
    "duration": 1380,
    "start_time": "2022-08-23T08:14:58.119Z"
   },
   {
    "duration": 1386,
    "start_time": "2022-08-23T08:15:59.809Z"
   },
   {
    "duration": 1415,
    "start_time": "2022-08-23T08:16:07.137Z"
   },
   {
    "duration": 1453,
    "start_time": "2022-08-23T08:16:14.809Z"
   },
   {
    "duration": 1520,
    "start_time": "2022-08-23T08:16:21.012Z"
   },
   {
    "duration": 1352,
    "start_time": "2022-08-23T08:16:27.464Z"
   },
   {
    "duration": 1503,
    "start_time": "2022-08-23T08:16:34.038Z"
   },
   {
    "duration": 1361,
    "start_time": "2022-08-23T08:16:56.257Z"
   },
   {
    "duration": 1410,
    "start_time": "2022-08-23T08:19:03.513Z"
   },
   {
    "duration": 1401,
    "start_time": "2022-08-23T08:19:48.704Z"
   },
   {
    "duration": 1468,
    "start_time": "2022-08-23T08:19:54.228Z"
   },
   {
    "duration": 1445,
    "start_time": "2022-08-23T08:19:58.803Z"
   },
   {
    "duration": 1465,
    "start_time": "2022-08-23T08:20:04.834Z"
   },
   {
    "duration": 1420,
    "start_time": "2022-08-23T08:21:20.809Z"
   },
   {
    "duration": 16,
    "start_time": "2022-08-23T08:37:41.666Z"
   },
   {
    "duration": 1395,
    "start_time": "2022-08-23T08:37:48.342Z"
   },
   {
    "duration": 1319,
    "start_time": "2022-08-23T08:41:54.165Z"
   },
   {
    "duration": 71,
    "start_time": "2022-08-23T08:42:38.588Z"
   },
   {
    "duration": 9,
    "start_time": "2022-08-23T08:47:36.638Z"
   },
   {
    "duration": 52,
    "start_time": "2022-08-23T08:51:36.408Z"
   },
   {
    "duration": 12,
    "start_time": "2022-08-23T08:53:32.940Z"
   },
   {
    "duration": 43,
    "start_time": "2022-08-23T08:56:04.613Z"
   },
   {
    "duration": 33,
    "start_time": "2022-08-23T08:56:28.649Z"
   },
   {
    "duration": 36,
    "start_time": "2022-08-23T08:56:44.339Z"
   },
   {
    "duration": 6,
    "start_time": "2022-08-23T08:57:37.682Z"
   },
   {
    "duration": 5,
    "start_time": "2022-08-23T08:58:06.592Z"
   },
   {
    "duration": 12,
    "start_time": "2022-08-23T08:58:20.710Z"
   },
   {
    "duration": 1062,
    "start_time": "2022-08-23T08:58:25.610Z"
   },
   {
    "duration": 157,
    "start_time": "2022-08-23T08:58:26.674Z"
   },
   {
    "duration": 3,
    "start_time": "2022-08-23T08:58:26.835Z"
   },
   {
    "duration": 87,
    "start_time": "2022-08-23T08:58:26.840Z"
   },
   {
    "duration": 3,
    "start_time": "2022-08-23T08:58:26.929Z"
   },
   {
    "duration": 30,
    "start_time": "2022-08-23T08:58:26.934Z"
   },
   {
    "duration": 69,
    "start_time": "2022-08-23T08:58:26.966Z"
   },
   {
    "duration": 121,
    "start_time": "2022-08-23T08:58:27.037Z"
   },
   {
    "duration": 25,
    "start_time": "2022-08-23T08:58:27.161Z"
   },
   {
    "duration": 11,
    "start_time": "2022-08-23T08:58:27.188Z"
   },
   {
    "duration": 20,
    "start_time": "2022-08-23T08:58:27.201Z"
   },
   {
    "duration": 7,
    "start_time": "2022-08-23T08:58:27.222Z"
   },
   {
    "duration": 65,
    "start_time": "2022-08-23T08:58:27.230Z"
   },
   {
    "duration": 4,
    "start_time": "2022-08-23T08:58:27.297Z"
   },
   {
    "duration": 20,
    "start_time": "2022-08-23T08:58:27.303Z"
   },
   {
    "duration": 9,
    "start_time": "2022-08-23T08:58:27.325Z"
   },
   {
    "duration": 26,
    "start_time": "2022-08-23T08:58:27.335Z"
   },
   {
    "duration": 1333,
    "start_time": "2022-08-23T08:58:27.363Z"
   },
   {
    "duration": 16,
    "start_time": "2022-08-23T08:58:28.698Z"
   },
   {
    "duration": 1350,
    "start_time": "2022-08-23T08:58:28.716Z"
   },
   {
    "duration": 11,
    "start_time": "2022-08-23T08:58:30.068Z"
   },
   {
    "duration": 27,
    "start_time": "2022-08-23T08:58:30.080Z"
   },
   {
    "duration": 25,
    "start_time": "2022-08-23T09:01:19.804Z"
   },
   {
    "duration": 27,
    "start_time": "2022-08-23T09:01:31.049Z"
   },
   {
    "duration": 18,
    "start_time": "2022-08-23T09:02:01.682Z"
   },
   {
    "duration": 1130,
    "start_time": "2022-08-23T09:02:09.617Z"
   },
   {
    "duration": 151,
    "start_time": "2022-08-23T09:02:10.749Z"
   },
   {
    "duration": 3,
    "start_time": "2022-08-23T09:02:10.902Z"
   },
   {
    "duration": 95,
    "start_time": "2022-08-23T09:02:10.907Z"
   },
   {
    "duration": 3,
    "start_time": "2022-08-23T09:02:11.003Z"
   },
   {
    "duration": 18,
    "start_time": "2022-08-23T09:02:11.008Z"
   },
   {
    "duration": 78,
    "start_time": "2022-08-23T09:02:11.027Z"
   },
   {
    "duration": 114,
    "start_time": "2022-08-23T09:02:11.107Z"
   },
   {
    "duration": 38,
    "start_time": "2022-08-23T09:02:11.222Z"
   },
   {
    "duration": 9,
    "start_time": "2022-08-23T09:02:11.263Z"
   },
   {
    "duration": 21,
    "start_time": "2022-08-23T09:02:11.274Z"
   },
   {
    "duration": 5,
    "start_time": "2022-08-23T09:02:11.297Z"
   },
   {
    "duration": 18,
    "start_time": "2022-08-23T09:02:11.303Z"
   },
   {
    "duration": 50,
    "start_time": "2022-08-23T09:02:11.323Z"
   },
   {
    "duration": 9,
    "start_time": "2022-08-23T09:02:11.375Z"
   },
   {
    "duration": 6,
    "start_time": "2022-08-23T09:02:11.386Z"
   },
   {
    "duration": 1338,
    "start_time": "2022-08-23T09:02:11.393Z"
   },
   {
    "duration": 27,
    "start_time": "2022-08-23T09:02:12.733Z"
   },
   {
    "duration": 2263,
    "start_time": "2022-08-23T09:02:12.763Z"
   },
   {
    "duration": 9,
    "start_time": "2022-08-23T09:02:15.028Z"
   },
   {
    "duration": 23,
    "start_time": "2022-08-23T09:02:15.039Z"
   },
   {
    "duration": 1255,
    "start_time": "2022-08-23T09:04:07.681Z"
   },
   {
    "duration": 155,
    "start_time": "2022-08-23T09:04:08.938Z"
   },
   {
    "duration": 3,
    "start_time": "2022-08-23T09:04:09.095Z"
   },
   {
    "duration": 107,
    "start_time": "2022-08-23T09:04:09.100Z"
   },
   {
    "duration": 3,
    "start_time": "2022-08-23T09:04:09.209Z"
   },
   {
    "duration": 48,
    "start_time": "2022-08-23T09:04:09.214Z"
   },
   {
    "duration": 89,
    "start_time": "2022-08-23T09:04:09.264Z"
   },
   {
    "duration": 106,
    "start_time": "2022-08-23T09:04:09.355Z"
   },
   {
    "duration": 24,
    "start_time": "2022-08-23T09:04:09.463Z"
   },
   {
    "duration": 12,
    "start_time": "2022-08-23T09:04:09.489Z"
   },
   {
    "duration": 34,
    "start_time": "2022-08-23T09:04:09.503Z"
   },
   {
    "duration": 22,
    "start_time": "2022-08-23T09:04:09.539Z"
   },
   {
    "duration": 40,
    "start_time": "2022-08-23T09:04:20.232Z"
   },
   {
    "duration": 50,
    "start_time": "2022-08-23T09:04:27.279Z"
   },
   {
    "duration": 9,
    "start_time": "2022-08-23T09:04:56.285Z"
   },
   {
    "duration": 1149,
    "start_time": "2022-08-23T09:07:52.707Z"
   },
   {
    "duration": 164,
    "start_time": "2022-08-23T09:07:53.857Z"
   },
   {
    "duration": 3,
    "start_time": "2022-08-23T09:07:54.023Z"
   },
   {
    "duration": 107,
    "start_time": "2022-08-23T09:07:54.028Z"
   },
   {
    "duration": 3,
    "start_time": "2022-08-23T09:07:54.136Z"
   },
   {
    "duration": 25,
    "start_time": "2022-08-23T09:07:54.141Z"
   },
   {
    "duration": 68,
    "start_time": "2022-08-23T09:07:54.168Z"
   },
   {
    "duration": 165,
    "start_time": "2022-08-23T09:07:54.238Z"
   },
   {
    "duration": 74,
    "start_time": "2022-08-23T09:07:54.404Z"
   },
   {
    "duration": 77,
    "start_time": "2022-08-23T09:07:54.480Z"
   },
   {
    "duration": 27,
    "start_time": "2022-08-23T09:07:54.560Z"
   },
   {
    "duration": 6,
    "start_time": "2022-08-23T09:07:54.589Z"
   },
   {
    "duration": 68,
    "start_time": "2022-08-23T09:07:54.597Z"
   },
   {
    "duration": 32,
    "start_time": "2022-08-23T09:07:54.667Z"
   },
   {
    "duration": 67,
    "start_time": "2022-08-23T09:07:54.701Z"
   },
   {
    "duration": 7,
    "start_time": "2022-08-23T09:07:54.770Z"
   },
   {
    "duration": 2186,
    "start_time": "2022-08-23T09:07:54.779Z"
   },
   {
    "duration": 16,
    "start_time": "2022-08-23T09:07:56.967Z"
   },
   {
    "duration": 1350,
    "start_time": "2022-08-23T09:07:56.985Z"
   },
   {
    "duration": 9,
    "start_time": "2022-08-23T09:07:58.337Z"
   },
   {
    "duration": 11,
    "start_time": "2022-08-23T09:07:58.358Z"
   },
   {
    "duration": 172,
    "start_time": "2022-08-23T09:09:15.045Z"
   },
   {
    "duration": 92,
    "start_time": "2022-08-23T09:09:24.991Z"
   },
   {
    "duration": 23,
    "start_time": "2022-08-23T09:09:28.883Z"
   },
   {
    "duration": 1135,
    "start_time": "2022-08-23T09:09:36.493Z"
   },
   {
    "duration": 176,
    "start_time": "2022-08-23T09:09:37.630Z"
   },
   {
    "duration": 4,
    "start_time": "2022-08-23T09:09:37.807Z"
   },
   {
    "duration": 93,
    "start_time": "2022-08-23T09:09:37.814Z"
   },
   {
    "duration": 3,
    "start_time": "2022-08-23T09:09:37.909Z"
   },
   {
    "duration": 17,
    "start_time": "2022-08-23T09:09:37.913Z"
   },
   {
    "duration": 77,
    "start_time": "2022-08-23T09:09:37.932Z"
   },
   {
    "duration": 124,
    "start_time": "2022-08-23T09:09:38.012Z"
   },
   {
    "duration": 29,
    "start_time": "2022-08-23T09:09:38.138Z"
   },
   {
    "duration": 9,
    "start_time": "2022-08-23T09:09:38.169Z"
   },
   {
    "duration": 19,
    "start_time": "2022-08-23T09:09:38.179Z"
   },
   {
    "duration": 4,
    "start_time": "2022-08-23T09:09:38.200Z"
   },
   {
    "duration": 17,
    "start_time": "2022-08-23T09:09:38.206Z"
   },
   {
    "duration": 50,
    "start_time": "2022-08-23T09:09:38.224Z"
   },
   {
    "duration": 9,
    "start_time": "2022-08-23T09:09:38.276Z"
   },
   {
    "duration": 9,
    "start_time": "2022-08-23T09:09:38.286Z"
   },
   {
    "duration": 2328,
    "start_time": "2022-08-23T09:09:38.297Z"
   },
   {
    "duration": 21,
    "start_time": "2022-08-23T09:09:40.626Z"
   },
   {
    "duration": 1425,
    "start_time": "2022-08-23T09:09:40.649Z"
   },
   {
    "duration": 9,
    "start_time": "2022-08-23T09:09:42.076Z"
   },
   {
    "duration": 31,
    "start_time": "2022-08-23T09:09:42.086Z"
   },
   {
    "duration": 1106,
    "start_time": "2022-08-23T09:09:57.926Z"
   },
   {
    "duration": 151,
    "start_time": "2022-08-23T09:09:59.034Z"
   },
   {
    "duration": 4,
    "start_time": "2022-08-23T09:09:59.186Z"
   },
   {
    "duration": 97,
    "start_time": "2022-08-23T09:09:59.191Z"
   },
   {
    "duration": 2,
    "start_time": "2022-08-23T09:09:59.291Z"
   },
   {
    "duration": 14,
    "start_time": "2022-08-23T09:09:59.295Z"
   },
   {
    "duration": 74,
    "start_time": "2022-08-23T09:09:59.311Z"
   },
   {
    "duration": 118,
    "start_time": "2022-08-23T09:09:59.386Z"
   },
   {
    "duration": 25,
    "start_time": "2022-08-23T09:09:59.505Z"
   },
   {
    "duration": 8,
    "start_time": "2022-08-23T09:09:59.532Z"
   },
   {
    "duration": 17,
    "start_time": "2022-08-23T09:09:59.557Z"
   },
   {
    "duration": 4,
    "start_time": "2022-08-23T09:09:59.576Z"
   },
   {
    "duration": 16,
    "start_time": "2022-08-23T09:09:59.581Z"
   },
   {
    "duration": 20,
    "start_time": "2022-08-23T09:09:59.601Z"
   },
   {
    "duration": 41,
    "start_time": "2022-08-23T09:09:59.623Z"
   },
   {
    "duration": 9,
    "start_time": "2022-08-23T09:09:59.666Z"
   },
   {
    "duration": 1325,
    "start_time": "2022-08-23T09:09:59.676Z"
   },
   {
    "duration": 20,
    "start_time": "2022-08-23T09:10:01.003Z"
   },
   {
    "duration": 2258,
    "start_time": "2022-08-23T09:10:01.024Z"
   },
   {
    "duration": 12,
    "start_time": "2022-08-23T09:10:03.285Z"
   },
   {
    "duration": 19,
    "start_time": "2022-08-23T09:10:03.299Z"
   },
   {
    "duration": 16,
    "start_time": "2022-08-23T09:11:39.065Z"
   },
   {
    "duration": 33,
    "start_time": "2022-08-23T09:11:55.426Z"
   },
   {
    "duration": 9,
    "start_time": "2022-08-23T09:12:00.977Z"
   },
   {
    "duration": 38,
    "start_time": "2022-08-23T09:12:05.684Z"
   },
   {
    "duration": 20,
    "start_time": "2022-08-23T09:12:10.512Z"
   },
   {
    "duration": 9,
    "start_time": "2022-08-23T09:12:49.458Z"
   },
   {
    "duration": 18,
    "start_time": "2022-08-23T09:15:25.350Z"
   },
   {
    "duration": 16,
    "start_time": "2022-08-23T09:16:23.572Z"
   },
   {
    "duration": 14,
    "start_time": "2022-08-23T09:17:04.751Z"
   },
   {
    "duration": 7,
    "start_time": "2022-08-23T09:18:05.022Z"
   },
   {
    "duration": 1066,
    "start_time": "2022-08-23T09:18:12.775Z"
   },
   {
    "duration": 150,
    "start_time": "2022-08-23T09:18:13.843Z"
   },
   {
    "duration": 3,
    "start_time": "2022-08-23T09:18:13.995Z"
   },
   {
    "duration": 95,
    "start_time": "2022-08-23T09:18:14.001Z"
   },
   {
    "duration": 3,
    "start_time": "2022-08-23T09:18:14.098Z"
   },
   {
    "duration": 15,
    "start_time": "2022-08-23T09:18:14.103Z"
   },
   {
    "duration": 89,
    "start_time": "2022-08-23T09:18:14.120Z"
   },
   {
    "duration": 129,
    "start_time": "2022-08-23T09:18:14.212Z"
   },
   {
    "duration": 36,
    "start_time": "2022-08-23T09:18:14.343Z"
   },
   {
    "duration": 28,
    "start_time": "2022-08-23T09:18:14.382Z"
   },
   {
    "duration": 30,
    "start_time": "2022-08-23T09:18:14.411Z"
   },
   {
    "duration": 5,
    "start_time": "2022-08-23T09:18:14.442Z"
   },
   {
    "duration": 30,
    "start_time": "2022-08-23T09:18:14.449Z"
   },
   {
    "duration": 22,
    "start_time": "2022-08-23T09:18:14.481Z"
   },
   {
    "duration": 6,
    "start_time": "2022-08-23T09:18:14.505Z"
   },
   {
    "duration": 12,
    "start_time": "2022-08-23T09:18:14.512Z"
   },
   {
    "duration": 17,
    "start_time": "2022-08-23T09:18:14.525Z"
   },
   {
    "duration": 1429,
    "start_time": "2022-08-23T09:18:14.544Z"
   },
   {
    "duration": 13,
    "start_time": "2022-08-23T09:18:15.976Z"
   },
   {
    "duration": 19,
    "start_time": "2022-08-23T09:18:15.991Z"
   },
   {
    "duration": 1353,
    "start_time": "2022-08-23T09:18:16.011Z"
   },
   {
    "duration": 17,
    "start_time": "2022-08-23T09:18:17.365Z"
   },
   {
    "duration": 57,
    "start_time": "2022-08-23T09:18:17.384Z"
   },
   {
    "duration": 27,
    "start_time": "2022-08-23T09:18:17.442Z"
   },
   {
    "duration": 18,
    "start_time": "2022-08-23T09:23:32.907Z"
   },
   {
    "duration": 35,
    "start_time": "2022-08-23T09:23:51.691Z"
   },
   {
    "duration": 22,
    "start_time": "2022-08-23T09:24:01.638Z"
   },
   {
    "duration": 32,
    "start_time": "2022-08-23T09:24:05.050Z"
   },
   {
    "duration": 30,
    "start_time": "2022-08-23T09:28:01.222Z"
   },
   {
    "duration": 60,
    "start_time": "2022-08-23T09:30:31.226Z"
   },
   {
    "duration": 136,
    "start_time": "2022-08-23T09:30:45.771Z"
   },
   {
    "duration": 64,
    "start_time": "2022-08-23T09:30:55.271Z"
   },
   {
    "duration": 53,
    "start_time": "2022-08-23T09:31:03.609Z"
   },
   {
    "duration": 1421,
    "start_time": "2022-08-23T12:53:01.074Z"
   },
   {
    "duration": 535,
    "start_time": "2022-08-23T12:53:02.498Z"
   },
   {
    "duration": 3,
    "start_time": "2022-08-23T12:53:03.035Z"
   },
   {
    "duration": 93,
    "start_time": "2022-08-23T12:53:03.040Z"
   },
   {
    "duration": 3,
    "start_time": "2022-08-23T12:53:03.135Z"
   },
   {
    "duration": 16,
    "start_time": "2022-08-23T12:53:03.139Z"
   },
   {
    "duration": 77,
    "start_time": "2022-08-23T12:53:03.156Z"
   },
   {
    "duration": 134,
    "start_time": "2022-08-23T12:53:03.235Z"
   },
   {
    "duration": 30,
    "start_time": "2022-08-23T12:53:03.371Z"
   },
   {
    "duration": 9,
    "start_time": "2022-08-23T12:53:03.404Z"
   },
   {
    "duration": 21,
    "start_time": "2022-08-23T12:53:03.414Z"
   },
   {
    "duration": 5,
    "start_time": "2022-08-23T12:53:03.437Z"
   },
   {
    "duration": 17,
    "start_time": "2022-08-23T12:53:03.444Z"
   },
   {
    "duration": 49,
    "start_time": "2022-08-23T12:53:03.462Z"
   },
   {
    "duration": 7,
    "start_time": "2022-08-23T12:53:03.512Z"
   },
   {
    "duration": 15,
    "start_time": "2022-08-23T12:53:03.520Z"
   },
   {
    "duration": 6,
    "start_time": "2022-08-23T12:53:03.536Z"
   },
   {
    "duration": 1462,
    "start_time": "2022-08-23T12:53:03.543Z"
   },
   {
    "duration": 19,
    "start_time": "2022-08-23T12:53:05.007Z"
   },
   {
    "duration": 27,
    "start_time": "2022-08-23T12:53:05.028Z"
   },
   {
    "duration": 1391,
    "start_time": "2022-08-23T12:53:05.057Z"
   },
   {
    "duration": 16,
    "start_time": "2022-08-23T12:53:06.450Z"
   },
   {
    "duration": 15,
    "start_time": "2022-08-23T12:53:06.468Z"
   },
   {
    "duration": 6,
    "start_time": "2022-08-23T12:53:06.500Z"
   },
   {
    "duration": 17,
    "start_time": "2022-08-23T12:53:06.508Z"
   },
   {
    "duration": 22,
    "start_time": "2022-08-23T12:53:06.527Z"
   },
   {
    "duration": 76,
    "start_time": "2022-08-23T12:53:06.551Z"
   },
   {
    "duration": 15,
    "start_time": "2022-08-23T12:57:02.101Z"
   },
   {
    "duration": 12,
    "start_time": "2022-08-23T12:57:46.033Z"
   },
   {
    "duration": 15,
    "start_time": "2022-08-23T12:58:11.763Z"
   },
   {
    "duration": 14,
    "start_time": "2022-08-23T12:58:32.801Z"
   },
   {
    "duration": 117,
    "start_time": "2022-08-23T12:58:40.127Z"
   },
   {
    "duration": 17,
    "start_time": "2022-08-23T12:58:43.822Z"
   },
   {
    "duration": 18,
    "start_time": "2022-08-23T12:58:49.192Z"
   },
   {
    "duration": 25,
    "start_time": "2022-08-23T12:59:16.526Z"
   },
   {
    "duration": 16,
    "start_time": "2022-08-23T12:59:23.384Z"
   },
   {
    "duration": 16,
    "start_time": "2022-08-23T13:00:23.294Z"
   },
   {
    "duration": 96,
    "start_time": "2022-08-23T13:04:57.969Z"
   },
   {
    "duration": 84,
    "start_time": "2022-08-23T13:05:30.819Z"
   },
   {
    "duration": 100,
    "start_time": "2022-08-23T13:05:34.482Z"
   },
   {
    "duration": 69,
    "start_time": "2022-08-23T13:06:50.799Z"
   },
   {
    "duration": 53,
    "start_time": "2022-08-23T13:07:34.521Z"
   },
   {
    "duration": 49,
    "start_time": "2022-08-23T13:07:54.696Z"
   },
   {
    "duration": 9,
    "start_time": "2022-08-23T13:08:05.523Z"
   },
   {
    "duration": 10,
    "start_time": "2022-08-23T13:08:09.966Z"
   },
   {
    "duration": 337,
    "start_time": "2022-08-23T13:08:49.313Z"
   },
   {
    "duration": 329,
    "start_time": "2022-08-23T13:09:04.931Z"
   },
   {
    "duration": 46,
    "start_time": "2022-08-23T13:09:29.884Z"
   },
   {
    "duration": 63,
    "start_time": "2022-08-23T13:10:06.946Z"
   },
   {
    "duration": 48,
    "start_time": "2022-08-23T13:10:19.955Z"
   },
   {
    "duration": 8,
    "start_time": "2022-08-23T13:10:21.629Z"
   },
   {
    "duration": 69,
    "start_time": "2022-08-23T13:28:39.157Z"
   },
   {
    "duration": 18,
    "start_time": "2022-08-23T13:42:33.592Z"
   },
   {
    "duration": 179,
    "start_time": "2022-08-23T13:44:32.764Z"
   },
   {
    "duration": 11,
    "start_time": "2022-08-23T13:45:00.205Z"
   },
   {
    "duration": 12,
    "start_time": "2022-08-23T13:49:57.429Z"
   },
   {
    "duration": 26,
    "start_time": "2022-08-23T13:53:32.600Z"
   },
   {
    "duration": 20,
    "start_time": "2022-08-23T13:58:16.982Z"
   },
   {
    "duration": 15,
    "start_time": "2022-08-23T14:00:25.348Z"
   },
   {
    "duration": 14,
    "start_time": "2022-08-23T14:00:35.287Z"
   },
   {
    "duration": 17,
    "start_time": "2022-08-23T14:02:44.251Z"
   },
   {
    "duration": 108,
    "start_time": "2022-08-23T14:03:26.797Z"
   },
   {
    "duration": 16,
    "start_time": "2022-08-23T14:03:41.832Z"
   },
   {
    "duration": 16,
    "start_time": "2022-08-23T14:04:15.385Z"
   },
   {
    "duration": 14,
    "start_time": "2022-08-23T14:05:34.627Z"
   },
   {
    "duration": 13,
    "start_time": "2022-08-23T14:07:14.511Z"
   },
   {
    "duration": 12,
    "start_time": "2022-08-23T14:08:10.682Z"
   },
   {
    "duration": 3,
    "start_time": "2022-08-23T14:19:51.681Z"
   },
   {
    "duration": 39,
    "start_time": "2022-08-23T14:25:37.295Z"
   },
   {
    "duration": 7,
    "start_time": "2022-08-23T14:25:41.336Z"
   },
   {
    "duration": 1290,
    "start_time": "2022-08-24T09:23:37.166Z"
   },
   {
    "duration": 483,
    "start_time": "2022-08-24T09:23:38.459Z"
   },
   {
    "duration": 3,
    "start_time": "2022-08-24T09:23:38.943Z"
   },
   {
    "duration": 85,
    "start_time": "2022-08-24T09:23:38.947Z"
   },
   {
    "duration": 3,
    "start_time": "2022-08-24T09:23:39.034Z"
   },
   {
    "duration": 15,
    "start_time": "2022-08-24T09:23:39.039Z"
   },
   {
    "duration": 69,
    "start_time": "2022-08-24T09:23:39.055Z"
   },
   {
    "duration": 104,
    "start_time": "2022-08-24T09:23:39.126Z"
   },
   {
    "duration": 23,
    "start_time": "2022-08-24T09:23:39.231Z"
   },
   {
    "duration": 8,
    "start_time": "2022-08-24T09:23:39.256Z"
   },
   {
    "duration": 29,
    "start_time": "2022-08-24T09:23:39.265Z"
   },
   {
    "duration": 4,
    "start_time": "2022-08-24T09:23:39.296Z"
   },
   {
    "duration": 17,
    "start_time": "2022-08-24T09:23:39.302Z"
   },
   {
    "duration": 18,
    "start_time": "2022-08-24T09:23:39.321Z"
   },
   {
    "duration": 5,
    "start_time": "2022-08-24T09:23:39.341Z"
   },
   {
    "duration": 39,
    "start_time": "2022-08-24T09:23:39.347Z"
   },
   {
    "duration": 5,
    "start_time": "2022-08-24T09:23:39.388Z"
   },
   {
    "duration": 1354,
    "start_time": "2022-08-24T09:23:39.394Z"
   },
   {
    "duration": 13,
    "start_time": "2022-08-24T09:23:40.749Z"
   },
   {
    "duration": 28,
    "start_time": "2022-08-24T09:23:40.763Z"
   },
   {
    "duration": 1270,
    "start_time": "2022-08-24T09:23:40.793Z"
   },
   {
    "duration": 21,
    "start_time": "2022-08-24T09:23:42.065Z"
   },
   {
    "duration": 14,
    "start_time": "2022-08-24T09:23:42.088Z"
   },
   {
    "duration": 5,
    "start_time": "2022-08-24T09:23:42.103Z"
   },
   {
    "duration": 18,
    "start_time": "2022-08-24T09:23:42.110Z"
   },
   {
    "duration": 24,
    "start_time": "2022-08-24T09:23:42.130Z"
   },
   {
    "duration": 74,
    "start_time": "2022-08-24T09:23:42.156Z"
   },
   {
    "duration": 6,
    "start_time": "2022-08-24T09:23:42.232Z"
   },
   {
    "duration": 135,
    "start_time": "2022-08-24T09:23:42.240Z"
   },
   {
    "duration": 35,
    "start_time": "2022-08-24T09:23:42.377Z"
   },
   {
    "duration": 7,
    "start_time": "2022-08-24T09:23:42.414Z"
   },
   {
    "duration": 14,
    "start_time": "2022-08-24T09:24:54.743Z"
   },
   {
    "duration": 13,
    "start_time": "2022-08-24T09:26:04.863Z"
   },
   {
    "duration": 3,
    "start_time": "2022-08-24T09:28:22.677Z"
   },
   {
    "duration": 310,
    "start_time": "2022-08-24T09:42:45.882Z"
   },
   {
    "duration": 28,
    "start_time": "2022-08-24T09:42:54.792Z"
   },
   {
    "duration": 5,
    "start_time": "2022-08-24T09:42:55.891Z"
   },
   {
    "duration": 30,
    "start_time": "2022-08-24T09:48:40.629Z"
   },
   {
    "duration": 9,
    "start_time": "2022-08-24T09:48:42.205Z"
   },
   {
    "duration": 34,
    "start_time": "2022-08-24T10:05:02.303Z"
   },
   {
    "duration": 30,
    "start_time": "2022-08-24T10:05:20.666Z"
   },
   {
    "duration": 31,
    "start_time": "2022-08-24T10:13:50.405Z"
   },
   {
    "duration": 6,
    "start_time": "2022-08-24T10:13:52.431Z"
   },
   {
    "duration": 28,
    "start_time": "2022-08-24T10:13:56.794Z"
   },
   {
    "duration": 6,
    "start_time": "2022-08-24T10:13:57.775Z"
   },
   {
    "duration": 4,
    "start_time": "2022-08-24T10:23:37.459Z"
   },
   {
    "duration": 1309,
    "start_time": "2022-08-24T13:09:04.777Z"
   },
   {
    "duration": 616,
    "start_time": "2022-08-24T13:09:06.087Z"
   },
   {
    "duration": 3,
    "start_time": "2022-08-24T13:09:06.705Z"
   },
   {
    "duration": 86,
    "start_time": "2022-08-24T13:09:06.709Z"
   },
   {
    "duration": 3,
    "start_time": "2022-08-24T13:09:06.798Z"
   },
   {
    "duration": 14,
    "start_time": "2022-08-24T13:09:06.803Z"
   },
   {
    "duration": 58,
    "start_time": "2022-08-24T13:09:06.818Z"
   },
   {
    "duration": 129,
    "start_time": "2022-08-24T13:09:06.877Z"
   },
   {
    "duration": 24,
    "start_time": "2022-08-24T13:09:07.008Z"
   },
   {
    "duration": 9,
    "start_time": "2022-08-24T13:09:07.034Z"
   },
   {
    "duration": 20,
    "start_time": "2022-08-24T13:09:07.045Z"
   },
   {
    "duration": 5,
    "start_time": "2022-08-24T13:09:07.066Z"
   },
   {
    "duration": 16,
    "start_time": "2022-08-24T13:09:07.099Z"
   },
   {
    "duration": 18,
    "start_time": "2022-08-24T13:09:07.118Z"
   },
   {
    "duration": 5,
    "start_time": "2022-08-24T13:09:07.138Z"
   },
   {
    "duration": 9,
    "start_time": "2022-08-24T13:09:07.145Z"
   },
   {
    "duration": 5,
    "start_time": "2022-08-24T13:09:07.155Z"
   },
   {
    "duration": 1239,
    "start_time": "2022-08-24T13:09:07.162Z"
   },
   {
    "duration": 13,
    "start_time": "2022-08-24T13:09:08.403Z"
   },
   {
    "duration": 17,
    "start_time": "2022-08-24T13:09:08.418Z"
   },
   {
    "duration": 1213,
    "start_time": "2022-08-24T13:09:08.437Z"
   },
   {
    "duration": 15,
    "start_time": "2022-08-24T13:09:09.651Z"
   },
   {
    "duration": 15,
    "start_time": "2022-08-24T13:09:09.667Z"
   },
   {
    "duration": 16,
    "start_time": "2022-08-24T13:09:09.683Z"
   },
   {
    "duration": 17,
    "start_time": "2022-08-24T13:09:09.700Z"
   },
   {
    "duration": 23,
    "start_time": "2022-08-24T13:09:09.718Z"
   },
   {
    "duration": 72,
    "start_time": "2022-08-24T13:09:09.742Z"
   },
   {
    "duration": 6,
    "start_time": "2022-08-24T13:09:09.816Z"
   },
   {
    "duration": 162,
    "start_time": "2022-08-24T13:09:09.823Z"
   },
   {
    "duration": 29,
    "start_time": "2022-08-24T13:09:09.987Z"
   },
   {
    "duration": 6,
    "start_time": "2022-08-24T13:09:10.018Z"
   },
   {
    "duration": 178,
    "start_time": "2022-08-24T13:09:10.026Z"
   },
   {
    "duration": 4,
    "start_time": "2022-08-24T13:25:34.197Z"
   },
   {
    "duration": 1050,
    "start_time": "2022-08-24T13:31:21.014Z"
   },
   {
    "duration": 153,
    "start_time": "2022-08-24T13:31:22.066Z"
   },
   {
    "duration": 3,
    "start_time": "2022-08-24T13:31:22.221Z"
   },
   {
    "duration": 99,
    "start_time": "2022-08-24T13:31:22.226Z"
   },
   {
    "duration": 3,
    "start_time": "2022-08-24T13:31:22.327Z"
   },
   {
    "duration": 13,
    "start_time": "2022-08-24T13:31:22.332Z"
   },
   {
    "duration": 67,
    "start_time": "2022-08-24T13:31:22.346Z"
   },
   {
    "duration": 118,
    "start_time": "2022-08-24T13:31:22.415Z"
   },
   {
    "duration": 26,
    "start_time": "2022-08-24T13:31:22.534Z"
   },
   {
    "duration": 8,
    "start_time": "2022-08-24T13:31:22.561Z"
   },
   {
    "duration": 38,
    "start_time": "2022-08-24T13:31:22.571Z"
   },
   {
    "duration": 7,
    "start_time": "2022-08-24T13:31:22.610Z"
   },
   {
    "duration": 19,
    "start_time": "2022-08-24T13:31:22.618Z"
   },
   {
    "duration": 17,
    "start_time": "2022-08-24T13:31:22.639Z"
   },
   {
    "duration": 5,
    "start_time": "2022-08-24T13:31:22.658Z"
   },
   {
    "duration": 14,
    "start_time": "2022-08-24T13:31:22.664Z"
   },
   {
    "duration": 4,
    "start_time": "2022-08-24T13:31:22.698Z"
   },
   {
    "duration": 1302,
    "start_time": "2022-08-24T13:31:22.704Z"
   },
   {
    "duration": 15,
    "start_time": "2022-08-24T13:31:24.007Z"
   },
   {
    "duration": 19,
    "start_time": "2022-08-24T13:31:24.024Z"
   },
   {
    "duration": 1304,
    "start_time": "2022-08-24T13:31:24.044Z"
   },
   {
    "duration": 16,
    "start_time": "2022-08-24T13:31:25.350Z"
   },
   {
    "duration": 30,
    "start_time": "2022-08-24T13:31:25.368Z"
   },
   {
    "duration": 7,
    "start_time": "2022-08-24T13:31:25.400Z"
   },
   {
    "duration": 19,
    "start_time": "2022-08-24T13:31:25.408Z"
   },
   {
    "duration": 22,
    "start_time": "2022-08-24T13:31:25.429Z"
   },
   {
    "duration": 76,
    "start_time": "2022-08-24T13:31:25.453Z"
   },
   {
    "duration": 7,
    "start_time": "2022-08-24T13:31:25.531Z"
   },
   {
    "duration": 180,
    "start_time": "2022-08-24T13:31:25.540Z"
   },
   {
    "duration": 39,
    "start_time": "2022-08-24T13:31:25.722Z"
   },
   {
    "duration": 6,
    "start_time": "2022-08-24T13:31:25.798Z"
   },
   {
    "duration": 4,
    "start_time": "2022-08-24T13:31:25.806Z"
   },
   {
    "duration": 156,
    "start_time": "2022-08-24T13:31:25.811Z"
   },
   {
    "duration": 8,
    "start_time": "2022-08-24T13:33:12.630Z"
   },
   {
    "duration": 48,
    "start_time": "2022-08-24T13:35:53.370Z"
   },
   {
    "duration": 63,
    "start_time": "2022-08-24T13:36:17.652Z"
   },
   {
    "duration": 63,
    "start_time": "2022-08-24T13:38:51.416Z"
   },
   {
    "duration": 66,
    "start_time": "2022-08-24T13:39:29.972Z"
   },
   {
    "duration": 63,
    "start_time": "2022-08-24T13:39:37.798Z"
   },
   {
    "duration": 66,
    "start_time": "2022-08-24T13:44:30.318Z"
   },
   {
    "duration": 71,
    "start_time": "2022-08-24T13:44:44.838Z"
   },
   {
    "duration": 66,
    "start_time": "2022-08-24T13:44:59.554Z"
   },
   {
    "duration": 65,
    "start_time": "2022-08-24T13:45:15.600Z"
   },
   {
    "duration": 78,
    "start_time": "2022-08-24T13:46:35.386Z"
   },
   {
    "duration": 59,
    "start_time": "2022-08-24T13:49:06.210Z"
   },
   {
    "duration": 65,
    "start_time": "2022-08-24T13:49:40.663Z"
   },
   {
    "duration": 5,
    "start_time": "2022-08-24T13:49:44.951Z"
   },
   {
    "duration": 7,
    "start_time": "2022-08-24T13:49:50.119Z"
   },
   {
    "duration": 7,
    "start_time": "2022-08-24T13:50:10.818Z"
   },
   {
    "duration": 7,
    "start_time": "2022-08-24T13:50:20.367Z"
   },
   {
    "duration": 1465,
    "start_time": "2022-08-25T13:00:36.669Z"
   },
   {
    "duration": 705,
    "start_time": "2022-08-25T13:00:38.136Z"
   },
   {
    "duration": 4,
    "start_time": "2022-08-25T13:00:38.843Z"
   },
   {
    "duration": 108,
    "start_time": "2022-08-25T13:00:38.848Z"
   },
   {
    "duration": 5,
    "start_time": "2022-08-25T13:00:38.958Z"
   },
   {
    "duration": 24,
    "start_time": "2022-08-25T13:00:38.964Z"
   },
   {
    "duration": 98,
    "start_time": "2022-08-25T13:00:38.990Z"
   },
   {
    "duration": 162,
    "start_time": "2022-08-25T13:00:39.090Z"
   },
   {
    "duration": 28,
    "start_time": "2022-08-25T13:00:39.255Z"
   },
   {
    "duration": 27,
    "start_time": "2022-08-25T13:00:39.284Z"
   },
   {
    "duration": 36,
    "start_time": "2022-08-25T13:00:39.313Z"
   },
   {
    "duration": 5,
    "start_time": "2022-08-25T13:00:39.351Z"
   },
   {
    "duration": 19,
    "start_time": "2022-08-25T13:00:39.358Z"
   },
   {
    "duration": 35,
    "start_time": "2022-08-25T13:00:39.380Z"
   },
   {
    "duration": 11,
    "start_time": "2022-08-25T13:00:39.416Z"
   },
   {
    "duration": 17,
    "start_time": "2022-08-25T13:00:39.429Z"
   },
   {
    "duration": 5,
    "start_time": "2022-08-25T13:00:39.448Z"
   },
   {
    "duration": 1678,
    "start_time": "2022-08-25T13:00:39.455Z"
   },
   {
    "duration": 16,
    "start_time": "2022-08-25T13:00:41.134Z"
   },
   {
    "duration": 22,
    "start_time": "2022-08-25T13:00:41.152Z"
   },
   {
    "duration": 1677,
    "start_time": "2022-08-25T13:00:41.176Z"
   },
   {
    "duration": 17,
    "start_time": "2022-08-25T13:00:42.855Z"
   },
   {
    "duration": 40,
    "start_time": "2022-08-25T13:00:42.874Z"
   },
   {
    "duration": 10,
    "start_time": "2022-08-25T13:00:42.918Z"
   },
   {
    "duration": 19,
    "start_time": "2022-08-25T13:00:42.929Z"
   },
   {
    "duration": 22,
    "start_time": "2022-08-25T13:00:42.950Z"
   },
   {
    "duration": 79,
    "start_time": "2022-08-25T13:00:42.974Z"
   },
   {
    "duration": 8,
    "start_time": "2022-08-25T13:00:43.055Z"
   },
   {
    "duration": 203,
    "start_time": "2022-08-25T13:00:43.064Z"
   },
   {
    "duration": 47,
    "start_time": "2022-08-25T13:00:43.269Z"
   },
   {
    "duration": 14,
    "start_time": "2022-08-25T13:00:43.320Z"
   },
   {
    "duration": 11,
    "start_time": "2022-08-25T13:00:43.338Z"
   },
   {
    "duration": 55,
    "start_time": "2022-08-25T13:00:43.350Z"
   },
   {
    "duration": 86,
    "start_time": "2022-08-25T13:00:43.407Z"
   },
   {
    "duration": 24,
    "start_time": "2022-08-25T13:00:43.495Z"
   },
   {
    "duration": 159,
    "start_time": "2022-08-25T13:02:11.988Z"
   },
   {
    "duration": 12,
    "start_time": "2022-08-25T13:03:00.844Z"
   },
   {
    "duration": 10,
    "start_time": "2022-08-25T13:03:27.840Z"
   },
   {
    "duration": 56,
    "start_time": "2022-08-25T13:05:47.124Z"
   },
   {
    "duration": 8,
    "start_time": "2022-08-25T13:05:48.922Z"
   },
   {
    "duration": 35,
    "start_time": "2022-08-25T13:06:10.329Z"
   },
   {
    "duration": 82,
    "start_time": "2022-08-25T13:06:34.994Z"
   },
   {
    "duration": 31,
    "start_time": "2022-08-25T13:06:41.937Z"
   },
   {
    "duration": 18,
    "start_time": "2022-08-25T13:06:50.421Z"
   },
   {
    "duration": 4,
    "start_time": "2022-08-25T13:07:41.121Z"
   },
   {
    "duration": 4,
    "start_time": "2022-08-25T13:07:44.125Z"
   },
   {
    "duration": 4,
    "start_time": "2022-08-25T13:07:50.959Z"
   },
   {
    "duration": 11,
    "start_time": "2022-08-25T13:08:10.334Z"
   },
   {
    "duration": 4,
    "start_time": "2022-08-25T13:08:17.484Z"
   },
   {
    "duration": 5,
    "start_time": "2022-08-25T13:08:24.323Z"
   },
   {
    "duration": 9,
    "start_time": "2022-08-25T13:10:02.239Z"
   },
   {
    "duration": 12,
    "start_time": "2022-08-25T13:10:12.496Z"
   },
   {
    "duration": 67,
    "start_time": "2022-08-25T13:11:07.025Z"
   },
   {
    "duration": 4,
    "start_time": "2022-08-25T13:11:10.328Z"
   },
   {
    "duration": 5,
    "start_time": "2022-08-25T13:11:11.820Z"
   },
   {
    "duration": 4,
    "start_time": "2022-08-25T13:11:13.624Z"
   },
   {
    "duration": 9,
    "start_time": "2022-08-25T13:11:23.693Z"
   },
   {
    "duration": 5,
    "start_time": "2022-08-25T13:11:45.892Z"
   },
   {
    "duration": 4,
    "start_time": "2022-08-25T13:23:00.864Z"
   },
   {
    "duration": 4,
    "start_time": "2022-08-25T13:23:05.279Z"
   },
   {
    "duration": 6,
    "start_time": "2022-08-25T13:24:01.476Z"
   },
   {
    "duration": 5,
    "start_time": "2022-08-25T13:24:02.160Z"
   },
   {
    "duration": 7,
    "start_time": "2022-08-25T13:24:19.222Z"
   },
   {
    "duration": 4,
    "start_time": "2022-08-25T13:24:28.043Z"
   },
   {
    "duration": 5,
    "start_time": "2022-08-25T13:25:15.561Z"
   },
   {
    "duration": 5,
    "start_time": "2022-08-25T13:25:16.718Z"
   },
   {
    "duration": 12,
    "start_time": "2022-08-25T13:25:17.800Z"
   },
   {
    "duration": 4,
    "start_time": "2022-08-25T13:25:18.357Z"
   },
   {
    "duration": 5,
    "start_time": "2022-08-25T13:30:16.199Z"
   },
   {
    "duration": 9,
    "start_time": "2022-08-25T13:36:39.768Z"
   },
   {
    "duration": 60,
    "start_time": "2022-08-25T13:37:58.955Z"
   },
   {
    "duration": 10,
    "start_time": "2022-08-25T13:38:00.329Z"
   },
   {
    "duration": 7,
    "start_time": "2022-08-25T13:53:38.378Z"
   },
   {
    "duration": 11,
    "start_time": "2022-08-25T13:53:45.119Z"
   },
   {
    "duration": 9,
    "start_time": "2022-08-25T13:53:47.342Z"
   },
   {
    "duration": 21,
    "start_time": "2022-08-25T13:54:07.897Z"
   },
   {
    "duration": 9,
    "start_time": "2022-08-25T13:54:10.830Z"
   },
   {
    "duration": 83,
    "start_time": "2022-08-25T13:54:18.885Z"
   },
   {
    "duration": 13,
    "start_time": "2022-08-25T13:54:20.297Z"
   },
   {
    "duration": 9,
    "start_time": "2022-08-25T13:56:08.847Z"
   },
   {
    "duration": 8,
    "start_time": "2022-08-25T13:56:28.441Z"
   },
   {
    "duration": 22,
    "start_time": "2022-08-25T13:58:41.996Z"
   },
   {
    "duration": 69,
    "start_time": "2022-08-25T14:03:11.076Z"
   },
   {
    "duration": 10,
    "start_time": "2022-08-25T14:03:11.471Z"
   },
   {
    "duration": 61,
    "start_time": "2022-08-25T14:03:48.026Z"
   },
   {
    "duration": 8,
    "start_time": "2022-08-25T14:03:48.948Z"
   },
   {
    "duration": 73,
    "start_time": "2022-08-25T14:20:44.920Z"
   },
   {
    "duration": 100,
    "start_time": "2022-08-25T14:21:10.391Z"
   },
   {
    "duration": 73,
    "start_time": "2022-08-25T14:21:16.947Z"
   },
   {
    "duration": 68,
    "start_time": "2022-08-25T14:21:21.370Z"
   },
   {
    "duration": 65,
    "start_time": "2022-08-25T14:27:38.360Z"
   },
   {
    "duration": 7,
    "start_time": "2022-08-25T14:27:56.828Z"
   },
   {
    "duration": 26,
    "start_time": "2022-08-25T14:35:15.480Z"
   },
   {
    "duration": 13,
    "start_time": "2022-08-25T14:35:42.242Z"
   },
   {
    "duration": 1206,
    "start_time": "2022-08-25T14:36:31.679Z"
   },
   {
    "duration": 1028,
    "start_time": "2022-08-25T14:36:42.834Z"
   },
   {
    "duration": 1137,
    "start_time": "2022-08-25T14:36:55.551Z"
   },
   {
    "duration": 12,
    "start_time": "2022-08-25T14:37:43.442Z"
   },
   {
    "duration": 42,
    "start_time": "2022-08-25T14:37:49.990Z"
   },
   {
    "duration": 15,
    "start_time": "2022-08-25T14:39:39.155Z"
   },
   {
    "duration": 10,
    "start_time": "2022-08-25T14:41:45.630Z"
   },
   {
    "duration": 8,
    "start_time": "2022-08-25T14:41:52.442Z"
   },
   {
    "duration": 333,
    "start_time": "2022-08-25T14:42:14.047Z"
   },
   {
    "duration": 54,
    "start_time": "2022-08-25T14:42:20.917Z"
   },
   {
    "duration": 8,
    "start_time": "2022-08-25T14:42:22.754Z"
   },
   {
    "duration": 60,
    "start_time": "2022-08-25T14:42:42.567Z"
   },
   {
    "duration": 18,
    "start_time": "2022-08-25T14:42:43.591Z"
   },
   {
    "duration": 7,
    "start_time": "2022-08-25T14:45:06.224Z"
   },
   {
    "duration": 7,
    "start_time": "2022-08-25T14:45:07.657Z"
   },
   {
    "duration": 11,
    "start_time": "2022-08-25T14:45:15.225Z"
   },
   {
    "duration": 5,
    "start_time": "2022-08-25T14:45:47.945Z"
   },
   {
    "duration": 9,
    "start_time": "2022-08-25T14:45:51.962Z"
   },
   {
    "duration": 1205,
    "start_time": "2022-08-25T14:46:10.134Z"
   },
   {
    "duration": 195,
    "start_time": "2022-08-25T14:46:11.341Z"
   },
   {
    "duration": 5,
    "start_time": "2022-08-25T14:46:11.538Z"
   },
   {
    "duration": 143,
    "start_time": "2022-08-25T14:46:11.545Z"
   },
   {
    "duration": 4,
    "start_time": "2022-08-25T14:46:11.692Z"
   },
   {
    "duration": 37,
    "start_time": "2022-08-25T14:46:11.697Z"
   },
   {
    "duration": 75,
    "start_time": "2022-08-25T14:46:11.735Z"
   },
   {
    "duration": 125,
    "start_time": "2022-08-25T14:46:11.813Z"
   },
   {
    "duration": 26,
    "start_time": "2022-08-25T14:46:11.940Z"
   },
   {
    "duration": 10,
    "start_time": "2022-08-25T14:46:11.969Z"
   },
   {
    "duration": 37,
    "start_time": "2022-08-25T14:46:11.980Z"
   },
   {
    "duration": 7,
    "start_time": "2022-08-25T14:46:12.019Z"
   },
   {
    "duration": 20,
    "start_time": "2022-08-25T14:46:12.028Z"
   },
   {
    "duration": 22,
    "start_time": "2022-08-25T14:46:12.051Z"
   },
   {
    "duration": 15,
    "start_time": "2022-08-25T14:46:12.100Z"
   },
   {
    "duration": 14,
    "start_time": "2022-08-25T14:46:12.117Z"
   },
   {
    "duration": 6,
    "start_time": "2022-08-25T14:46:12.133Z"
   },
   {
    "duration": 1587,
    "start_time": "2022-08-25T14:46:12.140Z"
   },
   {
    "duration": 17,
    "start_time": "2022-08-25T14:46:13.728Z"
   },
   {
    "duration": 30,
    "start_time": "2022-08-25T14:46:13.747Z"
   },
   {
    "duration": 1557,
    "start_time": "2022-08-25T14:46:13.779Z"
   },
   {
    "duration": 17,
    "start_time": "2022-08-25T14:46:15.339Z"
   },
   {
    "duration": 35,
    "start_time": "2022-08-25T14:46:15.358Z"
   },
   {
    "duration": 21,
    "start_time": "2022-08-25T14:46:15.395Z"
   },
   {
    "duration": 23,
    "start_time": "2022-08-25T14:46:15.418Z"
   },
   {
    "duration": 26,
    "start_time": "2022-08-25T14:46:15.442Z"
   },
   {
    "duration": 11,
    "start_time": "2022-08-25T14:46:15.470Z"
   },
   {
    "duration": 76,
    "start_time": "2022-08-25T14:46:15.485Z"
   },
   {
    "duration": 8,
    "start_time": "2022-08-25T14:46:15.563Z"
   },
   {
    "duration": 166,
    "start_time": "2022-08-25T14:46:15.573Z"
   },
   {
    "duration": 89,
    "start_time": "2022-08-25T14:46:15.741Z"
   },
   {
    "duration": 8,
    "start_time": "2022-08-25T14:46:15.832Z"
   },
   {
    "duration": 177,
    "start_time": "2022-08-25T14:46:15.842Z"
   },
   {
    "duration": 0,
    "start_time": "2022-08-25T14:46:16.021Z"
   },
   {
    "duration": 0,
    "start_time": "2022-08-25T14:46:16.023Z"
   },
   {
    "duration": 0,
    "start_time": "2022-08-25T14:46:16.024Z"
   },
   {
    "duration": 0,
    "start_time": "2022-08-25T14:46:16.025Z"
   },
   {
    "duration": 0,
    "start_time": "2022-08-25T14:46:16.026Z"
   },
   {
    "duration": 1262,
    "start_time": "2022-08-25T17:01:07.822Z"
   },
   {
    "duration": 518,
    "start_time": "2022-08-25T17:01:09.086Z"
   },
   {
    "duration": 4,
    "start_time": "2022-08-25T17:01:09.606Z"
   },
   {
    "duration": 105,
    "start_time": "2022-08-25T17:01:09.612Z"
   },
   {
    "duration": 2,
    "start_time": "2022-08-25T17:01:09.719Z"
   },
   {
    "duration": 14,
    "start_time": "2022-08-25T17:01:09.723Z"
   },
   {
    "duration": 80,
    "start_time": "2022-08-25T17:01:09.739Z"
   },
   {
    "duration": 127,
    "start_time": "2022-08-25T17:01:09.821Z"
   },
   {
    "duration": 24,
    "start_time": "2022-08-25T17:01:09.950Z"
   },
   {
    "duration": 13,
    "start_time": "2022-08-25T17:01:09.977Z"
   },
   {
    "duration": 33,
    "start_time": "2022-08-25T17:01:09.992Z"
   },
   {
    "duration": 22,
    "start_time": "2022-08-25T17:01:10.026Z"
   },
   {
    "duration": 21,
    "start_time": "2022-08-25T17:01:10.050Z"
   },
   {
    "duration": 32,
    "start_time": "2022-08-25T17:01:10.073Z"
   },
   {
    "duration": 8,
    "start_time": "2022-08-25T17:01:10.106Z"
   },
   {
    "duration": 9,
    "start_time": "2022-08-25T17:01:10.115Z"
   },
   {
    "duration": 5,
    "start_time": "2022-08-25T17:01:10.126Z"
   },
   {
    "duration": 1257,
    "start_time": "2022-08-25T17:01:10.132Z"
   },
   {
    "duration": 20,
    "start_time": "2022-08-25T17:01:11.391Z"
   },
   {
    "duration": 21,
    "start_time": "2022-08-25T17:01:11.412Z"
   },
   {
    "duration": 1280,
    "start_time": "2022-08-25T17:01:11.435Z"
   },
   {
    "duration": 22,
    "start_time": "2022-08-25T17:01:12.716Z"
   },
   {
    "duration": 20,
    "start_time": "2022-08-25T17:01:12.740Z"
   },
   {
    "duration": 8,
    "start_time": "2022-08-25T17:01:12.762Z"
   },
   {
    "duration": 45,
    "start_time": "2022-08-25T17:01:12.772Z"
   },
   {
    "duration": 22,
    "start_time": "2022-08-25T17:01:12.819Z"
   },
   {
    "duration": 21,
    "start_time": "2022-08-25T17:01:12.843Z"
   },
   {
    "duration": 73,
    "start_time": "2022-08-25T17:01:12.867Z"
   },
   {
    "duration": 7,
    "start_time": "2022-08-25T17:01:12.941Z"
   },
   {
    "duration": 172,
    "start_time": "2022-08-25T17:01:12.950Z"
   },
   {
    "duration": 90,
    "start_time": "2022-08-25T17:01:13.124Z"
   },
   {
    "duration": 6,
    "start_time": "2022-08-25T17:01:13.216Z"
   },
   {
    "duration": 151,
    "start_time": "2022-08-25T17:01:13.224Z"
   },
   {
    "duration": 0,
    "start_time": "2022-08-25T17:01:13.376Z"
   },
   {
    "duration": 0,
    "start_time": "2022-08-25T17:01:13.378Z"
   },
   {
    "duration": 0,
    "start_time": "2022-08-25T17:01:13.379Z"
   },
   {
    "duration": 0,
    "start_time": "2022-08-25T17:01:13.380Z"
   },
   {
    "duration": 0,
    "start_time": "2022-08-25T17:01:13.381Z"
   },
   {
    "duration": 9,
    "start_time": "2022-08-25T17:03:53.619Z"
   },
   {
    "duration": 69,
    "start_time": "2022-08-25T17:03:53.631Z"
   },
   {
    "duration": 14,
    "start_time": "2022-08-25T17:03:53.701Z"
   },
   {
    "duration": 12,
    "start_time": "2022-08-25T17:03:53.716Z"
   },
   {
    "duration": 16,
    "start_time": "2022-08-25T17:03:53.730Z"
   },
   {
    "duration": 873,
    "start_time": "2022-08-25T17:18:01.875Z"
   },
   {
    "duration": 852,
    "start_time": "2022-08-25T17:18:07.359Z"
   },
   {
    "duration": 758,
    "start_time": "2022-08-25T17:19:30.713Z"
   },
   {
    "duration": 7,
    "start_time": "2022-08-25T17:19:48.132Z"
   },
   {
    "duration": 1142,
    "start_time": "2022-08-25T17:20:01.378Z"
   },
   {
    "duration": 211,
    "start_time": "2022-08-25T17:20:02.522Z"
   },
   {
    "duration": 4,
    "start_time": "2022-08-25T17:20:02.735Z"
   },
   {
    "duration": 114,
    "start_time": "2022-08-25T17:20:02.741Z"
   },
   {
    "duration": 3,
    "start_time": "2022-08-25T17:20:02.856Z"
   },
   {
    "duration": 17,
    "start_time": "2022-08-25T17:20:02.861Z"
   },
   {
    "duration": 104,
    "start_time": "2022-08-25T17:20:02.880Z"
   },
   {
    "duration": 129,
    "start_time": "2022-08-25T17:20:02.985Z"
   },
   {
    "duration": 25,
    "start_time": "2022-08-25T17:20:03.116Z"
   },
   {
    "duration": 9,
    "start_time": "2022-08-25T17:20:03.143Z"
   },
   {
    "duration": 21,
    "start_time": "2022-08-25T17:20:03.153Z"
   },
   {
    "duration": 5,
    "start_time": "2022-08-25T17:20:03.175Z"
   },
   {
    "duration": 44,
    "start_time": "2022-08-25T17:20:03.181Z"
   },
   {
    "duration": 21,
    "start_time": "2022-08-25T17:20:03.227Z"
   },
   {
    "duration": 6,
    "start_time": "2022-08-25T17:20:03.250Z"
   },
   {
    "duration": 11,
    "start_time": "2022-08-25T17:20:03.258Z"
   },
   {
    "duration": 6,
    "start_time": "2022-08-25T17:20:03.271Z"
   },
   {
    "duration": 1315,
    "start_time": "2022-08-25T17:20:03.279Z"
   },
   {
    "duration": 28,
    "start_time": "2022-08-25T17:20:04.597Z"
   },
   {
    "duration": 30,
    "start_time": "2022-08-25T17:20:04.628Z"
   },
   {
    "duration": 1274,
    "start_time": "2022-08-25T17:20:04.660Z"
   },
   {
    "duration": 19,
    "start_time": "2022-08-25T17:20:05.936Z"
   },
   {
    "duration": 27,
    "start_time": "2022-08-25T17:20:05.956Z"
   },
   {
    "duration": 30,
    "start_time": "2022-08-25T17:20:05.985Z"
   },
   {
    "duration": 31,
    "start_time": "2022-08-25T17:20:06.017Z"
   },
   {
    "duration": 41,
    "start_time": "2022-08-25T17:20:06.050Z"
   },
   {
    "duration": 21,
    "start_time": "2022-08-25T17:20:06.093Z"
   },
   {
    "duration": 126,
    "start_time": "2022-08-25T17:20:06.118Z"
   },
   {
    "duration": 9,
    "start_time": "2022-08-25T17:20:06.246Z"
   },
   {
    "duration": 360,
    "start_time": "2022-08-25T17:20:06.256Z"
   },
   {
    "duration": 120,
    "start_time": "2022-08-25T17:20:06.617Z"
   },
   {
    "duration": 9,
    "start_time": "2022-08-25T17:20:06.740Z"
   },
   {
    "duration": 61,
    "start_time": "2022-08-25T17:20:06.750Z"
   },
   {
    "duration": 20,
    "start_time": "2022-08-25T17:20:06.813Z"
   },
   {
    "duration": 118,
    "start_time": "2022-08-25T17:20:06.835Z"
   },
   {
    "duration": 58,
    "start_time": "2022-08-25T17:20:06.954Z"
   },
   {
    "duration": 5,
    "start_time": "2022-08-25T17:20:32.782Z"
   },
   {
    "duration": 78,
    "start_time": "2022-08-25T17:20:55.248Z"
   },
   {
    "duration": 9,
    "start_time": "2022-08-25T17:20:56.927Z"
   },
   {
    "duration": 8,
    "start_time": "2022-08-25T17:21:23.099Z"
   },
   {
    "duration": 7,
    "start_time": "2022-08-25T17:21:32.945Z"
   },
   {
    "duration": 79,
    "start_time": "2022-08-25T17:21:51.259Z"
   },
   {
    "duration": 7,
    "start_time": "2022-08-25T17:21:56.236Z"
   },
   {
    "duration": 3,
    "start_time": "2022-08-25T17:22:58.778Z"
   },
   {
    "duration": 5,
    "start_time": "2022-08-25T17:23:12.204Z"
   },
   {
    "duration": 6,
    "start_time": "2022-08-25T17:24:32.502Z"
   },
   {
    "duration": 11,
    "start_time": "2022-08-25T17:25:11.915Z"
   },
   {
    "duration": 9,
    "start_time": "2022-08-25T17:25:19.102Z"
   },
   {
    "duration": 3,
    "start_time": "2022-08-25T17:27:08.810Z"
   },
   {
    "duration": 5,
    "start_time": "2022-08-25T17:27:41.987Z"
   },
   {
    "duration": 132,
    "start_time": "2022-08-25T17:37:11.070Z"
   },
   {
    "duration": 27,
    "start_time": "2022-08-25T17:37:23.709Z"
   },
   {
    "duration": 91,
    "start_time": "2022-08-25T17:37:41.612Z"
   },
   {
    "duration": 6,
    "start_time": "2022-08-25T17:37:45.098Z"
   },
   {
    "duration": 89,
    "start_time": "2022-08-25T17:38:00.724Z"
   },
   {
    "duration": 7,
    "start_time": "2022-08-25T17:38:02.280Z"
   },
   {
    "duration": 1098,
    "start_time": "2022-08-25T17:40:21.748Z"
   },
   {
    "duration": 103,
    "start_time": "2022-08-25T17:41:00.718Z"
   },
   {
    "duration": 105,
    "start_time": "2022-08-25T17:41:07.444Z"
   },
   {
    "duration": 6,
    "start_time": "2022-08-25T17:41:08.372Z"
   },
   {
    "duration": 1092,
    "start_time": "2022-08-25T17:41:11.816Z"
   },
   {
    "duration": 10,
    "start_time": "2022-08-25T17:41:23.813Z"
   },
   {
    "duration": 4,
    "start_time": "2022-08-25T17:41:50.255Z"
   },
   {
    "duration": 8,
    "start_time": "2022-08-25T17:41:51.377Z"
   },
   {
    "duration": 3,
    "start_time": "2022-08-25T17:42:00.901Z"
   },
   {
    "duration": 12,
    "start_time": "2022-08-25T17:42:02.647Z"
   },
   {
    "duration": 12,
    "start_time": "2022-08-25T17:43:47.501Z"
   },
   {
    "duration": 7,
    "start_time": "2022-08-25T17:44:14.184Z"
   },
   {
    "duration": 10,
    "start_time": "2022-08-25T17:45:26.029Z"
   },
   {
    "duration": 1092,
    "start_time": "2022-08-25T17:45:53.278Z"
   },
   {
    "duration": 155,
    "start_time": "2022-08-25T17:45:54.373Z"
   },
   {
    "duration": 3,
    "start_time": "2022-08-25T17:45:54.530Z"
   },
   {
    "duration": 102,
    "start_time": "2022-08-25T17:45:54.535Z"
   },
   {
    "duration": 2,
    "start_time": "2022-08-25T17:45:54.639Z"
   },
   {
    "duration": 25,
    "start_time": "2022-08-25T17:45:54.643Z"
   },
   {
    "duration": 69,
    "start_time": "2022-08-25T17:45:54.669Z"
   },
   {
    "duration": 114,
    "start_time": "2022-08-25T17:45:54.739Z"
   },
   {
    "duration": 25,
    "start_time": "2022-08-25T17:45:54.854Z"
   },
   {
    "duration": 8,
    "start_time": "2022-08-25T17:45:54.881Z"
   },
   {
    "duration": 32,
    "start_time": "2022-08-25T17:45:54.890Z"
   },
   {
    "duration": 20,
    "start_time": "2022-08-25T17:45:54.923Z"
   },
   {
    "duration": 20,
    "start_time": "2022-08-25T17:45:54.944Z"
   },
   {
    "duration": 26,
    "start_time": "2022-08-25T17:45:54.966Z"
   },
   {
    "duration": 5,
    "start_time": "2022-08-25T17:45:54.993Z"
   },
   {
    "duration": 15,
    "start_time": "2022-08-25T17:45:55.000Z"
   },
   {
    "duration": 12,
    "start_time": "2022-08-25T17:45:55.016Z"
   },
   {
    "duration": 1217,
    "start_time": "2022-08-25T17:45:55.029Z"
   },
   {
    "duration": 14,
    "start_time": "2022-08-25T17:45:56.248Z"
   },
   {
    "duration": 18,
    "start_time": "2022-08-25T17:45:56.263Z"
   },
   {
    "duration": 1176,
    "start_time": "2022-08-25T17:45:56.282Z"
   },
   {
    "duration": 18,
    "start_time": "2022-08-25T17:45:57.459Z"
   },
   {
    "duration": 19,
    "start_time": "2022-08-25T17:45:57.479Z"
   },
   {
    "duration": 16,
    "start_time": "2022-08-25T17:45:57.499Z"
   },
   {
    "duration": 32,
    "start_time": "2022-08-25T17:45:57.517Z"
   },
   {
    "duration": 25,
    "start_time": "2022-08-25T17:45:57.550Z"
   },
   {
    "duration": 21,
    "start_time": "2022-08-25T17:45:57.577Z"
   },
   {
    "duration": 63,
    "start_time": "2022-08-25T17:45:57.601Z"
   },
   {
    "duration": 6,
    "start_time": "2022-08-25T17:45:57.666Z"
   },
   {
    "duration": 155,
    "start_time": "2022-08-25T17:45:57.674Z"
   },
   {
    "duration": 83,
    "start_time": "2022-08-25T17:45:57.830Z"
   },
   {
    "duration": 6,
    "start_time": "2022-08-25T17:45:57.914Z"
   },
   {
    "duration": 30,
    "start_time": "2022-08-25T17:45:57.921Z"
   },
   {
    "duration": 102,
    "start_time": "2022-08-25T17:45:57.952Z"
   },
   {
    "duration": 7,
    "start_time": "2022-08-25T17:45:58.056Z"
   },
   {
    "duration": 22,
    "start_time": "2022-08-25T17:45:58.064Z"
   },
   {
    "duration": 14,
    "start_time": "2022-08-25T17:45:58.087Z"
   },
   {
    "duration": 84,
    "start_time": "2022-08-25T17:45:58.102Z"
   },
   {
    "duration": 6,
    "start_time": "2022-08-25T17:45:58.187Z"
   },
   {
    "duration": 22,
    "start_time": "2022-08-25T17:45:58.194Z"
   },
   {
    "duration": 32,
    "start_time": "2022-08-25T17:45:58.218Z"
   },
   {
    "duration": 31,
    "start_time": "2022-08-25T17:45:58.251Z"
   },
   {
    "duration": 42,
    "start_time": "2022-08-25T17:45:58.284Z"
   },
   {
    "duration": 19,
    "start_time": "2022-08-25T17:45:58.328Z"
   },
   {
    "duration": 20,
    "start_time": "2022-08-25T17:45:58.348Z"
   },
   {
    "duration": 15,
    "start_time": "2022-08-25T17:47:21.205Z"
   },
   {
    "duration": 1104,
    "start_time": "2022-08-25T17:48:05.562Z"
   },
   {
    "duration": 150,
    "start_time": "2022-08-25T17:48:06.667Z"
   },
   {
    "duration": 4,
    "start_time": "2022-08-25T17:48:06.819Z"
   },
   {
    "duration": 86,
    "start_time": "2022-08-25T17:48:06.825Z"
   },
   {
    "duration": 3,
    "start_time": "2022-08-25T17:48:06.913Z"
   },
   {
    "duration": 16,
    "start_time": "2022-08-25T17:48:06.918Z"
   },
   {
    "duration": 60,
    "start_time": "2022-08-25T17:48:06.935Z"
   },
   {
    "duration": 131,
    "start_time": "2022-08-25T17:48:06.997Z"
   },
   {
    "duration": 25,
    "start_time": "2022-08-25T17:48:07.130Z"
   },
   {
    "duration": 8,
    "start_time": "2022-08-25T17:48:07.159Z"
   },
   {
    "duration": 43,
    "start_time": "2022-08-25T17:48:07.169Z"
   },
   {
    "duration": 5,
    "start_time": "2022-08-25T17:48:07.213Z"
   },
   {
    "duration": 16,
    "start_time": "2022-08-25T17:48:07.219Z"
   },
   {
    "duration": 18,
    "start_time": "2022-08-25T17:48:07.237Z"
   },
   {
    "duration": 5,
    "start_time": "2022-08-25T17:48:07.257Z"
   },
   {
    "duration": 11,
    "start_time": "2022-08-25T17:48:07.264Z"
   },
   {
    "duration": 36,
    "start_time": "2022-08-25T17:48:07.276Z"
   },
   {
    "duration": 2101,
    "start_time": "2022-08-25T17:48:07.313Z"
   },
   {
    "duration": 14,
    "start_time": "2022-08-25T17:48:09.416Z"
   },
   {
    "duration": 22,
    "start_time": "2022-08-25T17:48:09.432Z"
   },
   {
    "duration": 1275,
    "start_time": "2022-08-25T17:48:09.456Z"
   },
   {
    "duration": 15,
    "start_time": "2022-08-25T17:48:10.733Z"
   },
   {
    "duration": 31,
    "start_time": "2022-08-25T17:48:10.749Z"
   },
   {
    "duration": 6,
    "start_time": "2022-08-25T17:48:10.782Z"
   },
   {
    "duration": 30,
    "start_time": "2022-08-25T17:48:10.789Z"
   },
   {
    "duration": 22,
    "start_time": "2022-08-25T17:48:10.821Z"
   },
   {
    "duration": 8,
    "start_time": "2022-08-25T17:48:10.845Z"
   },
   {
    "duration": 68,
    "start_time": "2022-08-25T17:48:10.856Z"
   },
   {
    "duration": 7,
    "start_time": "2022-08-25T17:48:10.925Z"
   },
   {
    "duration": 157,
    "start_time": "2022-08-25T17:48:10.933Z"
   },
   {
    "duration": 49,
    "start_time": "2022-08-25T17:48:11.092Z"
   },
   {
    "duration": 6,
    "start_time": "2022-08-25T17:48:11.143Z"
   },
   {
    "duration": 7,
    "start_time": "2022-08-25T17:48:11.151Z"
   },
   {
    "duration": 111,
    "start_time": "2022-08-25T17:48:11.211Z"
   },
   {
    "duration": 7,
    "start_time": "2022-08-25T17:48:11.324Z"
   },
   {
    "duration": 12,
    "start_time": "2022-08-25T17:48:11.333Z"
   },
   {
    "duration": 8,
    "start_time": "2022-08-25T17:48:11.346Z"
   },
   {
    "duration": 110,
    "start_time": "2022-08-25T17:48:11.356Z"
   },
   {
    "duration": 8,
    "start_time": "2022-08-25T17:48:11.467Z"
   },
   {
    "duration": 7,
    "start_time": "2022-08-25T17:48:11.477Z"
   },
   {
    "duration": 6,
    "start_time": "2022-08-25T17:48:11.486Z"
   },
   {
    "duration": 20,
    "start_time": "2022-08-25T17:48:11.494Z"
   },
   {
    "duration": 12,
    "start_time": "2022-08-25T17:48:11.516Z"
   },
   {
    "duration": 6,
    "start_time": "2022-08-25T17:48:11.529Z"
   },
   {
    "duration": 7,
    "start_time": "2022-08-25T17:48:11.536Z"
   },
   {
    "duration": 110,
    "start_time": "2022-08-25T17:48:21.791Z"
   },
   {
    "duration": 11,
    "start_time": "2022-08-25T17:48:40.626Z"
   },
   {
    "duration": 11,
    "start_time": "2022-08-25T17:49:04.026Z"
   },
   {
    "duration": 47,
    "start_time": "2022-08-25T17:50:16.667Z"
   },
   {
    "duration": 5,
    "start_time": "2022-08-25T17:50:27.256Z"
   },
   {
    "duration": 5,
    "start_time": "2022-08-25T17:50:46.322Z"
   },
   {
    "duration": 13,
    "start_time": "2022-08-25T17:51:06.222Z"
   },
   {
    "duration": 22,
    "start_time": "2022-08-25T17:53:44.775Z"
   },
   {
    "duration": 17,
    "start_time": "2022-08-25T17:53:53.454Z"
   },
   {
    "duration": 12,
    "start_time": "2022-08-25T17:55:29.830Z"
   },
   {
    "duration": 12,
    "start_time": "2022-08-25T17:56:13.153Z"
   },
   {
    "duration": 12,
    "start_time": "2022-08-25T17:56:35.634Z"
   },
   {
    "duration": 12,
    "start_time": "2022-08-25T17:56:49.288Z"
   },
   {
    "duration": 19,
    "start_time": "2022-08-25T17:57:01.285Z"
   },
   {
    "duration": 21,
    "start_time": "2022-08-25T17:57:16.118Z"
   },
   {
    "duration": 14,
    "start_time": "2022-08-25T17:57:53.756Z"
   },
   {
    "duration": 20,
    "start_time": "2022-08-25T17:59:05.425Z"
   },
   {
    "duration": 12,
    "start_time": "2022-08-25T17:59:19.399Z"
   },
   {
    "duration": 22,
    "start_time": "2022-08-25T17:59:30.868Z"
   },
   {
    "duration": 19,
    "start_time": "2022-08-25T17:59:39.664Z"
   },
   {
    "duration": 12,
    "start_time": "2022-08-25T17:59:49.325Z"
   },
   {
    "duration": 13,
    "start_time": "2022-08-25T18:00:21.315Z"
   },
   {
    "duration": 14,
    "start_time": "2022-08-25T18:00:31.503Z"
   },
   {
    "duration": 19,
    "start_time": "2022-08-25T18:00:48.291Z"
   },
   {
    "duration": 12,
    "start_time": "2022-08-25T18:01:41.657Z"
   },
   {
    "duration": 15,
    "start_time": "2022-08-25T18:02:07.085Z"
   },
   {
    "duration": 14,
    "start_time": "2022-08-25T18:02:22.170Z"
   },
   {
    "duration": 26,
    "start_time": "2022-08-25T18:02:46.151Z"
   },
   {
    "duration": 14,
    "start_time": "2022-08-25T18:03:18.931Z"
   },
   {
    "duration": 26,
    "start_time": "2022-08-25T18:03:29.888Z"
   },
   {
    "duration": 15,
    "start_time": "2022-08-25T18:03:51.147Z"
   },
   {
    "duration": 14,
    "start_time": "2022-08-25T18:04:29.523Z"
   },
   {
    "duration": 6,
    "start_time": "2022-08-25T18:05:09.037Z"
   },
   {
    "duration": 80,
    "start_time": "2022-08-25T18:05:21.565Z"
   },
   {
    "duration": 21,
    "start_time": "2022-08-25T18:06:04.627Z"
   },
   {
    "duration": 16,
    "start_time": "2022-08-25T18:06:25.556Z"
   },
   {
    "duration": 19,
    "start_time": "2022-08-25T18:06:35.830Z"
   },
   {
    "duration": 47,
    "start_time": "2022-08-25T18:08:08.284Z"
   },
   {
    "duration": 16,
    "start_time": "2022-08-25T18:08:35.178Z"
   },
   {
    "duration": 16,
    "start_time": "2022-08-25T18:08:40.633Z"
   },
   {
    "duration": 15,
    "start_time": "2022-08-25T18:09:04.975Z"
   },
   {
    "duration": 23,
    "start_time": "2022-08-25T18:09:54.296Z"
   },
   {
    "duration": 13,
    "start_time": "2022-08-25T18:09:56.487Z"
   },
   {
    "duration": 14,
    "start_time": "2022-08-25T18:10:09.526Z"
   },
   {
    "duration": 15,
    "start_time": "2022-08-25T18:11:11.637Z"
   },
   {
    "duration": 15,
    "start_time": "2022-08-25T18:11:56.631Z"
   },
   {
    "duration": 9,
    "start_time": "2022-08-25T18:22:33.200Z"
   },
   {
    "duration": 4,
    "start_time": "2022-08-25T18:23:42.392Z"
   },
   {
    "duration": 8,
    "start_time": "2022-08-25T18:23:49.301Z"
   },
   {
    "duration": 6,
    "start_time": "2022-08-25T18:24:43.676Z"
   },
   {
    "duration": 8,
    "start_time": "2022-08-25T18:24:44.289Z"
   },
   {
    "duration": 3,
    "start_time": "2022-08-25T18:41:21.731Z"
   },
   {
    "duration": 17,
    "start_time": "2022-08-25T18:41:51.055Z"
   },
   {
    "duration": 41,
    "start_time": "2022-08-25T18:44:24.569Z"
   },
   {
    "duration": 58,
    "start_time": "2022-08-25T18:44:33.075Z"
   },
   {
    "duration": 5,
    "start_time": "2022-08-25T18:44:47.761Z"
   },
   {
    "duration": 55,
    "start_time": "2022-08-25T18:44:51.177Z"
   },
   {
    "duration": 51,
    "start_time": "2022-08-25T18:44:54.658Z"
   },
   {
    "duration": 177,
    "start_time": "2022-08-25T18:45:42.595Z"
   },
   {
    "duration": 332,
    "start_time": "2022-08-25T18:45:56.344Z"
   },
   {
    "duration": 4,
    "start_time": "2022-08-25T18:46:10.829Z"
   },
   {
    "duration": 5,
    "start_time": "2022-08-25T18:46:53.894Z"
   },
   {
    "duration": 4,
    "start_time": "2022-08-25T18:47:37.376Z"
   },
   {
    "duration": 4,
    "start_time": "2022-08-25T18:47:39.632Z"
   },
   {
    "duration": 9,
    "start_time": "2022-08-25T18:50:48.042Z"
   },
   {
    "duration": 9,
    "start_time": "2022-08-25T18:51:02.139Z"
   },
   {
    "duration": 14,
    "start_time": "2022-08-25T18:51:44.789Z"
   },
   {
    "duration": 131,
    "start_time": "2022-08-25T19:00:28.239Z"
   },
   {
    "duration": 83,
    "start_time": "2022-08-25T19:00:38.761Z"
   },
   {
    "duration": 4,
    "start_time": "2022-08-25T19:01:14.310Z"
   },
   {
    "duration": 774,
    "start_time": "2022-08-25T19:01:45.209Z"
   },
   {
    "duration": 11,
    "start_time": "2022-08-25T19:01:55.368Z"
   },
   {
    "duration": 4,
    "start_time": "2022-08-25T19:03:03.380Z"
   },
   {
    "duration": 12,
    "start_time": "2022-08-25T19:03:04.505Z"
   },
   {
    "duration": 5,
    "start_time": "2022-08-25T19:03:19.395Z"
   },
   {
    "duration": 5,
    "start_time": "2022-08-25T19:03:44.839Z"
   },
   {
    "duration": 841,
    "start_time": "2022-08-25T19:03:52.837Z"
   },
   {
    "duration": 4,
    "start_time": "2022-08-25T19:03:57.806Z"
   },
   {
    "duration": 4,
    "start_time": "2022-08-25T19:04:00.789Z"
   },
   {
    "duration": 11,
    "start_time": "2022-08-25T19:14:33.346Z"
   },
   {
    "duration": 754,
    "start_time": "2022-08-25T19:14:36.442Z"
   },
   {
    "duration": 9,
    "start_time": "2022-08-25T19:14:49.936Z"
   },
   {
    "duration": 4,
    "start_time": "2022-08-25T19:14:54.135Z"
   },
   {
    "duration": 4,
    "start_time": "2022-08-25T19:15:20.845Z"
   },
   {
    "duration": 52,
    "start_time": "2022-08-25T19:20:00.135Z"
   },
   {
    "duration": 10,
    "start_time": "2022-08-25T19:20:09.460Z"
   },
   {
    "duration": 2,
    "start_time": "2022-08-25T19:20:29.489Z"
   },
   {
    "duration": 4,
    "start_time": "2022-08-25T19:20:30.008Z"
   },
   {
    "duration": 10,
    "start_time": "2022-08-25T19:20:30.343Z"
   },
   {
    "duration": 12,
    "start_time": "2022-08-25T19:23:02.437Z"
   },
   {
    "duration": 3,
    "start_time": "2022-08-25T19:23:17.953Z"
   },
   {
    "duration": 4,
    "start_time": "2022-08-25T19:23:18.346Z"
   },
   {
    "duration": 4,
    "start_time": "2022-08-25T19:26:10.359Z"
   },
   {
    "duration": 60,
    "start_time": "2022-08-25T19:26:13.801Z"
   },
   {
    "duration": 49,
    "start_time": "2022-08-25T19:26:30.630Z"
   },
   {
    "duration": 82,
    "start_time": "2022-08-25T19:26:43.562Z"
   },
   {
    "duration": 46,
    "start_time": "2022-08-25T19:26:47.905Z"
   },
   {
    "duration": 4,
    "start_time": "2022-08-25T19:27:01.919Z"
   },
   {
    "duration": 4,
    "start_time": "2022-08-25T19:27:04.575Z"
   },
   {
    "duration": 8,
    "start_time": "2022-08-25T19:27:10.422Z"
   },
   {
    "duration": 3,
    "start_time": "2022-08-25T19:27:21.964Z"
   },
   {
    "duration": 5,
    "start_time": "2022-08-25T19:27:23.119Z"
   },
   {
    "duration": 3,
    "start_time": "2022-08-25T19:27:35.723Z"
   },
   {
    "duration": 12,
    "start_time": "2022-08-25T19:27:36.699Z"
   },
   {
    "duration": 4,
    "start_time": "2022-08-25T19:27:39.882Z"
   },
   {
    "duration": 6,
    "start_time": "2022-08-25T19:27:40.510Z"
   },
   {
    "duration": 46,
    "start_time": "2022-08-25T19:27:58.648Z"
   },
   {
    "duration": 4,
    "start_time": "2022-08-25T19:28:04.699Z"
   },
   {
    "duration": 7,
    "start_time": "2022-08-25T19:28:05.877Z"
   },
   {
    "duration": 4,
    "start_time": "2022-08-25T19:28:27.047Z"
   },
   {
    "duration": 6,
    "start_time": "2022-08-25T19:28:27.802Z"
   },
   {
    "duration": 4,
    "start_time": "2022-08-25T19:28:53.263Z"
   },
   {
    "duration": 7,
    "start_time": "2022-08-25T19:28:54.690Z"
   },
   {
    "duration": 6,
    "start_time": "2022-08-25T19:30:50.818Z"
   },
   {
    "duration": 5,
    "start_time": "2022-08-25T19:30:51.860Z"
   },
   {
    "duration": 4,
    "start_time": "2022-08-25T19:31:15.210Z"
   },
   {
    "duration": 6,
    "start_time": "2022-08-25T19:31:16.089Z"
   },
   {
    "duration": 3,
    "start_time": "2022-08-25T19:32:35.036Z"
   },
   {
    "duration": 5,
    "start_time": "2022-08-25T19:32:35.476Z"
   },
   {
    "duration": 5,
    "start_time": "2022-08-25T19:32:38.610Z"
   },
   {
    "duration": 6,
    "start_time": "2022-08-25T19:32:39.817Z"
   },
   {
    "duration": 4,
    "start_time": "2022-08-25T19:34:04.967Z"
   },
   {
    "duration": 12,
    "start_time": "2022-08-25T19:34:06.063Z"
   },
   {
    "duration": 4,
    "start_time": "2022-08-25T19:34:13.872Z"
   },
   {
    "duration": 6,
    "start_time": "2022-08-25T19:34:14.797Z"
   },
   {
    "duration": 4,
    "start_time": "2022-08-25T19:34:33.591Z"
   },
   {
    "duration": 7,
    "start_time": "2022-08-25T19:34:34.446Z"
   },
   {
    "duration": 4,
    "start_time": "2022-08-25T19:34:40.973Z"
   },
   {
    "duration": 6,
    "start_time": "2022-08-25T19:34:41.547Z"
   },
   {
    "duration": 6,
    "start_time": "2022-08-25T19:34:43.525Z"
   },
   {
    "duration": 6,
    "start_time": "2022-08-25T19:34:43.857Z"
   },
   {
    "duration": 54,
    "start_time": "2022-08-25T19:34:49.838Z"
   },
   {
    "duration": 56,
    "start_time": "2022-08-25T20:20:00.132Z"
   },
   {
    "duration": 4,
    "start_time": "2022-08-25T20:20:04.863Z"
   },
   {
    "duration": 16,
    "start_time": "2022-08-25T20:20:59.917Z"
   },
   {
    "duration": 14,
    "start_time": "2022-08-25T20:21:20.719Z"
   },
   {
    "duration": 17,
    "start_time": "2022-08-25T20:21:32.595Z"
   },
   {
    "duration": 12,
    "start_time": "2022-08-25T20:22:07.410Z"
   },
   {
    "duration": 9,
    "start_time": "2022-08-25T20:31:05.985Z"
   },
   {
    "duration": 6,
    "start_time": "2022-08-25T20:32:24.238Z"
   },
   {
    "duration": 6,
    "start_time": "2022-08-25T20:32:46.231Z"
   },
   {
    "duration": 5,
    "start_time": "2022-08-25T20:32:48.312Z"
   },
   {
    "duration": 6,
    "start_time": "2022-08-25T20:32:48.694Z"
   },
   {
    "duration": 5,
    "start_time": "2022-08-25T20:34:28.940Z"
   },
   {
    "duration": 6,
    "start_time": "2022-08-25T20:34:33.151Z"
   },
   {
    "duration": 5,
    "start_time": "2022-08-25T20:35:20.423Z"
   },
   {
    "duration": 3,
    "start_time": "2022-08-25T20:35:44.197Z"
   },
   {
    "duration": 7,
    "start_time": "2022-08-25T20:36:03.542Z"
   },
   {
    "duration": 6,
    "start_time": "2022-08-25T20:36:25.151Z"
   },
   {
    "duration": 6,
    "start_time": "2022-08-25T20:36:37.245Z"
   },
   {
    "duration": 6,
    "start_time": "2022-08-25T20:36:49.296Z"
   },
   {
    "duration": 6,
    "start_time": "2022-08-25T20:36:50.583Z"
   },
   {
    "duration": 6,
    "start_time": "2022-08-25T20:36:51.080Z"
   },
   {
    "duration": 1080,
    "start_time": "2022-08-25T20:36:58.581Z"
   },
   {
    "duration": 150,
    "start_time": "2022-08-25T20:36:59.663Z"
   },
   {
    "duration": 4,
    "start_time": "2022-08-25T20:36:59.819Z"
   },
   {
    "duration": 89,
    "start_time": "2022-08-25T20:36:59.825Z"
   },
   {
    "duration": 4,
    "start_time": "2022-08-25T20:36:59.915Z"
   },
   {
    "duration": 22,
    "start_time": "2022-08-25T20:36:59.920Z"
   },
   {
    "duration": 55,
    "start_time": "2022-08-25T20:36:59.944Z"
   },
   {
    "duration": 134,
    "start_time": "2022-08-25T20:37:00.001Z"
   },
   {
    "duration": 24,
    "start_time": "2022-08-25T20:37:00.137Z"
   },
   {
    "duration": 9,
    "start_time": "2022-08-25T20:37:00.162Z"
   },
   {
    "duration": 21,
    "start_time": "2022-08-25T20:37:00.173Z"
   },
   {
    "duration": 6,
    "start_time": "2022-08-25T20:37:00.211Z"
   },
   {
    "duration": 42,
    "start_time": "2022-08-25T20:37:00.219Z"
   },
   {
    "duration": 24,
    "start_time": "2022-08-25T20:37:00.263Z"
   },
   {
    "duration": 6,
    "start_time": "2022-08-25T20:37:00.288Z"
   },
   {
    "duration": 17,
    "start_time": "2022-08-25T20:37:00.295Z"
   },
   {
    "duration": 21,
    "start_time": "2022-08-25T20:37:00.313Z"
   },
   {
    "duration": 1321,
    "start_time": "2022-08-25T20:37:00.335Z"
   },
   {
    "duration": 13,
    "start_time": "2022-08-25T20:37:01.658Z"
   },
   {
    "duration": 30,
    "start_time": "2022-08-25T20:37:01.673Z"
   },
   {
    "duration": 1335,
    "start_time": "2022-08-25T20:37:01.704Z"
   },
   {
    "duration": 16,
    "start_time": "2022-08-25T20:37:03.041Z"
   },
   {
    "duration": 16,
    "start_time": "2022-08-25T20:37:03.058Z"
   },
   {
    "duration": 7,
    "start_time": "2022-08-25T20:37:03.075Z"
   },
   {
    "duration": 44,
    "start_time": "2022-08-25T20:37:03.084Z"
   },
   {
    "duration": 27,
    "start_time": "2022-08-25T20:37:03.130Z"
   },
   {
    "duration": 9,
    "start_time": "2022-08-25T20:37:03.160Z"
   },
   {
    "duration": 64,
    "start_time": "2022-08-25T20:37:03.170Z"
   },
   {
    "duration": 6,
    "start_time": "2022-08-25T20:37:03.235Z"
   },
   {
    "duration": 158,
    "start_time": "2022-08-25T20:37:03.243Z"
   },
   {
    "duration": 56,
    "start_time": "2022-08-25T20:37:03.403Z"
   },
   {
    "duration": 8,
    "start_time": "2022-08-25T20:37:03.460Z"
   },
   {
    "duration": 3,
    "start_time": "2022-08-25T20:37:03.511Z"
   },
   {
    "duration": 139,
    "start_time": "2022-08-25T20:37:03.516Z"
   },
   {
    "duration": 9,
    "start_time": "2022-08-25T20:37:03.656Z"
   },
   {
    "duration": 28,
    "start_time": "2022-08-25T20:37:03.667Z"
   },
   {
    "duration": 6,
    "start_time": "2022-08-25T20:37:03.697Z"
   },
   {
    "duration": 9,
    "start_time": "2022-08-25T20:37:03.705Z"
   },
   {
    "duration": 35,
    "start_time": "2022-08-25T20:37:03.715Z"
   },
   {
    "duration": 8,
    "start_time": "2022-08-25T20:37:03.752Z"
   },
   {
    "duration": 10,
    "start_time": "2022-08-25T20:37:03.761Z"
   },
   {
    "duration": 19,
    "start_time": "2022-08-25T20:37:03.773Z"
   },
   {
    "duration": 7,
    "start_time": "2022-08-25T20:37:03.793Z"
   },
   {
    "duration": 11,
    "start_time": "2022-08-25T20:37:03.801Z"
   },
   {
    "duration": 95,
    "start_time": "2022-08-25T20:37:03.814Z"
   },
   {
    "duration": 6,
    "start_time": "2022-08-25T20:37:03.910Z"
   },
   {
    "duration": 22,
    "start_time": "2022-08-25T20:37:03.917Z"
   },
   {
    "duration": 4,
    "start_time": "2022-08-25T20:37:03.940Z"
   },
   {
    "duration": 18,
    "start_time": "2022-08-25T20:37:03.945Z"
   },
   {
    "duration": 7,
    "start_time": "2022-08-25T20:37:03.965Z"
   },
   {
    "duration": 9,
    "start_time": "2022-08-25T20:37:03.974Z"
   },
   {
    "duration": 7,
    "start_time": "2022-08-25T20:37:03.984Z"
   },
   {
    "duration": 60,
    "start_time": "2022-08-25T20:37:03.992Z"
   },
   {
    "duration": 74,
    "start_time": "2022-08-25T20:37:04.054Z"
   },
   {
    "duration": 5,
    "start_time": "2022-08-25T20:37:04.129Z"
   },
   {
    "duration": 7,
    "start_time": "2022-08-25T20:37:04.135Z"
   },
   {
    "duration": 6,
    "start_time": "2022-08-25T20:37:24.748Z"
   },
   {
    "duration": 5,
    "start_time": "2022-08-25T20:37:39.601Z"
   },
   {
    "duration": 8,
    "start_time": "2022-08-25T20:37:40.008Z"
   },
   {
    "duration": 5,
    "start_time": "2022-08-25T20:37:56.712Z"
   },
   {
    "duration": 10,
    "start_time": "2022-08-25T20:38:27.860Z"
   },
   {
    "duration": 9,
    "start_time": "2022-08-25T20:38:47.748Z"
   },
   {
    "duration": 84,
    "start_time": "2022-08-25T20:39:05.461Z"
   },
   {
    "duration": 10,
    "start_time": "2022-08-25T20:39:09.564Z"
   },
   {
    "duration": 1106,
    "start_time": "2022-08-25T20:39:22.889Z"
   },
   {
    "duration": 167,
    "start_time": "2022-08-25T20:39:23.996Z"
   },
   {
    "duration": 3,
    "start_time": "2022-08-25T20:39:24.165Z"
   },
   {
    "duration": 90,
    "start_time": "2022-08-25T20:39:24.171Z"
   },
   {
    "duration": 3,
    "start_time": "2022-08-25T20:39:24.263Z"
   },
   {
    "duration": 13,
    "start_time": "2022-08-25T20:39:24.268Z"
   },
   {
    "duration": 104,
    "start_time": "2022-08-25T20:39:24.283Z"
   },
   {
    "duration": 122,
    "start_time": "2022-08-25T20:39:24.389Z"
   },
   {
    "duration": 32,
    "start_time": "2022-08-25T20:39:24.513Z"
   },
   {
    "duration": 11,
    "start_time": "2022-08-25T20:39:24.548Z"
   },
   {
    "duration": 20,
    "start_time": "2022-08-25T20:39:24.561Z"
   },
   {
    "duration": 7,
    "start_time": "2022-08-25T20:39:24.583Z"
   },
   {
    "duration": 33,
    "start_time": "2022-08-25T20:39:24.611Z"
   },
   {
    "duration": 21,
    "start_time": "2022-08-25T20:39:24.645Z"
   },
   {
    "duration": 7,
    "start_time": "2022-08-25T20:39:24.667Z"
   },
   {
    "duration": 9,
    "start_time": "2022-08-25T20:39:24.675Z"
   },
   {
    "duration": 26,
    "start_time": "2022-08-25T20:39:24.685Z"
   },
   {
    "duration": 1357,
    "start_time": "2022-08-25T20:39:24.713Z"
   },
   {
    "duration": 15,
    "start_time": "2022-08-25T20:39:26.071Z"
   },
   {
    "duration": 24,
    "start_time": "2022-08-25T20:39:26.088Z"
   },
   {
    "duration": 1339,
    "start_time": "2022-08-25T20:39:26.113Z"
   },
   {
    "duration": 27,
    "start_time": "2022-08-25T20:39:27.454Z"
   },
   {
    "duration": 29,
    "start_time": "2022-08-25T20:39:27.483Z"
   },
   {
    "duration": 9,
    "start_time": "2022-08-25T20:39:27.513Z"
   },
   {
    "duration": 36,
    "start_time": "2022-08-25T20:39:27.523Z"
   },
   {
    "duration": 25,
    "start_time": "2022-08-25T20:39:27.561Z"
   },
   {
    "duration": 24,
    "start_time": "2022-08-25T20:39:27.588Z"
   },
   {
    "duration": 60,
    "start_time": "2022-08-25T20:39:27.616Z"
   },
   {
    "duration": 10,
    "start_time": "2022-08-25T20:39:27.677Z"
   },
   {
    "duration": 206,
    "start_time": "2022-08-25T20:39:27.689Z"
   },
   {
    "duration": 118,
    "start_time": "2022-08-25T20:39:27.897Z"
   },
   {
    "duration": 8,
    "start_time": "2022-08-25T20:39:28.016Z"
   },
   {
    "duration": 20,
    "start_time": "2022-08-25T20:39:28.026Z"
   },
   {
    "duration": 150,
    "start_time": "2022-08-25T20:39:28.048Z"
   },
   {
    "duration": 18,
    "start_time": "2022-08-25T20:39:28.200Z"
   },
   {
    "duration": 42,
    "start_time": "2022-08-25T20:39:28.219Z"
   },
   {
    "duration": 6,
    "start_time": "2022-08-25T20:39:28.263Z"
   },
   {
    "duration": 6,
    "start_time": "2022-08-25T20:39:28.271Z"
   },
   {
    "duration": 17,
    "start_time": "2022-08-25T20:39:28.279Z"
   },
   {
    "duration": 4,
    "start_time": "2022-08-25T20:39:28.298Z"
   },
   {
    "duration": 26,
    "start_time": "2022-08-25T20:39:28.303Z"
   },
   {
    "duration": 8,
    "start_time": "2022-08-25T20:39:28.331Z"
   },
   {
    "duration": 7,
    "start_time": "2022-08-25T20:39:28.341Z"
   },
   {
    "duration": 18,
    "start_time": "2022-08-25T20:39:28.349Z"
   },
   {
    "duration": 87,
    "start_time": "2022-08-25T20:39:28.369Z"
   },
   {
    "duration": 6,
    "start_time": "2022-08-25T20:39:28.458Z"
   },
   {
    "duration": 14,
    "start_time": "2022-08-25T20:39:28.465Z"
   },
   {
    "duration": 4,
    "start_time": "2022-08-25T20:39:28.481Z"
   },
   {
    "duration": 9,
    "start_time": "2022-08-25T20:39:28.486Z"
   },
   {
    "duration": 22,
    "start_time": "2022-08-25T20:39:28.511Z"
   },
   {
    "duration": 6,
    "start_time": "2022-08-25T20:39:28.535Z"
   },
   {
    "duration": 9,
    "start_time": "2022-08-25T20:39:28.543Z"
   },
   {
    "duration": 7,
    "start_time": "2022-08-25T20:39:28.553Z"
   },
   {
    "duration": 10,
    "start_time": "2022-08-25T20:39:28.562Z"
   },
   {
    "duration": 7,
    "start_time": "2022-08-25T20:39:28.573Z"
   },
   {
    "duration": 30,
    "start_time": "2022-08-25T20:39:28.582Z"
   },
   {
    "duration": 21,
    "start_time": "2022-08-25T20:39:28.613Z"
   },
   {
    "duration": 4,
    "start_time": "2022-08-25T20:40:16.268Z"
   },
   {
    "duration": 6,
    "start_time": "2022-08-25T20:40:42.306Z"
   },
   {
    "duration": 10,
    "start_time": "2022-08-25T20:40:43.512Z"
   },
   {
    "duration": 6,
    "start_time": "2022-08-25T20:40:44.407Z"
   },
   {
    "duration": 6,
    "start_time": "2022-08-25T20:40:45.104Z"
   },
   {
    "duration": 8,
    "start_time": "2022-08-25T20:41:54.503Z"
   },
   {
    "duration": 15,
    "start_time": "2022-08-25T20:44:17.184Z"
   },
   {
    "duration": 15,
    "start_time": "2022-08-25T20:45:07.571Z"
   },
   {
    "duration": 19,
    "start_time": "2022-08-25T20:45:12.470Z"
   },
   {
    "duration": 15,
    "start_time": "2022-08-25T20:46:08.756Z"
   },
   {
    "duration": 4,
    "start_time": "2022-08-25T21:10:32.066Z"
   },
   {
    "duration": 11,
    "start_time": "2022-08-25T21:10:35.807Z"
   },
   {
    "duration": 4,
    "start_time": "2022-08-25T21:10:41.475Z"
   },
   {
    "duration": 8,
    "start_time": "2022-08-25T21:10:41.885Z"
   },
   {
    "duration": 4,
    "start_time": "2022-08-25T21:15:18.344Z"
   },
   {
    "duration": 10,
    "start_time": "2022-08-25T21:15:20.509Z"
   },
   {
    "duration": 119,
    "start_time": "2022-08-25T21:15:24.734Z"
   },
   {
    "duration": 15,
    "start_time": "2022-08-25T21:15:41.690Z"
   },
   {
    "duration": 2,
    "start_time": "2022-08-25T22:25:39.821Z"
   },
   {
    "duration": 3,
    "start_time": "2022-08-25T22:26:23.488Z"
   },
   {
    "duration": 17,
    "start_time": "2022-08-25T22:27:22.315Z"
   },
   {
    "duration": 7,
    "start_time": "2022-08-25T22:27:28.991Z"
   },
   {
    "duration": 4,
    "start_time": "2022-08-25T22:27:36.262Z"
   },
   {
    "duration": 15,
    "start_time": "2022-08-25T22:28:37.369Z"
   },
   {
    "duration": 4,
    "start_time": "2022-08-25T22:28:46.308Z"
   },
   {
    "duration": 4,
    "start_time": "2022-08-25T22:28:51.168Z"
   },
   {
    "duration": 3,
    "start_time": "2022-08-25T22:28:57.094Z"
   },
   {
    "duration": 3,
    "start_time": "2022-08-25T22:29:04.409Z"
   },
   {
    "duration": 1036,
    "start_time": "2022-08-25T22:29:23.439Z"
   },
   {
    "duration": 145,
    "start_time": "2022-08-25T22:29:24.477Z"
   },
   {
    "duration": 3,
    "start_time": "2022-08-25T22:29:24.624Z"
   },
   {
    "duration": 90,
    "start_time": "2022-08-25T22:29:24.628Z"
   },
   {
    "duration": 2,
    "start_time": "2022-08-25T22:29:24.720Z"
   },
   {
    "duration": 15,
    "start_time": "2022-08-25T22:29:24.724Z"
   },
   {
    "duration": 59,
    "start_time": "2022-08-25T22:29:24.741Z"
   },
   {
    "duration": 112,
    "start_time": "2022-08-25T22:29:24.801Z"
   },
   {
    "duration": 25,
    "start_time": "2022-08-25T22:29:24.914Z"
   },
   {
    "duration": 8,
    "start_time": "2022-08-25T22:29:24.941Z"
   },
   {
    "duration": 24,
    "start_time": "2022-08-25T22:29:24.951Z"
   },
   {
    "duration": 15,
    "start_time": "2022-08-25T22:29:24.976Z"
   },
   {
    "duration": 24,
    "start_time": "2022-08-25T22:29:25.011Z"
   },
   {
    "duration": 18,
    "start_time": "2022-08-25T22:29:25.037Z"
   },
   {
    "duration": 6,
    "start_time": "2022-08-25T22:29:25.057Z"
   },
   {
    "duration": 14,
    "start_time": "2022-08-25T22:29:25.064Z"
   },
   {
    "duration": 5,
    "start_time": "2022-08-25T22:29:25.079Z"
   },
   {
    "duration": 1228,
    "start_time": "2022-08-25T22:29:25.085Z"
   },
   {
    "duration": 15,
    "start_time": "2022-08-25T22:29:26.314Z"
   },
   {
    "duration": 18,
    "start_time": "2022-08-25T22:29:26.331Z"
   },
   {
    "duration": 1211,
    "start_time": "2022-08-25T22:29:26.350Z"
   },
   {
    "duration": 16,
    "start_time": "2022-08-25T22:29:27.563Z"
   },
   {
    "duration": 15,
    "start_time": "2022-08-25T22:29:27.580Z"
   },
   {
    "duration": 14,
    "start_time": "2022-08-25T22:29:27.597Z"
   },
   {
    "duration": 22,
    "start_time": "2022-08-25T22:29:27.613Z"
   },
   {
    "duration": 22,
    "start_time": "2022-08-25T22:29:27.636Z"
   },
   {
    "duration": 8,
    "start_time": "2022-08-25T22:29:27.660Z"
   },
   {
    "duration": 70,
    "start_time": "2022-08-25T22:29:27.671Z"
   },
   {
    "duration": 7,
    "start_time": "2022-08-25T22:29:27.743Z"
   },
   {
    "duration": 156,
    "start_time": "2022-08-25T22:29:27.751Z"
   },
   {
    "duration": 48,
    "start_time": "2022-08-25T22:29:27.909Z"
   },
   {
    "duration": 56,
    "start_time": "2022-08-25T22:29:27.958Z"
   },
   {
    "duration": 11,
    "start_time": "2022-08-25T22:29:28.016Z"
   },
   {
    "duration": 114,
    "start_time": "2022-08-25T22:29:28.028Z"
   },
   {
    "duration": 7,
    "start_time": "2022-08-25T22:29:28.143Z"
   },
   {
    "duration": 29,
    "start_time": "2022-08-25T22:29:28.151Z"
   },
   {
    "duration": 15,
    "start_time": "2022-08-25T22:29:28.181Z"
   },
   {
    "duration": 19,
    "start_time": "2022-08-25T22:29:28.197Z"
   },
   {
    "duration": 24,
    "start_time": "2022-08-25T22:29:28.217Z"
   },
   {
    "duration": 18,
    "start_time": "2022-08-25T22:29:28.242Z"
   },
   {
    "duration": 7,
    "start_time": "2022-08-25T22:29:28.261Z"
   },
   {
    "duration": 17,
    "start_time": "2022-08-25T22:29:28.269Z"
   },
   {
    "duration": 20,
    "start_time": "2022-08-25T22:29:28.288Z"
   },
   {
    "duration": 19,
    "start_time": "2022-08-25T22:29:28.309Z"
   },
   {
    "duration": 95,
    "start_time": "2022-08-25T22:29:28.329Z"
   },
   {
    "duration": 7,
    "start_time": "2022-08-25T22:29:28.426Z"
   },
   {
    "duration": 19,
    "start_time": "2022-08-25T22:29:28.435Z"
   },
   {
    "duration": 23,
    "start_time": "2022-08-25T22:29:28.456Z"
   },
   {
    "duration": 8,
    "start_time": "2022-08-25T22:29:28.480Z"
   },
   {
    "duration": 20,
    "start_time": "2022-08-25T22:29:28.489Z"
   },
   {
    "duration": 12,
    "start_time": "2022-08-25T22:29:28.511Z"
   },
   {
    "duration": 26,
    "start_time": "2022-08-25T22:29:28.525Z"
   },
   {
    "duration": 34,
    "start_time": "2022-08-25T22:29:28.552Z"
   },
   {
    "duration": 28,
    "start_time": "2022-08-25T22:29:28.587Z"
   },
   {
    "duration": 31,
    "start_time": "2022-08-25T22:29:28.617Z"
   },
   {
    "duration": 46,
    "start_time": "2022-08-25T22:29:28.649Z"
   },
   {
    "duration": 17,
    "start_time": "2022-08-25T22:29:28.696Z"
   },
   {
    "duration": 37,
    "start_time": "2022-08-25T22:29:28.714Z"
   },
   {
    "duration": 36,
    "start_time": "2022-08-25T22:29:28.752Z"
   },
   {
    "duration": 28,
    "start_time": "2022-08-25T22:29:28.789Z"
   },
   {
    "duration": 37,
    "start_time": "2022-08-25T22:29:28.819Z"
   },
   {
    "duration": 21,
    "start_time": "2022-08-25T22:29:28.858Z"
   },
   {
    "duration": 30,
    "start_time": "2022-08-25T22:29:28.880Z"
   },
   {
    "duration": 26,
    "start_time": "2022-08-25T22:29:28.912Z"
   },
   {
    "duration": 3,
    "start_time": "2022-08-25T22:30:28.481Z"
   },
   {
    "duration": 7,
    "start_time": "2022-08-25T22:30:32.177Z"
   },
   {
    "duration": 3,
    "start_time": "2022-08-25T22:31:07.866Z"
   },
   {
    "duration": 8,
    "start_time": "2022-08-25T22:31:08.407Z"
   },
   {
    "duration": 16,
    "start_time": "2022-08-25T22:33:01.870Z"
   },
   {
    "duration": 7,
    "start_time": "2022-08-25T22:33:02.294Z"
   },
   {
    "duration": 4,
    "start_time": "2022-08-25T22:42:41.809Z"
   },
   {
    "duration": 19,
    "start_time": "2022-08-25T22:42:43.131Z"
   },
   {
    "duration": 8,
    "start_time": "2022-08-25T22:42:44.436Z"
   },
   {
    "duration": 1336,
    "start_time": "2022-08-26T08:37:01.168Z"
   },
   {
    "duration": 519,
    "start_time": "2022-08-26T08:37:02.506Z"
   },
   {
    "duration": 3,
    "start_time": "2022-08-26T08:37:03.027Z"
   },
   {
    "duration": 105,
    "start_time": "2022-08-26T08:37:03.032Z"
   },
   {
    "duration": 4,
    "start_time": "2022-08-26T08:37:03.138Z"
   },
   {
    "duration": 46,
    "start_time": "2022-08-26T08:37:03.143Z"
   },
   {
    "duration": 79,
    "start_time": "2022-08-26T08:37:03.191Z"
   },
   {
    "duration": 117,
    "start_time": "2022-08-26T08:37:03.272Z"
   },
   {
    "duration": 32,
    "start_time": "2022-08-26T08:37:03.391Z"
   },
   {
    "duration": 22,
    "start_time": "2022-08-26T08:37:03.426Z"
   },
   {
    "duration": 33,
    "start_time": "2022-08-26T08:37:03.450Z"
   },
   {
    "duration": 16,
    "start_time": "2022-08-26T08:37:03.484Z"
   },
   {
    "duration": 38,
    "start_time": "2022-08-26T08:37:03.502Z"
   },
   {
    "duration": 39,
    "start_time": "2022-08-26T08:37:03.542Z"
   },
   {
    "duration": 19,
    "start_time": "2022-08-26T08:37:03.582Z"
   },
   {
    "duration": 28,
    "start_time": "2022-08-26T08:37:03.603Z"
   },
   {
    "duration": 25,
    "start_time": "2022-08-26T08:37:03.633Z"
   },
   {
    "duration": 1450,
    "start_time": "2022-08-26T08:37:03.659Z"
   },
   {
    "duration": 15,
    "start_time": "2022-08-26T08:37:05.111Z"
   },
   {
    "duration": 38,
    "start_time": "2022-08-26T08:37:05.128Z"
   },
   {
    "duration": 1387,
    "start_time": "2022-08-26T08:37:05.168Z"
   },
   {
    "duration": 18,
    "start_time": "2022-08-26T08:37:06.557Z"
   },
   {
    "duration": 29,
    "start_time": "2022-08-26T08:37:06.577Z"
   },
   {
    "duration": 7,
    "start_time": "2022-08-26T08:37:06.608Z"
   },
   {
    "duration": 25,
    "start_time": "2022-08-26T08:37:06.617Z"
   },
   {
    "duration": 23,
    "start_time": "2022-08-26T08:37:06.644Z"
   },
   {
    "duration": 10,
    "start_time": "2022-08-26T08:37:06.669Z"
   },
   {
    "duration": 53,
    "start_time": "2022-08-26T08:37:06.705Z"
   },
   {
    "duration": 7,
    "start_time": "2022-08-26T08:37:06.760Z"
   },
   {
    "duration": 167,
    "start_time": "2022-08-26T08:37:06.768Z"
   },
   {
    "duration": 81,
    "start_time": "2022-08-26T08:37:06.936Z"
   },
   {
    "duration": 7,
    "start_time": "2022-08-26T08:37:07.019Z"
   },
   {
    "duration": 21,
    "start_time": "2022-08-26T08:37:07.027Z"
   },
   {
    "duration": 127,
    "start_time": "2022-08-26T08:37:07.050Z"
   },
   {
    "duration": 7,
    "start_time": "2022-08-26T08:37:07.179Z"
   },
   {
    "duration": 31,
    "start_time": "2022-08-26T08:37:07.188Z"
   },
   {
    "duration": 6,
    "start_time": "2022-08-26T08:37:07.221Z"
   },
   {
    "duration": 8,
    "start_time": "2022-08-26T08:37:07.229Z"
   },
   {
    "duration": 22,
    "start_time": "2022-08-26T08:37:07.239Z"
   },
   {
    "duration": 15,
    "start_time": "2022-08-26T08:37:07.263Z"
   },
   {
    "duration": 7,
    "start_time": "2022-08-26T08:37:07.280Z"
   },
   {
    "duration": 16,
    "start_time": "2022-08-26T08:37:07.289Z"
   },
   {
    "duration": 7,
    "start_time": "2022-08-26T08:37:07.307Z"
   },
   {
    "duration": 9,
    "start_time": "2022-08-26T08:37:07.315Z"
   },
   {
    "duration": 107,
    "start_time": "2022-08-26T08:37:07.326Z"
   },
   {
    "duration": 11,
    "start_time": "2022-08-26T08:37:07.435Z"
   },
   {
    "duration": 17,
    "start_time": "2022-08-26T08:37:07.448Z"
   },
   {
    "duration": 23,
    "start_time": "2022-08-26T08:37:07.467Z"
   },
   {
    "duration": 24,
    "start_time": "2022-08-26T08:37:07.492Z"
   },
   {
    "duration": 14,
    "start_time": "2022-08-26T08:37:07.518Z"
   },
   {
    "duration": 12,
    "start_time": "2022-08-26T08:37:07.534Z"
   },
   {
    "duration": 18,
    "start_time": "2022-08-26T08:37:07.547Z"
   },
   {
    "duration": 41,
    "start_time": "2022-08-26T08:37:07.567Z"
   },
   {
    "duration": 4,
    "start_time": "2022-08-26T08:37:07.610Z"
   },
   {
    "duration": 12,
    "start_time": "2022-08-26T08:37:07.616Z"
   },
   {
    "duration": 21,
    "start_time": "2022-08-26T08:37:07.630Z"
   },
   {
    "duration": 5,
    "start_time": "2022-08-26T08:37:07.653Z"
   },
   {
    "duration": 46,
    "start_time": "2022-08-26T08:37:07.668Z"
   },
   {
    "duration": 15,
    "start_time": "2022-08-26T08:37:07.715Z"
   },
   {
    "duration": 13,
    "start_time": "2022-08-26T08:37:07.732Z"
   },
   {
    "duration": 5,
    "start_time": "2022-08-26T08:37:07.747Z"
   },
   {
    "duration": 96,
    "start_time": "2022-08-26T08:39:02.189Z"
   },
   {
    "duration": 14,
    "start_time": "2022-08-26T08:57:18.585Z"
   },
   {
    "duration": 6,
    "start_time": "2022-08-26T08:57:41.345Z"
   },
   {
    "duration": 14,
    "start_time": "2022-08-26T08:57:46.951Z"
   },
   {
    "duration": 5,
    "start_time": "2022-08-26T10:08:33.039Z"
   },
   {
    "duration": 3,
    "start_time": "2022-08-26T10:22:49.616Z"
   },
   {
    "duration": 3,
    "start_time": "2022-08-26T10:41:59.073Z"
   },
   {
    "duration": 12,
    "start_time": "2022-08-26T10:43:17.618Z"
   },
   {
    "duration": 15,
    "start_time": "2022-08-26T10:43:49.270Z"
   },
   {
    "duration": 15,
    "start_time": "2022-08-26T10:44:28.689Z"
   },
   {
    "duration": 13,
    "start_time": "2022-08-26T10:44:55.818Z"
   },
   {
    "duration": 12,
    "start_time": "2022-08-26T10:45:02.735Z"
   },
   {
    "duration": 16,
    "start_time": "2022-08-26T10:45:15.506Z"
   },
   {
    "duration": 14,
    "start_time": "2022-08-26T10:45:36.049Z"
   },
   {
    "duration": 1164,
    "start_time": "2022-08-26T10:45:50.075Z"
   },
   {
    "duration": 157,
    "start_time": "2022-08-26T10:45:51.241Z"
   },
   {
    "duration": 4,
    "start_time": "2022-08-26T10:45:51.400Z"
   },
   {
    "duration": 101,
    "start_time": "2022-08-26T10:45:51.406Z"
   },
   {
    "duration": 3,
    "start_time": "2022-08-26T10:45:51.509Z"
   },
   {
    "duration": 14,
    "start_time": "2022-08-26T10:45:51.513Z"
   },
   {
    "duration": 86,
    "start_time": "2022-08-26T10:45:51.529Z"
   },
   {
    "duration": 124,
    "start_time": "2022-08-26T10:45:51.617Z"
   },
   {
    "duration": 28,
    "start_time": "2022-08-26T10:45:51.743Z"
   },
   {
    "duration": 29,
    "start_time": "2022-08-26T10:45:51.774Z"
   },
   {
    "duration": 18,
    "start_time": "2022-08-26T10:45:51.805Z"
   },
   {
    "duration": 5,
    "start_time": "2022-08-26T10:45:51.825Z"
   },
   {
    "duration": 18,
    "start_time": "2022-08-26T10:45:51.831Z"
   },
   {
    "duration": 27,
    "start_time": "2022-08-26T10:45:51.850Z"
   },
   {
    "duration": 8,
    "start_time": "2022-08-26T10:45:51.902Z"
   },
   {
    "duration": 10,
    "start_time": "2022-08-26T10:45:51.913Z"
   },
   {
    "duration": 6,
    "start_time": "2022-08-26T10:45:51.925Z"
   },
   {
    "duration": 1411,
    "start_time": "2022-08-26T10:45:51.933Z"
   },
   {
    "duration": 16,
    "start_time": "2022-08-26T10:45:53.346Z"
   },
   {
    "duration": 19,
    "start_time": "2022-08-26T10:45:53.364Z"
   },
   {
    "duration": 1355,
    "start_time": "2022-08-26T10:45:53.402Z"
   },
   {
    "duration": 18,
    "start_time": "2022-08-26T10:45:54.758Z"
   },
   {
    "duration": 32,
    "start_time": "2022-08-26T10:45:54.778Z"
   },
   {
    "duration": 6,
    "start_time": "2022-08-26T10:45:54.812Z"
   },
   {
    "duration": 18,
    "start_time": "2022-08-26T10:45:54.819Z"
   },
   {
    "duration": 24,
    "start_time": "2022-08-26T10:45:54.838Z"
   },
   {
    "duration": 10,
    "start_time": "2022-08-26T10:45:54.863Z"
   },
   {
    "duration": 52,
    "start_time": "2022-08-26T10:45:54.904Z"
   },
   {
    "duration": 8,
    "start_time": "2022-08-26T10:45:54.958Z"
   },
   {
    "duration": 174,
    "start_time": "2022-08-26T10:45:54.967Z"
   },
   {
    "duration": 74,
    "start_time": "2022-08-26T10:45:55.142Z"
   },
   {
    "duration": 8,
    "start_time": "2022-08-26T10:45:55.218Z"
   },
   {
    "duration": 6,
    "start_time": "2022-08-26T10:45:55.227Z"
   },
   {
    "duration": 145,
    "start_time": "2022-08-26T10:45:55.235Z"
   },
   {
    "duration": 26,
    "start_time": "2022-08-26T10:45:55.381Z"
   },
   {
    "duration": 13,
    "start_time": "2022-08-26T10:45:55.409Z"
   },
   {
    "duration": 10,
    "start_time": "2022-08-26T10:45:55.423Z"
   },
   {
    "duration": 6,
    "start_time": "2022-08-26T10:45:55.434Z"
   },
   {
    "duration": 7,
    "start_time": "2022-08-26T10:45:55.442Z"
   },
   {
    "duration": 9,
    "start_time": "2022-08-26T10:45:55.451Z"
   },
   {
    "duration": 13,
    "start_time": "2022-08-26T10:45:55.461Z"
   },
   {
    "duration": 29,
    "start_time": "2022-08-26T10:45:55.475Z"
   },
   {
    "duration": 94,
    "start_time": "2022-08-26T10:45:55.506Z"
   },
   {
    "duration": 9,
    "start_time": "2022-08-26T10:45:55.602Z"
   },
   {
    "duration": 10,
    "start_time": "2022-08-26T10:45:55.612Z"
   },
   {
    "duration": 8,
    "start_time": "2022-08-26T10:45:55.624Z"
   },
   {
    "duration": 9,
    "start_time": "2022-08-26T10:45:55.633Z"
   },
   {
    "duration": 9,
    "start_time": "2022-08-26T10:45:55.644Z"
   },
   {
    "duration": 10,
    "start_time": "2022-08-26T10:45:55.655Z"
   },
   {
    "duration": 44,
    "start_time": "2022-08-26T10:45:55.667Z"
   },
   {
    "duration": 15,
    "start_time": "2022-08-26T10:45:55.712Z"
   },
   {
    "duration": 3,
    "start_time": "2022-08-26T10:45:55.729Z"
   },
   {
    "duration": 12,
    "start_time": "2022-08-26T10:45:55.734Z"
   },
   {
    "duration": 58,
    "start_time": "2022-08-26T10:45:55.747Z"
   },
   {
    "duration": 3,
    "start_time": "2022-08-26T10:45:55.807Z"
   },
   {
    "duration": 33,
    "start_time": "2022-08-26T10:45:55.812Z"
   },
   {
    "duration": 37,
    "start_time": "2022-08-26T10:45:55.847Z"
   },
   {
    "duration": 23,
    "start_time": "2022-08-26T10:45:55.885Z"
   },
   {
    "duration": 11,
    "start_time": "2022-08-26T10:45:55.909Z"
   },
   {
    "duration": 13,
    "start_time": "2022-08-26T10:46:30.320Z"
   },
   {
    "duration": 3,
    "start_time": "2022-08-26T10:59:42.387Z"
   },
   {
    "duration": 18,
    "start_time": "2022-08-26T11:02:43.210Z"
   },
   {
    "duration": 14,
    "start_time": "2022-08-26T11:04:13.825Z"
   },
   {
    "duration": 1166,
    "start_time": "2022-08-26T11:06:33.505Z"
   },
   {
    "duration": 158,
    "start_time": "2022-08-26T11:06:34.674Z"
   },
   {
    "duration": 4,
    "start_time": "2022-08-26T11:06:34.833Z"
   },
   {
    "duration": 100,
    "start_time": "2022-08-26T11:06:34.839Z"
   },
   {
    "duration": 3,
    "start_time": "2022-08-26T11:06:34.941Z"
   },
   {
    "duration": 22,
    "start_time": "2022-08-26T11:06:34.946Z"
   },
   {
    "duration": 81,
    "start_time": "2022-08-26T11:06:34.970Z"
   },
   {
    "duration": 124,
    "start_time": "2022-08-26T11:06:35.053Z"
   },
   {
    "duration": 28,
    "start_time": "2022-08-26T11:06:35.179Z"
   },
   {
    "duration": 9,
    "start_time": "2022-08-26T11:06:35.210Z"
   },
   {
    "duration": 21,
    "start_time": "2022-08-26T11:06:35.221Z"
   },
   {
    "duration": 5,
    "start_time": "2022-08-26T11:06:35.244Z"
   },
   {
    "duration": 24,
    "start_time": "2022-08-26T11:06:35.250Z"
   },
   {
    "duration": 23,
    "start_time": "2022-08-26T11:06:35.302Z"
   },
   {
    "duration": 6,
    "start_time": "2022-08-26T11:06:35.327Z"
   },
   {
    "duration": 14,
    "start_time": "2022-08-26T11:06:35.335Z"
   },
   {
    "duration": 6,
    "start_time": "2022-08-26T11:06:35.351Z"
   },
   {
    "duration": 1453,
    "start_time": "2022-08-26T11:06:35.359Z"
   },
   {
    "duration": 16,
    "start_time": "2022-08-26T11:06:36.814Z"
   },
   {
    "duration": 20,
    "start_time": "2022-08-26T11:06:36.831Z"
   },
   {
    "duration": 1405,
    "start_time": "2022-08-26T11:06:36.853Z"
   },
   {
    "duration": 17,
    "start_time": "2022-08-26T11:06:38.259Z"
   },
   {
    "duration": 27,
    "start_time": "2022-08-26T11:06:38.278Z"
   },
   {
    "duration": 7,
    "start_time": "2022-08-26T11:06:38.307Z"
   },
   {
    "duration": 18,
    "start_time": "2022-08-26T11:06:38.316Z"
   },
   {
    "duration": 24,
    "start_time": "2022-08-26T11:06:38.336Z"
   },
   {
    "duration": 41,
    "start_time": "2022-08-26T11:06:38.362Z"
   },
   {
    "duration": 55,
    "start_time": "2022-08-26T11:06:38.407Z"
   },
   {
    "duration": 8,
    "start_time": "2022-08-26T11:06:38.464Z"
   },
   {
    "duration": 175,
    "start_time": "2022-08-26T11:06:38.473Z"
   },
   {
    "duration": 67,
    "start_time": "2022-08-26T11:06:38.649Z"
   },
   {
    "duration": 7,
    "start_time": "2022-08-26T11:06:38.718Z"
   },
   {
    "duration": 7,
    "start_time": "2022-08-26T11:06:38.727Z"
   },
   {
    "duration": 167,
    "start_time": "2022-08-26T11:06:38.737Z"
   },
   {
    "duration": 25,
    "start_time": "2022-08-26T11:06:38.906Z"
   },
   {
    "duration": 17,
    "start_time": "2022-08-26T11:06:38.933Z"
   },
   {
    "duration": 8,
    "start_time": "2022-08-26T11:06:38.952Z"
   },
   {
    "duration": 13,
    "start_time": "2022-08-26T11:06:38.962Z"
   },
   {
    "duration": 38,
    "start_time": "2022-08-26T11:06:38.977Z"
   },
   {
    "duration": 19,
    "start_time": "2022-08-26T11:06:39.017Z"
   },
   {
    "duration": 12,
    "start_time": "2022-08-26T11:06:39.038Z"
   },
   {
    "duration": 15,
    "start_time": "2022-08-26T11:06:39.052Z"
   },
   {
    "duration": 111,
    "start_time": "2022-08-26T11:06:39.069Z"
   },
   {
    "duration": 8,
    "start_time": "2022-08-26T11:06:39.182Z"
   },
   {
    "duration": 15,
    "start_time": "2022-08-26T11:06:39.192Z"
   },
   {
    "duration": 9,
    "start_time": "2022-08-26T11:06:39.209Z"
   },
   {
    "duration": 14,
    "start_time": "2022-08-26T11:06:39.220Z"
   },
   {
    "duration": 9,
    "start_time": "2022-08-26T11:06:39.235Z"
   },
   {
    "duration": 14,
    "start_time": "2022-08-26T11:06:39.246Z"
   },
   {
    "duration": 47,
    "start_time": "2022-08-26T11:06:39.262Z"
   },
   {
    "duration": 19,
    "start_time": "2022-08-26T11:06:39.310Z"
   },
   {
    "duration": 3,
    "start_time": "2022-08-26T11:06:39.332Z"
   },
   {
    "duration": 21,
    "start_time": "2022-08-26T11:06:39.337Z"
   },
   {
    "duration": 49,
    "start_time": "2022-08-26T11:06:39.359Z"
   },
   {
    "duration": 4,
    "start_time": "2022-08-26T11:06:39.410Z"
   },
   {
    "duration": 23,
    "start_time": "2022-08-26T11:06:39.416Z"
   },
   {
    "duration": 10,
    "start_time": "2022-08-26T11:06:39.441Z"
   },
   {
    "duration": 1203,
    "start_time": "2022-08-26T15:03:57.528Z"
   },
   {
    "duration": 510,
    "start_time": "2022-08-26T15:03:58.733Z"
   },
   {
    "duration": 4,
    "start_time": "2022-08-26T15:03:59.244Z"
   },
   {
    "duration": 97,
    "start_time": "2022-08-26T15:03:59.250Z"
   },
   {
    "duration": 3,
    "start_time": "2022-08-26T15:03:59.349Z"
   },
   {
    "duration": 16,
    "start_time": "2022-08-26T15:03:59.353Z"
   },
   {
    "duration": 78,
    "start_time": "2022-08-26T15:03:59.371Z"
   },
   {
    "duration": 130,
    "start_time": "2022-08-26T15:03:59.450Z"
   },
   {
    "duration": 32,
    "start_time": "2022-08-26T15:03:59.582Z"
   },
   {
    "duration": 11,
    "start_time": "2022-08-26T15:03:59.618Z"
   },
   {
    "duration": 37,
    "start_time": "2022-08-26T15:03:59.630Z"
   },
   {
    "duration": 7,
    "start_time": "2022-08-26T15:03:59.669Z"
   },
   {
    "duration": 57,
    "start_time": "2022-08-26T15:03:59.677Z"
   },
   {
    "duration": 24,
    "start_time": "2022-08-26T15:03:59.736Z"
   },
   {
    "duration": 7,
    "start_time": "2022-08-26T15:03:59.762Z"
   },
   {
    "duration": 11,
    "start_time": "2022-08-26T15:03:59.770Z"
   },
   {
    "duration": 31,
    "start_time": "2022-08-26T15:03:59.782Z"
   },
   {
    "duration": 1480,
    "start_time": "2022-08-26T15:03:59.814Z"
   },
   {
    "duration": 26,
    "start_time": "2022-08-26T15:04:01.296Z"
   },
   {
    "duration": 41,
    "start_time": "2022-08-26T15:04:01.323Z"
   },
   {
    "duration": 1433,
    "start_time": "2022-08-26T15:04:01.367Z"
   },
   {
    "duration": 20,
    "start_time": "2022-08-26T15:04:02.810Z"
   },
   {
    "duration": 20,
    "start_time": "2022-08-26T15:04:02.832Z"
   },
   {
    "duration": 8,
    "start_time": "2022-08-26T15:04:02.854Z"
   },
   {
    "duration": 47,
    "start_time": "2022-08-26T15:04:02.864Z"
   },
   {
    "duration": 27,
    "start_time": "2022-08-26T15:04:02.914Z"
   },
   {
    "duration": 8,
    "start_time": "2022-08-26T15:04:02.943Z"
   },
   {
    "duration": 83,
    "start_time": "2022-08-26T15:04:02.954Z"
   },
   {
    "duration": 8,
    "start_time": "2022-08-26T15:04:03.039Z"
   },
   {
    "duration": 288,
    "start_time": "2022-08-26T15:04:03.049Z"
   },
   {
    "duration": 103,
    "start_time": "2022-08-26T15:04:03.339Z"
   },
   {
    "duration": 8,
    "start_time": "2022-08-26T15:04:03.443Z"
   },
   {
    "duration": 56,
    "start_time": "2022-08-26T15:04:03.453Z"
   },
   {
    "duration": 127,
    "start_time": "2022-08-26T15:04:03.512Z"
   },
   {
    "duration": 19,
    "start_time": "2022-08-26T15:04:03.640Z"
   },
   {
    "duration": 15,
    "start_time": "2022-08-26T15:04:03.661Z"
   },
   {
    "duration": 6,
    "start_time": "2022-08-26T15:04:03.677Z"
   },
   {
    "duration": 7,
    "start_time": "2022-08-26T15:04:03.685Z"
   },
   {
    "duration": 29,
    "start_time": "2022-08-26T15:04:03.693Z"
   },
   {
    "duration": 7,
    "start_time": "2022-08-26T15:04:03.723Z"
   },
   {
    "duration": 8,
    "start_time": "2022-08-26T15:04:03.732Z"
   },
   {
    "duration": 6,
    "start_time": "2022-08-26T15:04:03.741Z"
   },
   {
    "duration": 117,
    "start_time": "2022-08-26T15:04:03.749Z"
   },
   {
    "duration": 8,
    "start_time": "2022-08-26T15:04:03.868Z"
   },
   {
    "duration": 13,
    "start_time": "2022-08-26T15:04:03.878Z"
   },
   {
    "duration": 18,
    "start_time": "2022-08-26T15:04:03.893Z"
   },
   {
    "duration": 7,
    "start_time": "2022-08-26T15:04:03.913Z"
   },
   {
    "duration": 7,
    "start_time": "2022-08-26T15:04:03.922Z"
   },
   {
    "duration": 14,
    "start_time": "2022-08-26T15:04:03.931Z"
   },
   {
    "duration": 21,
    "start_time": "2022-08-26T15:04:03.947Z"
   },
   {
    "duration": 52,
    "start_time": "2022-08-26T15:04:03.970Z"
   },
   {
    "duration": 5,
    "start_time": "2022-08-26T15:04:04.024Z"
   },
   {
    "duration": 29,
    "start_time": "2022-08-26T15:04:04.031Z"
   },
   {
    "duration": 21,
    "start_time": "2022-08-26T15:04:04.062Z"
   },
   {
    "duration": 4,
    "start_time": "2022-08-26T15:04:04.109Z"
   },
   {
    "duration": 28,
    "start_time": "2022-08-26T15:04:04.114Z"
   },
   {
    "duration": 12,
    "start_time": "2022-08-26T15:04:04.144Z"
   },
   {
    "duration": 52,
    "start_time": "2022-08-26T15:44:40.379Z"
   },
   {
    "duration": 1235,
    "start_time": "2022-08-26T15:44:46.741Z"
   },
   {
    "duration": 499,
    "start_time": "2022-08-26T15:44:47.978Z"
   },
   {
    "duration": 3,
    "start_time": "2022-08-26T15:44:48.479Z"
   },
   {
    "duration": 82,
    "start_time": "2022-08-26T15:44:48.483Z"
   },
   {
    "duration": 3,
    "start_time": "2022-08-26T15:44:48.566Z"
   },
   {
    "duration": 12,
    "start_time": "2022-08-26T15:44:48.570Z"
   },
   {
    "duration": 62,
    "start_time": "2022-08-26T15:44:48.583Z"
   },
   {
    "duration": 89,
    "start_time": "2022-08-26T15:44:48.646Z"
   },
   {
    "duration": 106,
    "start_time": "2022-08-26T15:44:48.737Z"
   },
   {
    "duration": 25,
    "start_time": "2022-08-26T15:44:48.847Z"
   },
   {
    "duration": 25,
    "start_time": "2022-08-26T15:44:48.874Z"
   },
   {
    "duration": 18,
    "start_time": "2022-08-26T15:44:48.901Z"
   },
   {
    "duration": 5,
    "start_time": "2022-08-26T15:44:48.921Z"
   },
   {
    "duration": 17,
    "start_time": "2022-08-26T15:44:48.928Z"
   },
   {
    "duration": 20,
    "start_time": "2022-08-26T15:44:48.947Z"
   },
   {
    "duration": 7,
    "start_time": "2022-08-26T15:44:48.999Z"
   },
   {
    "duration": 9,
    "start_time": "2022-08-26T15:44:49.008Z"
   },
   {
    "duration": 5,
    "start_time": "2022-08-26T15:44:49.019Z"
   },
   {
    "duration": 1215,
    "start_time": "2022-08-26T15:44:49.026Z"
   },
   {
    "duration": 14,
    "start_time": "2022-08-26T15:44:50.243Z"
   },
   {
    "duration": 19,
    "start_time": "2022-08-26T15:44:50.258Z"
   },
   {
    "duration": 1154,
    "start_time": "2022-08-26T15:44:50.279Z"
   },
   {
    "duration": 15,
    "start_time": "2022-08-26T15:44:51.435Z"
   },
   {
    "duration": 19,
    "start_time": "2022-08-26T15:44:51.451Z"
   },
   {
    "duration": 7,
    "start_time": "2022-08-26T15:44:51.471Z"
   },
   {
    "duration": 34,
    "start_time": "2022-08-26T15:44:51.480Z"
   },
   {
    "duration": 22,
    "start_time": "2022-08-26T15:44:51.516Z"
   },
   {
    "duration": 6,
    "start_time": "2022-08-26T15:44:51.541Z"
   },
   {
    "duration": 65,
    "start_time": "2022-08-26T15:44:51.548Z"
   },
   {
    "duration": 7,
    "start_time": "2022-08-26T15:44:51.614Z"
   },
   {
    "duration": 155,
    "start_time": "2022-08-26T15:44:51.622Z"
   },
   {
    "duration": 48,
    "start_time": "2022-08-26T15:44:51.778Z"
   },
   {
    "duration": 6,
    "start_time": "2022-08-26T15:44:51.827Z"
   },
   {
    "duration": 6,
    "start_time": "2022-08-26T15:44:51.834Z"
   },
   {
    "duration": 143,
    "start_time": "2022-08-26T15:44:51.841Z"
   },
   {
    "duration": 25,
    "start_time": "2022-08-26T15:44:51.998Z"
   },
   {
    "duration": 12,
    "start_time": "2022-08-26T15:44:52.024Z"
   },
   {
    "duration": 6,
    "start_time": "2022-08-26T15:44:52.037Z"
   },
   {
    "duration": 7,
    "start_time": "2022-08-26T15:44:52.044Z"
   },
   {
    "duration": 20,
    "start_time": "2022-08-26T15:44:52.053Z"
   },
   {
    "duration": 15,
    "start_time": "2022-08-26T15:44:52.074Z"
   },
   {
    "duration": 9,
    "start_time": "2022-08-26T15:44:52.091Z"
   },
   {
    "duration": 8,
    "start_time": "2022-08-26T15:44:52.102Z"
   },
   {
    "duration": 87,
    "start_time": "2022-08-26T15:44:52.111Z"
   },
   {
    "duration": 8,
    "start_time": "2022-08-26T15:44:52.199Z"
   },
   {
    "duration": 9,
    "start_time": "2022-08-26T15:44:52.208Z"
   },
   {
    "duration": 10,
    "start_time": "2022-08-26T15:44:52.219Z"
   },
   {
    "duration": 5,
    "start_time": "2022-08-26T15:44:52.231Z"
   },
   {
    "duration": 7,
    "start_time": "2022-08-26T15:44:52.237Z"
   },
   {
    "duration": 12,
    "start_time": "2022-08-26T15:44:52.245Z"
   },
   {
    "duration": 43,
    "start_time": "2022-08-26T15:44:52.259Z"
   },
   {
    "duration": 18,
    "start_time": "2022-08-26T15:44:52.304Z"
   },
   {
    "duration": 5,
    "start_time": "2022-08-26T15:44:52.323Z"
   },
   {
    "duration": 23,
    "start_time": "2022-08-26T15:44:52.329Z"
   },
   {
    "duration": 46,
    "start_time": "2022-08-26T15:44:52.354Z"
   },
   {
    "duration": 4,
    "start_time": "2022-08-26T15:44:52.402Z"
   },
   {
    "duration": 17,
    "start_time": "2022-08-26T15:44:52.408Z"
   },
   {
    "duration": 11,
    "start_time": "2022-08-26T15:44:52.426Z"
   },
   {
    "duration": 49,
    "start_time": "2022-08-26T15:48:46.110Z"
   },
   {
    "duration": 48,
    "start_time": "2022-08-26T15:51:10.106Z"
   },
   {
    "duration": 13,
    "start_time": "2022-08-26T15:52:45.101Z"
   },
   {
    "duration": 4,
    "start_time": "2022-08-26T15:52:50.394Z"
   },
   {
    "duration": 8,
    "start_time": "2022-08-26T15:53:08.444Z"
   },
   {
    "duration": 15,
    "start_time": "2022-08-26T15:53:31.179Z"
   },
   {
    "duration": 7,
    "start_time": "2022-08-26T15:53:34.557Z"
   },
   {
    "duration": 15,
    "start_time": "2022-08-26T15:54:06.218Z"
   },
   {
    "duration": 19,
    "start_time": "2022-08-26T15:55:14.036Z"
   },
   {
    "duration": 7,
    "start_time": "2022-08-26T15:55:15.755Z"
   },
   {
    "duration": 17,
    "start_time": "2022-08-26T15:55:37.874Z"
   },
   {
    "duration": 16,
    "start_time": "2022-08-26T15:58:46.941Z"
   },
   {
    "duration": 2,
    "start_time": "2022-08-26T16:03:22.784Z"
   },
   {
    "duration": 5,
    "start_time": "2022-08-26T16:03:26.489Z"
   },
   {
    "duration": 119,
    "start_time": "2022-08-26T16:03:52.043Z"
   },
   {
    "duration": 7,
    "start_time": "2022-08-26T16:04:07.426Z"
   },
   {
    "duration": 681,
    "start_time": "2022-08-26T16:04:28.333Z"
   },
   {
    "duration": 12,
    "start_time": "2022-08-26T16:04:46.122Z"
   },
   {
    "duration": 7,
    "start_time": "2022-08-26T16:04:52.293Z"
   },
   {
    "duration": 25,
    "start_time": "2022-08-26T16:05:13.882Z"
   },
   {
    "duration": 1083,
    "start_time": "2022-08-26T16:05:28.680Z"
   },
   {
    "duration": 143,
    "start_time": "2022-08-26T16:05:29.764Z"
   },
   {
    "duration": 3,
    "start_time": "2022-08-26T16:05:29.909Z"
   },
   {
    "duration": 90,
    "start_time": "2022-08-26T16:05:29.914Z"
   },
   {
    "duration": 3,
    "start_time": "2022-08-26T16:05:30.005Z"
   },
   {
    "duration": 26,
    "start_time": "2022-08-26T16:05:30.010Z"
   },
   {
    "duration": 67,
    "start_time": "2022-08-26T16:05:30.037Z"
   },
   {
    "duration": 84,
    "start_time": "2022-08-26T16:05:30.106Z"
   },
   {
    "duration": 112,
    "start_time": "2022-08-26T16:05:30.192Z"
   },
   {
    "duration": 24,
    "start_time": "2022-08-26T16:05:30.306Z"
   },
   {
    "duration": 32,
    "start_time": "2022-08-26T16:05:30.332Z"
   },
   {
    "duration": 28,
    "start_time": "2022-08-26T16:05:30.366Z"
   },
   {
    "duration": 6,
    "start_time": "2022-08-26T16:05:30.395Z"
   },
   {
    "duration": 19,
    "start_time": "2022-08-26T16:05:30.402Z"
   },
   {
    "duration": 29,
    "start_time": "2022-08-26T16:05:30.422Z"
   },
   {
    "duration": 36,
    "start_time": "2022-08-26T16:05:30.453Z"
   },
   {
    "duration": 37,
    "start_time": "2022-08-26T16:05:30.490Z"
   },
   {
    "duration": 70,
    "start_time": "2022-08-26T16:05:30.528Z"
   },
   {
    "duration": 1224,
    "start_time": "2022-08-26T16:05:30.599Z"
   },
   {
    "duration": 14,
    "start_time": "2022-08-26T16:05:31.825Z"
   },
   {
    "duration": 27,
    "start_time": "2022-08-26T16:05:31.841Z"
   },
   {
    "duration": 1191,
    "start_time": "2022-08-26T16:05:31.870Z"
   },
   {
    "duration": 16,
    "start_time": "2022-08-26T16:05:33.063Z"
   },
   {
    "duration": 29,
    "start_time": "2022-08-26T16:05:33.081Z"
   },
   {
    "duration": 7,
    "start_time": "2022-08-26T16:05:33.112Z"
   },
   {
    "duration": 18,
    "start_time": "2022-08-26T16:05:33.121Z"
   },
   {
    "duration": 24,
    "start_time": "2022-08-26T16:05:33.141Z"
   },
   {
    "duration": 6,
    "start_time": "2022-08-26T16:05:33.198Z"
   },
   {
    "duration": 50,
    "start_time": "2022-08-26T16:05:33.205Z"
   },
   {
    "duration": 8,
    "start_time": "2022-08-26T16:05:33.256Z"
   },
   {
    "duration": 172,
    "start_time": "2022-08-26T16:05:33.265Z"
   },
   {
    "duration": 64,
    "start_time": "2022-08-26T16:05:33.438Z"
   },
   {
    "duration": 6,
    "start_time": "2022-08-26T16:05:33.503Z"
   },
   {
    "duration": 6,
    "start_time": "2022-08-26T16:05:33.511Z"
   },
   {
    "duration": 139,
    "start_time": "2022-08-26T16:05:33.519Z"
   },
   {
    "duration": 16,
    "start_time": "2022-08-26T16:05:33.660Z"
   },
   {
    "duration": 21,
    "start_time": "2022-08-26T16:05:33.678Z"
   },
   {
    "duration": 2,
    "start_time": "2022-08-26T16:05:33.701Z"
   },
   {
    "duration": 6,
    "start_time": "2022-08-26T16:05:33.704Z"
   },
   {
    "duration": 10,
    "start_time": "2022-08-26T16:05:33.711Z"
   },
   {
    "duration": 6,
    "start_time": "2022-08-26T16:05:33.723Z"
   },
   {
    "duration": 5,
    "start_time": "2022-08-26T16:05:33.730Z"
   },
   {
    "duration": 4,
    "start_time": "2022-08-26T16:05:33.737Z"
   },
   {
    "duration": 105,
    "start_time": "2022-08-26T16:05:33.742Z"
   },
   {
    "duration": 7,
    "start_time": "2022-08-26T16:05:33.849Z"
   },
   {
    "duration": 7,
    "start_time": "2022-08-26T16:05:33.857Z"
   },
   {
    "duration": 6,
    "start_time": "2022-08-26T16:05:33.865Z"
   },
   {
    "duration": 5,
    "start_time": "2022-08-26T16:05:33.872Z"
   },
   {
    "duration": 5,
    "start_time": "2022-08-26T16:05:33.898Z"
   },
   {
    "duration": 9,
    "start_time": "2022-08-26T16:05:33.904Z"
   },
   {
    "duration": 15,
    "start_time": "2022-08-26T16:05:33.914Z"
   },
   {
    "duration": 15,
    "start_time": "2022-08-26T16:05:33.930Z"
   },
   {
    "duration": 3,
    "start_time": "2022-08-26T16:05:33.946Z"
   },
   {
    "duration": 50,
    "start_time": "2022-08-26T16:05:33.951Z"
   },
   {
    "duration": 17,
    "start_time": "2022-08-26T16:05:34.003Z"
   },
   {
    "duration": 3,
    "start_time": "2022-08-26T16:05:34.022Z"
   },
   {
    "duration": 16,
    "start_time": "2022-08-26T16:05:34.027Z"
   },
   {
    "duration": 8,
    "start_time": "2022-08-26T16:05:34.045Z"
   },
   {
    "duration": 3,
    "start_time": "2022-08-26T16:06:28.202Z"
   },
   {
    "duration": 6,
    "start_time": "2022-08-26T16:06:57.783Z"
   },
   {
    "duration": 5,
    "start_time": "2022-08-26T16:07:20.646Z"
   },
   {
    "duration": 4,
    "start_time": "2022-08-26T16:08:00.481Z"
   },
   {
    "duration": 4,
    "start_time": "2022-08-26T16:08:03.571Z"
   },
   {
    "duration": 4,
    "start_time": "2022-08-26T16:08:08.810Z"
   },
   {
    "duration": 4,
    "start_time": "2022-08-26T16:08:21.624Z"
   },
   {
    "duration": 7,
    "start_time": "2022-08-26T16:29:57.343Z"
   },
   {
    "duration": 4,
    "start_time": "2022-08-26T16:31:01.005Z"
   },
   {
    "duration": 4,
    "start_time": "2022-08-26T16:35:00.373Z"
   },
   {
    "duration": 4,
    "start_time": "2022-08-26T16:35:31.086Z"
   },
   {
    "duration": 3,
    "start_time": "2022-08-26T16:35:37.393Z"
   },
   {
    "duration": 4,
    "start_time": "2022-08-26T16:35:42.434Z"
   },
   {
    "duration": 3,
    "start_time": "2022-08-26T16:35:46.173Z"
   },
   {
    "duration": 109,
    "start_time": "2022-08-26T16:37:16.608Z"
   },
   {
    "duration": 4,
    "start_time": "2022-08-26T16:37:23.695Z"
   },
   {
    "duration": 1133,
    "start_time": "2022-08-26T16:37:33.479Z"
   },
   {
    "duration": 149,
    "start_time": "2022-08-26T16:37:34.614Z"
   },
   {
    "duration": 3,
    "start_time": "2022-08-26T16:37:34.764Z"
   },
   {
    "duration": 86,
    "start_time": "2022-08-26T16:37:34.769Z"
   },
   {
    "duration": 2,
    "start_time": "2022-08-26T16:37:34.857Z"
   },
   {
    "duration": 14,
    "start_time": "2022-08-26T16:37:34.861Z"
   },
   {
    "duration": 84,
    "start_time": "2022-08-26T16:37:34.877Z"
   },
   {
    "duration": 82,
    "start_time": "2022-08-26T16:37:34.963Z"
   },
   {
    "duration": 99,
    "start_time": "2022-08-26T16:37:35.047Z"
   },
   {
    "duration": 25,
    "start_time": "2022-08-26T16:37:35.149Z"
   },
   {
    "duration": 8,
    "start_time": "2022-08-26T16:37:35.175Z"
   },
   {
    "duration": 33,
    "start_time": "2022-08-26T16:37:35.184Z"
   },
   {
    "duration": 6,
    "start_time": "2022-08-26T16:37:35.219Z"
   },
   {
    "duration": 22,
    "start_time": "2022-08-26T16:37:35.228Z"
   },
   {
    "duration": 30,
    "start_time": "2022-08-26T16:37:35.252Z"
   },
   {
    "duration": 6,
    "start_time": "2022-08-26T16:37:35.298Z"
   },
   {
    "duration": 9,
    "start_time": "2022-08-26T16:37:35.306Z"
   },
   {
    "duration": 6,
    "start_time": "2022-08-26T16:37:35.317Z"
   },
   {
    "duration": 1223,
    "start_time": "2022-08-26T16:37:35.324Z"
   },
   {
    "duration": 15,
    "start_time": "2022-08-26T16:37:36.549Z"
   },
   {
    "duration": 25,
    "start_time": "2022-08-26T16:37:36.566Z"
   },
   {
    "duration": 1648,
    "start_time": "2022-08-26T16:37:36.593Z"
   },
   {
    "duration": 68,
    "start_time": "2022-08-26T16:37:38.242Z"
   },
   {
    "duration": 18,
    "start_time": "2022-08-26T16:37:38.311Z"
   },
   {
    "duration": 7,
    "start_time": "2022-08-26T16:37:38.330Z"
   },
   {
    "duration": 61,
    "start_time": "2022-08-26T16:37:38.338Z"
   },
   {
    "duration": 7,
    "start_time": "2022-08-26T16:37:38.400Z"
   },
   {
    "duration": 18,
    "start_time": "2022-08-26T16:37:38.411Z"
   },
   {
    "duration": 80,
    "start_time": "2022-08-26T16:37:38.431Z"
   },
   {
    "duration": 11,
    "start_time": "2022-08-26T16:37:38.513Z"
   },
   {
    "duration": 101,
    "start_time": "2022-08-26T16:37:38.525Z"
   },
   {
    "duration": 6,
    "start_time": "2022-08-26T16:37:38.628Z"
   },
   {
    "duration": 297,
    "start_time": "2022-08-26T16:37:38.636Z"
   },
   {
    "duration": 4,
    "start_time": "2022-08-26T16:37:38.934Z"
   },
   {
    "duration": 94,
    "start_time": "2022-08-26T16:37:38.940Z"
   },
   {
    "duration": 7,
    "start_time": "2022-08-26T16:37:39.035Z"
   },
   {
    "duration": 60,
    "start_time": "2022-08-26T16:37:39.043Z"
   },
   {
    "duration": 111,
    "start_time": "2022-08-26T16:37:39.105Z"
   },
   {
    "duration": 18,
    "start_time": "2022-08-26T16:37:39.217Z"
   },
   {
    "duration": 11,
    "start_time": "2022-08-26T16:37:39.236Z"
   },
   {
    "duration": 3,
    "start_time": "2022-08-26T16:37:39.248Z"
   },
   {
    "duration": 7,
    "start_time": "2022-08-26T16:37:39.253Z"
   },
   {
    "duration": 15,
    "start_time": "2022-08-26T16:37:39.262Z"
   },
   {
    "duration": 21,
    "start_time": "2022-08-26T16:37:39.279Z"
   },
   {
    "duration": 5,
    "start_time": "2022-08-26T16:37:39.301Z"
   },
   {
    "duration": 4,
    "start_time": "2022-08-26T16:37:39.307Z"
   },
   {
    "duration": 96,
    "start_time": "2022-08-26T16:37:39.312Z"
   },
   {
    "duration": 7,
    "start_time": "2022-08-26T16:37:39.409Z"
   },
   {
    "duration": 7,
    "start_time": "2022-08-26T16:37:39.417Z"
   },
   {
    "duration": 6,
    "start_time": "2022-08-26T16:37:39.426Z"
   },
   {
    "duration": 6,
    "start_time": "2022-08-26T16:37:39.434Z"
   },
   {
    "duration": 6,
    "start_time": "2022-08-26T16:37:39.442Z"
   },
   {
    "duration": 10,
    "start_time": "2022-08-26T16:37:39.450Z"
   },
   {
    "duration": 47,
    "start_time": "2022-08-26T16:37:39.462Z"
   },
   {
    "duration": 13,
    "start_time": "2022-08-26T16:37:39.510Z"
   },
   {
    "duration": 3,
    "start_time": "2022-08-26T16:37:39.524Z"
   },
   {
    "duration": 12,
    "start_time": "2022-08-26T16:37:39.529Z"
   },
   {
    "duration": 56,
    "start_time": "2022-08-26T16:37:39.542Z"
   },
   {
    "duration": 3,
    "start_time": "2022-08-26T16:37:39.600Z"
   },
   {
    "duration": 15,
    "start_time": "2022-08-26T16:37:39.605Z"
   },
   {
    "duration": 9,
    "start_time": "2022-08-26T16:37:39.621Z"
   },
   {
    "duration": 7,
    "start_time": "2022-08-26T16:37:58.921Z"
   },
   {
    "duration": 4,
    "start_time": "2022-08-26T16:38:26.526Z"
   },
   {
    "duration": 7,
    "start_time": "2022-08-26T16:38:27.384Z"
   },
   {
    "duration": 121,
    "start_time": "2022-08-26T16:38:48.700Z"
   },
   {
    "duration": 15,
    "start_time": "2022-08-26T16:38:56.496Z"
   },
   {
    "duration": 1021,
    "start_time": "2022-08-26T16:39:06.538Z"
   },
   {
    "duration": 158,
    "start_time": "2022-08-26T16:39:07.560Z"
   },
   {
    "duration": 3,
    "start_time": "2022-08-26T16:39:07.719Z"
   },
   {
    "duration": 85,
    "start_time": "2022-08-26T16:39:07.724Z"
   },
   {
    "duration": 2,
    "start_time": "2022-08-26T16:39:07.811Z"
   },
   {
    "duration": 19,
    "start_time": "2022-08-26T16:39:07.814Z"
   },
   {
    "duration": 58,
    "start_time": "2022-08-26T16:39:07.835Z"
   },
   {
    "duration": 81,
    "start_time": "2022-08-26T16:39:07.898Z"
   },
   {
    "duration": 118,
    "start_time": "2022-08-26T16:39:07.981Z"
   },
   {
    "duration": 23,
    "start_time": "2022-08-26T16:39:08.102Z"
   },
   {
    "duration": 8,
    "start_time": "2022-08-26T16:39:08.126Z"
   },
   {
    "duration": 27,
    "start_time": "2022-08-26T16:39:08.135Z"
   },
   {
    "duration": 10,
    "start_time": "2022-08-26T16:39:08.164Z"
   },
   {
    "duration": 38,
    "start_time": "2022-08-26T16:39:08.176Z"
   },
   {
    "duration": 19,
    "start_time": "2022-08-26T16:39:08.215Z"
   },
   {
    "duration": 7,
    "start_time": "2022-08-26T16:39:08.236Z"
   },
   {
    "duration": 10,
    "start_time": "2022-08-26T16:39:08.244Z"
   },
   {
    "duration": 6,
    "start_time": "2022-08-26T16:39:08.256Z"
   },
   {
    "duration": 1253,
    "start_time": "2022-08-26T16:39:08.263Z"
   },
   {
    "duration": 15,
    "start_time": "2022-08-26T16:39:09.518Z"
   },
   {
    "duration": 17,
    "start_time": "2022-08-26T16:39:09.534Z"
   },
   {
    "duration": 1224,
    "start_time": "2022-08-26T16:39:09.553Z"
   },
   {
    "duration": 21,
    "start_time": "2022-08-26T16:39:10.779Z"
   },
   {
    "duration": 17,
    "start_time": "2022-08-26T16:39:10.802Z"
   },
   {
    "duration": 3,
    "start_time": "2022-08-26T16:39:10.821Z"
   },
   {
    "duration": 8,
    "start_time": "2022-08-26T16:39:10.826Z"
   },
   {
    "duration": 8,
    "start_time": "2022-08-26T16:39:10.835Z"
   },
   {
    "duration": 17,
    "start_time": "2022-08-26T16:39:10.846Z"
   },
   {
    "duration": 44,
    "start_time": "2022-08-26T16:39:10.865Z"
   },
   {
    "duration": 8,
    "start_time": "2022-08-26T16:39:10.910Z"
   },
   {
    "duration": 48,
    "start_time": "2022-08-26T16:39:10.920Z"
   },
   {
    "duration": 28,
    "start_time": "2022-08-26T16:39:10.970Z"
   },
   {
    "duration": 149,
    "start_time": "2022-08-26T16:39:11.000Z"
   },
   {
    "duration": 217,
    "start_time": "2022-08-26T16:39:11.151Z"
   },
   {
    "duration": 0,
    "start_time": "2022-08-26T16:39:11.398Z"
   },
   {
    "duration": 0,
    "start_time": "2022-08-26T16:39:11.399Z"
   },
   {
    "duration": 0,
    "start_time": "2022-08-26T16:39:11.401Z"
   },
   {
    "duration": 0,
    "start_time": "2022-08-26T16:39:11.402Z"
   },
   {
    "duration": 0,
    "start_time": "2022-08-26T16:39:11.404Z"
   },
   {
    "duration": 0,
    "start_time": "2022-08-26T16:39:11.405Z"
   },
   {
    "duration": 0,
    "start_time": "2022-08-26T16:39:11.406Z"
   },
   {
    "duration": 0,
    "start_time": "2022-08-26T16:39:11.408Z"
   },
   {
    "duration": 0,
    "start_time": "2022-08-26T16:39:11.409Z"
   },
   {
    "duration": 0,
    "start_time": "2022-08-26T16:39:11.410Z"
   },
   {
    "duration": 0,
    "start_time": "2022-08-26T16:39:11.411Z"
   },
   {
    "duration": 0,
    "start_time": "2022-08-26T16:39:11.412Z"
   },
   {
    "duration": 0,
    "start_time": "2022-08-26T16:39:11.413Z"
   },
   {
    "duration": 0,
    "start_time": "2022-08-26T16:39:11.414Z"
   },
   {
    "duration": 0,
    "start_time": "2022-08-26T16:39:11.415Z"
   },
   {
    "duration": 0,
    "start_time": "2022-08-26T16:39:11.415Z"
   },
   {
    "duration": 0,
    "start_time": "2022-08-26T16:39:11.416Z"
   },
   {
    "duration": 0,
    "start_time": "2022-08-26T16:39:11.418Z"
   },
   {
    "duration": 0,
    "start_time": "2022-08-26T16:39:11.419Z"
   },
   {
    "duration": 0,
    "start_time": "2022-08-26T16:39:11.420Z"
   },
   {
    "duration": 0,
    "start_time": "2022-08-26T16:39:11.420Z"
   },
   {
    "duration": 0,
    "start_time": "2022-08-26T16:39:11.421Z"
   },
   {
    "duration": 0,
    "start_time": "2022-08-26T16:39:11.423Z"
   },
   {
    "duration": 0,
    "start_time": "2022-08-26T16:39:11.423Z"
   },
   {
    "duration": 0,
    "start_time": "2022-08-26T16:39:11.424Z"
   },
   {
    "duration": 0,
    "start_time": "2022-08-26T16:39:11.425Z"
   },
   {
    "duration": 0,
    "start_time": "2022-08-26T16:39:11.426Z"
   },
   {
    "duration": 0,
    "start_time": "2022-08-26T16:39:11.427Z"
   },
   {
    "duration": 4,
    "start_time": "2022-08-26T16:40:41.626Z"
   },
   {
    "duration": 8,
    "start_time": "2022-08-26T16:40:44.037Z"
   },
   {
    "duration": 4,
    "start_time": "2022-08-26T16:41:36.871Z"
   },
   {
    "duration": 7,
    "start_time": "2022-08-26T16:41:37.787Z"
   },
   {
    "duration": 364,
    "start_time": "2022-08-26T16:42:19.134Z"
   },
   {
    "duration": 5,
    "start_time": "2022-08-26T16:42:27.720Z"
   },
   {
    "duration": 11,
    "start_time": "2022-08-26T16:42:31.266Z"
   },
   {
    "duration": 5,
    "start_time": "2022-08-26T16:42:38.825Z"
   },
   {
    "duration": 11,
    "start_time": "2022-08-26T16:42:40.941Z"
   },
   {
    "duration": 8,
    "start_time": "2022-08-26T16:43:04.045Z"
   },
   {
    "duration": 5,
    "start_time": "2022-08-26T16:43:08.155Z"
   },
   {
    "duration": 7,
    "start_time": "2022-08-26T16:43:09.090Z"
   },
   {
    "duration": 6,
    "start_time": "2022-08-26T16:43:28.145Z"
   },
   {
    "duration": 6,
    "start_time": "2022-08-26T16:43:35.041Z"
   },
   {
    "duration": 7,
    "start_time": "2022-08-26T16:46:00.391Z"
   },
   {
    "duration": 5,
    "start_time": "2022-08-26T16:46:23.270Z"
   },
   {
    "duration": 4,
    "start_time": "2022-08-26T17:52:52.109Z"
   },
   {
    "duration": 1106,
    "start_time": "2022-08-26T17:52:58.871Z"
   },
   {
    "duration": 158,
    "start_time": "2022-08-26T17:52:59.979Z"
   },
   {
    "duration": 3,
    "start_time": "2022-08-26T17:53:00.139Z"
   },
   {
    "duration": 95,
    "start_time": "2022-08-26T17:53:00.144Z"
   },
   {
    "duration": 3,
    "start_time": "2022-08-26T17:53:00.241Z"
   },
   {
    "duration": 18,
    "start_time": "2022-08-26T17:53:00.246Z"
   },
   {
    "duration": 67,
    "start_time": "2022-08-26T17:53:00.266Z"
   },
   {
    "duration": 87,
    "start_time": "2022-08-26T17:53:00.335Z"
   },
   {
    "duration": 123,
    "start_time": "2022-08-26T17:53:00.424Z"
   },
   {
    "duration": 24,
    "start_time": "2022-08-26T17:53:00.550Z"
   },
   {
    "duration": 27,
    "start_time": "2022-08-26T17:53:00.576Z"
   },
   {
    "duration": 43,
    "start_time": "2022-08-26T17:53:00.604Z"
   },
   {
    "duration": 13,
    "start_time": "2022-08-26T17:53:00.648Z"
   },
   {
    "duration": 32,
    "start_time": "2022-08-26T17:53:00.662Z"
   },
   {
    "duration": 54,
    "start_time": "2022-08-26T17:53:00.696Z"
   },
   {
    "duration": 10,
    "start_time": "2022-08-26T17:53:00.752Z"
   },
   {
    "duration": 23,
    "start_time": "2022-08-26T17:53:00.763Z"
   },
   {
    "duration": 40,
    "start_time": "2022-08-26T17:53:00.787Z"
   },
   {
    "duration": 1434,
    "start_time": "2022-08-26T17:53:00.828Z"
   },
   {
    "duration": 17,
    "start_time": "2022-08-26T17:53:02.263Z"
   },
   {
    "duration": 30,
    "start_time": "2022-08-26T17:53:02.282Z"
   },
   {
    "duration": 1248,
    "start_time": "2022-08-26T17:53:02.314Z"
   },
   {
    "duration": 16,
    "start_time": "2022-08-26T17:53:03.564Z"
   },
   {
    "duration": 29,
    "start_time": "2022-08-26T17:53:03.581Z"
   },
   {
    "duration": 5,
    "start_time": "2022-08-26T17:53:03.612Z"
   },
   {
    "duration": 5,
    "start_time": "2022-08-26T17:53:03.619Z"
   },
   {
    "duration": 8,
    "start_time": "2022-08-26T17:53:03.625Z"
   },
   {
    "duration": 18,
    "start_time": "2022-08-26T17:53:03.637Z"
   },
   {
    "duration": 57,
    "start_time": "2022-08-26T17:53:03.657Z"
   },
   {
    "duration": 8,
    "start_time": "2022-08-26T17:53:03.716Z"
   },
   {
    "duration": 50,
    "start_time": "2022-08-26T17:53:03.726Z"
   },
   {
    "duration": 25,
    "start_time": "2022-08-26T17:53:03.778Z"
   },
   {
    "duration": 153,
    "start_time": "2022-08-26T17:53:03.805Z"
   },
   {
    "duration": 6,
    "start_time": "2022-08-26T17:53:03.959Z"
   },
   {
    "duration": 17,
    "start_time": "2022-08-26T17:53:03.966Z"
   },
   {
    "duration": 67,
    "start_time": "2022-08-26T17:53:03.984Z"
   },
   {
    "duration": 49,
    "start_time": "2022-08-26T17:53:04.053Z"
   },
   {
    "duration": 15,
    "start_time": "2022-08-26T17:53:04.103Z"
   },
   {
    "duration": 99,
    "start_time": "2022-08-26T17:53:04.119Z"
   },
   {
    "duration": 19,
    "start_time": "2022-08-26T17:53:04.219Z"
   },
   {
    "duration": 22,
    "start_time": "2022-08-26T17:53:04.239Z"
   },
   {
    "duration": 39,
    "start_time": "2022-08-26T17:53:04.263Z"
   },
   {
    "duration": 10,
    "start_time": "2022-08-26T17:53:04.303Z"
   },
   {
    "duration": 33,
    "start_time": "2022-08-26T17:53:04.314Z"
   },
   {
    "duration": 14,
    "start_time": "2022-08-26T17:53:04.349Z"
   },
   {
    "duration": 18,
    "start_time": "2022-08-26T17:53:04.365Z"
   },
   {
    "duration": 24,
    "start_time": "2022-08-26T17:53:04.385Z"
   },
   {
    "duration": 116,
    "start_time": "2022-08-26T17:53:04.411Z"
   },
   {
    "duration": 10,
    "start_time": "2022-08-26T17:53:04.530Z"
   },
   {
    "duration": 26,
    "start_time": "2022-08-26T17:53:04.541Z"
   },
   {
    "duration": 31,
    "start_time": "2022-08-26T17:53:04.570Z"
   },
   {
    "duration": 24,
    "start_time": "2022-08-26T17:53:04.604Z"
   },
   {
    "duration": 18,
    "start_time": "2022-08-26T17:53:04.630Z"
   },
   {
    "duration": 30,
    "start_time": "2022-08-26T17:53:04.650Z"
   },
   {
    "duration": 35,
    "start_time": "2022-08-26T17:53:04.682Z"
   },
   {
    "duration": 20,
    "start_time": "2022-08-26T17:53:04.719Z"
   },
   {
    "duration": 5,
    "start_time": "2022-08-26T17:53:04.741Z"
   },
   {
    "duration": 15,
    "start_time": "2022-08-26T17:53:04.748Z"
   },
   {
    "duration": 52,
    "start_time": "2022-08-26T17:53:04.765Z"
   },
   {
    "duration": 3,
    "start_time": "2022-08-26T17:53:04.819Z"
   },
   {
    "duration": 18,
    "start_time": "2022-08-26T17:53:04.824Z"
   },
   {
    "duration": 10,
    "start_time": "2022-08-26T17:53:04.844Z"
   },
   {
    "duration": 8,
    "start_time": "2022-08-26T17:53:22.145Z"
   },
   {
    "duration": 7,
    "start_time": "2022-08-26T17:55:18.353Z"
   },
   {
    "duration": 1116,
    "start_time": "2022-08-26T17:56:24.932Z"
   },
   {
    "duration": 145,
    "start_time": "2022-08-26T17:56:26.050Z"
   },
   {
    "duration": 3,
    "start_time": "2022-08-26T17:56:26.197Z"
   },
   {
    "duration": 98,
    "start_time": "2022-08-26T17:56:26.202Z"
   },
   {
    "duration": 3,
    "start_time": "2022-08-26T17:56:26.301Z"
   },
   {
    "duration": 14,
    "start_time": "2022-08-26T17:56:26.306Z"
   },
   {
    "duration": 57,
    "start_time": "2022-08-26T17:56:26.321Z"
   },
   {
    "duration": 88,
    "start_time": "2022-08-26T17:56:26.380Z"
   },
   {
    "duration": 99,
    "start_time": "2022-08-26T17:56:26.470Z"
   },
   {
    "duration": 34,
    "start_time": "2022-08-26T17:56:26.572Z"
   },
   {
    "duration": 9,
    "start_time": "2022-08-26T17:56:26.607Z"
   },
   {
    "duration": 23,
    "start_time": "2022-08-26T17:56:26.617Z"
   },
   {
    "duration": 5,
    "start_time": "2022-08-26T17:56:26.641Z"
   },
   {
    "duration": 26,
    "start_time": "2022-08-26T17:56:26.647Z"
   },
   {
    "duration": 38,
    "start_time": "2022-08-26T17:56:26.674Z"
   },
   {
    "duration": 13,
    "start_time": "2022-08-26T17:56:26.713Z"
   },
   {
    "duration": 25,
    "start_time": "2022-08-26T17:56:26.727Z"
   },
   {
    "duration": 5,
    "start_time": "2022-08-26T17:56:26.754Z"
   },
   {
    "duration": 1247,
    "start_time": "2022-08-26T17:56:26.761Z"
   },
   {
    "duration": 16,
    "start_time": "2022-08-26T17:56:28.010Z"
   },
   {
    "duration": 24,
    "start_time": "2022-08-26T17:56:28.028Z"
   },
   {
    "duration": 1660,
    "start_time": "2022-08-26T17:56:28.053Z"
   },
   {
    "duration": 16,
    "start_time": "2022-08-26T17:56:29.714Z"
   },
   {
    "duration": 73,
    "start_time": "2022-08-26T17:56:29.731Z"
   },
   {
    "duration": 4,
    "start_time": "2022-08-26T17:56:29.805Z"
   },
   {
    "duration": 15,
    "start_time": "2022-08-26T17:56:29.810Z"
   },
   {
    "duration": 22,
    "start_time": "2022-08-26T17:56:29.826Z"
   },
   {
    "duration": 61,
    "start_time": "2022-08-26T17:56:29.851Z"
   },
   {
    "duration": 98,
    "start_time": "2022-08-26T17:56:29.915Z"
   },
   {
    "duration": 40,
    "start_time": "2022-08-26T17:56:30.015Z"
   },
   {
    "duration": 125,
    "start_time": "2022-08-26T17:56:30.098Z"
   },
   {
    "duration": 10,
    "start_time": "2022-08-26T17:56:30.225Z"
   },
   {
    "duration": 313,
    "start_time": "2022-08-26T17:56:30.237Z"
   },
   {
    "duration": 5,
    "start_time": "2022-08-26T17:56:30.552Z"
   },
   {
    "duration": 52,
    "start_time": "2022-08-26T17:56:30.559Z"
   },
   {
    "duration": 87,
    "start_time": "2022-08-26T17:56:30.613Z"
   },
   {
    "duration": 7,
    "start_time": "2022-08-26T17:56:30.702Z"
   },
   {
    "duration": 44,
    "start_time": "2022-08-26T17:56:30.710Z"
   },
   {
    "duration": 189,
    "start_time": "2022-08-26T17:56:30.758Z"
   },
   {
    "duration": 18,
    "start_time": "2022-08-26T17:56:30.949Z"
   },
   {
    "duration": 29,
    "start_time": "2022-08-26T17:56:30.969Z"
   },
   {
    "duration": 7,
    "start_time": "2022-08-26T17:56:30.999Z"
   },
   {
    "duration": 39,
    "start_time": "2022-08-26T17:56:31.007Z"
   },
   {
    "duration": 40,
    "start_time": "2022-08-26T17:56:31.047Z"
   },
   {
    "duration": 39,
    "start_time": "2022-08-26T17:56:31.088Z"
   },
   {
    "duration": 38,
    "start_time": "2022-08-26T17:56:31.129Z"
   },
   {
    "duration": 31,
    "start_time": "2022-08-26T17:56:31.169Z"
   },
   {
    "duration": 116,
    "start_time": "2022-08-26T17:56:31.201Z"
   },
   {
    "duration": 7,
    "start_time": "2022-08-26T17:56:31.319Z"
   },
   {
    "duration": 27,
    "start_time": "2022-08-26T17:56:31.327Z"
   },
   {
    "duration": 33,
    "start_time": "2022-08-26T17:56:31.356Z"
   },
   {
    "duration": 58,
    "start_time": "2022-08-26T17:56:31.391Z"
   },
   {
    "duration": 10,
    "start_time": "2022-08-26T17:56:31.451Z"
   },
   {
    "duration": 19,
    "start_time": "2022-08-26T17:56:31.463Z"
   },
   {
    "duration": 33,
    "start_time": "2022-08-26T17:56:31.485Z"
   },
   {
    "duration": 27,
    "start_time": "2022-08-26T17:56:31.520Z"
   },
   {
    "duration": 9,
    "start_time": "2022-08-26T17:56:31.549Z"
   },
   {
    "duration": 29,
    "start_time": "2022-08-26T17:56:31.560Z"
   },
   {
    "duration": 19,
    "start_time": "2022-08-26T17:56:31.598Z"
   },
   {
    "duration": 5,
    "start_time": "2022-08-26T17:56:31.618Z"
   },
   {
    "duration": 30,
    "start_time": "2022-08-26T17:56:31.624Z"
   },
   {
    "duration": 21,
    "start_time": "2022-08-26T17:56:31.655Z"
   },
   {
    "duration": 5,
    "start_time": "2022-08-26T17:57:23.700Z"
   },
   {
    "duration": 11,
    "start_time": "2022-08-26T17:57:30.110Z"
   },
   {
    "duration": 4,
    "start_time": "2022-08-26T17:57:53.731Z"
   },
   {
    "duration": 8,
    "start_time": "2022-08-26T17:57:54.330Z"
   },
   {
    "duration": 111,
    "start_time": "2022-08-26T17:58:07.090Z"
   },
   {
    "duration": 4,
    "start_time": "2022-08-26T17:58:20.453Z"
   },
   {
    "duration": 9,
    "start_time": "2022-08-26T17:58:22.087Z"
   },
   {
    "duration": 17,
    "start_time": "2022-08-26T18:02:17.408Z"
   },
   {
    "duration": 11,
    "start_time": "2022-08-26T18:02:21.165Z"
   },
   {
    "duration": 11,
    "start_time": "2022-08-26T18:03:09.232Z"
   },
   {
    "duration": 15,
    "start_time": "2022-08-26T18:03:24.754Z"
   },
   {
    "duration": 9,
    "start_time": "2022-08-26T20:21:16.261Z"
   },
   {
    "duration": 8,
    "start_time": "2022-08-26T20:21:28.238Z"
   },
   {
    "duration": 1059,
    "start_time": "2022-08-26T20:21:44.643Z"
   },
   {
    "duration": 142,
    "start_time": "2022-08-26T20:21:45.703Z"
   },
   {
    "duration": 4,
    "start_time": "2022-08-26T20:21:45.846Z"
   },
   {
    "duration": 84,
    "start_time": "2022-08-26T20:21:45.852Z"
   },
   {
    "duration": 3,
    "start_time": "2022-08-26T20:21:45.938Z"
   },
   {
    "duration": 12,
    "start_time": "2022-08-26T20:21:45.943Z"
   },
   {
    "duration": 73,
    "start_time": "2022-08-26T20:21:45.957Z"
   },
   {
    "duration": 86,
    "start_time": "2022-08-26T20:21:46.032Z"
   },
   {
    "duration": 103,
    "start_time": "2022-08-26T20:21:46.119Z"
   },
   {
    "duration": 24,
    "start_time": "2022-08-26T20:21:46.225Z"
   },
   {
    "duration": 9,
    "start_time": "2022-08-26T20:21:46.251Z"
   },
   {
    "duration": 37,
    "start_time": "2022-08-26T20:21:46.262Z"
   },
   {
    "duration": 5,
    "start_time": "2022-08-26T20:21:46.300Z"
   },
   {
    "duration": 16,
    "start_time": "2022-08-26T20:21:46.306Z"
   },
   {
    "duration": 18,
    "start_time": "2022-08-26T20:21:46.324Z"
   },
   {
    "duration": 5,
    "start_time": "2022-08-26T20:21:46.344Z"
   },
   {
    "duration": 8,
    "start_time": "2022-08-26T20:21:46.351Z"
   },
   {
    "duration": 37,
    "start_time": "2022-08-26T20:21:46.361Z"
   },
   {
    "duration": 1238,
    "start_time": "2022-08-26T20:21:46.400Z"
   },
   {
    "duration": 25,
    "start_time": "2022-08-26T20:21:47.639Z"
   },
   {
    "duration": 19,
    "start_time": "2022-08-26T20:21:47.666Z"
   },
   {
    "duration": 1158,
    "start_time": "2022-08-26T20:21:47.686Z"
   },
   {
    "duration": 15,
    "start_time": "2022-08-26T20:21:48.845Z"
   },
   {
    "duration": 17,
    "start_time": "2022-08-26T20:21:48.862Z"
   },
   {
    "duration": 19,
    "start_time": "2022-08-26T20:21:48.881Z"
   },
   {
    "duration": 20,
    "start_time": "2022-08-26T20:21:48.901Z"
   },
   {
    "duration": 6,
    "start_time": "2022-08-26T20:21:48.923Z"
   },
   {
    "duration": 19,
    "start_time": "2022-08-26T20:21:48.933Z"
   },
   {
    "duration": 23,
    "start_time": "2022-08-26T20:21:48.953Z"
   },
   {
    "duration": 22,
    "start_time": "2022-08-26T20:21:48.977Z"
   },
   {
    "duration": 49,
    "start_time": "2022-08-26T20:21:49.000Z"
   },
   {
    "duration": 6,
    "start_time": "2022-08-26T20:21:49.051Z"
   },
   {
    "duration": 162,
    "start_time": "2022-08-26T20:21:49.059Z"
   },
   {
    "duration": 5,
    "start_time": "2022-08-26T20:21:49.222Z"
   },
   {
    "duration": 9,
    "start_time": "2022-08-26T20:21:49.228Z"
   },
   {
    "duration": 80,
    "start_time": "2022-08-26T20:21:49.239Z"
   },
   {
    "duration": 7,
    "start_time": "2022-08-26T20:21:49.321Z"
   },
   {
    "duration": 4,
    "start_time": "2022-08-26T20:21:49.330Z"
   },
   {
    "duration": 137,
    "start_time": "2022-08-26T20:21:49.335Z"
   },
   {
    "duration": 25,
    "start_time": "2022-08-26T20:21:49.473Z"
   },
   {
    "duration": 12,
    "start_time": "2022-08-26T20:21:49.499Z"
   },
   {
    "duration": 2,
    "start_time": "2022-08-26T20:21:49.513Z"
   },
   {
    "duration": 4,
    "start_time": "2022-08-26T20:21:49.517Z"
   },
   {
    "duration": 12,
    "start_time": "2022-08-26T20:21:49.523Z"
   },
   {
    "duration": 9,
    "start_time": "2022-08-26T20:21:49.536Z"
   },
   {
    "duration": 10,
    "start_time": "2022-08-26T20:21:49.547Z"
   },
   {
    "duration": 4,
    "start_time": "2022-08-26T20:21:49.559Z"
   },
   {
    "duration": 106,
    "start_time": "2022-08-26T20:21:49.564Z"
   },
   {
    "duration": 7,
    "start_time": "2022-08-26T20:21:49.672Z"
   },
   {
    "duration": 118,
    "start_time": "2022-08-26T20:21:49.680Z"
   },
   {
    "duration": 0,
    "start_time": "2022-08-26T20:21:49.799Z"
   },
   {
    "duration": 0,
    "start_time": "2022-08-26T20:21:49.800Z"
   },
   {
    "duration": 0,
    "start_time": "2022-08-26T20:21:49.802Z"
   },
   {
    "duration": 0,
    "start_time": "2022-08-26T20:21:49.803Z"
   },
   {
    "duration": 0,
    "start_time": "2022-08-26T20:21:49.804Z"
   },
   {
    "duration": 0,
    "start_time": "2022-08-26T20:21:49.805Z"
   },
   {
    "duration": 0,
    "start_time": "2022-08-26T20:21:49.806Z"
   },
   {
    "duration": 0,
    "start_time": "2022-08-26T20:21:49.807Z"
   },
   {
    "duration": 0,
    "start_time": "2022-08-26T20:21:49.807Z"
   },
   {
    "duration": 0,
    "start_time": "2022-08-26T20:21:49.808Z"
   },
   {
    "duration": 0,
    "start_time": "2022-08-26T20:21:49.809Z"
   },
   {
    "duration": 0,
    "start_time": "2022-08-26T20:21:49.810Z"
   },
   {
    "duration": 0,
    "start_time": "2022-08-26T20:21:49.811Z"
   },
   {
    "duration": 8,
    "start_time": "2022-08-26T20:24:01.509Z"
   },
   {
    "duration": 11,
    "start_time": "2022-08-26T20:24:08.251Z"
   },
   {
    "duration": 11,
    "start_time": "2022-08-26T20:24:23.484Z"
   },
   {
    "duration": 10,
    "start_time": "2022-08-26T20:25:51.853Z"
   },
   {
    "duration": 10,
    "start_time": "2022-08-26T20:26:01.788Z"
   },
   {
    "duration": 1027,
    "start_time": "2022-08-26T20:26:14.438Z"
   },
   {
    "duration": 142,
    "start_time": "2022-08-26T20:26:15.466Z"
   },
   {
    "duration": 3,
    "start_time": "2022-08-26T20:26:15.609Z"
   },
   {
    "duration": 89,
    "start_time": "2022-08-26T20:26:15.614Z"
   },
   {
    "duration": 3,
    "start_time": "2022-08-26T20:26:15.705Z"
   },
   {
    "duration": 12,
    "start_time": "2022-08-26T20:26:15.709Z"
   },
   {
    "duration": 55,
    "start_time": "2022-08-26T20:26:15.723Z"
   },
   {
    "duration": 72,
    "start_time": "2022-08-26T20:26:15.799Z"
   },
   {
    "duration": 99,
    "start_time": "2022-08-26T20:26:15.873Z"
   },
   {
    "duration": 33,
    "start_time": "2022-08-26T20:26:15.975Z"
   },
   {
    "duration": 8,
    "start_time": "2022-08-26T20:26:16.010Z"
   },
   {
    "duration": 22,
    "start_time": "2022-08-26T20:26:16.019Z"
   },
   {
    "duration": 4,
    "start_time": "2022-08-26T20:26:16.043Z"
   },
   {
    "duration": 17,
    "start_time": "2022-08-26T20:26:16.048Z"
   },
   {
    "duration": 47,
    "start_time": "2022-08-26T20:26:16.066Z"
   },
   {
    "duration": 6,
    "start_time": "2022-08-26T20:26:16.114Z"
   },
   {
    "duration": 8,
    "start_time": "2022-08-26T20:26:16.121Z"
   },
   {
    "duration": 5,
    "start_time": "2022-08-26T20:26:16.130Z"
   },
   {
    "duration": 1214,
    "start_time": "2022-08-26T20:26:16.136Z"
   },
   {
    "duration": 15,
    "start_time": "2022-08-26T20:26:17.352Z"
   },
   {
    "duration": 30,
    "start_time": "2022-08-26T20:26:17.368Z"
   },
   {
    "duration": 1170,
    "start_time": "2022-08-26T20:26:17.400Z"
   },
   {
    "duration": 14,
    "start_time": "2022-08-26T20:26:18.572Z"
   },
   {
    "duration": 26,
    "start_time": "2022-08-26T20:26:18.587Z"
   },
   {
    "duration": 3,
    "start_time": "2022-08-26T20:26:18.615Z"
   },
   {
    "duration": 6,
    "start_time": "2022-08-26T20:26:18.619Z"
   },
   {
    "duration": 11,
    "start_time": "2022-08-26T20:26:18.626Z"
   },
   {
    "duration": 18,
    "start_time": "2022-08-26T20:26:18.640Z"
   },
   {
    "duration": 49,
    "start_time": "2022-08-26T20:26:18.660Z"
   },
   {
    "duration": 6,
    "start_time": "2022-08-26T20:26:18.710Z"
   },
   {
    "duration": 52,
    "start_time": "2022-08-26T20:26:18.717Z"
   },
   {
    "duration": 6,
    "start_time": "2022-08-26T20:26:18.771Z"
   },
   {
    "duration": 155,
    "start_time": "2022-08-26T20:26:18.778Z"
   },
   {
    "duration": 4,
    "start_time": "2022-08-26T20:26:18.935Z"
   },
   {
    "duration": 9,
    "start_time": "2022-08-26T20:26:18.940Z"
   },
   {
    "duration": 76,
    "start_time": "2022-08-26T20:26:18.950Z"
   },
   {
    "duration": 7,
    "start_time": "2022-08-26T20:26:19.027Z"
   },
   {
    "duration": 3,
    "start_time": "2022-08-26T20:26:19.035Z"
   },
   {
    "duration": 138,
    "start_time": "2022-08-26T20:26:19.039Z"
   },
   {
    "duration": 22,
    "start_time": "2022-08-26T20:26:19.179Z"
   },
   {
    "duration": 12,
    "start_time": "2022-08-26T20:26:19.203Z"
   },
   {
    "duration": 3,
    "start_time": "2022-08-26T20:26:19.216Z"
   },
   {
    "duration": 5,
    "start_time": "2022-08-26T20:26:19.221Z"
   },
   {
    "duration": 12,
    "start_time": "2022-08-26T20:26:19.228Z"
   },
   {
    "duration": 8,
    "start_time": "2022-08-26T20:26:19.241Z"
   },
   {
    "duration": 5,
    "start_time": "2022-08-26T20:26:19.251Z"
   },
   {
    "duration": 7,
    "start_time": "2022-08-26T20:26:19.257Z"
   },
   {
    "duration": 109,
    "start_time": "2022-08-26T20:26:19.265Z"
   },
   {
    "duration": 7,
    "start_time": "2022-08-26T20:26:19.376Z"
   },
   {
    "duration": 27,
    "start_time": "2022-08-26T20:26:19.384Z"
   },
   {
    "duration": 788,
    "start_time": "2022-08-26T20:26:19.413Z"
   },
   {
    "duration": 0,
    "start_time": "2022-08-26T20:26:20.203Z"
   },
   {
    "duration": 0,
    "start_time": "2022-08-26T20:26:20.204Z"
   },
   {
    "duration": 0,
    "start_time": "2022-08-26T20:26:20.205Z"
   },
   {
    "duration": 0,
    "start_time": "2022-08-26T20:26:20.206Z"
   },
   {
    "duration": 0,
    "start_time": "2022-08-26T20:26:20.207Z"
   },
   {
    "duration": 0,
    "start_time": "2022-08-26T20:26:20.208Z"
   },
   {
    "duration": 0,
    "start_time": "2022-08-26T20:26:20.209Z"
   },
   {
    "duration": 0,
    "start_time": "2022-08-26T20:26:20.210Z"
   },
   {
    "duration": 0,
    "start_time": "2022-08-26T20:26:20.211Z"
   },
   {
    "duration": 0,
    "start_time": "2022-08-26T20:26:20.212Z"
   },
   {
    "duration": 0,
    "start_time": "2022-08-26T20:26:20.213Z"
   },
   {
    "duration": 0,
    "start_time": "2022-08-26T20:26:20.214Z"
   },
   {
    "duration": 6,
    "start_time": "2022-08-26T20:36:37.129Z"
   },
   {
    "duration": 6,
    "start_time": "2022-08-26T20:36:45.545Z"
   },
   {
    "duration": 6,
    "start_time": "2022-08-26T20:36:59.508Z"
   },
   {
    "duration": 6,
    "start_time": "2022-08-26T20:37:11.205Z"
   },
   {
    "duration": 11,
    "start_time": "2022-08-26T20:40:32.601Z"
   },
   {
    "duration": 666,
    "start_time": "2022-08-26T20:40:32.615Z"
   },
   {
    "duration": 0,
    "start_time": "2022-08-26T20:40:33.283Z"
   },
   {
    "duration": 0,
    "start_time": "2022-08-26T20:40:33.284Z"
   },
   {
    "duration": 0,
    "start_time": "2022-08-26T20:40:33.285Z"
   },
   {
    "duration": 0,
    "start_time": "2022-08-26T20:40:33.287Z"
   },
   {
    "duration": 0,
    "start_time": "2022-08-26T20:40:33.288Z"
   },
   {
    "duration": 0,
    "start_time": "2022-08-26T20:40:33.289Z"
   },
   {
    "duration": 0,
    "start_time": "2022-08-26T20:40:33.290Z"
   },
   {
    "duration": 17,
    "start_time": "2022-08-26T20:41:30.449Z"
   },
   {
    "duration": 15,
    "start_time": "2022-08-26T20:41:49.071Z"
   },
   {
    "duration": 17,
    "start_time": "2022-08-26T20:42:01.928Z"
   },
   {
    "duration": 16,
    "start_time": "2022-08-26T20:42:19.304Z"
   },
   {
    "duration": 749,
    "start_time": "2022-08-26T20:43:02.380Z"
   },
   {
    "duration": 4,
    "start_time": "2022-08-26T20:43:10.437Z"
   },
   {
    "duration": 8,
    "start_time": "2022-08-26T20:43:11.985Z"
   },
   {
    "duration": 15,
    "start_time": "2022-08-26T20:43:13.133Z"
   },
   {
    "duration": 16,
    "start_time": "2022-08-26T20:43:22.774Z"
   },
   {
    "duration": 16,
    "start_time": "2022-08-26T20:43:32.578Z"
   },
   {
    "duration": 3,
    "start_time": "2022-08-26T20:47:08.194Z"
   },
   {
    "duration": 720,
    "start_time": "2022-08-26T20:47:08.645Z"
   },
   {
    "duration": 16,
    "start_time": "2022-08-26T20:48:11.937Z"
   },
   {
    "duration": 7,
    "start_time": "2022-08-26T20:48:15.074Z"
   },
   {
    "duration": 8,
    "start_time": "2022-08-26T20:48:57.187Z"
   },
   {
    "duration": 3,
    "start_time": "2022-08-26T20:49:28.767Z"
   },
   {
    "duration": 9,
    "start_time": "2022-08-26T20:49:35.215Z"
   },
   {
    "duration": 27,
    "start_time": "2022-08-26T20:51:47.815Z"
   },
   {
    "duration": 20,
    "start_time": "2022-08-26T20:52:09.326Z"
   },
   {
    "duration": 3,
    "start_time": "2022-08-26T20:52:10.931Z"
   },
   {
    "duration": 7,
    "start_time": "2022-08-26T20:52:11.898Z"
   },
   {
    "duration": 19,
    "start_time": "2022-08-26T20:52:42.735Z"
   },
   {
    "duration": 2,
    "start_time": "2022-08-26T20:52:43.361Z"
   },
   {
    "duration": 8,
    "start_time": "2022-08-26T20:52:43.892Z"
   },
   {
    "duration": 1269,
    "start_time": "2022-08-27T14:31:01.416Z"
   },
   {
    "duration": 494,
    "start_time": "2022-08-27T14:31:02.687Z"
   },
   {
    "duration": 3,
    "start_time": "2022-08-27T14:31:03.183Z"
   },
   {
    "duration": 97,
    "start_time": "2022-08-27T14:31:03.188Z"
   },
   {
    "duration": 2,
    "start_time": "2022-08-27T14:31:03.287Z"
   },
   {
    "duration": 17,
    "start_time": "2022-08-27T14:31:03.291Z"
   },
   {
    "duration": 85,
    "start_time": "2022-08-27T14:31:03.310Z"
   },
   {
    "duration": 91,
    "start_time": "2022-08-27T14:31:03.397Z"
   },
   {
    "duration": 114,
    "start_time": "2022-08-27T14:31:03.490Z"
   },
   {
    "duration": 29,
    "start_time": "2022-08-27T14:31:03.606Z"
   },
   {
    "duration": 9,
    "start_time": "2022-08-27T14:31:03.637Z"
   },
   {
    "duration": 48,
    "start_time": "2022-08-27T14:31:03.648Z"
   },
   {
    "duration": 7,
    "start_time": "2022-08-27T14:31:03.697Z"
   },
   {
    "duration": 26,
    "start_time": "2022-08-27T14:31:03.706Z"
   },
   {
    "duration": 21,
    "start_time": "2022-08-27T14:31:03.734Z"
   },
   {
    "duration": 32,
    "start_time": "2022-08-27T14:31:03.756Z"
   },
   {
    "duration": 9,
    "start_time": "2022-08-27T14:31:03.790Z"
   },
   {
    "duration": 4,
    "start_time": "2022-08-27T14:31:03.801Z"
   },
   {
    "duration": 1449,
    "start_time": "2022-08-27T14:31:03.807Z"
   },
   {
    "duration": 16,
    "start_time": "2022-08-27T14:31:05.258Z"
   },
   {
    "duration": 26,
    "start_time": "2022-08-27T14:31:05.276Z"
   },
   {
    "duration": 1282,
    "start_time": "2022-08-27T14:31:05.304Z"
   },
   {
    "duration": 15,
    "start_time": "2022-08-27T14:31:06.588Z"
   },
   {
    "duration": 32,
    "start_time": "2022-08-27T14:31:06.604Z"
   },
   {
    "duration": 5,
    "start_time": "2022-08-27T14:31:06.637Z"
   },
   {
    "duration": 10,
    "start_time": "2022-08-27T14:31:06.643Z"
   },
   {
    "duration": 24,
    "start_time": "2022-08-27T14:31:06.655Z"
   },
   {
    "duration": 40,
    "start_time": "2022-08-27T14:31:06.682Z"
   },
   {
    "duration": 34,
    "start_time": "2022-08-27T14:31:06.724Z"
   },
   {
    "duration": 10,
    "start_time": "2022-08-27T14:31:06.760Z"
   },
   {
    "duration": 63,
    "start_time": "2022-08-27T14:31:06.772Z"
   },
   {
    "duration": 7,
    "start_time": "2022-08-27T14:31:06.836Z"
   },
   {
    "duration": 173,
    "start_time": "2022-08-27T14:31:06.845Z"
   },
   {
    "duration": 5,
    "start_time": "2022-08-27T14:31:07.020Z"
   },
   {
    "duration": 33,
    "start_time": "2022-08-27T14:31:07.026Z"
   },
   {
    "duration": 73,
    "start_time": "2022-08-27T14:31:07.060Z"
   },
   {
    "duration": 7,
    "start_time": "2022-08-27T14:31:07.184Z"
   },
   {
    "duration": 11,
    "start_time": "2022-08-27T14:31:07.193Z"
   },
   {
    "duration": 123,
    "start_time": "2022-08-27T14:31:07.207Z"
   },
   {
    "duration": 18,
    "start_time": "2022-08-27T14:31:07.331Z"
   },
   {
    "duration": 21,
    "start_time": "2022-08-27T14:31:07.351Z"
   },
   {
    "duration": 20,
    "start_time": "2022-08-27T14:31:07.374Z"
   },
   {
    "duration": 16,
    "start_time": "2022-08-27T14:31:07.396Z"
   },
   {
    "duration": 30,
    "start_time": "2022-08-27T14:31:07.414Z"
   },
   {
    "duration": 22,
    "start_time": "2022-08-27T14:31:07.445Z"
   },
   {
    "duration": 22,
    "start_time": "2022-08-27T14:31:07.468Z"
   },
   {
    "duration": 9,
    "start_time": "2022-08-27T14:31:07.492Z"
   },
   {
    "duration": 102,
    "start_time": "2022-08-27T14:31:07.502Z"
   },
   {
    "duration": 9,
    "start_time": "2022-08-27T14:31:07.606Z"
   },
   {
    "duration": 26,
    "start_time": "2022-08-27T14:31:07.616Z"
   },
   {
    "duration": 9,
    "start_time": "2022-08-27T14:31:07.644Z"
   },
   {
    "duration": 47,
    "start_time": "2022-08-27T14:31:07.655Z"
   },
   {
    "duration": 18,
    "start_time": "2022-08-27T14:31:07.704Z"
   },
   {
    "duration": 22,
    "start_time": "2022-08-27T14:31:07.723Z"
   },
   {
    "duration": 42,
    "start_time": "2022-08-27T14:31:07.747Z"
   },
   {
    "duration": 28,
    "start_time": "2022-08-27T14:31:07.791Z"
   },
   {
    "duration": 4,
    "start_time": "2022-08-27T14:31:07.821Z"
   },
   {
    "duration": 44,
    "start_time": "2022-08-27T14:31:07.827Z"
   },
   {
    "duration": 30,
    "start_time": "2022-08-27T14:31:07.873Z"
   },
   {
    "duration": 34,
    "start_time": "2022-08-27T14:31:07.905Z"
   },
   {
    "duration": 6,
    "start_time": "2022-08-27T14:32:08.652Z"
   },
   {
    "duration": 4,
    "start_time": "2022-08-27T14:32:14.235Z"
   },
   {
    "duration": 6,
    "start_time": "2022-08-27T14:49:30.815Z"
   },
   {
    "duration": 21,
    "start_time": "2022-08-27T14:50:45.577Z"
   },
   {
    "duration": 6,
    "start_time": "2022-08-27T14:50:52.261Z"
   },
   {
    "duration": 19,
    "start_time": "2022-08-27T14:51:28.603Z"
   },
   {
    "duration": 106,
    "start_time": "2022-08-27T14:51:59.698Z"
   },
   {
    "duration": 40,
    "start_time": "2022-08-27T14:52:18.932Z"
   },
   {
    "duration": 7,
    "start_time": "2022-08-27T14:52:21.581Z"
   },
   {
    "duration": 5,
    "start_time": "2022-08-27T14:52:23.123Z"
   },
   {
    "duration": 32,
    "start_time": "2022-08-27T14:52:28.864Z"
   },
   {
    "duration": 18,
    "start_time": "2022-08-27T14:52:59.579Z"
   },
   {
    "duration": 14,
    "start_time": "2022-08-27T14:53:10.713Z"
   },
   {
    "duration": 15,
    "start_time": "2022-08-27T14:53:22.468Z"
   }
  ],
  "kernelspec": {
   "display_name": "Python 3 (ipykernel)",
   "language": "python",
   "name": "python3"
  },
  "language_info": {
   "codemirror_mode": {
    "name": "ipython",
    "version": 3
   },
   "file_extension": ".py",
   "mimetype": "text/x-python",
   "name": "python",
   "nbconvert_exporter": "python",
   "pygments_lexer": "ipython3",
   "version": "3.9.12"
  },
  "toc": {
   "base_numbering": 1,
   "nav_menu": {},
   "number_sections": true,
   "sideBar": true,
   "skip_h1_title": true,
   "title_cell": "Table of Contents",
   "title_sidebar": "Contents",
   "toc_cell": false,
   "toc_position": {
    "height": "calc(100% - 180px)",
    "left": "10px",
    "top": "150px",
    "width": "215.174px"
   },
   "toc_section_display": true,
   "toc_window_display": true
  }
 },
 "nbformat": 4,
 "nbformat_minor": 2
}
