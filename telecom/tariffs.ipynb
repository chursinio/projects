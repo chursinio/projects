{
 "cells": [
  {
   "cell_type": "markdown",
   "metadata": {},
   "source": [
    "# Определение выгодного тарифа для телеком компании"
   ]
  },
  {
   "cell_type": "markdown",
   "metadata": {},
   "source": [
    "**Описание тарифов**\n",
    "\n",
    "\n",
    "**Тариф «Смарт»**\n",
    "\n",
    "1. Ежемесячная плата: 550 рублей\n",
    "2. Включено 500 минут разговора, 50 сообщений и 15 Гб интернет-трафика\n",
    "3. Стоимость услуг сверх тарифного пакета:\n",
    "    - минута разговора: 3 рубля\n",
    "    - сообщение: 3 рубля\n",
    "    - 1 Гб интернет-трафика: 200 рублей\n",
    "\n",
    "**Тариф «Ультра»**\n",
    "\n",
    "1. Ежемесячная плата: 1950 рублей\n",
    "2. Включено 3000 минут разговора, 1000 сообщений и 30 Гб интернет-трафика\n",
    "3. Стоимость услуг сверх тарифного пакета:\n",
    "    - минута разговора: 1 рубль\n",
    "    - сообщение: 1 рубль\n",
    "    - 1 Гб интернет-трафика: 150 рублей"
   ]
  },
  {
   "cell_type": "markdown",
   "metadata": {},
   "source": [
    "## Изучение данных"
   ]
  },
  {
   "cell_type": "markdown",
   "metadata": {},
   "source": [
    "Импортируем необходимые библиотеки"
   ]
  },
  {
   "cell_type": "code",
   "execution_count": 1,
   "metadata": {},
   "outputs": [],
   "source": [
    "import pandas as pd\n",
    "import numpy as np \n",
    "from scipy import stats as st"
   ]
  },
  {
   "cell_type": "code",
   "execution_count": 2,
   "metadata": {},
   "outputs": [],
   "source": [
    "from matplotlib import pyplot as plt\n",
    "from math import factorial"
   ]
  },
  {
   "cell_type": "code",
   "execution_count": 3,
   "metadata": {},
   "outputs": [],
   "source": [
    "pd.set_option('display.max_columns', None)"
   ]
  },
  {
   "cell_type": "markdown",
   "metadata": {},
   "source": [
    "Откроем и посмотрим каждый из имеющихся датасетов"
   ]
  },
  {
   "cell_type": "markdown",
   "metadata": {},
   "source": [
    "### Таблица **users**"
   ]
  },
  {
   "cell_type": "code",
   "execution_count": 4,
   "metadata": {},
   "outputs": [
    {
     "name": "stdout",
     "output_type": "stream",
     "text": [
      "<class 'pandas.core.frame.DataFrame'>\n",
      "RangeIndex: 500 entries, 0 to 499\n",
      "Data columns (total 8 columns):\n",
      " #   Column      Non-Null Count  Dtype \n",
      "---  ------      --------------  ----- \n",
      " 0   user_id     500 non-null    int64 \n",
      " 1   age         500 non-null    int64 \n",
      " 2   churn_date  38 non-null     object\n",
      " 3   city        500 non-null    object\n",
      " 4   first_name  500 non-null    object\n",
      " 5   last_name   500 non-null    object\n",
      " 6   reg_date    500 non-null    object\n",
      " 7   tariff      500 non-null    object\n",
      "dtypes: int64(2), object(6)\n",
      "memory usage: 31.4+ KB\n"
     ]
    },
    {
     "data": {
      "text/html": [
       "<div>\n",
       "<style scoped>\n",
       "    .dataframe tbody tr th:only-of-type {\n",
       "        vertical-align: middle;\n",
       "    }\n",
       "\n",
       "    .dataframe tbody tr th {\n",
       "        vertical-align: top;\n",
       "    }\n",
       "\n",
       "    .dataframe thead th {\n",
       "        text-align: right;\n",
       "    }\n",
       "</style>\n",
       "<table border=\"1\" class=\"dataframe\">\n",
       "  <thead>\n",
       "    <tr style=\"text-align: right;\">\n",
       "      <th></th>\n",
       "      <th>user_id</th>\n",
       "      <th>age</th>\n",
       "      <th>churn_date</th>\n",
       "      <th>city</th>\n",
       "      <th>first_name</th>\n",
       "      <th>last_name</th>\n",
       "      <th>reg_date</th>\n",
       "      <th>tariff</th>\n",
       "    </tr>\n",
       "  </thead>\n",
       "  <tbody>\n",
       "    <tr>\n",
       "      <th>0</th>\n",
       "      <td>1000</td>\n",
       "      <td>52</td>\n",
       "      <td>NaN</td>\n",
       "      <td>Краснодар</td>\n",
       "      <td>Рафаил</td>\n",
       "      <td>Верещагин</td>\n",
       "      <td>2018-05-25</td>\n",
       "      <td>ultra</td>\n",
       "    </tr>\n",
       "    <tr>\n",
       "      <th>1</th>\n",
       "      <td>1001</td>\n",
       "      <td>41</td>\n",
       "      <td>NaN</td>\n",
       "      <td>Москва</td>\n",
       "      <td>Иван</td>\n",
       "      <td>Ежов</td>\n",
       "      <td>2018-11-01</td>\n",
       "      <td>smart</td>\n",
       "    </tr>\n",
       "    <tr>\n",
       "      <th>2</th>\n",
       "      <td>1002</td>\n",
       "      <td>59</td>\n",
       "      <td>NaN</td>\n",
       "      <td>Стерлитамак</td>\n",
       "      <td>Евгений</td>\n",
       "      <td>Абрамович</td>\n",
       "      <td>2018-06-17</td>\n",
       "      <td>smart</td>\n",
       "    </tr>\n",
       "    <tr>\n",
       "      <th>3</th>\n",
       "      <td>1003</td>\n",
       "      <td>23</td>\n",
       "      <td>NaN</td>\n",
       "      <td>Москва</td>\n",
       "      <td>Белла</td>\n",
       "      <td>Белякова</td>\n",
       "      <td>2018-08-17</td>\n",
       "      <td>ultra</td>\n",
       "    </tr>\n",
       "    <tr>\n",
       "      <th>4</th>\n",
       "      <td>1004</td>\n",
       "      <td>68</td>\n",
       "      <td>NaN</td>\n",
       "      <td>Новокузнецк</td>\n",
       "      <td>Татьяна</td>\n",
       "      <td>Авдеенко</td>\n",
       "      <td>2018-05-14</td>\n",
       "      <td>ultra</td>\n",
       "    </tr>\n",
       "  </tbody>\n",
       "</table>\n",
       "</div>"
      ],
      "text/plain": [
       "   user_id  age churn_date         city first_name  last_name    reg_date  \\\n",
       "0     1000   52        NaN    Краснодар     Рафаил  Верещагин  2018-05-25   \n",
       "1     1001   41        NaN       Москва       Иван       Ежов  2018-11-01   \n",
       "2     1002   59        NaN  Стерлитамак    Евгений  Абрамович  2018-06-17   \n",
       "3     1003   23        NaN       Москва      Белла   Белякова  2018-08-17   \n",
       "4     1004   68        NaN  Новокузнецк    Татьяна   Авдеенко  2018-05-14   \n",
       "\n",
       "  tariff  \n",
       "0  ultra  \n",
       "1  smart  \n",
       "2  smart  \n",
       "3  ultra  \n",
       "4  ultra  "
      ]
     },
     "metadata": {},
     "output_type": "display_data"
    },
    {
     "data": {
      "text/plain": [
       "None"
      ]
     },
     "metadata": {},
     "output_type": "display_data"
    }
   ],
   "source": [
    "users = pd.read_csv('users.csv')\n",
    "display(users.head(), users.info())"
   ]
  },
  {
   "cell_type": "markdown",
   "metadata": {},
   "source": [
    "В таблице **users** представлена информация о пользователях. Включает в себя следующие столбцы:\n",
    "- `user_id` — уникальный идентификатор пользователя\n",
    "- `age` — возраст пользователя (годы)\n",
    "- `churn_date` — дата прекращения пользования тарифом (если значение пропущено, то тариф ещё действовал на момент выгрузки данных)\n",
    "- `city` — город проживания пользователя\n",
    "- `first_name` — имя пользователя\n",
    "- `last_name` — фамилия пользователя\n",
    "- `reg_date` — дата подключения тарифа (день, месяц, год)\n",
    "- `tariff` — название тарифного плана"
   ]
  },
  {
   "cell_type": "markdown",
   "metadata": {},
   "source": [
    "Посмотрим количество абонентов по каждому тарифу."
   ]
  },
  {
   "cell_type": "code",
   "execution_count": 5,
   "metadata": {},
   "outputs": [
    {
     "data": {
      "text/plain": [
       "tariff\n",
       "smart    351\n",
       "ultra    149\n",
       "Name: user_id, dtype: int64"
      ]
     },
     "execution_count": 5,
     "metadata": {},
     "output_type": "execute_result"
    }
   ],
   "source": [
    "users.groupby('tariff')['user_id'].count()"
   ]
  },
  {
   "cell_type": "markdown",
   "metadata": {},
   "source": [
    "Проверим наличие дубликатов в таблице **users**"
   ]
  },
  {
   "cell_type": "code",
   "execution_count": 6,
   "metadata": {},
   "outputs": [
    {
     "data": {
      "text/plain": [
       "0"
      ]
     },
     "execution_count": 6,
     "metadata": {},
     "output_type": "execute_result"
    }
   ],
   "source": [
    "users.duplicated().sum()"
   ]
  },
  {
   "cell_type": "markdown",
   "metadata": {},
   "source": [
    "### Таблица **calls**"
   ]
  },
  {
   "cell_type": "code",
   "execution_count": 7,
   "metadata": {},
   "outputs": [
    {
     "name": "stdout",
     "output_type": "stream",
     "text": [
      "<class 'pandas.core.frame.DataFrame'>\n",
      "RangeIndex: 202607 entries, 0 to 202606\n",
      "Data columns (total 4 columns):\n",
      " #   Column     Non-Null Count   Dtype  \n",
      "---  ------     --------------   -----  \n",
      " 0   id         202607 non-null  object \n",
      " 1   call_date  202607 non-null  object \n",
      " 2   duration   202607 non-null  float64\n",
      " 3   user_id    202607 non-null  int64  \n",
      "dtypes: float64(1), int64(1), object(2)\n",
      "memory usage: 6.2+ MB\n"
     ]
    },
    {
     "data": {
      "text/html": [
       "<div>\n",
       "<style scoped>\n",
       "    .dataframe tbody tr th:only-of-type {\n",
       "        vertical-align: middle;\n",
       "    }\n",
       "\n",
       "    .dataframe tbody tr th {\n",
       "        vertical-align: top;\n",
       "    }\n",
       "\n",
       "    .dataframe thead th {\n",
       "        text-align: right;\n",
       "    }\n",
       "</style>\n",
       "<table border=\"1\" class=\"dataframe\">\n",
       "  <thead>\n",
       "    <tr style=\"text-align: right;\">\n",
       "      <th></th>\n",
       "      <th>id</th>\n",
       "      <th>call_date</th>\n",
       "      <th>duration</th>\n",
       "      <th>user_id</th>\n",
       "    </tr>\n",
       "  </thead>\n",
       "  <tbody>\n",
       "    <tr>\n",
       "      <th>0</th>\n",
       "      <td>1000_0</td>\n",
       "      <td>2018-07-25</td>\n",
       "      <td>0.00</td>\n",
       "      <td>1000</td>\n",
       "    </tr>\n",
       "    <tr>\n",
       "      <th>1</th>\n",
       "      <td>1000_1</td>\n",
       "      <td>2018-08-17</td>\n",
       "      <td>0.00</td>\n",
       "      <td>1000</td>\n",
       "    </tr>\n",
       "    <tr>\n",
       "      <th>2</th>\n",
       "      <td>1000_2</td>\n",
       "      <td>2018-06-11</td>\n",
       "      <td>2.85</td>\n",
       "      <td>1000</td>\n",
       "    </tr>\n",
       "    <tr>\n",
       "      <th>3</th>\n",
       "      <td>1000_3</td>\n",
       "      <td>2018-09-21</td>\n",
       "      <td>13.80</td>\n",
       "      <td>1000</td>\n",
       "    </tr>\n",
       "    <tr>\n",
       "      <th>4</th>\n",
       "      <td>1000_4</td>\n",
       "      <td>2018-12-15</td>\n",
       "      <td>5.18</td>\n",
       "      <td>1000</td>\n",
       "    </tr>\n",
       "  </tbody>\n",
       "</table>\n",
       "</div>"
      ],
      "text/plain": [
       "       id   call_date  duration  user_id\n",
       "0  1000_0  2018-07-25      0.00     1000\n",
       "1  1000_1  2018-08-17      0.00     1000\n",
       "2  1000_2  2018-06-11      2.85     1000\n",
       "3  1000_3  2018-09-21     13.80     1000\n",
       "4  1000_4  2018-12-15      5.18     1000"
      ]
     },
     "metadata": {},
     "output_type": "display_data"
    },
    {
     "data": {
      "text/plain": [
       "None"
      ]
     },
     "metadata": {},
     "output_type": "display_data"
    }
   ],
   "source": [
    "calls = pd.read_csv('calls.csv')\n",
    "display(calls.head(),calls.info())"
   ]
  },
  {
   "cell_type": "markdown",
   "metadata": {},
   "source": [
    "В таблице **calls** представлена информация о звонках. Включает в себя следующие столбцы:\n",
    "- `id` — уникальный номер звонка\n",
    "- `call_date` — дата звонка\n",
    "- `duration` — длительность звонка в минутах\n",
    "- `user_id` — идентификатор пользователя, сделавшего звонок"
   ]
  },
  {
   "cell_type": "code",
   "execution_count": 8,
   "metadata": {},
   "outputs": [
    {
     "data": {
      "text/html": [
       "<div>\n",
       "<style scoped>\n",
       "    .dataframe tbody tr th:only-of-type {\n",
       "        vertical-align: middle;\n",
       "    }\n",
       "\n",
       "    .dataframe tbody tr th {\n",
       "        vertical-align: top;\n",
       "    }\n",
       "\n",
       "    .dataframe thead th {\n",
       "        text-align: right;\n",
       "    }\n",
       "</style>\n",
       "<table border=\"1\" class=\"dataframe\">\n",
       "  <thead>\n",
       "    <tr style=\"text-align: right;\">\n",
       "      <th></th>\n",
       "      <th>id</th>\n",
       "      <th>call_date</th>\n",
       "      <th>duration</th>\n",
       "      <th>user_id</th>\n",
       "    </tr>\n",
       "  </thead>\n",
       "  <tbody>\n",
       "    <tr>\n",
       "      <th>202602</th>\n",
       "      <td>1499_215</td>\n",
       "      <td>2018-12-26</td>\n",
       "      <td>0.76</td>\n",
       "      <td>1499</td>\n",
       "    </tr>\n",
       "    <tr>\n",
       "      <th>202603</th>\n",
       "      <td>1499_216</td>\n",
       "      <td>2018-10-18</td>\n",
       "      <td>18.83</td>\n",
       "      <td>1499</td>\n",
       "    </tr>\n",
       "    <tr>\n",
       "      <th>202604</th>\n",
       "      <td>1499_217</td>\n",
       "      <td>2018-11-10</td>\n",
       "      <td>10.81</td>\n",
       "      <td>1499</td>\n",
       "    </tr>\n",
       "    <tr>\n",
       "      <th>202605</th>\n",
       "      <td>1499_218</td>\n",
       "      <td>2018-10-06</td>\n",
       "      <td>4.27</td>\n",
       "      <td>1499</td>\n",
       "    </tr>\n",
       "    <tr>\n",
       "      <th>202606</th>\n",
       "      <td>1499_219</td>\n",
       "      <td>2018-12-14</td>\n",
       "      <td>19.62</td>\n",
       "      <td>1499</td>\n",
       "    </tr>\n",
       "  </tbody>\n",
       "</table>\n",
       "</div>"
      ],
      "text/plain": [
       "              id   call_date  duration  user_id\n",
       "202602  1499_215  2018-12-26      0.76     1499\n",
       "202603  1499_216  2018-10-18     18.83     1499\n",
       "202604  1499_217  2018-11-10     10.81     1499\n",
       "202605  1499_218  2018-10-06      4.27     1499\n",
       "202606  1499_219  2018-12-14     19.62     1499"
      ]
     },
     "execution_count": 8,
     "metadata": {},
     "output_type": "execute_result"
    }
   ],
   "source": [
    "calls.tail()"
   ]
  },
  {
   "cell_type": "markdown",
   "metadata": {},
   "source": [
    "Проверим наличие дубликатов в таблице **calls**"
   ]
  },
  {
   "cell_type": "code",
   "execution_count": 9,
   "metadata": {},
   "outputs": [
    {
     "data": {
      "text/plain": [
       "0"
      ]
     },
     "execution_count": 9,
     "metadata": {},
     "output_type": "execute_result"
    }
   ],
   "source": [
    "calls.duplicated().sum()"
   ]
  },
  {
   "cell_type": "markdown",
   "metadata": {},
   "source": [
    "### Таблица **internet**"
   ]
  },
  {
   "cell_type": "code",
   "execution_count": 10,
   "metadata": {},
   "outputs": [
    {
     "name": "stdout",
     "output_type": "stream",
     "text": [
      "<class 'pandas.core.frame.DataFrame'>\n",
      "RangeIndex: 149396 entries, 0 to 149395\n",
      "Data columns (total 5 columns):\n",
      " #   Column        Non-Null Count   Dtype  \n",
      "---  ------        --------------   -----  \n",
      " 0   Unnamed: 0    149396 non-null  int64  \n",
      " 1   id            149396 non-null  object \n",
      " 2   mb_used       149396 non-null  float64\n",
      " 3   session_date  149396 non-null  object \n",
      " 4   user_id       149396 non-null  int64  \n",
      "dtypes: float64(1), int64(2), object(2)\n",
      "memory usage: 5.7+ MB\n"
     ]
    },
    {
     "data": {
      "text/html": [
       "<div>\n",
       "<style scoped>\n",
       "    .dataframe tbody tr th:only-of-type {\n",
       "        vertical-align: middle;\n",
       "    }\n",
       "\n",
       "    .dataframe tbody tr th {\n",
       "        vertical-align: top;\n",
       "    }\n",
       "\n",
       "    .dataframe thead th {\n",
       "        text-align: right;\n",
       "    }\n",
       "</style>\n",
       "<table border=\"1\" class=\"dataframe\">\n",
       "  <thead>\n",
       "    <tr style=\"text-align: right;\">\n",
       "      <th></th>\n",
       "      <th>Unnamed: 0</th>\n",
       "      <th>id</th>\n",
       "      <th>mb_used</th>\n",
       "      <th>session_date</th>\n",
       "      <th>user_id</th>\n",
       "    </tr>\n",
       "  </thead>\n",
       "  <tbody>\n",
       "    <tr>\n",
       "      <th>0</th>\n",
       "      <td>0</td>\n",
       "      <td>1000_0</td>\n",
       "      <td>112.95</td>\n",
       "      <td>2018-11-25</td>\n",
       "      <td>1000</td>\n",
       "    </tr>\n",
       "    <tr>\n",
       "      <th>1</th>\n",
       "      <td>1</td>\n",
       "      <td>1000_1</td>\n",
       "      <td>1052.81</td>\n",
       "      <td>2018-09-07</td>\n",
       "      <td>1000</td>\n",
       "    </tr>\n",
       "    <tr>\n",
       "      <th>2</th>\n",
       "      <td>2</td>\n",
       "      <td>1000_2</td>\n",
       "      <td>1197.26</td>\n",
       "      <td>2018-06-25</td>\n",
       "      <td>1000</td>\n",
       "    </tr>\n",
       "    <tr>\n",
       "      <th>3</th>\n",
       "      <td>3</td>\n",
       "      <td>1000_3</td>\n",
       "      <td>550.27</td>\n",
       "      <td>2018-08-22</td>\n",
       "      <td>1000</td>\n",
       "    </tr>\n",
       "    <tr>\n",
       "      <th>4</th>\n",
       "      <td>4</td>\n",
       "      <td>1000_4</td>\n",
       "      <td>302.56</td>\n",
       "      <td>2018-09-24</td>\n",
       "      <td>1000</td>\n",
       "    </tr>\n",
       "  </tbody>\n",
       "</table>\n",
       "</div>"
      ],
      "text/plain": [
       "   Unnamed: 0      id  mb_used session_date  user_id\n",
       "0           0  1000_0   112.95   2018-11-25     1000\n",
       "1           1  1000_1  1052.81   2018-09-07     1000\n",
       "2           2  1000_2  1197.26   2018-06-25     1000\n",
       "3           3  1000_3   550.27   2018-08-22     1000\n",
       "4           4  1000_4   302.56   2018-09-24     1000"
      ]
     },
     "metadata": {},
     "output_type": "display_data"
    },
    {
     "data": {
      "text/plain": [
       "None"
      ]
     },
     "metadata": {},
     "output_type": "display_data"
    }
   ],
   "source": [
    "internet = pd.read_csv('internet.csv')\n",
    "display(internet.head(), internet.info())"
   ]
  },
  {
   "cell_type": "markdown",
   "metadata": {},
   "source": [
    "Таблица **internet** сожержит информацию об интернет-сессиях. Включает в себя следующие столбцы:\n",
    "- `id` — уникальный номер сессии\n",
    "- `mb_used` — объём потраченного за сессию интернет-трафика (в мегабайтах)\n",
    "- `session_date` — дата интернет-сессии\n",
    "- `user_id` — идентификатор пользователя"
   ]
  },
  {
   "cell_type": "code",
   "execution_count": 11,
   "metadata": {},
   "outputs": [
    {
     "data": {
      "text/html": [
       "<div>\n",
       "<style scoped>\n",
       "    .dataframe tbody tr th:only-of-type {\n",
       "        vertical-align: middle;\n",
       "    }\n",
       "\n",
       "    .dataframe tbody tr th {\n",
       "        vertical-align: top;\n",
       "    }\n",
       "\n",
       "    .dataframe thead th {\n",
       "        text-align: right;\n",
       "    }\n",
       "</style>\n",
       "<table border=\"1\" class=\"dataframe\">\n",
       "  <thead>\n",
       "    <tr style=\"text-align: right;\">\n",
       "      <th></th>\n",
       "      <th>Unnamed: 0</th>\n",
       "      <th>id</th>\n",
       "      <th>mb_used</th>\n",
       "      <th>session_date</th>\n",
       "      <th>user_id</th>\n",
       "    </tr>\n",
       "  </thead>\n",
       "  <tbody>\n",
       "    <tr>\n",
       "      <th>149386</th>\n",
       "      <td>149386</td>\n",
       "      <td>1499_147</td>\n",
       "      <td>0.00</td>\n",
       "      <td>2018-10-21</td>\n",
       "      <td>1499</td>\n",
       "    </tr>\n",
       "    <tr>\n",
       "      <th>149387</th>\n",
       "      <td>149387</td>\n",
       "      <td>1499_148</td>\n",
       "      <td>268.19</td>\n",
       "      <td>2018-11-13</td>\n",
       "      <td>1499</td>\n",
       "    </tr>\n",
       "    <tr>\n",
       "      <th>149388</th>\n",
       "      <td>149388</td>\n",
       "      <td>1499_149</td>\n",
       "      <td>778.68</td>\n",
       "      <td>2018-11-24</td>\n",
       "      <td>1499</td>\n",
       "    </tr>\n",
       "    <tr>\n",
       "      <th>149389</th>\n",
       "      <td>149389</td>\n",
       "      <td>1499_150</td>\n",
       "      <td>273.98</td>\n",
       "      <td>2018-11-20</td>\n",
       "      <td>1499</td>\n",
       "    </tr>\n",
       "    <tr>\n",
       "      <th>149390</th>\n",
       "      <td>149390</td>\n",
       "      <td>1499_151</td>\n",
       "      <td>752.72</td>\n",
       "      <td>2018-10-11</td>\n",
       "      <td>1499</td>\n",
       "    </tr>\n",
       "    <tr>\n",
       "      <th>149391</th>\n",
       "      <td>149391</td>\n",
       "      <td>1499_152</td>\n",
       "      <td>318.90</td>\n",
       "      <td>2018-10-03</td>\n",
       "      <td>1499</td>\n",
       "    </tr>\n",
       "    <tr>\n",
       "      <th>149392</th>\n",
       "      <td>149392</td>\n",
       "      <td>1499_153</td>\n",
       "      <td>490.13</td>\n",
       "      <td>2018-12-14</td>\n",
       "      <td>1499</td>\n",
       "    </tr>\n",
       "    <tr>\n",
       "      <th>149393</th>\n",
       "      <td>149393</td>\n",
       "      <td>1499_154</td>\n",
       "      <td>0.00</td>\n",
       "      <td>2018-10-27</td>\n",
       "      <td>1499</td>\n",
       "    </tr>\n",
       "    <tr>\n",
       "      <th>149394</th>\n",
       "      <td>149394</td>\n",
       "      <td>1499_155</td>\n",
       "      <td>1246.32</td>\n",
       "      <td>2018-11-26</td>\n",
       "      <td>1499</td>\n",
       "    </tr>\n",
       "    <tr>\n",
       "      <th>149395</th>\n",
       "      <td>149395</td>\n",
       "      <td>1499_156</td>\n",
       "      <td>544.37</td>\n",
       "      <td>2018-10-26</td>\n",
       "      <td>1499</td>\n",
       "    </tr>\n",
       "  </tbody>\n",
       "</table>\n",
       "</div>"
      ],
      "text/plain": [
       "        Unnamed: 0        id  mb_used session_date  user_id\n",
       "149386      149386  1499_147     0.00   2018-10-21     1499\n",
       "149387      149387  1499_148   268.19   2018-11-13     1499\n",
       "149388      149388  1499_149   778.68   2018-11-24     1499\n",
       "149389      149389  1499_150   273.98   2018-11-20     1499\n",
       "149390      149390  1499_151   752.72   2018-10-11     1499\n",
       "149391      149391  1499_152   318.90   2018-10-03     1499\n",
       "149392      149392  1499_153   490.13   2018-12-14     1499\n",
       "149393      149393  1499_154     0.00   2018-10-27     1499\n",
       "149394      149394  1499_155  1246.32   2018-11-26     1499\n",
       "149395      149395  1499_156   544.37   2018-10-26     1499"
      ]
     },
     "execution_count": 11,
     "metadata": {},
     "output_type": "execute_result"
    }
   ],
   "source": [
    "internet.tail(10)"
   ]
  },
  {
   "cell_type": "markdown",
   "metadata": {},
   "source": [
    "Проверим наличие дубликатов в таблице **internet**"
   ]
  },
  {
   "cell_type": "code",
   "execution_count": 12,
   "metadata": {},
   "outputs": [
    {
     "data": {
      "text/plain": [
       "0"
      ]
     },
     "execution_count": 12,
     "metadata": {},
     "output_type": "execute_result"
    }
   ],
   "source": [
    "internet.duplicated().sum()"
   ]
  },
  {
   "cell_type": "markdown",
   "metadata": {},
   "source": [
    "### Таблица **messages**"
   ]
  },
  {
   "cell_type": "code",
   "execution_count": 13,
   "metadata": {},
   "outputs": [
    {
     "name": "stdout",
     "output_type": "stream",
     "text": [
      "<class 'pandas.core.frame.DataFrame'>\n",
      "RangeIndex: 123036 entries, 0 to 123035\n",
      "Data columns (total 3 columns):\n",
      " #   Column        Non-Null Count   Dtype \n",
      "---  ------        --------------   ----- \n",
      " 0   id            123036 non-null  object\n",
      " 1   message_date  123036 non-null  object\n",
      " 2   user_id       123036 non-null  int64 \n",
      "dtypes: int64(1), object(2)\n",
      "memory usage: 2.8+ MB\n"
     ]
    },
    {
     "data": {
      "text/html": [
       "<div>\n",
       "<style scoped>\n",
       "    .dataframe tbody tr th:only-of-type {\n",
       "        vertical-align: middle;\n",
       "    }\n",
       "\n",
       "    .dataframe tbody tr th {\n",
       "        vertical-align: top;\n",
       "    }\n",
       "\n",
       "    .dataframe thead th {\n",
       "        text-align: right;\n",
       "    }\n",
       "</style>\n",
       "<table border=\"1\" class=\"dataframe\">\n",
       "  <thead>\n",
       "    <tr style=\"text-align: right;\">\n",
       "      <th></th>\n",
       "      <th>id</th>\n",
       "      <th>message_date</th>\n",
       "      <th>user_id</th>\n",
       "    </tr>\n",
       "  </thead>\n",
       "  <tbody>\n",
       "    <tr>\n",
       "      <th>0</th>\n",
       "      <td>1000_0</td>\n",
       "      <td>2018-06-27</td>\n",
       "      <td>1000</td>\n",
       "    </tr>\n",
       "    <tr>\n",
       "      <th>1</th>\n",
       "      <td>1000_1</td>\n",
       "      <td>2018-10-08</td>\n",
       "      <td>1000</td>\n",
       "    </tr>\n",
       "    <tr>\n",
       "      <th>2</th>\n",
       "      <td>1000_2</td>\n",
       "      <td>2018-08-04</td>\n",
       "      <td>1000</td>\n",
       "    </tr>\n",
       "    <tr>\n",
       "      <th>3</th>\n",
       "      <td>1000_3</td>\n",
       "      <td>2018-06-16</td>\n",
       "      <td>1000</td>\n",
       "    </tr>\n",
       "    <tr>\n",
       "      <th>4</th>\n",
       "      <td>1000_4</td>\n",
       "      <td>2018-12-05</td>\n",
       "      <td>1000</td>\n",
       "    </tr>\n",
       "  </tbody>\n",
       "</table>\n",
       "</div>"
      ],
      "text/plain": [
       "       id message_date  user_id\n",
       "0  1000_0   2018-06-27     1000\n",
       "1  1000_1   2018-10-08     1000\n",
       "2  1000_2   2018-08-04     1000\n",
       "3  1000_3   2018-06-16     1000\n",
       "4  1000_4   2018-12-05     1000"
      ]
     },
     "metadata": {},
     "output_type": "display_data"
    },
    {
     "data": {
      "text/plain": [
       "None"
      ]
     },
     "metadata": {},
     "output_type": "display_data"
    }
   ],
   "source": [
    "messages = pd.read_csv('messages.csv')\n",
    "display(messages.head(), messages.info())"
   ]
  },
  {
   "cell_type": "markdown",
   "metadata": {},
   "source": [
    "Таблица **messages** содержит информацию о сообщениях.:\n",
    "- id — уникальный номер сообщения\n",
    "- message_date — дата сообщения\n",
    "- user_id — идентификатор пользователя, отправившего сообщение"
   ]
  },
  {
   "cell_type": "code",
   "execution_count": 14,
   "metadata": {},
   "outputs": [
    {
     "data": {
      "text/html": [
       "<div>\n",
       "<style scoped>\n",
       "    .dataframe tbody tr th:only-of-type {\n",
       "        vertical-align: middle;\n",
       "    }\n",
       "\n",
       "    .dataframe tbody tr th {\n",
       "        vertical-align: top;\n",
       "    }\n",
       "\n",
       "    .dataframe thead th {\n",
       "        text-align: right;\n",
       "    }\n",
       "</style>\n",
       "<table border=\"1\" class=\"dataframe\">\n",
       "  <thead>\n",
       "    <tr style=\"text-align: right;\">\n",
       "      <th></th>\n",
       "      <th>id</th>\n",
       "      <th>message_date</th>\n",
       "      <th>user_id</th>\n",
       "    </tr>\n",
       "  </thead>\n",
       "  <tbody>\n",
       "    <tr>\n",
       "      <th>123026</th>\n",
       "      <td>1499_174</td>\n",
       "      <td>2018-12-14</td>\n",
       "      <td>1499</td>\n",
       "    </tr>\n",
       "    <tr>\n",
       "      <th>123027</th>\n",
       "      <td>1499_175</td>\n",
       "      <td>2018-10-09</td>\n",
       "      <td>1499</td>\n",
       "    </tr>\n",
       "    <tr>\n",
       "      <th>123028</th>\n",
       "      <td>1499_176</td>\n",
       "      <td>2018-12-17</td>\n",
       "      <td>1499</td>\n",
       "    </tr>\n",
       "    <tr>\n",
       "      <th>123029</th>\n",
       "      <td>1499_177</td>\n",
       "      <td>2018-12-30</td>\n",
       "      <td>1499</td>\n",
       "    </tr>\n",
       "    <tr>\n",
       "      <th>123030</th>\n",
       "      <td>1499_178</td>\n",
       "      <td>2018-10-25</td>\n",
       "      <td>1499</td>\n",
       "    </tr>\n",
       "    <tr>\n",
       "      <th>123031</th>\n",
       "      <td>1499_179</td>\n",
       "      <td>2018-12-12</td>\n",
       "      <td>1499</td>\n",
       "    </tr>\n",
       "    <tr>\n",
       "      <th>123032</th>\n",
       "      <td>1499_180</td>\n",
       "      <td>2018-09-28</td>\n",
       "      <td>1499</td>\n",
       "    </tr>\n",
       "    <tr>\n",
       "      <th>123033</th>\n",
       "      <td>1499_181</td>\n",
       "      <td>2018-09-27</td>\n",
       "      <td>1499</td>\n",
       "    </tr>\n",
       "    <tr>\n",
       "      <th>123034</th>\n",
       "      <td>1499_182</td>\n",
       "      <td>2018-11-15</td>\n",
       "      <td>1499</td>\n",
       "    </tr>\n",
       "    <tr>\n",
       "      <th>123035</th>\n",
       "      <td>1499_183</td>\n",
       "      <td>2018-11-16</td>\n",
       "      <td>1499</td>\n",
       "    </tr>\n",
       "  </tbody>\n",
       "</table>\n",
       "</div>"
      ],
      "text/plain": [
       "              id message_date  user_id\n",
       "123026  1499_174   2018-12-14     1499\n",
       "123027  1499_175   2018-10-09     1499\n",
       "123028  1499_176   2018-12-17     1499\n",
       "123029  1499_177   2018-12-30     1499\n",
       "123030  1499_178   2018-10-25     1499\n",
       "123031  1499_179   2018-12-12     1499\n",
       "123032  1499_180   2018-09-28     1499\n",
       "123033  1499_181   2018-09-27     1499\n",
       "123034  1499_182   2018-11-15     1499\n",
       "123035  1499_183   2018-11-16     1499"
      ]
     },
     "execution_count": 14,
     "metadata": {},
     "output_type": "execute_result"
    }
   ],
   "source": [
    "messages.tail(10)"
   ]
  },
  {
   "cell_type": "markdown",
   "metadata": {},
   "source": [
    "Проверим наличие дупликатов в таблице **messages**"
   ]
  },
  {
   "cell_type": "code",
   "execution_count": 15,
   "metadata": {},
   "outputs": [
    {
     "data": {
      "text/plain": [
       "0"
      ]
     },
     "execution_count": 15,
     "metadata": {},
     "output_type": "execute_result"
    }
   ],
   "source": [
    "messages.duplicated().sum()"
   ]
  },
  {
   "cell_type": "markdown",
   "metadata": {},
   "source": [
    "### Таблица **tariffs**"
   ]
  },
  {
   "cell_type": "code",
   "execution_count": 16,
   "metadata": {},
   "outputs": [
    {
     "name": "stdout",
     "output_type": "stream",
     "text": [
      "<class 'pandas.core.frame.DataFrame'>\n",
      "RangeIndex: 2 entries, 0 to 1\n",
      "Data columns (total 8 columns):\n",
      " #   Column                 Non-Null Count  Dtype \n",
      "---  ------                 --------------  ----- \n",
      " 0   messages_included      2 non-null      int64 \n",
      " 1   mb_per_month_included  2 non-null      int64 \n",
      " 2   minutes_included       2 non-null      int64 \n",
      " 3   rub_monthly_fee        2 non-null      int64 \n",
      " 4   rub_per_gb             2 non-null      int64 \n",
      " 5   rub_per_message        2 non-null      int64 \n",
      " 6   rub_per_minute         2 non-null      int64 \n",
      " 7   tariff_name            2 non-null      object\n",
      "dtypes: int64(7), object(1)\n",
      "memory usage: 256.0+ bytes\n"
     ]
    },
    {
     "data": {
      "text/html": [
       "<div>\n",
       "<style scoped>\n",
       "    .dataframe tbody tr th:only-of-type {\n",
       "        vertical-align: middle;\n",
       "    }\n",
       "\n",
       "    .dataframe tbody tr th {\n",
       "        vertical-align: top;\n",
       "    }\n",
       "\n",
       "    .dataframe thead th {\n",
       "        text-align: right;\n",
       "    }\n",
       "</style>\n",
       "<table border=\"1\" class=\"dataframe\">\n",
       "  <thead>\n",
       "    <tr style=\"text-align: right;\">\n",
       "      <th></th>\n",
       "      <th>messages_included</th>\n",
       "      <th>mb_per_month_included</th>\n",
       "      <th>minutes_included</th>\n",
       "      <th>rub_monthly_fee</th>\n",
       "      <th>rub_per_gb</th>\n",
       "      <th>rub_per_message</th>\n",
       "      <th>rub_per_minute</th>\n",
       "      <th>tariff_name</th>\n",
       "    </tr>\n",
       "  </thead>\n",
       "  <tbody>\n",
       "    <tr>\n",
       "      <th>0</th>\n",
       "      <td>50</td>\n",
       "      <td>15360</td>\n",
       "      <td>500</td>\n",
       "      <td>550</td>\n",
       "      <td>200</td>\n",
       "      <td>3</td>\n",
       "      <td>3</td>\n",
       "      <td>smart</td>\n",
       "    </tr>\n",
       "    <tr>\n",
       "      <th>1</th>\n",
       "      <td>1000</td>\n",
       "      <td>30720</td>\n",
       "      <td>3000</td>\n",
       "      <td>1950</td>\n",
       "      <td>150</td>\n",
       "      <td>1</td>\n",
       "      <td>1</td>\n",
       "      <td>ultra</td>\n",
       "    </tr>\n",
       "  </tbody>\n",
       "</table>\n",
       "</div>"
      ],
      "text/plain": [
       "   messages_included  mb_per_month_included  minutes_included  \\\n",
       "0                 50                  15360               500   \n",
       "1               1000                  30720              3000   \n",
       "\n",
       "   rub_monthly_fee  rub_per_gb  rub_per_message  rub_per_minute tariff_name  \n",
       "0              550         200                3               3       smart  \n",
       "1             1950         150                1               1       ultra  "
      ]
     },
     "metadata": {},
     "output_type": "display_data"
    },
    {
     "data": {
      "text/plain": [
       "None"
      ]
     },
     "metadata": {},
     "output_type": "display_data"
    }
   ],
   "source": [
    "tariffs = pd.read_csv('tariffs.csv')\n",
    "display(tariffs.head(), tariffs.info())"
   ]
  },
  {
   "cell_type": "markdown",
   "metadata": {},
   "source": [
    "Таблица tariffs содержит информацию о тарифах. Включает в себя следующие столбцы::\n",
    "- `messages_included` — количество сообщений в месяц, включённых в абонентскую плату\n",
    "- `mb_per_month_included` — объём интернет-трафика, включённого в абонентскую плату (в мегабайтах)\n",
    "- `minutes_included` — количество минут разговора в месяц, включённых в абонентскую плату\n",
    "- `rub_monthly_fee` — ежемесячная абонентская плата в рублях\n",
    "- `rub_per_gb` — стоимость дополнительного гигабайта интернет-трафика сверх тарифного пакета (1 гигабайт = 1024 мегабайта)\n",
    "- `rub_per_message` — стоимость отправки сообщения сверх тарифного пакета\n",
    "- `rub_per_minute` — стоимость минуты разговора сверх тарифного пакета (например, если в тарифе 100 минут разговора в месяц, то со 101 минуты будет взиматься плата)\n",
    "- `tariff_name` — название тарифа"
   ]
  },
  {
   "cell_type": "markdown",
   "metadata": {},
   "source": [
    "### Выводы\n",
    "\n",
    "1. Пропущенных значений в таблицах нет\n",
    "2. Нарушений стиля в названии столбцов также не наблюдается\n",
    "3. Явных дубликатов в таблицах не обнаружено\n",
    "4. В столбцах с датами `call_date`, `message_date`, `session_date`, `churn_date`, `reg_date` указан тип object. В дальнейшем может повлиять на наши расчеты. Необходимо изменить.\n"
   ]
  },
  {
   "cell_type": "markdown",
   "metadata": {},
   "source": [
    "## Предобработка данных"
   ]
  },
  {
   "cell_type": "markdown",
   "metadata": {},
   "source": [
    "### Устранение ошибок"
   ]
  },
  {
   "cell_type": "markdown",
   "metadata": {},
   "source": [
    "Изменим тип данных в таблицах **users**, **calls**, **messages**, **internet** c `object` на `datetime64`."
   ]
  },
  {
   "cell_type": "code",
   "execution_count": 17,
   "metadata": {},
   "outputs": [],
   "source": [
    "for row, col in zip([calls,messages,internet, users],['call_date','message_date','session_date', ['churn_date', 'reg_date']]):\n",
    "    row[col] = row[col].astype('datetime64')"
   ]
  },
  {
   "cell_type": "markdown",
   "metadata": {},
   "source": [
    "Проверим замену типов"
   ]
  },
  {
   "cell_type": "code",
   "execution_count": 18,
   "metadata": {
    "scrolled": true
   },
   "outputs": [
    {
     "name": "stdout",
     "output_type": "stream",
     "text": [
      "<class 'pandas.core.frame.DataFrame'>\n",
      "RangeIndex: 500 entries, 0 to 499\n",
      "Data columns (total 8 columns):\n",
      " #   Column      Non-Null Count  Dtype         \n",
      "---  ------      --------------  -----         \n",
      " 0   user_id     500 non-null    int64         \n",
      " 1   age         500 non-null    int64         \n",
      " 2   churn_date  38 non-null     datetime64[ns]\n",
      " 3   city        500 non-null    object        \n",
      " 4   first_name  500 non-null    object        \n",
      " 5   last_name   500 non-null    object        \n",
      " 6   reg_date    500 non-null    datetime64[ns]\n",
      " 7   tariff      500 non-null    object        \n",
      "dtypes: datetime64[ns](2), int64(2), object(4)\n",
      "memory usage: 31.4+ KB\n",
      "<class 'pandas.core.frame.DataFrame'>\n",
      "RangeIndex: 202607 entries, 0 to 202606\n",
      "Data columns (total 4 columns):\n",
      " #   Column     Non-Null Count   Dtype         \n",
      "---  ------     --------------   -----         \n",
      " 0   id         202607 non-null  object        \n",
      " 1   call_date  202607 non-null  datetime64[ns]\n",
      " 2   duration   202607 non-null  float64       \n",
      " 3   user_id    202607 non-null  int64         \n",
      "dtypes: datetime64[ns](1), float64(1), int64(1), object(1)\n",
      "memory usage: 6.2+ MB\n",
      "<class 'pandas.core.frame.DataFrame'>\n",
      "RangeIndex: 123036 entries, 0 to 123035\n",
      "Data columns (total 3 columns):\n",
      " #   Column        Non-Null Count   Dtype         \n",
      "---  ------        --------------   -----         \n",
      " 0   id            123036 non-null  object        \n",
      " 1   message_date  123036 non-null  datetime64[ns]\n",
      " 2   user_id       123036 non-null  int64         \n",
      "dtypes: datetime64[ns](1), int64(1), object(1)\n",
      "memory usage: 2.8+ MB\n",
      "<class 'pandas.core.frame.DataFrame'>\n",
      "RangeIndex: 149396 entries, 0 to 149395\n",
      "Data columns (total 5 columns):\n",
      " #   Column        Non-Null Count   Dtype         \n",
      "---  ------        --------------   -----         \n",
      " 0   Unnamed: 0    149396 non-null  int64         \n",
      " 1   id            149396 non-null  object        \n",
      " 2   mb_used       149396 non-null  float64       \n",
      " 3   session_date  149396 non-null  datetime64[ns]\n",
      " 4   user_id       149396 non-null  int64         \n",
      "dtypes: datetime64[ns](1), float64(1), int64(2), object(1)\n",
      "memory usage: 5.7+ MB\n"
     ]
    },
    {
     "data": {
      "text/plain": [
       "None"
      ]
     },
     "metadata": {},
     "output_type": "display_data"
    },
    {
     "data": {
      "text/plain": [
       "None"
      ]
     },
     "metadata": {},
     "output_type": "display_data"
    },
    {
     "data": {
      "text/plain": [
       "None"
      ]
     },
     "metadata": {},
     "output_type": "display_data"
    },
    {
     "data": {
      "text/plain": [
       "None"
      ]
     },
     "metadata": {},
     "output_type": "display_data"
    }
   ],
   "source": [
    "display(users.info(), calls.info(), messages.info(), internet.info())"
   ]
  },
  {
   "cell_type": "markdown",
   "metadata": {},
   "source": [
    "### Количество звонков и израсходованных минут по месяцам"
   ]
  },
  {
   "cell_type": "markdown",
   "metadata": {},
   "source": [
    "Для подсчета количества звонков и израсходованных минут по месяцам сначала добавим столбец `month`, а затем сгруппируем данные по `user_id` и `month`."
   ]
  },
  {
   "cell_type": "markdown",
   "metadata": {},
   "source": [
    "Т.к. \"Мегалайн\" всегда округляет секунды до минут, то округлим каждую сессию до целого значения."
   ]
  },
  {
   "cell_type": "code",
   "execution_count": 19,
   "metadata": {},
   "outputs": [],
   "source": [
    "calls['duration'] = np.ceil(calls['duration'])"
   ]
  },
  {
   "cell_type": "code",
   "execution_count": 20,
   "metadata": {},
   "outputs": [
    {
     "data": {
      "text/html": [
       "<div>\n",
       "<style scoped>\n",
       "    .dataframe tbody tr th:only-of-type {\n",
       "        vertical-align: middle;\n",
       "    }\n",
       "\n",
       "    .dataframe tbody tr th {\n",
       "        vertical-align: top;\n",
       "    }\n",
       "\n",
       "    .dataframe thead th {\n",
       "        text-align: right;\n",
       "    }\n",
       "</style>\n",
       "<table border=\"1\" class=\"dataframe\">\n",
       "  <thead>\n",
       "    <tr style=\"text-align: right;\">\n",
       "      <th></th>\n",
       "      <th>id</th>\n",
       "      <th>call_date</th>\n",
       "      <th>duration</th>\n",
       "      <th>user_id</th>\n",
       "      <th>month</th>\n",
       "    </tr>\n",
       "  </thead>\n",
       "  <tbody>\n",
       "    <tr>\n",
       "      <th>0</th>\n",
       "      <td>1000_0</td>\n",
       "      <td>2018-07-25</td>\n",
       "      <td>0.0</td>\n",
       "      <td>1000</td>\n",
       "      <td>July</td>\n",
       "    </tr>\n",
       "    <tr>\n",
       "      <th>1</th>\n",
       "      <td>1000_1</td>\n",
       "      <td>2018-08-17</td>\n",
       "      <td>0.0</td>\n",
       "      <td>1000</td>\n",
       "      <td>August</td>\n",
       "    </tr>\n",
       "    <tr>\n",
       "      <th>2</th>\n",
       "      <td>1000_2</td>\n",
       "      <td>2018-06-11</td>\n",
       "      <td>3.0</td>\n",
       "      <td>1000</td>\n",
       "      <td>June</td>\n",
       "    </tr>\n",
       "    <tr>\n",
       "      <th>3</th>\n",
       "      <td>1000_3</td>\n",
       "      <td>2018-09-21</td>\n",
       "      <td>14.0</td>\n",
       "      <td>1000</td>\n",
       "      <td>September</td>\n",
       "    </tr>\n",
       "    <tr>\n",
       "      <th>4</th>\n",
       "      <td>1000_4</td>\n",
       "      <td>2018-12-15</td>\n",
       "      <td>6.0</td>\n",
       "      <td>1000</td>\n",
       "      <td>December</td>\n",
       "    </tr>\n",
       "  </tbody>\n",
       "</table>\n",
       "</div>"
      ],
      "text/plain": [
       "       id  call_date  duration  user_id      month\n",
       "0  1000_0 2018-07-25       0.0     1000       July\n",
       "1  1000_1 2018-08-17       0.0     1000     August\n",
       "2  1000_2 2018-06-11       3.0     1000       June\n",
       "3  1000_3 2018-09-21      14.0     1000  September\n",
       "4  1000_4 2018-12-15       6.0     1000   December"
      ]
     },
     "execution_count": 20,
     "metadata": {},
     "output_type": "execute_result"
    }
   ],
   "source": [
    "calls['month'] = calls['call_date'].dt.month_name()\n",
    "calls.head()"
   ]
  },
  {
   "cell_type": "code",
   "execution_count": 21,
   "metadata": {},
   "outputs": [
    {
     "data": {
      "text/html": [
       "<div>\n",
       "<style scoped>\n",
       "    .dataframe tbody tr th:only-of-type {\n",
       "        vertical-align: middle;\n",
       "    }\n",
       "\n",
       "    .dataframe tbody tr th {\n",
       "        vertical-align: top;\n",
       "    }\n",
       "\n",
       "    .dataframe thead th {\n",
       "        text-align: right;\n",
       "    }\n",
       "</style>\n",
       "<table border=\"1\" class=\"dataframe\">\n",
       "  <thead>\n",
       "    <tr style=\"text-align: right;\">\n",
       "      <th></th>\n",
       "      <th>user_id</th>\n",
       "      <th>month</th>\n",
       "      <th>calls_count</th>\n",
       "      <th>calls_sum</th>\n",
       "    </tr>\n",
       "  </thead>\n",
       "  <tbody>\n",
       "    <tr>\n",
       "      <th>0</th>\n",
       "      <td>1000</td>\n",
       "      <td>August</td>\n",
       "      <td>52</td>\n",
       "      <td>408.0</td>\n",
       "    </tr>\n",
       "    <tr>\n",
       "      <th>1</th>\n",
       "      <td>1000</td>\n",
       "      <td>December</td>\n",
       "      <td>46</td>\n",
       "      <td>333.0</td>\n",
       "    </tr>\n",
       "    <tr>\n",
       "      <th>2</th>\n",
       "      <td>1000</td>\n",
       "      <td>July</td>\n",
       "      <td>47</td>\n",
       "      <td>340.0</td>\n",
       "    </tr>\n",
       "    <tr>\n",
       "      <th>3</th>\n",
       "      <td>1000</td>\n",
       "      <td>June</td>\n",
       "      <td>43</td>\n",
       "      <td>172.0</td>\n",
       "    </tr>\n",
       "    <tr>\n",
       "      <th>4</th>\n",
       "      <td>1000</td>\n",
       "      <td>May</td>\n",
       "      <td>22</td>\n",
       "      <td>159.0</td>\n",
       "    </tr>\n",
       "  </tbody>\n",
       "</table>\n",
       "</div>"
      ],
      "text/plain": [
       "   user_id     month  calls_count  calls_sum\n",
       "0     1000    August           52      408.0\n",
       "1     1000  December           46      333.0\n",
       "2     1000      July           47      340.0\n",
       "3     1000      June           43      172.0\n",
       "4     1000       May           22      159.0"
      ]
     },
     "execution_count": 21,
     "metadata": {},
     "output_type": "execute_result"
    }
   ],
   "source": [
    "calls_g = calls.groupby(['user_id','month']).agg({'duration': ['count','sum']}).reset_index()\n",
    "calls_g.columns = ['user_id', 'month', 'calls_count', 'calls_sum']\n",
    "calls_g.head()"
   ]
  },
  {
   "cell_type": "code",
   "execution_count": 22,
   "metadata": {},
   "outputs": [
    {
     "name": "stdout",
     "output_type": "stream",
     "text": [
      "<class 'pandas.core.frame.DataFrame'>\n",
      "RangeIndex: 3174 entries, 0 to 3173\n",
      "Data columns (total 4 columns):\n",
      " #   Column       Non-Null Count  Dtype  \n",
      "---  ------       --------------  -----  \n",
      " 0   user_id      3174 non-null   int64  \n",
      " 1   month        3174 non-null   object \n",
      " 2   calls_count  3174 non-null   int64  \n",
      " 3   calls_sum    3174 non-null   float64\n",
      "dtypes: float64(1), int64(2), object(1)\n",
      "memory usage: 99.3+ KB\n"
     ]
    }
   ],
   "source": [
    "calls_g.info()"
   ]
  },
  {
   "cell_type": "markdown",
   "metadata": {},
   "source": [
    "### Определение количества отправленных сообщений по месяцам"
   ]
  },
  {
   "cell_type": "markdown",
   "metadata": {},
   "source": [
    "Аналогично для таблицы **messages**. Добавляем столбец `month`, группируем данные по столбцам `user_id` и `month` и считаем количество сообщений."
   ]
  },
  {
   "cell_type": "code",
   "execution_count": 23,
   "metadata": {},
   "outputs": [
    {
     "data": {
      "text/html": [
       "<div>\n",
       "<style scoped>\n",
       "    .dataframe tbody tr th:only-of-type {\n",
       "        vertical-align: middle;\n",
       "    }\n",
       "\n",
       "    .dataframe tbody tr th {\n",
       "        vertical-align: top;\n",
       "    }\n",
       "\n",
       "    .dataframe thead th {\n",
       "        text-align: right;\n",
       "    }\n",
       "</style>\n",
       "<table border=\"1\" class=\"dataframe\">\n",
       "  <thead>\n",
       "    <tr style=\"text-align: right;\">\n",
       "      <th></th>\n",
       "      <th>id</th>\n",
       "      <th>message_date</th>\n",
       "      <th>user_id</th>\n",
       "      <th>month</th>\n",
       "    </tr>\n",
       "  </thead>\n",
       "  <tbody>\n",
       "    <tr>\n",
       "      <th>0</th>\n",
       "      <td>1000_0</td>\n",
       "      <td>2018-06-27</td>\n",
       "      <td>1000</td>\n",
       "      <td>June</td>\n",
       "    </tr>\n",
       "    <tr>\n",
       "      <th>1</th>\n",
       "      <td>1000_1</td>\n",
       "      <td>2018-10-08</td>\n",
       "      <td>1000</td>\n",
       "      <td>October</td>\n",
       "    </tr>\n",
       "    <tr>\n",
       "      <th>2</th>\n",
       "      <td>1000_2</td>\n",
       "      <td>2018-08-04</td>\n",
       "      <td>1000</td>\n",
       "      <td>August</td>\n",
       "    </tr>\n",
       "    <tr>\n",
       "      <th>3</th>\n",
       "      <td>1000_3</td>\n",
       "      <td>2018-06-16</td>\n",
       "      <td>1000</td>\n",
       "      <td>June</td>\n",
       "    </tr>\n",
       "    <tr>\n",
       "      <th>4</th>\n",
       "      <td>1000_4</td>\n",
       "      <td>2018-12-05</td>\n",
       "      <td>1000</td>\n",
       "      <td>December</td>\n",
       "    </tr>\n",
       "  </tbody>\n",
       "</table>\n",
       "</div>"
      ],
      "text/plain": [
       "       id message_date  user_id     month\n",
       "0  1000_0   2018-06-27     1000      June\n",
       "1  1000_1   2018-10-08     1000   October\n",
       "2  1000_2   2018-08-04     1000    August\n",
       "3  1000_3   2018-06-16     1000      June\n",
       "4  1000_4   2018-12-05     1000  December"
      ]
     },
     "execution_count": 23,
     "metadata": {},
     "output_type": "execute_result"
    }
   ],
   "source": [
    "messages['month'] = messages['message_date'].dt.month_name()\n",
    "messages.head()"
   ]
  },
  {
   "cell_type": "code",
   "execution_count": 24,
   "metadata": {},
   "outputs": [
    {
     "data": {
      "text/html": [
       "<div>\n",
       "<style scoped>\n",
       "    .dataframe tbody tr th:only-of-type {\n",
       "        vertical-align: middle;\n",
       "    }\n",
       "\n",
       "    .dataframe tbody tr th {\n",
       "        vertical-align: top;\n",
       "    }\n",
       "\n",
       "    .dataframe thead th {\n",
       "        text-align: right;\n",
       "    }\n",
       "</style>\n",
       "<table border=\"1\" class=\"dataframe\">\n",
       "  <thead>\n",
       "    <tr style=\"text-align: right;\">\n",
       "      <th></th>\n",
       "      <th>user_id</th>\n",
       "      <th>month</th>\n",
       "      <th>message_count</th>\n",
       "    </tr>\n",
       "  </thead>\n",
       "  <tbody>\n",
       "    <tr>\n",
       "      <th>0</th>\n",
       "      <td>1000</td>\n",
       "      <td>August</td>\n",
       "      <td>81</td>\n",
       "    </tr>\n",
       "    <tr>\n",
       "      <th>1</th>\n",
       "      <td>1000</td>\n",
       "      <td>December</td>\n",
       "      <td>70</td>\n",
       "    </tr>\n",
       "    <tr>\n",
       "      <th>2</th>\n",
       "      <td>1000</td>\n",
       "      <td>July</td>\n",
       "      <td>75</td>\n",
       "    </tr>\n",
       "    <tr>\n",
       "      <th>3</th>\n",
       "      <td>1000</td>\n",
       "      <td>June</td>\n",
       "      <td>60</td>\n",
       "    </tr>\n",
       "    <tr>\n",
       "      <th>4</th>\n",
       "      <td>1000</td>\n",
       "      <td>May</td>\n",
       "      <td>22</td>\n",
       "    </tr>\n",
       "  </tbody>\n",
       "</table>\n",
       "</div>"
      ],
      "text/plain": [
       "   user_id     month  message_count\n",
       "0     1000    August             81\n",
       "1     1000  December             70\n",
       "2     1000      July             75\n",
       "3     1000      June             60\n",
       "4     1000       May             22"
      ]
     },
     "execution_count": 24,
     "metadata": {},
     "output_type": "execute_result"
    }
   ],
   "source": [
    "messages_g = messages.groupby(['user_id','month']).agg({'message_date': 'count'}).reset_index()\n",
    "messages_g.columns = ['user_id', 'month', 'message_count']\n",
    "messages_g.head()"
   ]
  },
  {
   "cell_type": "code",
   "execution_count": 25,
   "metadata": {},
   "outputs": [
    {
     "name": "stdout",
     "output_type": "stream",
     "text": [
      "<class 'pandas.core.frame.DataFrame'>\n",
      "RangeIndex: 2717 entries, 0 to 2716\n",
      "Data columns (total 3 columns):\n",
      " #   Column         Non-Null Count  Dtype \n",
      "---  ------         --------------  ----- \n",
      " 0   user_id        2717 non-null   int64 \n",
      " 1   month          2717 non-null   object\n",
      " 2   message_count  2717 non-null   int64 \n",
      "dtypes: int64(2), object(1)\n",
      "memory usage: 63.8+ KB\n"
     ]
    }
   ],
   "source": [
    "messages_g.info()"
   ]
  },
  {
   "cell_type": "markdown",
   "metadata": {},
   "source": [
    "### Определение объема израсходованного интернет-трафика по месяцам"
   ]
  },
  {
   "cell_type": "markdown",
   "metadata": {},
   "source": [
    "Так же поступим с таблицей **internet**."
   ]
  },
  {
   "cell_type": "code",
   "execution_count": 26,
   "metadata": {},
   "outputs": [
    {
     "data": {
      "text/html": [
       "<div>\n",
       "<style scoped>\n",
       "    .dataframe tbody tr th:only-of-type {\n",
       "        vertical-align: middle;\n",
       "    }\n",
       "\n",
       "    .dataframe tbody tr th {\n",
       "        vertical-align: top;\n",
       "    }\n",
       "\n",
       "    .dataframe thead th {\n",
       "        text-align: right;\n",
       "    }\n",
       "</style>\n",
       "<table border=\"1\" class=\"dataframe\">\n",
       "  <thead>\n",
       "    <tr style=\"text-align: right;\">\n",
       "      <th></th>\n",
       "      <th>Unnamed: 0</th>\n",
       "      <th>id</th>\n",
       "      <th>mb_used</th>\n",
       "      <th>session_date</th>\n",
       "      <th>user_id</th>\n",
       "      <th>month</th>\n",
       "    </tr>\n",
       "  </thead>\n",
       "  <tbody>\n",
       "    <tr>\n",
       "      <th>0</th>\n",
       "      <td>0</td>\n",
       "      <td>1000_0</td>\n",
       "      <td>112.95</td>\n",
       "      <td>2018-11-25</td>\n",
       "      <td>1000</td>\n",
       "      <td>November</td>\n",
       "    </tr>\n",
       "    <tr>\n",
       "      <th>1</th>\n",
       "      <td>1</td>\n",
       "      <td>1000_1</td>\n",
       "      <td>1052.81</td>\n",
       "      <td>2018-09-07</td>\n",
       "      <td>1000</td>\n",
       "      <td>September</td>\n",
       "    </tr>\n",
       "    <tr>\n",
       "      <th>2</th>\n",
       "      <td>2</td>\n",
       "      <td>1000_2</td>\n",
       "      <td>1197.26</td>\n",
       "      <td>2018-06-25</td>\n",
       "      <td>1000</td>\n",
       "      <td>June</td>\n",
       "    </tr>\n",
       "    <tr>\n",
       "      <th>3</th>\n",
       "      <td>3</td>\n",
       "      <td>1000_3</td>\n",
       "      <td>550.27</td>\n",
       "      <td>2018-08-22</td>\n",
       "      <td>1000</td>\n",
       "      <td>August</td>\n",
       "    </tr>\n",
       "    <tr>\n",
       "      <th>4</th>\n",
       "      <td>4</td>\n",
       "      <td>1000_4</td>\n",
       "      <td>302.56</td>\n",
       "      <td>2018-09-24</td>\n",
       "      <td>1000</td>\n",
       "      <td>September</td>\n",
       "    </tr>\n",
       "  </tbody>\n",
       "</table>\n",
       "</div>"
      ],
      "text/plain": [
       "   Unnamed: 0      id  mb_used session_date  user_id      month\n",
       "0           0  1000_0   112.95   2018-11-25     1000   November\n",
       "1           1  1000_1  1052.81   2018-09-07     1000  September\n",
       "2           2  1000_2  1197.26   2018-06-25     1000       June\n",
       "3           3  1000_3   550.27   2018-08-22     1000     August\n",
       "4           4  1000_4   302.56   2018-09-24     1000  September"
      ]
     },
     "execution_count": 26,
     "metadata": {},
     "output_type": "execute_result"
    }
   ],
   "source": [
    "internet['month'] = internet['session_date'].dt.month_name()\n",
    "internet.head()"
   ]
  },
  {
   "cell_type": "code",
   "execution_count": 27,
   "metadata": {},
   "outputs": [
    {
     "data": {
      "text/html": [
       "<div>\n",
       "<style scoped>\n",
       "    .dataframe tbody tr th:only-of-type {\n",
       "        vertical-align: middle;\n",
       "    }\n",
       "\n",
       "    .dataframe tbody tr th {\n",
       "        vertical-align: top;\n",
       "    }\n",
       "\n",
       "    .dataframe thead th {\n",
       "        text-align: right;\n",
       "    }\n",
       "</style>\n",
       "<table border=\"1\" class=\"dataframe\">\n",
       "  <thead>\n",
       "    <tr style=\"text-align: right;\">\n",
       "      <th></th>\n",
       "      <th>user_id</th>\n",
       "      <th>month</th>\n",
       "      <th>total_traffic</th>\n",
       "    </tr>\n",
       "  </thead>\n",
       "  <tbody>\n",
       "    <tr>\n",
       "      <th>0</th>\n",
       "      <td>1000</td>\n",
       "      <td>August</td>\n",
       "      <td>14055.93</td>\n",
       "    </tr>\n",
       "    <tr>\n",
       "      <th>1</th>\n",
       "      <td>1000</td>\n",
       "      <td>December</td>\n",
       "      <td>9817.61</td>\n",
       "    </tr>\n",
       "    <tr>\n",
       "      <th>2</th>\n",
       "      <td>1000</td>\n",
       "      <td>July</td>\n",
       "      <td>14003.64</td>\n",
       "    </tr>\n",
       "    <tr>\n",
       "      <th>3</th>\n",
       "      <td>1000</td>\n",
       "      <td>June</td>\n",
       "      <td>23233.77</td>\n",
       "    </tr>\n",
       "    <tr>\n",
       "      <th>4</th>\n",
       "      <td>1000</td>\n",
       "      <td>May</td>\n",
       "      <td>2253.49</td>\n",
       "    </tr>\n",
       "  </tbody>\n",
       "</table>\n",
       "</div>"
      ],
      "text/plain": [
       "   user_id     month  total_traffic\n",
       "0     1000    August       14055.93\n",
       "1     1000  December        9817.61\n",
       "2     1000      July       14003.64\n",
       "3     1000      June       23233.77\n",
       "4     1000       May        2253.49"
      ]
     },
     "execution_count": 27,
     "metadata": {},
     "output_type": "execute_result"
    }
   ],
   "source": [
    "internet_g = internet.groupby(['user_id','month']).agg({'mb_used': 'sum'}).reset_index()\n",
    "internet_g.columns = ['user_id', 'month', 'total_traffic']\n",
    "internet_g.head()"
   ]
  },
  {
   "cell_type": "code",
   "execution_count": 28,
   "metadata": {},
   "outputs": [
    {
     "name": "stdout",
     "output_type": "stream",
     "text": [
      "<class 'pandas.core.frame.DataFrame'>\n",
      "RangeIndex: 3203 entries, 0 to 3202\n",
      "Data columns (total 3 columns):\n",
      " #   Column         Non-Null Count  Dtype  \n",
      "---  ------         --------------  -----  \n",
      " 0   user_id        3203 non-null   int64  \n",
      " 1   month          3203 non-null   object \n",
      " 2   total_traffic  3203 non-null   float64\n",
      "dtypes: float64(1), int64(1), object(1)\n",
      "memory usage: 75.2+ KB\n"
     ]
    }
   ],
   "source": [
    "internet_g.info()"
   ]
  },
  {
   "cell_type": "markdown",
   "metadata": {},
   "source": [
    "### Объединение датасетов"
   ]
  },
  {
   "cell_type": "markdown",
   "metadata": {},
   "source": [
    "Поэтапно объединим полученные таблицы в единый датасет. \n",
    "\n",
    "Сначала соединим таблицы **calls** и **messages**."
   ]
  },
  {
   "cell_type": "code",
   "execution_count": 29,
   "metadata": {},
   "outputs": [],
   "source": [
    "data_a = calls_g.merge(messages_g, on=('user_id', 'month'), how='outer')"
   ]
  },
  {
   "cell_type": "code",
   "execution_count": 30,
   "metadata": {},
   "outputs": [
    {
     "data": {
      "text/html": [
       "<div>\n",
       "<style scoped>\n",
       "    .dataframe tbody tr th:only-of-type {\n",
       "        vertical-align: middle;\n",
       "    }\n",
       "\n",
       "    .dataframe tbody tr th {\n",
       "        vertical-align: top;\n",
       "    }\n",
       "\n",
       "    .dataframe thead th {\n",
       "        text-align: right;\n",
       "    }\n",
       "</style>\n",
       "<table border=\"1\" class=\"dataframe\">\n",
       "  <thead>\n",
       "    <tr style=\"text-align: right;\">\n",
       "      <th></th>\n",
       "      <th>user_id</th>\n",
       "      <th>month</th>\n",
       "      <th>calls_count</th>\n",
       "      <th>calls_sum</th>\n",
       "      <th>message_count</th>\n",
       "    </tr>\n",
       "  </thead>\n",
       "  <tbody>\n",
       "    <tr>\n",
       "      <th>0</th>\n",
       "      <td>1000</td>\n",
       "      <td>August</td>\n",
       "      <td>52.0</td>\n",
       "      <td>408.0</td>\n",
       "      <td>81.0</td>\n",
       "    </tr>\n",
       "    <tr>\n",
       "      <th>1</th>\n",
       "      <td>1000</td>\n",
       "      <td>December</td>\n",
       "      <td>46.0</td>\n",
       "      <td>333.0</td>\n",
       "      <td>70.0</td>\n",
       "    </tr>\n",
       "    <tr>\n",
       "      <th>2</th>\n",
       "      <td>1000</td>\n",
       "      <td>July</td>\n",
       "      <td>47.0</td>\n",
       "      <td>340.0</td>\n",
       "      <td>75.0</td>\n",
       "    </tr>\n",
       "    <tr>\n",
       "      <th>3</th>\n",
       "      <td>1000</td>\n",
       "      <td>June</td>\n",
       "      <td>43.0</td>\n",
       "      <td>172.0</td>\n",
       "      <td>60.0</td>\n",
       "    </tr>\n",
       "    <tr>\n",
       "      <th>4</th>\n",
       "      <td>1000</td>\n",
       "      <td>May</td>\n",
       "      <td>22.0</td>\n",
       "      <td>159.0</td>\n",
       "      <td>22.0</td>\n",
       "    </tr>\n",
       "    <tr>\n",
       "      <th>...</th>\n",
       "      <td>...</td>\n",
       "      <td>...</td>\n",
       "      <td>...</td>\n",
       "      <td>...</td>\n",
       "      <td>...</td>\n",
       "    </tr>\n",
       "    <tr>\n",
       "      <th>3208</th>\n",
       "      <td>1489</td>\n",
       "      <td>August</td>\n",
       "      <td>NaN</td>\n",
       "      <td>NaN</td>\n",
       "      <td>17.0</td>\n",
       "    </tr>\n",
       "    <tr>\n",
       "      <th>3209</th>\n",
       "      <td>1489</td>\n",
       "      <td>December</td>\n",
       "      <td>NaN</td>\n",
       "      <td>NaN</td>\n",
       "      <td>35.0</td>\n",
       "    </tr>\n",
       "    <tr>\n",
       "      <th>3210</th>\n",
       "      <td>1489</td>\n",
       "      <td>November</td>\n",
       "      <td>NaN</td>\n",
       "      <td>NaN</td>\n",
       "      <td>20.0</td>\n",
       "    </tr>\n",
       "    <tr>\n",
       "      <th>3211</th>\n",
       "      <td>1489</td>\n",
       "      <td>October</td>\n",
       "      <td>NaN</td>\n",
       "      <td>NaN</td>\n",
       "      <td>21.0</td>\n",
       "    </tr>\n",
       "    <tr>\n",
       "      <th>3212</th>\n",
       "      <td>1489</td>\n",
       "      <td>September</td>\n",
       "      <td>NaN</td>\n",
       "      <td>NaN</td>\n",
       "      <td>32.0</td>\n",
       "    </tr>\n",
       "  </tbody>\n",
       "</table>\n",
       "<p>3213 rows × 5 columns</p>\n",
       "</div>"
      ],
      "text/plain": [
       "      user_id      month  calls_count  calls_sum  message_count\n",
       "0        1000     August         52.0      408.0           81.0\n",
       "1        1000   December         46.0      333.0           70.0\n",
       "2        1000       July         47.0      340.0           75.0\n",
       "3        1000       June         43.0      172.0           60.0\n",
       "4        1000        May         22.0      159.0           22.0\n",
       "...       ...        ...          ...        ...            ...\n",
       "3208     1489     August          NaN        NaN           17.0\n",
       "3209     1489   December          NaN        NaN           35.0\n",
       "3210     1489   November          NaN        NaN           20.0\n",
       "3211     1489    October          NaN        NaN           21.0\n",
       "3212     1489  September          NaN        NaN           32.0\n",
       "\n",
       "[3213 rows x 5 columns]"
      ]
     },
     "execution_count": 30,
     "metadata": {},
     "output_type": "execute_result"
    }
   ],
   "source": [
    "data_a"
   ]
  },
  {
   "cell_type": "markdown",
   "metadata": {},
   "source": [
    "Затем к полученному датасету добавим **internet**."
   ]
  },
  {
   "cell_type": "code",
   "execution_count": 31,
   "metadata": {},
   "outputs": [],
   "source": [
    "data_b = data_a.merge(internet_g, on=('user_id', 'month'), how='outer')"
   ]
  },
  {
   "cell_type": "code",
   "execution_count": 32,
   "metadata": {},
   "outputs": [
    {
     "data": {
      "text/html": [
       "<div>\n",
       "<style scoped>\n",
       "    .dataframe tbody tr th:only-of-type {\n",
       "        vertical-align: middle;\n",
       "    }\n",
       "\n",
       "    .dataframe tbody tr th {\n",
       "        vertical-align: top;\n",
       "    }\n",
       "\n",
       "    .dataframe thead th {\n",
       "        text-align: right;\n",
       "    }\n",
       "</style>\n",
       "<table border=\"1\" class=\"dataframe\">\n",
       "  <thead>\n",
       "    <tr style=\"text-align: right;\">\n",
       "      <th></th>\n",
       "      <th>user_id</th>\n",
       "      <th>month</th>\n",
       "      <th>calls_count</th>\n",
       "      <th>calls_sum</th>\n",
       "      <th>message_count</th>\n",
       "      <th>total_traffic</th>\n",
       "    </tr>\n",
       "  </thead>\n",
       "  <tbody>\n",
       "    <tr>\n",
       "      <th>0</th>\n",
       "      <td>1000</td>\n",
       "      <td>August</td>\n",
       "      <td>52.0</td>\n",
       "      <td>408.0</td>\n",
       "      <td>81.0</td>\n",
       "      <td>14055.93</td>\n",
       "    </tr>\n",
       "    <tr>\n",
       "      <th>1</th>\n",
       "      <td>1000</td>\n",
       "      <td>December</td>\n",
       "      <td>46.0</td>\n",
       "      <td>333.0</td>\n",
       "      <td>70.0</td>\n",
       "      <td>9817.61</td>\n",
       "    </tr>\n",
       "    <tr>\n",
       "      <th>2</th>\n",
       "      <td>1000</td>\n",
       "      <td>July</td>\n",
       "      <td>47.0</td>\n",
       "      <td>340.0</td>\n",
       "      <td>75.0</td>\n",
       "      <td>14003.64</td>\n",
       "    </tr>\n",
       "    <tr>\n",
       "      <th>3</th>\n",
       "      <td>1000</td>\n",
       "      <td>June</td>\n",
       "      <td>43.0</td>\n",
       "      <td>172.0</td>\n",
       "      <td>60.0</td>\n",
       "      <td>23233.77</td>\n",
       "    </tr>\n",
       "    <tr>\n",
       "      <th>4</th>\n",
       "      <td>1000</td>\n",
       "      <td>May</td>\n",
       "      <td>22.0</td>\n",
       "      <td>159.0</td>\n",
       "      <td>22.0</td>\n",
       "      <td>2253.49</td>\n",
       "    </tr>\n",
       "    <tr>\n",
       "      <th>...</th>\n",
       "      <td>...</td>\n",
       "      <td>...</td>\n",
       "      <td>...</td>\n",
       "      <td>...</td>\n",
       "      <td>...</td>\n",
       "      <td>...</td>\n",
       "    </tr>\n",
       "    <tr>\n",
       "      <th>3209</th>\n",
       "      <td>1489</td>\n",
       "      <td>December</td>\n",
       "      <td>NaN</td>\n",
       "      <td>NaN</td>\n",
       "      <td>35.0</td>\n",
       "      <td>17322.51</td>\n",
       "    </tr>\n",
       "    <tr>\n",
       "      <th>3210</th>\n",
       "      <td>1489</td>\n",
       "      <td>November</td>\n",
       "      <td>NaN</td>\n",
       "      <td>NaN</td>\n",
       "      <td>20.0</td>\n",
       "      <td>17491.56</td>\n",
       "    </tr>\n",
       "    <tr>\n",
       "      <th>3211</th>\n",
       "      <td>1489</td>\n",
       "      <td>October</td>\n",
       "      <td>NaN</td>\n",
       "      <td>NaN</td>\n",
       "      <td>21.0</td>\n",
       "      <td>19559.44</td>\n",
       "    </tr>\n",
       "    <tr>\n",
       "      <th>3212</th>\n",
       "      <td>1489</td>\n",
       "      <td>September</td>\n",
       "      <td>NaN</td>\n",
       "      <td>NaN</td>\n",
       "      <td>32.0</td>\n",
       "      <td>17206.30</td>\n",
       "    </tr>\n",
       "    <tr>\n",
       "      <th>3213</th>\n",
       "      <td>1476</td>\n",
       "      <td>April</td>\n",
       "      <td>NaN</td>\n",
       "      <td>NaN</td>\n",
       "      <td>NaN</td>\n",
       "      <td>530.78</td>\n",
       "    </tr>\n",
       "  </tbody>\n",
       "</table>\n",
       "<p>3214 rows × 6 columns</p>\n",
       "</div>"
      ],
      "text/plain": [
       "      user_id      month  calls_count  calls_sum  message_count  total_traffic\n",
       "0        1000     August         52.0      408.0           81.0       14055.93\n",
       "1        1000   December         46.0      333.0           70.0        9817.61\n",
       "2        1000       July         47.0      340.0           75.0       14003.64\n",
       "3        1000       June         43.0      172.0           60.0       23233.77\n",
       "4        1000        May         22.0      159.0           22.0        2253.49\n",
       "...       ...        ...          ...        ...            ...            ...\n",
       "3209     1489   December          NaN        NaN           35.0       17322.51\n",
       "3210     1489   November          NaN        NaN           20.0       17491.56\n",
       "3211     1489    October          NaN        NaN           21.0       19559.44\n",
       "3212     1489  September          NaN        NaN           32.0       17206.30\n",
       "3213     1476      April          NaN        NaN            NaN         530.78\n",
       "\n",
       "[3214 rows x 6 columns]"
      ]
     },
     "execution_count": 32,
     "metadata": {},
     "output_type": "execute_result"
    }
   ],
   "source": [
    "data_b"
   ]
  },
  {
   "cell_type": "markdown",
   "metadata": {},
   "source": [
    "Затем - **users**."
   ]
  },
  {
   "cell_type": "code",
   "execution_count": 33,
   "metadata": {},
   "outputs": [],
   "source": [
    "data_c = users.merge(data_b, on='user_id', how='right')"
   ]
  },
  {
   "cell_type": "code",
   "execution_count": 34,
   "metadata": {},
   "outputs": [
    {
     "data": {
      "text/html": [
       "<div>\n",
       "<style scoped>\n",
       "    .dataframe tbody tr th:only-of-type {\n",
       "        vertical-align: middle;\n",
       "    }\n",
       "\n",
       "    .dataframe tbody tr th {\n",
       "        vertical-align: top;\n",
       "    }\n",
       "\n",
       "    .dataframe thead th {\n",
       "        text-align: right;\n",
       "    }\n",
       "</style>\n",
       "<table border=\"1\" class=\"dataframe\">\n",
       "  <thead>\n",
       "    <tr style=\"text-align: right;\">\n",
       "      <th></th>\n",
       "      <th>user_id</th>\n",
       "      <th>age</th>\n",
       "      <th>churn_date</th>\n",
       "      <th>city</th>\n",
       "      <th>first_name</th>\n",
       "      <th>last_name</th>\n",
       "      <th>reg_date</th>\n",
       "      <th>tariff</th>\n",
       "      <th>month</th>\n",
       "      <th>calls_count</th>\n",
       "      <th>calls_sum</th>\n",
       "      <th>message_count</th>\n",
       "      <th>total_traffic</th>\n",
       "    </tr>\n",
       "  </thead>\n",
       "  <tbody>\n",
       "    <tr>\n",
       "      <th>0</th>\n",
       "      <td>1000</td>\n",
       "      <td>52</td>\n",
       "      <td>NaT</td>\n",
       "      <td>Краснодар</td>\n",
       "      <td>Рафаил</td>\n",
       "      <td>Верещагин</td>\n",
       "      <td>2018-05-25</td>\n",
       "      <td>ultra</td>\n",
       "      <td>August</td>\n",
       "      <td>52.0</td>\n",
       "      <td>408.0</td>\n",
       "      <td>81.0</td>\n",
       "      <td>14055.93</td>\n",
       "    </tr>\n",
       "    <tr>\n",
       "      <th>1</th>\n",
       "      <td>1000</td>\n",
       "      <td>52</td>\n",
       "      <td>NaT</td>\n",
       "      <td>Краснодар</td>\n",
       "      <td>Рафаил</td>\n",
       "      <td>Верещагин</td>\n",
       "      <td>2018-05-25</td>\n",
       "      <td>ultra</td>\n",
       "      <td>December</td>\n",
       "      <td>46.0</td>\n",
       "      <td>333.0</td>\n",
       "      <td>70.0</td>\n",
       "      <td>9817.61</td>\n",
       "    </tr>\n",
       "    <tr>\n",
       "      <th>2</th>\n",
       "      <td>1000</td>\n",
       "      <td>52</td>\n",
       "      <td>NaT</td>\n",
       "      <td>Краснодар</td>\n",
       "      <td>Рафаил</td>\n",
       "      <td>Верещагин</td>\n",
       "      <td>2018-05-25</td>\n",
       "      <td>ultra</td>\n",
       "      <td>July</td>\n",
       "      <td>47.0</td>\n",
       "      <td>340.0</td>\n",
       "      <td>75.0</td>\n",
       "      <td>14003.64</td>\n",
       "    </tr>\n",
       "    <tr>\n",
       "      <th>3</th>\n",
       "      <td>1000</td>\n",
       "      <td>52</td>\n",
       "      <td>NaT</td>\n",
       "      <td>Краснодар</td>\n",
       "      <td>Рафаил</td>\n",
       "      <td>Верещагин</td>\n",
       "      <td>2018-05-25</td>\n",
       "      <td>ultra</td>\n",
       "      <td>June</td>\n",
       "      <td>43.0</td>\n",
       "      <td>172.0</td>\n",
       "      <td>60.0</td>\n",
       "      <td>23233.77</td>\n",
       "    </tr>\n",
       "    <tr>\n",
       "      <th>4</th>\n",
       "      <td>1000</td>\n",
       "      <td>52</td>\n",
       "      <td>NaT</td>\n",
       "      <td>Краснодар</td>\n",
       "      <td>Рафаил</td>\n",
       "      <td>Верещагин</td>\n",
       "      <td>2018-05-25</td>\n",
       "      <td>ultra</td>\n",
       "      <td>May</td>\n",
       "      <td>22.0</td>\n",
       "      <td>159.0</td>\n",
       "      <td>22.0</td>\n",
       "      <td>2253.49</td>\n",
       "    </tr>\n",
       "    <tr>\n",
       "      <th>...</th>\n",
       "      <td>...</td>\n",
       "      <td>...</td>\n",
       "      <td>...</td>\n",
       "      <td>...</td>\n",
       "      <td>...</td>\n",
       "      <td>...</td>\n",
       "      <td>...</td>\n",
       "      <td>...</td>\n",
       "      <td>...</td>\n",
       "      <td>...</td>\n",
       "      <td>...</td>\n",
       "      <td>...</td>\n",
       "      <td>...</td>\n",
       "    </tr>\n",
       "    <tr>\n",
       "      <th>3209</th>\n",
       "      <td>1489</td>\n",
       "      <td>35</td>\n",
       "      <td>NaT</td>\n",
       "      <td>Санкт-Петербург</td>\n",
       "      <td>Павел</td>\n",
       "      <td>Гончаров</td>\n",
       "      <td>2018-08-15</td>\n",
       "      <td>smart</td>\n",
       "      <td>December</td>\n",
       "      <td>NaN</td>\n",
       "      <td>NaN</td>\n",
       "      <td>35.0</td>\n",
       "      <td>17322.51</td>\n",
       "    </tr>\n",
       "    <tr>\n",
       "      <th>3210</th>\n",
       "      <td>1489</td>\n",
       "      <td>35</td>\n",
       "      <td>NaT</td>\n",
       "      <td>Санкт-Петербург</td>\n",
       "      <td>Павел</td>\n",
       "      <td>Гончаров</td>\n",
       "      <td>2018-08-15</td>\n",
       "      <td>smart</td>\n",
       "      <td>November</td>\n",
       "      <td>NaN</td>\n",
       "      <td>NaN</td>\n",
       "      <td>20.0</td>\n",
       "      <td>17491.56</td>\n",
       "    </tr>\n",
       "    <tr>\n",
       "      <th>3211</th>\n",
       "      <td>1489</td>\n",
       "      <td>35</td>\n",
       "      <td>NaT</td>\n",
       "      <td>Санкт-Петербург</td>\n",
       "      <td>Павел</td>\n",
       "      <td>Гончаров</td>\n",
       "      <td>2018-08-15</td>\n",
       "      <td>smart</td>\n",
       "      <td>October</td>\n",
       "      <td>NaN</td>\n",
       "      <td>NaN</td>\n",
       "      <td>21.0</td>\n",
       "      <td>19559.44</td>\n",
       "    </tr>\n",
       "    <tr>\n",
       "      <th>3212</th>\n",
       "      <td>1489</td>\n",
       "      <td>35</td>\n",
       "      <td>NaT</td>\n",
       "      <td>Санкт-Петербург</td>\n",
       "      <td>Павел</td>\n",
       "      <td>Гончаров</td>\n",
       "      <td>2018-08-15</td>\n",
       "      <td>smart</td>\n",
       "      <td>September</td>\n",
       "      <td>NaN</td>\n",
       "      <td>NaN</td>\n",
       "      <td>32.0</td>\n",
       "      <td>17206.30</td>\n",
       "    </tr>\n",
       "    <tr>\n",
       "      <th>3213</th>\n",
       "      <td>1476</td>\n",
       "      <td>50</td>\n",
       "      <td>NaT</td>\n",
       "      <td>Москва</td>\n",
       "      <td>Валентина</td>\n",
       "      <td>Семенова</td>\n",
       "      <td>2018-04-30</td>\n",
       "      <td>ultra</td>\n",
       "      <td>April</td>\n",
       "      <td>NaN</td>\n",
       "      <td>NaN</td>\n",
       "      <td>NaN</td>\n",
       "      <td>530.78</td>\n",
       "    </tr>\n",
       "  </tbody>\n",
       "</table>\n",
       "<p>3214 rows × 13 columns</p>\n",
       "</div>"
      ],
      "text/plain": [
       "      user_id  age churn_date             city first_name  last_name  \\\n",
       "0        1000   52        NaT        Краснодар     Рафаил  Верещагин   \n",
       "1        1000   52        NaT        Краснодар     Рафаил  Верещагин   \n",
       "2        1000   52        NaT        Краснодар     Рафаил  Верещагин   \n",
       "3        1000   52        NaT        Краснодар     Рафаил  Верещагин   \n",
       "4        1000   52        NaT        Краснодар     Рафаил  Верещагин   \n",
       "...       ...  ...        ...              ...        ...        ...   \n",
       "3209     1489   35        NaT  Санкт-Петербург      Павел   Гончаров   \n",
       "3210     1489   35        NaT  Санкт-Петербург      Павел   Гончаров   \n",
       "3211     1489   35        NaT  Санкт-Петербург      Павел   Гончаров   \n",
       "3212     1489   35        NaT  Санкт-Петербург      Павел   Гончаров   \n",
       "3213     1476   50        NaT           Москва  Валентина   Семенова   \n",
       "\n",
       "       reg_date tariff      month  calls_count  calls_sum  message_count  \\\n",
       "0    2018-05-25  ultra     August         52.0      408.0           81.0   \n",
       "1    2018-05-25  ultra   December         46.0      333.0           70.0   \n",
       "2    2018-05-25  ultra       July         47.0      340.0           75.0   \n",
       "3    2018-05-25  ultra       June         43.0      172.0           60.0   \n",
       "4    2018-05-25  ultra        May         22.0      159.0           22.0   \n",
       "...         ...    ...        ...          ...        ...            ...   \n",
       "3209 2018-08-15  smart   December          NaN        NaN           35.0   \n",
       "3210 2018-08-15  smart   November          NaN        NaN           20.0   \n",
       "3211 2018-08-15  smart    October          NaN        NaN           21.0   \n",
       "3212 2018-08-15  smart  September          NaN        NaN           32.0   \n",
       "3213 2018-04-30  ultra      April          NaN        NaN            NaN   \n",
       "\n",
       "      total_traffic  \n",
       "0          14055.93  \n",
       "1           9817.61  \n",
       "2          14003.64  \n",
       "3          23233.77  \n",
       "4           2253.49  \n",
       "...             ...  \n",
       "3209       17322.51  \n",
       "3210       17491.56  \n",
       "3211       19559.44  \n",
       "3212       17206.30  \n",
       "3213         530.78  \n",
       "\n",
       "[3214 rows x 13 columns]"
      ]
     },
     "execution_count": 34,
     "metadata": {},
     "output_type": "execute_result"
    }
   ],
   "source": [
    "data_c"
   ]
  },
  {
   "cell_type": "markdown",
   "metadata": {},
   "source": [
    "Далее - **tariffs**. Перед присоединением таблицы **tariffs** поменяем в ней название столбца `tariff_name`, т.к. оно не совпадает с названием в таблице **data_c**"
   ]
  },
  {
   "cell_type": "code",
   "execution_count": 35,
   "metadata": {},
   "outputs": [],
   "source": [
    "tariffs.rename(columns = {'tariff_name':'tariff'}, inplace = True)"
   ]
  },
  {
   "cell_type": "code",
   "execution_count": 36,
   "metadata": {},
   "outputs": [],
   "source": [
    "data = data_c.merge(tariffs, on = 'tariff', how='left')"
   ]
  },
  {
   "cell_type": "code",
   "execution_count": 37,
   "metadata": {},
   "outputs": [
    {
     "name": "stdout",
     "output_type": "stream",
     "text": [
      "<class 'pandas.core.frame.DataFrame'>\n",
      "Int64Index: 3214 entries, 0 to 3213\n",
      "Data columns (total 20 columns):\n",
      " #   Column                 Non-Null Count  Dtype         \n",
      "---  ------                 --------------  -----         \n",
      " 0   user_id                3214 non-null   int64         \n",
      " 1   age                    3214 non-null   int64         \n",
      " 2   churn_date             187 non-null    datetime64[ns]\n",
      " 3   city                   3214 non-null   object        \n",
      " 4   first_name             3214 non-null   object        \n",
      " 5   last_name              3214 non-null   object        \n",
      " 6   reg_date               3214 non-null   datetime64[ns]\n",
      " 7   tariff                 3214 non-null   object        \n",
      " 8   month                  3214 non-null   object        \n",
      " 9   calls_count            3174 non-null   float64       \n",
      " 10  calls_sum              3174 non-null   float64       \n",
      " 11  message_count          2717 non-null   float64       \n",
      " 12  total_traffic          3203 non-null   float64       \n",
      " 13  messages_included      3214 non-null   int64         \n",
      " 14  mb_per_month_included  3214 non-null   int64         \n",
      " 15  minutes_included       3214 non-null   int64         \n",
      " 16  rub_monthly_fee        3214 non-null   int64         \n",
      " 17  rub_per_gb             3214 non-null   int64         \n",
      " 18  rub_per_message        3214 non-null   int64         \n",
      " 19  rub_per_minute         3214 non-null   int64         \n",
      "dtypes: datetime64[ns](2), float64(4), int64(9), object(5)\n",
      "memory usage: 527.3+ KB\n"
     ]
    },
    {
     "data": {
      "text/html": [
       "<div>\n",
       "<style scoped>\n",
       "    .dataframe tbody tr th:only-of-type {\n",
       "        vertical-align: middle;\n",
       "    }\n",
       "\n",
       "    .dataframe tbody tr th {\n",
       "        vertical-align: top;\n",
       "    }\n",
       "\n",
       "    .dataframe thead th {\n",
       "        text-align: right;\n",
       "    }\n",
       "</style>\n",
       "<table border=\"1\" class=\"dataframe\">\n",
       "  <thead>\n",
       "    <tr style=\"text-align: right;\">\n",
       "      <th></th>\n",
       "      <th>user_id</th>\n",
       "      <th>age</th>\n",
       "      <th>churn_date</th>\n",
       "      <th>city</th>\n",
       "      <th>first_name</th>\n",
       "      <th>last_name</th>\n",
       "      <th>reg_date</th>\n",
       "      <th>tariff</th>\n",
       "      <th>month</th>\n",
       "      <th>calls_count</th>\n",
       "      <th>calls_sum</th>\n",
       "      <th>message_count</th>\n",
       "      <th>total_traffic</th>\n",
       "      <th>messages_included</th>\n",
       "      <th>mb_per_month_included</th>\n",
       "      <th>minutes_included</th>\n",
       "      <th>rub_monthly_fee</th>\n",
       "      <th>rub_per_gb</th>\n",
       "      <th>rub_per_message</th>\n",
       "      <th>rub_per_minute</th>\n",
       "    </tr>\n",
       "  </thead>\n",
       "  <tbody>\n",
       "    <tr>\n",
       "      <th>0</th>\n",
       "      <td>1000</td>\n",
       "      <td>52</td>\n",
       "      <td>NaT</td>\n",
       "      <td>Краснодар</td>\n",
       "      <td>Рафаил</td>\n",
       "      <td>Верещагин</td>\n",
       "      <td>2018-05-25</td>\n",
       "      <td>ultra</td>\n",
       "      <td>August</td>\n",
       "      <td>52.0</td>\n",
       "      <td>408.0</td>\n",
       "      <td>81.0</td>\n",
       "      <td>14055.93</td>\n",
       "      <td>1000</td>\n",
       "      <td>30720</td>\n",
       "      <td>3000</td>\n",
       "      <td>1950</td>\n",
       "      <td>150</td>\n",
       "      <td>1</td>\n",
       "      <td>1</td>\n",
       "    </tr>\n",
       "    <tr>\n",
       "      <th>1</th>\n",
       "      <td>1000</td>\n",
       "      <td>52</td>\n",
       "      <td>NaT</td>\n",
       "      <td>Краснодар</td>\n",
       "      <td>Рафаил</td>\n",
       "      <td>Верещагин</td>\n",
       "      <td>2018-05-25</td>\n",
       "      <td>ultra</td>\n",
       "      <td>December</td>\n",
       "      <td>46.0</td>\n",
       "      <td>333.0</td>\n",
       "      <td>70.0</td>\n",
       "      <td>9817.61</td>\n",
       "      <td>1000</td>\n",
       "      <td>30720</td>\n",
       "      <td>3000</td>\n",
       "      <td>1950</td>\n",
       "      <td>150</td>\n",
       "      <td>1</td>\n",
       "      <td>1</td>\n",
       "    </tr>\n",
       "    <tr>\n",
       "      <th>2</th>\n",
       "      <td>1000</td>\n",
       "      <td>52</td>\n",
       "      <td>NaT</td>\n",
       "      <td>Краснодар</td>\n",
       "      <td>Рафаил</td>\n",
       "      <td>Верещагин</td>\n",
       "      <td>2018-05-25</td>\n",
       "      <td>ultra</td>\n",
       "      <td>July</td>\n",
       "      <td>47.0</td>\n",
       "      <td>340.0</td>\n",
       "      <td>75.0</td>\n",
       "      <td>14003.64</td>\n",
       "      <td>1000</td>\n",
       "      <td>30720</td>\n",
       "      <td>3000</td>\n",
       "      <td>1950</td>\n",
       "      <td>150</td>\n",
       "      <td>1</td>\n",
       "      <td>1</td>\n",
       "    </tr>\n",
       "    <tr>\n",
       "      <th>3</th>\n",
       "      <td>1000</td>\n",
       "      <td>52</td>\n",
       "      <td>NaT</td>\n",
       "      <td>Краснодар</td>\n",
       "      <td>Рафаил</td>\n",
       "      <td>Верещагин</td>\n",
       "      <td>2018-05-25</td>\n",
       "      <td>ultra</td>\n",
       "      <td>June</td>\n",
       "      <td>43.0</td>\n",
       "      <td>172.0</td>\n",
       "      <td>60.0</td>\n",
       "      <td>23233.77</td>\n",
       "      <td>1000</td>\n",
       "      <td>30720</td>\n",
       "      <td>3000</td>\n",
       "      <td>1950</td>\n",
       "      <td>150</td>\n",
       "      <td>1</td>\n",
       "      <td>1</td>\n",
       "    </tr>\n",
       "    <tr>\n",
       "      <th>4</th>\n",
       "      <td>1000</td>\n",
       "      <td>52</td>\n",
       "      <td>NaT</td>\n",
       "      <td>Краснодар</td>\n",
       "      <td>Рафаил</td>\n",
       "      <td>Верещагин</td>\n",
       "      <td>2018-05-25</td>\n",
       "      <td>ultra</td>\n",
       "      <td>May</td>\n",
       "      <td>22.0</td>\n",
       "      <td>159.0</td>\n",
       "      <td>22.0</td>\n",
       "      <td>2253.49</td>\n",
       "      <td>1000</td>\n",
       "      <td>30720</td>\n",
       "      <td>3000</td>\n",
       "      <td>1950</td>\n",
       "      <td>150</td>\n",
       "      <td>1</td>\n",
       "      <td>1</td>\n",
       "    </tr>\n",
       "  </tbody>\n",
       "</table>\n",
       "</div>"
      ],
      "text/plain": [
       "   user_id  age churn_date       city first_name  last_name   reg_date tariff  \\\n",
       "0     1000   52        NaT  Краснодар     Рафаил  Верещагин 2018-05-25  ultra   \n",
       "1     1000   52        NaT  Краснодар     Рафаил  Верещагин 2018-05-25  ultra   \n",
       "2     1000   52        NaT  Краснодар     Рафаил  Верещагин 2018-05-25  ultra   \n",
       "3     1000   52        NaT  Краснодар     Рафаил  Верещагин 2018-05-25  ultra   \n",
       "4     1000   52        NaT  Краснодар     Рафаил  Верещагин 2018-05-25  ultra   \n",
       "\n",
       "      month  calls_count  calls_sum  message_count  total_traffic  \\\n",
       "0    August         52.0      408.0           81.0       14055.93   \n",
       "1  December         46.0      333.0           70.0        9817.61   \n",
       "2      July         47.0      340.0           75.0       14003.64   \n",
       "3      June         43.0      172.0           60.0       23233.77   \n",
       "4       May         22.0      159.0           22.0        2253.49   \n",
       "\n",
       "   messages_included  mb_per_month_included  minutes_included  \\\n",
       "0               1000                  30720              3000   \n",
       "1               1000                  30720              3000   \n",
       "2               1000                  30720              3000   \n",
       "3               1000                  30720              3000   \n",
       "4               1000                  30720              3000   \n",
       "\n",
       "   rub_monthly_fee  rub_per_gb  rub_per_message  rub_per_minute  \n",
       "0             1950         150                1               1  \n",
       "1             1950         150                1               1  \n",
       "2             1950         150                1               1  \n",
       "3             1950         150                1               1  \n",
       "4             1950         150                1               1  "
      ]
     },
     "metadata": {},
     "output_type": "display_data"
    },
    {
     "data": {
      "text/plain": [
       "None"
      ]
     },
     "metadata": {},
     "output_type": "display_data"
    }
   ],
   "source": [
    "display(data.head(), data.info())"
   ]
  },
  {
   "cell_type": "markdown",
   "metadata": {},
   "source": [
    "### Определение помесячной выручки с каждого пользователя"
   ]
  },
  {
   "cell_type": "markdown",
   "metadata": {},
   "source": [
    "Видим, что траффик в столбце `mb_used` приведен в мегабайтах, а в дальнейших расчетах понадобятся гигабайты. Поделим значения на 1000 и округлим до целых. Логично будет поменять название столбца `mb_per_month_included` на `gb_per_month_included`\n",
    "\n",
    "Также округлим количество минут до целых значений."
   ]
  },
  {
   "cell_type": "code",
   "execution_count": 38,
   "metadata": {},
   "outputs": [],
   "source": [
    "data['total_traffic'] = np.ceil(data['total_traffic'] / 1024)\n",
    "data['mb_per_month_included'] = np.ceil(data['mb_per_month_included'] / 1024)\n",
    "\n",
    "data = data.rename(columns = {'mb_per_month_included': 'gb_per_month_included'})"
   ]
  },
  {
   "cell_type": "markdown",
   "metadata": {},
   "source": [
    "Для определения помесячной выручки с каждого пользователя вычтем бесплатный лимит из суммарного количества звонков, сообщений и интернет-трафика, остаток умножим на значение из тарифного плана, затем прибавим абонентскую плату, соответствующую тарифному плану.\n",
    "\n",
    "Для такого вычисления напишем функцию, учитывающую то, что некоторые пользователи не использовали полностью пакет сообщений, звонков и интернета, включенный в тариф."
   ]
  },
  {
   "cell_type": "code",
   "execution_count": 39,
   "metadata": {},
   "outputs": [],
   "source": [
    "def calc_gain(row):\n",
    "    if row['calls_sum'] > row['minutes_included']:\n",
    "        call_over = (row['calls_sum'] - row['minutes_included']) * row['rub_per_minute']\n",
    "    else: call_over = 0\n",
    "    if row['message_count'] > row['messages_included']:\n",
    "        message_over = (row['message_count'] - row['messages_included']) * row['rub_per_message']\n",
    "    else: message_over = 0\n",
    "    if row['total_traffic'] > row['gb_per_month_included']:\n",
    "        traffic_over = (row['total_traffic'] - row['gb_per_month_included']) * row['rub_per_gb']\n",
    "    else: traffic_over = 0\n",
    "    return call_over + message_over + traffic_over + row['rub_monthly_fee']"
   ]
  },
  {
   "cell_type": "code",
   "execution_count": 40,
   "metadata": {},
   "outputs": [],
   "source": [
    "data['total_gain'] = data.apply(calc_gain, axis=1)"
   ]
  },
  {
   "cell_type": "code",
   "execution_count": 41,
   "metadata": {
    "scrolled": true
   },
   "outputs": [
    {
     "data": {
      "text/html": [
       "<div>\n",
       "<style scoped>\n",
       "    .dataframe tbody tr th:only-of-type {\n",
       "        vertical-align: middle;\n",
       "    }\n",
       "\n",
       "    .dataframe tbody tr th {\n",
       "        vertical-align: top;\n",
       "    }\n",
       "\n",
       "    .dataframe thead th {\n",
       "        text-align: right;\n",
       "    }\n",
       "</style>\n",
       "<table border=\"1\" class=\"dataframe\">\n",
       "  <thead>\n",
       "    <tr style=\"text-align: right;\">\n",
       "      <th></th>\n",
       "      <th>user_id</th>\n",
       "      <th>age</th>\n",
       "      <th>churn_date</th>\n",
       "      <th>city</th>\n",
       "      <th>first_name</th>\n",
       "      <th>last_name</th>\n",
       "      <th>reg_date</th>\n",
       "      <th>tariff</th>\n",
       "      <th>month</th>\n",
       "      <th>calls_count</th>\n",
       "      <th>calls_sum</th>\n",
       "      <th>message_count</th>\n",
       "      <th>total_traffic</th>\n",
       "      <th>messages_included</th>\n",
       "      <th>gb_per_month_included</th>\n",
       "      <th>minutes_included</th>\n",
       "      <th>rub_monthly_fee</th>\n",
       "      <th>rub_per_gb</th>\n",
       "      <th>rub_per_message</th>\n",
       "      <th>rub_per_minute</th>\n",
       "      <th>total_gain</th>\n",
       "    </tr>\n",
       "  </thead>\n",
       "  <tbody>\n",
       "    <tr>\n",
       "      <th>0</th>\n",
       "      <td>1000</td>\n",
       "      <td>52</td>\n",
       "      <td>NaT</td>\n",
       "      <td>Краснодар</td>\n",
       "      <td>Рафаил</td>\n",
       "      <td>Верещагин</td>\n",
       "      <td>2018-05-25</td>\n",
       "      <td>ultra</td>\n",
       "      <td>August</td>\n",
       "      <td>52.0</td>\n",
       "      <td>408.0</td>\n",
       "      <td>81.0</td>\n",
       "      <td>14.0</td>\n",
       "      <td>1000</td>\n",
       "      <td>30.0</td>\n",
       "      <td>3000</td>\n",
       "      <td>1950</td>\n",
       "      <td>150</td>\n",
       "      <td>1</td>\n",
       "      <td>1</td>\n",
       "      <td>1950.0</td>\n",
       "    </tr>\n",
       "    <tr>\n",
       "      <th>1</th>\n",
       "      <td>1000</td>\n",
       "      <td>52</td>\n",
       "      <td>NaT</td>\n",
       "      <td>Краснодар</td>\n",
       "      <td>Рафаил</td>\n",
       "      <td>Верещагин</td>\n",
       "      <td>2018-05-25</td>\n",
       "      <td>ultra</td>\n",
       "      <td>December</td>\n",
       "      <td>46.0</td>\n",
       "      <td>333.0</td>\n",
       "      <td>70.0</td>\n",
       "      <td>10.0</td>\n",
       "      <td>1000</td>\n",
       "      <td>30.0</td>\n",
       "      <td>3000</td>\n",
       "      <td>1950</td>\n",
       "      <td>150</td>\n",
       "      <td>1</td>\n",
       "      <td>1</td>\n",
       "      <td>1950.0</td>\n",
       "    </tr>\n",
       "    <tr>\n",
       "      <th>2</th>\n",
       "      <td>1000</td>\n",
       "      <td>52</td>\n",
       "      <td>NaT</td>\n",
       "      <td>Краснодар</td>\n",
       "      <td>Рафаил</td>\n",
       "      <td>Верещагин</td>\n",
       "      <td>2018-05-25</td>\n",
       "      <td>ultra</td>\n",
       "      <td>July</td>\n",
       "      <td>47.0</td>\n",
       "      <td>340.0</td>\n",
       "      <td>75.0</td>\n",
       "      <td>14.0</td>\n",
       "      <td>1000</td>\n",
       "      <td>30.0</td>\n",
       "      <td>3000</td>\n",
       "      <td>1950</td>\n",
       "      <td>150</td>\n",
       "      <td>1</td>\n",
       "      <td>1</td>\n",
       "      <td>1950.0</td>\n",
       "    </tr>\n",
       "    <tr>\n",
       "      <th>3</th>\n",
       "      <td>1000</td>\n",
       "      <td>52</td>\n",
       "      <td>NaT</td>\n",
       "      <td>Краснодар</td>\n",
       "      <td>Рафаил</td>\n",
       "      <td>Верещагин</td>\n",
       "      <td>2018-05-25</td>\n",
       "      <td>ultra</td>\n",
       "      <td>June</td>\n",
       "      <td>43.0</td>\n",
       "      <td>172.0</td>\n",
       "      <td>60.0</td>\n",
       "      <td>23.0</td>\n",
       "      <td>1000</td>\n",
       "      <td>30.0</td>\n",
       "      <td>3000</td>\n",
       "      <td>1950</td>\n",
       "      <td>150</td>\n",
       "      <td>1</td>\n",
       "      <td>1</td>\n",
       "      <td>1950.0</td>\n",
       "    </tr>\n",
       "    <tr>\n",
       "      <th>4</th>\n",
       "      <td>1000</td>\n",
       "      <td>52</td>\n",
       "      <td>NaT</td>\n",
       "      <td>Краснодар</td>\n",
       "      <td>Рафаил</td>\n",
       "      <td>Верещагин</td>\n",
       "      <td>2018-05-25</td>\n",
       "      <td>ultra</td>\n",
       "      <td>May</td>\n",
       "      <td>22.0</td>\n",
       "      <td>159.0</td>\n",
       "      <td>22.0</td>\n",
       "      <td>3.0</td>\n",
       "      <td>1000</td>\n",
       "      <td>30.0</td>\n",
       "      <td>3000</td>\n",
       "      <td>1950</td>\n",
       "      <td>150</td>\n",
       "      <td>1</td>\n",
       "      <td>1</td>\n",
       "      <td>1950.0</td>\n",
       "    </tr>\n",
       "    <tr>\n",
       "      <th>5</th>\n",
       "      <td>1000</td>\n",
       "      <td>52</td>\n",
       "      <td>NaT</td>\n",
       "      <td>Краснодар</td>\n",
       "      <td>Рафаил</td>\n",
       "      <td>Верещагин</td>\n",
       "      <td>2018-05-25</td>\n",
       "      <td>ultra</td>\n",
       "      <td>November</td>\n",
       "      <td>43.0</td>\n",
       "      <td>338.0</td>\n",
       "      <td>58.0</td>\n",
       "      <td>15.0</td>\n",
       "      <td>1000</td>\n",
       "      <td>30.0</td>\n",
       "      <td>3000</td>\n",
       "      <td>1950</td>\n",
       "      <td>150</td>\n",
       "      <td>1</td>\n",
       "      <td>1</td>\n",
       "      <td>1950.0</td>\n",
       "    </tr>\n",
       "    <tr>\n",
       "      <th>6</th>\n",
       "      <td>1000</td>\n",
       "      <td>52</td>\n",
       "      <td>NaT</td>\n",
       "      <td>Краснодар</td>\n",
       "      <td>Рафаил</td>\n",
       "      <td>Верещагин</td>\n",
       "      <td>2018-05-25</td>\n",
       "      <td>ultra</td>\n",
       "      <td>October</td>\n",
       "      <td>57.0</td>\n",
       "      <td>350.0</td>\n",
       "      <td>73.0</td>\n",
       "      <td>15.0</td>\n",
       "      <td>1000</td>\n",
       "      <td>30.0</td>\n",
       "      <td>3000</td>\n",
       "      <td>1950</td>\n",
       "      <td>150</td>\n",
       "      <td>1</td>\n",
       "      <td>1</td>\n",
       "      <td>1950.0</td>\n",
       "    </tr>\n",
       "    <tr>\n",
       "      <th>7</th>\n",
       "      <td>1000</td>\n",
       "      <td>52</td>\n",
       "      <td>NaT</td>\n",
       "      <td>Краснодар</td>\n",
       "      <td>Рафаил</td>\n",
       "      <td>Верещагин</td>\n",
       "      <td>2018-05-25</td>\n",
       "      <td>ultra</td>\n",
       "      <td>September</td>\n",
       "      <td>58.0</td>\n",
       "      <td>466.0</td>\n",
       "      <td>57.0</td>\n",
       "      <td>15.0</td>\n",
       "      <td>1000</td>\n",
       "      <td>30.0</td>\n",
       "      <td>3000</td>\n",
       "      <td>1950</td>\n",
       "      <td>150</td>\n",
       "      <td>1</td>\n",
       "      <td>1</td>\n",
       "      <td>1950.0</td>\n",
       "    </tr>\n",
       "    <tr>\n",
       "      <th>8</th>\n",
       "      <td>1001</td>\n",
       "      <td>41</td>\n",
       "      <td>NaT</td>\n",
       "      <td>Москва</td>\n",
       "      <td>Иван</td>\n",
       "      <td>Ежов</td>\n",
       "      <td>2018-11-01</td>\n",
       "      <td>smart</td>\n",
       "      <td>December</td>\n",
       "      <td>63.0</td>\n",
       "      <td>414.0</td>\n",
       "      <td>NaN</td>\n",
       "      <td>14.0</td>\n",
       "      <td>50</td>\n",
       "      <td>15.0</td>\n",
       "      <td>500</td>\n",
       "      <td>550</td>\n",
       "      <td>200</td>\n",
       "      <td>3</td>\n",
       "      <td>3</td>\n",
       "      <td>550.0</td>\n",
       "    </tr>\n",
       "    <tr>\n",
       "      <th>9</th>\n",
       "      <td>1001</td>\n",
       "      <td>41</td>\n",
       "      <td>NaT</td>\n",
       "      <td>Москва</td>\n",
       "      <td>Иван</td>\n",
       "      <td>Ежов</td>\n",
       "      <td>2018-11-01</td>\n",
       "      <td>smart</td>\n",
       "      <td>November</td>\n",
       "      <td>59.0</td>\n",
       "      <td>430.0</td>\n",
       "      <td>NaN</td>\n",
       "      <td>18.0</td>\n",
       "      <td>50</td>\n",
       "      <td>15.0</td>\n",
       "      <td>500</td>\n",
       "      <td>550</td>\n",
       "      <td>200</td>\n",
       "      <td>3</td>\n",
       "      <td>3</td>\n",
       "      <td>1150.0</td>\n",
       "    </tr>\n",
       "    <tr>\n",
       "      <th>10</th>\n",
       "      <td>1002</td>\n",
       "      <td>59</td>\n",
       "      <td>NaT</td>\n",
       "      <td>Стерлитамак</td>\n",
       "      <td>Евгений</td>\n",
       "      <td>Абрамович</td>\n",
       "      <td>2018-06-17</td>\n",
       "      <td>smart</td>\n",
       "      <td>August</td>\n",
       "      <td>42.0</td>\n",
       "      <td>289.0</td>\n",
       "      <td>13.0</td>\n",
       "      <td>20.0</td>\n",
       "      <td>50</td>\n",
       "      <td>15.0</td>\n",
       "      <td>500</td>\n",
       "      <td>550</td>\n",
       "      <td>200</td>\n",
       "      <td>3</td>\n",
       "      <td>3</td>\n",
       "      <td>1550.0</td>\n",
       "    </tr>\n",
       "    <tr>\n",
       "      <th>11</th>\n",
       "      <td>1002</td>\n",
       "      <td>59</td>\n",
       "      <td>NaT</td>\n",
       "      <td>Стерлитамак</td>\n",
       "      <td>Евгений</td>\n",
       "      <td>Абрамович</td>\n",
       "      <td>2018-06-17</td>\n",
       "      <td>smart</td>\n",
       "      <td>December</td>\n",
       "      <td>33.0</td>\n",
       "      <td>236.0</td>\n",
       "      <td>12.0</td>\n",
       "      <td>18.0</td>\n",
       "      <td>50</td>\n",
       "      <td>15.0</td>\n",
       "      <td>500</td>\n",
       "      <td>550</td>\n",
       "      <td>200</td>\n",
       "      <td>3</td>\n",
       "      <td>3</td>\n",
       "      <td>1150.0</td>\n",
       "    </tr>\n",
       "    <tr>\n",
       "      <th>12</th>\n",
       "      <td>1002</td>\n",
       "      <td>59</td>\n",
       "      <td>NaT</td>\n",
       "      <td>Стерлитамак</td>\n",
       "      <td>Евгений</td>\n",
       "      <td>Абрамович</td>\n",
       "      <td>2018-06-17</td>\n",
       "      <td>smart</td>\n",
       "      <td>July</td>\n",
       "      <td>26.0</td>\n",
       "      <td>214.0</td>\n",
       "      <td>11.0</td>\n",
       "      <td>18.0</td>\n",
       "      <td>50</td>\n",
       "      <td>15.0</td>\n",
       "      <td>500</td>\n",
       "      <td>550</td>\n",
       "      <td>200</td>\n",
       "      <td>3</td>\n",
       "      <td>3</td>\n",
       "      <td>1150.0</td>\n",
       "    </tr>\n",
       "    <tr>\n",
       "      <th>13</th>\n",
       "      <td>1002</td>\n",
       "      <td>59</td>\n",
       "      <td>NaT</td>\n",
       "      <td>Стерлитамак</td>\n",
       "      <td>Евгений</td>\n",
       "      <td>Абрамович</td>\n",
       "      <td>2018-06-17</td>\n",
       "      <td>smart</td>\n",
       "      <td>June</td>\n",
       "      <td>15.0</td>\n",
       "      <td>117.0</td>\n",
       "      <td>4.0</td>\n",
       "      <td>11.0</td>\n",
       "      <td>50</td>\n",
       "      <td>15.0</td>\n",
       "      <td>500</td>\n",
       "      <td>550</td>\n",
       "      <td>200</td>\n",
       "      <td>3</td>\n",
       "      <td>3</td>\n",
       "      <td>550.0</td>\n",
       "    </tr>\n",
       "    <tr>\n",
       "      <th>14</th>\n",
       "      <td>1002</td>\n",
       "      <td>59</td>\n",
       "      <td>NaT</td>\n",
       "      <td>Стерлитамак</td>\n",
       "      <td>Евгений</td>\n",
       "      <td>Абрамович</td>\n",
       "      <td>2018-06-17</td>\n",
       "      <td>smart</td>\n",
       "      <td>November</td>\n",
       "      <td>32.0</td>\n",
       "      <td>243.0</td>\n",
       "      <td>16.0</td>\n",
       "      <td>19.0</td>\n",
       "      <td>50</td>\n",
       "      <td>15.0</td>\n",
       "      <td>500</td>\n",
       "      <td>550</td>\n",
       "      <td>200</td>\n",
       "      <td>3</td>\n",
       "      <td>3</td>\n",
       "      <td>1350.0</td>\n",
       "    </tr>\n",
       "    <tr>\n",
       "      <th>15</th>\n",
       "      <td>1002</td>\n",
       "      <td>59</td>\n",
       "      <td>NaT</td>\n",
       "      <td>Стерлитамак</td>\n",
       "      <td>Евгений</td>\n",
       "      <td>Абрамович</td>\n",
       "      <td>2018-06-17</td>\n",
       "      <td>smart</td>\n",
       "      <td>October</td>\n",
       "      <td>33.0</td>\n",
       "      <td>212.0</td>\n",
       "      <td>10.0</td>\n",
       "      <td>14.0</td>\n",
       "      <td>50</td>\n",
       "      <td>15.0</td>\n",
       "      <td>500</td>\n",
       "      <td>550</td>\n",
       "      <td>200</td>\n",
       "      <td>3</td>\n",
       "      <td>3</td>\n",
       "      <td>550.0</td>\n",
       "    </tr>\n",
       "    <tr>\n",
       "      <th>16</th>\n",
       "      <td>1002</td>\n",
       "      <td>59</td>\n",
       "      <td>NaT</td>\n",
       "      <td>Стерлитамак</td>\n",
       "      <td>Евгений</td>\n",
       "      <td>Абрамович</td>\n",
       "      <td>2018-06-17</td>\n",
       "      <td>smart</td>\n",
       "      <td>September</td>\n",
       "      <td>36.0</td>\n",
       "      <td>206.0</td>\n",
       "      <td>4.0</td>\n",
       "      <td>17.0</td>\n",
       "      <td>50</td>\n",
       "      <td>15.0</td>\n",
       "      <td>500</td>\n",
       "      <td>550</td>\n",
       "      <td>200</td>\n",
       "      <td>3</td>\n",
       "      <td>3</td>\n",
       "      <td>950.0</td>\n",
       "    </tr>\n",
       "    <tr>\n",
       "      <th>17</th>\n",
       "      <td>1003</td>\n",
       "      <td>23</td>\n",
       "      <td>NaT</td>\n",
       "      <td>Москва</td>\n",
       "      <td>Белла</td>\n",
       "      <td>Белякова</td>\n",
       "      <td>2018-08-17</td>\n",
       "      <td>ultra</td>\n",
       "      <td>August</td>\n",
       "      <td>55.0</td>\n",
       "      <td>380.0</td>\n",
       "      <td>37.0</td>\n",
       "      <td>9.0</td>\n",
       "      <td>1000</td>\n",
       "      <td>30.0</td>\n",
       "      <td>3000</td>\n",
       "      <td>1950</td>\n",
       "      <td>150</td>\n",
       "      <td>1</td>\n",
       "      <td>1</td>\n",
       "      <td>1950.0</td>\n",
       "    </tr>\n",
       "    <tr>\n",
       "      <th>18</th>\n",
       "      <td>1003</td>\n",
       "      <td>23</td>\n",
       "      <td>NaT</td>\n",
       "      <td>Москва</td>\n",
       "      <td>Белла</td>\n",
       "      <td>Белякова</td>\n",
       "      <td>2018-08-17</td>\n",
       "      <td>ultra</td>\n",
       "      <td>December</td>\n",
       "      <td>108.0</td>\n",
       "      <td>802.0</td>\n",
       "      <td>75.0</td>\n",
       "      <td>10.0</td>\n",
       "      <td>1000</td>\n",
       "      <td>30.0</td>\n",
       "      <td>3000</td>\n",
       "      <td>1950</td>\n",
       "      <td>150</td>\n",
       "      <td>1</td>\n",
       "      <td>1</td>\n",
       "      <td>1950.0</td>\n",
       "    </tr>\n",
       "    <tr>\n",
       "      <th>19</th>\n",
       "      <td>1003</td>\n",
       "      <td>23</td>\n",
       "      <td>NaT</td>\n",
       "      <td>Москва</td>\n",
       "      <td>Белла</td>\n",
       "      <td>Белякова</td>\n",
       "      <td>2018-08-17</td>\n",
       "      <td>ultra</td>\n",
       "      <td>November</td>\n",
       "      <td>115.0</td>\n",
       "      <td>824.0</td>\n",
       "      <td>94.0</td>\n",
       "      <td>12.0</td>\n",
       "      <td>1000</td>\n",
       "      <td>30.0</td>\n",
       "      <td>3000</td>\n",
       "      <td>1950</td>\n",
       "      <td>150</td>\n",
       "      <td>1</td>\n",
       "      <td>1</td>\n",
       "      <td>1950.0</td>\n",
       "    </tr>\n",
       "    <tr>\n",
       "      <th>20</th>\n",
       "      <td>1003</td>\n",
       "      <td>23</td>\n",
       "      <td>NaT</td>\n",
       "      <td>Москва</td>\n",
       "      <td>Белла</td>\n",
       "      <td>Белякова</td>\n",
       "      <td>2018-08-17</td>\n",
       "      <td>ultra</td>\n",
       "      <td>October</td>\n",
       "      <td>108.0</td>\n",
       "      <td>855.0</td>\n",
       "      <td>83.0</td>\n",
       "      <td>15.0</td>\n",
       "      <td>1000</td>\n",
       "      <td>30.0</td>\n",
       "      <td>3000</td>\n",
       "      <td>1950</td>\n",
       "      <td>150</td>\n",
       "      <td>1</td>\n",
       "      <td>1</td>\n",
       "      <td>1950.0</td>\n",
       "    </tr>\n",
       "    <tr>\n",
       "      <th>21</th>\n",
       "      <td>1003</td>\n",
       "      <td>23</td>\n",
       "      <td>NaT</td>\n",
       "      <td>Москва</td>\n",
       "      <td>Белла</td>\n",
       "      <td>Белякова</td>\n",
       "      <td>2018-08-17</td>\n",
       "      <td>ultra</td>\n",
       "      <td>September</td>\n",
       "      <td>134.0</td>\n",
       "      <td>961.0</td>\n",
       "      <td>91.0</td>\n",
       "      <td>13.0</td>\n",
       "      <td>1000</td>\n",
       "      <td>30.0</td>\n",
       "      <td>3000</td>\n",
       "      <td>1950</td>\n",
       "      <td>150</td>\n",
       "      <td>1</td>\n",
       "      <td>1</td>\n",
       "      <td>1950.0</td>\n",
       "    </tr>\n",
       "    <tr>\n",
       "      <th>22</th>\n",
       "      <td>1004</td>\n",
       "      <td>68</td>\n",
       "      <td>NaT</td>\n",
       "      <td>Новокузнецк</td>\n",
       "      <td>Татьяна</td>\n",
       "      <td>Авдеенко</td>\n",
       "      <td>2018-05-14</td>\n",
       "      <td>ultra</td>\n",
       "      <td>August</td>\n",
       "      <td>19.0</td>\n",
       "      <td>137.0</td>\n",
       "      <td>151.0</td>\n",
       "      <td>28.0</td>\n",
       "      <td>1000</td>\n",
       "      <td>30.0</td>\n",
       "      <td>3000</td>\n",
       "      <td>1950</td>\n",
       "      <td>150</td>\n",
       "      <td>1</td>\n",
       "      <td>1</td>\n",
       "      <td>1950.0</td>\n",
       "    </tr>\n",
       "    <tr>\n",
       "      <th>23</th>\n",
       "      <td>1004</td>\n",
       "      <td>68</td>\n",
       "      <td>NaT</td>\n",
       "      <td>Новокузнецк</td>\n",
       "      <td>Татьяна</td>\n",
       "      <td>Авдеенко</td>\n",
       "      <td>2018-05-14</td>\n",
       "      <td>ultra</td>\n",
       "      <td>December</td>\n",
       "      <td>21.0</td>\n",
       "      <td>130.0</td>\n",
       "      <td>162.0</td>\n",
       "      <td>18.0</td>\n",
       "      <td>1000</td>\n",
       "      <td>30.0</td>\n",
       "      <td>3000</td>\n",
       "      <td>1950</td>\n",
       "      <td>150</td>\n",
       "      <td>1</td>\n",
       "      <td>1</td>\n",
       "      <td>1950.0</td>\n",
       "    </tr>\n",
       "    <tr>\n",
       "      <th>24</th>\n",
       "      <td>1004</td>\n",
       "      <td>68</td>\n",
       "      <td>NaT</td>\n",
       "      <td>Новокузнецк</td>\n",
       "      <td>Татьяна</td>\n",
       "      <td>Авдеенко</td>\n",
       "      <td>2018-05-14</td>\n",
       "      <td>ultra</td>\n",
       "      <td>July</td>\n",
       "      <td>22.0</td>\n",
       "      <td>135.0</td>\n",
       "      <td>181.0</td>\n",
       "      <td>22.0</td>\n",
       "      <td>1000</td>\n",
       "      <td>30.0</td>\n",
       "      <td>3000</td>\n",
       "      <td>1950</td>\n",
       "      <td>150</td>\n",
       "      <td>1</td>\n",
       "      <td>1</td>\n",
       "      <td>1950.0</td>\n",
       "    </tr>\n",
       "    <tr>\n",
       "      <th>25</th>\n",
       "      <td>1004</td>\n",
       "      <td>68</td>\n",
       "      <td>NaT</td>\n",
       "      <td>Новокузнецк</td>\n",
       "      <td>Татьяна</td>\n",
       "      <td>Авдеенко</td>\n",
       "      <td>2018-05-14</td>\n",
       "      <td>ultra</td>\n",
       "      <td>June</td>\n",
       "      <td>31.0</td>\n",
       "      <td>171.0</td>\n",
       "      <td>134.0</td>\n",
       "      <td>18.0</td>\n",
       "      <td>1000</td>\n",
       "      <td>30.0</td>\n",
       "      <td>3000</td>\n",
       "      <td>1950</td>\n",
       "      <td>150</td>\n",
       "      <td>1</td>\n",
       "      <td>1</td>\n",
       "      <td>1950.0</td>\n",
       "    </tr>\n",
       "    <tr>\n",
       "      <th>26</th>\n",
       "      <td>1004</td>\n",
       "      <td>68</td>\n",
       "      <td>NaT</td>\n",
       "      <td>Новокузнецк</td>\n",
       "      <td>Татьяна</td>\n",
       "      <td>Авдеенко</td>\n",
       "      <td>2018-05-14</td>\n",
       "      <td>ultra</td>\n",
       "      <td>May</td>\n",
       "      <td>9.0</td>\n",
       "      <td>35.0</td>\n",
       "      <td>95.0</td>\n",
       "      <td>14.0</td>\n",
       "      <td>1000</td>\n",
       "      <td>30.0</td>\n",
       "      <td>3000</td>\n",
       "      <td>1950</td>\n",
       "      <td>150</td>\n",
       "      <td>1</td>\n",
       "      <td>1</td>\n",
       "      <td>1950.0</td>\n",
       "    </tr>\n",
       "    <tr>\n",
       "      <th>27</th>\n",
       "      <td>1004</td>\n",
       "      <td>68</td>\n",
       "      <td>NaT</td>\n",
       "      <td>Новокузнецк</td>\n",
       "      <td>Татьяна</td>\n",
       "      <td>Авдеенко</td>\n",
       "      <td>2018-05-14</td>\n",
       "      <td>ultra</td>\n",
       "      <td>November</td>\n",
       "      <td>19.0</td>\n",
       "      <td>117.0</td>\n",
       "      <td>158.0</td>\n",
       "      <td>16.0</td>\n",
       "      <td>1000</td>\n",
       "      <td>30.0</td>\n",
       "      <td>3000</td>\n",
       "      <td>1950</td>\n",
       "      <td>150</td>\n",
       "      <td>1</td>\n",
       "      <td>1</td>\n",
       "      <td>1950.0</td>\n",
       "    </tr>\n",
       "    <tr>\n",
       "      <th>28</th>\n",
       "      <td>1004</td>\n",
       "      <td>68</td>\n",
       "      <td>NaT</td>\n",
       "      <td>Новокузнецк</td>\n",
       "      <td>Татьяна</td>\n",
       "      <td>Авдеенко</td>\n",
       "      <td>2018-05-14</td>\n",
       "      <td>ultra</td>\n",
       "      <td>October</td>\n",
       "      <td>29.0</td>\n",
       "      <td>145.0</td>\n",
       "      <td>165.0</td>\n",
       "      <td>19.0</td>\n",
       "      <td>1000</td>\n",
       "      <td>30.0</td>\n",
       "      <td>3000</td>\n",
       "      <td>1950</td>\n",
       "      <td>150</td>\n",
       "      <td>1</td>\n",
       "      <td>1</td>\n",
       "      <td>1950.0</td>\n",
       "    </tr>\n",
       "    <tr>\n",
       "      <th>29</th>\n",
       "      <td>1004</td>\n",
       "      <td>68</td>\n",
       "      <td>NaT</td>\n",
       "      <td>Новокузнецк</td>\n",
       "      <td>Татьяна</td>\n",
       "      <td>Авдеенко</td>\n",
       "      <td>2018-05-14</td>\n",
       "      <td>ultra</td>\n",
       "      <td>September</td>\n",
       "      <td>26.0</td>\n",
       "      <td>117.0</td>\n",
       "      <td>146.0</td>\n",
       "      <td>15.0</td>\n",
       "      <td>1000</td>\n",
       "      <td>30.0</td>\n",
       "      <td>3000</td>\n",
       "      <td>1950</td>\n",
       "      <td>150</td>\n",
       "      <td>1</td>\n",
       "      <td>1</td>\n",
       "      <td>1950.0</td>\n",
       "    </tr>\n",
       "    <tr>\n",
       "      <th>30</th>\n",
       "      <td>1005</td>\n",
       "      <td>67</td>\n",
       "      <td>NaT</td>\n",
       "      <td>Набережные Челны</td>\n",
       "      <td>Афанасий</td>\n",
       "      <td>Горлов</td>\n",
       "      <td>2018-01-25</td>\n",
       "      <td>smart</td>\n",
       "      <td>April</td>\n",
       "      <td>101.0</td>\n",
       "      <td>712.0</td>\n",
       "      <td>41.0</td>\n",
       "      <td>10.0</td>\n",
       "      <td>50</td>\n",
       "      <td>15.0</td>\n",
       "      <td>500</td>\n",
       "      <td>550</td>\n",
       "      <td>200</td>\n",
       "      <td>3</td>\n",
       "      <td>3</td>\n",
       "      <td>1186.0</td>\n",
       "    </tr>\n",
       "    <tr>\n",
       "      <th>31</th>\n",
       "      <td>1005</td>\n",
       "      <td>67</td>\n",
       "      <td>NaT</td>\n",
       "      <td>Набережные Челны</td>\n",
       "      <td>Афанасий</td>\n",
       "      <td>Горлов</td>\n",
       "      <td>2018-01-25</td>\n",
       "      <td>smart</td>\n",
       "      <td>August</td>\n",
       "      <td>71.0</td>\n",
       "      <td>619.0</td>\n",
       "      <td>64.0</td>\n",
       "      <td>8.0</td>\n",
       "      <td>50</td>\n",
       "      <td>15.0</td>\n",
       "      <td>500</td>\n",
       "      <td>550</td>\n",
       "      <td>200</td>\n",
       "      <td>3</td>\n",
       "      <td>3</td>\n",
       "      <td>949.0</td>\n",
       "    </tr>\n",
       "    <tr>\n",
       "      <th>32</th>\n",
       "      <td>1005</td>\n",
       "      <td>67</td>\n",
       "      <td>NaT</td>\n",
       "      <td>Набережные Челны</td>\n",
       "      <td>Афанасий</td>\n",
       "      <td>Горлов</td>\n",
       "      <td>2018-01-25</td>\n",
       "      <td>smart</td>\n",
       "      <td>December</td>\n",
       "      <td>84.0</td>\n",
       "      <td>592.0</td>\n",
       "      <td>54.0</td>\n",
       "      <td>9.0</td>\n",
       "      <td>50</td>\n",
       "      <td>15.0</td>\n",
       "      <td>500</td>\n",
       "      <td>550</td>\n",
       "      <td>200</td>\n",
       "      <td>3</td>\n",
       "      <td>3</td>\n",
       "      <td>838.0</td>\n",
       "    </tr>\n",
       "    <tr>\n",
       "      <th>33</th>\n",
       "      <td>1005</td>\n",
       "      <td>67</td>\n",
       "      <td>NaT</td>\n",
       "      <td>Набережные Челны</td>\n",
       "      <td>Афанасий</td>\n",
       "      <td>Горлов</td>\n",
       "      <td>2018-01-25</td>\n",
       "      <td>smart</td>\n",
       "      <td>February</td>\n",
       "      <td>69.0</td>\n",
       "      <td>456.0</td>\n",
       "      <td>38.0</td>\n",
       "      <td>8.0</td>\n",
       "      <td>50</td>\n",
       "      <td>15.0</td>\n",
       "      <td>500</td>\n",
       "      <td>550</td>\n",
       "      <td>200</td>\n",
       "      <td>3</td>\n",
       "      <td>3</td>\n",
       "      <td>550.0</td>\n",
       "    </tr>\n",
       "    <tr>\n",
       "      <th>34</th>\n",
       "      <td>1005</td>\n",
       "      <td>67</td>\n",
       "      <td>NaT</td>\n",
       "      <td>Набережные Челны</td>\n",
       "      <td>Афанасий</td>\n",
       "      <td>Горлов</td>\n",
       "      <td>2018-01-25</td>\n",
       "      <td>smart</td>\n",
       "      <td>January</td>\n",
       "      <td>15.0</td>\n",
       "      <td>95.0</td>\n",
       "      <td>7.0</td>\n",
       "      <td>3.0</td>\n",
       "      <td>50</td>\n",
       "      <td>15.0</td>\n",
       "      <td>500</td>\n",
       "      <td>550</td>\n",
       "      <td>200</td>\n",
       "      <td>3</td>\n",
       "      <td>3</td>\n",
       "      <td>550.0</td>\n",
       "    </tr>\n",
       "    <tr>\n",
       "      <th>35</th>\n",
       "      <td>1005</td>\n",
       "      <td>67</td>\n",
       "      <td>NaT</td>\n",
       "      <td>Набережные Челны</td>\n",
       "      <td>Афанасий</td>\n",
       "      <td>Горлов</td>\n",
       "      <td>2018-01-25</td>\n",
       "      <td>smart</td>\n",
       "      <td>July</td>\n",
       "      <td>77.0</td>\n",
       "      <td>569.0</td>\n",
       "      <td>56.0</td>\n",
       "      <td>8.0</td>\n",
       "      <td>50</td>\n",
       "      <td>15.0</td>\n",
       "      <td>500</td>\n",
       "      <td>550</td>\n",
       "      <td>200</td>\n",
       "      <td>3</td>\n",
       "      <td>3</td>\n",
       "      <td>775.0</td>\n",
       "    </tr>\n",
       "    <tr>\n",
       "      <th>36</th>\n",
       "      <td>1005</td>\n",
       "      <td>67</td>\n",
       "      <td>NaT</td>\n",
       "      <td>Набережные Челны</td>\n",
       "      <td>Афанасий</td>\n",
       "      <td>Горлов</td>\n",
       "      <td>2018-01-25</td>\n",
       "      <td>smart</td>\n",
       "      <td>June</td>\n",
       "      <td>80.0</td>\n",
       "      <td>612.0</td>\n",
       "      <td>47.0</td>\n",
       "      <td>10.0</td>\n",
       "      <td>50</td>\n",
       "      <td>15.0</td>\n",
       "      <td>500</td>\n",
       "      <td>550</td>\n",
       "      <td>200</td>\n",
       "      <td>3</td>\n",
       "      <td>3</td>\n",
       "      <td>886.0</td>\n",
       "    </tr>\n",
       "    <tr>\n",
       "      <th>37</th>\n",
       "      <td>1005</td>\n",
       "      <td>67</td>\n",
       "      <td>NaT</td>\n",
       "      <td>Набережные Челны</td>\n",
       "      <td>Афанасий</td>\n",
       "      <td>Горлов</td>\n",
       "      <td>2018-01-25</td>\n",
       "      <td>smart</td>\n",
       "      <td>March</td>\n",
       "      <td>77.0</td>\n",
       "      <td>606.0</td>\n",
       "      <td>56.0</td>\n",
       "      <td>11.0</td>\n",
       "      <td>50</td>\n",
       "      <td>15.0</td>\n",
       "      <td>500</td>\n",
       "      <td>550</td>\n",
       "      <td>200</td>\n",
       "      <td>3</td>\n",
       "      <td>3</td>\n",
       "      <td>886.0</td>\n",
       "    </tr>\n",
       "    <tr>\n",
       "      <th>38</th>\n",
       "      <td>1005</td>\n",
       "      <td>67</td>\n",
       "      <td>NaT</td>\n",
       "      <td>Набережные Челны</td>\n",
       "      <td>Афанасий</td>\n",
       "      <td>Горлов</td>\n",
       "      <td>2018-01-25</td>\n",
       "      <td>smart</td>\n",
       "      <td>May</td>\n",
       "      <td>73.0</td>\n",
       "      <td>595.0</td>\n",
       "      <td>42.0</td>\n",
       "      <td>8.0</td>\n",
       "      <td>50</td>\n",
       "      <td>15.0</td>\n",
       "      <td>500</td>\n",
       "      <td>550</td>\n",
       "      <td>200</td>\n",
       "      <td>3</td>\n",
       "      <td>3</td>\n",
       "      <td>835.0</td>\n",
       "    </tr>\n",
       "    <tr>\n",
       "      <th>39</th>\n",
       "      <td>1005</td>\n",
       "      <td>67</td>\n",
       "      <td>NaT</td>\n",
       "      <td>Набережные Челны</td>\n",
       "      <td>Афанасий</td>\n",
       "      <td>Горлов</td>\n",
       "      <td>2018-01-25</td>\n",
       "      <td>smart</td>\n",
       "      <td>November</td>\n",
       "      <td>75.0</td>\n",
       "      <td>547.0</td>\n",
       "      <td>51.0</td>\n",
       "      <td>13.0</td>\n",
       "      <td>50</td>\n",
       "      <td>15.0</td>\n",
       "      <td>500</td>\n",
       "      <td>550</td>\n",
       "      <td>200</td>\n",
       "      <td>3</td>\n",
       "      <td>3</td>\n",
       "      <td>694.0</td>\n",
       "    </tr>\n",
       "    <tr>\n",
       "      <th>40</th>\n",
       "      <td>1005</td>\n",
       "      <td>67</td>\n",
       "      <td>NaT</td>\n",
       "      <td>Набережные Челны</td>\n",
       "      <td>Афанасий</td>\n",
       "      <td>Горлов</td>\n",
       "      <td>2018-01-25</td>\n",
       "      <td>smart</td>\n",
       "      <td>October</td>\n",
       "      <td>100.0</td>\n",
       "      <td>723.0</td>\n",
       "      <td>44.0</td>\n",
       "      <td>8.0</td>\n",
       "      <td>50</td>\n",
       "      <td>15.0</td>\n",
       "      <td>500</td>\n",
       "      <td>550</td>\n",
       "      <td>200</td>\n",
       "      <td>3</td>\n",
       "      <td>3</td>\n",
       "      <td>1219.0</td>\n",
       "    </tr>\n",
       "    <tr>\n",
       "      <th>41</th>\n",
       "      <td>1005</td>\n",
       "      <td>67</td>\n",
       "      <td>NaT</td>\n",
       "      <td>Набережные Челны</td>\n",
       "      <td>Афанасий</td>\n",
       "      <td>Горлов</td>\n",
       "      <td>2018-01-25</td>\n",
       "      <td>smart</td>\n",
       "      <td>September</td>\n",
       "      <td>66.0</td>\n",
       "      <td>479.0</td>\n",
       "      <td>52.0</td>\n",
       "      <td>7.0</td>\n",
       "      <td>50</td>\n",
       "      <td>15.0</td>\n",
       "      <td>500</td>\n",
       "      <td>550</td>\n",
       "      <td>200</td>\n",
       "      <td>3</td>\n",
       "      <td>3</td>\n",
       "      <td>556.0</td>\n",
       "    </tr>\n",
       "    <tr>\n",
       "      <th>42</th>\n",
       "      <td>1006</td>\n",
       "      <td>21</td>\n",
       "      <td>NaT</td>\n",
       "      <td>Ульяновск</td>\n",
       "      <td>Леонид</td>\n",
       "      <td>Ермолаев</td>\n",
       "      <td>2018-02-26</td>\n",
       "      <td>smart</td>\n",
       "      <td>April</td>\n",
       "      <td>47.0</td>\n",
       "      <td>356.0</td>\n",
       "      <td>NaN</td>\n",
       "      <td>14.0</td>\n",
       "      <td>50</td>\n",
       "      <td>15.0</td>\n",
       "      <td>500</td>\n",
       "      <td>550</td>\n",
       "      <td>200</td>\n",
       "      <td>3</td>\n",
       "      <td>3</td>\n",
       "      <td>550.0</td>\n",
       "    </tr>\n",
       "    <tr>\n",
       "      <th>43</th>\n",
       "      <td>1006</td>\n",
       "      <td>21</td>\n",
       "      <td>NaT</td>\n",
       "      <td>Ульяновск</td>\n",
       "      <td>Леонид</td>\n",
       "      <td>Ермолаев</td>\n",
       "      <td>2018-02-26</td>\n",
       "      <td>smart</td>\n",
       "      <td>August</td>\n",
       "      <td>42.0</td>\n",
       "      <td>275.0</td>\n",
       "      <td>NaN</td>\n",
       "      <td>19.0</td>\n",
       "      <td>50</td>\n",
       "      <td>15.0</td>\n",
       "      <td>500</td>\n",
       "      <td>550</td>\n",
       "      <td>200</td>\n",
       "      <td>3</td>\n",
       "      <td>3</td>\n",
       "      <td>1350.0</td>\n",
       "    </tr>\n",
       "    <tr>\n",
       "      <th>44</th>\n",
       "      <td>1006</td>\n",
       "      <td>21</td>\n",
       "      <td>NaT</td>\n",
       "      <td>Ульяновск</td>\n",
       "      <td>Леонид</td>\n",
       "      <td>Ермолаев</td>\n",
       "      <td>2018-02-26</td>\n",
       "      <td>smart</td>\n",
       "      <td>December</td>\n",
       "      <td>50.0</td>\n",
       "      <td>379.0</td>\n",
       "      <td>NaN</td>\n",
       "      <td>19.0</td>\n",
       "      <td>50</td>\n",
       "      <td>15.0</td>\n",
       "      <td>500</td>\n",
       "      <td>550</td>\n",
       "      <td>200</td>\n",
       "      <td>3</td>\n",
       "      <td>3</td>\n",
       "      <td>1350.0</td>\n",
       "    </tr>\n",
       "    <tr>\n",
       "      <th>45</th>\n",
       "      <td>1006</td>\n",
       "      <td>21</td>\n",
       "      <td>NaT</td>\n",
       "      <td>Ульяновск</td>\n",
       "      <td>Леонид</td>\n",
       "      <td>Ермолаев</td>\n",
       "      <td>2018-02-26</td>\n",
       "      <td>smart</td>\n",
       "      <td>February</td>\n",
       "      <td>3.0</td>\n",
       "      <td>42.0</td>\n",
       "      <td>NaN</td>\n",
       "      <td>2.0</td>\n",
       "      <td>50</td>\n",
       "      <td>15.0</td>\n",
       "      <td>500</td>\n",
       "      <td>550</td>\n",
       "      <td>200</td>\n",
       "      <td>3</td>\n",
       "      <td>3</td>\n",
       "      <td>550.0</td>\n",
       "    </tr>\n",
       "    <tr>\n",
       "      <th>46</th>\n",
       "      <td>1006</td>\n",
       "      <td>21</td>\n",
       "      <td>NaT</td>\n",
       "      <td>Ульяновск</td>\n",
       "      <td>Леонид</td>\n",
       "      <td>Ермолаев</td>\n",
       "      <td>2018-02-26</td>\n",
       "      <td>smart</td>\n",
       "      <td>July</td>\n",
       "      <td>49.0</td>\n",
       "      <td>316.0</td>\n",
       "      <td>NaN</td>\n",
       "      <td>20.0</td>\n",
       "      <td>50</td>\n",
       "      <td>15.0</td>\n",
       "      <td>500</td>\n",
       "      <td>550</td>\n",
       "      <td>200</td>\n",
       "      <td>3</td>\n",
       "      <td>3</td>\n",
       "      <td>1550.0</td>\n",
       "    </tr>\n",
       "    <tr>\n",
       "      <th>47</th>\n",
       "      <td>1006</td>\n",
       "      <td>21</td>\n",
       "      <td>NaT</td>\n",
       "      <td>Ульяновск</td>\n",
       "      <td>Леонид</td>\n",
       "      <td>Ермолаев</td>\n",
       "      <td>2018-02-26</td>\n",
       "      <td>smart</td>\n",
       "      <td>June</td>\n",
       "      <td>53.0</td>\n",
       "      <td>478.0</td>\n",
       "      <td>NaN</td>\n",
       "      <td>13.0</td>\n",
       "      <td>50</td>\n",
       "      <td>15.0</td>\n",
       "      <td>500</td>\n",
       "      <td>550</td>\n",
       "      <td>200</td>\n",
       "      <td>3</td>\n",
       "      <td>3</td>\n",
       "      <td>550.0</td>\n",
       "    </tr>\n",
       "    <tr>\n",
       "      <th>48</th>\n",
       "      <td>1006</td>\n",
       "      <td>21</td>\n",
       "      <td>NaT</td>\n",
       "      <td>Ульяновск</td>\n",
       "      <td>Леонид</td>\n",
       "      <td>Ермолаев</td>\n",
       "      <td>2018-02-26</td>\n",
       "      <td>smart</td>\n",
       "      <td>March</td>\n",
       "      <td>46.0</td>\n",
       "      <td>286.0</td>\n",
       "      <td>NaN</td>\n",
       "      <td>17.0</td>\n",
       "      <td>50</td>\n",
       "      <td>15.0</td>\n",
       "      <td>500</td>\n",
       "      <td>550</td>\n",
       "      <td>200</td>\n",
       "      <td>3</td>\n",
       "      <td>3</td>\n",
       "      <td>950.0</td>\n",
       "    </tr>\n",
       "    <tr>\n",
       "      <th>49</th>\n",
       "      <td>1006</td>\n",
       "      <td>21</td>\n",
       "      <td>NaT</td>\n",
       "      <td>Ульяновск</td>\n",
       "      <td>Леонид</td>\n",
       "      <td>Ермолаев</td>\n",
       "      <td>2018-02-26</td>\n",
       "      <td>smart</td>\n",
       "      <td>May</td>\n",
       "      <td>56.0</td>\n",
       "      <td>370.0</td>\n",
       "      <td>NaN</td>\n",
       "      <td>13.0</td>\n",
       "      <td>50</td>\n",
       "      <td>15.0</td>\n",
       "      <td>500</td>\n",
       "      <td>550</td>\n",
       "      <td>200</td>\n",
       "      <td>3</td>\n",
       "      <td>3</td>\n",
       "      <td>550.0</td>\n",
       "    </tr>\n",
       "  </tbody>\n",
       "</table>\n",
       "</div>"
      ],
      "text/plain": [
       "    user_id  age churn_date              city first_name  last_name  \\\n",
       "0      1000   52        NaT         Краснодар     Рафаил  Верещагин   \n",
       "1      1000   52        NaT         Краснодар     Рафаил  Верещагин   \n",
       "2      1000   52        NaT         Краснодар     Рафаил  Верещагин   \n",
       "3      1000   52        NaT         Краснодар     Рафаил  Верещагин   \n",
       "4      1000   52        NaT         Краснодар     Рафаил  Верещагин   \n",
       "5      1000   52        NaT         Краснодар     Рафаил  Верещагин   \n",
       "6      1000   52        NaT         Краснодар     Рафаил  Верещагин   \n",
       "7      1000   52        NaT         Краснодар     Рафаил  Верещагин   \n",
       "8      1001   41        NaT            Москва       Иван       Ежов   \n",
       "9      1001   41        NaT            Москва       Иван       Ежов   \n",
       "10     1002   59        NaT       Стерлитамак    Евгений  Абрамович   \n",
       "11     1002   59        NaT       Стерлитамак    Евгений  Абрамович   \n",
       "12     1002   59        NaT       Стерлитамак    Евгений  Абрамович   \n",
       "13     1002   59        NaT       Стерлитамак    Евгений  Абрамович   \n",
       "14     1002   59        NaT       Стерлитамак    Евгений  Абрамович   \n",
       "15     1002   59        NaT       Стерлитамак    Евгений  Абрамович   \n",
       "16     1002   59        NaT       Стерлитамак    Евгений  Абрамович   \n",
       "17     1003   23        NaT            Москва      Белла   Белякова   \n",
       "18     1003   23        NaT            Москва      Белла   Белякова   \n",
       "19     1003   23        NaT            Москва      Белла   Белякова   \n",
       "20     1003   23        NaT            Москва      Белла   Белякова   \n",
       "21     1003   23        NaT            Москва      Белла   Белякова   \n",
       "22     1004   68        NaT       Новокузнецк    Татьяна   Авдеенко   \n",
       "23     1004   68        NaT       Новокузнецк    Татьяна   Авдеенко   \n",
       "24     1004   68        NaT       Новокузнецк    Татьяна   Авдеенко   \n",
       "25     1004   68        NaT       Новокузнецк    Татьяна   Авдеенко   \n",
       "26     1004   68        NaT       Новокузнецк    Татьяна   Авдеенко   \n",
       "27     1004   68        NaT       Новокузнецк    Татьяна   Авдеенко   \n",
       "28     1004   68        NaT       Новокузнецк    Татьяна   Авдеенко   \n",
       "29     1004   68        NaT       Новокузнецк    Татьяна   Авдеенко   \n",
       "30     1005   67        NaT  Набережные Челны   Афанасий     Горлов   \n",
       "31     1005   67        NaT  Набережные Челны   Афанасий     Горлов   \n",
       "32     1005   67        NaT  Набережные Челны   Афанасий     Горлов   \n",
       "33     1005   67        NaT  Набережные Челны   Афанасий     Горлов   \n",
       "34     1005   67        NaT  Набережные Челны   Афанасий     Горлов   \n",
       "35     1005   67        NaT  Набережные Челны   Афанасий     Горлов   \n",
       "36     1005   67        NaT  Набережные Челны   Афанасий     Горлов   \n",
       "37     1005   67        NaT  Набережные Челны   Афанасий     Горлов   \n",
       "38     1005   67        NaT  Набережные Челны   Афанасий     Горлов   \n",
       "39     1005   67        NaT  Набережные Челны   Афанасий     Горлов   \n",
       "40     1005   67        NaT  Набережные Челны   Афанасий     Горлов   \n",
       "41     1005   67        NaT  Набережные Челны   Афанасий     Горлов   \n",
       "42     1006   21        NaT         Ульяновск     Леонид   Ермолаев   \n",
       "43     1006   21        NaT         Ульяновск     Леонид   Ермолаев   \n",
       "44     1006   21        NaT         Ульяновск     Леонид   Ермолаев   \n",
       "45     1006   21        NaT         Ульяновск     Леонид   Ермолаев   \n",
       "46     1006   21        NaT         Ульяновск     Леонид   Ермолаев   \n",
       "47     1006   21        NaT         Ульяновск     Леонид   Ермолаев   \n",
       "48     1006   21        NaT         Ульяновск     Леонид   Ермолаев   \n",
       "49     1006   21        NaT         Ульяновск     Леонид   Ермолаев   \n",
       "\n",
       "     reg_date tariff      month  calls_count  calls_sum  message_count  \\\n",
       "0  2018-05-25  ultra     August         52.0      408.0           81.0   \n",
       "1  2018-05-25  ultra   December         46.0      333.0           70.0   \n",
       "2  2018-05-25  ultra       July         47.0      340.0           75.0   \n",
       "3  2018-05-25  ultra       June         43.0      172.0           60.0   \n",
       "4  2018-05-25  ultra        May         22.0      159.0           22.0   \n",
       "5  2018-05-25  ultra   November         43.0      338.0           58.0   \n",
       "6  2018-05-25  ultra    October         57.0      350.0           73.0   \n",
       "7  2018-05-25  ultra  September         58.0      466.0           57.0   \n",
       "8  2018-11-01  smart   December         63.0      414.0            NaN   \n",
       "9  2018-11-01  smart   November         59.0      430.0            NaN   \n",
       "10 2018-06-17  smart     August         42.0      289.0           13.0   \n",
       "11 2018-06-17  smart   December         33.0      236.0           12.0   \n",
       "12 2018-06-17  smart       July         26.0      214.0           11.0   \n",
       "13 2018-06-17  smart       June         15.0      117.0            4.0   \n",
       "14 2018-06-17  smart   November         32.0      243.0           16.0   \n",
       "15 2018-06-17  smart    October         33.0      212.0           10.0   \n",
       "16 2018-06-17  smart  September         36.0      206.0            4.0   \n",
       "17 2018-08-17  ultra     August         55.0      380.0           37.0   \n",
       "18 2018-08-17  ultra   December        108.0      802.0           75.0   \n",
       "19 2018-08-17  ultra   November        115.0      824.0           94.0   \n",
       "20 2018-08-17  ultra    October        108.0      855.0           83.0   \n",
       "21 2018-08-17  ultra  September        134.0      961.0           91.0   \n",
       "22 2018-05-14  ultra     August         19.0      137.0          151.0   \n",
       "23 2018-05-14  ultra   December         21.0      130.0          162.0   \n",
       "24 2018-05-14  ultra       July         22.0      135.0          181.0   \n",
       "25 2018-05-14  ultra       June         31.0      171.0          134.0   \n",
       "26 2018-05-14  ultra        May          9.0       35.0           95.0   \n",
       "27 2018-05-14  ultra   November         19.0      117.0          158.0   \n",
       "28 2018-05-14  ultra    October         29.0      145.0          165.0   \n",
       "29 2018-05-14  ultra  September         26.0      117.0          146.0   \n",
       "30 2018-01-25  smart      April        101.0      712.0           41.0   \n",
       "31 2018-01-25  smart     August         71.0      619.0           64.0   \n",
       "32 2018-01-25  smart   December         84.0      592.0           54.0   \n",
       "33 2018-01-25  smart   February         69.0      456.0           38.0   \n",
       "34 2018-01-25  smart    January         15.0       95.0            7.0   \n",
       "35 2018-01-25  smart       July         77.0      569.0           56.0   \n",
       "36 2018-01-25  smart       June         80.0      612.0           47.0   \n",
       "37 2018-01-25  smart      March         77.0      606.0           56.0   \n",
       "38 2018-01-25  smart        May         73.0      595.0           42.0   \n",
       "39 2018-01-25  smart   November         75.0      547.0           51.0   \n",
       "40 2018-01-25  smart    October        100.0      723.0           44.0   \n",
       "41 2018-01-25  smart  September         66.0      479.0           52.0   \n",
       "42 2018-02-26  smart      April         47.0      356.0            NaN   \n",
       "43 2018-02-26  smart     August         42.0      275.0            NaN   \n",
       "44 2018-02-26  smart   December         50.0      379.0            NaN   \n",
       "45 2018-02-26  smart   February          3.0       42.0            NaN   \n",
       "46 2018-02-26  smart       July         49.0      316.0            NaN   \n",
       "47 2018-02-26  smart       June         53.0      478.0            NaN   \n",
       "48 2018-02-26  smart      March         46.0      286.0            NaN   \n",
       "49 2018-02-26  smart        May         56.0      370.0            NaN   \n",
       "\n",
       "    total_traffic  messages_included  gb_per_month_included  minutes_included  \\\n",
       "0            14.0               1000                   30.0              3000   \n",
       "1            10.0               1000                   30.0              3000   \n",
       "2            14.0               1000                   30.0              3000   \n",
       "3            23.0               1000                   30.0              3000   \n",
       "4             3.0               1000                   30.0              3000   \n",
       "5            15.0               1000                   30.0              3000   \n",
       "6            15.0               1000                   30.0              3000   \n",
       "7            15.0               1000                   30.0              3000   \n",
       "8            14.0                 50                   15.0               500   \n",
       "9            18.0                 50                   15.0               500   \n",
       "10           20.0                 50                   15.0               500   \n",
       "11           18.0                 50                   15.0               500   \n",
       "12           18.0                 50                   15.0               500   \n",
       "13           11.0                 50                   15.0               500   \n",
       "14           19.0                 50                   15.0               500   \n",
       "15           14.0                 50                   15.0               500   \n",
       "16           17.0                 50                   15.0               500   \n",
       "17            9.0               1000                   30.0              3000   \n",
       "18           10.0               1000                   30.0              3000   \n",
       "19           12.0               1000                   30.0              3000   \n",
       "20           15.0               1000                   30.0              3000   \n",
       "21           13.0               1000                   30.0              3000   \n",
       "22           28.0               1000                   30.0              3000   \n",
       "23           18.0               1000                   30.0              3000   \n",
       "24           22.0               1000                   30.0              3000   \n",
       "25           18.0               1000                   30.0              3000   \n",
       "26           14.0               1000                   30.0              3000   \n",
       "27           16.0               1000                   30.0              3000   \n",
       "28           19.0               1000                   30.0              3000   \n",
       "29           15.0               1000                   30.0              3000   \n",
       "30           10.0                 50                   15.0               500   \n",
       "31            8.0                 50                   15.0               500   \n",
       "32            9.0                 50                   15.0               500   \n",
       "33            8.0                 50                   15.0               500   \n",
       "34            3.0                 50                   15.0               500   \n",
       "35            8.0                 50                   15.0               500   \n",
       "36           10.0                 50                   15.0               500   \n",
       "37           11.0                 50                   15.0               500   \n",
       "38            8.0                 50                   15.0               500   \n",
       "39           13.0                 50                   15.0               500   \n",
       "40            8.0                 50                   15.0               500   \n",
       "41            7.0                 50                   15.0               500   \n",
       "42           14.0                 50                   15.0               500   \n",
       "43           19.0                 50                   15.0               500   \n",
       "44           19.0                 50                   15.0               500   \n",
       "45            2.0                 50                   15.0               500   \n",
       "46           20.0                 50                   15.0               500   \n",
       "47           13.0                 50                   15.0               500   \n",
       "48           17.0                 50                   15.0               500   \n",
       "49           13.0                 50                   15.0               500   \n",
       "\n",
       "    rub_monthly_fee  rub_per_gb  rub_per_message  rub_per_minute  total_gain  \n",
       "0              1950         150                1               1      1950.0  \n",
       "1              1950         150                1               1      1950.0  \n",
       "2              1950         150                1               1      1950.0  \n",
       "3              1950         150                1               1      1950.0  \n",
       "4              1950         150                1               1      1950.0  \n",
       "5              1950         150                1               1      1950.0  \n",
       "6              1950         150                1               1      1950.0  \n",
       "7              1950         150                1               1      1950.0  \n",
       "8               550         200                3               3       550.0  \n",
       "9               550         200                3               3      1150.0  \n",
       "10              550         200                3               3      1550.0  \n",
       "11              550         200                3               3      1150.0  \n",
       "12              550         200                3               3      1150.0  \n",
       "13              550         200                3               3       550.0  \n",
       "14              550         200                3               3      1350.0  \n",
       "15              550         200                3               3       550.0  \n",
       "16              550         200                3               3       950.0  \n",
       "17             1950         150                1               1      1950.0  \n",
       "18             1950         150                1               1      1950.0  \n",
       "19             1950         150                1               1      1950.0  \n",
       "20             1950         150                1               1      1950.0  \n",
       "21             1950         150                1               1      1950.0  \n",
       "22             1950         150                1               1      1950.0  \n",
       "23             1950         150                1               1      1950.0  \n",
       "24             1950         150                1               1      1950.0  \n",
       "25             1950         150                1               1      1950.0  \n",
       "26             1950         150                1               1      1950.0  \n",
       "27             1950         150                1               1      1950.0  \n",
       "28             1950         150                1               1      1950.0  \n",
       "29             1950         150                1               1      1950.0  \n",
       "30              550         200                3               3      1186.0  \n",
       "31              550         200                3               3       949.0  \n",
       "32              550         200                3               3       838.0  \n",
       "33              550         200                3               3       550.0  \n",
       "34              550         200                3               3       550.0  \n",
       "35              550         200                3               3       775.0  \n",
       "36              550         200                3               3       886.0  \n",
       "37              550         200                3               3       886.0  \n",
       "38              550         200                3               3       835.0  \n",
       "39              550         200                3               3       694.0  \n",
       "40              550         200                3               3      1219.0  \n",
       "41              550         200                3               3       556.0  \n",
       "42              550         200                3               3       550.0  \n",
       "43              550         200                3               3      1350.0  \n",
       "44              550         200                3               3      1350.0  \n",
       "45              550         200                3               3       550.0  \n",
       "46              550         200                3               3      1550.0  \n",
       "47              550         200                3               3       550.0  \n",
       "48              550         200                3               3       950.0  \n",
       "49              550         200                3               3       550.0  "
      ]
     },
     "execution_count": 41,
     "metadata": {},
     "output_type": "execute_result"
    }
   ],
   "source": [
    "data.head(50)"
   ]
  },
  {
   "cell_type": "markdown",
   "metadata": {},
   "source": [
    "Посмотрим распределение значений помесячной выручки"
   ]
  },
  {
   "cell_type": "code",
   "execution_count": 42,
   "metadata": {},
   "outputs": [
    {
     "data": {
      "text/plain": [
       "1950.0    905\n",
       "550.0     567\n",
       "950.0      87\n",
       "1150.0     80\n",
       "1350.0     78\n",
       "         ... \n",
       "2247.0      1\n",
       "3083.0      1\n",
       "2773.0      1\n",
       "1116.0      1\n",
       "1513.0      1\n",
       "Name: total_gain, Length: 778, dtype: int64"
      ]
     },
     "execution_count": 42,
     "metadata": {},
     "output_type": "execute_result"
    }
   ],
   "source": [
    "data['total_gain'].value_counts()"
   ]
  },
  {
   "cell_type": "markdown",
   "metadata": {},
   "source": [
    "### Выводы"
   ]
  },
  {
   "cell_type": "markdown",
   "metadata": {},
   "source": [
    "Таким образом получили датафрейм **data** с небходимыми параметрами, разбитыми по месяцам."
   ]
  },
  {
   "cell_type": "markdown",
   "metadata": {},
   "source": [
    "## Анализ данных"
   ]
  },
  {
   "cell_type": "markdown",
   "metadata": {},
   "source": [
    "Проанализируем поведение пользователей тарифами, посмотрев как много они разговаривают, отправляют сообщений и тратят интернет-трафика.\n",
    "\n",
    "Предварительно отфильтруем значения в датасете для каждого тарифа и запишем  отдельные переменные."
   ]
  },
  {
   "cell_type": "code",
   "execution_count": 43,
   "metadata": {},
   "outputs": [],
   "source": [
    "data_smart = data.query('tariff == \"smart\"')\n",
    "data_ultra = data.query('tariff == \"ultra\"')"
   ]
  },
  {
   "cell_type": "markdown",
   "metadata": {},
   "source": [
    "### Анализ потраченных минут"
   ]
  },
  {
   "cell_type": "markdown",
   "metadata": {},
   "source": [
    "Посмотрим, как меняется объем потраченных минут в течение года. Для этого построим графики для каждого тарифа."
   ]
  },
  {
   "cell_type": "code",
   "execution_count": 44,
   "metadata": {},
   "outputs": [
    {
     "data": {
      "image/png": "[encoded data removed]",
      "text/plain": [
       "<Figure size 1080x360 with 1 Axes>"
      ]
     },
     "metadata": {
      "needs_background": "light"
     },
     "output_type": "display_data"
    }
   ],
   "source": [
    "cats_month = [ 'January', 'February', 'March', 'April', 'May', 'June', 'July', 'August'\n",
    "              , 'September', 'October', 'November', 'December']\n",
    "\n",
    "smart_calls = (data_smart.pivot_table(index='month', values='calls_sum')\n",
    "               .reindex(cats_month)\n",
    "               .plot(y='calls_sum',\n",
    "                     figsize=(15,5),\n",
    "                     grid=True,\n",
    "                     label='smart',\n",
    "                     color='r',\n",
    "                     title='Изменение объема потраченных минут в течение года по тарифам'))\n",
    "\n",
    "(data_ultra.pivot_table(index='month', values='calls_sum')\n",
    ".reindex(cats_month)\n",
    ".plot(y='calls_sum',\n",
    "      ax=smart_calls,\n",
    "      figsize=(15,5),\n",
    "      grid=True,\n",
    "      label='ultra',\n",
    "      legend=True, \n",
    "      xlabel=''));"
   ]
  },
  {
   "cell_type": "markdown",
   "metadata": {},
   "source": [
    "Видим, что: \n",
    "- на тарифе ultra абоненты выговаривают больше минут, чем абоненты тарифа smart\n",
    "- общая длительность звонков в течение года только растет.\n",
    "\n",
    "Исклчение - февраль. Почему-то в феврале абоненты ultra разговоривали столько же , сколько и абоненты smart."
   ]
  },
  {
   "cell_type": "markdown",
   "metadata": {},
   "source": [
    "Посчитаем среднее, дисперсию и стандартное отклонение для каждого тарифа."
   ]
  },
  {
   "cell_type": "code",
   "execution_count": 45,
   "metadata": {},
   "outputs": [
    {
     "data": {
      "text/html": [
       "<div>\n",
       "<style scoped>\n",
       "    .dataframe tbody tr th:only-of-type {\n",
       "        vertical-align: middle;\n",
       "    }\n",
       "\n",
       "    .dataframe tbody tr th {\n",
       "        vertical-align: top;\n",
       "    }\n",
       "\n",
       "    .dataframe thead tr th {\n",
       "        text-align: left;\n",
       "    }\n",
       "\n",
       "    .dataframe thead tr:last-of-type th {\n",
       "        text-align: right;\n",
       "    }\n",
       "</style>\n",
       "<table border=\"1\" class=\"dataframe\">\n",
       "  <thead>\n",
       "    <tr>\n",
       "      <th></th>\n",
       "      <th>mean</th>\n",
       "      <th>var</th>\n",
       "      <th>std</th>\n",
       "    </tr>\n",
       "    <tr>\n",
       "      <th></th>\n",
       "      <th>calls_sum</th>\n",
       "      <th>calls_sum</th>\n",
       "      <th>calls_sum</th>\n",
       "    </tr>\n",
       "    <tr>\n",
       "      <th>tariff</th>\n",
       "      <th></th>\n",
       "      <th></th>\n",
       "      <th></th>\n",
       "    </tr>\n",
       "  </thead>\n",
       "  <tbody>\n",
       "    <tr>\n",
       "      <th>smart</th>\n",
       "      <td>419.062978</td>\n",
       "      <td>35844.189551</td>\n",
       "      <td>189.325618</td>\n",
       "    </tr>\n",
       "    <tr>\n",
       "      <th>ultra</th>\n",
       "      <td>545.451104</td>\n",
       "      <td>94203.418396</td>\n",
       "      <td>306.925754</td>\n",
       "    </tr>\n",
       "  </tbody>\n",
       "</table>\n",
       "</div>"
      ],
      "text/plain": [
       "              mean           var         std\n",
       "         calls_sum     calls_sum   calls_sum\n",
       "tariff                                      \n",
       "smart   419.062978  35844.189551  189.325618\n",
       "ultra   545.451104  94203.418396  306.925754"
      ]
     },
     "execution_count": 45,
     "metadata": {},
     "output_type": "execute_result"
    }
   ],
   "source": [
    "data.pivot_table(index='tariff', values='calls_sum', aggfunc=['mean',np.var,np.std])"
   ]
  },
  {
   "cell_type": "markdown",
   "metadata": {},
   "source": [
    "Средние значения по тарифам подтверждают увиденное на графике."
   ]
  },
  {
   "cell_type": "markdown",
   "metadata": {},
   "source": [
    "Далее посмотрим распределение значений на гистаграмме."
   ]
  },
  {
   "cell_type": "code",
   "execution_count": 46,
   "metadata": {},
   "outputs": [
    {
     "data": {
      "image/png": "[encoded data removed]",
      "text/plain": [
       "<Figure size 1080x360 with 1 Axes>"
      ]
     },
     "metadata": {
      "needs_background": "light"
     },
     "output_type": "display_data"
    }
   ],
   "source": [
    "smart_calls_hist = (data_smart.plot(y='calls_sum',\n",
    "                                    figsize=(15,5),\n",
    "                                    grid=True,\n",
    "                                    label='smart',\n",
    "                                    kind='hist',\n",
    "                                    alpha=0.9,\n",
    "                                    bins=10,\n",
    "                                    color='r', \n",
    "                                    title='Распределение объема потраченных минут по тарифам'))\n",
    "\n",
    "(data_ultra.plot(y='calls_sum',\n",
    "                 kind='hist',\n",
    "                 ax=smart_calls_hist,\n",
    "                 figsize=(15,5),\n",
    "                 grid=True,\n",
    "                 label='ultra',\n",
    "                 legend=True,\n",
    "                 alpha=0.5,\n",
    "                 bins=10));"
   ]
  },
  {
   "cell_type": "markdown",
   "metadata": {},
   "source": [
    "Видим, что оба распределения близки к нормальному и своей формой напоминают колокол.\n",
    "Общая длительость звонков у абонентов  тарифа ultra больше, поэтому гистограмма такая растянутая. При этом она более сплюснутая, т.к.пользователей тарифа ultra меньше.\n",
    "\n",
    "Большая часть абонентов тарифа smart разговаривают в промежутке от примерно 400 до 530 минут в месяц.\n",
    "У абонентов тарифа ultra абоненты больше любят поговорить. У них в месяц потрачено от 490 до 620 минут."
   ]
  },
  {
   "cell_type": "markdown",
   "metadata": {},
   "source": [
    "### Анализ количества отправленных сообщений"
   ]
  },
  {
   "cell_type": "markdown",
   "metadata": {},
   "source": [
    "Посмотрим, как меняется объем отправленных сообщений в течение года. Для этого построим графики для каждого тарифа."
   ]
  },
  {
   "cell_type": "code",
   "execution_count": 47,
   "metadata": {},
   "outputs": [
    {
     "data": {
      "image/png": "[encoded data removed]",
      "text/plain": [
       "<Figure size 1080x360 with 1 Axes>"
      ]
     },
     "metadata": {
      "needs_background": "light"
     },
     "output_type": "display_data"
    }
   ],
   "source": [
    "smart_messages = (data_smart.pivot_table(index='month', values='message_count')\n",
    "                   .reindex(cats_month)\n",
    "                   .plot(y='message_count',\n",
    "                         figsize=(15,5),\n",
    "                         grid=True,\n",
    "                         label='smart',\n",
    "                         color='r',\n",
    "                         title='Изменение объема отправленных сообщений в течение года'))\n",
    "\n",
    "(data_ultra.pivot_table(index='month', values='message_count')\n",
    ".reindex(cats_month)\n",
    ".plot(y='message_count',\n",
    "      ax=smart_messages,\n",
    "      figsize=(15,5),\n",
    "      grid=True,\n",
    "      label='ultra',\n",
    "      legend=True,\n",
    "      xlabel=''));"
   ]
  },
  {
   "cell_type": "markdown",
   "metadata": {},
   "source": [
    "Видим, схожую ситуацию со звонками: \n",
    "- на тарифе ultra абоненты отправляют больше сообщений, чем абоненты тарифа smart\n",
    "- общее количество сообщений в течение года растет у абонентов ultra. У smart с мая количество сообщений почти не меняется.\n",
    "\n",
    "И снова февраль. Посмотрим поподробнее."
   ]
  },
  {
   "cell_type": "code",
   "execution_count": 48,
   "metadata": {},
   "outputs": [
    {
     "data": {
      "text/html": [
       "<div>\n",
       "<style scoped>\n",
       "    .dataframe tbody tr th:only-of-type {\n",
       "        vertical-align: middle;\n",
       "    }\n",
       "\n",
       "    .dataframe tbody tr th {\n",
       "        vertical-align: top;\n",
       "    }\n",
       "\n",
       "    .dataframe thead th {\n",
       "        text-align: right;\n",
       "    }\n",
       "</style>\n",
       "<table border=\"1\" class=\"dataframe\">\n",
       "  <thead>\n",
       "    <tr style=\"text-align: right;\">\n",
       "      <th></th>\n",
       "      <th>user_id</th>\n",
       "      <th>age</th>\n",
       "      <th>churn_date</th>\n",
       "      <th>city</th>\n",
       "      <th>first_name</th>\n",
       "      <th>last_name</th>\n",
       "      <th>reg_date</th>\n",
       "      <th>tariff</th>\n",
       "      <th>month</th>\n",
       "      <th>calls_count</th>\n",
       "      <th>calls_sum</th>\n",
       "      <th>message_count</th>\n",
       "      <th>total_traffic</th>\n",
       "      <th>messages_included</th>\n",
       "      <th>gb_per_month_included</th>\n",
       "      <th>minutes_included</th>\n",
       "      <th>rub_monthly_fee</th>\n",
       "      <th>rub_per_gb</th>\n",
       "      <th>rub_per_message</th>\n",
       "      <th>rub_per_minute</th>\n",
       "      <th>total_gain</th>\n",
       "    </tr>\n",
       "  </thead>\n",
       "  <tbody>\n",
       "    <tr>\n",
       "      <th>559</th>\n",
       "      <td>1089</td>\n",
       "      <td>19</td>\n",
       "      <td>NaT</td>\n",
       "      <td>Иркутск</td>\n",
       "      <td>Ксения</td>\n",
       "      <td>Нечаева</td>\n",
       "      <td>2018-02-24</td>\n",
       "      <td>ultra</td>\n",
       "      <td>February</td>\n",
       "      <td>2.0</td>\n",
       "      <td>5.0</td>\n",
       "      <td>27.0</td>\n",
       "      <td>3.0</td>\n",
       "      <td>1000</td>\n",
       "      <td>30.0</td>\n",
       "      <td>3000</td>\n",
       "      <td>1950</td>\n",
       "      <td>150</td>\n",
       "      <td>1</td>\n",
       "      <td>1</td>\n",
       "      <td>1950.0</td>\n",
       "    </tr>\n",
       "    <tr>\n",
       "      <th>651</th>\n",
       "      <td>1104</td>\n",
       "      <td>60</td>\n",
       "      <td>NaT</td>\n",
       "      <td>Нижний Тагил</td>\n",
       "      <td>Габриэль</td>\n",
       "      <td>Поляков</td>\n",
       "      <td>2018-02-21</td>\n",
       "      <td>ultra</td>\n",
       "      <td>February</td>\n",
       "      <td>18.0</td>\n",
       "      <td>157.0</td>\n",
       "      <td>18.0</td>\n",
       "      <td>2.0</td>\n",
       "      <td>1000</td>\n",
       "      <td>30.0</td>\n",
       "      <td>3000</td>\n",
       "      <td>1950</td>\n",
       "      <td>150</td>\n",
       "      <td>1</td>\n",
       "      <td>1</td>\n",
       "      <td>1950.0</td>\n",
       "    </tr>\n",
       "    <tr>\n",
       "      <th>752</th>\n",
       "      <td>1120</td>\n",
       "      <td>25</td>\n",
       "      <td>NaT</td>\n",
       "      <td>Краснодар</td>\n",
       "      <td>Агнесса</td>\n",
       "      <td>Абдулина</td>\n",
       "      <td>2018-01-24</td>\n",
       "      <td>ultra</td>\n",
       "      <td>February</td>\n",
       "      <td>27.0</td>\n",
       "      <td>162.0</td>\n",
       "      <td>NaN</td>\n",
       "      <td>5.0</td>\n",
       "      <td>1000</td>\n",
       "      <td>30.0</td>\n",
       "      <td>3000</td>\n",
       "      <td>1950</td>\n",
       "      <td>150</td>\n",
       "      <td>1</td>\n",
       "      <td>1</td>\n",
       "      <td>1950.0</td>\n",
       "    </tr>\n",
       "    <tr>\n",
       "      <th>792</th>\n",
       "      <td>1126</td>\n",
       "      <td>71</td>\n",
       "      <td>NaT</td>\n",
       "      <td>Санкт-Петербург</td>\n",
       "      <td>Яна</td>\n",
       "      <td>Арсенкова</td>\n",
       "      <td>2018-01-19</td>\n",
       "      <td>ultra</td>\n",
       "      <td>February</td>\n",
       "      <td>81.0</td>\n",
       "      <td>531.0</td>\n",
       "      <td>2.0</td>\n",
       "      <td>20.0</td>\n",
       "      <td>1000</td>\n",
       "      <td>30.0</td>\n",
       "      <td>3000</td>\n",
       "      <td>1950</td>\n",
       "      <td>150</td>\n",
       "      <td>1</td>\n",
       "      <td>1</td>\n",
       "      <td>1950.0</td>\n",
       "    </tr>\n",
       "    <tr>\n",
       "      <th>945</th>\n",
       "      <td>1152</td>\n",
       "      <td>44</td>\n",
       "      <td>NaT</td>\n",
       "      <td>Мурманск</td>\n",
       "      <td>Марина</td>\n",
       "      <td>Щербакова</td>\n",
       "      <td>2018-02-05</td>\n",
       "      <td>ultra</td>\n",
       "      <td>February</td>\n",
       "      <td>34.0</td>\n",
       "      <td>172.0</td>\n",
       "      <td>NaN</td>\n",
       "      <td>17.0</td>\n",
       "      <td>1000</td>\n",
       "      <td>30.0</td>\n",
       "      <td>3000</td>\n",
       "      <td>1950</td>\n",
       "      <td>150</td>\n",
       "      <td>1</td>\n",
       "      <td>1</td>\n",
       "      <td>1950.0</td>\n",
       "    </tr>\n",
       "    <tr>\n",
       "      <th>1041</th>\n",
       "      <td>1168</td>\n",
       "      <td>28</td>\n",
       "      <td>NaT</td>\n",
       "      <td>Кострома</td>\n",
       "      <td>Лилия</td>\n",
       "      <td>Ананьева</td>\n",
       "      <td>2018-01-24</td>\n",
       "      <td>ultra</td>\n",
       "      <td>February</td>\n",
       "      <td>123.0</td>\n",
       "      <td>884.0</td>\n",
       "      <td>47.0</td>\n",
       "      <td>19.0</td>\n",
       "      <td>1000</td>\n",
       "      <td>30.0</td>\n",
       "      <td>3000</td>\n",
       "      <td>1950</td>\n",
       "      <td>150</td>\n",
       "      <td>1</td>\n",
       "      <td>1</td>\n",
       "      <td>1950.0</td>\n",
       "    </tr>\n",
       "    <tr>\n",
       "      <th>1142</th>\n",
       "      <td>1180</td>\n",
       "      <td>27</td>\n",
       "      <td>NaT</td>\n",
       "      <td>Москва</td>\n",
       "      <td>Лев</td>\n",
       "      <td>Мишин</td>\n",
       "      <td>2018-02-02</td>\n",
       "      <td>ultra</td>\n",
       "      <td>February</td>\n",
       "      <td>6.0</td>\n",
       "      <td>54.0</td>\n",
       "      <td>16.0</td>\n",
       "      <td>21.0</td>\n",
       "      <td>1000</td>\n",
       "      <td>30.0</td>\n",
       "      <td>3000</td>\n",
       "      <td>1950</td>\n",
       "      <td>150</td>\n",
       "      <td>1</td>\n",
       "      <td>1</td>\n",
       "      <td>1950.0</td>\n",
       "    </tr>\n",
       "    <tr>\n",
       "      <th>1496</th>\n",
       "      <td>1240</td>\n",
       "      <td>30</td>\n",
       "      <td>NaT</td>\n",
       "      <td>Воронеж</td>\n",
       "      <td>Зинаида</td>\n",
       "      <td>Шарова</td>\n",
       "      <td>2018-02-27</td>\n",
       "      <td>ultra</td>\n",
       "      <td>February</td>\n",
       "      <td>2.0</td>\n",
       "      <td>0.0</td>\n",
       "      <td>NaN</td>\n",
       "      <td>1.0</td>\n",
       "      <td>1000</td>\n",
       "      <td>30.0</td>\n",
       "      <td>3000</td>\n",
       "      <td>1950</td>\n",
       "      <td>150</td>\n",
       "      <td>1</td>\n",
       "      <td>1</td>\n",
       "      <td>1950.0</td>\n",
       "    </tr>\n",
       "    <tr>\n",
       "      <th>1586</th>\n",
       "      <td>1254</td>\n",
       "      <td>75</td>\n",
       "      <td>2018-08-17</td>\n",
       "      <td>Москва</td>\n",
       "      <td>Александра</td>\n",
       "      <td>Сухарева</td>\n",
       "      <td>2018-01-04</td>\n",
       "      <td>ultra</td>\n",
       "      <td>February</td>\n",
       "      <td>67.0</td>\n",
       "      <td>525.0</td>\n",
       "      <td>NaN</td>\n",
       "      <td>24.0</td>\n",
       "      <td>1000</td>\n",
       "      <td>30.0</td>\n",
       "      <td>3000</td>\n",
       "      <td>1950</td>\n",
       "      <td>150</td>\n",
       "      <td>1</td>\n",
       "      <td>1</td>\n",
       "      <td>1950.0</td>\n",
       "    </tr>\n",
       "    <tr>\n",
       "      <th>1594</th>\n",
       "      <td>1255</td>\n",
       "      <td>40</td>\n",
       "      <td>2018-09-02</td>\n",
       "      <td>Саранск</td>\n",
       "      <td>Серафима</td>\n",
       "      <td>Пономарева</td>\n",
       "      <td>2018-02-19</td>\n",
       "      <td>ultra</td>\n",
       "      <td>February</td>\n",
       "      <td>9.0</td>\n",
       "      <td>89.0</td>\n",
       "      <td>NaN</td>\n",
       "      <td>15.0</td>\n",
       "      <td>1000</td>\n",
       "      <td>30.0</td>\n",
       "      <td>3000</td>\n",
       "      <td>1950</td>\n",
       "      <td>150</td>\n",
       "      <td>1</td>\n",
       "      <td>1</td>\n",
       "      <td>1950.0</td>\n",
       "    </tr>\n",
       "    <tr>\n",
       "      <th>1728</th>\n",
       "      <td>1277</td>\n",
       "      <td>30</td>\n",
       "      <td>NaT</td>\n",
       "      <td>Новосибирск</td>\n",
       "      <td>Валерия</td>\n",
       "      <td>Андреенко</td>\n",
       "      <td>2018-02-19</td>\n",
       "      <td>ultra</td>\n",
       "      <td>February</td>\n",
       "      <td>17.0</td>\n",
       "      <td>164.0</td>\n",
       "      <td>48.0</td>\n",
       "      <td>5.0</td>\n",
       "      <td>1000</td>\n",
       "      <td>30.0</td>\n",
       "      <td>3000</td>\n",
       "      <td>1950</td>\n",
       "      <td>150</td>\n",
       "      <td>1</td>\n",
       "      <td>1</td>\n",
       "      <td>1950.0</td>\n",
       "    </tr>\n",
       "    <tr>\n",
       "      <th>1828</th>\n",
       "      <td>1292</td>\n",
       "      <td>63</td>\n",
       "      <td>NaT</td>\n",
       "      <td>Красноярск</td>\n",
       "      <td>Веселина</td>\n",
       "      <td>Алексеенко</td>\n",
       "      <td>2018-02-21</td>\n",
       "      <td>ultra</td>\n",
       "      <td>February</td>\n",
       "      <td>8.0</td>\n",
       "      <td>58.0</td>\n",
       "      <td>NaN</td>\n",
       "      <td>8.0</td>\n",
       "      <td>1000</td>\n",
       "      <td>30.0</td>\n",
       "      <td>3000</td>\n",
       "      <td>1950</td>\n",
       "      <td>150</td>\n",
       "      <td>1</td>\n",
       "      <td>1</td>\n",
       "      <td>1950.0</td>\n",
       "    </tr>\n",
       "    <tr>\n",
       "      <th>1842</th>\n",
       "      <td>1294</td>\n",
       "      <td>66</td>\n",
       "      <td>NaT</td>\n",
       "      <td>Владивосток</td>\n",
       "      <td>Дебора</td>\n",
       "      <td>Асафьева</td>\n",
       "      <td>2018-02-20</td>\n",
       "      <td>ultra</td>\n",
       "      <td>February</td>\n",
       "      <td>11.0</td>\n",
       "      <td>60.0</td>\n",
       "      <td>5.0</td>\n",
       "      <td>7.0</td>\n",
       "      <td>1000</td>\n",
       "      <td>30.0</td>\n",
       "      <td>3000</td>\n",
       "      <td>1950</td>\n",
       "      <td>150</td>\n",
       "      <td>1</td>\n",
       "      <td>1</td>\n",
       "      <td>1950.0</td>\n",
       "    </tr>\n",
       "    <tr>\n",
       "      <th>2063</th>\n",
       "      <td>1330</td>\n",
       "      <td>65</td>\n",
       "      <td>NaT</td>\n",
       "      <td>Нижний Новгород</td>\n",
       "      <td>Изольда</td>\n",
       "      <td>Алфимова</td>\n",
       "      <td>2018-02-02</td>\n",
       "      <td>ultra</td>\n",
       "      <td>February</td>\n",
       "      <td>72.0</td>\n",
       "      <td>514.0</td>\n",
       "      <td>56.0</td>\n",
       "      <td>32.0</td>\n",
       "      <td>1000</td>\n",
       "      <td>30.0</td>\n",
       "      <td>3000</td>\n",
       "      <td>1950</td>\n",
       "      <td>150</td>\n",
       "      <td>1</td>\n",
       "      <td>1</td>\n",
       "      <td>2250.0</td>\n",
       "    </tr>\n",
       "    <tr>\n",
       "      <th>2341</th>\n",
       "      <td>1375</td>\n",
       "      <td>53</td>\n",
       "      <td>NaT</td>\n",
       "      <td>Пенза</td>\n",
       "      <td>Мария</td>\n",
       "      <td>Акимычева</td>\n",
       "      <td>2018-01-04</td>\n",
       "      <td>ultra</td>\n",
       "      <td>February</td>\n",
       "      <td>125.0</td>\n",
       "      <td>919.0</td>\n",
       "      <td>59.0</td>\n",
       "      <td>12.0</td>\n",
       "      <td>1000</td>\n",
       "      <td>30.0</td>\n",
       "      <td>3000</td>\n",
       "      <td>1950</td>\n",
       "      <td>150</td>\n",
       "      <td>1</td>\n",
       "      <td>1</td>\n",
       "      <td>1950.0</td>\n",
       "    </tr>\n",
       "    <tr>\n",
       "      <th>2361</th>\n",
       "      <td>1377</td>\n",
       "      <td>59</td>\n",
       "      <td>NaT</td>\n",
       "      <td>Брянск</td>\n",
       "      <td>Альфред</td>\n",
       "      <td>Семин</td>\n",
       "      <td>2018-02-25</td>\n",
       "      <td>ultra</td>\n",
       "      <td>February</td>\n",
       "      <td>23.0</td>\n",
       "      <td>179.0</td>\n",
       "      <td>2.0</td>\n",
       "      <td>NaN</td>\n",
       "      <td>1000</td>\n",
       "      <td>30.0</td>\n",
       "      <td>3000</td>\n",
       "      <td>1950</td>\n",
       "      <td>150</td>\n",
       "      <td>1</td>\n",
       "      <td>1</td>\n",
       "      <td>1950.0</td>\n",
       "    </tr>\n",
       "    <tr>\n",
       "      <th>2397</th>\n",
       "      <td>1381</td>\n",
       "      <td>64</td>\n",
       "      <td>NaT</td>\n",
       "      <td>Москва</td>\n",
       "      <td>Тамара</td>\n",
       "      <td>Серебрякова</td>\n",
       "      <td>2018-01-13</td>\n",
       "      <td>ultra</td>\n",
       "      <td>February</td>\n",
       "      <td>98.0</td>\n",
       "      <td>762.0</td>\n",
       "      <td>44.0</td>\n",
       "      <td>28.0</td>\n",
       "      <td>1000</td>\n",
       "      <td>30.0</td>\n",
       "      <td>3000</td>\n",
       "      <td>1950</td>\n",
       "      <td>150</td>\n",
       "      <td>1</td>\n",
       "      <td>1</td>\n",
       "      <td>1950.0</td>\n",
       "    </tr>\n",
       "    <tr>\n",
       "      <th>2431</th>\n",
       "      <td>1385</td>\n",
       "      <td>26</td>\n",
       "      <td>NaT</td>\n",
       "      <td>Москва</td>\n",
       "      <td>Алиса</td>\n",
       "      <td>Дубинина</td>\n",
       "      <td>2018-01-13</td>\n",
       "      <td>ultra</td>\n",
       "      <td>February</td>\n",
       "      <td>45.0</td>\n",
       "      <td>277.0</td>\n",
       "      <td>90.0</td>\n",
       "      <td>32.0</td>\n",
       "      <td>1000</td>\n",
       "      <td>30.0</td>\n",
       "      <td>3000</td>\n",
       "      <td>1950</td>\n",
       "      <td>150</td>\n",
       "      <td>1</td>\n",
       "      <td>1</td>\n",
       "      <td>2250.0</td>\n",
       "    </tr>\n",
       "    <tr>\n",
       "      <th>2473</th>\n",
       "      <td>1392</td>\n",
       "      <td>54</td>\n",
       "      <td>2018-09-27</td>\n",
       "      <td>Челябинск</td>\n",
       "      <td>Алла</td>\n",
       "      <td>Беликова</td>\n",
       "      <td>2018-02-27</td>\n",
       "      <td>ultra</td>\n",
       "      <td>February</td>\n",
       "      <td>2.0</td>\n",
       "      <td>13.0</td>\n",
       "      <td>3.0</td>\n",
       "      <td>NaN</td>\n",
       "      <td>1000</td>\n",
       "      <td>30.0</td>\n",
       "      <td>3000</td>\n",
       "      <td>1950</td>\n",
       "      <td>150</td>\n",
       "      <td>1</td>\n",
       "      <td>1</td>\n",
       "      <td>1950.0</td>\n",
       "    </tr>\n",
       "    <tr>\n",
       "      <th>2517</th>\n",
       "      <td>1396</td>\n",
       "      <td>23</td>\n",
       "      <td>NaT</td>\n",
       "      <td>Пенза</td>\n",
       "      <td>Эльга</td>\n",
       "      <td>Савельева</td>\n",
       "      <td>2018-01-12</td>\n",
       "      <td>ultra</td>\n",
       "      <td>February</td>\n",
       "      <td>56.0</td>\n",
       "      <td>432.0</td>\n",
       "      <td>59.0</td>\n",
       "      <td>6.0</td>\n",
       "      <td>1000</td>\n",
       "      <td>30.0</td>\n",
       "      <td>3000</td>\n",
       "      <td>1950</td>\n",
       "      <td>150</td>\n",
       "      <td>1</td>\n",
       "      <td>1</td>\n",
       "      <td>1950.0</td>\n",
       "    </tr>\n",
       "    <tr>\n",
       "      <th>2866</th>\n",
       "      <td>1453</td>\n",
       "      <td>50</td>\n",
       "      <td>NaT</td>\n",
       "      <td>Москва</td>\n",
       "      <td>Кузьма</td>\n",
       "      <td>Акуленко</td>\n",
       "      <td>2018-01-01</td>\n",
       "      <td>ultra</td>\n",
       "      <td>February</td>\n",
       "      <td>112.0</td>\n",
       "      <td>765.0</td>\n",
       "      <td>45.0</td>\n",
       "      <td>21.0</td>\n",
       "      <td>1000</td>\n",
       "      <td>30.0</td>\n",
       "      <td>3000</td>\n",
       "      <td>1950</td>\n",
       "      <td>150</td>\n",
       "      <td>1</td>\n",
       "      <td>1</td>\n",
       "      <td>1950.0</td>\n",
       "    </tr>\n",
       "    <tr>\n",
       "      <th>2913</th>\n",
       "      <td>1458</td>\n",
       "      <td>36</td>\n",
       "      <td>NaT</td>\n",
       "      <td>Барнаул</td>\n",
       "      <td>Роберт</td>\n",
       "      <td>Азаров</td>\n",
       "      <td>2018-02-13</td>\n",
       "      <td>ultra</td>\n",
       "      <td>February</td>\n",
       "      <td>48.0</td>\n",
       "      <td>317.0</td>\n",
       "      <td>NaN</td>\n",
       "      <td>6.0</td>\n",
       "      <td>1000</td>\n",
       "      <td>30.0</td>\n",
       "      <td>3000</td>\n",
       "      <td>1950</td>\n",
       "      <td>150</td>\n",
       "      <td>1</td>\n",
       "      <td>1</td>\n",
       "      <td>1950.0</td>\n",
       "    </tr>\n",
       "    <tr>\n",
       "      <th>2963</th>\n",
       "      <td>1466</td>\n",
       "      <td>37</td>\n",
       "      <td>NaT</td>\n",
       "      <td>Новосибирск</td>\n",
       "      <td>Рубен</td>\n",
       "      <td>Шевцов</td>\n",
       "      <td>2018-02-28</td>\n",
       "      <td>ultra</td>\n",
       "      <td>February</td>\n",
       "      <td>2.0</td>\n",
       "      <td>16.0</td>\n",
       "      <td>NaN</td>\n",
       "      <td>2.0</td>\n",
       "      <td>1000</td>\n",
       "      <td>30.0</td>\n",
       "      <td>3000</td>\n",
       "      <td>1950</td>\n",
       "      <td>150</td>\n",
       "      <td>1</td>\n",
       "      <td>1</td>\n",
       "      <td>1950.0</td>\n",
       "    </tr>\n",
       "    <tr>\n",
       "      <th>2996</th>\n",
       "      <td>1471</td>\n",
       "      <td>35</td>\n",
       "      <td>NaT</td>\n",
       "      <td>Вологда</td>\n",
       "      <td>Элеонора</td>\n",
       "      <td>Гаврилова</td>\n",
       "      <td>2018-02-26</td>\n",
       "      <td>ultra</td>\n",
       "      <td>February</td>\n",
       "      <td>9.0</td>\n",
       "      <td>76.0</td>\n",
       "      <td>6.0</td>\n",
       "      <td>2.0</td>\n",
       "      <td>1000</td>\n",
       "      <td>30.0</td>\n",
       "      <td>3000</td>\n",
       "      <td>1950</td>\n",
       "      <td>150</td>\n",
       "      <td>1</td>\n",
       "      <td>1</td>\n",
       "      <td>1950.0</td>\n",
       "    </tr>\n",
       "  </tbody>\n",
       "</table>\n",
       "</div>"
      ],
      "text/plain": [
       "      user_id  age churn_date             city  first_name    last_name  \\\n",
       "559      1089   19        NaT          Иркутск      Ксения      Нечаева   \n",
       "651      1104   60        NaT     Нижний Тагил    Габриэль      Поляков   \n",
       "752      1120   25        NaT        Краснодар     Агнесса     Абдулина   \n",
       "792      1126   71        NaT  Санкт-Петербург         Яна    Арсенкова   \n",
       "945      1152   44        NaT         Мурманск      Марина    Щербакова   \n",
       "1041     1168   28        NaT         Кострома       Лилия     Ананьева   \n",
       "1142     1180   27        NaT           Москва         Лев        Мишин   \n",
       "1496     1240   30        NaT          Воронеж     Зинаида       Шарова   \n",
       "1586     1254   75 2018-08-17           Москва  Александра     Сухарева   \n",
       "1594     1255   40 2018-09-02          Саранск    Серафима   Пономарева   \n",
       "1728     1277   30        NaT      Новосибирск     Валерия    Андреенко   \n",
       "1828     1292   63        NaT       Красноярск    Веселина   Алексеенко   \n",
       "1842     1294   66        NaT      Владивосток      Дебора     Асафьева   \n",
       "2063     1330   65        NaT  Нижний Новгород     Изольда     Алфимова   \n",
       "2341     1375   53        NaT            Пенза       Мария    Акимычева   \n",
       "2361     1377   59        NaT           Брянск     Альфред        Семин   \n",
       "2397     1381   64        NaT           Москва      Тамара  Серебрякова   \n",
       "2431     1385   26        NaT           Москва       Алиса     Дубинина   \n",
       "2473     1392   54 2018-09-27        Челябинск        Алла     Беликова   \n",
       "2517     1396   23        NaT            Пенза       Эльга    Савельева   \n",
       "2866     1453   50        NaT           Москва      Кузьма     Акуленко   \n",
       "2913     1458   36        NaT          Барнаул      Роберт       Азаров   \n",
       "2963     1466   37        NaT      Новосибирск       Рубен       Шевцов   \n",
       "2996     1471   35        NaT          Вологда    Элеонора    Гаврилова   \n",
       "\n",
       "       reg_date tariff     month  calls_count  calls_sum  message_count  \\\n",
       "559  2018-02-24  ultra  February          2.0        5.0           27.0   \n",
       "651  2018-02-21  ultra  February         18.0      157.0           18.0   \n",
       "752  2018-01-24  ultra  February         27.0      162.0            NaN   \n",
       "792  2018-01-19  ultra  February         81.0      531.0            2.0   \n",
       "945  2018-02-05  ultra  February         34.0      172.0            NaN   \n",
       "1041 2018-01-24  ultra  February        123.0      884.0           47.0   \n",
       "1142 2018-02-02  ultra  February          6.0       54.0           16.0   \n",
       "1496 2018-02-27  ultra  February          2.0        0.0            NaN   \n",
       "1586 2018-01-04  ultra  February         67.0      525.0            NaN   \n",
       "1594 2018-02-19  ultra  February          9.0       89.0            NaN   \n",
       "1728 2018-02-19  ultra  February         17.0      164.0           48.0   \n",
       "1828 2018-02-21  ultra  February          8.0       58.0            NaN   \n",
       "1842 2018-02-20  ultra  February         11.0       60.0            5.0   \n",
       "2063 2018-02-02  ultra  February         72.0      514.0           56.0   \n",
       "2341 2018-01-04  ultra  February        125.0      919.0           59.0   \n",
       "2361 2018-02-25  ultra  February         23.0      179.0            2.0   \n",
       "2397 2018-01-13  ultra  February         98.0      762.0           44.0   \n",
       "2431 2018-01-13  ultra  February         45.0      277.0           90.0   \n",
       "2473 2018-02-27  ultra  February          2.0       13.0            3.0   \n",
       "2517 2018-01-12  ultra  February         56.0      432.0           59.0   \n",
       "2866 2018-01-01  ultra  February        112.0      765.0           45.0   \n",
       "2913 2018-02-13  ultra  February         48.0      317.0            NaN   \n",
       "2963 2018-02-28  ultra  February          2.0       16.0            NaN   \n",
       "2996 2018-02-26  ultra  February          9.0       76.0            6.0   \n",
       "\n",
       "      total_traffic  messages_included  gb_per_month_included  \\\n",
       "559             3.0               1000                   30.0   \n",
       "651             2.0               1000                   30.0   \n",
       "752             5.0               1000                   30.0   \n",
       "792            20.0               1000                   30.0   \n",
       "945            17.0               1000                   30.0   \n",
       "1041           19.0               1000                   30.0   \n",
       "1142           21.0               1000                   30.0   \n",
       "1496            1.0               1000                   30.0   \n",
       "1586           24.0               1000                   30.0   \n",
       "1594           15.0               1000                   30.0   \n",
       "1728            5.0               1000                   30.0   \n",
       "1828            8.0               1000                   30.0   \n",
       "1842            7.0               1000                   30.0   \n",
       "2063           32.0               1000                   30.0   \n",
       "2341           12.0               1000                   30.0   \n",
       "2361            NaN               1000                   30.0   \n",
       "2397           28.0               1000                   30.0   \n",
       "2431           32.0               1000                   30.0   \n",
       "2473            NaN               1000                   30.0   \n",
       "2517            6.0               1000                   30.0   \n",
       "2866           21.0               1000                   30.0   \n",
       "2913            6.0               1000                   30.0   \n",
       "2963            2.0               1000                   30.0   \n",
       "2996            2.0               1000                   30.0   \n",
       "\n",
       "      minutes_included  rub_monthly_fee  rub_per_gb  rub_per_message  \\\n",
       "559               3000             1950         150                1   \n",
       "651               3000             1950         150                1   \n",
       "752               3000             1950         150                1   \n",
       "792               3000             1950         150                1   \n",
       "945               3000             1950         150                1   \n",
       "1041              3000             1950         150                1   \n",
       "1142              3000             1950         150                1   \n",
       "1496              3000             1950         150                1   \n",
       "1586              3000             1950         150                1   \n",
       "1594              3000             1950         150                1   \n",
       "1728              3000             1950         150                1   \n",
       "1828              3000             1950         150                1   \n",
       "1842              3000             1950         150                1   \n",
       "2063              3000             1950         150                1   \n",
       "2341              3000             1950         150                1   \n",
       "2361              3000             1950         150                1   \n",
       "2397              3000             1950         150                1   \n",
       "2431              3000             1950         150                1   \n",
       "2473              3000             1950         150                1   \n",
       "2517              3000             1950         150                1   \n",
       "2866              3000             1950         150                1   \n",
       "2913              3000             1950         150                1   \n",
       "2963              3000             1950         150                1   \n",
       "2996              3000             1950         150                1   \n",
       "\n",
       "      rub_per_minute  total_gain  \n",
       "559                1      1950.0  \n",
       "651                1      1950.0  \n",
       "752                1      1950.0  \n",
       "792                1      1950.0  \n",
       "945                1      1950.0  \n",
       "1041               1      1950.0  \n",
       "1142               1      1950.0  \n",
       "1496               1      1950.0  \n",
       "1586               1      1950.0  \n",
       "1594               1      1950.0  \n",
       "1728               1      1950.0  \n",
       "1828               1      1950.0  \n",
       "1842               1      1950.0  \n",
       "2063               1      2250.0  \n",
       "2341               1      1950.0  \n",
       "2361               1      1950.0  \n",
       "2397               1      1950.0  \n",
       "2431               1      2250.0  \n",
       "2473               1      1950.0  \n",
       "2517               1      1950.0  \n",
       "2866               1      1950.0  \n",
       "2913               1      1950.0  \n",
       "2963               1      1950.0  \n",
       "2996               1      1950.0  "
      ]
     },
     "execution_count": 48,
     "metadata": {},
     "output_type": "execute_result"
    }
   ],
   "source": [
    "data.query('tariff == \"ultra\" and month == \"February\"')"
   ]
  },
  {
   "cell_type": "markdown",
   "metadata": {},
   "source": [
    "Уточним фильтр"
   ]
  },
  {
   "cell_type": "code",
   "execution_count": 49,
   "metadata": {},
   "outputs": [
    {
     "data": {
      "text/html": [
       "<div>\n",
       "<style scoped>\n",
       "    .dataframe tbody tr th:only-of-type {\n",
       "        vertical-align: middle;\n",
       "    }\n",
       "\n",
       "    .dataframe tbody tr th {\n",
       "        vertical-align: top;\n",
       "    }\n",
       "\n",
       "    .dataframe thead th {\n",
       "        text-align: right;\n",
       "    }\n",
       "</style>\n",
       "<table border=\"1\" class=\"dataframe\">\n",
       "  <thead>\n",
       "    <tr style=\"text-align: right;\">\n",
       "      <th></th>\n",
       "      <th>user_id</th>\n",
       "      <th>age</th>\n",
       "      <th>churn_date</th>\n",
       "      <th>city</th>\n",
       "      <th>first_name</th>\n",
       "      <th>last_name</th>\n",
       "      <th>reg_date</th>\n",
       "      <th>tariff</th>\n",
       "      <th>month</th>\n",
       "      <th>calls_count</th>\n",
       "      <th>calls_sum</th>\n",
       "      <th>message_count</th>\n",
       "      <th>total_traffic</th>\n",
       "      <th>messages_included</th>\n",
       "      <th>gb_per_month_included</th>\n",
       "      <th>minutes_included</th>\n",
       "      <th>rub_monthly_fee</th>\n",
       "      <th>rub_per_gb</th>\n",
       "      <th>rub_per_message</th>\n",
       "      <th>rub_per_minute</th>\n",
       "      <th>total_gain</th>\n",
       "    </tr>\n",
       "  </thead>\n",
       "  <tbody>\n",
       "    <tr>\n",
       "      <th>792</th>\n",
       "      <td>1126</td>\n",
       "      <td>71</td>\n",
       "      <td>NaT</td>\n",
       "      <td>Санкт-Петербург</td>\n",
       "      <td>Яна</td>\n",
       "      <td>Арсенкова</td>\n",
       "      <td>2018-01-19</td>\n",
       "      <td>ultra</td>\n",
       "      <td>February</td>\n",
       "      <td>81.0</td>\n",
       "      <td>531.0</td>\n",
       "      <td>2.0</td>\n",
       "      <td>20.0</td>\n",
       "      <td>1000</td>\n",
       "      <td>30.0</td>\n",
       "      <td>3000</td>\n",
       "      <td>1950</td>\n",
       "      <td>150</td>\n",
       "      <td>1</td>\n",
       "      <td>1</td>\n",
       "      <td>1950.0</td>\n",
       "    </tr>\n",
       "    <tr>\n",
       "      <th>1842</th>\n",
       "      <td>1294</td>\n",
       "      <td>66</td>\n",
       "      <td>NaT</td>\n",
       "      <td>Владивосток</td>\n",
       "      <td>Дебора</td>\n",
       "      <td>Асафьева</td>\n",
       "      <td>2018-02-20</td>\n",
       "      <td>ultra</td>\n",
       "      <td>February</td>\n",
       "      <td>11.0</td>\n",
       "      <td>60.0</td>\n",
       "      <td>5.0</td>\n",
       "      <td>7.0</td>\n",
       "      <td>1000</td>\n",
       "      <td>30.0</td>\n",
       "      <td>3000</td>\n",
       "      <td>1950</td>\n",
       "      <td>150</td>\n",
       "      <td>1</td>\n",
       "      <td>1</td>\n",
       "      <td>1950.0</td>\n",
       "    </tr>\n",
       "    <tr>\n",
       "      <th>2361</th>\n",
       "      <td>1377</td>\n",
       "      <td>59</td>\n",
       "      <td>NaT</td>\n",
       "      <td>Брянск</td>\n",
       "      <td>Альфред</td>\n",
       "      <td>Семин</td>\n",
       "      <td>2018-02-25</td>\n",
       "      <td>ultra</td>\n",
       "      <td>February</td>\n",
       "      <td>23.0</td>\n",
       "      <td>179.0</td>\n",
       "      <td>2.0</td>\n",
       "      <td>NaN</td>\n",
       "      <td>1000</td>\n",
       "      <td>30.0</td>\n",
       "      <td>3000</td>\n",
       "      <td>1950</td>\n",
       "      <td>150</td>\n",
       "      <td>1</td>\n",
       "      <td>1</td>\n",
       "      <td>1950.0</td>\n",
       "    </tr>\n",
       "    <tr>\n",
       "      <th>2473</th>\n",
       "      <td>1392</td>\n",
       "      <td>54</td>\n",
       "      <td>2018-09-27</td>\n",
       "      <td>Челябинск</td>\n",
       "      <td>Алла</td>\n",
       "      <td>Беликова</td>\n",
       "      <td>2018-02-27</td>\n",
       "      <td>ultra</td>\n",
       "      <td>February</td>\n",
       "      <td>2.0</td>\n",
       "      <td>13.0</td>\n",
       "      <td>3.0</td>\n",
       "      <td>NaN</td>\n",
       "      <td>1000</td>\n",
       "      <td>30.0</td>\n",
       "      <td>3000</td>\n",
       "      <td>1950</td>\n",
       "      <td>150</td>\n",
       "      <td>1</td>\n",
       "      <td>1</td>\n",
       "      <td>1950.0</td>\n",
       "    </tr>\n",
       "    <tr>\n",
       "      <th>2996</th>\n",
       "      <td>1471</td>\n",
       "      <td>35</td>\n",
       "      <td>NaT</td>\n",
       "      <td>Вологда</td>\n",
       "      <td>Элеонора</td>\n",
       "      <td>Гаврилова</td>\n",
       "      <td>2018-02-26</td>\n",
       "      <td>ultra</td>\n",
       "      <td>February</td>\n",
       "      <td>9.0</td>\n",
       "      <td>76.0</td>\n",
       "      <td>6.0</td>\n",
       "      <td>2.0</td>\n",
       "      <td>1000</td>\n",
       "      <td>30.0</td>\n",
       "      <td>3000</td>\n",
       "      <td>1950</td>\n",
       "      <td>150</td>\n",
       "      <td>1</td>\n",
       "      <td>1</td>\n",
       "      <td>1950.0</td>\n",
       "    </tr>\n",
       "  </tbody>\n",
       "</table>\n",
       "</div>"
      ],
      "text/plain": [
       "      user_id  age churn_date             city first_name  last_name  \\\n",
       "792      1126   71        NaT  Санкт-Петербург        Яна  Арсенкова   \n",
       "1842     1294   66        NaT      Владивосток     Дебора   Асафьева   \n",
       "2361     1377   59        NaT           Брянск    Альфред      Семин   \n",
       "2473     1392   54 2018-09-27        Челябинск       Алла   Беликова   \n",
       "2996     1471   35        NaT          Вологда   Элеонора  Гаврилова   \n",
       "\n",
       "       reg_date tariff     month  calls_count  calls_sum  message_count  \\\n",
       "792  2018-01-19  ultra  February         81.0      531.0            2.0   \n",
       "1842 2018-02-20  ultra  February         11.0       60.0            5.0   \n",
       "2361 2018-02-25  ultra  February         23.0      179.0            2.0   \n",
       "2473 2018-02-27  ultra  February          2.0       13.0            3.0   \n",
       "2996 2018-02-26  ultra  February          9.0       76.0            6.0   \n",
       "\n",
       "      total_traffic  messages_included  gb_per_month_included  \\\n",
       "792            20.0               1000                   30.0   \n",
       "1842            7.0               1000                   30.0   \n",
       "2361            NaN               1000                   30.0   \n",
       "2473            NaN               1000                   30.0   \n",
       "2996            2.0               1000                   30.0   \n",
       "\n",
       "      minutes_included  rub_monthly_fee  rub_per_gb  rub_per_message  \\\n",
       "792               3000             1950         150                1   \n",
       "1842              3000             1950         150                1   \n",
       "2361              3000             1950         150                1   \n",
       "2473              3000             1950         150                1   \n",
       "2996              3000             1950         150                1   \n",
       "\n",
       "      rub_per_minute  total_gain  \n",
       "792                1      1950.0  \n",
       "1842               1      1950.0  \n",
       "2361               1      1950.0  \n",
       "2473               1      1950.0  \n",
       "2996               1      1950.0  "
      ]
     },
     "execution_count": 49,
     "metadata": {},
     "output_type": "execute_result"
    }
   ],
   "source": [
    "data.query('tariff == \"ultra\" and month == \"February\" and message_count <10')"
   ]
  },
  {
   "cell_type": "markdown",
   "metadata": {},
   "source": [
    "Видим, что абоненты с малым количество сообщений , которое сильно влияет на среднее значение по февралю, подключились к оператору в самом конце месяца. Думаю, такая просадка связана именно с этим. Ну и это самый короткий месяц в году.\n",
    "\n",
    "Посчитаем среднее, дисперсию и стандартное отклонение для каждого тарифа."
   ]
  },
  {
   "cell_type": "code",
   "execution_count": 50,
   "metadata": {},
   "outputs": [
    {
     "data": {
      "text/html": [
       "<div>\n",
       "<style scoped>\n",
       "    .dataframe tbody tr th:only-of-type {\n",
       "        vertical-align: middle;\n",
       "    }\n",
       "\n",
       "    .dataframe tbody tr th {\n",
       "        vertical-align: top;\n",
       "    }\n",
       "\n",
       "    .dataframe thead tr th {\n",
       "        text-align: left;\n",
       "    }\n",
       "\n",
       "    .dataframe thead tr:last-of-type th {\n",
       "        text-align: right;\n",
       "    }\n",
       "</style>\n",
       "<table border=\"1\" class=\"dataframe\">\n",
       "  <thead>\n",
       "    <tr>\n",
       "      <th></th>\n",
       "      <th>mean</th>\n",
       "      <th>var</th>\n",
       "      <th>std</th>\n",
       "    </tr>\n",
       "    <tr>\n",
       "      <th></th>\n",
       "      <th>message_count</th>\n",
       "      <th>message_count</th>\n",
       "      <th>message_count</th>\n",
       "    </tr>\n",
       "    <tr>\n",
       "      <th>tariff</th>\n",
       "      <th></th>\n",
       "      <th></th>\n",
       "      <th></th>\n",
       "    </tr>\n",
       "  </thead>\n",
       "  <tbody>\n",
       "    <tr>\n",
       "      <th>smart</th>\n",
       "      <td>38.716441</td>\n",
       "      <td>717.594201</td>\n",
       "      <td>26.787949</td>\n",
       "    </tr>\n",
       "    <tr>\n",
       "      <th>ultra</th>\n",
       "      <td>61.161006</td>\n",
       "      <td>2109.659183</td>\n",
       "      <td>45.931026</td>\n",
       "    </tr>\n",
       "  </tbody>\n",
       "</table>\n",
       "</div>"
      ],
      "text/plain": [
       "                mean           var           std\n",
       "       message_count message_count message_count\n",
       "tariff                                          \n",
       "smart      38.716441    717.594201     26.787949\n",
       "ultra      61.161006   2109.659183     45.931026"
      ]
     },
     "execution_count": 50,
     "metadata": {},
     "output_type": "execute_result"
    }
   ],
   "source": [
    "data.pivot_table(index='tariff', values='message_count', aggfunc=['mean',np.var,np.std])"
   ]
  },
  {
   "cell_type": "markdown",
   "metadata": {},
   "source": [
    "Далее посмотрим распределение значений на гистограмме."
   ]
  },
  {
   "cell_type": "code",
   "execution_count": 51,
   "metadata": {},
   "outputs": [
    {
     "data": {
      "image/png": "[encoded data removed]",
      "text/plain": [
       "<Figure size 1080x360 with 1 Axes>"
      ]
     },
     "metadata": {
      "needs_background": "light"
     },
     "output_type": "display_data"
    }
   ],
   "source": [
    "smart_message_hist = (data_smart.plot(y='message_count',\n",
    "                                      figsize=(15,5),\n",
    "                                      grid=True,\n",
    "                                      label='smart',\n",
    "                                      kind='hist',\n",
    "                                      alpha=0.9,\n",
    "                                      color='r',\n",
    "                                      title='Распределение объема отправленных сообщений по тарифам'))\n",
    "\n",
    "(data_ultra.plot(y='message_count',\n",
    "                 kind='hist',\n",
    "                 ax=smart_message_hist,\n",
    "                 figsize=(15,5),\n",
    "                 grid=True,\n",
    "                 label='ultra',\n",
    "                 legend=True,\n",
    "                 alpha=0.5));"
   ]
  },
  {
   "cell_type": "markdown",
   "metadata": {},
   "source": [
    "Видим, видим, что на обоих тарифах наибольшие количество значений отправленных за месяц близко к 0. И распределение идет по нисходящей. Все меньше и меньше людей отправляет много сообщений через СМС.\n",
    "\n",
    "Что логично, т.к. с наличием интернета в телефоне использование СМС с каждым годом становится все менее релевантным."
   ]
  },
  {
   "cell_type": "markdown",
   "metadata": {},
   "source": [
    "### Анализ объема интернет-трафика"
   ]
  },
  {
   "cell_type": "markdown",
   "metadata": {},
   "source": [
    "Повторим предыдущие действия для интернет-трафика."
   ]
  },
  {
   "cell_type": "code",
   "execution_count": 52,
   "metadata": {},
   "outputs": [
    {
     "data": {
      "image/png": "[encoded data removed]",
      "text/plain": [
       "<Figure size 1080x360 with 1 Axes>"
      ]
     },
     "metadata": {
      "needs_background": "light"
     },
     "output_type": "display_data"
    }
   ],
   "source": [
    "smart_internet = (data_smart.pivot_table(index='month', values='total_traffic')\n",
    "                   .reindex(cats_month)\n",
    "                   .plot(y='total_traffic',\n",
    "                         figsize=(15,5),\n",
    "                         grid=True,\n",
    "                         label='smart',\n",
    "                         color='r',title='Изменение трафика в течение года по тарифам'))\n",
    "\n",
    "(data_ultra.pivot_table(index='month', values='total_traffic')\n",
    ".reindex(cats_month)\n",
    ".plot(y='total_traffic',\n",
    "      ax=smart_internet,\n",
    "      figsize=(15,5),\n",
    "      grid=True,\n",
    "      label='ultra',\n",
    "      legend=True,\n",
    "      xlabel=''));"
   ]
  },
  {
   "cell_type": "markdown",
   "metadata": {},
   "source": [
    "Аналогично со звонками и сообщениями:\n",
    "- на тарифе ultra абоненты больше тратят интернет-трафика, чем абоненты тарифа smart\n",
    "- объем трафика в течение года только растет.\n",
    "\n",
    "Посчитаем среднее, дисперсию и стандартное отклонение, а затем построим гистограмму."
   ]
  },
  {
   "cell_type": "code",
   "execution_count": 53,
   "metadata": {},
   "outputs": [
    {
     "data": {
      "text/html": [
       "<div>\n",
       "<style scoped>\n",
       "    .dataframe tbody tr th:only-of-type {\n",
       "        vertical-align: middle;\n",
       "    }\n",
       "\n",
       "    .dataframe tbody tr th {\n",
       "        vertical-align: top;\n",
       "    }\n",
       "\n",
       "    .dataframe thead tr th {\n",
       "        text-align: left;\n",
       "    }\n",
       "\n",
       "    .dataframe thead tr:last-of-type th {\n",
       "        text-align: right;\n",
       "    }\n",
       "</style>\n",
       "<table border=\"1\" class=\"dataframe\">\n",
       "  <thead>\n",
       "    <tr>\n",
       "      <th></th>\n",
       "      <th>mean</th>\n",
       "      <th>var</th>\n",
       "      <th>std</th>\n",
       "    </tr>\n",
       "    <tr>\n",
       "      <th></th>\n",
       "      <th>total_traffic</th>\n",
       "      <th>total_traffic</th>\n",
       "      <th>total_traffic</th>\n",
       "    </tr>\n",
       "    <tr>\n",
       "      <th>tariff</th>\n",
       "      <th></th>\n",
       "      <th></th>\n",
       "      <th></th>\n",
       "    </tr>\n",
       "  </thead>\n",
       "  <tbody>\n",
       "    <tr>\n",
       "      <th>smart</th>\n",
       "      <td>16.336176</td>\n",
       "      <td>32.923756</td>\n",
       "      <td>5.737923</td>\n",
       "    </tr>\n",
       "    <tr>\n",
       "      <th>ultra</th>\n",
       "      <td>19.694359</td>\n",
       "      <td>94.146734</td>\n",
       "      <td>9.702924</td>\n",
       "    </tr>\n",
       "  </tbody>\n",
       "</table>\n",
       "</div>"
      ],
      "text/plain": [
       "                mean           var           std\n",
       "       total_traffic total_traffic total_traffic\n",
       "tariff                                          \n",
       "smart      16.336176     32.923756      5.737923\n",
       "ultra      19.694359     94.146734      9.702924"
      ]
     },
     "execution_count": 53,
     "metadata": {},
     "output_type": "execute_result"
    }
   ],
   "source": [
    "data.pivot_table(index='tariff', values='total_traffic', aggfunc=['mean',np.var,np.std])"
   ]
  },
  {
   "cell_type": "code",
   "execution_count": 54,
   "metadata": {},
   "outputs": [
    {
     "data": {
      "image/png": "[encoded data removed]",
      "text/plain": [
       "<Figure size 1080x360 with 1 Axes>"
      ]
     },
     "metadata": {
      "needs_background": "light"
     },
     "output_type": "display_data"
    }
   ],
   "source": [
    "smart_internet_hist = (data_smart.plot(y='total_traffic',\n",
    "                                    figsize=(15,5),\n",
    "                                    grid=True,\n",
    "                                    label='smart',\n",
    "                                    kind='hist',\n",
    "                                    alpha=0.9,color='r',\n",
    "                                    title='Распределение интернет-трафика по тарифам'))\n",
    "\n",
    "(data_ultra.plot(y='total_traffic',\n",
    "                 kind='hist',\n",
    "                 ax=smart_internet_hist,\n",
    "                 figsize=(15,5),\n",
    "                 grid=True,\n",
    "                 label='ultra',\n",
    "                 legend=True,\n",
    "                alpha=0.5,\n",
    "                 ));"
   ]
  },
  {
   "cell_type": "markdown",
   "metadata": {},
   "source": [
    "Видим, что оба распределения близки к нормальному и своей формой напоминают колокол. Ситуация схожая с распределнием минут разговора.\n",
    "Большая часть абонентов тарифа smart использует от 11 до 23 ГБ в месяц.\n",
    "Большая часть абонентов тарифа ultra использует от 15 до 20 ГБ в месяц."
   ]
  },
  {
   "cell_type": "markdown",
   "metadata": {},
   "source": [
    "### Выводы\n",
    "1. Согласно графикам поведение абонентов тарифов smart и ultra очень схожи. В течение года все рассмотренные показатели выросли.\n",
    "2. Абоненты тарифа ultra в среднем больше разговаривают, больше отправляют сообщений, больше расходую интернет-трафика."
   ]
  },
  {
   "cell_type": "markdown",
   "metadata": {},
   "source": [
    "## Проверка гипотез"
   ]
  },
  {
   "cell_type": "markdown",
   "metadata": {},
   "source": [
    "Проверим следующие гипотезы:\n",
    "1. средняя выручка пользователей тарифов «Ультра» и «Смарт» различаются;\n",
    "2. средняя выручка пользователей из Москвы отличается от выручки пользователей из других регионов"
   ]
  },
  {
   "cell_type": "markdown",
   "metadata": {},
   "source": [
    "### Гипотеза 1"
   ]
  },
  {
   "cell_type": "markdown",
   "metadata": {},
   "source": [
    "Обозначим нулевую и альтернативную гипотезы.\n",
    "\n",
    "**H0 Нулевая гипотеза**: средняя выручка пользователей тарифов «Ультра» равна средней выручке пользователей тарифов «Смарт».\n",
    "\n",
    "**H1 Альтернативная гипотеза**: средняя выручка пользователей тарифов «Ультра» не равна средней выручка пользователей тарифов «Смарт»."
   ]
  },
  {
   "cell_type": "markdown",
   "metadata": {},
   "source": [
    "Для проверки гипотезы воспользуемся специальным методом scipy.stats.ttest_ind. \n",
    "Если уровень статистической значимости (p-value) окажется меньше порогового значения (alpha), то нулевая гипотеза отвергается. Зададим пороговое значение alpha равным 0.05."
   ]
  },
  {
   "cell_type": "code",
   "execution_count": 55,
   "metadata": {},
   "outputs": [
    {
     "name": "stdout",
     "output_type": "stream",
     "text": [
      "p-значение: 1.4229814360764067e-160\n",
      "Отвергаем нулевую гипотезу\n"
     ]
    }
   ],
   "source": [
    "alpha = 0.05\n",
    "\n",
    "results = st.ttest_ind(data.query('tariff == \"smart\"')['total_gain'], data.query('tariff == \"ultra\"')['total_gain'])\n",
    "\n",
    "print('p-значение:', results.pvalue)\n",
    " \n",
    "if results.pvalue < alpha:\n",
    "    print(\"Отвергаем нулевую гипотезу\")\n",
    "else:\n",
    "    print(\"Не получилось отвергнуть нулевую гипотезу\") "
   ]
  },
  {
   "cell_type": "markdown",
   "metadata": {},
   "source": [
    "Таким образом пришли к тому, что вероятность получить равные значения средних из двух выборок крайне мала. Разница между значениями слишком велика, чтобы считать это случайностью.\n",
    "\n",
    "Отвергаем нулевую гипотезу и принимаем альтернативную - средняя выручка пользователей тарифов «Ультра» не равна средней выручка пользователей тарифов «Смарт»."
   ]
  },
  {
   "cell_type": "markdown",
   "metadata": {},
   "source": [
    "Заодно посмотрим среднее  значение выручки по каждому тарифу.\n",
    "\n",
    "Для тарифа *smart*:"
   ]
  },
  {
   "cell_type": "code",
   "execution_count": 56,
   "metadata": {},
   "outputs": [
    {
     "data": {
      "text/plain": [
       "1289.9735307312696"
      ]
     },
     "execution_count": 56,
     "metadata": {},
     "output_type": "execute_result"
    }
   ],
   "source": [
    "data.query('tariff == \"smart\"')['total_gain'].mean()"
   ]
  },
  {
   "cell_type": "markdown",
   "metadata": {},
   "source": [
    "Для тарифа *ultra*:"
   ]
  },
  {
   "cell_type": "code",
   "execution_count": 57,
   "metadata": {},
   "outputs": [
    {
     "data": {
      "text/plain": [
       "2070.1522842639592"
      ]
     },
     "execution_count": 57,
     "metadata": {},
     "output_type": "execute_result"
    }
   ],
   "source": [
    "data.query('tariff == \"ultra\"')['total_gain'].mean()"
   ]
  },
  {
   "cell_type": "markdown",
   "metadata": {},
   "source": [
    "Действительно, наблюдаем большое различие между средними. У тарифа *ultra* выручка выше почти в два раза."
   ]
  },
  {
   "cell_type": "markdown",
   "metadata": {},
   "source": [
    "### Гипотеза 2"
   ]
  },
  {
   "cell_type": "markdown",
   "metadata": {},
   "source": [
    "Обозначим нулевую и альтернативную гипотезы.\n",
    "\n",
    "**H0 Нулевая гипотеза**: средняя выручка пользователей из Москвы равна выручке пользователей из других регионов.\n",
    "\n",
    "**H1 Альтернативная гипотеза**: средняя выручка пользователей из Москвы не равна выручке пользователей из других регионов."
   ]
  },
  {
   "cell_type": "code",
   "execution_count": 58,
   "metadata": {},
   "outputs": [
    {
     "name": "stdout",
     "output_type": "stream",
     "text": [
      "p-значение: 0.5440152911670224\n",
      "Не получилось отвергнуть нулевую гипотезу\n"
     ]
    }
   ],
   "source": [
    "alpha = 0.05\n",
    "results_city = st.ttest_ind(data.query('city == \"Москва\"')['total_gain'], data.query('city != \"Москва\"')['total_gain'])\n",
    "\n",
    "print('p-значение:', results_city.pvalue)\n",
    " \n",
    "if results_city.pvalue < alpha:\n",
    "    print(\"Отвергаем нулевую гипотезу\")\n",
    "else:\n",
    "    print(\"Не получилось отвергнуть нулевую гипотезу\") \n"
   ]
  },
  {
   "cell_type": "markdown",
   "metadata": {},
   "source": [
    "Таким образом пришли к тому, что вероятность получить равные значения средних из двух выборок очень высока. Средние значения очень близки друг к другу.\n",
    "Отвергнуть нулевую гипотезу не вышло. Средняя выручка по Москве не сильно отличается от средней выручки по другим городам."
   ]
  },
  {
   "cell_type": "markdown",
   "metadata": {},
   "source": [
    "Посмотрим средние значения выручки с привязкой к городам.\n",
    "\n",
    "Для Москвы:"
   ]
  },
  {
   "cell_type": "code",
   "execution_count": 59,
   "metadata": {},
   "outputs": [
    {
     "data": {
      "text/plain": [
       "1546.7135842880523"
      ]
     },
     "execution_count": 59,
     "metadata": {},
     "output_type": "execute_result"
    }
   ],
   "source": [
    "data.query('city == \"Москва\"')['total_gain'].mean()"
   ]
  },
  {
   "cell_type": "markdown",
   "metadata": {},
   "source": [
    "Для остальных городов:"
   ]
  },
  {
   "cell_type": "code",
   "execution_count": 60,
   "metadata": {},
   "outputs": [
    {
     "data": {
      "text/plain": [
       "1524.9362274298885"
      ]
     },
     "execution_count": 60,
     "metadata": {},
     "output_type": "execute_result"
    }
   ],
   "source": [
    "data.query('city != \"Москва\"')['total_gain'].mean()"
   ]
  },
  {
   "cell_type": "markdown",
   "metadata": {},
   "source": [
    "Разница между средними значениями минимальна - менее 2%."
   ]
  },
  {
   "cell_type": "markdown",
   "metadata": {},
   "source": [
    "## Выводы"
   ]
  },
  {
   "cell_type": "markdown",
   "metadata": {},
   "source": [
    "По результатам исследования пришли к следующим выводам:\n",
    "1. Поведение пользователей обоих тарифов очень схожи: в течение года наблюдается рост всех исследуемых показателей. Отличается только количесто пользователей каждого тарифа и объем пользования услугами. "
   ]
  },
  {
   "cell_type": "markdown",
   "metadata": {},
   "source": [
    "Для формирования вывода о том, какой тариф лучше, произведем некоторые дополнительные вычисления. \n",
    "\n",
    "Посчитаем для каждого тарифа, как часто пользователи платили сверх своей помесячной абонентской платы, т.е. выходили за рамки своих помесячных пакетов, а также общую выручку\n",
    "\n",
    "Для тарифа *smart:*"
   ]
  },
  {
   "cell_type": "code",
   "execution_count": 61,
   "metadata": {},
   "outputs": [
    {
     "data": {
      "text/plain": [
       "1662"
      ]
     },
     "execution_count": 61,
     "metadata": {},
     "output_type": "execute_result"
    }
   ],
   "source": [
    "len(data.query('total_gain >550 and tariff ==\"smart\"'))"
   ]
  },
  {
   "cell_type": "code",
   "execution_count": 62,
   "metadata": {},
   "outputs": [
    {
     "data": {
      "text/plain": [
       "0.7456258411843876"
      ]
     },
     "execution_count": 62,
     "metadata": {},
     "output_type": "execute_result"
    }
   ],
   "source": [
    "len(data.query('total_gain >550 and tariff ==\"smart\"')) / len(data.query('tariff ==\"smart\"'))"
   ]
  },
  {
   "cell_type": "code",
   "execution_count": 63,
   "metadata": {},
   "outputs": [
    {
     "data": {
      "text/plain": [
       "2875351.0"
      ]
     },
     "execution_count": 63,
     "metadata": {},
     "output_type": "execute_result"
    }
   ],
   "source": [
    "data.query('tariff ==\"smart\"')['total_gain'].sum()"
   ]
  },
  {
   "cell_type": "markdown",
   "metadata": {},
   "source": [
    "Для тарифа *ultra:*"
   ]
  },
  {
   "cell_type": "code",
   "execution_count": 64,
   "metadata": {},
   "outputs": [
    {
     "data": {
      "text/plain": [
       "134"
      ]
     },
     "execution_count": 64,
     "metadata": {},
     "output_type": "execute_result"
    }
   ],
   "source": [
    "len(data.query('total_gain >1950 and tariff ==\"ultra\"'))"
   ]
  },
  {
   "cell_type": "code",
   "execution_count": 65,
   "metadata": {},
   "outputs": [
    {
     "data": {
      "text/plain": [
       "0.13604060913705585"
      ]
     },
     "execution_count": 65,
     "metadata": {},
     "output_type": "execute_result"
    }
   ],
   "source": [
    "len(data.query('total_gain >1950 and tariff ==\"ultra\"')) / len(data.query('tariff ==\"ultra\"'))"
   ]
  },
  {
   "cell_type": "code",
   "execution_count": 66,
   "metadata": {},
   "outputs": [
    {
     "data": {
      "text/plain": [
       "2039100.0"
      ]
     },
     "execution_count": 66,
     "metadata": {},
     "output_type": "execute_result"
    }
   ],
   "source": [
    "data.query('tariff ==\"ultra\"')['total_gain'].sum()"
   ]
  },
  {
   "cell_type": "markdown",
   "metadata": {},
   "source": [
    "Видим, что пользователи тарифа *ultra* намного реже выходят за рамки своих пакетов и не оплачивают дополнительные минуты и ГБ. У *ultra* - это 14% от всех пользоателей тарифом, а у *smart* - 73%. \n",
    "\n",
    "Общая выручка у тарифа *smart* - 2,8 млн рублей, что на выше на 37%, чем у тарифа *ultra* - 2 млн рублей. \n",
    "\n",
    "При этом количество пользователей тарифа *smart* больше в 2 раза, а средняя выручка с тарифа *ultra* выше более, чем в полтора раза."
   ]
  },
  {
   "cell_type": "markdown",
   "metadata": {},
   "source": [
    "1. Приходим к выводу, что компании \"Мегалайн\" лучше тариф *ultra*. При этом ,судя по количеству пользователей, тариф *smart* пользуется большей популярностью у пользователей, значит отказываться от него нельзя. В компании должны быть тарифные планы для разных групп клиентов и уровней дохода."
   ]
  }
 ],
 "metadata": {
  "ExecuteTimeLog": [
   {
    "duration": 910,
    "start_time": "2022-06-07T20:06:57.018Z"
   },
   {
    "duration": 446,
    "start_time": "2022-06-07T20:06:57.929Z"
   },
   {
    "duration": 964,
    "start_time": "2022-06-07T20:12:16.089Z"
   },
   {
    "duration": 184,
    "start_time": "2022-06-07T20:12:26.369Z"
   },
   {
    "duration": 182,
    "start_time": "2022-06-07T20:12:41.303Z"
   },
   {
    "duration": 173,
    "start_time": "2022-06-07T20:12:52.326Z"
   },
   {
    "duration": 26,
    "start_time": "2022-06-07T20:12:53.535Z"
   },
   {
    "duration": 395,
    "start_time": "2022-06-07T20:30:43.959Z"
   },
   {
    "duration": 78,
    "start_time": "2022-06-07T20:38:40.555Z"
   },
   {
    "duration": 105,
    "start_time": "2022-06-07T20:39:01.708Z"
   },
   {
    "duration": 61,
    "start_time": "2022-06-07T20:39:16.846Z"
   },
   {
    "duration": 151,
    "start_time": "2022-06-07T20:39:43.658Z"
   },
   {
    "duration": 57,
    "start_time": "2022-06-07T22:33:35.140Z"
   },
   {
    "duration": 836,
    "start_time": "2022-06-07T22:33:46.828Z"
   },
   {
    "duration": 404,
    "start_time": "2022-06-07T22:33:47.666Z"
   },
   {
    "duration": 229,
    "start_time": "2022-06-07T22:33:48.072Z"
   },
   {
    "duration": 25,
    "start_time": "2022-06-07T22:33:48.304Z"
   },
   {
    "duration": 317,
    "start_time": "2022-06-07T22:33:48.331Z"
   },
   {
    "duration": 314,
    "start_time": "2022-06-07T22:33:48.650Z"
   },
   {
    "duration": 58,
    "start_time": "2022-06-07T22:33:48.966Z"
   },
   {
    "duration": 54,
    "start_time": "2022-06-07T22:33:49.025Z"
   },
   {
    "duration": 184,
    "start_time": "2022-06-07T22:34:01.992Z"
   },
   {
    "duration": 171,
    "start_time": "2022-06-07T22:35:06.802Z"
   },
   {
    "duration": 161,
    "start_time": "2022-06-07T22:38:02.171Z"
   },
   {
    "duration": 161,
    "start_time": "2022-06-07T22:38:13.699Z"
   },
   {
    "duration": 182,
    "start_time": "2022-06-07T22:38:30.442Z"
   },
   {
    "duration": 115,
    "start_time": "2022-06-07T22:39:56.468Z"
   },
   {
    "duration": 39,
    "start_time": "2022-06-07T22:40:09.878Z"
   },
   {
    "duration": 52,
    "start_time": "2022-06-07T22:40:24.637Z"
   },
   {
    "duration": 176,
    "start_time": "2022-06-07T22:59:07.517Z"
   },
   {
    "duration": 57,
    "start_time": "2022-06-08T12:57:41.659Z"
   },
   {
    "duration": 877,
    "start_time": "2022-06-08T12:57:47.491Z"
   },
   {
    "duration": 433,
    "start_time": "2022-06-08T12:57:48.370Z"
   },
   {
    "duration": 101,
    "start_time": "2022-06-08T12:57:48.806Z"
   },
   {
    "duration": 496,
    "start_time": "2022-06-08T12:57:48.909Z"
   },
   {
    "duration": 11,
    "start_time": "2022-06-08T12:57:49.407Z"
   },
   {
    "duration": 439,
    "start_time": "2022-06-08T12:57:49.420Z"
   },
   {
    "duration": 164,
    "start_time": "2022-06-08T12:57:49.861Z"
   },
   {
    "duration": 56,
    "start_time": "2022-06-08T12:57:50.027Z"
   },
   {
    "duration": 105,
    "start_time": "2022-06-08T12:58:45.486Z"
   },
   {
    "duration": 9,
    "start_time": "2022-06-08T12:58:49.526Z"
   },
   {
    "duration": 9,
    "start_time": "2022-06-08T12:59:07.021Z"
   },
   {
    "duration": 2,
    "start_time": "2022-06-08T13:47:08.438Z"
   },
   {
    "duration": 2,
    "start_time": "2022-06-08T13:58:04.461Z"
   },
   {
    "duration": 5,
    "start_time": "2022-06-08T14:14:59.800Z"
   },
   {
    "duration": 8,
    "start_time": "2022-06-08T14:15:08.417Z"
   },
   {
    "duration": 9,
    "start_time": "2022-06-08T14:15:43.210Z"
   },
   {
    "duration": 34,
    "start_time": "2022-06-08T14:15:50.993Z"
   },
   {
    "duration": 9,
    "start_time": "2022-06-08T14:15:54.704Z"
   },
   {
    "duration": 4,
    "start_time": "2022-06-08T14:16:07.818Z"
   },
   {
    "duration": 6,
    "start_time": "2022-06-08T14:18:17.303Z"
   },
   {
    "duration": 4,
    "start_time": "2022-06-08T14:18:24.784Z"
   },
   {
    "duration": 4,
    "start_time": "2022-06-08T14:18:41.976Z"
   },
   {
    "duration": 13,
    "start_time": "2022-06-08T14:18:49.033Z"
   },
   {
    "duration": 7,
    "start_time": "2022-06-08T14:18:54.177Z"
   },
   {
    "duration": 5,
    "start_time": "2022-06-08T14:19:07.585Z"
   },
   {
    "duration": 9,
    "start_time": "2022-06-08T14:19:19.751Z"
   },
   {
    "duration": 5,
    "start_time": "2022-06-08T14:19:32.656Z"
   },
   {
    "duration": 5,
    "start_time": "2022-06-08T14:20:07.424Z"
   },
   {
    "duration": 4,
    "start_time": "2022-06-08T14:20:20.577Z"
   },
   {
    "duration": 14,
    "start_time": "2022-06-08T14:20:33.497Z"
   },
   {
    "duration": 219,
    "start_time": "2022-06-08T14:26:22.162Z"
   },
   {
    "duration": 215,
    "start_time": "2022-06-08T14:26:29.428Z"
   },
   {
    "duration": 799,
    "start_time": "2022-06-08T14:26:31.912Z"
   },
   {
    "duration": 7,
    "start_time": "2022-06-08T14:27:21.384Z"
   },
   {
    "duration": 15,
    "start_time": "2022-06-08T14:27:34.256Z"
   },
   {
    "duration": 42,
    "start_time": "2022-06-08T14:28:10.697Z"
   },
   {
    "duration": 13,
    "start_time": "2022-06-08T14:28:43.314Z"
   },
   {
    "duration": 11,
    "start_time": "2022-06-08T14:29:03.554Z"
   },
   {
    "duration": 18,
    "start_time": "2022-06-08T14:29:13.273Z"
   },
   {
    "duration": 44,
    "start_time": "2022-06-08T17:49:24.095Z"
   },
   {
    "duration": 818,
    "start_time": "2022-06-08T17:49:33.684Z"
   },
   {
    "duration": 336,
    "start_time": "2022-06-08T17:49:34.504Z"
   },
   {
    "duration": 151,
    "start_time": "2022-06-08T17:49:34.842Z"
   },
   {
    "duration": 5,
    "start_time": "2022-06-08T17:49:34.995Z"
   },
   {
    "duration": 14,
    "start_time": "2022-06-08T17:49:35.002Z"
   },
   {
    "duration": 520,
    "start_time": "2022-06-08T17:49:35.017Z"
   },
   {
    "duration": 424,
    "start_time": "2022-06-08T17:49:35.538Z"
   },
   {
    "duration": 9,
    "start_time": "2022-06-08T17:49:35.964Z"
   },
   {
    "duration": 180,
    "start_time": "2022-06-08T17:49:35.975Z"
   },
   {
    "duration": 65,
    "start_time": "2022-06-08T17:49:36.157Z"
   },
   {
    "duration": 207,
    "start_time": "2022-06-08T17:49:36.224Z"
   },
   {
    "duration": 235,
    "start_time": "2022-06-08T17:50:02.524Z"
   },
   {
    "duration": 186,
    "start_time": "2022-06-08T17:51:12.682Z"
   },
   {
    "duration": 10,
    "start_time": "2022-06-08T17:51:27.292Z"
   },
   {
    "duration": 17,
    "start_time": "2022-06-08T17:52:18.167Z"
   },
   {
    "duration": 15,
    "start_time": "2022-06-08T17:52:32.234Z"
   },
   {
    "duration": 36,
    "start_time": "2022-06-08T17:55:12.670Z"
   },
   {
    "duration": 10,
    "start_time": "2022-06-08T17:56:05.641Z"
   },
   {
    "duration": 13,
    "start_time": "2022-06-08T17:56:09.831Z"
   },
   {
    "duration": 87,
    "start_time": "2022-06-08T17:58:23.314Z"
   },
   {
    "duration": 226,
    "start_time": "2022-06-08T17:58:25.885Z"
   },
   {
    "duration": 19,
    "start_time": "2022-06-08T17:58:26.581Z"
   },
   {
    "duration": 224,
    "start_time": "2022-06-08T18:00:39.618Z"
   },
   {
    "duration": 225,
    "start_time": "2022-06-08T18:00:59.784Z"
   },
   {
    "duration": 11,
    "start_time": "2022-06-08T18:06:26.489Z"
   },
   {
    "duration": 21,
    "start_time": "2022-06-08T18:06:48.649Z"
   },
   {
    "duration": 197,
    "start_time": "2022-06-08T18:09:05.426Z"
   },
   {
    "duration": 11,
    "start_time": "2022-06-08T18:09:09.084Z"
   },
   {
    "duration": 178,
    "start_time": "2022-06-08T18:10:35.106Z"
   },
   {
    "duration": 13,
    "start_time": "2022-06-08T18:10:37.954Z"
   },
   {
    "duration": 200,
    "start_time": "2022-06-08T18:10:51.106Z"
   },
   {
    "duration": 11,
    "start_time": "2022-06-08T18:10:54.348Z"
   },
   {
    "duration": 259,
    "start_time": "2022-06-08T18:14:44.573Z"
   },
   {
    "duration": 225,
    "start_time": "2022-06-08T18:14:56.059Z"
   },
   {
    "duration": 247,
    "start_time": "2022-06-08T18:15:04.142Z"
   },
   {
    "duration": 9,
    "start_time": "2022-06-08T18:16:12.182Z"
   },
   {
    "duration": 201,
    "start_time": "2022-06-08T18:17:04.942Z"
   },
   {
    "duration": 14,
    "start_time": "2022-06-08T18:17:16.426Z"
   },
   {
    "duration": 221,
    "start_time": "2022-06-08T18:17:24.577Z"
   },
   {
    "duration": 12,
    "start_time": "2022-06-08T18:17:26.095Z"
   },
   {
    "duration": 7,
    "start_time": "2022-06-08T18:19:06.767Z"
   },
   {
    "duration": 257,
    "start_time": "2022-06-08T18:19:44.888Z"
   },
   {
    "duration": 22,
    "start_time": "2022-06-08T18:19:56.149Z"
   },
   {
    "duration": 8,
    "start_time": "2022-06-08T18:20:28.840Z"
   },
   {
    "duration": 73,
    "start_time": "2022-06-08T18:20:33.958Z"
   },
   {
    "duration": 72,
    "start_time": "2022-06-08T18:27:38.752Z"
   },
   {
    "duration": 68,
    "start_time": "2022-06-08T18:28:03.433Z"
   },
   {
    "duration": 13,
    "start_time": "2022-06-08T18:31:02.601Z"
   },
   {
    "duration": 247,
    "start_time": "2022-06-08T18:32:21.296Z"
   },
   {
    "duration": 10,
    "start_time": "2022-06-08T18:32:26.690Z"
   },
   {
    "duration": 851,
    "start_time": "2022-06-09T18:40:34.035Z"
   },
   {
    "duration": 334,
    "start_time": "2022-06-09T18:40:34.888Z"
   },
   {
    "duration": 160,
    "start_time": "2022-06-09T18:40:35.224Z"
   },
   {
    "duration": 4,
    "start_time": "2022-06-09T18:40:35.386Z"
   },
   {
    "duration": 18,
    "start_time": "2022-06-09T18:40:35.391Z"
   },
   {
    "duration": 262,
    "start_time": "2022-06-09T18:40:35.411Z"
   },
   {
    "duration": 8,
    "start_time": "2022-06-09T18:40:35.677Z"
   },
   {
    "duration": 354,
    "start_time": "2022-06-09T18:40:35.686Z"
   },
   {
    "duration": 8,
    "start_time": "2022-06-09T18:40:36.042Z"
   },
   {
    "duration": 333,
    "start_time": "2022-06-09T18:40:36.051Z"
   },
   {
    "duration": 9,
    "start_time": "2022-06-09T18:40:36.385Z"
   },
   {
    "duration": 89,
    "start_time": "2022-06-09T18:40:36.396Z"
   },
   {
    "duration": 221,
    "start_time": "2022-06-09T18:40:36.487Z"
   },
   {
    "duration": 9,
    "start_time": "2022-06-09T18:40:36.711Z"
   },
   {
    "duration": 281,
    "start_time": "2022-06-09T18:40:36.721Z"
   },
   {
    "duration": 74,
    "start_time": "2022-06-09T18:40:37.004Z"
   },
   {
    "duration": 2,
    "start_time": "2022-06-09T18:40:37.080Z"
   },
   {
    "duration": 104,
    "start_time": "2022-06-09T18:40:37.084Z"
   },
   {
    "duration": 136,
    "start_time": "2022-06-09T18:40:37.190Z"
   },
   {
    "duration": 93,
    "start_time": "2022-06-09T18:45:56.230Z"
   },
   {
    "duration": 88,
    "start_time": "2022-06-09T18:45:58.230Z"
   },
   {
    "duration": 101,
    "start_time": "2022-06-09T18:46:00.480Z"
   },
   {
    "duration": 88,
    "start_time": "2022-06-09T18:46:08.222Z"
   },
   {
    "duration": 101,
    "start_time": "2022-06-09T18:46:09.938Z"
   },
   {
    "duration": 123,
    "start_time": "2022-06-09T18:46:27.212Z"
   },
   {
    "duration": 86,
    "start_time": "2022-06-09T18:46:45.718Z"
   },
   {
    "duration": 20,
    "start_time": "2022-06-09T18:46:57.911Z"
   },
   {
    "duration": 290,
    "start_time": "2022-06-09T19:01:14.649Z"
   },
   {
    "duration": 183,
    "start_time": "2022-06-09T19:01:45.229Z"
   },
   {
    "duration": 3,
    "start_time": "2022-06-09T19:12:07.159Z"
   },
   {
    "duration": 19,
    "start_time": "2022-06-09T19:12:16.835Z"
   },
   {
    "duration": 28,
    "start_time": "2022-06-09T19:12:52.095Z"
   },
   {
    "duration": 22,
    "start_time": "2022-06-09T19:13:03.718Z"
   },
   {
    "duration": 26,
    "start_time": "2022-06-09T19:13:09.384Z"
   },
   {
    "duration": 31,
    "start_time": "2022-06-09T19:20:11.730Z"
   },
   {
    "duration": 20,
    "start_time": "2022-06-09T19:21:01.017Z"
   },
   {
    "duration": 7,
    "start_time": "2022-06-09T19:22:30.303Z"
   },
   {
    "duration": 251,
    "start_time": "2022-06-09T19:22:44.028Z"
   },
   {
    "duration": 124,
    "start_time": "2022-06-09T19:27:24.891Z"
   },
   {
    "duration": 269,
    "start_time": "2022-06-09T19:28:22.084Z"
   },
   {
    "duration": 20,
    "start_time": "2022-06-09T19:28:39.568Z"
   },
   {
    "duration": 54,
    "start_time": "2022-06-09T19:28:47.131Z"
   },
   {
    "duration": 22,
    "start_time": "2022-06-09T19:28:50.579Z"
   },
   {
    "duration": 41,
    "start_time": "2022-06-09T19:29:04.491Z"
   },
   {
    "duration": 61,
    "start_time": "2022-06-09T19:29:21.775Z"
   },
   {
    "duration": 157,
    "start_time": "2022-06-09T19:29:41.254Z"
   },
   {
    "duration": 67,
    "start_time": "2022-06-09T19:29:43.718Z"
   },
   {
    "duration": 27,
    "start_time": "2022-06-09T19:31:29.235Z"
   },
   {
    "duration": 72,
    "start_time": "2022-06-09T19:31:34.746Z"
   },
   {
    "duration": 45,
    "start_time": "2022-06-10T14:51:16.762Z"
   },
   {
    "duration": 777,
    "start_time": "2022-06-10T14:51:21.470Z"
   },
   {
    "duration": 312,
    "start_time": "2022-06-10T14:51:22.249Z"
   },
   {
    "duration": 3,
    "start_time": "2022-06-10T14:51:22.563Z"
   },
   {
    "duration": 112,
    "start_time": "2022-06-10T14:51:22.568Z"
   },
   {
    "duration": 5,
    "start_time": "2022-06-10T14:51:22.681Z"
   },
   {
    "duration": 26,
    "start_time": "2022-06-10T14:51:22.688Z"
   },
   {
    "duration": 249,
    "start_time": "2022-06-10T14:51:22.716Z"
   },
   {
    "duration": 7,
    "start_time": "2022-06-10T14:51:22.967Z"
   },
   {
    "duration": 330,
    "start_time": "2022-06-10T14:51:22.976Z"
   },
   {
    "duration": 9,
    "start_time": "2022-06-10T14:51:23.308Z"
   },
   {
    "duration": 295,
    "start_time": "2022-06-10T14:51:23.319Z"
   },
   {
    "duration": 7,
    "start_time": "2022-06-10T14:51:23.616Z"
   },
   {
    "duration": 92,
    "start_time": "2022-06-10T14:51:23.624Z"
   },
   {
    "duration": 225,
    "start_time": "2022-06-10T14:51:23.719Z"
   },
   {
    "duration": 9,
    "start_time": "2022-06-10T14:51:23.946Z"
   },
   {
    "duration": 248,
    "start_time": "2022-06-10T14:51:23.957Z"
   },
   {
    "duration": 69,
    "start_time": "2022-06-10T14:51:24.207Z"
   },
   {
    "duration": 3,
    "start_time": "2022-06-10T14:51:24.278Z"
   },
   {
    "duration": 81,
    "start_time": "2022-06-10T14:51:24.282Z"
   },
   {
    "duration": 87,
    "start_time": "2022-06-10T14:51:24.365Z"
   },
   {
    "duration": 15,
    "start_time": "2022-06-10T14:51:24.454Z"
   },
   {
    "duration": 157,
    "start_time": "2022-06-10T14:51:24.470Z"
   },
   {
    "duration": 147,
    "start_time": "2022-06-10T14:51:24.629Z"
   },
   {
    "duration": 151,
    "start_time": "2022-06-10T14:51:24.778Z"
   },
   {
    "duration": 140,
    "start_time": "2022-06-10T14:51:24.931Z"
   },
   {
    "duration": 294,
    "start_time": "2022-06-10T14:51:25.072Z"
   },
   {
    "duration": 29,
    "start_time": "2022-06-10T14:51:25.367Z"
   },
   {
    "duration": 60,
    "start_time": "2022-06-10T14:51:25.397Z"
   },
   {
    "duration": 77,
    "start_time": "2022-06-10T14:51:25.458Z"
   },
   {
    "duration": 67,
    "start_time": "2022-06-10T14:51:35.558Z"
   },
   {
    "duration": 44,
    "start_time": "2022-06-10T14:52:18.102Z"
   },
   {
    "duration": 48,
    "start_time": "2022-06-10T14:52:38.752Z"
   },
   {
    "duration": 18,
    "start_time": "2022-06-10T14:52:44.086Z"
   },
   {
    "duration": 21,
    "start_time": "2022-06-10T14:57:02.477Z"
   },
   {
    "duration": 257,
    "start_time": "2022-06-10T14:57:15.509Z"
   },
   {
    "duration": 100,
    "start_time": "2022-06-10T14:58:13.293Z"
   },
   {
    "duration": 100,
    "start_time": "2022-06-10T14:59:57.637Z"
   },
   {
    "duration": 101,
    "start_time": "2022-06-10T15:00:59.602Z"
   },
   {
    "duration": 87,
    "start_time": "2022-06-10T15:01:21.148Z"
   },
   {
    "duration": 40,
    "start_time": "2022-06-10T19:41:48.701Z"
   },
   {
    "duration": 797,
    "start_time": "2022-06-10T19:41:54.377Z"
   },
   {
    "duration": 294,
    "start_time": "2022-06-10T19:41:55.175Z"
   },
   {
    "duration": 3,
    "start_time": "2022-06-10T19:41:55.471Z"
   },
   {
    "duration": 167,
    "start_time": "2022-06-10T19:41:55.476Z"
   },
   {
    "duration": 3,
    "start_time": "2022-06-10T19:41:55.644Z"
   },
   {
    "duration": 13,
    "start_time": "2022-06-10T19:41:55.648Z"
   },
   {
    "duration": 457,
    "start_time": "2022-06-10T19:41:55.663Z"
   },
   {
    "duration": 7,
    "start_time": "2022-06-10T19:41:56.122Z"
   },
   {
    "duration": 383,
    "start_time": "2022-06-10T19:41:56.130Z"
   },
   {
    "duration": 8,
    "start_time": "2022-06-10T19:41:56.516Z"
   },
   {
    "duration": 147,
    "start_time": "2022-06-10T19:41:56.525Z"
   },
   {
    "duration": 5,
    "start_time": "2022-06-10T19:41:56.674Z"
   },
   {
    "duration": 71,
    "start_time": "2022-06-10T19:41:56.680Z"
   },
   {
    "duration": 195,
    "start_time": "2022-06-10T19:41:56.752Z"
   },
   {
    "duration": 10,
    "start_time": "2022-06-10T19:41:56.949Z"
   },
   {
    "duration": 249,
    "start_time": "2022-06-10T19:41:56.961Z"
   },
   {
    "duration": 59,
    "start_time": "2022-06-10T19:41:57.211Z"
   },
   {
    "duration": 3,
    "start_time": "2022-06-10T19:41:57.271Z"
   },
   {
    "duration": 73,
    "start_time": "2022-06-10T19:41:57.275Z"
   },
   {
    "duration": 77,
    "start_time": "2022-06-10T19:41:57.350Z"
   },
   {
    "duration": 14,
    "start_time": "2022-06-10T19:41:57.429Z"
   },
   {
    "duration": 150,
    "start_time": "2022-06-10T19:41:57.444Z"
   },
   {
    "duration": 127,
    "start_time": "2022-06-10T19:41:57.596Z"
   },
   {
    "duration": 119,
    "start_time": "2022-06-10T19:41:57.724Z"
   },
   {
    "duration": 117,
    "start_time": "2022-06-10T19:41:57.844Z"
   },
   {
    "duration": 278,
    "start_time": "2022-06-10T19:41:57.962Z"
   },
   {
    "duration": 27,
    "start_time": "2022-06-10T19:41:58.242Z"
   },
   {
    "duration": 52,
    "start_time": "2022-06-10T19:41:58.272Z"
   },
   {
    "duration": 71,
    "start_time": "2022-06-10T19:41:58.325Z"
   },
   {
    "duration": 113,
    "start_time": "2022-06-10T19:41:58.397Z"
   },
   {
    "duration": 95,
    "start_time": "2022-06-10T19:41:58.512Z"
   },
   {
    "duration": 45,
    "start_time": "2022-06-10T19:41:58.609Z"
   },
   {
    "duration": 47,
    "start_time": "2022-06-10T19:41:58.655Z"
   },
   {
    "duration": 183,
    "start_time": "2022-06-10T19:42:54.923Z"
   },
   {
    "duration": 128,
    "start_time": "2022-06-10T19:45:04.683Z"
   },
   {
    "duration": 124,
    "start_time": "2022-06-10T19:45:10.157Z"
   },
   {
    "duration": 139,
    "start_time": "2022-06-10T19:48:25.224Z"
   },
   {
    "duration": 123,
    "start_time": "2022-06-10T19:49:27.479Z"
   },
   {
    "duration": 31,
    "start_time": "2022-06-10T19:59:42.933Z"
   },
   {
    "duration": 128,
    "start_time": "2022-06-10T19:59:51.779Z"
   },
   {
    "duration": 164,
    "start_time": "2022-06-10T20:02:52.121Z"
   },
   {
    "duration": 139,
    "start_time": "2022-06-10T20:03:05.046Z"
   },
   {
    "duration": 7,
    "start_time": "2022-06-10T20:03:39.679Z"
   },
   {
    "duration": 7,
    "start_time": "2022-06-10T20:04:05.890Z"
   },
   {
    "duration": 2,
    "start_time": "2022-06-10T20:04:12.153Z"
   },
   {
    "duration": 8,
    "start_time": "2022-06-10T20:04:32.143Z"
   },
   {
    "duration": 11,
    "start_time": "2022-06-10T20:04:37.275Z"
   },
   {
    "duration": 24,
    "start_time": "2022-06-10T20:07:13.472Z"
   },
   {
    "duration": 57,
    "start_time": "2022-06-10T20:07:22.773Z"
   },
   {
    "duration": 116,
    "start_time": "2022-06-10T20:14:54.929Z"
   },
   {
    "duration": 9,
    "start_time": "2022-06-10T20:15:37.942Z"
   },
   {
    "duration": 8,
    "start_time": "2022-06-10T20:15:49.692Z"
   },
   {
    "duration": 25,
    "start_time": "2022-06-10T20:18:17.761Z"
   },
   {
    "duration": 123,
    "start_time": "2022-06-10T20:19:03.149Z"
   },
   {
    "duration": 127,
    "start_time": "2022-06-10T20:19:16.782Z"
   },
   {
    "duration": 24,
    "start_time": "2022-06-10T20:20:36.639Z"
   },
   {
    "duration": 73,
    "start_time": "2022-06-10T20:27:22.741Z"
   },
   {
    "duration": 8,
    "start_time": "2022-06-10T20:28:03.286Z"
   },
   {
    "duration": 19,
    "start_time": "2022-06-10T20:57:32.865Z"
   },
   {
    "duration": 3,
    "start_time": "2022-06-10T21:27:19.462Z"
   },
   {
    "duration": 58,
    "start_time": "2022-06-11T08:43:27.483Z"
   },
   {
    "duration": 863,
    "start_time": "2022-06-11T08:43:37.264Z"
   },
   {
    "duration": 350,
    "start_time": "2022-06-11T08:43:38.129Z"
   },
   {
    "duration": 3,
    "start_time": "2022-06-11T08:43:38.481Z"
   },
   {
    "duration": 127,
    "start_time": "2022-06-11T08:43:38.486Z"
   },
   {
    "duration": 4,
    "start_time": "2022-06-11T08:43:38.615Z"
   },
   {
    "duration": 15,
    "start_time": "2022-06-11T08:43:38.620Z"
   },
   {
    "duration": 289,
    "start_time": "2022-06-11T08:43:38.636Z"
   },
   {
    "duration": 10,
    "start_time": "2022-06-11T08:43:38.927Z"
   },
   {
    "duration": 378,
    "start_time": "2022-06-11T08:43:38.939Z"
   },
   {
    "duration": 9,
    "start_time": "2022-06-11T08:43:39.318Z"
   },
   {
    "duration": 317,
    "start_time": "2022-06-11T08:43:39.330Z"
   },
   {
    "duration": 6,
    "start_time": "2022-06-11T08:43:39.649Z"
   },
   {
    "duration": 90,
    "start_time": "2022-06-11T08:43:39.657Z"
   },
   {
    "duration": 94,
    "start_time": "2022-06-11T08:43:39.751Z"
   },
   {
    "duration": 0,
    "start_time": "2022-06-11T08:43:39.847Z"
   },
   {
    "duration": 0,
    "start_time": "2022-06-11T08:43:39.848Z"
   },
   {
    "duration": 0,
    "start_time": "2022-06-11T08:43:39.849Z"
   },
   {
    "duration": 0,
    "start_time": "2022-06-11T08:43:39.867Z"
   },
   {
    "duration": 0,
    "start_time": "2022-06-11T08:43:39.869Z"
   },
   {
    "duration": 0,
    "start_time": "2022-06-11T08:43:39.870Z"
   },
   {
    "duration": 0,
    "start_time": "2022-06-11T08:43:39.872Z"
   },
   {
    "duration": 0,
    "start_time": "2022-06-11T08:43:39.873Z"
   },
   {
    "duration": 0,
    "start_time": "2022-06-11T08:43:39.875Z"
   },
   {
    "duration": 0,
    "start_time": "2022-06-11T08:43:39.876Z"
   },
   {
    "duration": 0,
    "start_time": "2022-06-11T08:43:39.878Z"
   },
   {
    "duration": 0,
    "start_time": "2022-06-11T08:43:39.880Z"
   },
   {
    "duration": 0,
    "start_time": "2022-06-11T08:43:39.881Z"
   },
   {
    "duration": 0,
    "start_time": "2022-06-11T08:43:39.882Z"
   },
   {
    "duration": 0,
    "start_time": "2022-06-11T08:43:39.883Z"
   },
   {
    "duration": 0,
    "start_time": "2022-06-11T08:43:39.884Z"
   },
   {
    "duration": 9,
    "start_time": "2022-06-11T08:48:23.277Z"
   },
   {
    "duration": 10,
    "start_time": "2022-06-11T08:48:30.498Z"
   },
   {
    "duration": 36,
    "start_time": "2022-06-11T08:56:55.945Z"
   },
   {
    "duration": 60,
    "start_time": "2022-06-11T08:57:22.235Z"
   },
   {
    "duration": 82,
    "start_time": "2022-06-11T08:57:28.803Z"
   },
   {
    "duration": 300,
    "start_time": "2022-06-11T09:04:37.865Z"
   },
   {
    "duration": 25,
    "start_time": "2022-06-11T09:04:49.694Z"
   },
   {
    "duration": 836,
    "start_time": "2022-06-11T09:05:05.203Z"
   },
   {
    "duration": 195,
    "start_time": "2022-06-11T09:05:06.041Z"
   },
   {
    "duration": 3,
    "start_time": "2022-06-11T09:05:06.238Z"
   },
   {
    "duration": 115,
    "start_time": "2022-06-11T09:05:06.243Z"
   },
   {
    "duration": 5,
    "start_time": "2022-06-11T09:05:06.360Z"
   },
   {
    "duration": 16,
    "start_time": "2022-06-11T09:05:06.366Z"
   },
   {
    "duration": 176,
    "start_time": "2022-06-11T09:05:06.383Z"
   },
   {
    "duration": 7,
    "start_time": "2022-06-11T09:05:06.564Z"
   },
   {
    "duration": 160,
    "start_time": "2022-06-11T09:05:06.573Z"
   },
   {
    "duration": 8,
    "start_time": "2022-06-11T09:05:06.736Z"
   },
   {
    "duration": 119,
    "start_time": "2022-06-11T09:05:06.745Z"
   },
   {
    "duration": 10,
    "start_time": "2022-06-11T09:05:06.866Z"
   },
   {
    "duration": 32,
    "start_time": "2022-06-11T09:05:06.878Z"
   },
   {
    "duration": 69,
    "start_time": "2022-06-11T09:05:06.912Z"
   },
   {
    "duration": 3,
    "start_time": "2022-06-11T09:05:06.983Z"
   },
   {
    "duration": 103,
    "start_time": "2022-06-11T09:05:06.988Z"
   },
   {
    "duration": 0,
    "start_time": "2022-06-11T09:05:07.092Z"
   },
   {
    "duration": 0,
    "start_time": "2022-06-11T09:05:07.093Z"
   },
   {
    "duration": 0,
    "start_time": "2022-06-11T09:05:07.094Z"
   },
   {
    "duration": 0,
    "start_time": "2022-06-11T09:05:07.095Z"
   },
   {
    "duration": 0,
    "start_time": "2022-06-11T09:05:07.096Z"
   },
   {
    "duration": 0,
    "start_time": "2022-06-11T09:05:07.097Z"
   },
   {
    "duration": 0,
    "start_time": "2022-06-11T09:05:07.098Z"
   },
   {
    "duration": 0,
    "start_time": "2022-06-11T09:05:07.099Z"
   },
   {
    "duration": 0,
    "start_time": "2022-06-11T09:05:07.101Z"
   },
   {
    "duration": 0,
    "start_time": "2022-06-11T09:05:07.102Z"
   },
   {
    "duration": 0,
    "start_time": "2022-06-11T09:05:07.103Z"
   },
   {
    "duration": 0,
    "start_time": "2022-06-11T09:05:07.104Z"
   },
   {
    "duration": 0,
    "start_time": "2022-06-11T09:05:07.105Z"
   },
   {
    "duration": 0,
    "start_time": "2022-06-11T09:05:07.106Z"
   },
   {
    "duration": 0,
    "start_time": "2022-06-11T09:05:07.107Z"
   },
   {
    "duration": 0,
    "start_time": "2022-06-11T09:05:07.108Z"
   },
   {
    "duration": 10,
    "start_time": "2022-06-11T09:05:22.438Z"
   },
   {
    "duration": 20,
    "start_time": "2022-06-11T09:05:30.348Z"
   },
   {
    "duration": 15,
    "start_time": "2022-06-11T09:05:38.812Z"
   },
   {
    "duration": 32,
    "start_time": "2022-06-11T09:07:31.762Z"
   },
   {
    "duration": 10,
    "start_time": "2022-06-11T09:07:51.478Z"
   },
   {
    "duration": 13,
    "start_time": "2022-06-11T09:08:16.277Z"
   },
   {
    "duration": 16,
    "start_time": "2022-06-11T09:08:17.802Z"
   },
   {
    "duration": 53,
    "start_time": "2022-06-11T09:16:12.607Z"
   },
   {
    "duration": 55,
    "start_time": "2022-06-11T09:16:43.995Z"
   },
   {
    "duration": 10,
    "start_time": "2022-06-11T09:17:06.778Z"
   },
   {
    "duration": 60,
    "start_time": "2022-06-11T09:22:51.264Z"
   },
   {
    "duration": 78,
    "start_time": "2022-06-11T09:23:04.516Z"
   },
   {
    "duration": 13,
    "start_time": "2022-06-11T09:26:35.291Z"
   },
   {
    "duration": 11,
    "start_time": "2022-06-11T09:27:05.847Z"
   },
   {
    "duration": 37,
    "start_time": "2022-06-11T09:27:13.687Z"
   },
   {
    "duration": 35,
    "start_time": "2022-06-11T09:27:23.083Z"
   },
   {
    "duration": 5,
    "start_time": "2022-06-11T09:27:33.347Z"
   },
   {
    "duration": 5,
    "start_time": "2022-06-11T09:27:43.689Z"
   },
   {
    "duration": 3,
    "start_time": "2022-06-11T09:27:46.674Z"
   },
   {
    "duration": 41,
    "start_time": "2022-06-11T09:34:36.934Z"
   },
   {
    "duration": 15,
    "start_time": "2022-06-11T09:34:42.545Z"
   },
   {
    "duration": 50,
    "start_time": "2022-06-11T09:34:53.682Z"
   },
   {
    "duration": 13,
    "start_time": "2022-06-11T09:34:54.875Z"
   },
   {
    "duration": 50,
    "start_time": "2022-06-11T09:35:06.657Z"
   },
   {
    "duration": 14,
    "start_time": "2022-06-11T09:35:07.079Z"
   },
   {
    "duration": 40,
    "start_time": "2022-06-11T09:35:13.370Z"
   },
   {
    "duration": 16,
    "start_time": "2022-06-11T09:35:14.190Z"
   },
   {
    "duration": 47,
    "start_time": "2022-06-11T09:35:57.295Z"
   },
   {
    "duration": 10,
    "start_time": "2022-06-11T09:37:08.944Z"
   },
   {
    "duration": 43,
    "start_time": "2022-06-11T09:37:15.995Z"
   },
   {
    "duration": 44,
    "start_time": "2022-06-11T09:37:28.278Z"
   },
   {
    "duration": 46,
    "start_time": "2022-06-11T09:41:47.336Z"
   },
   {
    "duration": 75,
    "start_time": "2022-06-11T09:41:56.446Z"
   },
   {
    "duration": 62,
    "start_time": "2022-06-11T09:42:24.993Z"
   },
   {
    "duration": 94,
    "start_time": "2022-06-11T09:42:28.953Z"
   },
   {
    "duration": 813,
    "start_time": "2022-06-11T09:42:34.189Z"
   },
   {
    "duration": 181,
    "start_time": "2022-06-11T09:42:35.004Z"
   },
   {
    "duration": 2,
    "start_time": "2022-06-11T09:42:35.187Z"
   },
   {
    "duration": 110,
    "start_time": "2022-06-11T09:42:35.191Z"
   },
   {
    "duration": 4,
    "start_time": "2022-06-11T09:42:35.302Z"
   },
   {
    "duration": 17,
    "start_time": "2022-06-11T09:42:35.308Z"
   },
   {
    "duration": 192,
    "start_time": "2022-06-11T09:42:35.327Z"
   },
   {
    "duration": 7,
    "start_time": "2022-06-11T09:42:35.521Z"
   },
   {
    "duration": 168,
    "start_time": "2022-06-11T09:42:35.529Z"
   },
   {
    "duration": 8,
    "start_time": "2022-06-11T09:42:35.699Z"
   },
   {
    "duration": 117,
    "start_time": "2022-06-11T09:42:35.709Z"
   },
   {
    "duration": 7,
    "start_time": "2022-06-11T09:42:35.827Z"
   },
   {
    "duration": 35,
    "start_time": "2022-06-11T09:42:35.835Z"
   },
   {
    "duration": 93,
    "start_time": "2022-06-11T09:42:35.872Z"
   },
   {
    "duration": 53,
    "start_time": "2022-06-11T09:42:35.967Z"
   },
   {
    "duration": 91,
    "start_time": "2022-06-11T09:42:36.022Z"
   },
   {
    "duration": 56,
    "start_time": "2022-06-11T09:42:36.115Z"
   },
   {
    "duration": 44,
    "start_time": "2022-06-11T09:42:36.174Z"
   },
   {
    "duration": 3,
    "start_time": "2022-06-11T09:42:36.220Z"
   },
   {
    "duration": 108,
    "start_time": "2022-06-11T09:42:36.225Z"
   },
   {
    "duration": 0,
    "start_time": "2022-06-11T09:42:36.335Z"
   },
   {
    "duration": 0,
    "start_time": "2022-06-11T09:42:36.336Z"
   },
   {
    "duration": 32,
    "start_time": "2022-06-11T09:44:10.846Z"
   },
   {
    "duration": 60,
    "start_time": "2022-06-11T09:52:13.947Z"
   },
   {
    "duration": 32,
    "start_time": "2022-06-11T09:52:58.501Z"
   },
   {
    "duration": 42,
    "start_time": "2022-06-11T09:53:07.365Z"
   },
   {
    "duration": 11,
    "start_time": "2022-06-11T09:53:54.700Z"
   },
   {
    "duration": 11,
    "start_time": "2022-06-11T09:54:12.624Z"
   },
   {
    "duration": 11,
    "start_time": "2022-06-11T09:54:44.739Z"
   },
   {
    "duration": 13,
    "start_time": "2022-06-11T10:02:45.366Z"
   },
   {
    "duration": 14,
    "start_time": "2022-06-11T10:02:50.352Z"
   },
   {
    "duration": 28,
    "start_time": "2022-06-11T10:03:39.995Z"
   },
   {
    "duration": 9,
    "start_time": "2022-06-11T10:03:46.616Z"
   },
   {
    "duration": 18,
    "start_time": "2022-06-11T10:03:47.086Z"
   },
   {
    "duration": 9,
    "start_time": "2022-06-11T10:05:07.723Z"
   },
   {
    "duration": 22,
    "start_time": "2022-06-11T10:05:14.546Z"
   },
   {
    "duration": 9,
    "start_time": "2022-06-11T10:06:44.578Z"
   },
   {
    "duration": 8,
    "start_time": "2022-06-11T10:06:51.842Z"
   },
   {
    "duration": 39,
    "start_time": "2022-06-11T10:06:57.249Z"
   },
   {
    "duration": 8,
    "start_time": "2022-06-11T10:07:37.888Z"
   },
   {
    "duration": 21,
    "start_time": "2022-06-11T10:07:38.315Z"
   },
   {
    "duration": 4,
    "start_time": "2022-06-11T10:12:40.501Z"
   },
   {
    "duration": 7,
    "start_time": "2022-06-11T10:13:41.537Z"
   },
   {
    "duration": 25,
    "start_time": "2022-06-11T10:13:45.103Z"
   },
   {
    "duration": 28,
    "start_time": "2022-06-11T10:14:16.698Z"
   },
   {
    "duration": 25,
    "start_time": "2022-06-11T10:14:27.104Z"
   },
   {
    "duration": 6,
    "start_time": "2022-06-11T10:25:16.664Z"
   },
   {
    "duration": 286,
    "start_time": "2022-06-11T10:26:28.625Z"
   },
   {
    "duration": 112,
    "start_time": "2022-06-11T10:27:30.387Z"
   },
   {
    "duration": 18,
    "start_time": "2022-06-11T10:27:40.181Z"
   },
   {
    "duration": 48,
    "start_time": "2022-06-11T10:27:54.966Z"
   },
   {
    "duration": 40,
    "start_time": "2022-06-12T07:11:29.827Z"
   },
   {
    "duration": 739,
    "start_time": "2022-06-12T07:11:35.487Z"
   },
   {
    "duration": 298,
    "start_time": "2022-06-12T07:11:36.228Z"
   },
   {
    "duration": 4,
    "start_time": "2022-06-12T07:11:36.530Z"
   },
   {
    "duration": 159,
    "start_time": "2022-06-12T07:11:36.536Z"
   },
   {
    "duration": 3,
    "start_time": "2022-06-12T07:11:36.697Z"
   },
   {
    "duration": 13,
    "start_time": "2022-06-12T07:11:36.702Z"
   },
   {
    "duration": 484,
    "start_time": "2022-06-12T07:11:36.717Z"
   },
   {
    "duration": 7,
    "start_time": "2022-06-12T07:11:37.202Z"
   },
   {
    "duration": 354,
    "start_time": "2022-06-12T07:11:37.211Z"
   },
   {
    "duration": 8,
    "start_time": "2022-06-12T07:11:37.566Z"
   },
   {
    "duration": 147,
    "start_time": "2022-06-12T07:11:37.576Z"
   },
   {
    "duration": 7,
    "start_time": "2022-06-12T07:11:37.724Z"
   },
   {
    "duration": 75,
    "start_time": "2022-06-12T07:11:37.732Z"
   },
   {
    "duration": 70,
    "start_time": "2022-06-12T07:11:37.808Z"
   },
   {
    "duration": 50,
    "start_time": "2022-06-12T07:11:37.879Z"
   },
   {
    "duration": 60,
    "start_time": "2022-06-12T07:11:37.930Z"
   },
   {
    "duration": 54,
    "start_time": "2022-06-12T07:11:37.992Z"
   },
   {
    "duration": 9,
    "start_time": "2022-06-12T07:11:38.047Z"
   },
   {
    "duration": 39,
    "start_time": "2022-06-12T07:11:38.057Z"
   },
   {
    "duration": 39,
    "start_time": "2022-06-12T07:11:38.097Z"
   },
   {
    "duration": 8,
    "start_time": "2022-06-12T07:11:38.137Z"
   },
   {
    "duration": 48,
    "start_time": "2022-06-12T07:11:38.147Z"
   },
   {
    "duration": 44,
    "start_time": "2022-06-12T07:11:38.196Z"
   },
   {
    "duration": 8,
    "start_time": "2022-06-12T07:11:38.242Z"
   },
   {
    "duration": 8,
    "start_time": "2022-06-12T07:11:38.252Z"
   },
   {
    "duration": 11,
    "start_time": "2022-06-12T07:11:38.261Z"
   },
   {
    "duration": 6,
    "start_time": "2022-06-12T07:11:38.275Z"
   },
   {
    "duration": 11,
    "start_time": "2022-06-12T07:11:38.282Z"
   },
   {
    "duration": 30,
    "start_time": "2022-06-12T07:11:38.295Z"
   },
   {
    "duration": 18,
    "start_time": "2022-06-12T07:11:38.326Z"
   },
   {
    "duration": 2,
    "start_time": "2022-06-12T07:11:38.346Z"
   },
   {
    "duration": 7,
    "start_time": "2022-06-12T07:11:38.350Z"
   },
   {
    "duration": 24,
    "start_time": "2022-06-12T07:11:38.358Z"
   },
   {
    "duration": 2,
    "start_time": "2022-06-12T07:11:38.383Z"
   },
   {
    "duration": 4,
    "start_time": "2022-06-12T07:11:38.387Z"
   },
   {
    "duration": 122,
    "start_time": "2022-06-12T07:11:38.393Z"
   },
   {
    "duration": 36,
    "start_time": "2022-06-12T07:11:38.517Z"
   },
   {
    "duration": 3,
    "start_time": "2022-06-12T07:15:27.059Z"
   },
   {
    "duration": 16,
    "start_time": "2022-06-12T07:17:33.401Z"
   },
   {
    "duration": 3,
    "start_time": "2022-06-12T07:17:43.691Z"
   },
   {
    "duration": 4,
    "start_time": "2022-06-12T07:17:43.707Z"
   },
   {
    "duration": 84,
    "start_time": "2022-06-12T07:17:43.728Z"
   },
   {
    "duration": 33,
    "start_time": "2022-06-12T07:17:43.814Z"
   },
   {
    "duration": 4,
    "start_time": "2022-06-12T08:17:04.760Z"
   },
   {
    "duration": 97,
    "start_time": "2022-06-12T08:17:11.620Z"
   },
   {
    "duration": 39,
    "start_time": "2022-06-12T08:17:12.259Z"
   },
   {
    "duration": 4,
    "start_time": "2022-06-12T08:38:13.422Z"
   },
   {
    "duration": 4,
    "start_time": "2022-06-12T08:38:14.896Z"
   },
   {
    "duration": 103,
    "start_time": "2022-06-12T08:38:15.743Z"
   },
   {
    "duration": 47,
    "start_time": "2022-06-12T08:38:16.327Z"
   },
   {
    "duration": 768,
    "start_time": "2022-06-12T08:38:30.173Z"
   },
   {
    "duration": 150,
    "start_time": "2022-06-12T08:38:30.943Z"
   },
   {
    "duration": 3,
    "start_time": "2022-06-12T08:38:31.095Z"
   },
   {
    "duration": 118,
    "start_time": "2022-06-12T08:38:31.100Z"
   },
   {
    "duration": 4,
    "start_time": "2022-06-12T08:38:31.219Z"
   },
   {
    "duration": 22,
    "start_time": "2022-06-12T08:38:31.224Z"
   },
   {
    "duration": 159,
    "start_time": "2022-06-12T08:38:31.247Z"
   },
   {
    "duration": 7,
    "start_time": "2022-06-12T08:38:31.408Z"
   },
   {
    "duration": 138,
    "start_time": "2022-06-12T08:38:31.416Z"
   },
   {
    "duration": 8,
    "start_time": "2022-06-12T08:38:31.558Z"
   },
   {
    "duration": 99,
    "start_time": "2022-06-12T08:38:31.568Z"
   },
   {
    "duration": 6,
    "start_time": "2022-06-12T08:38:31.668Z"
   },
   {
    "duration": 27,
    "start_time": "2022-06-12T08:38:31.676Z"
   },
   {
    "duration": 79,
    "start_time": "2022-06-12T08:38:31.704Z"
   },
   {
    "duration": 70,
    "start_time": "2022-06-12T08:38:31.784Z"
   },
   {
    "duration": 80,
    "start_time": "2022-06-12T08:38:31.856Z"
   },
   {
    "duration": 44,
    "start_time": "2022-06-12T08:38:31.938Z"
   },
   {
    "duration": 12,
    "start_time": "2022-06-12T08:38:31.983Z"
   },
   {
    "duration": 60,
    "start_time": "2022-06-12T08:38:31.997Z"
   },
   {
    "duration": 28,
    "start_time": "2022-06-12T08:38:32.058Z"
   },
   {
    "duration": 11,
    "start_time": "2022-06-12T08:38:32.087Z"
   },
   {
    "duration": 74,
    "start_time": "2022-06-12T08:38:32.100Z"
   },
   {
    "duration": 32,
    "start_time": "2022-06-12T08:38:32.175Z"
   },
   {
    "duration": 22,
    "start_time": "2022-06-12T08:38:32.209Z"
   },
   {
    "duration": 10,
    "start_time": "2022-06-12T08:38:32.232Z"
   },
   {
    "duration": 12,
    "start_time": "2022-06-12T08:38:32.243Z"
   },
   {
    "duration": 8,
    "start_time": "2022-06-12T08:38:32.256Z"
   },
   {
    "duration": 14,
    "start_time": "2022-06-12T08:38:32.267Z"
   },
   {
    "duration": 7,
    "start_time": "2022-06-12T08:38:32.282Z"
   },
   {
    "duration": 53,
    "start_time": "2022-06-12T08:38:32.290Z"
   },
   {
    "duration": 3,
    "start_time": "2022-06-12T08:38:32.345Z"
   },
   {
    "duration": 7,
    "start_time": "2022-06-12T08:38:32.350Z"
   },
   {
    "duration": 33,
    "start_time": "2022-06-12T08:38:32.358Z"
   },
   {
    "duration": 5,
    "start_time": "2022-06-12T08:38:32.393Z"
   },
   {
    "duration": 30,
    "start_time": "2022-06-12T08:38:32.399Z"
   },
   {
    "duration": 90,
    "start_time": "2022-06-12T08:38:32.430Z"
   },
   {
    "duration": 32,
    "start_time": "2022-06-12T08:38:32.522Z"
   },
   {
    "duration": 4,
    "start_time": "2022-06-12T08:49:12.693Z"
   },
   {
    "duration": 773,
    "start_time": "2022-06-12T08:49:19.347Z"
   },
   {
    "duration": 155,
    "start_time": "2022-06-12T08:49:20.125Z"
   },
   {
    "duration": 3,
    "start_time": "2022-06-12T08:49:20.281Z"
   },
   {
    "duration": 121,
    "start_time": "2022-06-12T08:49:20.286Z"
   },
   {
    "duration": 4,
    "start_time": "2022-06-12T08:49:20.409Z"
   },
   {
    "duration": 22,
    "start_time": "2022-06-12T08:49:20.415Z"
   },
   {
    "duration": 161,
    "start_time": "2022-06-12T08:49:20.438Z"
   },
   {
    "duration": 7,
    "start_time": "2022-06-12T08:49:20.600Z"
   },
   {
    "duration": 143,
    "start_time": "2022-06-12T08:49:20.609Z"
   },
   {
    "duration": 8,
    "start_time": "2022-06-12T08:49:20.754Z"
   },
   {
    "duration": 109,
    "start_time": "2022-06-12T08:49:20.764Z"
   },
   {
    "duration": 9,
    "start_time": "2022-06-12T08:49:20.875Z"
   },
   {
    "duration": 35,
    "start_time": "2022-06-12T08:49:20.885Z"
   },
   {
    "duration": 73,
    "start_time": "2022-06-12T08:49:20.921Z"
   },
   {
    "duration": 55,
    "start_time": "2022-06-12T08:49:20.996Z"
   },
   {
    "duration": 75,
    "start_time": "2022-06-12T08:49:21.052Z"
   },
   {
    "duration": 40,
    "start_time": "2022-06-12T08:49:21.128Z"
   },
   {
    "duration": 9,
    "start_time": "2022-06-12T08:49:21.169Z"
   },
   {
    "duration": 54,
    "start_time": "2022-06-12T08:49:21.179Z"
   },
   {
    "duration": 23,
    "start_time": "2022-06-12T08:49:21.235Z"
   },
   {
    "duration": 9,
    "start_time": "2022-06-12T08:49:21.259Z"
   },
   {
    "duration": 63,
    "start_time": "2022-06-12T08:49:21.270Z"
   },
   {
    "duration": 28,
    "start_time": "2022-06-12T08:49:21.335Z"
   },
   {
    "duration": 9,
    "start_time": "2022-06-12T08:49:21.365Z"
   },
   {
    "duration": 9,
    "start_time": "2022-06-12T08:49:21.375Z"
   },
   {
    "duration": 11,
    "start_time": "2022-06-12T08:49:21.386Z"
   },
   {
    "duration": 31,
    "start_time": "2022-06-12T08:49:21.398Z"
   },
   {
    "duration": 14,
    "start_time": "2022-06-12T08:49:21.432Z"
   },
   {
    "duration": 7,
    "start_time": "2022-06-12T08:49:21.447Z"
   },
   {
    "duration": 19,
    "start_time": "2022-06-12T08:49:21.455Z"
   },
   {
    "duration": 3,
    "start_time": "2022-06-12T08:49:21.476Z"
   },
   {
    "duration": 9,
    "start_time": "2022-06-12T08:49:21.481Z"
   },
   {
    "duration": 54,
    "start_time": "2022-06-12T08:49:21.491Z"
   },
   {
    "duration": 4,
    "start_time": "2022-06-12T08:49:21.546Z"
   },
   {
    "duration": 5,
    "start_time": "2022-06-12T08:49:21.551Z"
   },
   {
    "duration": 99,
    "start_time": "2022-06-12T08:49:21.557Z"
   },
   {
    "duration": 34,
    "start_time": "2022-06-12T08:49:21.658Z"
   },
   {
    "duration": 750,
    "start_time": "2022-06-12T08:54:51.681Z"
   },
   {
    "duration": 149,
    "start_time": "2022-06-12T08:54:52.433Z"
   },
   {
    "duration": 3,
    "start_time": "2022-06-12T08:54:52.583Z"
   },
   {
    "duration": 108,
    "start_time": "2022-06-12T08:54:52.587Z"
   },
   {
    "duration": 5,
    "start_time": "2022-06-12T08:54:52.696Z"
   },
   {
    "duration": 18,
    "start_time": "2022-06-12T08:54:52.702Z"
   },
   {
    "duration": 178,
    "start_time": "2022-06-12T08:54:52.722Z"
   },
   {
    "duration": 7,
    "start_time": "2022-06-12T08:54:52.902Z"
   },
   {
    "duration": 147,
    "start_time": "2022-06-12T08:54:52.910Z"
   },
   {
    "duration": 9,
    "start_time": "2022-06-12T08:54:53.060Z"
   },
   {
    "duration": 104,
    "start_time": "2022-06-12T08:54:53.070Z"
   },
   {
    "duration": 6,
    "start_time": "2022-06-12T08:54:53.175Z"
   },
   {
    "duration": 30,
    "start_time": "2022-06-12T08:54:53.183Z"
   },
   {
    "duration": 79,
    "start_time": "2022-06-12T08:54:53.215Z"
   },
   {
    "duration": 51,
    "start_time": "2022-06-12T08:54:53.296Z"
   },
   {
    "duration": 87,
    "start_time": "2022-06-12T08:54:53.348Z"
   },
   {
    "duration": 47,
    "start_time": "2022-06-12T08:54:53.436Z"
   },
   {
    "duration": 10,
    "start_time": "2022-06-12T08:54:53.484Z"
   },
   {
    "duration": 58,
    "start_time": "2022-06-12T08:54:53.495Z"
   },
   {
    "duration": 25,
    "start_time": "2022-06-12T08:54:53.555Z"
   },
   {
    "duration": 9,
    "start_time": "2022-06-12T08:54:53.581Z"
   },
   {
    "duration": 67,
    "start_time": "2022-06-12T08:54:53.591Z"
   },
   {
    "duration": 31,
    "start_time": "2022-06-12T08:54:53.660Z"
   },
   {
    "duration": 10,
    "start_time": "2022-06-12T08:54:53.692Z"
   },
   {
    "duration": 29,
    "start_time": "2022-06-12T08:54:53.703Z"
   },
   {
    "duration": 14,
    "start_time": "2022-06-12T08:54:53.734Z"
   },
   {
    "duration": 8,
    "start_time": "2022-06-12T08:54:53.750Z"
   },
   {
    "duration": 15,
    "start_time": "2022-06-12T08:54:53.761Z"
   },
   {
    "duration": 7,
    "start_time": "2022-06-12T08:54:53.778Z"
   },
   {
    "duration": 45,
    "start_time": "2022-06-12T08:54:53.786Z"
   },
   {
    "duration": 3,
    "start_time": "2022-06-12T08:54:53.832Z"
   },
   {
    "duration": 10,
    "start_time": "2022-06-12T08:54:53.837Z"
   },
   {
    "duration": 29,
    "start_time": "2022-06-12T08:54:53.849Z"
   },
   {
    "duration": 131,
    "start_time": "2022-06-12T08:54:53.880Z"
   },
   {
    "duration": 0,
    "start_time": "2022-06-12T08:54:54.013Z"
   },
   {
    "duration": 0,
    "start_time": "2022-06-12T08:54:54.015Z"
   },
   {
    "duration": 0,
    "start_time": "2022-06-12T08:54:54.016Z"
   },
   {
    "duration": 5,
    "start_time": "2022-06-12T08:56:21.322Z"
   },
   {
    "duration": 4,
    "start_time": "2022-06-12T08:56:21.329Z"
   },
   {
    "duration": 106,
    "start_time": "2022-06-12T08:56:21.334Z"
   },
   {
    "duration": 36,
    "start_time": "2022-06-12T08:56:21.441Z"
   },
   {
    "duration": 803,
    "start_time": "2022-06-12T08:56:33.937Z"
   },
   {
    "duration": 175,
    "start_time": "2022-06-12T08:56:34.742Z"
   },
   {
    "duration": 2,
    "start_time": "2022-06-12T08:56:34.919Z"
   },
   {
    "duration": 116,
    "start_time": "2022-06-12T08:56:34.923Z"
   },
   {
    "duration": 5,
    "start_time": "2022-06-12T08:56:35.040Z"
   },
   {
    "duration": 23,
    "start_time": "2022-06-12T08:56:35.047Z"
   },
   {
    "duration": 159,
    "start_time": "2022-06-12T08:56:35.072Z"
   },
   {
    "duration": 7,
    "start_time": "2022-06-12T08:56:35.233Z"
   },
   {
    "duration": 145,
    "start_time": "2022-06-12T08:56:35.242Z"
   },
   {
    "duration": 7,
    "start_time": "2022-06-12T08:56:35.390Z"
   },
   {
    "duration": 108,
    "start_time": "2022-06-12T08:56:35.399Z"
   },
   {
    "duration": 10,
    "start_time": "2022-06-12T08:56:35.509Z"
   },
   {
    "duration": 31,
    "start_time": "2022-06-12T08:56:35.521Z"
   },
   {
    "duration": 70,
    "start_time": "2022-06-12T08:56:35.554Z"
   },
   {
    "duration": 44,
    "start_time": "2022-06-12T08:56:35.626Z"
   },
   {
    "duration": 93,
    "start_time": "2022-06-12T08:56:35.672Z"
   },
   {
    "duration": 63,
    "start_time": "2022-06-12T08:56:35.767Z"
   },
   {
    "duration": 12,
    "start_time": "2022-06-12T08:56:35.832Z"
   },
   {
    "duration": 49,
    "start_time": "2022-06-12T08:56:35.846Z"
   },
   {
    "duration": 45,
    "start_time": "2022-06-12T08:56:35.897Z"
   },
   {
    "duration": 9,
    "start_time": "2022-06-12T08:56:35.944Z"
   },
   {
    "duration": 49,
    "start_time": "2022-06-12T08:56:35.955Z"
   },
   {
    "duration": 46,
    "start_time": "2022-06-12T08:56:36.006Z"
   },
   {
    "duration": 9,
    "start_time": "2022-06-12T08:56:36.054Z"
   },
   {
    "duration": 10,
    "start_time": "2022-06-12T08:56:36.066Z"
   },
   {
    "duration": 13,
    "start_time": "2022-06-12T08:56:36.078Z"
   },
   {
    "duration": 37,
    "start_time": "2022-06-12T08:56:36.092Z"
   },
   {
    "duration": 15,
    "start_time": "2022-06-12T08:56:36.132Z"
   },
   {
    "duration": 9,
    "start_time": "2022-06-12T08:56:36.148Z"
   },
   {
    "duration": 20,
    "start_time": "2022-06-12T08:56:36.158Z"
   },
   {
    "duration": 3,
    "start_time": "2022-06-12T08:56:36.179Z"
   },
   {
    "duration": 9,
    "start_time": "2022-06-12T08:56:36.184Z"
   },
   {
    "duration": 47,
    "start_time": "2022-06-12T08:56:36.195Z"
   },
   {
    "duration": 6,
    "start_time": "2022-06-12T08:56:36.244Z"
   },
   {
    "duration": 8,
    "start_time": "2022-06-12T08:56:36.252Z"
   },
   {
    "duration": 126,
    "start_time": "2022-06-12T08:56:36.262Z"
   },
   {
    "duration": 42,
    "start_time": "2022-06-12T08:56:36.389Z"
   },
   {
    "duration": 767,
    "start_time": "2022-06-12T08:58:52.162Z"
   },
   {
    "duration": 155,
    "start_time": "2022-06-12T08:58:52.931Z"
   },
   {
    "duration": 2,
    "start_time": "2022-06-12T08:58:53.088Z"
   },
   {
    "duration": 117,
    "start_time": "2022-06-12T08:58:53.092Z"
   },
   {
    "duration": 4,
    "start_time": "2022-06-12T08:58:53.211Z"
   },
   {
    "duration": 23,
    "start_time": "2022-06-12T08:58:53.216Z"
   },
   {
    "duration": 187,
    "start_time": "2022-06-12T08:58:53.241Z"
   },
   {
    "duration": 7,
    "start_time": "2022-06-12T08:58:53.429Z"
   },
   {
    "duration": 154,
    "start_time": "2022-06-12T08:58:53.438Z"
   },
   {
    "duration": 8,
    "start_time": "2022-06-12T08:58:53.594Z"
   },
   {
    "duration": 113,
    "start_time": "2022-06-12T08:58:53.603Z"
   },
   {
    "duration": 14,
    "start_time": "2022-06-12T08:58:53.717Z"
   },
   {
    "duration": 47,
    "start_time": "2022-06-12T08:58:53.732Z"
   },
   {
    "duration": 71,
    "start_time": "2022-06-12T08:58:53.780Z"
   },
   {
    "duration": 46,
    "start_time": "2022-06-12T08:58:53.853Z"
   },
   {
    "duration": 88,
    "start_time": "2022-06-12T08:58:53.900Z"
   },
   {
    "duration": 58,
    "start_time": "2022-06-12T08:58:53.990Z"
   },
   {
    "duration": 11,
    "start_time": "2022-06-12T08:58:54.049Z"
   },
   {
    "duration": 53,
    "start_time": "2022-06-12T08:58:54.062Z"
   },
   {
    "duration": 36,
    "start_time": "2022-06-12T08:58:54.116Z"
   },
   {
    "duration": 9,
    "start_time": "2022-06-12T08:58:54.153Z"
   },
   {
    "duration": 65,
    "start_time": "2022-06-12T08:58:54.164Z"
   },
   {
    "duration": 30,
    "start_time": "2022-06-12T08:58:54.231Z"
   },
   {
    "duration": 9,
    "start_time": "2022-06-12T08:58:54.263Z"
   },
   {
    "duration": 22,
    "start_time": "2022-06-12T08:58:54.274Z"
   },
   {
    "duration": 23,
    "start_time": "2022-06-12T08:58:54.298Z"
   },
   {
    "duration": 13,
    "start_time": "2022-06-12T08:58:54.322Z"
   },
   {
    "duration": 14,
    "start_time": "2022-06-12T08:58:54.338Z"
   },
   {
    "duration": 14,
    "start_time": "2022-06-12T08:58:54.353Z"
   },
   {
    "duration": 38,
    "start_time": "2022-06-12T08:58:54.369Z"
   },
   {
    "duration": 19,
    "start_time": "2022-06-12T08:58:54.408Z"
   },
   {
    "duration": 21,
    "start_time": "2022-06-12T08:58:54.429Z"
   },
   {
    "duration": 28,
    "start_time": "2022-06-12T08:58:54.452Z"
   },
   {
    "duration": 4,
    "start_time": "2022-06-12T08:58:54.481Z"
   },
   {
    "duration": 17,
    "start_time": "2022-06-12T08:58:54.487Z"
   },
   {
    "duration": 145,
    "start_time": "2022-06-12T08:58:54.505Z"
   },
   {
    "duration": 37,
    "start_time": "2022-06-12T08:58:54.652Z"
   },
   {
    "duration": 803,
    "start_time": "2022-06-12T08:59:19.922Z"
   },
   {
    "duration": 155,
    "start_time": "2022-06-12T08:59:20.727Z"
   },
   {
    "duration": 2,
    "start_time": "2022-06-12T08:59:20.884Z"
   },
   {
    "duration": 109,
    "start_time": "2022-06-12T08:59:20.888Z"
   },
   {
    "duration": 4,
    "start_time": "2022-06-12T08:59:20.999Z"
   },
   {
    "duration": 40,
    "start_time": "2022-06-12T08:59:21.004Z"
   },
   {
    "duration": 183,
    "start_time": "2022-06-12T08:59:21.045Z"
   },
   {
    "duration": 7,
    "start_time": "2022-06-12T08:59:21.229Z"
   },
   {
    "duration": 164,
    "start_time": "2022-06-12T08:59:21.238Z"
   },
   {
    "duration": 8,
    "start_time": "2022-06-12T08:59:21.404Z"
   },
   {
    "duration": 120,
    "start_time": "2022-06-12T08:59:21.414Z"
   },
   {
    "duration": 6,
    "start_time": "2022-06-12T08:59:21.536Z"
   },
   {
    "duration": 49,
    "start_time": "2022-06-12T08:59:21.543Z"
   },
   {
    "duration": 87,
    "start_time": "2022-06-12T08:59:21.594Z"
   },
   {
    "duration": 51,
    "start_time": "2022-06-12T08:59:21.683Z"
   },
   {
    "duration": 61,
    "start_time": "2022-06-12T08:59:21.736Z"
   },
   {
    "duration": 73,
    "start_time": "2022-06-12T08:59:21.799Z"
   },
   {
    "duration": 9,
    "start_time": "2022-06-12T08:59:21.874Z"
   },
   {
    "duration": 60,
    "start_time": "2022-06-12T08:59:21.884Z"
   },
   {
    "duration": 40,
    "start_time": "2022-06-12T08:59:21.946Z"
   },
   {
    "duration": 26,
    "start_time": "2022-06-12T08:59:21.987Z"
   },
   {
    "duration": 67,
    "start_time": "2022-06-12T08:59:22.015Z"
   },
   {
    "duration": 63,
    "start_time": "2022-06-12T08:59:22.083Z"
   },
   {
    "duration": 9,
    "start_time": "2022-06-12T08:59:22.148Z"
   },
   {
    "duration": 26,
    "start_time": "2022-06-12T08:59:22.158Z"
   },
   {
    "duration": 29,
    "start_time": "2022-06-12T08:59:22.185Z"
   },
   {
    "duration": 37,
    "start_time": "2022-06-12T08:59:22.215Z"
   },
   {
    "duration": 26,
    "start_time": "2022-06-12T08:59:22.255Z"
   },
   {
    "duration": 29,
    "start_time": "2022-06-12T08:59:22.282Z"
   },
   {
    "duration": 47,
    "start_time": "2022-06-12T08:59:22.312Z"
   },
   {
    "duration": 15,
    "start_time": "2022-06-12T08:59:22.361Z"
   },
   {
    "duration": 14,
    "start_time": "2022-06-12T08:59:22.377Z"
   },
   {
    "duration": 35,
    "start_time": "2022-06-12T08:59:22.392Z"
   },
   {
    "duration": 9,
    "start_time": "2022-06-12T08:59:22.428Z"
   },
   {
    "duration": 22,
    "start_time": "2022-06-12T08:59:22.438Z"
   },
   {
    "duration": 105,
    "start_time": "2022-06-12T08:59:22.462Z"
   },
   {
    "duration": 34,
    "start_time": "2022-06-12T08:59:22.569Z"
   },
   {
    "duration": 5,
    "start_time": "2022-06-12T09:00:43.587Z"
   },
   {
    "duration": 813,
    "start_time": "2022-06-12T09:00:49.117Z"
   },
   {
    "duration": 159,
    "start_time": "2022-06-12T09:00:49.932Z"
   },
   {
    "duration": 3,
    "start_time": "2022-06-12T09:00:50.093Z"
   },
   {
    "duration": 125,
    "start_time": "2022-06-12T09:00:50.098Z"
   },
   {
    "duration": 5,
    "start_time": "2022-06-12T09:00:50.224Z"
   },
   {
    "duration": 21,
    "start_time": "2022-06-12T09:00:50.231Z"
   },
   {
    "duration": 168,
    "start_time": "2022-06-12T09:00:50.253Z"
   },
   {
    "duration": 8,
    "start_time": "2022-06-12T09:00:50.424Z"
   },
   {
    "duration": 144,
    "start_time": "2022-06-12T09:00:50.434Z"
   },
   {
    "duration": 9,
    "start_time": "2022-06-12T09:00:50.580Z"
   },
   {
    "duration": 104,
    "start_time": "2022-06-12T09:00:50.590Z"
   },
   {
    "duration": 7,
    "start_time": "2022-06-12T09:00:50.695Z"
   },
   {
    "duration": 63,
    "start_time": "2022-06-12T09:00:50.703Z"
   },
   {
    "duration": 73,
    "start_time": "2022-06-12T09:00:50.768Z"
   },
   {
    "duration": 45,
    "start_time": "2022-06-12T09:00:50.843Z"
   },
   {
    "duration": 79,
    "start_time": "2022-06-12T09:00:50.890Z"
   },
   {
    "duration": 41,
    "start_time": "2022-06-12T09:00:50.971Z"
   },
   {
    "duration": 11,
    "start_time": "2022-06-12T09:00:51.026Z"
   },
   {
    "duration": 41,
    "start_time": "2022-06-12T09:00:51.038Z"
   },
   {
    "duration": 45,
    "start_time": "2022-06-12T09:00:51.081Z"
   },
   {
    "duration": 9,
    "start_time": "2022-06-12T09:00:51.128Z"
   },
   {
    "duration": 55,
    "start_time": "2022-06-12T09:00:51.139Z"
   },
   {
    "duration": 42,
    "start_time": "2022-06-12T09:00:51.195Z"
   },
   {
    "duration": 9,
    "start_time": "2022-06-12T09:00:51.238Z"
   },
   {
    "duration": 10,
    "start_time": "2022-06-12T09:00:51.248Z"
   },
   {
    "duration": 11,
    "start_time": "2022-06-12T09:00:51.260Z"
   },
   {
    "duration": 10,
    "start_time": "2022-06-12T09:00:51.272Z"
   },
   {
    "duration": 14,
    "start_time": "2022-06-12T09:00:51.284Z"
   },
   {
    "duration": 6,
    "start_time": "2022-06-12T09:00:51.326Z"
   },
   {
    "duration": 20,
    "start_time": "2022-06-12T09:00:51.334Z"
   },
   {
    "duration": 3,
    "start_time": "2022-06-12T09:00:51.355Z"
   },
   {
    "duration": 8,
    "start_time": "2022-06-12T09:00:51.359Z"
   },
   {
    "duration": 23,
    "start_time": "2022-06-12T09:00:51.369Z"
   },
   {
    "duration": 4,
    "start_time": "2022-06-12T09:00:51.394Z"
   },
   {
    "duration": 4,
    "start_time": "2022-06-12T09:00:51.425Z"
   },
   {
    "duration": 99,
    "start_time": "2022-06-12T09:00:51.430Z"
   },
   {
    "duration": 36,
    "start_time": "2022-06-12T09:00:51.531Z"
   },
   {
    "duration": 33,
    "start_time": "2022-06-12T09:07:47.645Z"
   },
   {
    "duration": 21,
    "start_time": "2022-06-12T09:07:57.904Z"
   },
   {
    "duration": 12,
    "start_time": "2022-06-12T09:09:07.142Z"
   },
   {
    "duration": 14,
    "start_time": "2022-06-12T09:09:11.867Z"
   },
   {
    "duration": 14,
    "start_time": "2022-06-12T09:09:13.806Z"
   },
   {
    "duration": 22,
    "start_time": "2022-06-12T09:09:18.131Z"
   },
   {
    "duration": 790,
    "start_time": "2022-06-12T09:09:24.425Z"
   },
   {
    "duration": 111,
    "start_time": "2022-06-12T09:10:05.519Z"
   },
   {
    "duration": 6,
    "start_time": "2022-06-12T09:10:20.363Z"
   },
   {
    "duration": 817,
    "start_time": "2022-06-12T09:10:23.094Z"
   },
   {
    "duration": 44,
    "start_time": "2022-06-12T09:14:03.840Z"
   },
   {
    "duration": 188,
    "start_time": "2022-06-12T09:14:18.239Z"
   },
   {
    "duration": 1337,
    "start_time": "2022-06-12T10:30:00.533Z"
   },
   {
    "duration": 153,
    "start_time": "2022-06-12T10:30:30.604Z"
   },
   {
    "duration": 6,
    "start_time": "2022-06-12T10:41:33.444Z"
   },
   {
    "duration": 12,
    "start_time": "2022-06-12T10:42:52.475Z"
   },
   {
    "duration": 6,
    "start_time": "2022-06-12T10:43:00.643Z"
   },
   {
    "duration": 125,
    "start_time": "2022-06-12T10:43:16.456Z"
   },
   {
    "duration": 9,
    "start_time": "2022-06-12T10:44:30.971Z"
   },
   {
    "duration": 9,
    "start_time": "2022-06-12T10:45:27.234Z"
   },
   {
    "duration": 233,
    "start_time": "2022-06-12T10:45:33.574Z"
   },
   {
    "duration": 127,
    "start_time": "2022-06-12T10:45:55.421Z"
   },
   {
    "duration": 131,
    "start_time": "2022-06-12T10:46:08.334Z"
   },
   {
    "duration": 117,
    "start_time": "2022-06-12T10:48:15.175Z"
   },
   {
    "duration": 115,
    "start_time": "2022-06-12T10:57:23.599Z"
   },
   {
    "duration": 8,
    "start_time": "2022-06-12T10:58:16.756Z"
   },
   {
    "duration": 31,
    "start_time": "2022-06-12T11:00:44.890Z"
   },
   {
    "duration": 4,
    "start_time": "2022-06-12T11:00:55.716Z"
   },
   {
    "duration": 146,
    "start_time": "2022-06-12T11:01:03.736Z"
   },
   {
    "duration": 36,
    "start_time": "2022-06-12T11:01:47.011Z"
   },
   {
    "duration": 151,
    "start_time": "2022-06-12T11:02:21.268Z"
   },
   {
    "duration": 153,
    "start_time": "2022-06-12T11:02:39.447Z"
   },
   {
    "duration": 169,
    "start_time": "2022-06-12T11:02:54.054Z"
   },
   {
    "duration": 157,
    "start_time": "2022-06-12T11:03:34.014Z"
   },
   {
    "duration": 155,
    "start_time": "2022-06-12T11:03:54.342Z"
   },
   {
    "duration": 5,
    "start_time": "2022-06-12T11:17:01.872Z"
   },
   {
    "duration": 181,
    "start_time": "2022-06-12T11:17:13.027Z"
   },
   {
    "duration": 191,
    "start_time": "2022-06-12T11:18:11.707Z"
   },
   {
    "duration": 173,
    "start_time": "2022-06-12T11:19:42.870Z"
   },
   {
    "duration": 170,
    "start_time": "2022-06-12T11:19:55.046Z"
   },
   {
    "duration": 190,
    "start_time": "2022-06-12T11:20:09.381Z"
   },
   {
    "duration": 10,
    "start_time": "2022-06-12T11:28:23.729Z"
   },
   {
    "duration": 4,
    "start_time": "2022-06-12T11:28:50.208Z"
   },
   {
    "duration": 6,
    "start_time": "2022-06-12T11:29:06.605Z"
   },
   {
    "duration": 6,
    "start_time": "2022-06-12T11:29:28.007Z"
   },
   {
    "duration": 4,
    "start_time": "2022-06-12T11:30:05.517Z"
   },
   {
    "duration": 12,
    "start_time": "2022-06-12T11:34:07.418Z"
   },
   {
    "duration": 24,
    "start_time": "2022-06-12T11:34:50.139Z"
   },
   {
    "duration": 138,
    "start_time": "2022-06-12T11:40:13.010Z"
   },
   {
    "duration": 278,
    "start_time": "2022-06-12T11:40:25.770Z"
   },
   {
    "duration": 25,
    "start_time": "2022-06-12T11:41:08.307Z"
   },
   {
    "duration": 179,
    "start_time": "2022-06-12T11:41:58.697Z"
   },
   {
    "duration": 148,
    "start_time": "2022-06-12T11:52:32.106Z"
   },
   {
    "duration": 171,
    "start_time": "2022-06-12T11:55:02.900Z"
   },
   {
    "duration": 637,
    "start_time": "2022-06-12T11:56:17.451Z"
   },
   {
    "duration": 169,
    "start_time": "2022-06-12T11:56:28.719Z"
   },
   {
    "duration": 18,
    "start_time": "2022-06-12T11:58:07.191Z"
   },
   {
    "duration": 18,
    "start_time": "2022-06-12T11:58:11.990Z"
   },
   {
    "duration": 19,
    "start_time": "2022-06-12T11:58:23.860Z"
   },
   {
    "duration": 28,
    "start_time": "2022-06-12T11:58:31.858Z"
   },
   {
    "duration": 22,
    "start_time": "2022-06-12T11:58:36.138Z"
   },
   {
    "duration": 27,
    "start_time": "2022-06-12T11:58:53.312Z"
   },
   {
    "duration": 22,
    "start_time": "2022-06-12T11:59:01.342Z"
   },
   {
    "duration": 18,
    "start_time": "2022-06-12T12:00:14.872Z"
   },
   {
    "duration": 23,
    "start_time": "2022-06-12T12:00:19.856Z"
   },
   {
    "duration": 206,
    "start_time": "2022-06-12T12:11:01.661Z"
   },
   {
    "duration": 10,
    "start_time": "2022-06-12T12:13:57.820Z"
   },
   {
    "duration": 12,
    "start_time": "2022-06-12T12:14:03.702Z"
   },
   {
    "duration": 10,
    "start_time": "2022-06-12T12:14:16.303Z"
   },
   {
    "duration": 11,
    "start_time": "2022-06-12T12:14:35.524Z"
   },
   {
    "duration": 23,
    "start_time": "2022-06-12T14:02:59.800Z"
   },
   {
    "duration": 43,
    "start_time": "2022-06-12T14:03:22.958Z"
   },
   {
    "duration": 23,
    "start_time": "2022-06-12T14:03:29.672Z"
   },
   {
    "duration": 18,
    "start_time": "2022-06-12T14:04:58.080Z"
   },
   {
    "duration": 10,
    "start_time": "2022-06-12T14:06:32.336Z"
   },
   {
    "duration": 205,
    "start_time": "2022-06-12T14:06:36.404Z"
   },
   {
    "duration": 31,
    "start_time": "2022-06-12T14:09:27.056Z"
   },
   {
    "duration": 9,
    "start_time": "2022-06-12T14:37:59.316Z"
   },
   {
    "duration": 14,
    "start_time": "2022-06-12T15:00:09.786Z"
   },
   {
    "duration": 8,
    "start_time": "2022-06-12T15:03:41.784Z"
   },
   {
    "duration": 4,
    "start_time": "2022-06-12T15:04:11.947Z"
   },
   {
    "duration": 19,
    "start_time": "2022-06-12T15:28:20.689Z"
   },
   {
    "duration": 2,
    "start_time": "2022-06-12T15:28:54.148Z"
   },
   {
    "duration": 19,
    "start_time": "2022-06-12T15:28:54.926Z"
   },
   {
    "duration": 2,
    "start_time": "2022-06-12T15:29:01.472Z"
   },
   {
    "duration": 17,
    "start_time": "2022-06-12T15:29:02.080Z"
   },
   {
    "duration": 4,
    "start_time": "2022-06-12T15:29:08.424Z"
   },
   {
    "duration": 3,
    "start_time": "2022-06-12T15:29:10.854Z"
   },
   {
    "duration": 34,
    "start_time": "2022-06-12T15:29:12.586Z"
   },
   {
    "duration": 11,
    "start_time": "2022-06-12T15:29:37.312Z"
   },
   {
    "duration": 7,
    "start_time": "2022-06-12T15:37:22.172Z"
   },
   {
    "duration": 21,
    "start_time": "2022-06-12T15:39:28.024Z"
   },
   {
    "duration": 5,
    "start_time": "2022-06-12T15:52:46.936Z"
   },
   {
    "duration": 786,
    "start_time": "2022-06-12T15:52:52.491Z"
   },
   {
    "duration": 159,
    "start_time": "2022-06-12T15:52:53.278Z"
   },
   {
    "duration": 3,
    "start_time": "2022-06-12T15:52:53.438Z"
   },
   {
    "duration": 104,
    "start_time": "2022-06-12T15:52:53.442Z"
   },
   {
    "duration": 4,
    "start_time": "2022-06-12T15:52:53.548Z"
   },
   {
    "duration": 16,
    "start_time": "2022-06-12T15:52:53.553Z"
   },
   {
    "duration": 160,
    "start_time": "2022-06-12T15:52:53.570Z"
   },
   {
    "duration": 7,
    "start_time": "2022-06-12T15:52:53.732Z"
   },
   {
    "duration": 143,
    "start_time": "2022-06-12T15:52:53.740Z"
   },
   {
    "duration": 8,
    "start_time": "2022-06-12T15:52:53.884Z"
   },
   {
    "duration": 103,
    "start_time": "2022-06-12T15:52:53.893Z"
   },
   {
    "duration": 7,
    "start_time": "2022-06-12T15:52:53.998Z"
   },
   {
    "duration": 31,
    "start_time": "2022-06-12T15:52:54.007Z"
   },
   {
    "duration": 71,
    "start_time": "2022-06-12T15:52:54.041Z"
   },
   {
    "duration": 55,
    "start_time": "2022-06-12T15:52:54.114Z"
   },
   {
    "duration": 85,
    "start_time": "2022-06-12T15:52:54.171Z"
   },
   {
    "duration": 42,
    "start_time": "2022-06-12T15:52:54.258Z"
   },
   {
    "duration": 25,
    "start_time": "2022-06-12T15:52:54.301Z"
   },
   {
    "duration": 41,
    "start_time": "2022-06-12T15:52:54.327Z"
   },
   {
    "duration": 25,
    "start_time": "2022-06-12T15:52:54.370Z"
   },
   {
    "duration": 9,
    "start_time": "2022-06-12T15:52:54.397Z"
   },
   {
    "duration": 47,
    "start_time": "2022-06-12T15:52:54.426Z"
   },
   {
    "duration": 31,
    "start_time": "2022-06-12T15:52:54.475Z"
   },
   {
    "duration": 25,
    "start_time": "2022-06-12T15:52:54.507Z"
   },
   {
    "duration": 11,
    "start_time": "2022-06-12T15:52:54.533Z"
   },
   {
    "duration": 12,
    "start_time": "2022-06-12T15:52:54.545Z"
   },
   {
    "duration": 7,
    "start_time": "2022-06-12T15:52:54.559Z"
   },
   {
    "duration": 12,
    "start_time": "2022-06-12T15:52:54.567Z"
   },
   {
    "duration": 6,
    "start_time": "2022-06-12T15:52:54.580Z"
   },
   {
    "duration": 46,
    "start_time": "2022-06-12T15:52:54.587Z"
   },
   {
    "duration": 2,
    "start_time": "2022-06-12T15:52:54.635Z"
   },
   {
    "duration": 7,
    "start_time": "2022-06-12T15:52:54.639Z"
   },
   {
    "duration": 22,
    "start_time": "2022-06-12T15:52:54.648Z"
   },
   {
    "duration": 5,
    "start_time": "2022-06-12T15:52:54.671Z"
   },
   {
    "duration": 8,
    "start_time": "2022-06-12T15:52:54.677Z"
   },
   {
    "duration": 116,
    "start_time": "2022-06-12T15:52:54.687Z"
   },
   {
    "duration": 18,
    "start_time": "2022-06-12T15:52:54.804Z"
   },
   {
    "duration": 15,
    "start_time": "2022-06-12T15:52:54.826Z"
   },
   {
    "duration": 14,
    "start_time": "2022-06-12T15:52:54.842Z"
   },
   {
    "duration": 11,
    "start_time": "2022-06-12T15:52:54.857Z"
   },
   {
    "duration": 169,
    "start_time": "2022-06-12T15:52:54.871Z"
   },
   {
    "duration": 24,
    "start_time": "2022-06-12T15:52:55.042Z"
   },
   {
    "duration": 192,
    "start_time": "2022-06-12T15:52:55.068Z"
   },
   {
    "duration": 144,
    "start_time": "2022-06-12T15:52:55.261Z"
   },
   {
    "duration": 29,
    "start_time": "2022-06-12T15:52:55.407Z"
   },
   {
    "duration": 181,
    "start_time": "2022-06-12T15:52:55.438Z"
   },
   {
    "duration": 166,
    "start_time": "2022-06-12T15:52:55.621Z"
   },
   {
    "duration": 23,
    "start_time": "2022-06-12T15:52:55.789Z"
   },
   {
    "duration": 187,
    "start_time": "2022-06-12T15:52:55.814Z"
   },
   {
    "duration": 6,
    "start_time": "2022-06-12T15:52:56.002Z"
   },
   {
    "duration": 21,
    "start_time": "2022-06-12T15:52:56.009Z"
   },
   {
    "duration": 10,
    "start_time": "2022-06-12T15:53:05.034Z"
   },
   {
    "duration": 11,
    "start_time": "2022-06-12T15:54:32.553Z"
   },
   {
    "duration": 9,
    "start_time": "2022-06-12T15:54:44.234Z"
   },
   {
    "duration": 12,
    "start_time": "2022-06-12T15:54:52.736Z"
   },
   {
    "duration": 13,
    "start_time": "2022-06-12T15:55:09.086Z"
   },
   {
    "duration": 24,
    "start_time": "2022-06-12T15:55:56.156Z"
   },
   {
    "duration": 25,
    "start_time": "2022-06-12T15:56:15.943Z"
   },
   {
    "duration": 5,
    "start_time": "2022-06-12T15:56:53.936Z"
   },
   {
    "duration": 4,
    "start_time": "2022-06-12T15:57:02.816Z"
   },
   {
    "duration": 11,
    "start_time": "2022-06-12T16:12:52.258Z"
   },
   {
    "duration": 5,
    "start_time": "2022-06-12T16:15:26.300Z"
   },
   {
    "duration": 6,
    "start_time": "2022-06-12T16:17:29.118Z"
   },
   {
    "duration": 6,
    "start_time": "2022-06-12T16:17:52.718Z"
   },
   {
    "duration": 23,
    "start_time": "2022-06-12T16:17:59.786Z"
   },
   {
    "duration": 4,
    "start_time": "2022-06-12T16:18:34.760Z"
   },
   {
    "duration": 5,
    "start_time": "2022-06-12T16:18:50.335Z"
   },
   {
    "duration": 4,
    "start_time": "2022-06-12T16:23:02.040Z"
   },
   {
    "duration": 5,
    "start_time": "2022-06-12T16:23:07.246Z"
   },
   {
    "duration": 4,
    "start_time": "2022-06-12T16:23:11.160Z"
   },
   {
    "duration": 278,
    "start_time": "2022-06-12T16:42:27.066Z"
   },
   {
    "duration": 6,
    "start_time": "2022-06-12T16:43:23.294Z"
   },
   {
    "duration": 766,
    "start_time": "2022-06-12T16:43:29.476Z"
   },
   {
    "duration": 153,
    "start_time": "2022-06-12T16:43:30.244Z"
   },
   {
    "duration": 3,
    "start_time": "2022-06-12T16:43:30.400Z"
   },
   {
    "duration": 121,
    "start_time": "2022-06-12T16:43:30.404Z"
   },
   {
    "duration": 4,
    "start_time": "2022-06-12T16:43:30.526Z"
   },
   {
    "duration": 19,
    "start_time": "2022-06-12T16:43:30.531Z"
   },
   {
    "duration": 190,
    "start_time": "2022-06-12T16:43:30.552Z"
   },
   {
    "duration": 8,
    "start_time": "2022-06-12T16:43:30.743Z"
   },
   {
    "duration": 147,
    "start_time": "2022-06-12T16:43:30.754Z"
   },
   {
    "duration": 7,
    "start_time": "2022-06-12T16:43:30.903Z"
   },
   {
    "duration": 109,
    "start_time": "2022-06-12T16:43:30.911Z"
   },
   {
    "duration": 6,
    "start_time": "2022-06-12T16:43:31.022Z"
   },
   {
    "duration": 39,
    "start_time": "2022-06-12T16:43:31.030Z"
   },
   {
    "duration": 78,
    "start_time": "2022-06-12T16:43:31.071Z"
   },
   {
    "duration": 44,
    "start_time": "2022-06-12T16:43:31.150Z"
   },
   {
    "duration": 75,
    "start_time": "2022-06-12T16:43:31.196Z"
   },
   {
    "duration": 40,
    "start_time": "2022-06-12T16:43:31.273Z"
   },
   {
    "duration": 10,
    "start_time": "2022-06-12T16:43:31.325Z"
   },
   {
    "duration": 42,
    "start_time": "2022-06-12T16:43:31.336Z"
   },
   {
    "duration": 23,
    "start_time": "2022-06-12T16:43:31.379Z"
   },
   {
    "duration": 28,
    "start_time": "2022-06-12T16:43:31.403Z"
   },
   {
    "duration": 53,
    "start_time": "2022-06-12T16:43:31.433Z"
   },
   {
    "duration": 46,
    "start_time": "2022-06-12T16:43:31.487Z"
   },
   {
    "duration": 10,
    "start_time": "2022-06-12T16:43:31.534Z"
   },
   {
    "duration": 13,
    "start_time": "2022-06-12T16:43:31.545Z"
   },
   {
    "duration": 14,
    "start_time": "2022-06-12T16:43:31.560Z"
   },
   {
    "duration": 9,
    "start_time": "2022-06-12T16:43:31.579Z"
   },
   {
    "duration": 47,
    "start_time": "2022-06-12T16:43:31.590Z"
   },
   {
    "duration": 7,
    "start_time": "2022-06-12T16:43:31.639Z"
   },
   {
    "duration": 19,
    "start_time": "2022-06-12T16:43:31.647Z"
   },
   {
    "duration": 3,
    "start_time": "2022-06-12T16:43:31.668Z"
   },
   {
    "duration": 9,
    "start_time": "2022-06-12T16:43:31.672Z"
   },
   {
    "duration": 48,
    "start_time": "2022-06-12T16:43:31.682Z"
   },
   {
    "duration": 5,
    "start_time": "2022-06-12T16:43:31.732Z"
   },
   {
    "duration": 8,
    "start_time": "2022-06-12T16:43:31.739Z"
   },
   {
    "duration": 145,
    "start_time": "2022-06-12T16:43:31.748Z"
   },
   {
    "duration": 20,
    "start_time": "2022-06-12T16:43:31.894Z"
   },
   {
    "duration": 7,
    "start_time": "2022-06-12T16:43:31.924Z"
   },
   {
    "duration": 16,
    "start_time": "2022-06-12T16:43:31.932Z"
   },
   {
    "duration": 10,
    "start_time": "2022-06-12T16:43:31.949Z"
   },
   {
    "duration": 200,
    "start_time": "2022-06-12T16:43:31.961Z"
   },
   {
    "duration": 23,
    "start_time": "2022-06-12T16:43:32.163Z"
   },
   {
    "duration": 214,
    "start_time": "2022-06-12T16:43:32.188Z"
   },
   {
    "duration": 162,
    "start_time": "2022-06-12T16:43:32.403Z"
   },
   {
    "duration": 22,
    "start_time": "2022-06-12T16:43:32.566Z"
   },
   {
    "duration": 186,
    "start_time": "2022-06-12T16:43:32.589Z"
   },
   {
    "duration": 162,
    "start_time": "2022-06-12T16:43:32.776Z"
   },
   {
    "duration": 27,
    "start_time": "2022-06-12T16:43:32.940Z"
   },
   {
    "duration": 184,
    "start_time": "2022-06-12T16:43:32.969Z"
   },
   {
    "duration": 5,
    "start_time": "2022-06-12T16:43:33.155Z"
   },
   {
    "duration": 13,
    "start_time": "2022-06-12T16:43:33.161Z"
   },
   {
    "duration": 24,
    "start_time": "2022-06-12T16:43:33.175Z"
   },
   {
    "duration": 25,
    "start_time": "2022-06-12T16:43:33.200Z"
   },
   {
    "duration": 23,
    "start_time": "2022-06-12T16:43:33.226Z"
   },
   {
    "duration": 8,
    "start_time": "2022-06-12T16:43:33.251Z"
   },
   {
    "duration": 9,
    "start_time": "2022-06-12T16:43:33.260Z"
   },
   {
    "duration": 7,
    "start_time": "2022-06-12T16:43:33.270Z"
   },
   {
    "duration": 9,
    "start_time": "2022-06-12T16:43:33.278Z"
   },
   {
    "duration": 6,
    "start_time": "2022-06-12T16:43:33.289Z"
   },
   {
    "duration": 7,
    "start_time": "2022-06-12T16:43:33.296Z"
   },
   {
    "duration": 98,
    "start_time": "2022-06-12T16:45:14.115Z"
   },
   {
    "duration": 6,
    "start_time": "2022-06-12T16:45:39.948Z"
   },
   {
    "duration": 4,
    "start_time": "2022-06-12T16:45:41.989Z"
   },
   {
    "duration": 89,
    "start_time": "2022-06-12T16:45:42.526Z"
   },
   {
    "duration": 18,
    "start_time": "2022-06-12T16:45:43.076Z"
   },
   {
    "duration": 40,
    "start_time": "2022-06-12T16:46:27.832Z"
   },
   {
    "duration": 742,
    "start_time": "2022-06-12T16:47:53.379Z"
   },
   {
    "duration": 159,
    "start_time": "2022-06-12T16:47:54.123Z"
   },
   {
    "duration": 3,
    "start_time": "2022-06-12T16:47:54.284Z"
   },
   {
    "duration": 122,
    "start_time": "2022-06-12T16:47:54.288Z"
   },
   {
    "duration": 4,
    "start_time": "2022-06-12T16:47:54.412Z"
   },
   {
    "duration": 14,
    "start_time": "2022-06-12T16:47:54.417Z"
   },
   {
    "duration": 151,
    "start_time": "2022-06-12T16:47:54.433Z"
   },
   {
    "duration": 7,
    "start_time": "2022-06-12T16:47:54.586Z"
   },
   {
    "duration": 152,
    "start_time": "2022-06-12T16:47:54.595Z"
   },
   {
    "duration": 12,
    "start_time": "2022-06-12T16:47:54.750Z"
   },
   {
    "duration": 125,
    "start_time": "2022-06-12T16:47:54.764Z"
   },
   {
    "duration": 9,
    "start_time": "2022-06-12T16:47:54.890Z"
   },
   {
    "duration": 35,
    "start_time": "2022-06-12T16:47:54.900Z"
   },
   {
    "duration": 94,
    "start_time": "2022-06-12T16:47:54.939Z"
   },
   {
    "duration": 45,
    "start_time": "2022-06-12T16:47:55.035Z"
   },
   {
    "duration": 87,
    "start_time": "2022-06-12T16:47:55.081Z"
   },
   {
    "duration": 65,
    "start_time": "2022-06-12T16:47:55.169Z"
   },
   {
    "duration": 12,
    "start_time": "2022-06-12T16:47:55.236Z"
   },
   {
    "duration": 42,
    "start_time": "2022-06-12T16:47:55.250Z"
   },
   {
    "duration": 44,
    "start_time": "2022-06-12T16:47:55.294Z"
   },
   {
    "duration": 9,
    "start_time": "2022-06-12T16:47:55.339Z"
   },
   {
    "duration": 50,
    "start_time": "2022-06-12T16:47:55.350Z"
   },
   {
    "duration": 46,
    "start_time": "2022-06-12T16:47:55.402Z"
   },
   {
    "duration": 9,
    "start_time": "2022-06-12T16:47:55.450Z"
   },
   {
    "duration": 8,
    "start_time": "2022-06-12T16:47:55.461Z"
   },
   {
    "duration": 12,
    "start_time": "2022-06-12T16:47:55.471Z"
   },
   {
    "duration": 9,
    "start_time": "2022-06-12T16:47:55.484Z"
   },
   {
    "duration": 39,
    "start_time": "2022-06-12T16:47:55.494Z"
   },
   {
    "duration": 8,
    "start_time": "2022-06-12T16:47:55.535Z"
   },
   {
    "duration": 22,
    "start_time": "2022-06-12T16:47:55.544Z"
   },
   {
    "duration": 3,
    "start_time": "2022-06-12T16:47:55.567Z"
   },
   {
    "duration": 10,
    "start_time": "2022-06-12T16:47:55.571Z"
   },
   {
    "duration": 55,
    "start_time": "2022-06-12T16:47:55.583Z"
   },
   {
    "duration": 8,
    "start_time": "2022-06-12T16:47:55.640Z"
   },
   {
    "duration": 6,
    "start_time": "2022-06-12T16:47:55.650Z"
   },
   {
    "duration": 121,
    "start_time": "2022-06-12T16:47:55.659Z"
   },
   {
    "duration": 44,
    "start_time": "2022-06-12T16:47:55.781Z"
   },
   {
    "duration": 7,
    "start_time": "2022-06-12T16:47:55.827Z"
   },
   {
    "duration": 13,
    "start_time": "2022-06-12T16:47:55.835Z"
   },
   {
    "duration": 9,
    "start_time": "2022-06-12T16:47:55.850Z"
   },
   {
    "duration": 189,
    "start_time": "2022-06-12T16:47:55.862Z"
   },
   {
    "duration": 30,
    "start_time": "2022-06-12T16:47:56.053Z"
   },
   {
    "duration": 222,
    "start_time": "2022-06-12T16:47:56.084Z"
   },
   {
    "duration": 149,
    "start_time": "2022-06-12T16:47:56.308Z"
   },
   {
    "duration": 37,
    "start_time": "2022-06-12T16:47:56.459Z"
   },
   {
    "duration": 226,
    "start_time": "2022-06-12T16:47:56.499Z"
   },
   {
    "duration": 183,
    "start_time": "2022-06-12T16:47:56.727Z"
   },
   {
    "duration": 31,
    "start_time": "2022-06-12T16:47:56.911Z"
   },
   {
    "duration": 178,
    "start_time": "2022-06-12T16:47:56.944Z"
   },
   {
    "duration": 6,
    "start_time": "2022-06-12T16:47:57.125Z"
   },
   {
    "duration": 11,
    "start_time": "2022-06-12T16:47:57.132Z"
   },
   {
    "duration": 25,
    "start_time": "2022-06-12T16:47:57.145Z"
   },
   {
    "duration": 7,
    "start_time": "2022-06-12T16:47:57.171Z"
   },
   {
    "duration": 51,
    "start_time": "2022-06-12T16:47:57.179Z"
   },
   {
    "duration": 4,
    "start_time": "2022-06-12T16:47:57.232Z"
   },
   {
    "duration": 6,
    "start_time": "2022-06-12T16:47:57.237Z"
   },
   {
    "duration": 6,
    "start_time": "2022-06-12T16:47:57.244Z"
   },
   {
    "duration": 6,
    "start_time": "2022-06-12T16:47:57.251Z"
   },
   {
    "duration": 6,
    "start_time": "2022-06-12T16:47:57.258Z"
   },
   {
    "duration": 6,
    "start_time": "2022-06-12T16:47:57.265Z"
   },
   {
    "duration": 10,
    "start_time": "2022-06-12T16:48:49.562Z"
   },
   {
    "duration": 12,
    "start_time": "2022-06-12T16:49:00.200Z"
   },
   {
    "duration": 10,
    "start_time": "2022-06-12T16:51:12.987Z"
   },
   {
    "duration": 32,
    "start_time": "2022-06-12T17:06:44.411Z"
   },
   {
    "duration": 7,
    "start_time": "2022-06-12T17:08:15.355Z"
   },
   {
    "duration": 55,
    "start_time": "2022-06-12T17:35:45.995Z"
   },
   {
    "duration": 51,
    "start_time": "2022-06-12T17:37:21.803Z"
   },
   {
    "duration": 38,
    "start_time": "2022-06-12T17:38:36.453Z"
   },
   {
    "duration": 31,
    "start_time": "2022-06-12T17:38:44.191Z"
   },
   {
    "duration": 23,
    "start_time": "2022-06-12T17:40:01.599Z"
   },
   {
    "duration": 50,
    "start_time": "2022-06-12T17:41:58.514Z"
   },
   {
    "duration": 27,
    "start_time": "2022-06-12T17:42:07.425Z"
   },
   {
    "duration": 64,
    "start_time": "2022-06-12T17:42:59.887Z"
   },
   {
    "duration": 176,
    "start_time": "2022-06-12T17:43:15.114Z"
   },
   {
    "duration": 19,
    "start_time": "2022-06-12T17:44:58.352Z"
   },
   {
    "duration": 30,
    "start_time": "2022-06-12T17:49:24.401Z"
   },
   {
    "duration": 35,
    "start_time": "2022-06-12T17:54:26.435Z"
   },
   {
    "duration": 174,
    "start_time": "2022-06-12T17:54:40.537Z"
   },
   {
    "duration": 166,
    "start_time": "2022-06-12T17:55:01.906Z"
   },
   {
    "duration": 251,
    "start_time": "2022-06-12T17:55:26.820Z"
   },
   {
    "duration": 154,
    "start_time": "2022-06-12T17:55:42.793Z"
   },
   {
    "duration": 175,
    "start_time": "2022-06-12T17:56:00.192Z"
   },
   {
    "duration": 168,
    "start_time": "2022-06-12T17:56:07.881Z"
   },
   {
    "duration": 190,
    "start_time": "2022-06-12T17:56:34.092Z"
   },
   {
    "duration": 36,
    "start_time": "2022-06-12T18:06:56.111Z"
   },
   {
    "duration": 27,
    "start_time": "2022-06-12T18:16:41.051Z"
   },
   {
    "duration": 811,
    "start_time": "2022-06-12T18:17:11.750Z"
   },
   {
    "duration": 156,
    "start_time": "2022-06-12T18:17:12.563Z"
   },
   {
    "duration": 4,
    "start_time": "2022-06-12T18:17:12.721Z"
   },
   {
    "duration": 119,
    "start_time": "2022-06-12T18:17:12.727Z"
   },
   {
    "duration": 5,
    "start_time": "2022-06-12T18:17:12.848Z"
   },
   {
    "duration": 251,
    "start_time": "2022-06-12T18:17:12.855Z"
   },
   {
    "duration": 8,
    "start_time": "2022-06-12T18:17:13.107Z"
   },
   {
    "duration": 151,
    "start_time": "2022-06-12T18:17:13.116Z"
   },
   {
    "duration": 9,
    "start_time": "2022-06-12T18:17:13.268Z"
   },
   {
    "duration": 97,
    "start_time": "2022-06-12T18:17:13.280Z"
   },
   {
    "duration": 7,
    "start_time": "2022-06-12T18:17:13.379Z"
   },
   {
    "duration": 29,
    "start_time": "2022-06-12T18:17:13.388Z"
   },
   {
    "duration": 77,
    "start_time": "2022-06-12T18:17:13.418Z"
   },
   {
    "duration": 55,
    "start_time": "2022-06-12T18:17:13.497Z"
   },
   {
    "duration": 78,
    "start_time": "2022-06-12T18:17:13.554Z"
   },
   {
    "duration": 51,
    "start_time": "2022-06-12T18:17:13.634Z"
   },
   {
    "duration": 9,
    "start_time": "2022-06-12T18:17:13.687Z"
   },
   {
    "duration": 63,
    "start_time": "2022-06-12T18:17:13.698Z"
   },
   {
    "duration": 25,
    "start_time": "2022-06-12T18:17:13.763Z"
   },
   {
    "duration": 10,
    "start_time": "2022-06-12T18:17:13.789Z"
   },
   {
    "duration": 68,
    "start_time": "2022-06-12T18:17:13.801Z"
   },
   {
    "duration": 33,
    "start_time": "2022-06-12T18:17:13.870Z"
   },
   {
    "duration": 23,
    "start_time": "2022-06-12T18:17:13.904Z"
   },
   {
    "duration": 10,
    "start_time": "2022-06-12T18:17:13.928Z"
   },
   {
    "duration": 13,
    "start_time": "2022-06-12T18:17:13.940Z"
   },
   {
    "duration": 12,
    "start_time": "2022-06-12T18:17:13.954Z"
   },
   {
    "duration": 13,
    "start_time": "2022-06-12T18:17:13.968Z"
   },
   {
    "duration": 7,
    "start_time": "2022-06-12T18:17:13.985Z"
   },
   {
    "duration": 46,
    "start_time": "2022-06-12T18:17:13.993Z"
   },
   {
    "duration": 6,
    "start_time": "2022-06-12T18:17:14.040Z"
   },
   {
    "duration": 9,
    "start_time": "2022-06-12T18:17:14.047Z"
   },
   {
    "duration": 26,
    "start_time": "2022-06-12T18:17:14.058Z"
   },
   {
    "duration": 6,
    "start_time": "2022-06-12T18:17:14.085Z"
   },
   {
    "duration": 32,
    "start_time": "2022-06-12T18:17:14.093Z"
   },
   {
    "duration": 111,
    "start_time": "2022-06-12T18:17:14.128Z"
   },
   {
    "duration": 37,
    "start_time": "2022-06-12T18:17:14.241Z"
   },
   {
    "duration": 9,
    "start_time": "2022-06-12T18:17:14.280Z"
   },
   {
    "duration": 12,
    "start_time": "2022-06-12T18:17:14.291Z"
   },
   {
    "duration": 28,
    "start_time": "2022-06-12T18:17:14.304Z"
   },
   {
    "duration": 187,
    "start_time": "2022-06-12T18:17:14.333Z"
   },
   {
    "duration": 24,
    "start_time": "2022-06-12T18:17:14.525Z"
   },
   {
    "duration": 214,
    "start_time": "2022-06-12T18:17:14.551Z"
   },
   {
    "duration": 168,
    "start_time": "2022-06-12T18:17:14.766Z"
   },
   {
    "duration": 31,
    "start_time": "2022-06-12T18:17:14.936Z"
   },
   {
    "duration": 24,
    "start_time": "2022-06-12T18:17:14.969Z"
   },
   {
    "duration": 48,
    "start_time": "2022-06-12T18:17:14.995Z"
   },
   {
    "duration": 190,
    "start_time": "2022-06-12T18:17:15.045Z"
   },
   {
    "duration": 159,
    "start_time": "2022-06-12T18:17:15.237Z"
   },
   {
    "duration": 28,
    "start_time": "2022-06-12T18:17:15.398Z"
   },
   {
    "duration": 180,
    "start_time": "2022-06-12T18:17:15.428Z"
   },
   {
    "duration": 17,
    "start_time": "2022-06-12T18:17:15.610Z"
   },
   {
    "duration": 25,
    "start_time": "2022-06-12T18:17:15.629Z"
   },
   {
    "duration": 4,
    "start_time": "2022-06-12T18:17:15.655Z"
   },
   {
    "duration": 27,
    "start_time": "2022-06-12T18:17:15.660Z"
   },
   {
    "duration": 4,
    "start_time": "2022-06-12T18:17:15.688Z"
   },
   {
    "duration": 6,
    "start_time": "2022-06-12T18:17:15.693Z"
   },
   {
    "duration": 26,
    "start_time": "2022-06-12T18:17:15.700Z"
   },
   {
    "duration": 9,
    "start_time": "2022-06-12T18:17:15.727Z"
   },
   {
    "duration": 6,
    "start_time": "2022-06-12T18:17:15.737Z"
   },
   {
    "duration": 5,
    "start_time": "2022-06-12T18:17:15.744Z"
   },
   {
    "duration": 121,
    "start_time": "2022-06-12T18:27:57.606Z"
   },
   {
    "duration": 829,
    "start_time": "2022-06-12T18:30:28.094Z"
   },
   {
    "duration": 152,
    "start_time": "2022-06-12T18:30:28.925Z"
   },
   {
    "duration": 3,
    "start_time": "2022-06-12T18:30:29.079Z"
   },
   {
    "duration": 127,
    "start_time": "2022-06-12T18:30:29.084Z"
   },
   {
    "duration": 5,
    "start_time": "2022-06-12T18:30:29.213Z"
   },
   {
    "duration": 162,
    "start_time": "2022-06-12T18:30:29.220Z"
   },
   {
    "duration": 8,
    "start_time": "2022-06-12T18:30:29.384Z"
   },
   {
    "duration": 140,
    "start_time": "2022-06-12T18:30:29.393Z"
   },
   {
    "duration": 11,
    "start_time": "2022-06-12T18:30:29.535Z"
   },
   {
    "duration": 111,
    "start_time": "2022-06-12T18:30:29.549Z"
   },
   {
    "duration": 6,
    "start_time": "2022-06-12T18:30:29.661Z"
   },
   {
    "duration": 27,
    "start_time": "2022-06-12T18:30:29.669Z"
   },
   {
    "duration": 79,
    "start_time": "2022-06-12T18:30:29.698Z"
   },
   {
    "duration": 50,
    "start_time": "2022-06-12T18:30:29.779Z"
   },
   {
    "duration": 60,
    "start_time": "2022-06-12T18:30:29.830Z"
   },
   {
    "duration": 57,
    "start_time": "2022-06-12T18:30:29.891Z"
   },
   {
    "duration": 11,
    "start_time": "2022-06-12T18:30:29.950Z"
   },
   {
    "duration": 51,
    "start_time": "2022-06-12T18:30:29.962Z"
   },
   {
    "duration": 30,
    "start_time": "2022-06-12T18:30:30.027Z"
   },
   {
    "duration": 9,
    "start_time": "2022-06-12T18:30:30.059Z"
   },
   {
    "duration": 71,
    "start_time": "2022-06-12T18:30:30.070Z"
   },
   {
    "duration": 34,
    "start_time": "2022-06-12T18:30:30.143Z"
   },
   {
    "duration": 11,
    "start_time": "2022-06-12T18:30:30.178Z"
   },
   {
    "duration": 34,
    "start_time": "2022-06-12T18:30:30.191Z"
   },
   {
    "duration": 15,
    "start_time": "2022-06-12T18:30:30.227Z"
   },
   {
    "duration": 29,
    "start_time": "2022-06-12T18:30:30.243Z"
   },
   {
    "duration": 25,
    "start_time": "2022-06-12T18:30:30.274Z"
   },
   {
    "duration": 14,
    "start_time": "2022-06-12T18:30:30.303Z"
   },
   {
    "duration": 21,
    "start_time": "2022-06-12T18:30:30.319Z"
   },
   {
    "duration": 9,
    "start_time": "2022-06-12T18:30:30.341Z"
   },
   {
    "duration": 13,
    "start_time": "2022-06-12T18:30:30.352Z"
   },
   {
    "duration": 32,
    "start_time": "2022-06-12T18:30:30.366Z"
   },
   {
    "duration": 7,
    "start_time": "2022-06-12T18:30:30.399Z"
   },
   {
    "duration": 18,
    "start_time": "2022-06-12T18:30:30.408Z"
   },
   {
    "duration": 114,
    "start_time": "2022-06-12T18:30:30.428Z"
   },
   {
    "duration": 38,
    "start_time": "2022-06-12T18:30:30.544Z"
   },
   {
    "duration": 10,
    "start_time": "2022-06-12T18:30:30.584Z"
   },
   {
    "duration": 7,
    "start_time": "2022-06-12T18:30:30.596Z"
   },
   {
    "duration": 193,
    "start_time": "2022-06-12T18:30:30.605Z"
   },
   {
    "duration": 27,
    "start_time": "2022-06-12T18:30:30.799Z"
   },
   {
    "duration": 186,
    "start_time": "2022-06-12T18:30:30.827Z"
   },
   {
    "duration": 157,
    "start_time": "2022-06-12T18:30:31.014Z"
   },
   {
    "duration": 28,
    "start_time": "2022-06-12T18:30:31.172Z"
   },
   {
    "duration": 28,
    "start_time": "2022-06-12T18:30:31.201Z"
   },
   {
    "duration": 31,
    "start_time": "2022-06-12T18:30:31.231Z"
   },
   {
    "duration": 174,
    "start_time": "2022-06-12T18:30:31.263Z"
   },
   {
    "duration": 146,
    "start_time": "2022-06-12T18:30:31.438Z"
   },
   {
    "duration": 21,
    "start_time": "2022-06-12T18:30:31.585Z"
   },
   {
    "duration": 168,
    "start_time": "2022-06-12T18:30:31.608Z"
   },
   {
    "duration": 10,
    "start_time": "2022-06-12T18:30:31.778Z"
   },
   {
    "duration": 41,
    "start_time": "2022-06-12T18:30:31.789Z"
   },
   {
    "duration": 19,
    "start_time": "2022-06-12T18:30:31.833Z"
   },
   {
    "duration": 30,
    "start_time": "2022-06-12T18:30:31.854Z"
   },
   {
    "duration": 4,
    "start_time": "2022-06-12T18:30:31.886Z"
   },
   {
    "duration": 8,
    "start_time": "2022-06-12T18:30:31.891Z"
   },
   {
    "duration": 8,
    "start_time": "2022-06-12T18:30:31.901Z"
   },
   {
    "duration": 17,
    "start_time": "2022-06-12T18:30:31.911Z"
   },
   {
    "duration": 4,
    "start_time": "2022-06-12T18:30:31.929Z"
   },
   {
    "duration": 6,
    "start_time": "2022-06-12T18:30:31.934Z"
   },
   {
    "duration": 12,
    "start_time": "2022-06-12T18:31:28.756Z"
   },
   {
    "duration": 35,
    "start_time": "2022-06-12T18:36:06.728Z"
   },
   {
    "duration": 5,
    "start_time": "2022-06-12T18:36:10.941Z"
   },
   {
    "duration": 4,
    "start_time": "2022-06-12T18:36:50.534Z"
   },
   {
    "duration": 817,
    "start_time": "2022-06-12T18:36:58.083Z"
   },
   {
    "duration": 149,
    "start_time": "2022-06-12T18:36:58.902Z"
   },
   {
    "duration": 3,
    "start_time": "2022-06-12T18:36:59.052Z"
   },
   {
    "duration": 103,
    "start_time": "2022-06-12T18:36:59.057Z"
   },
   {
    "duration": 6,
    "start_time": "2022-06-12T18:36:59.161Z"
   },
   {
    "duration": 175,
    "start_time": "2022-06-12T18:36:59.168Z"
   },
   {
    "duration": 7,
    "start_time": "2022-06-12T18:36:59.344Z"
   },
   {
    "duration": 140,
    "start_time": "2022-06-12T18:36:59.353Z"
   },
   {
    "duration": 8,
    "start_time": "2022-06-12T18:36:59.494Z"
   },
   {
    "duration": 96,
    "start_time": "2022-06-12T18:36:59.505Z"
   },
   {
    "duration": 7,
    "start_time": "2022-06-12T18:36:59.602Z"
   },
   {
    "duration": 31,
    "start_time": "2022-06-12T18:36:59.610Z"
   },
   {
    "duration": 85,
    "start_time": "2022-06-12T18:36:59.642Z"
   },
   {
    "duration": 49,
    "start_time": "2022-06-12T18:36:59.729Z"
   },
   {
    "duration": 84,
    "start_time": "2022-06-12T18:36:59.780Z"
   },
   {
    "duration": 40,
    "start_time": "2022-06-12T18:36:59.866Z"
   },
   {
    "duration": 25,
    "start_time": "2022-06-12T18:36:59.907Z"
   },
   {
    "duration": 40,
    "start_time": "2022-06-12T18:36:59.934Z"
   },
   {
    "duration": 24,
    "start_time": "2022-06-12T18:36:59.976Z"
   },
   {
    "duration": 29,
    "start_time": "2022-06-12T18:37:00.002Z"
   },
   {
    "duration": 60,
    "start_time": "2022-06-12T18:37:00.033Z"
   },
   {
    "duration": 46,
    "start_time": "2022-06-12T18:37:00.095Z"
   },
   {
    "duration": 11,
    "start_time": "2022-06-12T18:37:00.143Z"
   },
   {
    "duration": 14,
    "start_time": "2022-06-12T18:37:00.155Z"
   },
   {
    "duration": 16,
    "start_time": "2022-06-12T18:37:00.171Z"
   },
   {
    "duration": 12,
    "start_time": "2022-06-12T18:37:00.188Z"
   },
   {
    "duration": 13,
    "start_time": "2022-06-12T18:37:00.225Z"
   },
   {
    "duration": 14,
    "start_time": "2022-06-12T18:37:00.241Z"
   },
   {
    "duration": 29,
    "start_time": "2022-06-12T18:37:00.257Z"
   },
   {
    "duration": 3,
    "start_time": "2022-06-12T18:37:00.287Z"
   },
   {
    "duration": 10,
    "start_time": "2022-06-12T18:37:00.291Z"
   },
   {
    "duration": 43,
    "start_time": "2022-06-12T18:37:00.303Z"
   },
   {
    "duration": 7,
    "start_time": "2022-06-12T18:37:00.348Z"
   },
   {
    "duration": 6,
    "start_time": "2022-06-12T18:37:00.356Z"
   },
   {
    "duration": 131,
    "start_time": "2022-06-12T18:37:00.364Z"
   },
   {
    "duration": 41,
    "start_time": "2022-06-12T18:37:00.497Z"
   },
   {
    "duration": 17,
    "start_time": "2022-06-12T18:37:00.539Z"
   },
   {
    "duration": 13,
    "start_time": "2022-06-12T18:37:00.558Z"
   },
   {
    "duration": 200,
    "start_time": "2022-06-12T18:37:00.572Z"
   },
   {
    "duration": 24,
    "start_time": "2022-06-12T18:37:00.773Z"
   },
   {
    "duration": 206,
    "start_time": "2022-06-12T18:37:00.799Z"
   },
   {
    "duration": 175,
    "start_time": "2022-06-12T18:37:01.008Z"
   },
   {
    "duration": 28,
    "start_time": "2022-06-12T18:37:01.185Z"
   },
   {
    "duration": 31,
    "start_time": "2022-06-12T18:37:01.215Z"
   },
   {
    "duration": 39,
    "start_time": "2022-06-12T18:37:01.247Z"
   },
   {
    "duration": 168,
    "start_time": "2022-06-12T18:37:01.289Z"
   },
   {
    "duration": 176,
    "start_time": "2022-06-12T18:37:01.458Z"
   },
   {
    "duration": 22,
    "start_time": "2022-06-12T18:37:01.636Z"
   },
   {
    "duration": 184,
    "start_time": "2022-06-12T18:37:01.659Z"
   },
   {
    "duration": 11,
    "start_time": "2022-06-12T18:37:01.845Z"
   },
   {
    "duration": 31,
    "start_time": "2022-06-12T18:37:01.858Z"
   },
   {
    "duration": 22,
    "start_time": "2022-06-12T18:37:01.891Z"
   },
   {
    "duration": 34,
    "start_time": "2022-06-12T18:37:01.914Z"
   },
   {
    "duration": 4,
    "start_time": "2022-06-12T18:37:01.950Z"
   },
   {
    "duration": 8,
    "start_time": "2022-06-12T18:37:01.956Z"
   },
   {
    "duration": 10,
    "start_time": "2022-06-12T18:37:01.966Z"
   },
   {
    "duration": 15,
    "start_time": "2022-06-12T18:37:01.979Z"
   },
   {
    "duration": 17,
    "start_time": "2022-06-12T18:37:01.996Z"
   },
   {
    "duration": 4,
    "start_time": "2022-06-12T18:37:02.026Z"
   },
   {
    "duration": 5,
    "start_time": "2022-06-12T18:37:31.812Z"
   },
   {
    "duration": 9,
    "start_time": "2022-06-12T18:41:35.066Z"
   },
   {
    "duration": 6,
    "start_time": "2022-06-12T18:41:56.183Z"
   },
   {
    "duration": 11,
    "start_time": "2022-06-12T19:22:05.806Z"
   },
   {
    "duration": 10,
    "start_time": "2022-06-12T19:22:28.715Z"
   },
   {
    "duration": 9,
    "start_time": "2022-06-12T19:45:53.568Z"
   },
   {
    "duration": 9,
    "start_time": "2022-06-12T19:46:23.691Z"
   },
   {
    "duration": 12,
    "start_time": "2022-06-12T19:46:39.868Z"
   },
   {
    "duration": 8,
    "start_time": "2022-06-12T20:14:25.574Z"
   },
   {
    "duration": 11,
    "start_time": "2022-06-12T20:14:37.541Z"
   },
   {
    "duration": 13,
    "start_time": "2022-06-12T20:17:07.923Z"
   },
   {
    "duration": 9,
    "start_time": "2022-06-12T20:17:25.013Z"
   },
   {
    "duration": 7,
    "start_time": "2022-06-12T20:22:01.672Z"
   },
   {
    "duration": 35,
    "start_time": "2022-06-12T20:22:19.550Z"
   },
   {
    "duration": 8,
    "start_time": "2022-06-12T20:22:28.938Z"
   },
   {
    "duration": 8,
    "start_time": "2022-06-12T20:24:00.772Z"
   },
   {
    "duration": 8,
    "start_time": "2022-06-12T20:24:03.940Z"
   },
   {
    "duration": 26,
    "start_time": "2022-06-12T20:31:07.047Z"
   },
   {
    "duration": 31,
    "start_time": "2022-06-12T20:34:17.954Z"
   },
   {
    "duration": 51,
    "start_time": "2022-06-12T20:34:28.511Z"
   },
   {
    "duration": 28,
    "start_time": "2022-06-12T20:34:30.924Z"
   },
   {
    "duration": 6,
    "start_time": "2022-06-12T20:34:36.813Z"
   },
   {
    "duration": 7,
    "start_time": "2022-06-12T20:35:20.341Z"
   },
   {
    "duration": 10,
    "start_time": "2022-06-12T20:36:03.054Z"
   },
   {
    "duration": 9,
    "start_time": "2022-06-12T20:36:29.313Z"
   },
   {
    "duration": 123,
    "start_time": "2022-06-12T20:40:28.576Z"
   },
   {
    "duration": 7,
    "start_time": "2022-06-12T20:42:15.566Z"
   },
   {
    "duration": 7,
    "start_time": "2022-06-12T20:42:24.882Z"
   },
   {
    "duration": 3,
    "start_time": "2022-06-12T20:50:07.126Z"
   },
   {
    "duration": 5,
    "start_time": "2022-06-12T20:50:39.361Z"
   },
   {
    "duration": 3,
    "start_time": "2022-06-12T20:50:43.332Z"
   },
   {
    "duration": 3,
    "start_time": "2022-06-12T20:51:52.432Z"
   },
   {
    "duration": 3,
    "start_time": "2022-06-12T20:51:55.470Z"
   },
   {
    "duration": 164,
    "start_time": "2022-06-12T21:01:15.906Z"
   },
   {
    "duration": 171,
    "start_time": "2022-06-12T21:01:18.711Z"
   },
   {
    "duration": 774,
    "start_time": "2022-06-12T21:01:43.058Z"
   },
   {
    "duration": 160,
    "start_time": "2022-06-12T21:01:43.833Z"
   },
   {
    "duration": 3,
    "start_time": "2022-06-12T21:01:43.995Z"
   },
   {
    "duration": 130,
    "start_time": "2022-06-12T21:01:44.001Z"
   },
   {
    "duration": 5,
    "start_time": "2022-06-12T21:01:44.133Z"
   },
   {
    "duration": 164,
    "start_time": "2022-06-12T21:01:44.139Z"
   },
   {
    "duration": 8,
    "start_time": "2022-06-12T21:01:44.304Z"
   },
   {
    "duration": 211,
    "start_time": "2022-06-12T21:01:44.325Z"
   },
   {
    "duration": 9,
    "start_time": "2022-06-12T21:01:44.537Z"
   },
   {
    "duration": 95,
    "start_time": "2022-06-12T21:01:44.549Z"
   },
   {
    "duration": 7,
    "start_time": "2022-06-12T21:01:44.645Z"
   },
   {
    "duration": 27,
    "start_time": "2022-06-12T21:01:44.654Z"
   },
   {
    "duration": 75,
    "start_time": "2022-06-12T21:01:44.682Z"
   },
   {
    "duration": 43,
    "start_time": "2022-06-12T21:01:44.759Z"
   },
   {
    "duration": 79,
    "start_time": "2022-06-12T21:01:44.803Z"
   },
   {
    "duration": 54,
    "start_time": "2022-06-12T21:01:44.883Z"
   },
   {
    "duration": 12,
    "start_time": "2022-06-12T21:01:44.938Z"
   },
   {
    "duration": 44,
    "start_time": "2022-06-12T21:01:44.952Z"
   },
   {
    "duration": 45,
    "start_time": "2022-06-12T21:01:44.998Z"
   },
   {
    "duration": 9,
    "start_time": "2022-06-12T21:01:45.045Z"
   },
   {
    "duration": 53,
    "start_time": "2022-06-12T21:01:45.056Z"
   },
   {
    "duration": 44,
    "start_time": "2022-06-12T21:01:45.111Z"
   },
   {
    "duration": 8,
    "start_time": "2022-06-12T21:01:45.157Z"
   },
   {
    "duration": 22,
    "start_time": "2022-06-12T21:01:45.167Z"
   },
   {
    "duration": 32,
    "start_time": "2022-06-12T21:01:45.190Z"
   },
   {
    "duration": 28,
    "start_time": "2022-06-12T21:01:45.223Z"
   },
   {
    "duration": 28,
    "start_time": "2022-06-12T21:01:45.253Z"
   },
   {
    "duration": 38,
    "start_time": "2022-06-12T21:01:45.284Z"
   },
   {
    "duration": 25,
    "start_time": "2022-06-12T21:01:45.324Z"
   },
   {
    "duration": 16,
    "start_time": "2022-06-12T21:01:45.351Z"
   },
   {
    "duration": 28,
    "start_time": "2022-06-12T21:01:45.368Z"
   },
   {
    "duration": 33,
    "start_time": "2022-06-12T21:01:45.398Z"
   },
   {
    "duration": 8,
    "start_time": "2022-06-12T21:01:45.433Z"
   },
   {
    "duration": 5,
    "start_time": "2022-06-12T21:01:45.442Z"
   },
   {
    "duration": 123,
    "start_time": "2022-06-12T21:01:45.448Z"
   },
   {
    "duration": 37,
    "start_time": "2022-06-12T21:01:45.573Z"
   },
   {
    "duration": 16,
    "start_time": "2022-06-12T21:01:45.611Z"
   },
   {
    "duration": 11,
    "start_time": "2022-06-12T21:01:45.628Z"
   },
   {
    "duration": 169,
    "start_time": "2022-06-12T21:01:45.640Z"
   },
   {
    "duration": 34,
    "start_time": "2022-06-12T21:01:45.811Z"
   },
   {
    "duration": 186,
    "start_time": "2022-06-12T21:01:45.847Z"
   },
   {
    "duration": 153,
    "start_time": "2022-06-12T21:01:46.034Z"
   },
   {
    "duration": 27,
    "start_time": "2022-06-12T21:01:46.188Z"
   },
   {
    "duration": 18,
    "start_time": "2022-06-12T21:01:46.225Z"
   },
   {
    "duration": 23,
    "start_time": "2022-06-12T21:01:46.244Z"
   },
   {
    "duration": 181,
    "start_time": "2022-06-12T21:01:46.269Z"
   },
   {
    "duration": 185,
    "start_time": "2022-06-12T21:01:46.452Z"
   },
   {
    "duration": 23,
    "start_time": "2022-06-12T21:01:46.639Z"
   },
   {
    "duration": 184,
    "start_time": "2022-06-12T21:01:46.663Z"
   },
   {
    "duration": 9,
    "start_time": "2022-06-12T21:01:46.848Z"
   },
   {
    "duration": 8,
    "start_time": "2022-06-12T21:01:46.858Z"
   },
   {
    "duration": 6,
    "start_time": "2022-06-12T21:01:46.868Z"
   },
   {
    "duration": 9,
    "start_time": "2022-06-12T21:01:46.875Z"
   },
   {
    "duration": 7,
    "start_time": "2022-06-12T21:01:46.886Z"
   },
   {
    "duration": 32,
    "start_time": "2022-06-12T21:01:46.894Z"
   },
   {
    "duration": 8,
    "start_time": "2022-06-12T21:01:46.927Z"
   },
   {
    "duration": 8,
    "start_time": "2022-06-12T21:01:46.936Z"
   },
   {
    "duration": 6,
    "start_time": "2022-06-12T21:01:46.945Z"
   },
   {
    "duration": 8,
    "start_time": "2022-06-12T21:01:46.952Z"
   },
   {
    "duration": 10,
    "start_time": "2022-06-12T21:01:46.961Z"
   },
   {
    "duration": 7,
    "start_time": "2022-06-12T21:01:46.973Z"
   },
   {
    "duration": 755,
    "start_time": "2022-06-13T06:47:38.827Z"
   },
   {
    "duration": 298,
    "start_time": "2022-06-13T06:47:39.584Z"
   },
   {
    "duration": 3,
    "start_time": "2022-06-13T06:47:39.884Z"
   },
   {
    "duration": 161,
    "start_time": "2022-06-13T06:47:39.888Z"
   },
   {
    "duration": 5,
    "start_time": "2022-06-13T06:47:40.051Z"
   },
   {
    "duration": 485,
    "start_time": "2022-06-13T06:47:40.058Z"
   },
   {
    "duration": 6,
    "start_time": "2022-06-13T06:47:40.545Z"
   },
   {
    "duration": 400,
    "start_time": "2022-06-13T06:47:40.553Z"
   },
   {
    "duration": 7,
    "start_time": "2022-06-13T06:47:40.955Z"
   },
   {
    "duration": 173,
    "start_time": "2022-06-13T06:47:40.964Z"
   },
   {
    "duration": 7,
    "start_time": "2022-06-13T06:47:41.138Z"
   },
   {
    "duration": 63,
    "start_time": "2022-06-13T06:47:41.146Z"
   },
   {
    "duration": 68,
    "start_time": "2022-06-13T06:47:41.210Z"
   },
   {
    "duration": 41,
    "start_time": "2022-06-13T06:47:41.279Z"
   },
   {
    "duration": 78,
    "start_time": "2022-06-13T06:47:41.321Z"
   },
   {
    "duration": 41,
    "start_time": "2022-06-13T06:47:41.401Z"
   },
   {
    "duration": 8,
    "start_time": "2022-06-13T06:47:41.444Z"
   },
   {
    "duration": 58,
    "start_time": "2022-06-13T06:47:41.454Z"
   },
   {
    "duration": 23,
    "start_time": "2022-06-13T06:47:41.514Z"
   },
   {
    "duration": 9,
    "start_time": "2022-06-13T06:47:41.538Z"
   },
   {
    "duration": 67,
    "start_time": "2022-06-13T06:47:41.548Z"
   },
   {
    "duration": 28,
    "start_time": "2022-06-13T06:47:41.617Z"
   },
   {
    "duration": 8,
    "start_time": "2022-06-13T06:47:41.647Z"
   },
   {
    "duration": 24,
    "start_time": "2022-06-13T06:47:41.657Z"
   },
   {
    "duration": 13,
    "start_time": "2022-06-13T06:47:41.683Z"
   },
   {
    "duration": 8,
    "start_time": "2022-06-13T06:47:41.697Z"
   },
   {
    "duration": 17,
    "start_time": "2022-06-13T06:47:41.707Z"
   },
   {
    "duration": 13,
    "start_time": "2022-06-13T06:47:41.728Z"
   },
   {
    "duration": 38,
    "start_time": "2022-06-13T06:47:41.742Z"
   },
   {
    "duration": 3,
    "start_time": "2022-06-13T06:47:41.781Z"
   },
   {
    "duration": 9,
    "start_time": "2022-06-13T06:47:41.786Z"
   },
   {
    "duration": 25,
    "start_time": "2022-06-13T06:47:41.796Z"
   },
   {
    "duration": 6,
    "start_time": "2022-06-13T06:47:41.822Z"
   },
   {
    "duration": 5,
    "start_time": "2022-06-13T06:47:41.829Z"
   },
   {
    "duration": 117,
    "start_time": "2022-06-13T06:47:41.835Z"
   },
   {
    "duration": 37,
    "start_time": "2022-06-13T06:47:41.954Z"
   },
   {
    "duration": 7,
    "start_time": "2022-06-13T06:47:41.992Z"
   },
   {
    "duration": 7,
    "start_time": "2022-06-13T06:47:42.000Z"
   },
   {
    "duration": 183,
    "start_time": "2022-06-13T06:47:42.008Z"
   },
   {
    "duration": 22,
    "start_time": "2022-06-13T06:47:42.193Z"
   },
   {
    "duration": 182,
    "start_time": "2022-06-13T06:47:42.217Z"
   },
   {
    "duration": 148,
    "start_time": "2022-06-13T06:47:42.401Z"
   },
   {
    "duration": 34,
    "start_time": "2022-06-13T06:47:42.550Z"
   },
   {
    "duration": 20,
    "start_time": "2022-06-13T06:47:42.585Z"
   },
   {
    "duration": 23,
    "start_time": "2022-06-13T06:47:42.607Z"
   },
   {
    "duration": 173,
    "start_time": "2022-06-13T06:47:42.631Z"
   },
   {
    "duration": 149,
    "start_time": "2022-06-13T06:47:42.805Z"
   },
   {
    "duration": 27,
    "start_time": "2022-06-13T06:47:42.956Z"
   },
   {
    "duration": 154,
    "start_time": "2022-06-13T06:47:42.984Z"
   },
   {
    "duration": 9,
    "start_time": "2022-06-13T06:47:43.139Z"
   },
   {
    "duration": 16,
    "start_time": "2022-06-13T06:47:43.149Z"
   },
   {
    "duration": 14,
    "start_time": "2022-06-13T06:47:43.166Z"
   },
   {
    "duration": 9,
    "start_time": "2022-06-13T06:47:43.181Z"
   },
   {
    "duration": 6,
    "start_time": "2022-06-13T06:47:43.191Z"
   },
   {
    "duration": 7,
    "start_time": "2022-06-13T06:47:43.198Z"
   },
   {
    "duration": 9,
    "start_time": "2022-06-13T06:47:43.206Z"
   },
   {
    "duration": 9,
    "start_time": "2022-06-13T06:47:43.216Z"
   },
   {
    "duration": 6,
    "start_time": "2022-06-13T06:47:43.226Z"
   },
   {
    "duration": 7,
    "start_time": "2022-06-13T06:47:43.233Z"
   },
   {
    "duration": 40,
    "start_time": "2022-06-13T06:47:43.241Z"
   },
   {
    "duration": 11,
    "start_time": "2022-06-13T06:47:43.282Z"
   },
   {
    "duration": 21,
    "start_time": "2022-06-13T06:54:51.177Z"
   },
   {
    "duration": 73,
    "start_time": "2022-06-13T07:51:46.275Z"
   },
   {
    "duration": 893,
    "start_time": "2022-06-13T07:56:17.672Z"
   },
   {
    "duration": 397,
    "start_time": "2022-06-13T07:56:18.567Z"
   },
   {
    "duration": 4,
    "start_time": "2022-06-13T07:56:18.966Z"
   },
   {
    "duration": 200,
    "start_time": "2022-06-13T07:56:18.972Z"
   },
   {
    "duration": 7,
    "start_time": "2022-06-13T07:56:19.174Z"
   },
   {
    "duration": 309,
    "start_time": "2022-06-13T07:56:19.182Z"
   },
   {
    "duration": 19,
    "start_time": "2022-06-13T07:56:19.492Z"
   },
   {
    "duration": 381,
    "start_time": "2022-06-13T07:56:19.512Z"
   },
   {
    "duration": 13,
    "start_time": "2022-06-13T07:56:19.896Z"
   },
   {
    "duration": 347,
    "start_time": "2022-06-13T07:56:19.913Z"
   },
   {
    "duration": 7,
    "start_time": "2022-06-13T07:56:20.262Z"
   },
   {
    "duration": 99,
    "start_time": "2022-06-13T07:56:20.271Z"
   },
   {
    "duration": 98,
    "start_time": "2022-06-13T07:56:20.372Z"
   },
   {
    "duration": 69,
    "start_time": "2022-06-13T07:56:20.471Z"
   },
   {
    "duration": 132,
    "start_time": "2022-06-13T07:56:20.541Z"
   },
   {
    "duration": 0,
    "start_time": "2022-06-13T07:56:20.676Z"
   },
   {
    "duration": 0,
    "start_time": "2022-06-13T07:56:20.678Z"
   },
   {
    "duration": 0,
    "start_time": "2022-06-13T07:56:20.679Z"
   },
   {
    "duration": 0,
    "start_time": "2022-06-13T07:56:20.680Z"
   },
   {
    "duration": 0,
    "start_time": "2022-06-13T07:56:20.695Z"
   },
   {
    "duration": 1,
    "start_time": "2022-06-13T07:56:20.696Z"
   },
   {
    "duration": 0,
    "start_time": "2022-06-13T07:56:20.697Z"
   },
   {
    "duration": 0,
    "start_time": "2022-06-13T07:56:20.699Z"
   },
   {
    "duration": 0,
    "start_time": "2022-06-13T07:56:20.700Z"
   },
   {
    "duration": 0,
    "start_time": "2022-06-13T07:56:20.703Z"
   },
   {
    "duration": 0,
    "start_time": "2022-06-13T07:56:20.704Z"
   },
   {
    "duration": 0,
    "start_time": "2022-06-13T07:56:20.705Z"
   },
   {
    "duration": 0,
    "start_time": "2022-06-13T07:56:20.705Z"
   },
   {
    "duration": 1,
    "start_time": "2022-06-13T07:56:20.706Z"
   },
   {
    "duration": 0,
    "start_time": "2022-06-13T07:56:20.708Z"
   },
   {
    "duration": 0,
    "start_time": "2022-06-13T07:56:20.710Z"
   },
   {
    "duration": 0,
    "start_time": "2022-06-13T07:56:20.711Z"
   },
   {
    "duration": 0,
    "start_time": "2022-06-13T07:56:20.713Z"
   },
   {
    "duration": 0,
    "start_time": "2022-06-13T07:56:20.714Z"
   },
   {
    "duration": 0,
    "start_time": "2022-06-13T07:56:20.716Z"
   },
   {
    "duration": 0,
    "start_time": "2022-06-13T07:56:20.717Z"
   },
   {
    "duration": 0,
    "start_time": "2022-06-13T07:56:20.718Z"
   },
   {
    "duration": 0,
    "start_time": "2022-06-13T07:56:20.720Z"
   },
   {
    "duration": 0,
    "start_time": "2022-06-13T07:56:20.721Z"
   },
   {
    "duration": 0,
    "start_time": "2022-06-13T07:56:20.723Z"
   },
   {
    "duration": 0,
    "start_time": "2022-06-13T07:56:20.724Z"
   },
   {
    "duration": 0,
    "start_time": "2022-06-13T07:56:20.727Z"
   },
   {
    "duration": 0,
    "start_time": "2022-06-13T07:56:20.731Z"
   },
   {
    "duration": 0,
    "start_time": "2022-06-13T07:56:20.732Z"
   },
   {
    "duration": 0,
    "start_time": "2022-06-13T07:56:20.733Z"
   },
   {
    "duration": 0,
    "start_time": "2022-06-13T07:56:20.735Z"
   },
   {
    "duration": 0,
    "start_time": "2022-06-13T07:56:20.736Z"
   },
   {
    "duration": 0,
    "start_time": "2022-06-13T07:56:20.738Z"
   },
   {
    "duration": 0,
    "start_time": "2022-06-13T07:56:20.739Z"
   },
   {
    "duration": 0,
    "start_time": "2022-06-13T07:56:20.741Z"
   },
   {
    "duration": 0,
    "start_time": "2022-06-13T07:56:20.742Z"
   },
   {
    "duration": 0,
    "start_time": "2022-06-13T07:56:20.743Z"
   },
   {
    "duration": 0,
    "start_time": "2022-06-13T07:56:20.744Z"
   },
   {
    "duration": 0,
    "start_time": "2022-06-13T07:56:20.746Z"
   },
   {
    "duration": 0,
    "start_time": "2022-06-13T07:56:20.747Z"
   },
   {
    "duration": 0,
    "start_time": "2022-06-13T07:56:20.796Z"
   },
   {
    "duration": 0,
    "start_time": "2022-06-13T07:56:20.797Z"
   },
   {
    "duration": 0,
    "start_time": "2022-06-13T07:56:20.799Z"
   },
   {
    "duration": 0,
    "start_time": "2022-06-13T07:56:20.800Z"
   },
   {
    "duration": 0,
    "start_time": "2022-06-13T07:56:20.801Z"
   },
   {
    "duration": 0,
    "start_time": "2022-06-13T07:56:20.803Z"
   },
   {
    "duration": 0,
    "start_time": "2022-06-13T07:56:20.805Z"
   },
   {
    "duration": 7,
    "start_time": "2022-06-13T07:56:52.679Z"
   },
   {
    "duration": 1020,
    "start_time": "2022-06-13T07:56:59.017Z"
   },
   {
    "duration": 217,
    "start_time": "2022-06-13T07:57:00.039Z"
   },
   {
    "duration": 4,
    "start_time": "2022-06-13T07:57:00.258Z"
   },
   {
    "duration": 146,
    "start_time": "2022-06-13T07:57:00.264Z"
   },
   {
    "duration": 16,
    "start_time": "2022-06-13T07:57:00.413Z"
   },
   {
    "duration": 236,
    "start_time": "2022-06-13T07:57:00.431Z"
   },
   {
    "duration": 11,
    "start_time": "2022-06-13T07:57:00.669Z"
   },
   {
    "duration": 205,
    "start_time": "2022-06-13T07:57:00.683Z"
   },
   {
    "duration": 31,
    "start_time": "2022-06-13T07:57:00.889Z"
   },
   {
    "duration": 130,
    "start_time": "2022-06-13T07:57:00.925Z"
   },
   {
    "duration": 7,
    "start_time": "2022-06-13T07:57:01.057Z"
   },
   {
    "duration": 50,
    "start_time": "2022-06-13T07:57:01.065Z"
   },
   {
    "duration": 124,
    "start_time": "2022-06-13T07:57:01.118Z"
   },
   {
    "duration": 93,
    "start_time": "2022-06-13T07:57:01.245Z"
   },
   {
    "duration": 6,
    "start_time": "2022-06-13T07:57:01.340Z"
   },
   {
    "duration": 114,
    "start_time": "2022-06-13T07:57:01.348Z"
   },
   {
    "duration": 68,
    "start_time": "2022-06-13T07:57:01.465Z"
   },
   {
    "duration": 11,
    "start_time": "2022-06-13T07:57:01.534Z"
   },
   {
    "duration": 68,
    "start_time": "2022-06-13T07:57:01.546Z"
   },
   {
    "duration": 46,
    "start_time": "2022-06-13T07:57:01.617Z"
   },
   {
    "duration": 10,
    "start_time": "2022-06-13T07:57:01.665Z"
   },
   {
    "duration": 94,
    "start_time": "2022-06-13T07:57:01.677Z"
   },
   {
    "duration": 46,
    "start_time": "2022-06-13T07:57:01.773Z"
   },
   {
    "duration": 16,
    "start_time": "2022-06-13T07:57:01.821Z"
   },
   {
    "duration": 23,
    "start_time": "2022-06-13T07:57:01.839Z"
   },
   {
    "duration": 88,
    "start_time": "2022-06-13T07:57:01.864Z"
   },
   {
    "duration": 27,
    "start_time": "2022-06-13T07:57:01.955Z"
   },
   {
    "duration": 72,
    "start_time": "2022-06-13T07:57:01.984Z"
   },
   {
    "duration": 19,
    "start_time": "2022-06-13T07:57:02.058Z"
   },
   {
    "duration": 60,
    "start_time": "2022-06-13T07:57:02.079Z"
   },
   {
    "duration": 20,
    "start_time": "2022-06-13T07:57:02.141Z"
   },
   {
    "duration": 23,
    "start_time": "2022-06-13T07:57:02.163Z"
   },
   {
    "duration": 81,
    "start_time": "2022-06-13T07:57:02.188Z"
   },
   {
    "duration": 7,
    "start_time": "2022-06-13T07:57:02.270Z"
   },
   {
    "duration": 10,
    "start_time": "2022-06-13T07:57:02.279Z"
   },
   {
    "duration": 344,
    "start_time": "2022-06-13T07:57:02.290Z"
   },
   {
    "duration": 90,
    "start_time": "2022-06-13T07:57:02.637Z"
   },
   {
    "duration": 9,
    "start_time": "2022-06-13T07:57:02.730Z"
   },
   {
    "duration": 10,
    "start_time": "2022-06-13T07:57:02.741Z"
   },
   {
    "duration": 207,
    "start_time": "2022-06-13T07:57:02.753Z"
   },
   {
    "duration": 43,
    "start_time": "2022-06-13T07:57:02.964Z"
   },
   {
    "duration": 235,
    "start_time": "2022-06-13T07:57:03.009Z"
   },
   {
    "duration": 198,
    "start_time": "2022-06-13T07:57:03.246Z"
   },
   {
    "duration": 32,
    "start_time": "2022-06-13T07:57:03.446Z"
   },
   {
    "duration": 49,
    "start_time": "2022-06-13T07:57:03.480Z"
   },
   {
    "duration": 31,
    "start_time": "2022-06-13T07:57:03.532Z"
   },
   {
    "duration": 252,
    "start_time": "2022-06-13T07:57:03.565Z"
   },
   {
    "duration": 203,
    "start_time": "2022-06-13T07:57:03.820Z"
   },
   {
    "duration": 34,
    "start_time": "2022-06-13T07:57:04.026Z"
   },
   {
    "duration": 270,
    "start_time": "2022-06-13T07:57:04.062Z"
   },
   {
    "duration": 12,
    "start_time": "2022-06-13T07:57:04.334Z"
   },
   {
    "duration": 13,
    "start_time": "2022-06-13T07:57:04.348Z"
   },
   {
    "duration": 9,
    "start_time": "2022-06-13T07:57:04.363Z"
   },
   {
    "duration": 32,
    "start_time": "2022-06-13T07:57:04.399Z"
   },
   {
    "duration": 9,
    "start_time": "2022-06-13T07:57:04.433Z"
   },
   {
    "duration": 9,
    "start_time": "2022-06-13T07:57:04.444Z"
   },
   {
    "duration": 18,
    "start_time": "2022-06-13T07:57:04.455Z"
   },
   {
    "duration": 11,
    "start_time": "2022-06-13T07:57:04.474Z"
   },
   {
    "duration": 32,
    "start_time": "2022-06-13T07:57:04.487Z"
   },
   {
    "duration": 16,
    "start_time": "2022-06-13T07:57:04.522Z"
   },
   {
    "duration": 11,
    "start_time": "2022-06-13T07:57:04.540Z"
   },
   {
    "duration": 11,
    "start_time": "2022-06-13T07:57:04.553Z"
   },
   {
    "duration": 183,
    "start_time": "2022-06-13T08:11:28.286Z"
   },
   {
    "duration": 208,
    "start_time": "2022-06-13T08:11:41.026Z"
   },
   {
    "duration": 180,
    "start_time": "2022-06-13T08:11:58.260Z"
   },
   {
    "duration": 280,
    "start_time": "2022-06-13T08:12:03.808Z"
   },
   {
    "duration": 163,
    "start_time": "2022-06-13T08:12:07.779Z"
   },
   {
    "duration": 182,
    "start_time": "2022-06-13T08:12:11.866Z"
   },
   {
    "duration": 106,
    "start_time": "2022-06-13T08:20:14.419Z"
   },
   {
    "duration": 8,
    "start_time": "2022-06-13T08:21:06.966Z"
   },
   {
    "duration": 7,
    "start_time": "2022-06-13T08:21:24.559Z"
   },
   {
    "duration": 6,
    "start_time": "2022-06-13T08:21:29.779Z"
   },
   {
    "duration": 156,
    "start_time": "2022-06-13T08:23:50.046Z"
   },
   {
    "duration": 98,
    "start_time": "2022-06-13T08:26:26.663Z"
   },
   {
    "duration": 52,
    "start_time": "2022-06-13T08:27:45.218Z"
   },
   {
    "duration": 932,
    "start_time": "2022-06-13T08:32:56.214Z"
   },
   {
    "duration": 197,
    "start_time": "2022-06-13T08:32:57.149Z"
   },
   {
    "duration": 3,
    "start_time": "2022-06-13T08:32:57.347Z"
   },
   {
    "duration": 129,
    "start_time": "2022-06-13T08:32:57.351Z"
   },
   {
    "duration": 6,
    "start_time": "2022-06-13T08:32:57.482Z"
   },
   {
    "duration": 23,
    "start_time": "2022-06-13T08:32:57.489Z"
   },
   {
    "duration": 217,
    "start_time": "2022-06-13T08:32:57.514Z"
   },
   {
    "duration": 9,
    "start_time": "2022-06-13T08:32:57.732Z"
   },
   {
    "duration": 124,
    "start_time": "2022-06-13T08:32:57.742Z"
   },
   {
    "duration": 182,
    "start_time": "2022-06-13T08:32:57.868Z"
   },
   {
    "duration": 8,
    "start_time": "2022-06-13T08:32:58.052Z"
   },
   {
    "duration": 95,
    "start_time": "2022-06-13T08:32:58.062Z"
   },
   {
    "duration": 126,
    "start_time": "2022-06-13T08:32:58.158Z"
   },
   {
    "duration": 29,
    "start_time": "2022-06-13T08:32:58.288Z"
   },
   {
    "duration": 83,
    "start_time": "2022-06-13T08:32:58.320Z"
   },
   {
    "duration": 42,
    "start_time": "2022-06-13T08:32:58.409Z"
   },
   {
    "duration": 103,
    "start_time": "2022-06-13T08:32:58.453Z"
   },
   {
    "duration": 73,
    "start_time": "2022-06-13T08:32:58.558Z"
   },
   {
    "duration": 4,
    "start_time": "2022-06-13T08:32:58.633Z"
   },
   {
    "duration": 91,
    "start_time": "2022-06-13T08:32:58.638Z"
   },
   {
    "duration": 38,
    "start_time": "2022-06-13T08:32:58.731Z"
   },
   {
    "duration": 32,
    "start_time": "2022-06-13T08:32:58.770Z"
   },
   {
    "duration": 53,
    "start_time": "2022-06-13T08:32:58.810Z"
   },
   {
    "duration": 43,
    "start_time": "2022-06-13T08:32:58.865Z"
   },
   {
    "duration": 21,
    "start_time": "2022-06-13T08:32:58.912Z"
   },
   {
    "duration": 83,
    "start_time": "2022-06-13T08:32:58.934Z"
   },
   {
    "duration": 40,
    "start_time": "2022-06-13T08:32:59.019Z"
   },
   {
    "duration": 13,
    "start_time": "2022-06-13T08:32:59.061Z"
   },
   {
    "duration": 45,
    "start_time": "2022-06-13T08:32:59.076Z"
   },
   {
    "duration": 20,
    "start_time": "2022-06-13T08:32:59.127Z"
   },
   {
    "duration": 15,
    "start_time": "2022-06-13T08:32:59.149Z"
   },
   {
    "duration": 19,
    "start_time": "2022-06-13T08:32:59.166Z"
   },
   {
    "duration": 20,
    "start_time": "2022-06-13T08:32:59.187Z"
   },
   {
    "duration": 44,
    "start_time": "2022-06-13T08:32:59.216Z"
   },
   {
    "duration": 12,
    "start_time": "2022-06-13T08:32:59.261Z"
   },
   {
    "duration": 23,
    "start_time": "2022-06-13T08:32:59.274Z"
   },
   {
    "duration": 62,
    "start_time": "2022-06-13T08:32:59.299Z"
   },
   {
    "duration": 7,
    "start_time": "2022-06-13T08:32:59.362Z"
   },
   {
    "duration": 21,
    "start_time": "2022-06-13T08:32:59.371Z"
   },
   {
    "duration": 154,
    "start_time": "2022-06-13T08:32:59.403Z"
   },
   {
    "duration": 57,
    "start_time": "2022-06-13T08:32:59.561Z"
   },
   {
    "duration": 12,
    "start_time": "2022-06-13T08:32:59.621Z"
   },
   {
    "duration": 12,
    "start_time": "2022-06-13T08:32:59.635Z"
   },
   {
    "duration": 228,
    "start_time": "2022-06-13T08:32:59.648Z"
   },
   {
    "duration": 51,
    "start_time": "2022-06-13T08:32:59.878Z"
   },
   {
    "duration": 257,
    "start_time": "2022-06-13T08:32:59.931Z"
   },
   {
    "duration": 244,
    "start_time": "2022-06-13T08:33:00.193Z"
   },
   {
    "duration": 40,
    "start_time": "2022-06-13T08:33:00.440Z"
   },
   {
    "duration": 60,
    "start_time": "2022-06-13T08:33:00.482Z"
   },
   {
    "duration": 45,
    "start_time": "2022-06-13T08:33:00.545Z"
   },
   {
    "duration": 268,
    "start_time": "2022-06-13T08:33:00.592Z"
   },
   {
    "duration": 211,
    "start_time": "2022-06-13T08:33:00.862Z"
   },
   {
    "duration": 47,
    "start_time": "2022-06-13T08:33:01.075Z"
   },
   {
    "duration": 243,
    "start_time": "2022-06-13T08:33:01.125Z"
   },
   {
    "duration": 13,
    "start_time": "2022-06-13T08:33:01.370Z"
   },
   {
    "duration": 74,
    "start_time": "2022-06-13T08:33:01.384Z"
   },
   {
    "duration": 27,
    "start_time": "2022-06-13T08:33:01.460Z"
   },
   {
    "duration": 78,
    "start_time": "2022-06-13T08:33:01.488Z"
   },
   {
    "duration": 18,
    "start_time": "2022-06-13T08:33:01.569Z"
   },
   {
    "duration": 57,
    "start_time": "2022-06-13T08:33:01.589Z"
   },
   {
    "duration": 21,
    "start_time": "2022-06-13T08:33:01.648Z"
   },
   {
    "duration": 28,
    "start_time": "2022-06-13T08:33:01.671Z"
   },
   {
    "duration": 33,
    "start_time": "2022-06-13T08:33:01.706Z"
   },
   {
    "duration": 12,
    "start_time": "2022-06-13T08:33:01.740Z"
   },
   {
    "duration": 21,
    "start_time": "2022-06-13T08:33:01.754Z"
   },
   {
    "duration": 53,
    "start_time": "2022-06-13T08:33:01.776Z"
   }
  ],
  "kernelspec": {
   "display_name": "Python 3 (ipykernel)",
   "language": "python",
   "name": "python3"
  },
  "language_info": {
   "codemirror_mode": {
    "name": "ipython",
    "version": 3
   },
   "file_extension": ".py",
   "mimetype": "text/x-python",
   "name": "python",
   "nbconvert_exporter": "python",
   "pygments_lexer": "ipython3",
   "version": "3.9.12"
  },
  "toc": {
   "base_numbering": 1,
   "nav_menu": {},
   "number_sections": true,
   "sideBar": true,
   "skip_h1_title": true,
   "title_cell": "Table of Contents",
   "title_sidebar": "Contents",
   "toc_cell": false,
   "toc_position": {
    "height": "calc(100% - 180px)",
    "left": "10px",
    "top": "150px",
    "width": "217.378px"
   },
   "toc_section_display": true,
   "toc_window_display": true
  }
 },
 "nbformat": 4,
 "nbformat_minor": 2
}
