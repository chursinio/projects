{
 "cells": [
  {
   "cell_type": "markdown",
   "metadata": {},
   "source": [
    "# Рынок заведений общественного питания Москвы"
   ]
  },
  {
   "cell_type": "markdown",
   "metadata": {},
   "source": [
    "В Москве планирует открыться небольшое кафе. Главная его особенность  — гостей должны обслуживать роботы. Проект многообещающий, но дорогой. Возможных инвесторов интересует текущее положение дел на рынке — получится ли снискать популярность на долгое время, когда все зеваки насмотрятся на роботов-официантов?\n",
    "\n",
    "Необходимо подготовить исследование рынка. Для этого у нас есть открытые данные о заведениях общественного питания в Москве\n",
    "\n",
    "\n",
    "**Цель исследования:** дать рекомендации о виде заведения, количестве посадочных мест, а также районе расположения для успешного открытия нового кафе в Москве\n",
    "\n",
    "**Этапы исследования:**\n",
    "- подготовить данные к анализу\n",
    "- исследовать соотношение видов объектов общественного питания по количеству\n",
    "- исследовать соотношение сетевых и несетевых заведений по количеству. Определить, что характерно для сетевых заведений: много заведений с небольшим числом посадочных мест в каждом или мало заведений с большим количеством посадочных мест\n",
    "- определить какой вид объекта предоставляет в среднем самое большое количество посадочных мест\n",
    "- построить график топ-10 улиц по количеству объектов общественного питания. Определить в каких районах Москвы находятся эти улицы\n",
    "- определить число улиц с одним объектом общественного питания, а также каких районах Москвы находятся эти улицы\n",
    "- сделать выводы и предоставить рекомендации инвесторам\n",
    "\n",
    "Снабдить исследование графиками"
   ]
  },
  {
   "cell_type": "markdown",
   "metadata": {},
   "source": [
    "## Изучение данных и подготовка к анализу"
   ]
  },
  {
   "cell_type": "markdown",
   "metadata": {},
   "source": [
    "### Загрузка данных"
   ]
  },
  {
   "cell_type": "markdown",
   "metadata": {},
   "source": [
    "Нам предоставлена таблица rest_data с информацией о заведения общественного питания в Москве. \n",
    "\n",
    "Согласно полученной документации в таблице имеются следующие столбцы:\n",
    "- `id` — идентификатор объекта;\n",
    "- `object_name` — название объекта общественного питания;\n",
    "- `chain` — сетевой ресторан;\n",
    "- `object_type` — тип объекта общественного питания;\n",
    "- `address` — адрес;\n",
    "- `number` — количество посадочных мест."
   ]
  },
  {
   "cell_type": "markdown",
   "metadata": {},
   "source": [
    "Импортируем необходимые библиотеки и откроем таблицу"
   ]
  },
  {
   "cell_type": "code",
   "execution_count": 1,
   "metadata": {},
   "outputs": [],
   "source": [
    "import pandas as pd\n",
    "\n",
    "import matplotlib.pyplot as plt\n",
    "import seaborn as sns\n",
    "import plotly.express as px\n",
    "from plotly import graph_objects as go\n",
    "import plotly.io as pio\n",
    "pio.renderers.default = \"png\"\n",
    "\n",
    "import textwrap as tw\n",
    "import re"
   ]
  },
  {
   "cell_type": "code",
   "execution_count": 2,
   "metadata": {},
   "outputs": [],
   "source": [
    "try:\n",
    "    rest = pd.read_csv('rest_data.csv')\n",
    "except:\n",
    "    rest = pd.read_csv('/Users/ASUS/Учебные проекты/8_Как рассказать/rest_data.csv')"
   ]
  },
  {
   "cell_type": "code",
   "execution_count": 3,
   "metadata": {},
   "outputs": [],
   "source": [
    "def data_info(data):\n",
    "    data.columns = data.columns.str.lower()\n",
    "    display(data.head())\n",
    "    print('*' * 90)\n",
    "    data.info()\n",
    "    print('*' * 90)\n",
    "    print(f' Количество явных дубликатов - {data.duplicated().sum()}')\n",
    "    print('*' * 90)\n",
    "    print(f' Количество пропусков - {data.isna().sum()}');"
   ]
  },
  {
   "cell_type": "code",
   "execution_count": 4,
   "metadata": {},
   "outputs": [
    {
     "data": {
      "text/html": [
       "<div>\n",
       "<style scoped>\n",
       "    .dataframe tbody tr th:only-of-type {\n",
       "        vertical-align: middle;\n",
       "    }\n",
       "\n",
       "    .dataframe tbody tr th {\n",
       "        vertical-align: top;\n",
       "    }\n",
       "\n",
       "    .dataframe thead th {\n",
       "        text-align: right;\n",
       "    }\n",
       "</style>\n",
       "<table border=\"1\" class=\"dataframe\">\n",
       "  <thead>\n",
       "    <tr style=\"text-align: right;\">\n",
       "      <th></th>\n",
       "      <th>id</th>\n",
       "      <th>object_name</th>\n",
       "      <th>chain</th>\n",
       "      <th>object_type</th>\n",
       "      <th>address</th>\n",
       "      <th>number</th>\n",
       "    </tr>\n",
       "  </thead>\n",
       "  <tbody>\n",
       "    <tr>\n",
       "      <th>0</th>\n",
       "      <td>151635</td>\n",
       "      <td>СМЕТАНА</td>\n",
       "      <td>нет</td>\n",
       "      <td>кафе</td>\n",
       "      <td>город Москва, улица Егора Абакумова, дом 9</td>\n",
       "      <td>48</td>\n",
       "    </tr>\n",
       "    <tr>\n",
       "      <th>1</th>\n",
       "      <td>77874</td>\n",
       "      <td>Родник</td>\n",
       "      <td>нет</td>\n",
       "      <td>кафе</td>\n",
       "      <td>город Москва, улица Талалихина, дом 2/1, корпус 1</td>\n",
       "      <td>35</td>\n",
       "    </tr>\n",
       "    <tr>\n",
       "      <th>2</th>\n",
       "      <td>24309</td>\n",
       "      <td>Кафе «Академия»</td>\n",
       "      <td>нет</td>\n",
       "      <td>кафе</td>\n",
       "      <td>город Москва, Абельмановская улица, дом 6</td>\n",
       "      <td>95</td>\n",
       "    </tr>\n",
       "    <tr>\n",
       "      <th>3</th>\n",
       "      <td>21894</td>\n",
       "      <td>ПИЦЦЕТОРИЯ</td>\n",
       "      <td>да</td>\n",
       "      <td>кафе</td>\n",
       "      <td>город Москва, Абрамцевская улица, дом 1</td>\n",
       "      <td>40</td>\n",
       "    </tr>\n",
       "    <tr>\n",
       "      <th>4</th>\n",
       "      <td>119365</td>\n",
       "      <td>Кафе «Вишневая метель»</td>\n",
       "      <td>нет</td>\n",
       "      <td>кафе</td>\n",
       "      <td>город Москва, Абрамцевская улица, дом 9, корпус 1</td>\n",
       "      <td>50</td>\n",
       "    </tr>\n",
       "  </tbody>\n",
       "</table>\n",
       "</div>"
      ],
      "text/plain": [
       "       id             object_name chain object_type  \\\n",
       "0  151635                 СМЕТАНА   нет        кафе   \n",
       "1   77874                  Родник   нет        кафе   \n",
       "2   24309         Кафе «Академия»   нет        кафе   \n",
       "3   21894              ПИЦЦЕТОРИЯ    да        кафе   \n",
       "4  119365  Кафе «Вишневая метель»   нет        кафе   \n",
       "\n",
       "                                             address  number  \n",
       "0         город Москва, улица Егора Абакумова, дом 9      48  \n",
       "1  город Москва, улица Талалихина, дом 2/1, корпус 1      35  \n",
       "2          город Москва, Абельмановская улица, дом 6      95  \n",
       "3            город Москва, Абрамцевская улица, дом 1      40  \n",
       "4  город Москва, Абрамцевская улица, дом 9, корпус 1      50  "
      ]
     },
     "metadata": {},
     "output_type": "display_data"
    },
    {
     "name": "stdout",
     "output_type": "stream",
     "text": [
      "******************************************************************************************\n",
      "<class 'pandas.core.frame.DataFrame'>\n",
      "RangeIndex: 15366 entries, 0 to 15365\n",
      "Data columns (total 6 columns):\n",
      " #   Column       Non-Null Count  Dtype \n",
      "---  ------       --------------  ----- \n",
      " 0   id           15366 non-null  int64 \n",
      " 1   object_name  15366 non-null  object\n",
      " 2   chain        15366 non-null  object\n",
      " 3   object_type  15366 non-null  object\n",
      " 4   address      15366 non-null  object\n",
      " 5   number       15366 non-null  int64 \n",
      "dtypes: int64(2), object(4)\n",
      "memory usage: 720.4+ KB\n",
      "******************************************************************************************\n",
      " Количество явных дубликатов - 0\n",
      "******************************************************************************************\n",
      " Количество пропусков - id             0\n",
      "object_name    0\n",
      "chain          0\n",
      "object_type    0\n",
      "address        0\n",
      "number         0\n",
      "dtype: int64\n"
     ]
    }
   ],
   "source": [
    "data_info(rest)"
   ]
  },
  {
   "cell_type": "code",
   "execution_count": 5,
   "metadata": {},
   "outputs": [],
   "source": [
    "pd.set_option('max_colwidth', None)"
   ]
  },
  {
   "cell_type": "markdown",
   "metadata": {},
   "source": [
    "### Первичный анализ данных и поиск аномалий"
   ]
  },
  {
   "cell_type": "markdown",
   "metadata": {},
   "source": [
    "Обзор данных показал, что явные дубликаты отсутствуют. Проверим имеются ли неявные. Для этого посмотрим уникальные значения в столбцах и их количество."
   ]
  },
  {
   "cell_type": "code",
   "execution_count": 6,
   "metadata": {},
   "outputs": [
    {
     "data": {
      "text/plain": [
       "object_name    10393\n",
       "object_type        9\n",
       "address         9108\n",
       "dtype: int64"
      ]
     },
     "execution_count": 6,
     "metadata": {},
     "output_type": "execute_result"
    }
   ],
   "source": [
    "rest[['object_name', 'object_type', 'address']].agg('nunique')"
   ]
  },
  {
   "cell_type": "code",
   "execution_count": 7,
   "metadata": {},
   "outputs": [
    {
     "data": {
      "text/plain": [
       "array(['СМЕТАНА', 'Родник', 'Кафе «Академия»', ..., 'Бар Мята Lounge',\n",
       "       'Мята Lounge Октябрьская', 'Кальянная «Мята Lounge»'], dtype=object)"
      ]
     },
     "metadata": {},
     "output_type": "display_data"
    },
    {
     "data": {
      "text/plain": [
       "array(['кафе', 'столовая', 'закусочная',\n",
       "       'предприятие быстрого обслуживания', 'ресторан', 'кафетерий',\n",
       "       'буфет', 'бар', 'магазин (отдел кулинарии)'], dtype=object)"
      ]
     },
     "metadata": {},
     "output_type": "display_data"
    },
    {
     "data": {
      "text/plain": [
       "array(['город Москва, улица Егора Абакумова, дом 9',\n",
       "       'город Москва, улица Талалихина, дом 2/1, корпус 1',\n",
       "       'город Москва, Абельмановская улица, дом 6', ...,\n",
       "       'город Москва, Салтыковская улица, дом 7Г',\n",
       "       'город Москва, Осенний бульвар, дом 9',\n",
       "       'город Москва, улица Новый Арбат, дом 13'], dtype=object)"
      ]
     },
     "metadata": {},
     "output_type": "display_data"
    }
   ],
   "source": [
    "display(rest['object_name'].unique(), rest['object_type'].unique(), rest['address'].unique())"
   ]
  },
  {
   "cell_type": "markdown",
   "metadata": {},
   "source": [
    "Видим, что в датасете представлены 9 тыс. различных адресов, 10 тыс. уникальных названий заведений и 9 категорий объектов. Т.к. данные значения отличаются от общего количества элементов таблицы, значит в каждом столбце с адресом и названием есть повторы.\n",
    "\n",
    "Посмотрим на адреса"
   ]
  },
  {
   "cell_type": "code",
   "execution_count": 8,
   "metadata": {},
   "outputs": [
    {
     "data": {
      "text/html": [
       "<div>\n",
       "<style scoped>\n",
       "    .dataframe tbody tr th:only-of-type {\n",
       "        vertical-align: middle;\n",
       "    }\n",
       "\n",
       "    .dataframe tbody tr th {\n",
       "        vertical-align: top;\n",
       "    }\n",
       "\n",
       "    .dataframe thead th {\n",
       "        text-align: right;\n",
       "    }\n",
       "</style>\n",
       "<table border=\"1\" class=\"dataframe\">\n",
       "  <thead>\n",
       "    <tr style=\"text-align: right;\">\n",
       "      <th></th>\n",
       "      <th>id</th>\n",
       "    </tr>\n",
       "    <tr>\n",
       "      <th>address</th>\n",
       "      <th></th>\n",
       "    </tr>\n",
       "  </thead>\n",
       "  <tbody>\n",
       "    <tr>\n",
       "      <th>Николоямская улица, дом 28/60, строение 1</th>\n",
       "      <td>3</td>\n",
       "    </tr>\n",
       "    <tr>\n",
       "      <th>город Москва, 1-й Красногвардейский проезд, дом 15</th>\n",
       "      <td>4</td>\n",
       "    </tr>\n",
       "    <tr>\n",
       "      <th>город Москва, 1-й Красногвардейский проезд, дом 21, строение 2</th>\n",
       "      <td>9</td>\n",
       "    </tr>\n",
       "    <tr>\n",
       "      <th>город Москва, 1-й Нагатинский проезд, дом 11, корпус 2</th>\n",
       "      <td>3</td>\n",
       "    </tr>\n",
       "    <tr>\n",
       "      <th>город Москва, 1-й Тверской-Ямской переулок, дом 18</th>\n",
       "      <td>3</td>\n",
       "    </tr>\n",
       "    <tr>\n",
       "      <th>...</th>\n",
       "      <td>...</td>\n",
       "    </tr>\n",
       "    <tr>\n",
       "      <th>город Москва, улица Щепкина, дом 47, строение 1</th>\n",
       "      <td>3</td>\n",
       "    </tr>\n",
       "    <tr>\n",
       "      <th>город Москва, шоссе Энтузиастов, дом 12, корпус 2</th>\n",
       "      <td>12</td>\n",
       "    </tr>\n",
       "    <tr>\n",
       "      <th>город Москва, шоссе Энтузиастов, дом 20</th>\n",
       "      <td>3</td>\n",
       "    </tr>\n",
       "    <tr>\n",
       "      <th>город Москва, шоссе Энтузиастов, дом 31</th>\n",
       "      <td>4</td>\n",
       "    </tr>\n",
       "    <tr>\n",
       "      <th>улица Льва Толстого, дом 18</th>\n",
       "      <td>3</td>\n",
       "    </tr>\n",
       "  </tbody>\n",
       "</table>\n",
       "<p>962 rows × 1 columns</p>\n",
       "</div>"
      ],
      "text/plain": [
       "                                                                id\n",
       "address                                                           \n",
       "Николоямская улица, дом 28/60, строение 1                        3\n",
       "город Москва, 1-й Красногвардейский проезд, дом 15               4\n",
       "город Москва, 1-й Красногвардейский проезд, дом 21, строение 2   9\n",
       "город Москва, 1-й Нагатинский проезд, дом 11, корпус 2           3\n",
       "город Москва, 1-й Тверской-Ямской переулок, дом 18               3\n",
       "...                                                             ..\n",
       "город Москва, улица Щепкина, дом 47, строение 1                  3\n",
       "город Москва, шоссе Энтузиастов, дом 12, корпус 2               12\n",
       "город Москва, шоссе Энтузиастов, дом 20                          3\n",
       "город Москва, шоссе Энтузиастов, дом 31                          4\n",
       "улица Льва Толстого, дом 18                                      3\n",
       "\n",
       "[962 rows x 1 columns]"
      ]
     },
     "execution_count": 8,
     "metadata": {},
     "output_type": "execute_result"
    }
   ],
   "source": [
    "rest.pivot_table(index='address',values='id', aggfunc='count').query('id > 2')"
   ]
  },
  {
   "cell_type": "markdown",
   "metadata": {},
   "source": [
    "По одному адресу может находится несколько заведений. Например, в многоэтажном здании или торговом центре. Проверим один из адресов."
   ]
  },
  {
   "cell_type": "code",
   "execution_count": 9,
   "metadata": {},
   "outputs": [
    {
     "data": {
      "text/html": [
       "<div>\n",
       "<style scoped>\n",
       "    .dataframe tbody tr th:only-of-type {\n",
       "        vertical-align: middle;\n",
       "    }\n",
       "\n",
       "    .dataframe tbody tr th {\n",
       "        vertical-align: top;\n",
       "    }\n",
       "\n",
       "    .dataframe thead th {\n",
       "        text-align: right;\n",
       "    }\n",
       "</style>\n",
       "<table border=\"1\" class=\"dataframe\">\n",
       "  <thead>\n",
       "    <tr style=\"text-align: right;\">\n",
       "      <th></th>\n",
       "      <th>id</th>\n",
       "      <th>object_name</th>\n",
       "      <th>chain</th>\n",
       "      <th>object_type</th>\n",
       "      <th>address</th>\n",
       "      <th>number</th>\n",
       "    </tr>\n",
       "  </thead>\n",
       "  <tbody>\n",
       "    <tr>\n",
       "      <th>8759</th>\n",
       "      <td>21845</td>\n",
       "      <td>Шоколадница</td>\n",
       "      <td>да</td>\n",
       "      <td>кафе</td>\n",
       "      <td>Николоямская улица, дом 28/60, строение 1</td>\n",
       "      <td>56</td>\n",
       "    </tr>\n",
       "    <tr>\n",
       "      <th>8760</th>\n",
       "      <td>25859</td>\n",
       "      <td>ДжонДжоли</td>\n",
       "      <td>нет</td>\n",
       "      <td>ресторан</td>\n",
       "      <td>Николоямская улица, дом 28/60, строение 1</td>\n",
       "      <td>90</td>\n",
       "    </tr>\n",
       "    <tr>\n",
       "      <th>10505</th>\n",
       "      <td>179007</td>\n",
       "      <td>Караоке Song Vape BAR STEAK HOUSE</td>\n",
       "      <td>нет</td>\n",
       "      <td>ресторан</td>\n",
       "      <td>Николоямская улица, дом 28/60, строение 1</td>\n",
       "      <td>40</td>\n",
       "    </tr>\n",
       "  </tbody>\n",
       "</table>\n",
       "</div>"
      ],
      "text/plain": [
       "           id                        object_name chain object_type  \\\n",
       "8759    21845                        Шоколадница    да        кафе   \n",
       "8760    25859                          ДжонДжоли   нет    ресторан   \n",
       "10505  179007  Караоке Song Vape BAR STEAK HOUSE   нет    ресторан   \n",
       "\n",
       "                                         address  number  \n",
       "8759   Николоямская улица, дом 28/60, строение 1      56  \n",
       "8760   Николоямская улица, дом 28/60, строение 1      90  \n",
       "10505  Николоямская улица, дом 28/60, строение 1      40  "
      ]
     },
     "execution_count": 9,
     "metadata": {},
     "output_type": "execute_result"
    }
   ],
   "source": [
    "rest.query('address == \"Николоямская улица, дом 28/60, строение 1\"')"
   ]
  },
  {
   "cell_type": "markdown",
   "metadata": {},
   "source": [
    "Эти заведения действительно расположены по одному адресу, значит это не дубликаты. Идем дальше"
   ]
  },
  {
   "cell_type": "markdown",
   "metadata": {},
   "source": [
    "Теперь изучим повторы в столбце с названиями. Посмотрим сколько несетевых заведений имеется в дубликатах (в сетевых одно название очень даже логично)"
   ]
  },
  {
   "cell_type": "code",
   "execution_count": 10,
   "metadata": {},
   "outputs": [
    {
     "data": {
      "text/plain": [
       "нет    2714\n",
       "да     2259\n",
       "Name: chain, dtype: int64"
      ]
     },
     "execution_count": 10,
     "metadata": {},
     "output_type": "execute_result"
    }
   ],
   "source": [
    "rest[rest['object_name'].duplicated()]['chain'].value_counts()"
   ]
  },
  {
   "cell_type": "markdown",
   "metadata": {},
   "source": [
    "2714 названий. Посмотрим ближе, что это за заведения"
   ]
  },
  {
   "cell_type": "code",
   "execution_count": 11,
   "metadata": {},
   "outputs": [
    {
     "data": {
      "text/html": [
       "<div>\n",
       "<style scoped>\n",
       "    .dataframe tbody tr th:only-of-type {\n",
       "        vertical-align: middle;\n",
       "    }\n",
       "\n",
       "    .dataframe tbody tr th {\n",
       "        vertical-align: top;\n",
       "    }\n",
       "\n",
       "    .dataframe thead th {\n",
       "        text-align: right;\n",
       "    }\n",
       "</style>\n",
       "<table border=\"1\" class=\"dataframe\">\n",
       "  <thead>\n",
       "    <tr style=\"text-align: right;\">\n",
       "      <th></th>\n",
       "      <th>id</th>\n",
       "      <th>object_name</th>\n",
       "      <th>chain</th>\n",
       "      <th>object_type</th>\n",
       "      <th>address</th>\n",
       "      <th>number</th>\n",
       "    </tr>\n",
       "  </thead>\n",
       "  <tbody>\n",
       "    <tr>\n",
       "      <th>114</th>\n",
       "      <td>28613</td>\n",
       "      <td>КОМБИНАТ ПИТАНИЯ МГТУ ИМ.Н.Э.БАУМАНА</td>\n",
       "      <td>нет</td>\n",
       "      <td>закусочная</td>\n",
       "      <td>город Москва, Бригадирский переулок, дом 3-5</td>\n",
       "      <td>216</td>\n",
       "    </tr>\n",
       "    <tr>\n",
       "      <th>115</th>\n",
       "      <td>28614</td>\n",
       "      <td>КОМБИНАТ ПИТАНИЯ МГТУ ИМ.Н.Э.БАУМАНА</td>\n",
       "      <td>нет</td>\n",
       "      <td>буфет</td>\n",
       "      <td>город Москва, Бригадирский переулок, дом 3-5</td>\n",
       "      <td>12</td>\n",
       "    </tr>\n",
       "    <tr>\n",
       "      <th>195</th>\n",
       "      <td>149531</td>\n",
       "      <td>Шаурма, куры-гриль</td>\n",
       "      <td>нет</td>\n",
       "      <td>предприятие быстрого обслуживания</td>\n",
       "      <td>город Москва, 2-я Владимирская улица, дом 44/10</td>\n",
       "      <td>0</td>\n",
       "    </tr>\n",
       "    <tr>\n",
       "      <th>238</th>\n",
       "      <td>27703</td>\n",
       "      <td>Кафе</td>\n",
       "      <td>нет</td>\n",
       "      <td>столовая</td>\n",
       "      <td>город Москва, улица Бориса Галушкина, дом 26</td>\n",
       "      <td>45</td>\n",
       "    </tr>\n",
       "    <tr>\n",
       "      <th>341</th>\n",
       "      <td>20918</td>\n",
       "      <td>ГП КП МГАИ</td>\n",
       "      <td>нет</td>\n",
       "      <td>буфет</td>\n",
       "      <td>город Москва, Дубосековская улица, дом 9</td>\n",
       "      <td>40</td>\n",
       "    </tr>\n",
       "    <tr>\n",
       "      <th>...</th>\n",
       "      <td>...</td>\n",
       "      <td>...</td>\n",
       "      <td>...</td>\n",
       "      <td>...</td>\n",
       "      <td>...</td>\n",
       "      <td>...</td>\n",
       "    </tr>\n",
       "    <tr>\n",
       "      <th>15014</th>\n",
       "      <td>210231</td>\n",
       "      <td>Кафе</td>\n",
       "      <td>нет</td>\n",
       "      <td>кафе</td>\n",
       "      <td>город Москва, Люблинская улица, владение 60, строение 1/1</td>\n",
       "      <td>20</td>\n",
       "    </tr>\n",
       "    <tr>\n",
       "      <th>15015</th>\n",
       "      <td>208239</td>\n",
       "      <td>ГАЗПРОМНЕФТЬ</td>\n",
       "      <td>нет</td>\n",
       "      <td>кафе</td>\n",
       "      <td>поселение \"Мосрентген\", деревня Дудкино, владение 1</td>\n",
       "      <td>20</td>\n",
       "    </tr>\n",
       "    <tr>\n",
       "      <th>15017</th>\n",
       "      <td>205588</td>\n",
       "      <td>Кофейня</td>\n",
       "      <td>нет</td>\n",
       "      <td>кафетерий</td>\n",
       "      <td>город Москва, поселение Щаповское, улица Евгения Родионова, владение 1</td>\n",
       "      <td>16</td>\n",
       "    </tr>\n",
       "    <tr>\n",
       "      <th>15020</th>\n",
       "      <td>208941</td>\n",
       "      <td>Кальянс</td>\n",
       "      <td>нет</td>\n",
       "      <td>бар</td>\n",
       "      <td>город Москва, поселение Сосенское, бульвар Веласкеса, дом 5, корпус 3</td>\n",
       "      <td>15</td>\n",
       "    </tr>\n",
       "    <tr>\n",
       "      <th>15024</th>\n",
       "      <td>210136</td>\n",
       "      <td>PhoBo</td>\n",
       "      <td>нет</td>\n",
       "      <td>кафе</td>\n",
       "      <td>город Москва, поселение Московский, Киевское шоссе, 23-й километр, дом 1, строение 1</td>\n",
       "      <td>0</td>\n",
       "    </tr>\n",
       "  </tbody>\n",
       "</table>\n",
       "<p>2714 rows × 6 columns</p>\n",
       "</div>"
      ],
      "text/plain": [
       "           id                           object_name chain  \\\n",
       "114     28613  КОМБИНАТ ПИТАНИЯ МГТУ ИМ.Н.Э.БАУМАНА   нет   \n",
       "115     28614  КОМБИНАТ ПИТАНИЯ МГТУ ИМ.Н.Э.БАУМАНА   нет   \n",
       "195    149531                    Шаурма, куры-гриль   нет   \n",
       "238     27703                                  Кафе   нет   \n",
       "341     20918                            ГП КП МГАИ   нет   \n",
       "...       ...                                   ...   ...   \n",
       "15014  210231                                  Кафе   нет   \n",
       "15015  208239                          ГАЗПРОМНЕФТЬ   нет   \n",
       "15017  205588                               Кофейня   нет   \n",
       "15020  208941                               Кальянс   нет   \n",
       "15024  210136                                 PhoBo   нет   \n",
       "\n",
       "                             object_type  \\\n",
       "114                           закусочная   \n",
       "115                                буфет   \n",
       "195    предприятие быстрого обслуживания   \n",
       "238                             столовая   \n",
       "341                                буфет   \n",
       "...                                  ...   \n",
       "15014                               кафе   \n",
       "15015                               кафе   \n",
       "15017                          кафетерий   \n",
       "15020                                бар   \n",
       "15024                               кафе   \n",
       "\n",
       "                                                                                    address  \\\n",
       "114                                            город Москва, Бригадирский переулок, дом 3-5   \n",
       "115                                            город Москва, Бригадирский переулок, дом 3-5   \n",
       "195                                         город Москва, 2-я Владимирская улица, дом 44/10   \n",
       "238                                            город Москва, улица Бориса Галушкина, дом 26   \n",
       "341                                                город Москва, Дубосековская улица, дом 9   \n",
       "...                                                                                     ...   \n",
       "15014                             город Москва, Люблинская улица, владение 60, строение 1/1   \n",
       "15015                                   поселение \"Мосрентген\", деревня Дудкино, владение 1   \n",
       "15017                город Москва, поселение Щаповское, улица Евгения Родионова, владение 1   \n",
       "15020                 город Москва, поселение Сосенское, бульвар Веласкеса, дом 5, корпус 3   \n",
       "15024  город Москва, поселение Московский, Киевское шоссе, 23-й километр, дом 1, строение 1   \n",
       "\n",
       "       number  \n",
       "114       216  \n",
       "115        12  \n",
       "195         0  \n",
       "238        45  \n",
       "341        40  \n",
       "...       ...  \n",
       "15014      20  \n",
       "15015      20  \n",
       "15017      16  \n",
       "15020      15  \n",
       "15024       0  \n",
       "\n",
       "[2714 rows x 6 columns]"
      ]
     },
     "execution_count": 11,
     "metadata": {},
     "output_type": "execute_result"
    }
   ],
   "source": [
    "rest[rest['object_name'].duplicated()].query('chain == \"нет\"')"
   ]
  },
  {
   "cell_type": "markdown",
   "metadata": {},
   "source": [
    "Видим, что попадаются названия \"Кафе\" и \"Шаурма\". Возможно, это множество небольших забегаловок без конкретного названия"
   ]
  },
  {
   "cell_type": "code",
   "execution_count": 12,
   "metadata": {},
   "outputs": [
    {
     "data": {
      "text/plain": [
       "Столовая                                266\n",
       "Кафе                                    235\n",
       "Шаурма                                  233\n",
       "Пекарня                                  75\n",
       "Буфет                                    58\n",
       "СТОЛОВАЯ                                 51\n",
       "Школьно-базовая столовая                 43\n",
       "КАФЕ                                     40\n",
       "Выпечка                                  35\n",
       "Кафетерий                                34\n",
       "Кофейня                                  28\n",
       "Донер Кебаб                              26\n",
       "Бистро                                   22\n",
       "БУФЕТ                                    22\n",
       "Донер                                    19\n",
       "Пиццерия                                 18\n",
       "Кулинария                                16\n",
       "ШАУРМА                                   15\n",
       "КОМБИНАТ ПИТАНИЯ МГТУ ИМ.Н.Э.БАУМАНА     15\n",
       "Кофе                                     14\n",
       "Name: object_name, dtype: int64"
      ]
     },
     "execution_count": 12,
     "metadata": {},
     "output_type": "execute_result"
    }
   ],
   "source": [
    "rest[rest['object_name'].duplicated()].query('chain == \"нет\"')['object_name'].value_counts().head(20)"
   ]
  },
  {
   "cell_type": "markdown",
   "metadata": {},
   "source": [
    "По первым 20 значениям видим, что повторы обусловлены тем, что это заведения без названий либо с категорией заведения вместо названия. Комбинат питания МГТУ и столовую сложно отнести к сетевым заведениям, но они являются муниципальными образованиями, соответсвенно наличие таких дубликатов объяснимо и логично."
   ]
  },
  {
   "cell_type": "markdown",
   "metadata": {},
   "source": [
    "Посмотрим распределение значений в стоблце `number` "
   ]
  },
  {
   "cell_type": "code",
   "execution_count": 13,
   "metadata": {
    "scrolled": true
   },
   "outputs": [
    {
     "data": {
      "image/png": "[encoded data removed]",
      "text/plain": [
       "<Figure size 1080x360 with 1 Axes>"
      ]
     },
     "metadata": {
      "needs_background": "light"
     },
     "output_type": "display_data"
    }
   ],
   "source": [
    "plt.figure(figsize=(15,5))\n",
    "sns.histplot(rest['number'], color= 'purple')\n",
    "plt.title('Распределение значений количества посадочных мест')\n",
    "plt.xlabel('Количество посадочных мест')\n",
    "plt.ylabel('');"
   ]
  },
  {
   "cell_type": "code",
   "execution_count": 14,
   "metadata": {},
   "outputs": [
    {
     "data": {
      "text/plain": [
       "count    15366.000000\n",
       "mean        59.547182\n",
       "std         74.736833\n",
       "min          0.000000\n",
       "25%         12.000000\n",
       "50%         40.000000\n",
       "75%         80.000000\n",
       "max       1700.000000\n",
       "Name: number, dtype: float64"
      ]
     },
     "execution_count": 14,
     "metadata": {},
     "output_type": "execute_result"
    }
   ],
   "source": [
    "rest['number'].describe()"
   ]
  },
  {
   "cell_type": "markdown",
   "metadata": {},
   "source": [
    "Минимально значение  - 0, максимальное - 1700. В первом случае - это могут быть заведения с блюдами на вынос. Помещение на 1700 мест похоже на огромный концертный зал. "
   ]
  },
  {
   "cell_type": "code",
   "execution_count": 15,
   "metadata": {},
   "outputs": [
    {
     "data": {
      "text/html": [
       "<div>\n",
       "<style scoped>\n",
       "    .dataframe tbody tr th:only-of-type {\n",
       "        vertical-align: middle;\n",
       "    }\n",
       "\n",
       "    .dataframe tbody tr th {\n",
       "        vertical-align: top;\n",
       "    }\n",
       "\n",
       "    .dataframe thead th {\n",
       "        text-align: right;\n",
       "    }\n",
       "</style>\n",
       "<table border=\"1\" class=\"dataframe\">\n",
       "  <thead>\n",
       "    <tr style=\"text-align: right;\">\n",
       "      <th></th>\n",
       "      <th>id</th>\n",
       "      <th>object_name</th>\n",
       "      <th>chain</th>\n",
       "      <th>object_type</th>\n",
       "      <th>address</th>\n",
       "      <th>number</th>\n",
       "    </tr>\n",
       "  </thead>\n",
       "  <tbody>\n",
       "    <tr>\n",
       "      <th>12723</th>\n",
       "      <td>199696</td>\n",
       "      <td>Arena by Soho Family</td>\n",
       "      <td>нет</td>\n",
       "      <td>бар</td>\n",
       "      <td>город Москва, Кутузовский проспект, дом 36, строение 11</td>\n",
       "      <td>1700</td>\n",
       "    </tr>\n",
       "  </tbody>\n",
       "</table>\n",
       "</div>"
      ],
      "text/plain": [
       "           id           object_name chain object_type  \\\n",
       "12723  199696  Arena by Soho Family   нет         бар   \n",
       "\n",
       "                                                       address  number  \n",
       "12723  город Москва, Кутузовский проспект, дом 36, строение 11    1700  "
      ]
     },
     "execution_count": 15,
     "metadata": {},
     "output_type": "execute_result"
    }
   ],
   "source": [
    "rest.query('number == 1700')"
   ]
  },
  {
   "cell_type": "markdown",
   "metadata": {},
   "source": [
    "Наша догадка подтвердилась. Это единственое такое крупное место, посадка в разы превышает медианное значение равное 40 местам. Удалять пока не будем (хотя оно и сильно влияет на среднее и создает жирный хвост на гистограмме), т.к. это реальное место и данные достоверные"
   ]
  },
  {
   "cell_type": "markdown",
   "metadata": {},
   "source": [
    "### Столбец address"
   ]
  },
  {
   "cell_type": "markdown",
   "metadata": {},
   "source": [
    "Выделим название улицы в отдельный столбец `street`. Для это создадим список слов с наименованиями элементов городской инфраструктуры и с помощью регулярных выражений вытащим из столбца `address` подстроки, включающие элемент из списка и его название. "
   ]
  },
  {
   "cell_type": "code",
   "execution_count": 16,
   "metadata": {},
   "outputs": [],
   "source": [
    "words = ['улица','ул','переулок','шоссе','проспект','площадь','проезд',\n",
    "         'аллея','бульвар','набережная','тупик','линия']\n",
    "\n",
    "reg_exp = r\".*,\\s*\\b([^,]*?(?:{})\\b[^,]*)[,$]+\".format(\"|\".join(words))\n",
    "\n",
    "rest[\"street\"] = rest[\"address\"].str.extract(reg_exp, flags=re.I)"
   ]
  },
  {
   "cell_type": "markdown",
   "metadata": {},
   "source": [
    "Посмотрим, что получилось"
   ]
  },
  {
   "cell_type": "code",
   "execution_count": 17,
   "metadata": {},
   "outputs": [
    {
     "data": {
      "text/html": [
       "<div>\n",
       "<style scoped>\n",
       "    .dataframe tbody tr th:only-of-type {\n",
       "        vertical-align: middle;\n",
       "    }\n",
       "\n",
       "    .dataframe tbody tr th {\n",
       "        vertical-align: top;\n",
       "    }\n",
       "\n",
       "    .dataframe thead th {\n",
       "        text-align: right;\n",
       "    }\n",
       "</style>\n",
       "<table border=\"1\" class=\"dataframe\">\n",
       "  <thead>\n",
       "    <tr style=\"text-align: right;\">\n",
       "      <th></th>\n",
       "      <th>id</th>\n",
       "      <th>object_name</th>\n",
       "      <th>chain</th>\n",
       "      <th>object_type</th>\n",
       "      <th>address</th>\n",
       "      <th>number</th>\n",
       "      <th>street</th>\n",
       "    </tr>\n",
       "  </thead>\n",
       "  <tbody>\n",
       "    <tr>\n",
       "      <th>0</th>\n",
       "      <td>151635</td>\n",
       "      <td>СМЕТАНА</td>\n",
       "      <td>нет</td>\n",
       "      <td>кафе</td>\n",
       "      <td>город Москва, улица Егора Абакумова, дом 9</td>\n",
       "      <td>48</td>\n",
       "      <td>улица Егора Абакумова</td>\n",
       "    </tr>\n",
       "    <tr>\n",
       "      <th>1</th>\n",
       "      <td>77874</td>\n",
       "      <td>Родник</td>\n",
       "      <td>нет</td>\n",
       "      <td>кафе</td>\n",
       "      <td>город Москва, улица Талалихина, дом 2/1, корпус 1</td>\n",
       "      <td>35</td>\n",
       "      <td>улица Талалихина</td>\n",
       "    </tr>\n",
       "    <tr>\n",
       "      <th>2</th>\n",
       "      <td>24309</td>\n",
       "      <td>Кафе «Академия»</td>\n",
       "      <td>нет</td>\n",
       "      <td>кафе</td>\n",
       "      <td>город Москва, Абельмановская улица, дом 6</td>\n",
       "      <td>95</td>\n",
       "      <td>Абельмановская улица</td>\n",
       "    </tr>\n",
       "    <tr>\n",
       "      <th>3</th>\n",
       "      <td>21894</td>\n",
       "      <td>ПИЦЦЕТОРИЯ</td>\n",
       "      <td>да</td>\n",
       "      <td>кафе</td>\n",
       "      <td>город Москва, Абрамцевская улица, дом 1</td>\n",
       "      <td>40</td>\n",
       "      <td>Абрамцевская улица</td>\n",
       "    </tr>\n",
       "    <tr>\n",
       "      <th>4</th>\n",
       "      <td>119365</td>\n",
       "      <td>Кафе «Вишневая метель»</td>\n",
       "      <td>нет</td>\n",
       "      <td>кафе</td>\n",
       "      <td>город Москва, Абрамцевская улица, дом 9, корпус 1</td>\n",
       "      <td>50</td>\n",
       "      <td>Абрамцевская улица</td>\n",
       "    </tr>\n",
       "    <tr>\n",
       "      <th>5</th>\n",
       "      <td>27429</td>\n",
       "      <td>СТОЛ. ПРИ ГОУ СОШ № 1051</td>\n",
       "      <td>нет</td>\n",
       "      <td>столовая</td>\n",
       "      <td>город Москва, Абрамцевская улица, дом 15, корпус 1</td>\n",
       "      <td>240</td>\n",
       "      <td>Абрамцевская улица</td>\n",
       "    </tr>\n",
       "    <tr>\n",
       "      <th>6</th>\n",
       "      <td>148815</td>\n",
       "      <td>Брусника</td>\n",
       "      <td>да</td>\n",
       "      <td>кафе</td>\n",
       "      <td>город Москва, переулок Сивцев Вражек, дом 6/2</td>\n",
       "      <td>10</td>\n",
       "      <td>переулок Сивцев Вражек</td>\n",
       "    </tr>\n",
       "    <tr>\n",
       "      <th>7</th>\n",
       "      <td>20957</td>\n",
       "      <td>Буфет МТУСИ</td>\n",
       "      <td>нет</td>\n",
       "      <td>столовая</td>\n",
       "      <td>город Москва, Авиамоторная улица, дом 8, строение 1</td>\n",
       "      <td>90</td>\n",
       "      <td>Авиамоторная улица</td>\n",
       "    </tr>\n",
       "    <tr>\n",
       "      <th>8</th>\n",
       "      <td>20958</td>\n",
       "      <td>КПФ СЕМЬЯ-1</td>\n",
       "      <td>нет</td>\n",
       "      <td>столовая</td>\n",
       "      <td>город Москва, Авиамоторная улица, дом 8, строение 1</td>\n",
       "      <td>150</td>\n",
       "      <td>Авиамоторная улица</td>\n",
       "    </tr>\n",
       "    <tr>\n",
       "      <th>9</th>\n",
       "      <td>28858</td>\n",
       "      <td>Столовая МТУСИ</td>\n",
       "      <td>нет</td>\n",
       "      <td>столовая</td>\n",
       "      <td>город Москва, Авиамоторная улица, дом 8, строение 1</td>\n",
       "      <td>120</td>\n",
       "      <td>Авиамоторная улица</td>\n",
       "    </tr>\n",
       "    <tr>\n",
       "      <th>10</th>\n",
       "      <td>148595</td>\n",
       "      <td>Пекарня 24</td>\n",
       "      <td>нет</td>\n",
       "      <td>закусочная</td>\n",
       "      <td>город Москва, Авиамоторная улица, дом 47</td>\n",
       "      <td>5</td>\n",
       "      <td>Авиамоторная улица</td>\n",
       "    </tr>\n",
       "    <tr>\n",
       "      <th>11</th>\n",
       "      <td>23394</td>\n",
       "      <td>Гогиели</td>\n",
       "      <td>нет</td>\n",
       "      <td>кафе</td>\n",
       "      <td>город Москва, Авиамоторная улица, дом 49/1</td>\n",
       "      <td>24</td>\n",
       "      <td>Авиамоторная улица</td>\n",
       "    </tr>\n",
       "    <tr>\n",
       "      <th>12</th>\n",
       "      <td>28582</td>\n",
       "      <td>ШКОЛА 735</td>\n",
       "      <td>нет</td>\n",
       "      <td>столовая</td>\n",
       "      <td>город Москва, Авиамоторная улица, дом 51</td>\n",
       "      <td>140</td>\n",
       "      <td>Авиамоторная улица</td>\n",
       "    </tr>\n",
       "    <tr>\n",
       "      <th>13</th>\n",
       "      <td>22579</td>\n",
       "      <td>Алло Пицца</td>\n",
       "      <td>да</td>\n",
       "      <td>кафе</td>\n",
       "      <td>город Москва, улица Авиаторов, дом 14</td>\n",
       "      <td>32</td>\n",
       "      <td>улица Авиаторов</td>\n",
       "    </tr>\n",
       "    <tr>\n",
       "      <th>14</th>\n",
       "      <td>23670</td>\n",
       "      <td>Гимназия 1542</td>\n",
       "      <td>нет</td>\n",
       "      <td>столовая</td>\n",
       "      <td>город Москва, улица Авиаторов, дом 16</td>\n",
       "      <td>270</td>\n",
       "      <td>улица Авиаторов</td>\n",
       "    </tr>\n",
       "  </tbody>\n",
       "</table>\n",
       "</div>"
      ],
      "text/plain": [
       "        id               object_name chain object_type  \\\n",
       "0   151635                   СМЕТАНА   нет        кафе   \n",
       "1    77874                    Родник   нет        кафе   \n",
       "2    24309           Кафе «Академия»   нет        кафе   \n",
       "3    21894                ПИЦЦЕТОРИЯ    да        кафе   \n",
       "4   119365    Кафе «Вишневая метель»   нет        кафе   \n",
       "5    27429  СТОЛ. ПРИ ГОУ СОШ № 1051   нет    столовая   \n",
       "6   148815                  Брусника    да        кафе   \n",
       "7    20957               Буфет МТУСИ   нет    столовая   \n",
       "8    20958               КПФ СЕМЬЯ-1   нет    столовая   \n",
       "9    28858            Столовая МТУСИ   нет    столовая   \n",
       "10  148595                Пекарня 24   нет  закусочная   \n",
       "11   23394                   Гогиели   нет        кафе   \n",
       "12   28582                 ШКОЛА 735   нет    столовая   \n",
       "13   22579                Алло Пицца    да        кафе   \n",
       "14   23670             Гимназия 1542   нет    столовая   \n",
       "\n",
       "                                                address  number  \\\n",
       "0            город Москва, улица Егора Абакумова, дом 9      48   \n",
       "1     город Москва, улица Талалихина, дом 2/1, корпус 1      35   \n",
       "2             город Москва, Абельмановская улица, дом 6      95   \n",
       "3               город Москва, Абрамцевская улица, дом 1      40   \n",
       "4     город Москва, Абрамцевская улица, дом 9, корпус 1      50   \n",
       "5    город Москва, Абрамцевская улица, дом 15, корпус 1     240   \n",
       "6         город Москва, переулок Сивцев Вражек, дом 6/2      10   \n",
       "7   город Москва, Авиамоторная улица, дом 8, строение 1      90   \n",
       "8   город Москва, Авиамоторная улица, дом 8, строение 1     150   \n",
       "9   город Москва, Авиамоторная улица, дом 8, строение 1     120   \n",
       "10             город Москва, Авиамоторная улица, дом 47       5   \n",
       "11           город Москва, Авиамоторная улица, дом 49/1      24   \n",
       "12             город Москва, Авиамоторная улица, дом 51     140   \n",
       "13                город Москва, улица Авиаторов, дом 14      32   \n",
       "14                город Москва, улица Авиаторов, дом 16     270   \n",
       "\n",
       "                    street  \n",
       "0    улица Егора Абакумова  \n",
       "1         улица Талалихина  \n",
       "2     Абельмановская улица  \n",
       "3       Абрамцевская улица  \n",
       "4       Абрамцевская улица  \n",
       "5       Абрамцевская улица  \n",
       "6   переулок Сивцев Вражек  \n",
       "7       Авиамоторная улица  \n",
       "8       Авиамоторная улица  \n",
       "9       Авиамоторная улица  \n",
       "10      Авиамоторная улица  \n",
       "11      Авиамоторная улица  \n",
       "12      Авиамоторная улица  \n",
       "13         улица Авиаторов  \n",
       "14         улица Авиаторов  "
      ]
     },
     "execution_count": 17,
     "metadata": {},
     "output_type": "execute_result"
    }
   ],
   "source": [
    "rest.head(15)"
   ]
  },
  {
   "cell_type": "markdown",
   "metadata": {},
   "source": [
    "Посмотрим, есть ли значения , которые не были обработаны."
   ]
  },
  {
   "cell_type": "code",
   "execution_count": 18,
   "metadata": {},
   "outputs": [
    {
     "data": {
      "text/html": [
       "<div>\n",
       "<style scoped>\n",
       "    .dataframe tbody tr th:only-of-type {\n",
       "        vertical-align: middle;\n",
       "    }\n",
       "\n",
       "    .dataframe tbody tr th {\n",
       "        vertical-align: top;\n",
       "    }\n",
       "\n",
       "    .dataframe thead th {\n",
       "        text-align: right;\n",
       "    }\n",
       "</style>\n",
       "<table border=\"1\" class=\"dataframe\">\n",
       "  <thead>\n",
       "    <tr style=\"text-align: right;\">\n",
       "      <th></th>\n",
       "      <th>id</th>\n",
       "      <th>object_name</th>\n",
       "      <th>chain</th>\n",
       "      <th>object_type</th>\n",
       "      <th>address</th>\n",
       "      <th>number</th>\n",
       "      <th>street</th>\n",
       "    </tr>\n",
       "  </thead>\n",
       "  <tbody>\n",
       "    <tr>\n",
       "      <th>394</th>\n",
       "      <td>150654</td>\n",
       "      <td>Love</td>\n",
       "      <td>нет</td>\n",
       "      <td>кафе</td>\n",
       "      <td>город Москва, 2-й квартал Капотня, дом 1</td>\n",
       "      <td>40</td>\n",
       "      <td>NaN</td>\n",
       "    </tr>\n",
       "    <tr>\n",
       "      <th>859</th>\n",
       "      <td>23601</td>\n",
       "      <td>Буфет - ГБОУ СОШ № 64</td>\n",
       "      <td>нет</td>\n",
       "      <td>буфет</td>\n",
       "      <td>Партизанская улица, дом 30</td>\n",
       "      <td>100</td>\n",
       "      <td>NaN</td>\n",
       "    </tr>\n",
       "    <tr>\n",
       "      <th>860</th>\n",
       "      <td>23604</td>\n",
       "      <td>Буфет - ГБОУ 60</td>\n",
       "      <td>нет</td>\n",
       "      <td>буфет</td>\n",
       "      <td>Партизанская улица, дом 30</td>\n",
       "      <td>100</td>\n",
       "      <td>NaN</td>\n",
       "    </tr>\n",
       "    <tr>\n",
       "      <th>1405</th>\n",
       "      <td>20199</td>\n",
       "      <td>ЭТО</td>\n",
       "      <td>нет</td>\n",
       "      <td>кафе</td>\n",
       "      <td>город Москва, город Зеленоград, корпус 401</td>\n",
       "      <td>35</td>\n",
       "      <td>NaN</td>\n",
       "    </tr>\n",
       "    <tr>\n",
       "      <th>1406</th>\n",
       "      <td>68113</td>\n",
       "      <td>Френдс</td>\n",
       "      <td>нет</td>\n",
       "      <td>кафе</td>\n",
       "      <td>город Москва, город Зеленоград, корпус 435</td>\n",
       "      <td>34</td>\n",
       "      <td>NaN</td>\n",
       "    </tr>\n",
       "    <tr>\n",
       "      <th>...</th>\n",
       "      <td>...</td>\n",
       "      <td>...</td>\n",
       "      <td>...</td>\n",
       "      <td>...</td>\n",
       "      <td>...</td>\n",
       "      <td>...</td>\n",
       "      <td>...</td>\n",
       "    </tr>\n",
       "    <tr>\n",
       "      <th>14997</th>\n",
       "      <td>216942</td>\n",
       "      <td>Шашлычный дворик</td>\n",
       "      <td>нет</td>\n",
       "      <td>кафе</td>\n",
       "      <td>город Москва, поселение Десеновское, деревня Ватутинки, владение 10</td>\n",
       "      <td>15</td>\n",
       "      <td>NaN</td>\n",
       "    </tr>\n",
       "    <tr>\n",
       "      <th>14998</th>\n",
       "      <td>216926</td>\n",
       "      <td>Кафе «Сахли»</td>\n",
       "      <td>нет</td>\n",
       "      <td>закусочная</td>\n",
       "      <td>город Москва, поселение Десеновское, деревня Ватутинки, владение 15</td>\n",
       "      <td>10</td>\n",
       "      <td>NaN</td>\n",
       "    </tr>\n",
       "    <tr>\n",
       "      <th>15015</th>\n",
       "      <td>208239</td>\n",
       "      <td>ГАЗПРОМНЕФТЬ</td>\n",
       "      <td>нет</td>\n",
       "      <td>кафе</td>\n",
       "      <td>поселение \"Мосрентген\", деревня Дудкино, владение 1</td>\n",
       "      <td>20</td>\n",
       "      <td>NaN</td>\n",
       "    </tr>\n",
       "    <tr>\n",
       "      <th>15184</th>\n",
       "      <td>220587</td>\n",
       "      <td>Пицца Паоло</td>\n",
       "      <td>да</td>\n",
       "      <td>кафетерий</td>\n",
       "      <td>город Москва, город Зеленоград, корпус 1627</td>\n",
       "      <td>0</td>\n",
       "      <td>NaN</td>\n",
       "    </tr>\n",
       "    <tr>\n",
       "      <th>15274</th>\n",
       "      <td>211230</td>\n",
       "      <td>Предприятие быстрого обслуживания «Милти»</td>\n",
       "      <td>да</td>\n",
       "      <td>предприятие быстрого обслуживания</td>\n",
       "      <td>город Москва, микрорайон Северное Чертаново, дом 1А</td>\n",
       "      <td>0</td>\n",
       "      <td>NaN</td>\n",
       "    </tr>\n",
       "  </tbody>\n",
       "</table>\n",
       "<p>459 rows × 7 columns</p>\n",
       "</div>"
      ],
      "text/plain": [
       "           id                                object_name chain  \\\n",
       "394    150654                                       Love   нет   \n",
       "859     23601                      Буфет - ГБОУ СОШ № 64   нет   \n",
       "860     23604                            Буфет - ГБОУ 60   нет   \n",
       "1405    20199                                        ЭТО   нет   \n",
       "1406    68113                                     Френдс   нет   \n",
       "...       ...                                        ...   ...   \n",
       "14997  216942                           Шашлычный дворик   нет   \n",
       "14998  216926                               Кафе «Сахли»   нет   \n",
       "15015  208239                               ГАЗПРОМНЕФТЬ   нет   \n",
       "15184  220587                                Пицца Паоло    да   \n",
       "15274  211230  Предприятие быстрого обслуживания «Милти»    да   \n",
       "\n",
       "                             object_type  \\\n",
       "394                                 кафе   \n",
       "859                                буфет   \n",
       "860                                буфет   \n",
       "1405                                кафе   \n",
       "1406                                кафе   \n",
       "...                                  ...   \n",
       "14997                               кафе   \n",
       "14998                         закусочная   \n",
       "15015                               кафе   \n",
       "15184                          кафетерий   \n",
       "15274  предприятие быстрого обслуживания   \n",
       "\n",
       "                                                                   address  \\\n",
       "394                               город Москва, 2-й квартал Капотня, дом 1   \n",
       "859                                             Партизанская улица, дом 30   \n",
       "860                                             Партизанская улица, дом 30   \n",
       "1405                            город Москва, город Зеленоград, корпус 401   \n",
       "1406                            город Москва, город Зеленоград, корпус 435   \n",
       "...                                                                    ...   \n",
       "14997  город Москва, поселение Десеновское, деревня Ватутинки, владение 10   \n",
       "14998  город Москва, поселение Десеновское, деревня Ватутинки, владение 15   \n",
       "15015                  поселение \"Мосрентген\", деревня Дудкино, владение 1   \n",
       "15184                          город Москва, город Зеленоград, корпус 1627   \n",
       "15274                  город Москва, микрорайон Северное Чертаново, дом 1А   \n",
       "\n",
       "       number street  \n",
       "394        40    NaN  \n",
       "859       100    NaN  \n",
       "860       100    NaN  \n",
       "1405       35    NaN  \n",
       "1406       34    NaN  \n",
       "...       ...    ...  \n",
       "14997      15    NaN  \n",
       "14998      10    NaN  \n",
       "15015      20    NaN  \n",
       "15184       0    NaN  \n",
       "15274       0    NaN  \n",
       "\n",
       "[459 rows x 7 columns]"
      ]
     },
     "execution_count": 18,
     "metadata": {},
     "output_type": "execute_result"
    }
   ],
   "source": [
    "rest[rest['street'].isna()]"
   ]
  },
  {
   "cell_type": "markdown",
   "metadata": {},
   "source": [
    "Видим, что строки, где появились NaN в стобце в улицей, это города, деревни и поселения у которых в адресе улица не указана в принципе. Также где-то не указан город. Вероятно, это всё же Москва, но 100% уверенности нет.\n",
    "\n",
    "Если мы заменим все NaN на какое-либо значение (например, \"нет информации\"), то при дальнейшей группировке по названию улиц таких значений будет достаточно много. Т.к. для дальнейших расчетов данные строки нам не понадобятся, думаю, их следует удалить."
   ]
  },
  {
   "cell_type": "code",
   "execution_count": 19,
   "metadata": {},
   "outputs": [],
   "source": [
    "rest['street'] = rest['street'].dropna()"
   ]
  },
  {
   "cell_type": "markdown",
   "metadata": {},
   "source": [
    "### Вывод"
   ]
  },
  {
   "cell_type": "markdown",
   "metadata": {},
   "source": [
    "В полученных данных:\n",
    "1. отсутствуют пропуски\n",
    "2. отсутствуют явные дубликаты\n",
    "3. отсутствуют нарушения стиля\n",
    "4. добавлен столбец с улицами\n",
    "5. удалены строки без улиц либо без города\n",
    "\n",
    "Можем работать с данными"
   ]
  },
  {
   "cell_type": "code",
   "execution_count": 20,
   "metadata": {},
   "outputs": [
    {
     "data": {
      "text/html": [
       "<div>\n",
       "<style scoped>\n",
       "    .dataframe tbody tr th:only-of-type {\n",
       "        vertical-align: middle;\n",
       "    }\n",
       "\n",
       "    .dataframe tbody tr th {\n",
       "        vertical-align: top;\n",
       "    }\n",
       "\n",
       "    .dataframe thead th {\n",
       "        text-align: right;\n",
       "    }\n",
       "</style>\n",
       "<table border=\"1\" class=\"dataframe\">\n",
       "  <thead>\n",
       "    <tr style=\"text-align: right;\">\n",
       "      <th></th>\n",
       "      <th>id</th>\n",
       "      <th>object_name</th>\n",
       "      <th>chain</th>\n",
       "      <th>object_type</th>\n",
       "      <th>address</th>\n",
       "      <th>number</th>\n",
       "      <th>street</th>\n",
       "    </tr>\n",
       "  </thead>\n",
       "  <tbody>\n",
       "    <tr>\n",
       "      <th>2381</th>\n",
       "      <td>28611</td>\n",
       "      <td>КОМБИНАТ ПИТАНИЯ МГТУ ИМ.Н.Э.БАУМАНА</td>\n",
       "      <td>нет</td>\n",
       "      <td>столовая</td>\n",
       "      <td>город Москва, 2-я Бауманская улица, дом 5, строение 1</td>\n",
       "      <td>100</td>\n",
       "      <td>2-я Бауманская улица</td>\n",
       "    </tr>\n",
       "    <tr>\n",
       "      <th>3481</th>\n",
       "      <td>20914</td>\n",
       "      <td>Буфет Мади</td>\n",
       "      <td>нет</td>\n",
       "      <td>буфет</td>\n",
       "      <td>город Москва, Ленинградский проспект, дом 64</td>\n",
       "      <td>40</td>\n",
       "      <td>Ленинградский проспект</td>\n",
       "    </tr>\n",
       "    <tr>\n",
       "      <th>4431</th>\n",
       "      <td>23759</td>\n",
       "      <td>СТОЛОВАЯ ГБОУ города Москвы № 384</td>\n",
       "      <td>нет</td>\n",
       "      <td>буфет</td>\n",
       "      <td>город Москва, Беловежская улица, дом 67</td>\n",
       "      <td>100</td>\n",
       "      <td>Беловежская улица</td>\n",
       "    </tr>\n",
       "    <tr>\n",
       "      <th>4537</th>\n",
       "      <td>23391</td>\n",
       "      <td>Столовая «Комбинат питания КОСМОС»</td>\n",
       "      <td>нет</td>\n",
       "      <td>столовая</td>\n",
       "      <td>город Москва, Новозаводская улица, дом 12/11</td>\n",
       "      <td>15</td>\n",
       "      <td>Новозаводская улица</td>\n",
       "    </tr>\n",
       "    <tr>\n",
       "      <th>5059</th>\n",
       "      <td>20021</td>\n",
       "      <td>LIFT</td>\n",
       "      <td>нет</td>\n",
       "      <td>кафе</td>\n",
       "      <td>город Москва, Багратионовский проезд, дом 7, корпус 1</td>\n",
       "      <td>20</td>\n",
       "      <td>Багратионовский проезд</td>\n",
       "    </tr>\n",
       "    <tr>\n",
       "      <th>...</th>\n",
       "      <td>...</td>\n",
       "      <td>...</td>\n",
       "      <td>...</td>\n",
       "      <td>...</td>\n",
       "      <td>...</td>\n",
       "      <td>...</td>\n",
       "      <td>...</td>\n",
       "    </tr>\n",
       "    <tr>\n",
       "      <th>14578</th>\n",
       "      <td>222932</td>\n",
       "      <td>Старый Баку</td>\n",
       "      <td>нет</td>\n",
       "      <td>кафе</td>\n",
       "      <td>город Москва, Кировоградская улица, владение 15А</td>\n",
       "      <td>120</td>\n",
       "      <td>Кировоградская улица</td>\n",
       "    </tr>\n",
       "    <tr>\n",
       "      <th>14596</th>\n",
       "      <td>204947</td>\n",
       "      <td>Буфет при кинотеатре</td>\n",
       "      <td>нет</td>\n",
       "      <td>буфет</td>\n",
       "      <td>город Москва, Ореховый бульвар, дом 22А</td>\n",
       "      <td>0</td>\n",
       "      <td>Ореховый бульвар</td>\n",
       "    </tr>\n",
       "    <tr>\n",
       "      <th>14844</th>\n",
       "      <td>219518</td>\n",
       "      <td>Sushi-Make</td>\n",
       "      <td>нет</td>\n",
       "      <td>предприятие быстрого обслуживания</td>\n",
       "      <td>город Москва, Ярцевская улица, дом 19</td>\n",
       "      <td>0</td>\n",
       "      <td>Ярцевская улица</td>\n",
       "    </tr>\n",
       "    <tr>\n",
       "      <th>15173</th>\n",
       "      <td>218542</td>\n",
       "      <td>Кофе с собой</td>\n",
       "      <td>да</td>\n",
       "      <td>предприятие быстрого обслуживания</td>\n",
       "      <td>город Москва, Алтуфьевское шоссе, дом 70, корпус 1</td>\n",
       "      <td>0</td>\n",
       "      <td>Алтуфьевское шоссе</td>\n",
       "    </tr>\n",
       "    <tr>\n",
       "      <th>15217</th>\n",
       "      <td>214146</td>\n",
       "      <td>Макдоналдс</td>\n",
       "      <td>да</td>\n",
       "      <td>предприятие быстрого обслуживания</td>\n",
       "      <td>город Москва, Кировоградская улица, дом 13А</td>\n",
       "      <td>0</td>\n",
       "      <td>Кировоградская улица</td>\n",
       "    </tr>\n",
       "  </tbody>\n",
       "</table>\n",
       "<p>82 rows × 7 columns</p>\n",
       "</div>"
      ],
      "text/plain": [
       "           id                           object_name chain  \\\n",
       "2381    28611  КОМБИНАТ ПИТАНИЯ МГТУ ИМ.Н.Э.БАУМАНА   нет   \n",
       "3481    20914                            Буфет Мади   нет   \n",
       "4431    23759     СТОЛОВАЯ ГБОУ города Москвы № 384   нет   \n",
       "4537    23391    Столовая «Комбинат питания КОСМОС»   нет   \n",
       "5059    20021                                  LIFT   нет   \n",
       "...       ...                                   ...   ...   \n",
       "14578  222932                           Старый Баку   нет   \n",
       "14596  204947                  Буфет при кинотеатре   нет   \n",
       "14844  219518                            Sushi-Make   нет   \n",
       "15173  218542                          Кофе с собой    да   \n",
       "15217  214146                            Макдоналдс    да   \n",
       "\n",
       "                             object_type  \\\n",
       "2381                            столовая   \n",
       "3481                               буфет   \n",
       "4431                               буфет   \n",
       "4537                            столовая   \n",
       "5059                                кафе   \n",
       "...                                  ...   \n",
       "14578                               кафе   \n",
       "14596                              буфет   \n",
       "14844  предприятие быстрого обслуживания   \n",
       "15173  предприятие быстрого обслуживания   \n",
       "15217  предприятие быстрого обслуживания   \n",
       "\n",
       "                                                     address  number  \\\n",
       "2381   город Москва, 2-я Бауманская улица, дом 5, строение 1     100   \n",
       "3481            город Москва, Ленинградский проспект, дом 64      40   \n",
       "4431                 город Москва, Беловежская улица, дом 67     100   \n",
       "4537            город Москва, Новозаводская улица, дом 12/11      15   \n",
       "5059   город Москва, Багратионовский проезд, дом 7, корпус 1      20   \n",
       "...                                                      ...     ...   \n",
       "14578       город Москва, Кировоградская улица, владение 15А     120   \n",
       "14596                город Москва, Ореховый бульвар, дом 22А       0   \n",
       "14844                  город Москва, Ярцевская улица, дом 19       0   \n",
       "15173     город Москва, Алтуфьевское шоссе, дом 70, корпус 1       0   \n",
       "15217            город Москва, Кировоградская улица, дом 13А       0   \n",
       "\n",
       "                       street  \n",
       "2381     2-я Бауманская улица  \n",
       "3481   Ленинградский проспект  \n",
       "4431        Беловежская улица  \n",
       "4537      Новозаводская улица  \n",
       "5059   Багратионовский проезд  \n",
       "...                       ...  \n",
       "14578    Кировоградская улица  \n",
       "14596        Ореховый бульвар  \n",
       "14844         Ярцевская улица  \n",
       "15173      Алтуфьевское шоссе  \n",
       "15217    Кировоградская улица  \n",
       "\n",
       "[82 rows x 7 columns]"
      ]
     },
     "execution_count": 20,
     "metadata": {},
     "output_type": "execute_result"
    }
   ],
   "source": [
    "rest[rest.loc[:, rest.columns != 'id'].duplicated()]"
   ]
  },
  {
   "cell_type": "code",
   "execution_count": 21,
   "metadata": {},
   "outputs": [
    {
     "data": {
      "text/html": [
       "<div>\n",
       "<style scoped>\n",
       "    .dataframe tbody tr th:only-of-type {\n",
       "        vertical-align: middle;\n",
       "    }\n",
       "\n",
       "    .dataframe tbody tr th {\n",
       "        vertical-align: top;\n",
       "    }\n",
       "\n",
       "    .dataframe thead th {\n",
       "        text-align: right;\n",
       "    }\n",
       "</style>\n",
       "<table border=\"1\" class=\"dataframe\">\n",
       "  <thead>\n",
       "    <tr style=\"text-align: right;\">\n",
       "      <th></th>\n",
       "      <th>id</th>\n",
       "      <th>object_name</th>\n",
       "      <th>chain</th>\n",
       "      <th>object_type</th>\n",
       "      <th>address</th>\n",
       "      <th>number</th>\n",
       "      <th>street</th>\n",
       "    </tr>\n",
       "  </thead>\n",
       "  <tbody>\n",
       "    <tr>\n",
       "      <th>3480</th>\n",
       "      <td>20913</td>\n",
       "      <td>Буфет Мади</td>\n",
       "      <td>нет</td>\n",
       "      <td>буфет</td>\n",
       "      <td>город Москва, Ленинградский проспект, дом 64</td>\n",
       "      <td>40</td>\n",
       "      <td>Ленинградский проспект</td>\n",
       "    </tr>\n",
       "    <tr>\n",
       "      <th>3481</th>\n",
       "      <td>20914</td>\n",
       "      <td>Буфет Мади</td>\n",
       "      <td>нет</td>\n",
       "      <td>буфет</td>\n",
       "      <td>город Москва, Ленинградский проспект, дом 64</td>\n",
       "      <td>40</td>\n",
       "      <td>Ленинградский проспект</td>\n",
       "    </tr>\n",
       "  </tbody>\n",
       "</table>\n",
       "</div>"
      ],
      "text/plain": [
       "         id object_name chain object_type  \\\n",
       "3480  20913  Буфет Мади   нет       буфет   \n",
       "3481  20914  Буфет Мади   нет       буфет   \n",
       "\n",
       "                                           address  number  \\\n",
       "3480  город Москва, Ленинградский проспект, дом 64      40   \n",
       "3481  город Москва, Ленинградский проспект, дом 64      40   \n",
       "\n",
       "                      street  \n",
       "3480  Ленинградский проспект  \n",
       "3481  Ленинградский проспект  "
      ]
     },
     "execution_count": 21,
     "metadata": {},
     "output_type": "execute_result"
    }
   ],
   "source": [
    "rest.query('object_name == \"Буфет Мади\"')"
   ]
  },
  {
   "cell_type": "code",
   "execution_count": 22,
   "metadata": {
    "scrolled": true
   },
   "outputs": [
    {
     "data": {
      "text/html": [
       "<div>\n",
       "<style scoped>\n",
       "    .dataframe tbody tr th:only-of-type {\n",
       "        vertical-align: middle;\n",
       "    }\n",
       "\n",
       "    .dataframe tbody tr th {\n",
       "        vertical-align: top;\n",
       "    }\n",
       "\n",
       "    .dataframe thead th {\n",
       "        text-align: right;\n",
       "    }\n",
       "</style>\n",
       "<table border=\"1\" class=\"dataframe\">\n",
       "  <thead>\n",
       "    <tr style=\"text-align: right;\">\n",
       "      <th></th>\n",
       "      <th>id</th>\n",
       "      <th>object_name</th>\n",
       "      <th>chain</th>\n",
       "      <th>object_type</th>\n",
       "      <th>address</th>\n",
       "      <th>number</th>\n",
       "      <th>street</th>\n",
       "    </tr>\n",
       "  </thead>\n",
       "  <tbody>\n",
       "    <tr>\n",
       "      <th>9750</th>\n",
       "      <td>169761</td>\n",
       "      <td>Старый Баку</td>\n",
       "      <td>нет</td>\n",
       "      <td>ресторан</td>\n",
       "      <td>город Москва, Грайвороновская улица, дом 12, корпус 1</td>\n",
       "      <td>92</td>\n",
       "      <td>Грайвороновская улица</td>\n",
       "    </tr>\n",
       "    <tr>\n",
       "      <th>14577</th>\n",
       "      <td>222885</td>\n",
       "      <td>Старый Баку</td>\n",
       "      <td>нет</td>\n",
       "      <td>кафе</td>\n",
       "      <td>город Москва, Кировоградская улица, владение 15А</td>\n",
       "      <td>120</td>\n",
       "      <td>Кировоградская улица</td>\n",
       "    </tr>\n",
       "    <tr>\n",
       "      <th>14578</th>\n",
       "      <td>222932</td>\n",
       "      <td>Старый Баку</td>\n",
       "      <td>нет</td>\n",
       "      <td>кафе</td>\n",
       "      <td>город Москва, Кировоградская улица, владение 15А</td>\n",
       "      <td>120</td>\n",
       "      <td>Кировоградская улица</td>\n",
       "    </tr>\n",
       "  </tbody>\n",
       "</table>\n",
       "</div>"
      ],
      "text/plain": [
       "           id  object_name chain object_type  \\\n",
       "9750   169761  Старый Баку   нет    ресторан   \n",
       "14577  222885  Старый Баку   нет        кафе   \n",
       "14578  222932  Старый Баку   нет        кафе   \n",
       "\n",
       "                                                     address  number  \\\n",
       "9750   город Москва, Грайвороновская улица, дом 12, корпус 1      92   \n",
       "14577       город Москва, Кировоградская улица, владение 15А     120   \n",
       "14578       город Москва, Кировоградская улица, владение 15А     120   \n",
       "\n",
       "                      street  \n",
       "9750   Грайвороновская улица  \n",
       "14577   Кировоградская улица  \n",
       "14578   Кировоградская улица  "
      ]
     },
     "execution_count": 22,
     "metadata": {},
     "output_type": "execute_result"
    }
   ],
   "source": [
    "rest.query('object_name == \"Старый Баку\"')"
   ]
  },
  {
   "cell_type": "code",
   "execution_count": 23,
   "metadata": {},
   "outputs": [
    {
     "data": {
      "text/plain": [
       "Index(['id', 'object_name', 'chain', 'object_type', 'address', 'number',\n",
       "       'street'],\n",
       "      dtype='object')"
      ]
     },
     "execution_count": 23,
     "metadata": {},
     "output_type": "execute_result"
    }
   ],
   "source": [
    "rest.columns"
   ]
  },
  {
   "cell_type": "markdown",
   "metadata": {},
   "source": [
    "Действительно, если не включать в выборку столбец `id`, то в таблице обнаруживаются дубликаты. Удалим их"
   ]
  },
  {
   "cell_type": "code",
   "execution_count": 24,
   "metadata": {},
   "outputs": [],
   "source": [
    "rest = rest.drop_duplicates(subset= ['object_name', 'chain', 'object_type', 'address', 'number','street'])"
   ]
  },
  {
   "cell_type": "markdown",
   "metadata": {},
   "source": [
    "## Анализ данных"
   ]
  },
  {
   "cell_type": "markdown",
   "metadata": {},
   "source": [
    "### Соотношение видов объектов общественного питания по количеству"
   ]
  },
  {
   "cell_type": "markdown",
   "metadata": {},
   "source": [
    "Посмотрим количество заведений каждого типа и для наглядности построим диаграмму"
   ]
  },
  {
   "cell_type": "code",
   "execution_count": 25,
   "metadata": {},
   "outputs": [],
   "source": [
    "type_number = rest['object_type'].value_counts().reset_index()\n",
    "type_number.columns = ['object', 'count']"
   ]
  },
  {
   "cell_type": "code",
   "execution_count": 26,
   "metadata": {},
   "outputs": [
    {
     "data": {
      "text/html": [
       "<div>\n",
       "<style scoped>\n",
       "    .dataframe tbody tr th:only-of-type {\n",
       "        vertical-align: middle;\n",
       "    }\n",
       "\n",
       "    .dataframe tbody tr th {\n",
       "        vertical-align: top;\n",
       "    }\n",
       "\n",
       "    .dataframe thead th {\n",
       "        text-align: right;\n",
       "    }\n",
       "</style>\n",
       "<table border=\"1\" class=\"dataframe\">\n",
       "  <thead>\n",
       "    <tr style=\"text-align: right;\">\n",
       "      <th></th>\n",
       "      <th>object</th>\n",
       "      <th>count</th>\n",
       "    </tr>\n",
       "  </thead>\n",
       "  <tbody>\n",
       "    <tr>\n",
       "      <th>0</th>\n",
       "      <td>кафе</td>\n",
       "      <td>6071</td>\n",
       "    </tr>\n",
       "    <tr>\n",
       "      <th>1</th>\n",
       "      <td>столовая</td>\n",
       "      <td>2584</td>\n",
       "    </tr>\n",
       "    <tr>\n",
       "      <th>2</th>\n",
       "      <td>ресторан</td>\n",
       "      <td>2282</td>\n",
       "    </tr>\n",
       "    <tr>\n",
       "      <th>3</th>\n",
       "      <td>предприятие быстрого обслуживания</td>\n",
       "      <td>1898</td>\n",
       "    </tr>\n",
       "    <tr>\n",
       "      <th>4</th>\n",
       "      <td>бар</td>\n",
       "      <td>855</td>\n",
       "    </tr>\n",
       "    <tr>\n",
       "      <th>5</th>\n",
       "      <td>буфет</td>\n",
       "      <td>577</td>\n",
       "    </tr>\n",
       "    <tr>\n",
       "      <th>6</th>\n",
       "      <td>кафетерий</td>\n",
       "      <td>395</td>\n",
       "    </tr>\n",
       "    <tr>\n",
       "      <th>7</th>\n",
       "      <td>закусочная</td>\n",
       "      <td>349</td>\n",
       "    </tr>\n",
       "    <tr>\n",
       "      <th>8</th>\n",
       "      <td>магазин (отдел кулинарии)</td>\n",
       "      <td>273</td>\n",
       "    </tr>\n",
       "  </tbody>\n",
       "</table>\n",
       "</div>"
      ],
      "text/plain": [
       "                              object  count\n",
       "0                               кафе   6071\n",
       "1                           столовая   2584\n",
       "2                           ресторан   2282\n",
       "3  предприятие быстрого обслуживания   1898\n",
       "4                                бар    855\n",
       "5                              буфет    577\n",
       "6                          кафетерий    395\n",
       "7                         закусочная    349\n",
       "8          магазин (отдел кулинарии)    273"
      ]
     },
     "execution_count": 26,
     "metadata": {},
     "output_type": "execute_result"
    }
   ],
   "source": [
    "type_number"
   ]
  },
  {
   "cell_type": "code",
   "execution_count": 27,
   "metadata": {},
   "outputs": [
    {
     "data": {
      "image/png": "[encoded data removed]"
     },
     "metadata": {},
     "output_type": "display_data"
    }
   ],
   "source": [
    "fig = px.bar(\n",
    "    type_number, \n",
    "    x='object', \n",
    "    y='count', \n",
    "    title='Соотношение видов объектов общественного питания по количеству')\n",
    "fig.update_layout(\n",
    "    autosize=False,\n",
    "    width=1000,\n",
    "    height=550, \n",
    "    yaxis_title='Количество объектов, шт', \n",
    "    xaxis_title=None)\n",
    "fig.show() "
   ]
  },
  {
   "cell_type": "markdown",
   "metadata": {},
   "source": [
    "#### Выводы"
   ]
  },
  {
   "cell_type": "markdown",
   "metadata": {},
   "source": [
    "Видим, что больше всего в городе представлено заведений с типом \"кафе\" - 6 тысяч. заведений.\n",
    "\n",
    "Далее идут столовые, рестораны и предприятия быстрого обслуживания. У них примерно одинаковые количества.\n",
    "\n",
    "Остальные заведения менее распространены"
   ]
  },
  {
   "cell_type": "markdown",
   "metadata": {},
   "source": [
    "### Для какого вида объекта общественного питания характерно сетевое распространение?"
   ]
  },
  {
   "cell_type": "markdown",
   "metadata": {},
   "source": [
    "Рассмотрим, какая доля сетевых и несетевых заведений представлена в городе. "
   ]
  },
  {
   "cell_type": "code",
   "execution_count": 28,
   "metadata": {},
   "outputs": [],
   "source": [
    "chain = rest['chain'].value_counts().reset_index()\n",
    "chain.columns = ['type', 'count']"
   ]
  },
  {
   "cell_type": "code",
   "execution_count": 29,
   "metadata": {
    "scrolled": false
   },
   "outputs": [
    {
     "data": {
      "image/png": "[encoded data removed]"
     },
     "metadata": {},
     "output_type": "display_data"
    }
   ],
   "source": [
    "fig = go.Figure(\n",
    "    data=[go.Pie(labels=chain['type'], values=chain['count'])],\n",
    "    layout_title_text=\"Соотношение сетевых и несетевых заведений в г. Москва\")\n",
    "fig.update_layout(width=900,height=500)\n",
    "fig.show()"
   ]
  },
  {
   "cell_type": "markdown",
   "metadata": {},
   "source": [
    "Только 20% заведений в городе сетевые. Посмотрим теперь, какие заведения преобладают в каждой группе"
   ]
  },
  {
   "cell_type": "code",
   "execution_count": 30,
   "metadata": {},
   "outputs": [],
   "source": [
    "type_number_chain = rest.query('chain == \"да\"')['object_type'].value_counts().reset_index()\n",
    "type_number_chain.columns = ['object', 'count']"
   ]
  },
  {
   "cell_type": "code",
   "execution_count": 31,
   "metadata": {},
   "outputs": [
    {
     "data": {
      "image/png": "[encoded data removed]"
     },
     "metadata": {},
     "output_type": "display_data"
    }
   ],
   "source": [
    "fig = px.bar(type_number_chain, \n",
    "            x='object', \n",
    "            y='count', \n",
    "            title='Количество сетевых заведений общественного питания в г. Москва по типу объекта')\n",
    "fig.update_layout(autosize=False,width=1000,height=550, yaxis_title='Количество объектов, шт', xaxis_title=None)\n",
    "fig.show() "
   ]
  },
  {
   "cell_type": "markdown",
   "metadata": {},
   "source": [
    "В сетевых заведениях больше всего кафе, предприятий быстрого обслуживания и ресторанов. Ничего удивительного т.к. KFC, Макдоналдс и Бургер кинг есть практически в любом торговом центре и у любой станции метро. Доля других заведений крайне мала по сравнению с первыми тремя позициям"
   ]
  },
  {
   "cell_type": "code",
   "execution_count": 32,
   "metadata": {},
   "outputs": [
    {
     "data": {
      "image/png": "[encoded data removed]"
     },
     "metadata": {},
     "output_type": "display_data"
    }
   ],
   "source": [
    "type_number_non_chain = rest.query('chain == \"нет\"')['object_type'].value_counts().reset_index()\n",
    "type_number_non_chain.columns = ['object', 'count']\n",
    "\n",
    "fig = px.bar(type_number_non_chain, \n",
    "            x='object', \n",
    "            y='count', \n",
    "            title='Количество несетевых заведений общественного питания в г. Москва по типу объекта')\n",
    "fig.update_layout(autosize=False,width=1000,height=550, yaxis_title='Количество объектов, шт', xaxis_title=None)\n",
    "fig.show() "
   ]
  },
  {
   "cell_type": "markdown",
   "metadata": {},
   "source": [
    "Среди несетевых заведений с большим отрывом также преобладют кафе. Единственное отличие в топ-3 категорий - это наличие большого количества столовых. Вероятно, это связано с тем, что на многих предприятиях, заводах или в учебных заведений есть собственная столовая."
   ]
  },
  {
   "cell_type": "markdown",
   "metadata": {},
   "source": [
    "#### Выводы\n",
    "Сетевое распространение характерно для кафе"
   ]
  },
  {
   "cell_type": "markdown",
   "metadata": {},
   "source": [
    "### Что характерно для сетевых заведений: много заведений с небольшим числом посадочных мест в каждом или мало заведений с большим количеством посадочных мест?"
   ]
  },
  {
   "cell_type": "markdown",
   "metadata": {},
   "source": [
    "Для ответа на этот вопрос для каждого вида заведений определим общее количество заведений и среднее количество посадочных мест"
   ]
  },
  {
   "cell_type": "code",
   "execution_count": 33,
   "metadata": {},
   "outputs": [],
   "source": [
    "chain_rest_type = (rest.query('chain == \"да\"').pivot_table(\n",
    "    index='object_type', \n",
    "    values=['number' , 'object_name'], \n",
    "    aggfunc={'number' : 'mean', 'object_name' : 'count'}).reset_index()\n",
    "             )\n",
    "chain_rest_type.columns = ['type', 'avg_seat', 'count']"
   ]
  },
  {
   "cell_type": "code",
   "execution_count": 34,
   "metadata": {},
   "outputs": [
    {
     "data": {
      "text/html": [
       "<div>\n",
       "<style scoped>\n",
       "    .dataframe tbody tr th:only-of-type {\n",
       "        vertical-align: middle;\n",
       "    }\n",
       "\n",
       "    .dataframe tbody tr th {\n",
       "        vertical-align: top;\n",
       "    }\n",
       "\n",
       "    .dataframe thead th {\n",
       "        text-align: right;\n",
       "    }\n",
       "</style>\n",
       "<table border=\"1\" class=\"dataframe\">\n",
       "  <thead>\n",
       "    <tr style=\"text-align: right;\">\n",
       "      <th></th>\n",
       "      <th>type</th>\n",
       "      <th>avg_seat</th>\n",
       "      <th>count</th>\n",
       "    </tr>\n",
       "  </thead>\n",
       "  <tbody>\n",
       "    <tr>\n",
       "      <th>3</th>\n",
       "      <td>кафе</td>\n",
       "      <td>47.426934</td>\n",
       "      <td>1396</td>\n",
       "    </tr>\n",
       "    <tr>\n",
       "      <th>6</th>\n",
       "      <td>предприятие быстрого обслуживания</td>\n",
       "      <td>40.319797</td>\n",
       "      <td>788</td>\n",
       "    </tr>\n",
       "    <tr>\n",
       "      <th>7</th>\n",
       "      <td>ресторан</td>\n",
       "      <td>100.362799</td>\n",
       "      <td>543</td>\n",
       "    </tr>\n",
       "    <tr>\n",
       "      <th>5</th>\n",
       "      <td>магазин (отдел кулинарии)</td>\n",
       "      <td>8.679487</td>\n",
       "      <td>78</td>\n",
       "    </tr>\n",
       "    <tr>\n",
       "      <th>2</th>\n",
       "      <td>закусочная</td>\n",
       "      <td>14.375000</td>\n",
       "      <td>56</td>\n",
       "    </tr>\n",
       "    <tr>\n",
       "      <th>4</th>\n",
       "      <td>кафетерий</td>\n",
       "      <td>12.269231</td>\n",
       "      <td>52</td>\n",
       "    </tr>\n",
       "    <tr>\n",
       "      <th>0</th>\n",
       "      <td>бар</td>\n",
       "      <td>53.027027</td>\n",
       "      <td>37</td>\n",
       "    </tr>\n",
       "    <tr>\n",
       "      <th>1</th>\n",
       "      <td>буфет</td>\n",
       "      <td>12.727273</td>\n",
       "      <td>11</td>\n",
       "    </tr>\n",
       "    <tr>\n",
       "      <th>8</th>\n",
       "      <td>столовая</td>\n",
       "      <td>112.333333</td>\n",
       "      <td>3</td>\n",
       "    </tr>\n",
       "  </tbody>\n",
       "</table>\n",
       "</div>"
      ],
      "text/plain": [
       "                                type    avg_seat  count\n",
       "3                               кафе   47.426934   1396\n",
       "6  предприятие быстрого обслуживания   40.319797    788\n",
       "7                           ресторан  100.362799    543\n",
       "5          магазин (отдел кулинарии)    8.679487     78\n",
       "2                         закусочная   14.375000     56\n",
       "4                          кафетерий   12.269231     52\n",
       "0                                бар   53.027027     37\n",
       "1                              буфет   12.727273     11\n",
       "8                           столовая  112.333333      3"
      ]
     },
     "execution_count": 34,
     "metadata": {},
     "output_type": "execute_result"
    }
   ],
   "source": [
    "chain_rest_type.sort_values('count', ascending=False)"
   ]
  },
  {
   "cell_type": "code",
   "execution_count": 35,
   "metadata": {},
   "outputs": [
    {
     "data": {
      "image/png": "[encoded data removed]"
     },
     "metadata": {},
     "output_type": "display_data"
    }
   ],
   "source": [
    "fig = px.scatter(chain_rest_type, \n",
    "                 x='avg_seat' , \n",
    "                 y='count', \n",
    "                 color='type', \n",
    "                 size='avg_seat', \n",
    "                 title = 'Взаимосвязь количества заведений и среднего количества посадочных мест (по типу заведения)')\n",
    "fig.update_layout(autosize=False,\n",
    "                  width=1000,\n",
    "                  height=550, \n",
    "                  yaxis_title='Количество заведений, шт', \n",
    "                  xaxis_title='Cреднее число посадочных мест, шт')\n",
    "fig.show()"
   ]
  },
  {
   "cell_type": "markdown",
   "metadata": {},
   "source": [
    "Видим, что больше всего заведений с 40-50 посадочными местами. Это кафе и предприятия быстрого обслуживания.\n",
    "В кафетериях, закусочных , буфетах и кулинариях  мало и посадочных мест, и самих заведений."
   ]
  },
  {
   "cell_type": "markdown",
   "metadata": {},
   "source": [
    "Повторим вычисления теперь уже для каждого объекта"
   ]
  },
  {
   "cell_type": "code",
   "execution_count": 36,
   "metadata": {},
   "outputs": [],
   "source": [
    "chain_rest_name = (rest.query('chain == \"да\"').pivot_table(\n",
    "    index='object_name', \n",
    "    values=['number', 'object_type'], \n",
    "    aggfunc={'number': 'mean','object_type' : ['count','first'] }).reset_index()\n",
    "             )\n",
    "chain_rest_name.columns = ['name', 'avg_seat', 'count', 'type']"
   ]
  },
  {
   "cell_type": "code",
   "execution_count": 37,
   "metadata": {},
   "outputs": [],
   "source": [
    "chain_top_10 = chain_rest_name.sort_values('count',ascending=False).head(10)"
   ]
  },
  {
   "cell_type": "code",
   "execution_count": 38,
   "metadata": {},
   "outputs": [
    {
     "data": {
      "text/html": [
       "<div>\n",
       "<style scoped>\n",
       "    .dataframe tbody tr th:only-of-type {\n",
       "        vertical-align: middle;\n",
       "    }\n",
       "\n",
       "    .dataframe tbody tr th {\n",
       "        vertical-align: top;\n",
       "    }\n",
       "\n",
       "    .dataframe thead th {\n",
       "        text-align: right;\n",
       "    }\n",
       "</style>\n",
       "<table border=\"1\" class=\"dataframe\">\n",
       "  <thead>\n",
       "    <tr style=\"text-align: right;\">\n",
       "      <th></th>\n",
       "      <th>name</th>\n",
       "      <th>avg_seat</th>\n",
       "      <th>count</th>\n",
       "      <th>type</th>\n",
       "    </tr>\n",
       "  </thead>\n",
       "  <tbody>\n",
       "    <tr>\n",
       "      <th>30</th>\n",
       "      <td>KFC</td>\n",
       "      <td>55.341935</td>\n",
       "      <td>155</td>\n",
       "      <td>ресторан</td>\n",
       "    </tr>\n",
       "    <tr>\n",
       "      <th>702</th>\n",
       "      <td>Шоколадница</td>\n",
       "      <td>56.170213</td>\n",
       "      <td>141</td>\n",
       "      <td>кафе</td>\n",
       "    </tr>\n",
       "    <tr>\n",
       "      <th>127</th>\n",
       "      <td>Бургер Кинг</td>\n",
       "      <td>45.016393</td>\n",
       "      <td>122</td>\n",
       "      <td>предприятие быстрого обслуживания</td>\n",
       "    </tr>\n",
       "    <tr>\n",
       "      <th>418</th>\n",
       "      <td>Макдоналдс</td>\n",
       "      <td>82.173554</td>\n",
       "      <td>121</td>\n",
       "      <td>ресторан</td>\n",
       "    </tr>\n",
       "    <tr>\n",
       "      <th>195</th>\n",
       "      <td>Домино'с Пицца</td>\n",
       "      <td>18.209302</td>\n",
       "      <td>86</td>\n",
       "      <td>кафе</td>\n",
       "    </tr>\n",
       "    <tr>\n",
       "      <th>653</th>\n",
       "      <td>Теремок</td>\n",
       "      <td>25.047619</td>\n",
       "      <td>84</td>\n",
       "      <td>кафе</td>\n",
       "    </tr>\n",
       "    <tr>\n",
       "      <th>384</th>\n",
       "      <td>Крошка Картошка</td>\n",
       "      <td>22.963415</td>\n",
       "      <td>82</td>\n",
       "      <td>предприятие быстрого обслуживания</td>\n",
       "    </tr>\n",
       "    <tr>\n",
       "      <th>428</th>\n",
       "      <td>Милти</td>\n",
       "      <td>1.430769</td>\n",
       "      <td>65</td>\n",
       "      <td>магазин (отдел кулинарии)</td>\n",
       "    </tr>\n",
       "    <tr>\n",
       "      <th>629</th>\n",
       "      <td>Суши Wok</td>\n",
       "      <td>7.131148</td>\n",
       "      <td>61</td>\n",
       "      <td>предприятие быстрого обслуживания</td>\n",
       "    </tr>\n",
       "    <tr>\n",
       "      <th>473</th>\n",
       "      <td>Папа Джонс</td>\n",
       "      <td>22.160000</td>\n",
       "      <td>50</td>\n",
       "      <td>кафе</td>\n",
       "    </tr>\n",
       "  </tbody>\n",
       "</table>\n",
       "</div>"
      ],
      "text/plain": [
       "                name   avg_seat  count                               type\n",
       "30               KFC  55.341935    155                           ресторан\n",
       "702      Шоколадница  56.170213    141                               кафе\n",
       "127      Бургер Кинг  45.016393    122  предприятие быстрого обслуживания\n",
       "418       Макдоналдс  82.173554    121                           ресторан\n",
       "195   Домино'с Пицца  18.209302     86                               кафе\n",
       "653          Теремок  25.047619     84                               кафе\n",
       "384  Крошка Картошка  22.963415     82  предприятие быстрого обслуживания\n",
       "428            Милти   1.430769     65          магазин (отдел кулинарии)\n",
       "629         Суши Wok   7.131148     61  предприятие быстрого обслуживания\n",
       "473       Папа Джонс  22.160000     50                               кафе"
      ]
     },
     "execution_count": 38,
     "metadata": {},
     "output_type": "execute_result"
    }
   ],
   "source": [
    "chain_top_10"
   ]
  },
  {
   "cell_type": "markdown",
   "metadata": {},
   "source": [
    "Получили интересную таблицу с неожиданной класификацией для некоторых из самых крупных сетей. Ранее KFC и Макдоналдс были ошибочно отнесены к предприятиям быстрого обслуживания. На самом деле это рестораны."
   ]
  },
  {
   "cell_type": "code",
   "execution_count": 39,
   "metadata": {},
   "outputs": [
    {
     "data": {
      "image/png": "[encoded data removed]"
     },
     "metadata": {},
     "output_type": "display_data"
    }
   ],
   "source": [
    "fig = px.scatter(chain_rest_name.query('count > 1'), \n",
    "                 x='avg_seat' , \n",
    "                 y='count', \n",
    "                 color='type',\n",
    "                 title='Взаимосвязь количества заведений и среднего количества посадочных мест (по названиям сетей)')\n",
    "fig.update_layout(autosize=False,\n",
    "                  width=1000,\n",
    "                  height=550, \n",
    "                  yaxis_title='Количество заведений, шт', \n",
    "                  xaxis_title='Cреднее число посадочных мест, шт')\n",
    "fig.show()"
   ]
  },
  {
   "cell_type": "markdown",
   "metadata": {},
   "source": []
  },
  {
   "cell_type": "code",
   "execution_count": 40,
   "metadata": {},
   "outputs": [
    {
     "data": {
      "image/png": "[encoded data removed]"
     },
     "metadata": {},
     "output_type": "display_data"
    }
   ],
   "source": [
    "fig = px.scatter(chain_top_10, \n",
    "                 x='avg_seat' , \n",
    "                 y='count', \n",
    "                 color='name',\n",
    "                 title='Топ-10 сетевых заведений по числу объектов')\n",
    "fig.update_layout(autosize=False,\n",
    "                  width=1000,\n",
    "                  height=550, \n",
    "                  yaxis_title='Количество заведений, шт', \n",
    "                  xaxis_title='Cреднее число посадочных мест, шт')\n",
    "fig.show()"
   ]
  },
  {
   "cell_type": "markdown",
   "metadata": {},
   "source": [
    "Видим, что в нижней части диаграммы скопились сетевые объекты с небольшим количеством заведений и с самым разным числом посадочных мест.\n",
    "\n",
    "А в верхней части наиболее известные сети с большим количеством заведений и числом посадочных мест до 90 шт."
   ]
  },
  {
   "cell_type": "markdown",
   "metadata": {},
   "source": [
    "#### Выводы"
   ]
  },
  {
   "cell_type": "markdown",
   "metadata": {},
   "source": [
    "На основе полученных данных нельзя однозначно сказать, что более характерно для сетевых заведений. \n",
    "\n",
    "1. Основная масса сетей имеет до 20 заведений и до 100 посадочных мест.\n",
    "2. Крупных объектов с более, чем со 150 посадочными местами немного\n",
    "3. У самых крупных сетей видим прямопропорциональную зависимость - с ростом числа объектов расте число посадочных мест."
   ]
  },
  {
   "cell_type": "markdown",
   "metadata": {},
   "source": [
    "### Какой вид предоставляет в среднем самое большое количество посадочных мест?"
   ]
  },
  {
   "cell_type": "markdown",
   "metadata": {},
   "source": [
    "Для ответа на этот вопрос построим столбчатую диаграмму"
   ]
  },
  {
   "cell_type": "code",
   "execution_count": 41,
   "metadata": {},
   "outputs": [],
   "source": [
    "rest_type = (rest.pivot_table(\n",
    "    index='object_type', \n",
    "    values=['number' , 'object_name'], \n",
    "    aggfunc={'number' : 'mean', 'object_name' : 'count'}).reset_index())"
   ]
  },
  {
   "cell_type": "code",
   "execution_count": 42,
   "metadata": {},
   "outputs": [],
   "source": [
    "rest_type.columns = ['type', 'avg_seat', 'name']"
   ]
  },
  {
   "cell_type": "code",
   "execution_count": 43,
   "metadata": {},
   "outputs": [
    {
     "data": {
      "image/png": "[encoded data removed]"
     },
     "metadata": {},
     "output_type": "display_data"
    }
   ],
   "source": [
    "fig = px.bar(rest_type.sort_values('avg_seat', ascending=False), \n",
    "            x='type', \n",
    "            y='avg_seat', \n",
    "            title='Среднее количество посадочных мест по каждому типу заведения')\n",
    "fig.update_layout(autosize=False,width=1000,height=550, yaxis_title=None, xaxis_title=None)\n",
    "fig.show() "
   ]
  },
  {
   "cell_type": "markdown",
   "metadata": {},
   "source": [
    "Из графика видим, что наибольшее среднее количество посадочных мест в столовых и ресторанах. Никаких сюрпризов. \n",
    "\n",
    "Столовые в принципе созданы для обеспечения питанием наибольшего количества людей. У ресторанов цель несколько другая и предусматривает более продолжительный прием пищи, но для них так же характерно большое количество мест."
   ]
  },
  {
   "cell_type": "markdown",
   "metadata": {},
   "source": [
    "#### Выводы"
   ]
  },
  {
   "cell_type": "markdown",
   "metadata": {},
   "source": [
    "Наибольшее количество мест представлено в столовых."
   ]
  },
  {
   "cell_type": "code",
   "execution_count": 44,
   "metadata": {},
   "outputs": [
    {
     "data": {
      "image/png": "[encoded data removed]"
     },
     "metadata": {},
     "output_type": "display_data"
    }
   ],
   "source": [
    "fig = px.box(rest, \n",
    "            x='object_type', \n",
    "            y='number', \n",
    "            title='Количество посадочных мест в зависимости от типа заведения',\n",
    "            color='object_type')\n",
    "fig.update_layout(autosize=False,\n",
    "                  width=1000,\n",
    "                  height=550, \n",
    "                  yaxis_title=None, \n",
    "                  xaxis_title=None,\n",
    "                  showlegend=False)\n",
    "fig.show() "
   ]
  },
  {
   "cell_type": "code",
   "execution_count": 45,
   "metadata": {},
   "outputs": [
    {
     "data": {
      "image/png": "[encoded data removed]"
     },
     "metadata": {},
     "output_type": "display_data"
    }
   ],
   "source": [
    "fig = px.box(rest, \n",
    "            x='object_type', \n",
    "            y='number', \n",
    "            title='Количество посадочных мест в зависимости от типа заведения',\n",
    "            color='object_type')\n",
    "fig.update_layout(autosize=False,\n",
    "                  width=1000,\n",
    "                  height=550, \n",
    "                  yaxis_title=None, \n",
    "                  xaxis_title=None,\n",
    "                  yaxis_range=[0, 500],\n",
    "                  showlegend=False)\n",
    "fig.show() "
   ]
  },
  {
   "cell_type": "markdown",
   "metadata": {},
   "source": [
    "Наибольшее медианное значение также у столовых. Следом идут рестораны.\n",
    "Видим, что практически у все типов имеются выбросы в разы превышающие медиану. Есть несколько заведений превышающих отметку в 1000 мест"
   ]
  },
  {
   "cell_type": "markdown",
   "metadata": {},
   "source": [
    "### Топ-10 улиц по количеству объектов общественного питания"
   ]
  },
  {
   "cell_type": "markdown",
   "metadata": {},
   "source": [
    "Импортируем из открытого источника датасет содержащий названия районов и округов г. Москвы"
   ]
  },
  {
   "cell_type": "code",
   "execution_count": 46,
   "metadata": {},
   "outputs": [],
   "source": [
    "from io import BytesIO\n",
    "import requests\n",
    "spreadsheet_id = '1Da1wJ8sebkvIfCkWGtkhPy7W3FpZ28eGiLlJdvHzutM'\n",
    "file_name = 'https://docs.google.com/spreadsheets/d/{}/export?format=csv'.format(spreadsheet_id)\n",
    "r = requests.get(file_name)\n",
    "df = pd.read_csv(BytesIO(r.content))"
   ]
  },
  {
   "cell_type": "code",
   "execution_count": 47,
   "metadata": {},
   "outputs": [
    {
     "data": {
      "text/html": [
       "<div>\n",
       "<style scoped>\n",
       "    .dataframe tbody tr th:only-of-type {\n",
       "        vertical-align: middle;\n",
       "    }\n",
       "\n",
       "    .dataframe tbody tr th {\n",
       "        vertical-align: top;\n",
       "    }\n",
       "\n",
       "    .dataframe thead th {\n",
       "        text-align: right;\n",
       "    }\n",
       "</style>\n",
       "<table border=\"1\" class=\"dataframe\">\n",
       "  <thead>\n",
       "    <tr style=\"text-align: right;\">\n",
       "      <th></th>\n",
       "      <th>ID</th>\n",
       "      <th>Name</th>\n",
       "      <th>global_id</th>\n",
       "      <th>IsNetObject</th>\n",
       "      <th>OperatingCompany</th>\n",
       "      <th>TypeObject</th>\n",
       "      <th>AdmArea</th>\n",
       "      <th>District</th>\n",
       "      <th>Address</th>\n",
       "      <th>PublicPhone</th>\n",
       "      <th>SeatsCount</th>\n",
       "      <th>SocialPrivileges</th>\n",
       "      <th>Longitude_WGS84</th>\n",
       "      <th>Latitude_WGS84</th>\n",
       "      <th>geodata_center</th>\n",
       "      <th>geoarea</th>\n",
       "    </tr>\n",
       "  </thead>\n",
       "  <tbody>\n",
       "    <tr>\n",
       "      <th>0</th>\n",
       "      <td>Код</td>\n",
       "      <td>Наименование</td>\n",
       "      <td>global_id</td>\n",
       "      <td>Является сетевым</td>\n",
       "      <td>Название управляющей компании</td>\n",
       "      <td>Вид объекта</td>\n",
       "      <td>Административный округ по адресу</td>\n",
       "      <td>Район</td>\n",
       "      <td>Адрес</td>\n",
       "      <td>Контактный телефон</td>\n",
       "      <td>Число посадочных мест</td>\n",
       "      <td>Показатель социальных льгот</td>\n",
       "      <td>Долгота в WGS-84</td>\n",
       "      <td>Широта в WGS-84</td>\n",
       "      <td>geodata_center</td>\n",
       "      <td>geoarea</td>\n",
       "    </tr>\n",
       "    <tr>\n",
       "      <th>1</th>\n",
       "      <td>00151635</td>\n",
       "      <td>СМЕТАНА</td>\n",
       "      <td>637376221</td>\n",
       "      <td>нет</td>\n",
       "      <td>NaN</td>\n",
       "      <td>кафе</td>\n",
       "      <td>Северо-Восточный административный округ</td>\n",
       "      <td>Ярославский район</td>\n",
       "      <td>город Москва, улица Егора Абакумова, дом 9</td>\n",
       "      <td>PublicPhone:(499) 183-14-10\\n\\n</td>\n",
       "      <td>48</td>\n",
       "      <td>нет</td>\n",
       "      <td>37.7145650004360390</td>\n",
       "      <td>55.8790015313033730</td>\n",
       "      <td>NaN</td>\n",
       "      <td>NaN</td>\n",
       "    </tr>\n",
       "    <tr>\n",
       "      <th>2</th>\n",
       "      <td>000077874</td>\n",
       "      <td>Родник</td>\n",
       "      <td>637376331</td>\n",
       "      <td>нет</td>\n",
       "      <td>NaN</td>\n",
       "      <td>кафе</td>\n",
       "      <td>Центральный административный округ</td>\n",
       "      <td>Таганский район</td>\n",
       "      <td>город Москва, улица Талалихина, дом 2/1, корпус 1</td>\n",
       "      <td>PublicPhone:(495) 676-55-35\\n\\n</td>\n",
       "      <td>35</td>\n",
       "      <td>нет</td>\n",
       "      <td>37.6733061300344000</td>\n",
       "      <td>55.7382386551547000</td>\n",
       "      <td>NaN</td>\n",
       "      <td>NaN</td>\n",
       "    </tr>\n",
       "    <tr>\n",
       "      <th>3</th>\n",
       "      <td>000024309</td>\n",
       "      <td>Кафе «Академия»</td>\n",
       "      <td>637376349</td>\n",
       "      <td>нет</td>\n",
       "      <td>NaN</td>\n",
       "      <td>ресторан</td>\n",
       "      <td>Центральный административный округ</td>\n",
       "      <td>Таганский район</td>\n",
       "      <td>Российская Федерация, город Москва, внутригородская территория муниципальный округ Таганский, Абельмановская улица, дом 6</td>\n",
       "      <td>PublicPhone:(495) 662-30-10\\n\\n</td>\n",
       "      <td>95</td>\n",
       "      <td>нет</td>\n",
       "      <td>37.6696475969381000</td>\n",
       "      <td>55.7355114718314000</td>\n",
       "      <td>NaN</td>\n",
       "      <td>NaN</td>\n",
       "    </tr>\n",
       "    <tr>\n",
       "      <th>4</th>\n",
       "      <td>000027429</td>\n",
       "      <td>ГБОУ «Школа № 1430 имени Героя Социалистического Труда Г.В. Кисунько» Школа № 1051</td>\n",
       "      <td>637376480</td>\n",
       "      <td>нет</td>\n",
       "      <td>NaN</td>\n",
       "      <td>столовая</td>\n",
       "      <td>Северо-Восточный административный округ</td>\n",
       "      <td>район Лианозово</td>\n",
       "      <td>город Москва, Угличская улица, дом 17</td>\n",
       "      <td>PublicPhone:(499) 908-06-15\\n\\n</td>\n",
       "      <td>240</td>\n",
       "      <td>нет</td>\n",
       "      <td>37.5669400000000020</td>\n",
       "      <td>55.9040188006692200</td>\n",
       "      <td>NaN</td>\n",
       "      <td>NaN</td>\n",
       "    </tr>\n",
       "  </tbody>\n",
       "</table>\n",
       "</div>"
      ],
      "text/plain": [
       "          ID  \\\n",
       "0        Код   \n",
       "1   00151635   \n",
       "2  000077874   \n",
       "3  000024309   \n",
       "4  000027429   \n",
       "\n",
       "                                                                                 Name  \\\n",
       "0                                                                        Наименование   \n",
       "1                                                                             СМЕТАНА   \n",
       "2                                                                              Родник   \n",
       "3                                                                     Кафе «Академия»   \n",
       "4  ГБОУ «Школа № 1430 имени Героя Социалистического Труда Г.В. Кисунько» Школа № 1051   \n",
       "\n",
       "   global_id       IsNetObject               OperatingCompany   TypeObject  \\\n",
       "0  global_id  Является сетевым  Название управляющей компании  Вид объекта   \n",
       "1  637376221               нет                            NaN         кафе   \n",
       "2  637376331               нет                            NaN         кафе   \n",
       "3  637376349               нет                            NaN     ресторан   \n",
       "4  637376480               нет                            NaN     столовая   \n",
       "\n",
       "                                   AdmArea           District  \\\n",
       "0         Административный округ по адресу              Район   \n",
       "1  Северо-Восточный административный округ  Ярославский район   \n",
       "2       Центральный административный округ    Таганский район   \n",
       "3       Центральный административный округ    Таганский район   \n",
       "4  Северо-Восточный административный округ    район Лианозово   \n",
       "\n",
       "                                                                                                                     Address  \\\n",
       "0                                                                                                                      Адрес   \n",
       "1                                                                                 город Москва, улица Егора Абакумова, дом 9   \n",
       "2                                                                          город Москва, улица Талалихина, дом 2/1, корпус 1   \n",
       "3  Российская Федерация, город Москва, внутригородская территория муниципальный округ Таганский, Абельмановская улица, дом 6   \n",
       "4                                                                                      город Москва, Угличская улица, дом 17   \n",
       "\n",
       "                       PublicPhone             SeatsCount  \\\n",
       "0               Контактный телефон  Число посадочных мест   \n",
       "1  PublicPhone:(499) 183-14-10\\n\\n                     48   \n",
       "2  PublicPhone:(495) 676-55-35\\n\\n                     35   \n",
       "3  PublicPhone:(495) 662-30-10\\n\\n                     95   \n",
       "4  PublicPhone:(499) 908-06-15\\n\\n                    240   \n",
       "\n",
       "              SocialPrivileges      Longitude_WGS84       Latitude_WGS84  \\\n",
       "0  Показатель социальных льгот     Долгота в WGS-84      Широта в WGS-84   \n",
       "1                          нет  37.7145650004360390  55.8790015313033730   \n",
       "2                          нет  37.6733061300344000  55.7382386551547000   \n",
       "3                          нет  37.6696475969381000  55.7355114718314000   \n",
       "4                          нет  37.5669400000000020  55.9040188006692200   \n",
       "\n",
       "   geodata_center  geoarea  \n",
       "0  geodata_center  geoarea  \n",
       "1             NaN      NaN  \n",
       "2             NaN      NaN  \n",
       "3             NaN      NaN  \n",
       "4             NaN      NaN  "
      ]
     },
     "execution_count": 47,
     "metadata": {},
     "output_type": "execute_result"
    }
   ],
   "source": [
    "df.head()"
   ]
  },
  {
   "cell_type": "markdown",
   "metadata": {},
   "source": [
    "Объединим загруженный датасет `df` с датасетом `rest`. Предварительно приведем названия столбцов к нижнему регистру для единообразия с исходной таблицей и добавим только два столбца с названием района и административного округа."
   ]
  },
  {
   "cell_type": "code",
   "execution_count": 48,
   "metadata": {},
   "outputs": [],
   "source": [
    "df.columns = df.columns.str.lower()"
   ]
  },
  {
   "cell_type": "code",
   "execution_count": 49,
   "metadata": {},
   "outputs": [],
   "source": [
    "rest_data = rest.merge(df[['admarea','district','address']], on='address', how='right')"
   ]
  },
  {
   "cell_type": "code",
   "execution_count": 50,
   "metadata": {},
   "outputs": [
    {
     "data": {
      "text/html": [
       "<div>\n",
       "<style scoped>\n",
       "    .dataframe tbody tr th:only-of-type {\n",
       "        vertical-align: middle;\n",
       "    }\n",
       "\n",
       "    .dataframe tbody tr th {\n",
       "        vertical-align: top;\n",
       "    }\n",
       "\n",
       "    .dataframe thead th {\n",
       "        text-align: right;\n",
       "    }\n",
       "</style>\n",
       "<table border=\"1\" class=\"dataframe\">\n",
       "  <thead>\n",
       "    <tr style=\"text-align: right;\">\n",
       "      <th></th>\n",
       "      <th>id</th>\n",
       "      <th>object_name</th>\n",
       "      <th>chain</th>\n",
       "      <th>object_type</th>\n",
       "      <th>address</th>\n",
       "      <th>number</th>\n",
       "      <th>street</th>\n",
       "      <th>admarea</th>\n",
       "      <th>district</th>\n",
       "    </tr>\n",
       "  </thead>\n",
       "  <tbody>\n",
       "    <tr>\n",
       "      <th>0</th>\n",
       "      <td>NaN</td>\n",
       "      <td>NaN</td>\n",
       "      <td>NaN</td>\n",
       "      <td>NaN</td>\n",
       "      <td>Адрес</td>\n",
       "      <td>NaN</td>\n",
       "      <td>NaN</td>\n",
       "      <td>Административный округ по адресу</td>\n",
       "      <td>Район</td>\n",
       "    </tr>\n",
       "    <tr>\n",
       "      <th>1</th>\n",
       "      <td>151635.0</td>\n",
       "      <td>СМЕТАНА</td>\n",
       "      <td>нет</td>\n",
       "      <td>кафе</td>\n",
       "      <td>город Москва, улица Егора Абакумова, дом 9</td>\n",
       "      <td>48.0</td>\n",
       "      <td>улица Егора Абакумова</td>\n",
       "      <td>Северо-Восточный административный округ</td>\n",
       "      <td>Ярославский район</td>\n",
       "    </tr>\n",
       "    <tr>\n",
       "      <th>2</th>\n",
       "      <td>77874.0</td>\n",
       "      <td>Родник</td>\n",
       "      <td>нет</td>\n",
       "      <td>кафе</td>\n",
       "      <td>город Москва, улица Талалихина, дом 2/1, корпус 1</td>\n",
       "      <td>35.0</td>\n",
       "      <td>улица Талалихина</td>\n",
       "      <td>Центральный административный округ</td>\n",
       "      <td>Таганский район</td>\n",
       "    </tr>\n",
       "    <tr>\n",
       "      <th>3</th>\n",
       "      <td>NaN</td>\n",
       "      <td>NaN</td>\n",
       "      <td>NaN</td>\n",
       "      <td>NaN</td>\n",
       "      <td>Российская Федерация, город Москва, внутригородская территория муниципальный округ Таганский, Абельмановская улица, дом 6</td>\n",
       "      <td>NaN</td>\n",
       "      <td>NaN</td>\n",
       "      <td>Центральный административный округ</td>\n",
       "      <td>Таганский район</td>\n",
       "    </tr>\n",
       "    <tr>\n",
       "      <th>4</th>\n",
       "      <td>NaN</td>\n",
       "      <td>NaN</td>\n",
       "      <td>NaN</td>\n",
       "      <td>NaN</td>\n",
       "      <td>город Москва, Угличская улица, дом 17</td>\n",
       "      <td>NaN</td>\n",
       "      <td>NaN</td>\n",
       "      <td>Северо-Восточный административный округ</td>\n",
       "      <td>район Лианозово</td>\n",
       "    </tr>\n",
       "    <tr>\n",
       "      <th>5</th>\n",
       "      <td>148815.0</td>\n",
       "      <td>Брусника</td>\n",
       "      <td>да</td>\n",
       "      <td>кафе</td>\n",
       "      <td>город Москва, переулок Сивцев Вражек, дом 6/2</td>\n",
       "      <td>10.0</td>\n",
       "      <td>переулок Сивцев Вражек</td>\n",
       "      <td>Центральный административный округ</td>\n",
       "      <td>район Арбат</td>\n",
       "    </tr>\n",
       "    <tr>\n",
       "      <th>6</th>\n",
       "      <td>20957.0</td>\n",
       "      <td>Буфет МТУСИ</td>\n",
       "      <td>нет</td>\n",
       "      <td>столовая</td>\n",
       "      <td>город Москва, Авиамоторная улица, дом 8, строение 1</td>\n",
       "      <td>90.0</td>\n",
       "      <td>Авиамоторная улица</td>\n",
       "      <td>Юго-Восточный административный округ</td>\n",
       "      <td>район Лефортово</td>\n",
       "    </tr>\n",
       "    <tr>\n",
       "      <th>7</th>\n",
       "      <td>20958.0</td>\n",
       "      <td>КПФ СЕМЬЯ-1</td>\n",
       "      <td>нет</td>\n",
       "      <td>столовая</td>\n",
       "      <td>город Москва, Авиамоторная улица, дом 8, строение 1</td>\n",
       "      <td>150.0</td>\n",
       "      <td>Авиамоторная улица</td>\n",
       "      <td>Юго-Восточный административный округ</td>\n",
       "      <td>район Лефортово</td>\n",
       "    </tr>\n",
       "    <tr>\n",
       "      <th>8</th>\n",
       "      <td>28858.0</td>\n",
       "      <td>Столовая МТУСИ</td>\n",
       "      <td>нет</td>\n",
       "      <td>столовая</td>\n",
       "      <td>город Москва, Авиамоторная улица, дом 8, строение 1</td>\n",
       "      <td>120.0</td>\n",
       "      <td>Авиамоторная улица</td>\n",
       "      <td>Юго-Восточный административный округ</td>\n",
       "      <td>район Лефортово</td>\n",
       "    </tr>\n",
       "    <tr>\n",
       "      <th>9</th>\n",
       "      <td>20957.0</td>\n",
       "      <td>Буфет МТУСИ</td>\n",
       "      <td>нет</td>\n",
       "      <td>столовая</td>\n",
       "      <td>город Москва, Авиамоторная улица, дом 8, строение 1</td>\n",
       "      <td>90.0</td>\n",
       "      <td>Авиамоторная улица</td>\n",
       "      <td>Юго-Восточный административный округ</td>\n",
       "      <td>район Лефортово</td>\n",
       "    </tr>\n",
       "  </tbody>\n",
       "</table>\n",
       "</div>"
      ],
      "text/plain": [
       "         id     object_name chain object_type  \\\n",
       "0       NaN             NaN   NaN         NaN   \n",
       "1  151635.0         СМЕТАНА   нет        кафе   \n",
       "2   77874.0          Родник   нет        кафе   \n",
       "3       NaN             NaN   NaN         NaN   \n",
       "4       NaN             NaN   NaN         NaN   \n",
       "5  148815.0        Брусника    да        кафе   \n",
       "6   20957.0     Буфет МТУСИ   нет    столовая   \n",
       "7   20958.0     КПФ СЕМЬЯ-1   нет    столовая   \n",
       "8   28858.0  Столовая МТУСИ   нет    столовая   \n",
       "9   20957.0     Буфет МТУСИ   нет    столовая   \n",
       "\n",
       "                                                                                                                     address  \\\n",
       "0                                                                                                                      Адрес   \n",
       "1                                                                                 город Москва, улица Егора Абакумова, дом 9   \n",
       "2                                                                          город Москва, улица Талалихина, дом 2/1, корпус 1   \n",
       "3  Российская Федерация, город Москва, внутригородская территория муниципальный округ Таганский, Абельмановская улица, дом 6   \n",
       "4                                                                                      город Москва, Угличская улица, дом 17   \n",
       "5                                                                              город Москва, переулок Сивцев Вражек, дом 6/2   \n",
       "6                                                                        город Москва, Авиамоторная улица, дом 8, строение 1   \n",
       "7                                                                        город Москва, Авиамоторная улица, дом 8, строение 1   \n",
       "8                                                                        город Москва, Авиамоторная улица, дом 8, строение 1   \n",
       "9                                                                        город Москва, Авиамоторная улица, дом 8, строение 1   \n",
       "\n",
       "   number                  street                                  admarea  \\\n",
       "0     NaN                     NaN         Административный округ по адресу   \n",
       "1    48.0   улица Егора Абакумова  Северо-Восточный административный округ   \n",
       "2    35.0        улица Талалихина       Центральный административный округ   \n",
       "3     NaN                     NaN       Центральный административный округ   \n",
       "4     NaN                     NaN  Северо-Восточный административный округ   \n",
       "5    10.0  переулок Сивцев Вражек       Центральный административный округ   \n",
       "6    90.0      Авиамоторная улица     Юго-Восточный административный округ   \n",
       "7   150.0      Авиамоторная улица     Юго-Восточный административный округ   \n",
       "8   120.0      Авиамоторная улица     Юго-Восточный административный округ   \n",
       "9    90.0      Авиамоторная улица     Юго-Восточный административный округ   \n",
       "\n",
       "            district  \n",
       "0              Район  \n",
       "1  Ярославский район  \n",
       "2    Таганский район  \n",
       "3    Таганский район  \n",
       "4    район Лианозово  \n",
       "5        район Арбат  \n",
       "6    район Лефортово  \n",
       "7    район Лефортово  \n",
       "8    район Лефортово  \n",
       "9    район Лефортово  "
      ]
     },
     "execution_count": 50,
     "metadata": {},
     "output_type": "execute_result"
    }
   ],
   "source": [
    "rest_data.head(10)"
   ]
  },
  {
   "cell_type": "code",
   "execution_count": 51,
   "metadata": {},
   "outputs": [
    {
     "data": {
      "text/html": [
       "<div>\n",
       "<style scoped>\n",
       "    .dataframe tbody tr th:only-of-type {\n",
       "        vertical-align: middle;\n",
       "    }\n",
       "\n",
       "    .dataframe tbody tr th {\n",
       "        vertical-align: top;\n",
       "    }\n",
       "\n",
       "    .dataframe thead th {\n",
       "        text-align: right;\n",
       "    }\n",
       "</style>\n",
       "<table border=\"1\" class=\"dataframe\">\n",
       "  <thead>\n",
       "    <tr style=\"text-align: right;\">\n",
       "      <th></th>\n",
       "      <th>street</th>\n",
       "      <th>admarea</th>\n",
       "      <th>district</th>\n",
       "      <th>object_name</th>\n",
       "    </tr>\n",
       "  </thead>\n",
       "  <tbody>\n",
       "    <tr>\n",
       "      <th>0</th>\n",
       "      <td>проспект Мира</td>\n",
       "      <td>Центральный административный округ</td>\n",
       "      <td>Мещанский район</td>\n",
       "      <td>161</td>\n",
       "    </tr>\n",
       "    <tr>\n",
       "      <th>1</th>\n",
       "      <td>Пресненская набережная</td>\n",
       "      <td>Центральный административный округ</td>\n",
       "      <td>Пресненский район</td>\n",
       "      <td>132</td>\n",
       "    </tr>\n",
       "    <tr>\n",
       "      <th>2</th>\n",
       "      <td>Профсоюзная улица</td>\n",
       "      <td>Юго-Западный административный округ</td>\n",
       "      <td>район Черёмушки</td>\n",
       "      <td>131</td>\n",
       "    </tr>\n",
       "    <tr>\n",
       "      <th>3</th>\n",
       "      <td>Ленинградский проспект</td>\n",
       "      <td>Северный административный округ</td>\n",
       "      <td>район Беговой</td>\n",
       "      <td>117</td>\n",
       "    </tr>\n",
       "    <tr>\n",
       "      <th>4</th>\n",
       "      <td>Варшавское шоссе</td>\n",
       "      <td>Южный административный округ</td>\n",
       "      <td>Донской район</td>\n",
       "      <td>113</td>\n",
       "    </tr>\n",
       "    <tr>\n",
       "      <th>5</th>\n",
       "      <td>Ленинский проспект</td>\n",
       "      <td>Центральный административный округ</td>\n",
       "      <td>район Якиманка</td>\n",
       "      <td>111</td>\n",
       "    </tr>\n",
       "    <tr>\n",
       "      <th>6</th>\n",
       "      <td>Ходынский бульвар</td>\n",
       "      <td>Северный административный округ</td>\n",
       "      <td>Хорошёвский район</td>\n",
       "      <td>98</td>\n",
       "    </tr>\n",
       "    <tr>\n",
       "      <th>7</th>\n",
       "      <td>Кировоградская улица</td>\n",
       "      <td>Южный административный округ</td>\n",
       "      <td>район Чертаново Южное</td>\n",
       "      <td>96</td>\n",
       "    </tr>\n",
       "    <tr>\n",
       "      <th>8</th>\n",
       "      <td>проспект Вернадского</td>\n",
       "      <td>Юго-Западный административный округ</td>\n",
       "      <td>Ломоносовский район</td>\n",
       "      <td>94</td>\n",
       "    </tr>\n",
       "    <tr>\n",
       "      <th>9</th>\n",
       "      <td>улица Новый Арбат</td>\n",
       "      <td>Центральный административный округ</td>\n",
       "      <td>район Арбат</td>\n",
       "      <td>87</td>\n",
       "    </tr>\n",
       "  </tbody>\n",
       "</table>\n",
       "</div>"
      ],
      "text/plain": [
       "                   street                              admarea  \\\n",
       "0           проспект Мира   Центральный административный округ   \n",
       "1  Пресненская набережная   Центральный административный округ   \n",
       "2       Профсоюзная улица  Юго-Западный административный округ   \n",
       "3  Ленинградский проспект      Северный административный округ   \n",
       "4        Варшавское шоссе         Южный административный округ   \n",
       "5      Ленинский проспект   Центральный административный округ   \n",
       "6       Ходынский бульвар      Северный административный округ   \n",
       "7    Кировоградская улица         Южный административный округ   \n",
       "8    проспект Вернадского  Юго-Западный административный округ   \n",
       "9       улица Новый Арбат   Центральный административный округ   \n",
       "\n",
       "                district  object_name  \n",
       "0        Мещанский район          161  \n",
       "1      Пресненский район          132  \n",
       "2        район Черёмушки          131  \n",
       "3          район Беговой          117  \n",
       "4          Донской район          113  \n",
       "5         район Якиманка          111  \n",
       "6      Хорошёвский район           98  \n",
       "7  район Чертаново Южное           96  \n",
       "8    Ломоносовский район           94  \n",
       "9            район Арбат           87  "
      ]
     },
     "execution_count": 51,
     "metadata": {},
     "output_type": "execute_result"
    }
   ],
   "source": [
    "(rest_data.groupby('street').agg({'admarea': 'first',\n",
    "                                  'district' : 'first',\n",
    "                                  'object_name':'nunique'})\n",
    "                             .sort_values('object_name', ascending=False).reset_index()\n",
    "                             .head(10))"
   ]
  },
  {
   "cell_type": "markdown",
   "metadata": {},
   "source": [
    "#### Выводы"
   ]
  },
  {
   "cell_type": "markdown",
   "metadata": {},
   "source": [
    "4 из 10 улиц с наибольшей плотностью объектов общественного питания находятся в Центральном административном округе, что было ожидаемо. Это проспект Мира, Пресненская набережная, Ленинский проспект и Новый Арбат.\n",
    "\n",
    "Все 10 улиц находятся в разных районах, что несколько удивительно. Районы Беговой и Южное Чертаново достаточно удалены от центра и их с трудом можно назвать гастрономическими центрами города. Вероятно, такие высокие показатели количества заведений на Ленинградском проспекте и Кировоградской улице связаны с протяженнностью данных улиц. Они проходят сквозь весь район и продолжаются в других районах."
   ]
  },
  {
   "cell_type": "markdown",
   "metadata": {},
   "source": [
    "### Улицы с одним заведением общественного питания"
   ]
  },
  {
   "cell_type": "markdown",
   "metadata": {},
   "source": [
    "Отфильтруем улицы с 1 заведением общественного питания"
   ]
  },
  {
   "cell_type": "code",
   "execution_count": 52,
   "metadata": {},
   "outputs": [],
   "source": [
    "just_one = (rest_data.groupby('street')\n",
    "                     .agg({'admarea': 'first',\n",
    "                           'district' : 'first',\n",
    "                           'object_name':'nunique'})\n",
    "                     .query('object_name == 1').reset_index()\n",
    "                             )"
   ]
  },
  {
   "cell_type": "code",
   "execution_count": 53,
   "metadata": {},
   "outputs": [
    {
     "data": {
      "text/html": [
       "<div>\n",
       "<style scoped>\n",
       "    .dataframe tbody tr th:only-of-type {\n",
       "        vertical-align: middle;\n",
       "    }\n",
       "\n",
       "    .dataframe tbody tr th {\n",
       "        vertical-align: top;\n",
       "    }\n",
       "\n",
       "    .dataframe thead th {\n",
       "        text-align: right;\n",
       "    }\n",
       "</style>\n",
       "<table border=\"1\" class=\"dataframe\">\n",
       "  <thead>\n",
       "    <tr style=\"text-align: right;\">\n",
       "      <th></th>\n",
       "      <th>street</th>\n",
       "      <th>admarea</th>\n",
       "      <th>district</th>\n",
       "      <th>object_name</th>\n",
       "    </tr>\n",
       "  </thead>\n",
       "  <tbody>\n",
       "    <tr>\n",
       "      <th>0</th>\n",
       "      <td>1-й Балтийский переулок</td>\n",
       "      <td>Северный административный округ</td>\n",
       "      <td>район Аэропорт</td>\n",
       "      <td>1</td>\n",
       "    </tr>\n",
       "    <tr>\n",
       "      <th>1</th>\n",
       "      <td>1-й Басманный переулок</td>\n",
       "      <td>Центральный административный округ</td>\n",
       "      <td>Красносельский район</td>\n",
       "      <td>1</td>\n",
       "    </tr>\n",
       "    <tr>\n",
       "      <th>2</th>\n",
       "      <td>1-й Ботанический проезд</td>\n",
       "      <td>Северо-Восточный административный округ</td>\n",
       "      <td>район Свиблово</td>\n",
       "      <td>1</td>\n",
       "    </tr>\n",
       "    <tr>\n",
       "      <th>3</th>\n",
       "      <td>1-й Варшавский проезд</td>\n",
       "      <td>Южный административный округ</td>\n",
       "      <td>район Москворечье-Сабурово</td>\n",
       "      <td>1</td>\n",
       "    </tr>\n",
       "    <tr>\n",
       "      <th>4</th>\n",
       "      <td>1-й Голутвинский переулок</td>\n",
       "      <td>Центральный административный округ</td>\n",
       "      <td>район Якиманка</td>\n",
       "      <td>1</td>\n",
       "    </tr>\n",
       "  </tbody>\n",
       "</table>\n",
       "</div>"
      ],
      "text/plain": [
       "                      street                                  admarea  \\\n",
       "0    1-й Балтийский переулок          Северный административный округ   \n",
       "1     1-й Басманный переулок       Центральный административный округ   \n",
       "2    1-й Ботанический проезд  Северо-Восточный административный округ   \n",
       "3      1-й Варшавский проезд             Южный административный округ   \n",
       "4  1-й Голутвинский переулок       Центральный административный округ   \n",
       "\n",
       "                     district  object_name  \n",
       "0              район Аэропорт            1  \n",
       "1        Красносельский район            1  \n",
       "2              район Свиблово            1  \n",
       "3  район Москворечье-Сабурово            1  \n",
       "4              район Якиманка            1  "
      ]
     },
     "execution_count": 53,
     "metadata": {},
     "output_type": "execute_result"
    }
   ],
   "source": [
    "just_one.head()"
   ]
  },
  {
   "cell_type": "markdown",
   "metadata": {},
   "source": [
    "Сгруппируем полученную выборку по районам и посмотрим, в каких больше всего \"улиц-одиночек\". Выделим 10 районов"
   ]
  },
  {
   "cell_type": "code",
   "execution_count": 54,
   "metadata": {},
   "outputs": [
    {
     "data": {
      "text/html": [
       "<div>\n",
       "<style scoped>\n",
       "    .dataframe tbody tr th:only-of-type {\n",
       "        vertical-align: middle;\n",
       "    }\n",
       "\n",
       "    .dataframe tbody tr th {\n",
       "        vertical-align: top;\n",
       "    }\n",
       "\n",
       "    .dataframe thead th {\n",
       "        text-align: right;\n",
       "    }\n",
       "</style>\n",
       "<table border=\"1\" class=\"dataframe\">\n",
       "  <thead>\n",
       "    <tr style=\"text-align: right;\">\n",
       "      <th></th>\n",
       "      <th>district</th>\n",
       "      <th>object_name</th>\n",
       "    </tr>\n",
       "  </thead>\n",
       "  <tbody>\n",
       "    <tr>\n",
       "      <th>4</th>\n",
       "      <td>Басманный район</td>\n",
       "      <td>26</td>\n",
       "    </tr>\n",
       "    <tr>\n",
       "      <th>24</th>\n",
       "      <td>Таганский район</td>\n",
       "      <td>24</td>\n",
       "    </tr>\n",
       "    <tr>\n",
       "      <th>106</th>\n",
       "      <td>район Хамовники</td>\n",
       "      <td>24</td>\n",
       "    </tr>\n",
       "    <tr>\n",
       "      <th>25</th>\n",
       "      <td>Тверской район</td>\n",
       "      <td>17</td>\n",
       "    </tr>\n",
       "    <tr>\n",
       "      <th>21</th>\n",
       "      <td>Пресненский район</td>\n",
       "      <td>17</td>\n",
       "    </tr>\n",
       "    <tr>\n",
       "      <th>16</th>\n",
       "      <td>Можайский район</td>\n",
       "      <td>12</td>\n",
       "    </tr>\n",
       "    <tr>\n",
       "      <th>15</th>\n",
       "      <td>Мещанский район</td>\n",
       "      <td>11</td>\n",
       "    </tr>\n",
       "    <tr>\n",
       "      <th>99</th>\n",
       "      <td>район Сокольники</td>\n",
       "      <td>11</td>\n",
       "    </tr>\n",
       "    <tr>\n",
       "      <th>40</th>\n",
       "      <td>район Аэропорт</td>\n",
       "      <td>10</td>\n",
       "    </tr>\n",
       "    <tr>\n",
       "      <th>12</th>\n",
       "      <td>Красносельский район</td>\n",
       "      <td>10</td>\n",
       "    </tr>\n",
       "  </tbody>\n",
       "</table>\n",
       "</div>"
      ],
      "text/plain": [
       "                 district  object_name\n",
       "4         Басманный район           26\n",
       "24        Таганский район           24\n",
       "106       район Хамовники           24\n",
       "25         Тверской район           17\n",
       "21      Пресненский район           17\n",
       "16        Можайский район           12\n",
       "15        Мещанский район           11\n",
       "99       район Сокольники           11\n",
       "40         район Аэропорт           10\n",
       "12   Красносельский район           10"
      ]
     },
     "execution_count": 54,
     "metadata": {},
     "output_type": "execute_result"
    }
   ],
   "source": [
    "just_one.groupby('district')['object_name'].sum().reset_index().sort_values('object_name', ascending=False).head(10)"
   ]
  },
  {
   "cell_type": "markdown",
   "metadata": {},
   "source": [
    "#### Выводы"
   ]
  },
  {
   "cell_type": "markdown",
   "metadata": {},
   "source": [
    "Какую-то связь выявить сложно. Примерно половина районов находится в центре города, всё это дорогие районы. Только Можайский район, Аэропорт и Сокольники можно отнести к спальным районам, где не должно быть большого количества объектов общественного питания.\n",
    "\n",
    "Возможно, по аналогии с выводами в п.2.5., дело в том, что в центральных районах много небольших, коротких улочек и на них действительно может быть только одно кафе или ресторан."
   ]
  },
  {
   "cell_type": "markdown",
   "metadata": {},
   "source": [
    "## Общие выводы"
   ]
  },
  {
   "cell_type": "markdown",
   "metadata": {},
   "source": [
    "Была поставлена задача дать рекомендации о виде заведения, количестве посадочных мест  и районе.\n",
    "У нас есть данные только о количестве мест, заведений и их адреса, и никаких сведений о рейтингах заведений и их экономических показателях.\n",
    "\n",
    "Если исходить из того, что мы опираемся на самые популярные и распространенные заведения и не боимся конкуренции (которая будет очень жесткой, т.к. ,как минимум, конкурентов будет предостаточно, а в Москве ежегодно открываются и закрываются сотни заведений), то рекомендации следуюшие:\n",
    "1. Тип заведения - кафе\n",
    "2. Количество посадочных мест - 40-60\n",
    "3. Район - Мещанский. Высокая проходимость обеспечена. Впрочем как и самые дорогие арендные ставки."
   ]
  }
 ],
 "metadata": {
  "ExecuteTimeLog": [
   {
    "duration": 1247,
    "start_time": "2022-08-10T11:53:52.876Z"
   },
   {
    "duration": 299,
    "start_time": "2022-08-10T11:57:03.104Z"
   },
   {
    "duration": 4,
    "start_time": "2022-08-10T11:57:09.678Z"
   },
   {
    "duration": 43,
    "start_time": "2022-08-10T11:57:18.952Z"
   },
   {
    "duration": 5,
    "start_time": "2022-08-10T11:57:41.407Z"
   },
   {
    "duration": 30,
    "start_time": "2022-08-10T11:57:42.272Z"
   },
   {
    "duration": 92,
    "start_time": "2022-08-10T11:59:54.050Z"
   },
   {
    "duration": 12,
    "start_time": "2022-08-10T12:00:16.851Z"
   },
   {
    "duration": 5,
    "start_time": "2022-08-10T12:00:34.110Z"
   },
   {
    "duration": 10,
    "start_time": "2022-08-10T12:01:11.816Z"
   },
   {
    "duration": 11,
    "start_time": "2022-08-10T12:01:37.146Z"
   },
   {
    "duration": 7,
    "start_time": "2022-08-10T12:02:05.063Z"
   },
   {
    "duration": 8,
    "start_time": "2022-08-10T12:02:15.859Z"
   },
   {
    "duration": 10,
    "start_time": "2022-08-10T12:02:30.893Z"
   },
   {
    "duration": 10,
    "start_time": "2022-08-10T12:09:38.106Z"
   },
   {
    "duration": 9,
    "start_time": "2022-08-10T12:09:57.160Z"
   },
   {
    "duration": 16,
    "start_time": "2022-08-10T12:10:15.053Z"
   },
   {
    "duration": 11,
    "start_time": "2022-08-10T13:32:35.705Z"
   },
   {
    "duration": 5,
    "start_time": "2022-08-10T13:32:44.968Z"
   },
   {
    "duration": 129,
    "start_time": "2022-08-10T13:34:05.505Z"
   },
   {
    "duration": 11,
    "start_time": "2022-08-10T13:34:44.996Z"
   },
   {
    "duration": 3,
    "start_time": "2022-08-10T13:49:11.778Z"
   },
   {
    "duration": 9,
    "start_time": "2022-08-10T13:49:23.879Z"
   },
   {
    "duration": 12,
    "start_time": "2022-08-10T13:52:56.328Z"
   },
   {
    "duration": 8,
    "start_time": "2022-08-10T13:53:01.164Z"
   },
   {
    "duration": 14,
    "start_time": "2022-08-10T14:01:53.584Z"
   },
   {
    "duration": 19,
    "start_time": "2022-08-10T14:03:04.751Z"
   },
   {
    "duration": 28,
    "start_time": "2022-08-10T14:05:36.411Z"
   },
   {
    "duration": 27,
    "start_time": "2022-08-10T14:05:57.474Z"
   },
   {
    "duration": 204,
    "start_time": "2022-08-10T14:57:17.214Z"
   },
   {
    "duration": 13,
    "start_time": "2022-08-10T14:57:35.565Z"
   },
   {
    "duration": 1185,
    "start_time": "2022-08-10T14:57:45.309Z"
   },
   {
    "duration": 69,
    "start_time": "2022-08-10T14:57:46.496Z"
   },
   {
    "duration": 3,
    "start_time": "2022-08-10T14:57:46.567Z"
   },
   {
    "duration": 50,
    "start_time": "2022-08-10T14:57:46.573Z"
   },
   {
    "duration": 15,
    "start_time": "2022-08-10T14:57:46.624Z"
   },
   {
    "duration": 19,
    "start_time": "2022-08-10T14:57:46.641Z"
   },
   {
    "duration": 13,
    "start_time": "2022-08-10T14:57:46.661Z"
   },
   {
    "duration": 6,
    "start_time": "2022-08-10T14:57:46.676Z"
   },
   {
    "duration": 318,
    "start_time": "2022-08-10T14:57:46.684Z"
   },
   {
    "duration": 20,
    "start_time": "2022-08-10T14:57:47.005Z"
   },
   {
    "duration": 12,
    "start_time": "2022-08-10T14:57:47.038Z"
   },
   {
    "duration": 35,
    "start_time": "2022-08-10T14:57:47.052Z"
   },
   {
    "duration": 447,
    "start_time": "2022-08-10T15:09:27.521Z"
   },
   {
    "duration": 525,
    "start_time": "2022-08-10T15:09:33.873Z"
   },
   {
    "duration": 46,
    "start_time": "2022-08-13T16:31:30.890Z"
   },
   {
    "duration": 6,
    "start_time": "2022-08-13T16:31:35.602Z"
   },
   {
    "duration": 1186,
    "start_time": "2022-08-13T16:32:55.253Z"
   },
   {
    "duration": 120,
    "start_time": "2022-08-13T16:32:56.441Z"
   },
   {
    "duration": 4,
    "start_time": "2022-08-13T16:32:56.562Z"
   },
   {
    "duration": 44,
    "start_time": "2022-08-13T16:32:56.567Z"
   },
   {
    "duration": 3,
    "start_time": "2022-08-13T16:32:56.613Z"
   },
   {
    "duration": 18,
    "start_time": "2022-08-13T16:32:56.617Z"
   },
   {
    "duration": 23,
    "start_time": "2022-08-13T16:32:56.636Z"
   },
   {
    "duration": 5,
    "start_time": "2022-08-13T16:32:56.660Z"
   },
   {
    "duration": 165,
    "start_time": "2022-08-13T16:32:56.667Z"
   },
   {
    "duration": 13,
    "start_time": "2022-08-13T16:32:56.833Z"
   },
   {
    "duration": 8,
    "start_time": "2022-08-13T16:32:56.854Z"
   },
   {
    "duration": 26,
    "start_time": "2022-08-13T16:32:56.864Z"
   },
   {
    "duration": 293,
    "start_time": "2022-08-13T18:01:56.971Z"
   },
   {
    "duration": 14,
    "start_time": "2022-08-13T18:02:18.527Z"
   },
   {
    "duration": 1339,
    "start_time": "2022-08-13T18:02:37.912Z"
   },
   {
    "duration": 14,
    "start_time": "2022-08-13T18:02:42.774Z"
   },
   {
    "duration": 175,
    "start_time": "2022-08-13T18:02:49.498Z"
   },
   {
    "duration": 9,
    "start_time": "2022-08-13T18:03:03.269Z"
   },
   {
    "duration": 12,
    "start_time": "2022-08-13T18:03:33.950Z"
   },
   {
    "duration": 15,
    "start_time": "2022-08-13T18:03:58.515Z"
   },
   {
    "duration": 15,
    "start_time": "2022-08-13T19:31:29.890Z"
   },
   {
    "duration": 80,
    "start_time": "2022-08-13T19:34:26.627Z"
   },
   {
    "duration": 6,
    "start_time": "2022-08-13T19:36:33.649Z"
   },
   {
    "duration": 15,
    "start_time": "2022-08-13T19:36:52.903Z"
   },
   {
    "duration": 11,
    "start_time": "2022-08-13T19:37:29.614Z"
   },
   {
    "duration": 8,
    "start_time": "2022-08-13T19:37:37.946Z"
   },
   {
    "duration": 9,
    "start_time": "2022-08-13T19:54:13.822Z"
   },
   {
    "duration": 13,
    "start_time": "2022-08-13T22:05:09.271Z"
   },
   {
    "duration": 7,
    "start_time": "2022-08-13T22:05:41.775Z"
   },
   {
    "duration": 73,
    "start_time": "2022-08-13T22:08:48.315Z"
   },
   {
    "duration": 18,
    "start_time": "2022-08-13T22:10:06.518Z"
   },
   {
    "duration": 5,
    "start_time": "2022-08-13T22:10:32.307Z"
   },
   {
    "duration": 15,
    "start_time": "2022-08-13T22:10:58.717Z"
   },
   {
    "duration": 7,
    "start_time": "2022-08-13T22:11:07.521Z"
   },
   {
    "duration": 15,
    "start_time": "2022-08-13T22:11:13.740Z"
   },
   {
    "duration": 17,
    "start_time": "2022-08-13T22:12:12.027Z"
   },
   {
    "duration": 11,
    "start_time": "2022-08-13T22:12:23.700Z"
   },
   {
    "duration": 14,
    "start_time": "2022-08-13T22:12:45.730Z"
   },
   {
    "duration": 11,
    "start_time": "2022-08-13T22:12:53.860Z"
   },
   {
    "duration": 10,
    "start_time": "2022-08-13T22:20:59.306Z"
   },
   {
    "duration": 10,
    "start_time": "2022-08-13T22:21:04.902Z"
   },
   {
    "duration": 10,
    "start_time": "2022-08-13T22:21:10.609Z"
   },
   {
    "duration": 2,
    "start_time": "2022-08-13T22:39:10.472Z"
   },
   {
    "duration": 10,
    "start_time": "2022-08-13T22:45:17.461Z"
   },
   {
    "duration": 10,
    "start_time": "2022-08-13T22:46:18.286Z"
   },
   {
    "duration": 9,
    "start_time": "2022-08-13T22:46:31.880Z"
   },
   {
    "duration": 10,
    "start_time": "2022-08-13T22:46:42.699Z"
   },
   {
    "duration": 1340,
    "start_time": "2022-08-14T11:03:25.560Z"
   },
   {
    "duration": 135,
    "start_time": "2022-08-14T11:03:26.902Z"
   },
   {
    "duration": 4,
    "start_time": "2022-08-14T11:03:27.039Z"
   },
   {
    "duration": 51,
    "start_time": "2022-08-14T11:03:27.046Z"
   },
   {
    "duration": 4,
    "start_time": "2022-08-14T11:03:27.099Z"
   },
   {
    "duration": 22,
    "start_time": "2022-08-14T11:03:27.104Z"
   },
   {
    "duration": 12,
    "start_time": "2022-08-14T11:03:27.128Z"
   },
   {
    "duration": 25,
    "start_time": "2022-08-14T11:03:27.142Z"
   },
   {
    "duration": 38,
    "start_time": "2022-08-14T11:03:27.169Z"
   },
   {
    "duration": 8,
    "start_time": "2022-08-14T11:03:27.209Z"
   },
   {
    "duration": 20,
    "start_time": "2022-08-14T11:03:27.218Z"
   },
   {
    "duration": 10,
    "start_time": "2022-08-14T11:03:27.240Z"
   },
   {
    "duration": 8,
    "start_time": "2022-08-14T11:03:27.251Z"
   },
   {
    "duration": 183,
    "start_time": "2022-08-14T11:03:27.261Z"
   },
   {
    "duration": 16,
    "start_time": "2022-08-14T11:03:27.446Z"
   },
   {
    "duration": 2,
    "start_time": "2022-08-14T11:04:20.677Z"
   },
   {
    "duration": 5,
    "start_time": "2022-08-14T11:13:13.625Z"
   },
   {
    "duration": 87,
    "start_time": "2022-08-14T11:21:17.349Z"
   },
   {
    "duration": 9,
    "start_time": "2022-08-14T11:21:25.923Z"
   },
   {
    "duration": 10,
    "start_time": "2022-08-14T11:21:31.205Z"
   },
   {
    "duration": 7,
    "start_time": "2022-08-14T11:21:44.437Z"
   },
   {
    "duration": 37,
    "start_time": "2022-08-14T11:22:45.265Z"
   },
   {
    "duration": 16,
    "start_time": "2022-08-14T11:24:01.441Z"
   },
   {
    "duration": 8,
    "start_time": "2022-08-14T11:24:35.976Z"
   },
   {
    "duration": 4,
    "start_time": "2022-08-14T11:25:25.037Z"
   },
   {
    "duration": 369,
    "start_time": "2022-08-14T11:25:55.356Z"
   },
   {
    "duration": 296,
    "start_time": "2022-08-14T11:26:04.184Z"
   },
   {
    "duration": 6,
    "start_time": "2022-08-14T11:27:45.482Z"
   },
   {
    "duration": 6,
    "start_time": "2022-08-14T11:27:52.235Z"
   },
   {
    "duration": 1367,
    "start_time": "2022-08-14T11:29:15.125Z"
   },
   {
    "duration": 6,
    "start_time": "2022-08-14T11:29:19.011Z"
   },
   {
    "duration": 7,
    "start_time": "2022-08-14T11:29:19.605Z"
   },
   {
    "duration": 154,
    "start_time": "2022-08-14T11:29:20.633Z"
   },
   {
    "duration": 15,
    "start_time": "2022-08-14T11:54:48.485Z"
   },
   {
    "duration": 76,
    "start_time": "2022-08-14T11:55:08.194Z"
   },
   {
    "duration": 204,
    "start_time": "2022-08-14T11:55:12.396Z"
   },
   {
    "duration": 127,
    "start_time": "2022-08-14T12:15:17.382Z"
   },
   {
    "duration": 40,
    "start_time": "2022-08-14T12:15:38.265Z"
   },
   {
    "duration": 53,
    "start_time": "2022-08-14T12:15:49.729Z"
   },
   {
    "duration": 41,
    "start_time": "2022-08-14T12:16:00.114Z"
   },
   {
    "duration": 46,
    "start_time": "2022-08-14T12:16:20.265Z"
   },
   {
    "duration": 44,
    "start_time": "2022-08-14T12:16:26.700Z"
   },
   {
    "duration": 44,
    "start_time": "2022-08-14T12:41:47.766Z"
   },
   {
    "duration": 9,
    "start_time": "2022-08-14T13:30:35.098Z"
   },
   {
    "duration": 57,
    "start_time": "2022-08-14T13:30:37.175Z"
   },
   {
    "duration": 51,
    "start_time": "2022-08-14T13:32:28.237Z"
   },
   {
    "duration": 10,
    "start_time": "2022-08-14T13:32:39.122Z"
   },
   {
    "duration": 41,
    "start_time": "2022-08-14T13:32:46.721Z"
   },
   {
    "duration": 46,
    "start_time": "2022-08-14T13:35:29.959Z"
   },
   {
    "duration": 45,
    "start_time": "2022-08-14T13:37:06.717Z"
   },
   {
    "duration": 49,
    "start_time": "2022-08-14T13:37:12.964Z"
   },
   {
    "duration": 49,
    "start_time": "2022-08-14T13:37:21.084Z"
   },
   {
    "duration": 52,
    "start_time": "2022-08-14T13:37:26.774Z"
   },
   {
    "duration": 44,
    "start_time": "2022-08-14T13:38:13.950Z"
   },
   {
    "duration": 43,
    "start_time": "2022-08-14T13:38:40.541Z"
   },
   {
    "duration": 61,
    "start_time": "2022-08-14T13:39:46.031Z"
   },
   {
    "duration": 48,
    "start_time": "2022-08-14T13:40:15.440Z"
   },
   {
    "duration": 50,
    "start_time": "2022-08-14T13:40:24.094Z"
   },
   {
    "duration": 44,
    "start_time": "2022-08-14T13:40:40.659Z"
   },
   {
    "duration": 50,
    "start_time": "2022-08-14T13:40:53.275Z"
   },
   {
    "duration": 54,
    "start_time": "2022-08-14T13:41:05.138Z"
   },
   {
    "duration": 40,
    "start_time": "2022-08-14T13:41:17.743Z"
   },
   {
    "duration": 57,
    "start_time": "2022-08-14T13:41:24.610Z"
   },
   {
    "duration": 51,
    "start_time": "2022-08-14T13:41:32.062Z"
   },
   {
    "duration": 155,
    "start_time": "2022-08-14T13:56:40.836Z"
   },
   {
    "duration": 12,
    "start_time": "2022-08-14T15:31:38.094Z"
   },
   {
    "duration": 136,
    "start_time": "2022-08-14T15:31:42.677Z"
   },
   {
    "duration": 145,
    "start_time": "2022-08-14T15:33:18.826Z"
   },
   {
    "duration": 4,
    "start_time": "2022-08-14T15:57:43.677Z"
   },
   {
    "duration": 5,
    "start_time": "2022-08-14T15:57:55.223Z"
   },
   {
    "duration": 6,
    "start_time": "2022-08-14T15:58:00.271Z"
   },
   {
    "duration": 6,
    "start_time": "2022-08-14T15:58:55.166Z"
   },
   {
    "duration": 7,
    "start_time": "2022-08-14T15:58:56.707Z"
   },
   {
    "duration": 13,
    "start_time": "2022-08-14T16:04:06.530Z"
   },
   {
    "duration": 6,
    "start_time": "2022-08-14T16:04:33.705Z"
   },
   {
    "duration": 7,
    "start_time": "2022-08-14T16:04:34.529Z"
   },
   {
    "duration": 34,
    "start_time": "2022-08-14T16:05:18.322Z"
   },
   {
    "duration": 1347,
    "start_time": "2022-08-15T07:03:26.663Z"
   },
   {
    "duration": 277,
    "start_time": "2022-08-15T07:03:28.012Z"
   },
   {
    "duration": 4,
    "start_time": "2022-08-15T07:03:28.290Z"
   },
   {
    "duration": 41,
    "start_time": "2022-08-15T07:03:28.297Z"
   },
   {
    "duration": 3,
    "start_time": "2022-08-15T07:03:28.340Z"
   },
   {
    "duration": 18,
    "start_time": "2022-08-15T07:03:28.345Z"
   },
   {
    "duration": 30,
    "start_time": "2022-08-15T07:03:28.365Z"
   },
   {
    "duration": 27,
    "start_time": "2022-08-15T07:03:28.397Z"
   },
   {
    "duration": 10,
    "start_time": "2022-08-15T07:03:28.426Z"
   },
   {
    "duration": 10,
    "start_time": "2022-08-15T07:03:28.438Z"
   },
   {
    "duration": 44,
    "start_time": "2022-08-15T07:03:28.449Z"
   },
   {
    "duration": 9,
    "start_time": "2022-08-15T07:03:28.494Z"
   },
   {
    "duration": 8,
    "start_time": "2022-08-15T07:03:28.504Z"
   },
   {
    "duration": 168,
    "start_time": "2022-08-15T07:03:28.514Z"
   },
   {
    "duration": 10,
    "start_time": "2022-08-15T07:03:28.686Z"
   },
   {
    "duration": 12,
    "start_time": "2022-08-15T07:03:28.698Z"
   },
   {
    "duration": 12,
    "start_time": "2022-08-15T07:03:28.712Z"
   },
   {
    "duration": 351,
    "start_time": "2022-08-15T07:03:28.726Z"
   },
   {
    "duration": 6,
    "start_time": "2022-08-15T07:03:29.078Z"
   },
   {
    "duration": 129,
    "start_time": "2022-08-15T07:03:29.085Z"
   },
   {
    "duration": 166,
    "start_time": "2022-08-15T07:21:08.752Z"
   },
   {
    "duration": 11,
    "start_time": "2022-08-15T07:21:49.966Z"
   },
   {
    "duration": 12,
    "start_time": "2022-08-15T07:21:56.352Z"
   },
   {
    "duration": 10,
    "start_time": "2022-08-15T07:21:58.655Z"
   },
   {
    "duration": 7,
    "start_time": "2022-08-15T07:30:24.935Z"
   },
   {
    "duration": 22,
    "start_time": "2022-08-15T07:30:43.678Z"
   },
   {
    "duration": 8,
    "start_time": "2022-08-15T07:30:52.775Z"
   },
   {
    "duration": 8,
    "start_time": "2022-08-15T07:31:21.224Z"
   },
   {
    "duration": 57,
    "start_time": "2022-08-15T07:31:21.567Z"
   },
   {
    "duration": 556,
    "start_time": "2022-08-15T07:45:09.428Z"
   },
   {
    "duration": 3,
    "start_time": "2022-08-15T07:46:46.170Z"
   },
   {
    "duration": 113,
    "start_time": "2022-08-15T07:47:01.927Z"
   },
   {
    "duration": 13,
    "start_time": "2022-08-15T07:48:50.346Z"
   },
   {
    "duration": 66,
    "start_time": "2022-08-15T07:50:28.008Z"
   },
   {
    "duration": 19,
    "start_time": "2022-08-15T07:50:37.281Z"
   },
   {
    "duration": 13,
    "start_time": "2022-08-15T07:50:43.303Z"
   },
   {
    "duration": 26,
    "start_time": "2022-08-15T07:50:48.656Z"
   },
   {
    "duration": 23,
    "start_time": "2022-08-15T07:51:05.199Z"
   },
   {
    "duration": 25,
    "start_time": "2022-08-15T07:52:02.899Z"
   },
   {
    "duration": 22,
    "start_time": "2022-08-15T07:52:07.825Z"
   },
   {
    "duration": 24,
    "start_time": "2022-08-15T07:52:15.976Z"
   },
   {
    "duration": 99,
    "start_time": "2022-08-15T07:52:58.401Z"
   },
   {
    "duration": 63,
    "start_time": "2022-08-15T07:53:21.065Z"
   },
   {
    "duration": 17,
    "start_time": "2022-08-15T07:53:27.503Z"
   },
   {
    "duration": 16,
    "start_time": "2022-08-15T07:53:49.360Z"
   },
   {
    "duration": 16,
    "start_time": "2022-08-15T07:54:04.969Z"
   },
   {
    "duration": 25,
    "start_time": "2022-08-15T07:54:08.879Z"
   },
   {
    "duration": 365,
    "start_time": "2022-08-15T07:54:38.600Z"
   },
   {
    "duration": 9,
    "start_time": "2022-08-15T07:55:04.464Z"
   },
   {
    "duration": 16,
    "start_time": "2022-08-15T07:55:53.409Z"
   },
   {
    "duration": 8,
    "start_time": "2022-08-15T07:55:55.472Z"
   },
   {
    "duration": 677,
    "start_time": "2022-08-15T07:56:01.120Z"
   },
   {
    "duration": 0,
    "start_time": "2022-08-15T07:56:01.799Z"
   },
   {
    "duration": 19,
    "start_time": "2022-08-15T07:56:06.924Z"
   },
   {
    "duration": 7,
    "start_time": "2022-08-15T07:56:07.472Z"
   },
   {
    "duration": 50,
    "start_time": "2022-08-15T07:56:27.200Z"
   },
   {
    "duration": 9,
    "start_time": "2022-08-15T07:56:30.303Z"
   },
   {
    "duration": 93,
    "start_time": "2022-08-15T07:56:39.960Z"
   },
   {
    "duration": 10,
    "start_time": "2022-08-15T07:56:42.431Z"
   },
   {
    "duration": 18,
    "start_time": "2022-08-15T08:05:28.031Z"
   },
   {
    "duration": 15,
    "start_time": "2022-08-15T08:05:38.118Z"
   },
   {
    "duration": 18,
    "start_time": "2022-08-15T08:05:46.542Z"
   },
   {
    "duration": 8,
    "start_time": "2022-08-15T08:05:47.519Z"
   },
   {
    "duration": 20,
    "start_time": "2022-08-15T08:06:17.038Z"
   },
   {
    "duration": 10,
    "start_time": "2022-08-15T08:06:30.958Z"
   },
   {
    "duration": 14,
    "start_time": "2022-08-15T08:37:18.087Z"
   },
   {
    "duration": 155,
    "start_time": "2022-08-15T08:38:12.203Z"
   },
   {
    "duration": 69,
    "start_time": "2022-08-15T08:38:37.855Z"
   },
   {
    "duration": 50,
    "start_time": "2022-08-15T08:38:53.816Z"
   },
   {
    "duration": 273,
    "start_time": "2022-08-15T08:41:39.945Z"
   },
   {
    "duration": 233,
    "start_time": "2022-08-15T08:41:56.249Z"
   },
   {
    "duration": 170,
    "start_time": "2022-08-15T08:42:04.921Z"
   },
   {
    "duration": 130,
    "start_time": "2022-08-15T08:45:24.178Z"
   },
   {
    "duration": 170,
    "start_time": "2022-08-15T08:45:27.299Z"
   },
   {
    "duration": 167,
    "start_time": "2022-08-15T08:45:34.336Z"
   },
   {
    "duration": 198,
    "start_time": "2022-08-15T08:46:23.876Z"
   },
   {
    "duration": 197,
    "start_time": "2022-08-15T08:46:32.283Z"
   },
   {
    "duration": 229,
    "start_time": "2022-08-15T08:46:36.466Z"
   },
   {
    "duration": 217,
    "start_time": "2022-08-15T08:46:53.883Z"
   },
   {
    "duration": 191,
    "start_time": "2022-08-15T08:47:17.053Z"
   },
   {
    "duration": 248,
    "start_time": "2022-08-15T08:48:15.876Z"
   },
   {
    "duration": 251,
    "start_time": "2022-08-15T08:48:26.036Z"
   },
   {
    "duration": 180,
    "start_time": "2022-08-15T08:48:31.492Z"
   },
   {
    "duration": 176,
    "start_time": "2022-08-15T08:48:35.355Z"
   },
   {
    "duration": 297,
    "start_time": "2022-08-15T08:48:40.718Z"
   },
   {
    "duration": 245,
    "start_time": "2022-08-15T08:48:45.526Z"
   },
   {
    "duration": 185,
    "start_time": "2022-08-15T08:48:50.228Z"
   },
   {
    "duration": 264,
    "start_time": "2022-08-15T08:48:59.623Z"
   },
   {
    "duration": 202,
    "start_time": "2022-08-15T09:04:07.453Z"
   },
   {
    "duration": 173,
    "start_time": "2022-08-15T09:04:35.206Z"
   },
   {
    "duration": 246,
    "start_time": "2022-08-15T09:04:40.654Z"
   },
   {
    "duration": 215,
    "start_time": "2022-08-15T09:05:13.574Z"
   },
   {
    "duration": 184,
    "start_time": "2022-08-15T09:06:39.238Z"
   },
   {
    "duration": 203,
    "start_time": "2022-08-15T09:07:17.013Z"
   },
   {
    "duration": 190,
    "start_time": "2022-08-15T09:07:34.838Z"
   },
   {
    "duration": 207,
    "start_time": "2022-08-15T09:07:40.294Z"
   },
   {
    "duration": 3,
    "start_time": "2022-08-15T09:07:58.438Z"
   },
   {
    "duration": 182,
    "start_time": "2022-08-15T09:08:49.711Z"
   },
   {
    "duration": 170,
    "start_time": "2022-08-15T09:11:17.199Z"
   },
   {
    "duration": 176,
    "start_time": "2022-08-15T09:11:30.054Z"
   },
   {
    "duration": 411,
    "start_time": "2022-08-15T09:12:46.070Z"
   },
   {
    "duration": 64,
    "start_time": "2022-08-15T09:13:49.463Z"
   },
   {
    "duration": 181,
    "start_time": "2022-08-15T09:13:54.111Z"
   },
   {
    "duration": 182,
    "start_time": "2022-08-15T09:14:35.831Z"
   },
   {
    "duration": 249,
    "start_time": "2022-08-15T09:16:10.358Z"
   },
   {
    "duration": 198,
    "start_time": "2022-08-15T09:16:22.158Z"
   },
   {
    "duration": 199,
    "start_time": "2022-08-15T09:16:35.429Z"
   },
   {
    "duration": 196,
    "start_time": "2022-08-15T09:16:45.478Z"
   },
   {
    "duration": 194,
    "start_time": "2022-08-15T09:16:50.686Z"
   },
   {
    "duration": 188,
    "start_time": "2022-08-15T09:17:44.587Z"
   },
   {
    "duration": 51,
    "start_time": "2022-08-15T10:46:18.097Z"
   },
   {
    "duration": 8,
    "start_time": "2022-08-15T10:46:29.050Z"
   },
   {
    "duration": 32,
    "start_time": "2022-08-15T10:55:52.327Z"
   },
   {
    "duration": 8,
    "start_time": "2022-08-15T10:58:38.566Z"
   },
   {
    "duration": 117,
    "start_time": "2022-08-15T11:04:29.271Z"
   },
   {
    "duration": 105,
    "start_time": "2022-08-15T11:04:39.320Z"
   },
   {
    "duration": 107,
    "start_time": "2022-08-15T11:04:49.530Z"
   },
   {
    "duration": 7,
    "start_time": "2022-08-15T12:32:59.661Z"
   },
   {
    "duration": 8,
    "start_time": "2022-08-15T12:33:06.321Z"
   },
   {
    "duration": 97,
    "start_time": "2022-08-15T12:33:43.314Z"
   },
   {
    "duration": 69,
    "start_time": "2022-08-15T12:33:55.033Z"
   },
   {
    "duration": 10,
    "start_time": "2022-08-15T12:40:10.681Z"
   },
   {
    "duration": 10,
    "start_time": "2022-08-15T12:40:17.898Z"
   },
   {
    "duration": 9,
    "start_time": "2022-08-15T12:40:22.998Z"
   },
   {
    "duration": 9,
    "start_time": "2022-08-15T12:40:38.530Z"
   },
   {
    "duration": 10,
    "start_time": "2022-08-15T12:40:59.170Z"
   },
   {
    "duration": 9,
    "start_time": "2022-08-15T12:42:18.578Z"
   },
   {
    "duration": 10,
    "start_time": "2022-08-15T12:42:40.436Z"
   },
   {
    "duration": 9,
    "start_time": "2022-08-15T12:43:27.978Z"
   },
   {
    "duration": 9,
    "start_time": "2022-08-15T12:43:39.217Z"
   },
   {
    "duration": 142,
    "start_time": "2022-08-15T12:43:53.722Z"
   },
   {
    "duration": 140,
    "start_time": "2022-08-15T12:43:57.474Z"
   },
   {
    "duration": 182,
    "start_time": "2022-08-15T12:44:01.058Z"
   },
   {
    "duration": 13,
    "start_time": "2022-08-15T13:10:28.808Z"
   },
   {
    "duration": 66,
    "start_time": "2022-08-15T13:12:17.352Z"
   },
   {
    "duration": 114,
    "start_time": "2022-08-15T13:12:20.583Z"
   },
   {
    "duration": 10,
    "start_time": "2022-08-15T13:12:27.111Z"
   },
   {
    "duration": 100,
    "start_time": "2022-08-15T13:13:00.817Z"
   },
   {
    "duration": 203,
    "start_time": "2022-08-15T13:13:11.296Z"
   },
   {
    "duration": 67,
    "start_time": "2022-08-15T13:15:17.063Z"
   },
   {
    "duration": 61,
    "start_time": "2022-08-15T13:15:33.663Z"
   },
   {
    "duration": 69,
    "start_time": "2022-08-15T13:17:14.568Z"
   },
   {
    "duration": 71,
    "start_time": "2022-08-15T13:17:19.423Z"
   },
   {
    "duration": 67,
    "start_time": "2022-08-15T13:17:41.847Z"
   },
   {
    "duration": 71,
    "start_time": "2022-08-15T13:18:33.294Z"
   },
   {
    "duration": 116,
    "start_time": "2022-08-15T13:18:46.150Z"
   },
   {
    "duration": 72,
    "start_time": "2022-08-15T13:18:49.407Z"
   },
   {
    "duration": 78,
    "start_time": "2022-08-15T13:18:54.751Z"
   },
   {
    "duration": 73,
    "start_time": "2022-08-15T13:19:00.647Z"
   },
   {
    "duration": 68,
    "start_time": "2022-08-15T13:19:40.471Z"
   },
   {
    "duration": 79,
    "start_time": "2022-08-15T13:20:06.719Z"
   },
   {
    "duration": 45,
    "start_time": "2022-08-15T13:21:18.694Z"
   },
   {
    "duration": 97,
    "start_time": "2022-08-15T13:23:35.239Z"
   },
   {
    "duration": 52,
    "start_time": "2022-08-15T13:23:40.303Z"
   },
   {
    "duration": 42,
    "start_time": "2022-08-15T13:24:35.279Z"
   },
   {
    "duration": 6,
    "start_time": "2022-08-15T13:24:45.831Z"
   },
   {
    "duration": 59,
    "start_time": "2022-08-15T13:26:10.705Z"
   },
   {
    "duration": 53,
    "start_time": "2022-08-15T13:26:34.100Z"
   },
   {
    "duration": 56,
    "start_time": "2022-08-15T13:27:24.168Z"
   },
   {
    "duration": 45,
    "start_time": "2022-08-15T13:28:06.120Z"
   },
   {
    "duration": 43,
    "start_time": "2022-08-15T13:33:56.472Z"
   },
   {
    "duration": 42,
    "start_time": "2022-08-15T13:34:07.231Z"
   },
   {
    "duration": 41,
    "start_time": "2022-08-15T13:43:24.135Z"
   },
   {
    "duration": 42,
    "start_time": "2022-08-15T13:43:32.975Z"
   },
   {
    "duration": 22,
    "start_time": "2022-08-15T13:50:14.991Z"
   },
   {
    "duration": 13,
    "start_time": "2022-08-15T13:50:18.344Z"
   },
   {
    "duration": 11,
    "start_time": "2022-08-15T13:50:47.577Z"
   },
   {
    "duration": 62,
    "start_time": "2022-08-15T13:51:23.056Z"
   },
   {
    "duration": 63,
    "start_time": "2022-08-15T14:09:31.199Z"
   },
   {
    "duration": 64,
    "start_time": "2022-08-15T14:10:11.598Z"
   },
   {
    "duration": 61,
    "start_time": "2022-08-15T14:11:29.039Z"
   },
   {
    "duration": 60,
    "start_time": "2022-08-15T14:11:38.326Z"
   },
   {
    "duration": 58,
    "start_time": "2022-08-15T14:11:44.390Z"
   },
   {
    "duration": 9,
    "start_time": "2022-08-15T14:16:58.612Z"
   },
   {
    "duration": 24,
    "start_time": "2022-08-15T15:05:27.440Z"
   },
   {
    "duration": 43,
    "start_time": "2022-08-15T15:05:49.935Z"
   },
   {
    "duration": 44,
    "start_time": "2022-08-15T15:07:12.534Z"
   },
   {
    "duration": 12,
    "start_time": "2022-08-15T15:07:20.999Z"
   },
   {
    "duration": 47,
    "start_time": "2022-08-15T15:13:27.335Z"
   },
   {
    "duration": 66,
    "start_time": "2022-08-15T15:14:04.335Z"
   },
   {
    "duration": 4,
    "start_time": "2022-08-15T15:25:08.374Z"
   },
   {
    "duration": 13,
    "start_time": "2022-08-15T15:25:37.245Z"
   },
   {
    "duration": 47,
    "start_time": "2022-08-15T15:36:37.500Z"
   },
   {
    "duration": 9,
    "start_time": "2022-08-15T15:36:43.619Z"
   },
   {
    "duration": 171,
    "start_time": "2022-08-15T15:36:50.276Z"
   },
   {
    "duration": 9,
    "start_time": "2022-08-15T15:36:51.002Z"
   },
   {
    "duration": 39,
    "start_time": "2022-08-15T15:36:54.643Z"
   },
   {
    "duration": 9,
    "start_time": "2022-08-15T15:36:55.876Z"
   },
   {
    "duration": 40,
    "start_time": "2022-08-15T15:37:24.772Z"
   },
   {
    "duration": 14,
    "start_time": "2022-08-15T15:37:26.227Z"
   },
   {
    "duration": 38,
    "start_time": "2022-08-15T15:37:29.795Z"
   },
   {
    "duration": 41,
    "start_time": "2022-08-15T15:37:33.139Z"
   },
   {
    "duration": 10,
    "start_time": "2022-08-15T15:37:33.395Z"
   },
   {
    "duration": 43,
    "start_time": "2022-08-15T15:37:35.948Z"
   },
   {
    "duration": 12,
    "start_time": "2022-08-15T15:37:38.012Z"
   },
   {
    "duration": 29,
    "start_time": "2022-08-15T15:37:41.859Z"
   },
   {
    "duration": 164,
    "start_time": "2022-08-15T15:37:46.543Z"
   },
   {
    "duration": 39,
    "start_time": "2022-08-15T15:38:21.972Z"
   },
   {
    "duration": 10,
    "start_time": "2022-08-15T15:38:22.363Z"
   },
   {
    "duration": 39,
    "start_time": "2022-08-15T15:38:32.083Z"
   },
   {
    "duration": 9,
    "start_time": "2022-08-15T15:38:33.499Z"
   },
   {
    "duration": 9,
    "start_time": "2022-08-15T15:38:45.676Z"
   },
   {
    "duration": 8,
    "start_time": "2022-08-15T15:39:11.555Z"
   },
   {
    "duration": 8,
    "start_time": "2022-08-15T15:39:14.667Z"
   },
   {
    "duration": 6,
    "start_time": "2022-08-15T15:39:26.372Z"
   },
   {
    "duration": 14,
    "start_time": "2022-08-15T15:39:34.179Z"
   },
   {
    "duration": 13,
    "start_time": "2022-08-15T15:39:52.956Z"
   },
   {
    "duration": 9,
    "start_time": "2022-08-15T15:40:04.236Z"
   },
   {
    "duration": 12,
    "start_time": "2022-08-15T15:40:08.787Z"
   },
   {
    "duration": 9,
    "start_time": "2022-08-15T15:40:46.451Z"
   },
   {
    "duration": 1255,
    "start_time": "2022-08-15T18:11:06.587Z"
   },
   {
    "duration": 284,
    "start_time": "2022-08-15T18:11:07.845Z"
   },
   {
    "duration": 5,
    "start_time": "2022-08-15T18:11:08.131Z"
   },
   {
    "duration": 39,
    "start_time": "2022-08-15T18:11:08.137Z"
   },
   {
    "duration": 3,
    "start_time": "2022-08-15T18:11:08.177Z"
   },
   {
    "duration": 33,
    "start_time": "2022-08-15T18:11:08.181Z"
   },
   {
    "duration": 12,
    "start_time": "2022-08-15T18:11:08.215Z"
   },
   {
    "duration": 25,
    "start_time": "2022-08-15T18:11:08.228Z"
   },
   {
    "duration": 10,
    "start_time": "2022-08-15T18:11:08.255Z"
   },
   {
    "duration": 8,
    "start_time": "2022-08-15T18:11:08.266Z"
   },
   {
    "duration": 36,
    "start_time": "2022-08-15T18:11:08.275Z"
   },
   {
    "duration": 10,
    "start_time": "2022-08-15T18:11:08.312Z"
   },
   {
    "duration": 423,
    "start_time": "2022-08-15T18:11:08.324Z"
   },
   {
    "duration": 7,
    "start_time": "2022-08-15T18:11:08.749Z"
   },
   {
    "duration": 17,
    "start_time": "2022-08-15T18:11:08.757Z"
   },
   {
    "duration": 51,
    "start_time": "2022-08-15T18:11:08.775Z"
   },
   {
    "duration": 9,
    "start_time": "2022-08-15T18:11:08.827Z"
   },
   {
    "duration": 21,
    "start_time": "2022-08-15T18:11:08.838Z"
   },
   {
    "duration": 11,
    "start_time": "2022-08-15T18:11:08.861Z"
   },
   {
    "duration": 13,
    "start_time": "2022-08-15T18:11:08.873Z"
   },
   {
    "duration": 390,
    "start_time": "2022-08-15T18:11:08.887Z"
   },
   {
    "duration": 6,
    "start_time": "2022-08-15T18:11:09.278Z"
   },
   {
    "duration": 16,
    "start_time": "2022-08-15T18:11:09.285Z"
   },
   {
    "duration": 204,
    "start_time": "2022-08-15T18:11:09.302Z"
   },
   {
    "duration": 0,
    "start_time": "2022-08-15T18:11:09.508Z"
   },
   {
    "duration": 0,
    "start_time": "2022-08-15T18:11:09.509Z"
   },
   {
    "duration": 0,
    "start_time": "2022-08-15T18:11:09.510Z"
   },
   {
    "duration": 0,
    "start_time": "2022-08-15T18:11:09.511Z"
   },
   {
    "duration": 0,
    "start_time": "2022-08-15T18:11:09.512Z"
   },
   {
    "duration": 0,
    "start_time": "2022-08-15T18:11:09.513Z"
   },
   {
    "duration": 0,
    "start_time": "2022-08-15T18:11:09.514Z"
   },
   {
    "duration": 0,
    "start_time": "2022-08-15T18:11:09.515Z"
   },
   {
    "duration": 10,
    "start_time": "2022-08-15T19:17:53.079Z"
   },
   {
    "duration": 25,
    "start_time": "2022-08-15T19:18:25.255Z"
   },
   {
    "duration": 19,
    "start_time": "2022-08-15T19:18:39.217Z"
   },
   {
    "duration": 12,
    "start_time": "2022-08-15T19:21:41.042Z"
   },
   {
    "duration": 12,
    "start_time": "2022-08-15T19:21:46.722Z"
   },
   {
    "duration": 12,
    "start_time": "2022-08-15T19:21:49.503Z"
   },
   {
    "duration": 12,
    "start_time": "2022-08-15T19:26:32.608Z"
   },
   {
    "duration": 20,
    "start_time": "2022-08-15T19:26:43.450Z"
   },
   {
    "duration": 12,
    "start_time": "2022-08-15T19:27:01.251Z"
   },
   {
    "duration": 20,
    "start_time": "2022-08-15T19:27:14.322Z"
   },
   {
    "duration": 15,
    "start_time": "2022-08-15T19:27:22.020Z"
   },
   {
    "duration": 11,
    "start_time": "2022-08-15T19:28:23.838Z"
   },
   {
    "duration": 6,
    "start_time": "2022-08-15T19:29:03.830Z"
   },
   {
    "duration": 5,
    "start_time": "2022-08-15T19:29:57.517Z"
   },
   {
    "duration": 6,
    "start_time": "2022-08-15T19:30:00.213Z"
   },
   {
    "duration": 12,
    "start_time": "2022-08-15T19:30:32.413Z"
   },
   {
    "duration": 7,
    "start_time": "2022-08-15T19:30:36.402Z"
   },
   {
    "duration": 7,
    "start_time": "2022-08-15T19:30:41.022Z"
   },
   {
    "duration": 17,
    "start_time": "2022-08-15T19:31:20.020Z"
   },
   {
    "duration": 13,
    "start_time": "2022-08-15T19:33:22.718Z"
   },
   {
    "duration": 15,
    "start_time": "2022-08-15T19:35:57.990Z"
   },
   {
    "duration": 9,
    "start_time": "2022-08-15T19:36:24.600Z"
   },
   {
    "duration": 23,
    "start_time": "2022-08-15T19:36:47.572Z"
   },
   {
    "duration": 25,
    "start_time": "2022-08-15T19:37:00.549Z"
   },
   {
    "duration": 22,
    "start_time": "2022-08-15T19:37:16.882Z"
   },
   {
    "duration": 54,
    "start_time": "2022-08-15T19:40:43.498Z"
   },
   {
    "duration": 149,
    "start_time": "2022-08-15T19:45:52.830Z"
   },
   {
    "duration": 3,
    "start_time": "2022-08-15T19:50:28.183Z"
   },
   {
    "duration": 249,
    "start_time": "2022-08-15T19:51:04.244Z"
   },
   {
    "duration": 930,
    "start_time": "2022-08-15T19:51:40.000Z"
   },
   {
    "duration": 3,
    "start_time": "2022-08-15T19:52:07.454Z"
   },
   {
    "duration": 1201,
    "start_time": "2022-08-15T19:52:09.675Z"
   },
   {
    "duration": 3,
    "start_time": "2022-08-15T19:57:30.015Z"
   },
   {
    "duration": 194,
    "start_time": "2022-08-15T19:57:33.098Z"
   },
   {
    "duration": 18,
    "start_time": "2022-08-15T19:57:55.985Z"
   },
   {
    "duration": 3,
    "start_time": "2022-08-15T19:58:05.808Z"
   },
   {
    "duration": 22,
    "start_time": "2022-08-15T19:58:08.303Z"
   },
   {
    "duration": 2,
    "start_time": "2022-08-15T19:58:26.148Z"
   },
   {
    "duration": 17,
    "start_time": "2022-08-15T19:58:28.744Z"
   },
   {
    "duration": 19,
    "start_time": "2022-08-15T19:59:22.279Z"
   },
   {
    "duration": 16,
    "start_time": "2022-08-15T19:59:38.244Z"
   },
   {
    "duration": 22,
    "start_time": "2022-08-15T19:59:43.223Z"
   },
   {
    "duration": 28,
    "start_time": "2022-08-15T20:00:23.354Z"
   },
   {
    "duration": 34,
    "start_time": "2022-08-15T20:00:34.217Z"
   },
   {
    "duration": 26,
    "start_time": "2022-08-15T20:00:56.909Z"
   },
   {
    "duration": 16,
    "start_time": "2022-08-15T20:01:29.773Z"
   },
   {
    "duration": 11,
    "start_time": "2022-08-15T20:09:56.224Z"
   },
   {
    "duration": 11,
    "start_time": "2022-08-15T20:10:00.147Z"
   },
   {
    "duration": 10,
    "start_time": "2022-08-15T20:10:08.284Z"
   },
   {
    "duration": 8,
    "start_time": "2022-08-15T20:10:47.986Z"
   },
   {
    "duration": 8,
    "start_time": "2022-08-15T20:10:59.663Z"
   },
   {
    "duration": 21,
    "start_time": "2022-08-15T20:13:39.116Z"
   },
   {
    "duration": 15,
    "start_time": "2022-08-15T20:13:54.733Z"
   },
   {
    "duration": 12,
    "start_time": "2022-08-15T20:14:03.510Z"
   },
   {
    "duration": 1147,
    "start_time": "2022-08-15T20:14:29.485Z"
   },
   {
    "duration": 66,
    "start_time": "2022-08-15T20:14:30.633Z"
   },
   {
    "duration": 4,
    "start_time": "2022-08-15T20:14:30.700Z"
   },
   {
    "duration": 47,
    "start_time": "2022-08-15T20:14:30.705Z"
   },
   {
    "duration": 2,
    "start_time": "2022-08-15T20:14:30.753Z"
   },
   {
    "duration": 27,
    "start_time": "2022-08-15T20:14:30.756Z"
   },
   {
    "duration": 11,
    "start_time": "2022-08-15T20:14:30.785Z"
   },
   {
    "duration": 32,
    "start_time": "2022-08-15T20:14:30.798Z"
   },
   {
    "duration": 9,
    "start_time": "2022-08-15T20:14:30.831Z"
   },
   {
    "duration": 25,
    "start_time": "2022-08-15T20:14:30.842Z"
   },
   {
    "duration": 30,
    "start_time": "2022-08-15T20:14:30.868Z"
   },
   {
    "duration": 15,
    "start_time": "2022-08-15T20:14:30.900Z"
   },
   {
    "duration": 432,
    "start_time": "2022-08-15T20:14:30.916Z"
   },
   {
    "duration": 8,
    "start_time": "2022-08-15T20:14:31.349Z"
   },
   {
    "duration": 18,
    "start_time": "2022-08-15T20:14:31.358Z"
   },
   {
    "duration": 36,
    "start_time": "2022-08-15T20:14:31.377Z"
   },
   {
    "duration": 2,
    "start_time": "2022-08-15T20:14:31.415Z"
   },
   {
    "duration": 28,
    "start_time": "2022-08-15T20:14:31.419Z"
   },
   {
    "duration": 12,
    "start_time": "2022-08-15T20:14:31.448Z"
   },
   {
    "duration": 36,
    "start_time": "2022-08-15T20:14:31.461Z"
   },
   {
    "duration": 27,
    "start_time": "2022-08-15T20:14:31.498Z"
   },
   {
    "duration": 11,
    "start_time": "2022-08-15T20:14:31.526Z"
   },
   {
    "duration": 11,
    "start_time": "2022-08-15T20:14:31.538Z"
   },
   {
    "duration": 368,
    "start_time": "2022-08-15T20:14:31.551Z"
   },
   {
    "duration": 7,
    "start_time": "2022-08-15T20:14:31.921Z"
   },
   {
    "duration": 18,
    "start_time": "2022-08-15T20:14:31.929Z"
   },
   {
    "duration": 254,
    "start_time": "2022-08-15T20:14:31.949Z"
   },
   {
    "duration": 0,
    "start_time": "2022-08-15T20:14:32.204Z"
   },
   {
    "duration": 0,
    "start_time": "2022-08-15T20:14:32.205Z"
   },
   {
    "duration": 0,
    "start_time": "2022-08-15T20:14:32.206Z"
   },
   {
    "duration": 0,
    "start_time": "2022-08-15T20:14:32.207Z"
   },
   {
    "duration": 0,
    "start_time": "2022-08-15T20:14:32.208Z"
   },
   {
    "duration": 0,
    "start_time": "2022-08-15T20:14:32.209Z"
   },
   {
    "duration": 0,
    "start_time": "2022-08-15T20:14:32.210Z"
   },
   {
    "duration": 0,
    "start_time": "2022-08-15T20:14:32.211Z"
   },
   {
    "duration": 11,
    "start_time": "2022-08-15T20:15:52.414Z"
   },
   {
    "duration": 9,
    "start_time": "2022-08-15T20:16:00.036Z"
   },
   {
    "duration": 11,
    "start_time": "2022-08-15T20:16:04.435Z"
   },
   {
    "duration": 20,
    "start_time": "2022-08-15T20:19:25.946Z"
   },
   {
    "duration": 17,
    "start_time": "2022-08-15T20:19:30.158Z"
   },
   {
    "duration": 19,
    "start_time": "2022-08-15T20:20:10.321Z"
   },
   {
    "duration": 17,
    "start_time": "2022-08-15T20:20:31.274Z"
   },
   {
    "duration": 17,
    "start_time": "2022-08-15T20:20:41.048Z"
   },
   {
    "duration": 16,
    "start_time": "2022-08-15T20:20:51.639Z"
   },
   {
    "duration": 16,
    "start_time": "2022-08-15T20:21:27.302Z"
   },
   {
    "duration": 21,
    "start_time": "2022-08-15T20:21:55.255Z"
   },
   {
    "duration": 47,
    "start_time": "2022-08-15T20:24:54.745Z"
   },
   {
    "duration": 41,
    "start_time": "2022-08-15T20:25:07.177Z"
   },
   {
    "duration": 3,
    "start_time": "2022-08-15T20:26:47.044Z"
   },
   {
    "duration": 18,
    "start_time": "2022-08-15T20:26:50.913Z"
   },
   {
    "duration": 14,
    "start_time": "2022-08-15T20:34:59.177Z"
   },
   {
    "duration": 11,
    "start_time": "2022-08-15T20:35:08.432Z"
   },
   {
    "duration": 7,
    "start_time": "2022-08-15T20:35:35.321Z"
   },
   {
    "duration": 14,
    "start_time": "2022-08-15T20:35:36.082Z"
   },
   {
    "duration": 17,
    "start_time": "2022-08-15T20:35:48.459Z"
   },
   {
    "duration": 13,
    "start_time": "2022-08-15T20:35:51.858Z"
   },
   {
    "duration": 6,
    "start_time": "2022-08-15T20:35:57.358Z"
   },
   {
    "duration": 12,
    "start_time": "2022-08-15T20:36:00.084Z"
   },
   {
    "duration": 1414,
    "start_time": "2022-08-16T11:01:52.225Z"
   },
   {
    "duration": 268,
    "start_time": "2022-08-16T11:01:53.641Z"
   },
   {
    "duration": 6,
    "start_time": "2022-08-16T11:01:53.911Z"
   },
   {
    "duration": 53,
    "start_time": "2022-08-16T11:01:53.919Z"
   },
   {
    "duration": 3,
    "start_time": "2022-08-16T11:01:53.974Z"
   },
   {
    "duration": 31,
    "start_time": "2022-08-16T11:01:53.979Z"
   },
   {
    "duration": 14,
    "start_time": "2022-08-16T11:01:54.012Z"
   },
   {
    "duration": 29,
    "start_time": "2022-08-16T11:01:54.028Z"
   },
   {
    "duration": 11,
    "start_time": "2022-08-16T11:01:54.059Z"
   },
   {
    "duration": 8,
    "start_time": "2022-08-16T11:01:54.100Z"
   },
   {
    "duration": 16,
    "start_time": "2022-08-16T11:01:54.109Z"
   },
   {
    "duration": 9,
    "start_time": "2022-08-16T11:01:54.127Z"
   },
   {
    "duration": 560,
    "start_time": "2022-08-16T11:01:54.138Z"
   },
   {
    "duration": 8,
    "start_time": "2022-08-16T11:01:54.700Z"
   },
   {
    "duration": 24,
    "start_time": "2022-08-16T11:01:54.710Z"
   },
   {
    "duration": 49,
    "start_time": "2022-08-16T11:01:54.735Z"
   },
   {
    "duration": 3,
    "start_time": "2022-08-16T11:01:54.786Z"
   },
   {
    "duration": 23,
    "start_time": "2022-08-16T11:01:54.790Z"
   },
   {
    "duration": 47,
    "start_time": "2022-08-16T11:01:54.815Z"
   },
   {
    "duration": 41,
    "start_time": "2022-08-16T11:01:54.864Z"
   },
   {
    "duration": 18,
    "start_time": "2022-08-16T11:01:54.906Z"
   },
   {
    "duration": 41,
    "start_time": "2022-08-16T11:01:54.927Z"
   },
   {
    "duration": 20,
    "start_time": "2022-08-16T11:01:54.970Z"
   },
   {
    "duration": 16,
    "start_time": "2022-08-16T11:01:54.992Z"
   },
   {
    "duration": 14,
    "start_time": "2022-08-16T11:01:55.010Z"
   },
   {
    "duration": 13,
    "start_time": "2022-08-16T11:01:55.026Z"
   },
   {
    "duration": 459,
    "start_time": "2022-08-16T11:01:55.040Z"
   },
   {
    "duration": 9,
    "start_time": "2022-08-16T11:01:55.503Z"
   },
   {
    "duration": 17,
    "start_time": "2022-08-16T11:01:55.514Z"
   },
   {
    "duration": 313,
    "start_time": "2022-08-16T11:01:55.532Z"
   },
   {
    "duration": 0,
    "start_time": "2022-08-16T11:01:55.847Z"
   },
   {
    "duration": 0,
    "start_time": "2022-08-16T11:01:55.849Z"
   },
   {
    "duration": 0,
    "start_time": "2022-08-16T11:01:55.850Z"
   },
   {
    "duration": 0,
    "start_time": "2022-08-16T11:01:55.851Z"
   },
   {
    "duration": 0,
    "start_time": "2022-08-16T11:01:55.853Z"
   },
   {
    "duration": 0,
    "start_time": "2022-08-16T11:01:55.854Z"
   },
   {
    "duration": 0,
    "start_time": "2022-08-16T11:01:55.855Z"
   },
   {
    "duration": 0,
    "start_time": "2022-08-16T11:01:55.857Z"
   },
   {
    "duration": 30,
    "start_time": "2022-08-16T11:04:20.915Z"
   },
   {
    "duration": 12,
    "start_time": "2022-08-16T11:05:15.837Z"
   },
   {
    "duration": 9,
    "start_time": "2022-08-16T11:05:28.460Z"
   },
   {
    "duration": 52,
    "start_time": "2022-08-16T11:05:31.887Z"
   },
   {
    "duration": 15,
    "start_time": "2022-08-16T11:07:25.038Z"
   },
   {
    "duration": 91,
    "start_time": "2022-08-16T11:07:38.263Z"
   },
   {
    "duration": 93,
    "start_time": "2022-08-16T11:07:50.117Z"
   },
   {
    "duration": 84,
    "start_time": "2022-08-16T11:08:21.389Z"
   },
   {
    "duration": 13,
    "start_time": "2022-08-16T11:08:40.446Z"
   },
   {
    "duration": 24,
    "start_time": "2022-08-16T11:08:44.884Z"
   },
   {
    "duration": 19,
    "start_time": "2022-08-16T11:08:50.564Z"
   },
   {
    "duration": 93,
    "start_time": "2022-08-16T11:08:59.208Z"
   },
   {
    "duration": 91,
    "start_time": "2022-08-16T11:09:11.829Z"
   },
   {
    "duration": 21,
    "start_time": "2022-08-16T11:10:11.679Z"
   },
   {
    "duration": 97,
    "start_time": "2022-08-16T11:10:29.008Z"
   },
   {
    "duration": 130,
    "start_time": "2022-08-16T11:10:52.593Z"
   },
   {
    "duration": 148,
    "start_time": "2022-08-16T11:12:19.153Z"
   },
   {
    "duration": 3,
    "start_time": "2022-08-16T11:14:15.597Z"
   },
   {
    "duration": 16,
    "start_time": "2022-08-16T11:16:22.767Z"
   },
   {
    "duration": 20,
    "start_time": "2022-08-16T11:21:47.545Z"
   },
   {
    "duration": 21,
    "start_time": "2022-08-16T11:22:12.234Z"
   },
   {
    "duration": 54,
    "start_time": "2022-08-16T11:24:07.162Z"
   },
   {
    "duration": 21,
    "start_time": "2022-08-16T11:24:10.842Z"
   },
   {
    "duration": 32,
    "start_time": "2022-08-16T11:25:19.704Z"
   },
   {
    "duration": 41,
    "start_time": "2022-08-16T11:25:58.016Z"
   },
   {
    "duration": 24,
    "start_time": "2022-08-16T11:26:45.229Z"
   },
   {
    "duration": 5,
    "start_time": "2022-08-16T11:57:13.994Z"
   },
   {
    "duration": 4,
    "start_time": "2022-08-16T11:57:41.688Z"
   },
   {
    "duration": 23,
    "start_time": "2022-08-16T11:58:21.138Z"
   },
   {
    "duration": 5,
    "start_time": "2022-08-16T11:58:35.065Z"
   },
   {
    "duration": 28,
    "start_time": "2022-08-16T11:58:35.842Z"
   },
   {
    "duration": 3,
    "start_time": "2022-08-16T11:58:50.524Z"
   },
   {
    "duration": 21,
    "start_time": "2022-08-16T11:58:52.065Z"
   },
   {
    "duration": 4,
    "start_time": "2022-08-16T12:00:06.153Z"
   },
   {
    "duration": 21,
    "start_time": "2022-08-16T12:00:08.266Z"
   },
   {
    "duration": 4,
    "start_time": "2022-08-16T12:03:34.469Z"
   },
   {
    "duration": 25,
    "start_time": "2022-08-16T12:03:35.097Z"
   },
   {
    "duration": 4,
    "start_time": "2022-08-16T12:04:21.162Z"
   },
   {
    "duration": 22,
    "start_time": "2022-08-16T12:04:21.969Z"
   },
   {
    "duration": 7,
    "start_time": "2022-08-16T12:39:25.140Z"
   },
   {
    "duration": 32,
    "start_time": "2022-08-16T12:39:25.898Z"
   },
   {
    "duration": 3,
    "start_time": "2022-08-16T12:56:15.701Z"
   },
   {
    "duration": 28,
    "start_time": "2022-08-16T12:56:16.713Z"
   },
   {
    "duration": 4,
    "start_time": "2022-08-16T12:56:40.015Z"
   },
   {
    "duration": 34,
    "start_time": "2022-08-16T12:56:40.579Z"
   },
   {
    "duration": 3,
    "start_time": "2022-08-16T12:58:27.506Z"
   },
   {
    "duration": 20,
    "start_time": "2022-08-16T12:58:28.210Z"
   },
   {
    "duration": 4,
    "start_time": "2022-08-16T12:58:43.490Z"
   },
   {
    "duration": 3,
    "start_time": "2022-08-16T12:58:51.778Z"
   },
   {
    "duration": 30,
    "start_time": "2022-08-16T12:58:52.538Z"
   },
   {
    "duration": 2,
    "start_time": "2022-08-16T13:00:01.100Z"
   },
   {
    "duration": 19,
    "start_time": "2022-08-16T13:01:44.017Z"
   },
   {
    "duration": 18,
    "start_time": "2022-08-16T13:06:54.983Z"
   },
   {
    "duration": 18,
    "start_time": "2022-08-16T13:07:09.589Z"
   },
   {
    "duration": 12,
    "start_time": "2022-08-16T13:07:18.932Z"
   },
   {
    "duration": 13,
    "start_time": "2022-08-16T13:09:43.091Z"
   },
   {
    "duration": 17,
    "start_time": "2022-08-16T13:18:37.822Z"
   },
   {
    "duration": 17,
    "start_time": "2022-08-16T13:18:38.949Z"
   },
   {
    "duration": 3,
    "start_time": "2022-08-16T13:21:02.340Z"
   },
   {
    "duration": 23,
    "start_time": "2022-08-16T13:21:04.924Z"
   },
   {
    "duration": 3,
    "start_time": "2022-08-16T13:23:06.719Z"
   },
   {
    "duration": 12,
    "start_time": "2022-08-16T13:23:14.618Z"
   },
   {
    "duration": 14,
    "start_time": "2022-08-16T13:23:23.966Z"
   },
   {
    "duration": 10,
    "start_time": "2022-08-16T13:24:46.588Z"
   },
   {
    "duration": 3,
    "start_time": "2022-08-16T13:26:02.036Z"
   },
   {
    "duration": 2,
    "start_time": "2022-08-16T13:26:02.555Z"
   },
   {
    "duration": 19,
    "start_time": "2022-08-16T13:26:05.740Z"
   },
   {
    "duration": 3,
    "start_time": "2022-08-16T13:26:26.409Z"
   },
   {
    "duration": 19,
    "start_time": "2022-08-16T13:26:27.179Z"
   },
   {
    "duration": 86,
    "start_time": "2022-08-16T13:26:36.171Z"
   },
   {
    "duration": 19,
    "start_time": "2022-08-16T13:26:36.867Z"
   },
   {
    "duration": 13,
    "start_time": "2022-08-16T13:31:29.283Z"
   },
   {
    "duration": 20,
    "start_time": "2022-08-16T13:33:54.226Z"
   },
   {
    "duration": 4,
    "start_time": "2022-08-16T13:33:56.202Z"
   },
   {
    "duration": 20,
    "start_time": "2022-08-16T13:33:57.616Z"
   },
   {
    "duration": 1156,
    "start_time": "2022-08-16T14:17:58.251Z"
   },
   {
    "duration": 71,
    "start_time": "2022-08-16T14:17:59.409Z"
   },
   {
    "duration": 5,
    "start_time": "2022-08-16T14:17:59.481Z"
   },
   {
    "duration": 42,
    "start_time": "2022-08-16T14:17:59.488Z"
   },
   {
    "duration": 3,
    "start_time": "2022-08-16T14:17:59.532Z"
   },
   {
    "duration": 20,
    "start_time": "2022-08-16T14:17:59.537Z"
   },
   {
    "duration": 12,
    "start_time": "2022-08-16T14:17:59.559Z"
   },
   {
    "duration": 49,
    "start_time": "2022-08-16T14:17:59.572Z"
   },
   {
    "duration": 11,
    "start_time": "2022-08-16T14:17:59.622Z"
   },
   {
    "duration": 9,
    "start_time": "2022-08-16T14:17:59.635Z"
   },
   {
    "duration": 17,
    "start_time": "2022-08-16T14:17:59.646Z"
   },
   {
    "duration": 35,
    "start_time": "2022-08-16T14:17:59.664Z"
   },
   {
    "duration": 478,
    "start_time": "2022-08-16T14:17:59.701Z"
   },
   {
    "duration": 9,
    "start_time": "2022-08-16T14:18:00.180Z"
   },
   {
    "duration": 25,
    "start_time": "2022-08-16T14:18:00.199Z"
   },
   {
    "duration": 64,
    "start_time": "2022-08-16T14:18:00.226Z"
   },
   {
    "duration": 22,
    "start_time": "2022-08-16T14:18:00.291Z"
   },
   {
    "duration": 42,
    "start_time": "2022-08-16T14:18:00.314Z"
   },
   {
    "duration": 20,
    "start_time": "2022-08-16T14:18:00.399Z"
   },
   {
    "duration": 19,
    "start_time": "2022-08-16T14:18:00.421Z"
   },
   {
    "duration": 283,
    "start_time": "2022-08-16T14:18:00.442Z"
   },
   {
    "duration": 0,
    "start_time": "2022-08-16T14:18:00.727Z"
   },
   {
    "duration": 0,
    "start_time": "2022-08-16T14:18:00.728Z"
   },
   {
    "duration": 0,
    "start_time": "2022-08-16T14:18:00.729Z"
   },
   {
    "duration": 0,
    "start_time": "2022-08-16T14:18:00.730Z"
   },
   {
    "duration": 0,
    "start_time": "2022-08-16T14:18:00.731Z"
   },
   {
    "duration": 0,
    "start_time": "2022-08-16T14:18:00.732Z"
   },
   {
    "duration": 1,
    "start_time": "2022-08-16T14:18:00.733Z"
   },
   {
    "duration": 0,
    "start_time": "2022-08-16T14:18:00.735Z"
   },
   {
    "duration": 0,
    "start_time": "2022-08-16T14:18:00.737Z"
   },
   {
    "duration": 0,
    "start_time": "2022-08-16T14:18:00.737Z"
   },
   {
    "duration": 0,
    "start_time": "2022-08-16T14:18:00.738Z"
   },
   {
    "duration": 0,
    "start_time": "2022-08-16T14:18:00.739Z"
   },
   {
    "duration": 0,
    "start_time": "2022-08-16T14:18:00.798Z"
   },
   {
    "duration": 0,
    "start_time": "2022-08-16T14:18:00.799Z"
   },
   {
    "duration": 0,
    "start_time": "2022-08-16T14:18:00.801Z"
   },
   {
    "duration": 0,
    "start_time": "2022-08-16T14:18:00.801Z"
   },
   {
    "duration": 3,
    "start_time": "2022-08-16T14:18:18.481Z"
   },
   {
    "duration": 17,
    "start_time": "2022-08-16T14:18:19.091Z"
   },
   {
    "duration": 1174,
    "start_time": "2022-08-16T14:23:53.539Z"
   },
   {
    "duration": 71,
    "start_time": "2022-08-16T14:23:54.715Z"
   },
   {
    "duration": 5,
    "start_time": "2022-08-16T14:23:54.787Z"
   },
   {
    "duration": 50,
    "start_time": "2022-08-16T14:23:54.794Z"
   },
   {
    "duration": 3,
    "start_time": "2022-08-16T14:23:54.846Z"
   },
   {
    "duration": 23,
    "start_time": "2022-08-16T14:23:54.850Z"
   },
   {
    "duration": 31,
    "start_time": "2022-08-16T14:23:54.876Z"
   },
   {
    "duration": 32,
    "start_time": "2022-08-16T14:23:54.909Z"
   },
   {
    "duration": 14,
    "start_time": "2022-08-16T14:23:54.942Z"
   },
   {
    "duration": 9,
    "start_time": "2022-08-16T14:23:54.959Z"
   },
   {
    "duration": 47,
    "start_time": "2022-08-16T14:23:54.970Z"
   },
   {
    "duration": 11,
    "start_time": "2022-08-16T14:23:55.019Z"
   },
   {
    "duration": 472,
    "start_time": "2022-08-16T14:23:55.031Z"
   },
   {
    "duration": 8,
    "start_time": "2022-08-16T14:23:55.505Z"
   },
   {
    "duration": 15,
    "start_time": "2022-08-16T14:23:55.514Z"
   },
   {
    "duration": 46,
    "start_time": "2022-08-16T14:23:55.531Z"
   },
   {
    "duration": 32,
    "start_time": "2022-08-16T14:23:55.579Z"
   },
   {
    "duration": 24,
    "start_time": "2022-08-16T14:23:55.612Z"
   },
   {
    "duration": 12,
    "start_time": "2022-08-16T14:23:55.638Z"
   },
   {
    "duration": 8,
    "start_time": "2022-08-16T14:23:55.652Z"
   },
   {
    "duration": 4,
    "start_time": "2022-08-16T14:23:55.662Z"
   },
   {
    "duration": 39,
    "start_time": "2022-08-16T14:23:55.667Z"
   },
   {
    "duration": 6,
    "start_time": "2022-08-16T14:23:55.707Z"
   },
   {
    "duration": 11,
    "start_time": "2022-08-16T14:23:55.714Z"
   },
   {
    "duration": 436,
    "start_time": "2022-08-16T14:23:55.726Z"
   },
   {
    "duration": 6,
    "start_time": "2022-08-16T14:23:56.163Z"
   },
   {
    "duration": 16,
    "start_time": "2022-08-16T14:23:56.171Z"
   },
   {
    "duration": 18,
    "start_time": "2022-08-16T14:23:56.189Z"
   },
   {
    "duration": 195,
    "start_time": "2022-08-16T14:23:56.209Z"
   },
   {
    "duration": 19,
    "start_time": "2022-08-16T14:23:56.406Z"
   },
   {
    "duration": 8,
    "start_time": "2022-08-16T14:23:56.427Z"
   },
   {
    "duration": 91,
    "start_time": "2022-08-16T14:23:56.436Z"
   },
   {
    "duration": 23,
    "start_time": "2022-08-16T14:23:56.528Z"
   },
   {
    "duration": 12,
    "start_time": "2022-08-16T14:23:56.553Z"
   },
   {
    "duration": 92,
    "start_time": "2022-08-16T14:23:56.567Z"
   },
   {
    "duration": 8,
    "start_time": "2022-08-16T14:23:56.661Z"
   },
   {
    "duration": 67,
    "start_time": "2022-08-16T14:23:56.671Z"
   },
   {
    "duration": 7,
    "start_time": "2022-08-16T14:25:40.084Z"
   },
   {
    "duration": 6,
    "start_time": "2022-08-16T14:25:46.730Z"
   },
   {
    "duration": 8,
    "start_time": "2022-08-16T14:25:57.938Z"
   },
   {
    "duration": 4,
    "start_time": "2022-08-16T14:26:03.715Z"
   },
   {
    "duration": 7,
    "start_time": "2022-08-16T14:26:18.795Z"
   },
   {
    "duration": 7,
    "start_time": "2022-08-16T14:26:19.066Z"
   },
   {
    "duration": 114,
    "start_time": "2022-08-16T14:27:46.020Z"
   },
   {
    "duration": 87,
    "start_time": "2022-08-16T14:28:07.548Z"
   },
   {
    "duration": 1111,
    "start_time": "2022-08-16T14:32:24.002Z"
   },
   {
    "duration": 2,
    "start_time": "2022-08-16T15:07:13.862Z"
   },
   {
    "duration": 3,
    "start_time": "2022-08-16T15:17:01.629Z"
   },
   {
    "duration": 14,
    "start_time": "2022-08-16T15:18:32.219Z"
   },
   {
    "duration": 49,
    "start_time": "2022-08-16T15:19:23.638Z"
   },
   {
    "duration": 3,
    "start_time": "2022-08-16T15:19:27.330Z"
   },
   {
    "duration": 9,
    "start_time": "2022-08-16T15:19:38.167Z"
   },
   {
    "duration": 63,
    "start_time": "2022-08-16T15:19:46.821Z"
   },
   {
    "duration": 220,
    "start_time": "2022-08-16T15:19:48.366Z"
   },
   {
    "duration": 3,
    "start_time": "2022-08-16T15:20:13.030Z"
   },
   {
    "duration": 7720,
    "start_time": "2022-08-16T15:20:53.426Z"
   },
   {
    "duration": 7733,
    "start_time": "2022-08-16T15:21:03.820Z"
   },
   {
    "duration": 717,
    "start_time": "2022-08-16T15:22:10.113Z"
   },
   {
    "duration": 77,
    "start_time": "2022-08-16T15:22:40.672Z"
   },
   {
    "duration": 415,
    "start_time": "2022-08-16T15:22:48.254Z"
   },
   {
    "duration": 46,
    "start_time": "2022-08-16T15:31:59.286Z"
   },
   {
    "duration": 13,
    "start_time": "2022-08-16T15:33:24.607Z"
   },
   {
    "duration": 12,
    "start_time": "2022-08-16T15:33:28.612Z"
   },
   {
    "duration": 61,
    "start_time": "2022-08-16T15:34:30.678Z"
   },
   {
    "duration": 55,
    "start_time": "2022-08-16T15:34:37.614Z"
   },
   {
    "duration": 49,
    "start_time": "2022-08-16T15:34:45.742Z"
   },
   {
    "duration": 58,
    "start_time": "2022-08-16T15:34:50.715Z"
   },
   {
    "duration": 76,
    "start_time": "2022-08-16T15:35:14.454Z"
   },
   {
    "duration": 61,
    "start_time": "2022-08-16T15:35:25.742Z"
   },
   {
    "duration": 79,
    "start_time": "2022-08-16T15:37:50.559Z"
   },
   {
    "duration": 13,
    "start_time": "2022-08-16T15:40:07.221Z"
   },
   {
    "duration": 54,
    "start_time": "2022-08-16T18:43:55.782Z"
   },
   {
    "duration": 1553,
    "start_time": "2022-08-16T18:44:08.182Z"
   },
   {
    "duration": 263,
    "start_time": "2022-08-16T18:44:09.737Z"
   },
   {
    "duration": 13,
    "start_time": "2022-08-16T18:44:10.001Z"
   },
   {
    "duration": 52,
    "start_time": "2022-08-16T18:44:10.016Z"
   },
   {
    "duration": 3,
    "start_time": "2022-08-16T18:44:10.069Z"
   },
   {
    "duration": 33,
    "start_time": "2022-08-16T18:44:10.074Z"
   },
   {
    "duration": 15,
    "start_time": "2022-08-16T18:44:10.109Z"
   },
   {
    "duration": 35,
    "start_time": "2022-08-16T18:44:10.126Z"
   },
   {
    "duration": 13,
    "start_time": "2022-08-16T18:44:10.162Z"
   },
   {
    "duration": 20,
    "start_time": "2022-08-16T18:44:10.203Z"
   },
   {
    "duration": 23,
    "start_time": "2022-08-16T18:44:10.226Z"
   },
   {
    "duration": 13,
    "start_time": "2022-08-16T18:44:10.251Z"
   },
   {
    "duration": 620,
    "start_time": "2022-08-16T18:44:10.267Z"
   },
   {
    "duration": 26,
    "start_time": "2022-08-16T18:44:10.889Z"
   },
   {
    "duration": 13,
    "start_time": "2022-08-16T18:44:10.917Z"
   },
   {
    "duration": 48,
    "start_time": "2022-08-16T18:44:10.931Z"
   },
   {
    "duration": 36,
    "start_time": "2022-08-16T18:44:10.980Z"
   },
   {
    "duration": 24,
    "start_time": "2022-08-16T18:44:11.018Z"
   },
   {
    "duration": 13,
    "start_time": "2022-08-16T18:44:11.043Z"
   },
   {
    "duration": 4,
    "start_time": "2022-08-16T18:44:11.057Z"
   },
   {
    "duration": 7,
    "start_time": "2022-08-16T18:44:11.062Z"
   },
   {
    "duration": 12,
    "start_time": "2022-08-16T18:44:11.071Z"
   },
   {
    "duration": 32,
    "start_time": "2022-08-16T18:44:11.085Z"
   },
   {
    "duration": 19,
    "start_time": "2022-08-16T18:44:11.119Z"
   },
   {
    "duration": 10,
    "start_time": "2022-08-16T18:44:11.140Z"
   },
   {
    "duration": 521,
    "start_time": "2022-08-16T18:44:11.152Z"
   },
   {
    "duration": 8,
    "start_time": "2022-08-16T18:44:11.675Z"
   },
   {
    "duration": 43,
    "start_time": "2022-08-16T18:44:11.686Z"
   },
   {
    "duration": 19,
    "start_time": "2022-08-16T18:44:11.730Z"
   },
   {
    "duration": 164,
    "start_time": "2022-08-16T18:44:11.751Z"
   },
   {
    "duration": 23,
    "start_time": "2022-08-16T18:44:11.917Z"
   },
   {
    "duration": 9,
    "start_time": "2022-08-16T18:44:11.942Z"
   },
   {
    "duration": 105,
    "start_time": "2022-08-16T18:44:11.952Z"
   },
   {
    "duration": 26,
    "start_time": "2022-08-16T18:44:12.059Z"
   },
   {
    "duration": 32,
    "start_time": "2022-08-16T18:44:12.087Z"
   },
   {
    "duration": 91,
    "start_time": "2022-08-16T18:44:12.121Z"
   },
   {
    "duration": 11,
    "start_time": "2022-08-16T18:44:12.218Z"
   },
   {
    "duration": 58,
    "start_time": "2022-08-16T18:44:12.231Z"
   },
   {
    "duration": 27,
    "start_time": "2022-08-16T18:44:12.290Z"
   },
   {
    "duration": 14,
    "start_time": "2022-08-16T18:44:12.319Z"
   },
   {
    "duration": 55,
    "start_time": "2022-08-16T18:44:12.335Z"
   },
   {
    "duration": 13,
    "start_time": "2022-08-16T18:44:12.392Z"
   },
   {
    "duration": 834,
    "start_time": "2022-08-16T18:44:12.412Z"
   },
   {
    "duration": 31,
    "start_time": "2022-08-16T18:45:37.614Z"
   },
   {
    "duration": 1297,
    "start_time": "2022-08-16T18:45:57.455Z"
   },
   {
    "duration": 76,
    "start_time": "2022-08-16T18:45:58.755Z"
   },
   {
    "duration": 6,
    "start_time": "2022-08-16T18:45:58.834Z"
   },
   {
    "duration": 84,
    "start_time": "2022-08-16T18:45:58.843Z"
   },
   {
    "duration": 7,
    "start_time": "2022-08-16T18:45:58.929Z"
   },
   {
    "duration": 40,
    "start_time": "2022-08-16T18:45:58.938Z"
   },
   {
    "duration": 23,
    "start_time": "2022-08-16T18:45:58.981Z"
   },
   {
    "duration": 54,
    "start_time": "2022-08-16T18:45:59.006Z"
   },
   {
    "duration": 16,
    "start_time": "2022-08-16T18:45:59.062Z"
   },
   {
    "duration": 21,
    "start_time": "2022-08-16T18:45:59.080Z"
   },
   {
    "duration": 41,
    "start_time": "2022-08-16T18:45:59.104Z"
   },
   {
    "duration": 16,
    "start_time": "2022-08-16T18:45:59.154Z"
   },
   {
    "duration": 572,
    "start_time": "2022-08-16T18:45:59.173Z"
   },
   {
    "duration": 8,
    "start_time": "2022-08-16T18:45:59.746Z"
   },
   {
    "duration": 13,
    "start_time": "2022-08-16T18:45:59.756Z"
   },
   {
    "duration": 63,
    "start_time": "2022-08-16T18:45:59.771Z"
   },
   {
    "duration": 16,
    "start_time": "2022-08-16T18:45:59.836Z"
   },
   {
    "duration": 30,
    "start_time": "2022-08-16T18:45:59.854Z"
   },
   {
    "duration": 35,
    "start_time": "2022-08-16T18:45:59.886Z"
   },
   {
    "duration": 13,
    "start_time": "2022-08-16T18:45:59.923Z"
   },
   {
    "duration": 8,
    "start_time": "2022-08-16T18:45:59.938Z"
   },
   {
    "duration": 125,
    "start_time": "2022-08-16T18:45:59.947Z"
   },
   {
    "duration": 0,
    "start_time": "2022-08-16T18:46:00.074Z"
   },
   {
    "duration": 0,
    "start_time": "2022-08-16T18:46:00.078Z"
   },
   {
    "duration": 0,
    "start_time": "2022-08-16T18:46:00.079Z"
   },
   {
    "duration": 0,
    "start_time": "2022-08-16T18:46:00.080Z"
   },
   {
    "duration": 0,
    "start_time": "2022-08-16T18:46:00.082Z"
   },
   {
    "duration": 0,
    "start_time": "2022-08-16T18:46:00.083Z"
   },
   {
    "duration": 0,
    "start_time": "2022-08-16T18:46:00.085Z"
   },
   {
    "duration": 0,
    "start_time": "2022-08-16T18:46:00.086Z"
   },
   {
    "duration": 0,
    "start_time": "2022-08-16T18:46:00.087Z"
   },
   {
    "duration": 0,
    "start_time": "2022-08-16T18:46:00.088Z"
   },
   {
    "duration": 0,
    "start_time": "2022-08-16T18:46:00.108Z"
   },
   {
    "duration": 0,
    "start_time": "2022-08-16T18:46:00.111Z"
   },
   {
    "duration": 0,
    "start_time": "2022-08-16T18:46:00.112Z"
   },
   {
    "duration": 0,
    "start_time": "2022-08-16T18:46:00.112Z"
   },
   {
    "duration": 0,
    "start_time": "2022-08-16T18:46:00.116Z"
   },
   {
    "duration": 0,
    "start_time": "2022-08-16T18:46:00.116Z"
   },
   {
    "duration": 0,
    "start_time": "2022-08-16T18:46:00.117Z"
   },
   {
    "duration": 0,
    "start_time": "2022-08-16T18:46:00.119Z"
   },
   {
    "duration": 0,
    "start_time": "2022-08-16T18:46:00.120Z"
   },
   {
    "duration": 0,
    "start_time": "2022-08-16T18:46:00.121Z"
   },
   {
    "duration": 0,
    "start_time": "2022-08-16T18:46:00.122Z"
   },
   {
    "duration": 15,
    "start_time": "2022-08-16T18:50:55.846Z"
   },
   {
    "duration": 4,
    "start_time": "2022-08-16T18:51:10.392Z"
   },
   {
    "duration": 17,
    "start_time": "2022-08-16T18:51:12.612Z"
   },
   {
    "duration": 4,
    "start_time": "2022-08-16T18:55:44.377Z"
   },
   {
    "duration": 18,
    "start_time": "2022-08-16T18:55:45.246Z"
   },
   {
    "duration": 3,
    "start_time": "2022-08-16T18:56:03.535Z"
   },
   {
    "duration": 19,
    "start_time": "2022-08-16T18:56:05.980Z"
   },
   {
    "duration": 8,
    "start_time": "2022-08-16T18:56:32.765Z"
   },
   {
    "duration": 4,
    "start_time": "2022-08-16T18:56:38.178Z"
   },
   {
    "duration": 29,
    "start_time": "2022-08-16T18:56:38.184Z"
   },
   {
    "duration": 13,
    "start_time": "2022-08-16T18:57:41.901Z"
   },
   {
    "duration": 9,
    "start_time": "2022-08-16T19:00:31.848Z"
   },
   {
    "duration": 22,
    "start_time": "2022-08-16T19:00:32.234Z"
   },
   {
    "duration": 5,
    "start_time": "2022-08-16T19:00:52.213Z"
   },
   {
    "duration": 28,
    "start_time": "2022-08-16T19:00:52.830Z"
   },
   {
    "duration": 17,
    "start_time": "2022-08-16T19:05:46.773Z"
   },
   {
    "duration": 16,
    "start_time": "2022-08-16T19:06:02.677Z"
   },
   {
    "duration": 24,
    "start_time": "2022-08-16T19:06:12.882Z"
   },
   {
    "duration": 1322,
    "start_time": "2022-08-16T19:06:21.670Z"
   },
   {
    "duration": 70,
    "start_time": "2022-08-16T19:06:22.994Z"
   },
   {
    "duration": 5,
    "start_time": "2022-08-16T19:06:23.066Z"
   },
   {
    "duration": 49,
    "start_time": "2022-08-16T19:06:23.073Z"
   },
   {
    "duration": 4,
    "start_time": "2022-08-16T19:06:23.123Z"
   },
   {
    "duration": 24,
    "start_time": "2022-08-16T19:06:23.129Z"
   },
   {
    "duration": 13,
    "start_time": "2022-08-16T19:06:23.155Z"
   },
   {
    "duration": 59,
    "start_time": "2022-08-16T19:06:23.170Z"
   },
   {
    "duration": 13,
    "start_time": "2022-08-16T19:06:23.230Z"
   },
   {
    "duration": 10,
    "start_time": "2022-08-16T19:06:23.245Z"
   },
   {
    "duration": 54,
    "start_time": "2022-08-16T19:06:23.256Z"
   },
   {
    "duration": 18,
    "start_time": "2022-08-16T19:06:23.312Z"
   },
   {
    "duration": 783,
    "start_time": "2022-08-16T19:06:23.333Z"
   },
   {
    "duration": 9,
    "start_time": "2022-08-16T19:06:24.118Z"
   },
   {
    "duration": 10,
    "start_time": "2022-08-16T19:06:24.129Z"
   },
   {
    "duration": 98,
    "start_time": "2022-08-16T19:06:24.141Z"
   },
   {
    "duration": 72,
    "start_time": "2022-08-16T19:06:24.241Z"
   },
   {
    "duration": 28,
    "start_time": "2022-08-16T19:06:24.315Z"
   },
   {
    "duration": 86,
    "start_time": "2022-08-16T19:06:24.345Z"
   },
   {
    "duration": 72,
    "start_time": "2022-08-16T19:06:24.433Z"
   },
   {
    "duration": 9,
    "start_time": "2022-08-16T19:06:24.507Z"
   },
   {
    "duration": 219,
    "start_time": "2022-08-16T19:06:24.518Z"
   },
   {
    "duration": 0,
    "start_time": "2022-08-16T19:06:24.740Z"
   },
   {
    "duration": 0,
    "start_time": "2022-08-16T19:06:24.743Z"
   },
   {
    "duration": 0,
    "start_time": "2022-08-16T19:06:24.744Z"
   },
   {
    "duration": 0,
    "start_time": "2022-08-16T19:06:24.746Z"
   },
   {
    "duration": 0,
    "start_time": "2022-08-16T19:06:24.747Z"
   },
   {
    "duration": 0,
    "start_time": "2022-08-16T19:06:24.748Z"
   },
   {
    "duration": 0,
    "start_time": "2022-08-16T19:06:24.749Z"
   },
   {
    "duration": 0,
    "start_time": "2022-08-16T19:06:24.750Z"
   },
   {
    "duration": 0,
    "start_time": "2022-08-16T19:06:24.751Z"
   },
   {
    "duration": 0,
    "start_time": "2022-08-16T19:06:24.804Z"
   },
   {
    "duration": 0,
    "start_time": "2022-08-16T19:06:24.805Z"
   },
   {
    "duration": 0,
    "start_time": "2022-08-16T19:06:24.807Z"
   },
   {
    "duration": 0,
    "start_time": "2022-08-16T19:06:24.808Z"
   },
   {
    "duration": 0,
    "start_time": "2022-08-16T19:06:24.810Z"
   },
   {
    "duration": 0,
    "start_time": "2022-08-16T19:06:24.812Z"
   },
   {
    "duration": 0,
    "start_time": "2022-08-16T19:06:24.813Z"
   },
   {
    "duration": 0,
    "start_time": "2022-08-16T19:06:24.815Z"
   },
   {
    "duration": 0,
    "start_time": "2022-08-16T19:06:24.817Z"
   },
   {
    "duration": 0,
    "start_time": "2022-08-16T19:06:24.818Z"
   },
   {
    "duration": 0,
    "start_time": "2022-08-16T19:06:24.820Z"
   },
   {
    "duration": 0,
    "start_time": "2022-08-16T19:06:24.821Z"
   },
   {
    "duration": 2,
    "start_time": "2022-08-16T19:07:22.829Z"
   },
   {
    "duration": 19,
    "start_time": "2022-08-16T19:07:26.521Z"
   },
   {
    "duration": 23,
    "start_time": "2022-08-16T19:07:35.783Z"
   },
   {
    "duration": 4,
    "start_time": "2022-08-16T19:08:47.324Z"
   },
   {
    "duration": 4,
    "start_time": "2022-08-16T19:08:54.027Z"
   },
   {
    "duration": 1406,
    "start_time": "2022-08-16T19:09:06.085Z"
   },
   {
    "duration": 74,
    "start_time": "2022-08-16T19:09:07.493Z"
   },
   {
    "duration": 6,
    "start_time": "2022-08-16T19:09:07.569Z"
   },
   {
    "duration": 73,
    "start_time": "2022-08-16T19:09:07.577Z"
   },
   {
    "duration": 4,
    "start_time": "2022-08-16T19:09:07.653Z"
   },
   {
    "duration": 45,
    "start_time": "2022-08-16T19:09:07.660Z"
   },
   {
    "duration": 17,
    "start_time": "2022-08-16T19:09:07.708Z"
   },
   {
    "duration": 55,
    "start_time": "2022-08-16T19:09:07.727Z"
   },
   {
    "duration": 14,
    "start_time": "2022-08-16T19:09:07.784Z"
   },
   {
    "duration": 55,
    "start_time": "2022-08-16T19:09:07.800Z"
   },
   {
    "duration": 50,
    "start_time": "2022-08-16T19:09:07.858Z"
   },
   {
    "duration": 31,
    "start_time": "2022-08-16T19:09:07.911Z"
   },
   {
    "duration": 651,
    "start_time": "2022-08-16T19:09:07.944Z"
   },
   {
    "duration": 11,
    "start_time": "2022-08-16T19:09:08.604Z"
   },
   {
    "duration": 12,
    "start_time": "2022-08-16T19:09:08.617Z"
   },
   {
    "duration": 72,
    "start_time": "2022-08-16T19:09:08.631Z"
   },
   {
    "duration": 16,
    "start_time": "2022-08-16T19:09:08.705Z"
   },
   {
    "duration": 27,
    "start_time": "2022-08-16T19:09:08.723Z"
   },
   {
    "duration": 59,
    "start_time": "2022-08-16T19:09:08.752Z"
   },
   {
    "duration": 13,
    "start_time": "2022-08-16T19:09:08.813Z"
   },
   {
    "duration": 7,
    "start_time": "2022-08-16T19:09:08.828Z"
   },
   {
    "duration": 16,
    "start_time": "2022-08-16T19:09:08.837Z"
   },
   {
    "duration": 48,
    "start_time": "2022-08-16T19:09:08.856Z"
   },
   {
    "duration": 24,
    "start_time": "2022-08-16T19:09:08.907Z"
   },
   {
    "duration": 29,
    "start_time": "2022-08-16T19:09:08.936Z"
   },
   {
    "duration": 547,
    "start_time": "2022-08-16T19:09:08.968Z"
   },
   {
    "duration": 9,
    "start_time": "2022-08-16T19:09:09.517Z"
   },
   {
    "duration": 15,
    "start_time": "2022-08-16T19:09:09.530Z"
   },
   {
    "duration": 64,
    "start_time": "2022-08-16T19:09:09.547Z"
   },
   {
    "duration": 207,
    "start_time": "2022-08-16T19:09:09.613Z"
   },
   {
    "duration": 29,
    "start_time": "2022-08-16T19:09:09.822Z"
   },
   {
    "duration": 11,
    "start_time": "2022-08-16T19:09:09.853Z"
   },
   {
    "duration": 137,
    "start_time": "2022-08-16T19:09:09.866Z"
   },
   {
    "duration": 28,
    "start_time": "2022-08-16T19:09:10.004Z"
   },
   {
    "duration": 15,
    "start_time": "2022-08-16T19:09:10.034Z"
   },
   {
    "duration": 105,
    "start_time": "2022-08-16T19:09:10.051Z"
   },
   {
    "duration": 9,
    "start_time": "2022-08-16T19:09:10.157Z"
   },
   {
    "duration": 80,
    "start_time": "2022-08-16T19:09:10.168Z"
   },
   {
    "duration": 13,
    "start_time": "2022-08-16T19:09:10.250Z"
   },
   {
    "duration": 19,
    "start_time": "2022-08-16T19:09:10.265Z"
   },
   {
    "duration": 83,
    "start_time": "2022-08-16T19:09:10.286Z"
   },
   {
    "duration": 4,
    "start_time": "2022-08-16T19:09:10.372Z"
   },
   {
    "duration": 809,
    "start_time": "2022-08-16T19:09:10.378Z"
   },
   {
    "duration": 396,
    "start_time": "2022-08-16T19:17:02.671Z"
   },
   {
    "duration": 531,
    "start_time": "2022-08-16T19:17:06.109Z"
   },
   {
    "duration": 310,
    "start_time": "2022-08-16T19:17:13.212Z"
   },
   {
    "duration": 2,
    "start_time": "2022-08-16T19:17:33.749Z"
   },
   {
    "duration": 4,
    "start_time": "2022-08-16T19:17:37.993Z"
   },
   {
    "duration": 2,
    "start_time": "2022-08-16T19:18:49.222Z"
   },
   {
    "duration": 328,
    "start_time": "2022-08-16T19:19:06.583Z"
   },
   {
    "duration": 275,
    "start_time": "2022-08-16T19:19:10.739Z"
   },
   {
    "duration": 294,
    "start_time": "2022-08-16T19:19:23.778Z"
   },
   {
    "duration": 15,
    "start_time": "2022-08-16T19:19:28.965Z"
   },
   {
    "duration": 1828,
    "start_time": "2022-08-16T20:00:16.985Z"
   },
   {
    "duration": 1783,
    "start_time": "2022-08-16T20:01:00.957Z"
   },
   {
    "duration": 17,
    "start_time": "2022-08-16T20:01:10.670Z"
   },
   {
    "duration": 23,
    "start_time": "2022-08-16T20:02:58.591Z"
   },
   {
    "duration": 17,
    "start_time": "2022-08-16T20:05:09.785Z"
   },
   {
    "duration": 12,
    "start_time": "2022-08-16T20:10:43.340Z"
   },
   {
    "duration": 4,
    "start_time": "2022-08-16T20:11:03.558Z"
   },
   {
    "duration": 5,
    "start_time": "2022-08-16T20:11:08.666Z"
   },
   {
    "duration": 12,
    "start_time": "2022-08-16T20:11:16.236Z"
   },
   {
    "duration": 1344,
    "start_time": "2022-08-16T20:11:25.077Z"
   },
   {
    "duration": 72,
    "start_time": "2022-08-16T20:11:26.424Z"
   },
   {
    "duration": 5,
    "start_time": "2022-08-16T20:11:26.498Z"
   },
   {
    "duration": 45,
    "start_time": "2022-08-16T20:11:26.505Z"
   },
   {
    "duration": 3,
    "start_time": "2022-08-16T20:11:26.552Z"
   },
   {
    "duration": 48,
    "start_time": "2022-08-16T20:11:26.557Z"
   },
   {
    "duration": 15,
    "start_time": "2022-08-16T20:11:26.606Z"
   },
   {
    "duration": 34,
    "start_time": "2022-08-16T20:11:26.622Z"
   },
   {
    "duration": 12,
    "start_time": "2022-08-16T20:11:26.658Z"
   },
   {
    "duration": 11,
    "start_time": "2022-08-16T20:11:26.702Z"
   },
   {
    "duration": 22,
    "start_time": "2022-08-16T20:11:26.714Z"
   },
   {
    "duration": 17,
    "start_time": "2022-08-16T20:11:26.737Z"
   },
   {
    "duration": 618,
    "start_time": "2022-08-16T20:11:26.756Z"
   },
   {
    "duration": 11,
    "start_time": "2022-08-16T20:11:27.376Z"
   },
   {
    "duration": 22,
    "start_time": "2022-08-16T20:11:27.389Z"
   },
   {
    "duration": 49,
    "start_time": "2022-08-16T20:11:27.413Z"
   },
   {
    "duration": 38,
    "start_time": "2022-08-16T20:11:27.465Z"
   },
   {
    "duration": 36,
    "start_time": "2022-08-16T20:11:27.505Z"
   },
   {
    "duration": 30,
    "start_time": "2022-08-16T20:11:27.543Z"
   },
   {
    "duration": 12,
    "start_time": "2022-08-16T20:11:27.575Z"
   },
   {
    "duration": 3,
    "start_time": "2022-08-16T20:11:27.603Z"
   },
   {
    "duration": 6,
    "start_time": "2022-08-16T20:11:27.608Z"
   },
   {
    "duration": 23,
    "start_time": "2022-08-16T20:11:27.615Z"
   },
   {
    "duration": 8,
    "start_time": "2022-08-16T20:11:27.640Z"
   },
   {
    "duration": 10,
    "start_time": "2022-08-16T20:11:27.650Z"
   },
   {
    "duration": 492,
    "start_time": "2022-08-16T20:11:27.662Z"
   },
   {
    "duration": 8,
    "start_time": "2022-08-16T20:11:28.156Z"
   },
   {
    "duration": 13,
    "start_time": "2022-08-16T20:11:28.169Z"
   },
   {
    "duration": 32,
    "start_time": "2022-08-16T20:11:28.184Z"
   },
   {
    "duration": 150,
    "start_time": "2022-08-16T20:11:28.218Z"
   },
   {
    "duration": 37,
    "start_time": "2022-08-16T20:11:28.370Z"
   },
   {
    "duration": 10,
    "start_time": "2022-08-16T20:11:28.409Z"
   },
   {
    "duration": 92,
    "start_time": "2022-08-16T20:11:28.421Z"
   },
   {
    "duration": 26,
    "start_time": "2022-08-16T20:11:28.514Z"
   },
   {
    "duration": 14,
    "start_time": "2022-08-16T20:11:28.542Z"
   },
   {
    "duration": 96,
    "start_time": "2022-08-16T20:11:28.557Z"
   },
   {
    "duration": 8,
    "start_time": "2022-08-16T20:11:28.655Z"
   },
   {
    "duration": 66,
    "start_time": "2022-08-16T20:11:28.664Z"
   },
   {
    "duration": 10,
    "start_time": "2022-08-16T20:11:28.732Z"
   },
   {
    "duration": 10,
    "start_time": "2022-08-16T20:11:28.743Z"
   },
   {
    "duration": 1845,
    "start_time": "2022-08-16T20:11:28.755Z"
   },
   {
    "duration": 16,
    "start_time": "2022-08-16T20:11:30.602Z"
   },
   {
    "duration": 29,
    "start_time": "2022-08-16T20:11:30.620Z"
   },
   {
    "duration": 50,
    "start_time": "2022-08-16T20:11:30.651Z"
   },
   {
    "duration": 188,
    "start_time": "2022-08-16T20:11:30.703Z"
   },
   {
    "duration": 17,
    "start_time": "2022-08-16T20:12:39.433Z"
   },
   {
    "duration": 17,
    "start_time": "2022-08-16T20:13:33.730Z"
   },
   {
    "duration": 51,
    "start_time": "2022-08-16T20:18:37.592Z"
   },
   {
    "duration": 33,
    "start_time": "2022-08-16T20:18:56.623Z"
   },
   {
    "duration": 13,
    "start_time": "2022-08-16T20:19:06.430Z"
   },
   {
    "duration": 41,
    "start_time": "2022-08-16T20:39:01.383Z"
   },
   {
    "duration": 21,
    "start_time": "2022-08-16T20:39:13.751Z"
   },
   {
    "duration": 21,
    "start_time": "2022-08-16T20:39:16.868Z"
   },
   {
    "duration": 60,
    "start_time": "2022-08-16T20:42:03.677Z"
   },
   {
    "duration": 25,
    "start_time": "2022-08-16T20:43:50.972Z"
   },
   {
    "duration": 34,
    "start_time": "2022-08-16T20:44:11.182Z"
   },
   {
    "duration": 42,
    "start_time": "2022-08-16T20:44:35.741Z"
   },
   {
    "duration": 42,
    "start_time": "2022-08-16T20:44:39.320Z"
   },
   {
    "duration": 39,
    "start_time": "2022-08-16T20:44:47.143Z"
   },
   {
    "duration": 41,
    "start_time": "2022-08-16T20:44:55.835Z"
   },
   {
    "duration": 44,
    "start_time": "2022-08-16T20:45:10.819Z"
   },
   {
    "duration": 43,
    "start_time": "2022-08-16T20:45:14.275Z"
   },
   {
    "duration": 37,
    "start_time": "2022-08-16T20:45:20.083Z"
   },
   {
    "duration": 29,
    "start_time": "2022-08-16T20:45:36.671Z"
   },
   {
    "duration": 35,
    "start_time": "2022-08-16T20:46:00.146Z"
   },
   {
    "duration": 28,
    "start_time": "2022-08-16T20:46:04.060Z"
   },
   {
    "duration": 35,
    "start_time": "2022-08-16T20:46:23.485Z"
   },
   {
    "duration": 27,
    "start_time": "2022-08-16T20:46:38.560Z"
   },
   {
    "duration": 27,
    "start_time": "2022-08-16T20:46:52.747Z"
   },
   {
    "duration": 29,
    "start_time": "2022-08-16T20:47:05.461Z"
   },
   {
    "duration": 57,
    "start_time": "2022-08-16T20:52:23.687Z"
   },
   {
    "duration": 23,
    "start_time": "2022-08-16T20:52:34.815Z"
   },
   {
    "duration": 22,
    "start_time": "2022-08-16T20:52:54.790Z"
   },
   {
    "duration": 23,
    "start_time": "2022-08-16T20:53:09.553Z"
   },
   {
    "duration": 13,
    "start_time": "2022-08-16T20:53:38.744Z"
   },
   {
    "duration": 10,
    "start_time": "2022-08-16T20:53:48.428Z"
   },
   {
    "duration": 30,
    "start_time": "2022-08-16T20:54:15.976Z"
   },
   {
    "duration": 12,
    "start_time": "2022-08-16T20:54:52.558Z"
   },
   {
    "duration": 26,
    "start_time": "2022-08-16T20:55:58.250Z"
   },
   {
    "duration": 12,
    "start_time": "2022-08-16T20:55:59.741Z"
   },
   {
    "duration": 33,
    "start_time": "2022-08-16T20:56:17.327Z"
   },
   {
    "duration": 32,
    "start_time": "2022-08-16T20:56:31.860Z"
   },
   {
    "duration": 29,
    "start_time": "2022-08-16T20:56:39.168Z"
   },
   {
    "duration": 42,
    "start_time": "2022-08-16T20:57:05.132Z"
   },
   {
    "duration": 15,
    "start_time": "2022-08-16T20:57:05.680Z"
   },
   {
    "duration": 32,
    "start_time": "2022-08-16T20:57:25.043Z"
   },
   {
    "duration": 13,
    "start_time": "2022-08-16T20:57:28.228Z"
   },
   {
    "duration": 12,
    "start_time": "2022-08-16T20:57:28.886Z"
   },
   {
    "duration": 9,
    "start_time": "2022-08-16T20:57:32.120Z"
   },
   {
    "duration": 13,
    "start_time": "2022-08-16T20:57:34.076Z"
   },
   {
    "duration": 10,
    "start_time": "2022-08-16T20:57:34.619Z"
   },
   {
    "duration": 1525,
    "start_time": "2022-08-17T08:23:35.198Z"
   },
   {
    "duration": 145,
    "start_time": "2022-08-17T08:23:36.725Z"
   },
   {
    "duration": 5,
    "start_time": "2022-08-17T08:23:36.871Z"
   },
   {
    "duration": 53,
    "start_time": "2022-08-17T08:23:36.878Z"
   },
   {
    "duration": 3,
    "start_time": "2022-08-17T08:23:36.932Z"
   },
   {
    "duration": 19,
    "start_time": "2022-08-17T08:23:36.936Z"
   },
   {
    "duration": 13,
    "start_time": "2022-08-17T08:23:36.956Z"
   },
   {
    "duration": 63,
    "start_time": "2022-08-17T08:23:36.971Z"
   },
   {
    "duration": 11,
    "start_time": "2022-08-17T08:23:37.036Z"
   },
   {
    "duration": 11,
    "start_time": "2022-08-17T08:23:37.049Z"
   },
   {
    "duration": 18,
    "start_time": "2022-08-17T08:23:37.061Z"
   },
   {
    "duration": 26,
    "start_time": "2022-08-17T08:23:37.081Z"
   },
   {
    "duration": 544,
    "start_time": "2022-08-17T08:23:37.109Z"
   },
   {
    "duration": 8,
    "start_time": "2022-08-17T08:23:37.654Z"
   },
   {
    "duration": 9,
    "start_time": "2022-08-17T08:23:37.663Z"
   },
   {
    "duration": 64,
    "start_time": "2022-08-17T08:23:37.673Z"
   },
   {
    "duration": 13,
    "start_time": "2022-08-17T08:23:37.738Z"
   },
   {
    "duration": 24,
    "start_time": "2022-08-17T08:23:37.752Z"
   },
   {
    "duration": 51,
    "start_time": "2022-08-17T08:23:37.777Z"
   },
   {
    "duration": 13,
    "start_time": "2022-08-17T08:23:37.830Z"
   },
   {
    "duration": 4,
    "start_time": "2022-08-17T08:23:37.845Z"
   },
   {
    "duration": 7,
    "start_time": "2022-08-17T08:23:37.850Z"
   },
   {
    "duration": 21,
    "start_time": "2022-08-17T08:23:37.858Z"
   },
   {
    "duration": 5,
    "start_time": "2022-08-17T08:23:37.881Z"
   },
   {
    "duration": 21,
    "start_time": "2022-08-17T08:23:37.888Z"
   },
   {
    "duration": 449,
    "start_time": "2022-08-17T08:23:37.911Z"
   },
   {
    "duration": 6,
    "start_time": "2022-08-17T08:23:38.362Z"
   },
   {
    "duration": 11,
    "start_time": "2022-08-17T08:23:38.370Z"
   },
   {
    "duration": 32,
    "start_time": "2022-08-17T08:23:38.383Z"
   },
   {
    "duration": 171,
    "start_time": "2022-08-17T08:23:38.417Z"
   },
   {
    "duration": 44,
    "start_time": "2022-08-17T08:23:38.589Z"
   },
   {
    "duration": 14,
    "start_time": "2022-08-17T08:23:38.635Z"
   },
   {
    "duration": 93,
    "start_time": "2022-08-17T08:23:38.650Z"
   },
   {
    "duration": 21,
    "start_time": "2022-08-17T08:23:38.744Z"
   },
   {
    "duration": 10,
    "start_time": "2022-08-17T08:23:38.767Z"
   },
   {
    "duration": 90,
    "start_time": "2022-08-17T08:23:38.779Z"
   },
   {
    "duration": 6,
    "start_time": "2022-08-17T08:23:38.871Z"
   },
   {
    "duration": 69,
    "start_time": "2022-08-17T08:23:38.878Z"
   },
   {
    "duration": 7,
    "start_time": "2022-08-17T08:23:38.949Z"
   },
   {
    "duration": 34,
    "start_time": "2022-08-17T08:23:38.958Z"
   },
   {
    "duration": 3647,
    "start_time": "2022-08-17T08:23:38.994Z"
   },
   {
    "duration": 14,
    "start_time": "2022-08-17T08:23:42.642Z"
   },
   {
    "duration": 5,
    "start_time": "2022-08-17T08:23:42.657Z"
   },
   {
    "duration": 47,
    "start_time": "2022-08-17T08:23:42.664Z"
   },
   {
    "duration": 14,
    "start_time": "2022-08-17T08:23:42.712Z"
   },
   {
    "duration": 32,
    "start_time": "2022-08-17T08:23:42.728Z"
   },
   {
    "duration": 11,
    "start_time": "2022-08-17T08:23:42.761Z"
   },
   {
    "duration": 20,
    "start_time": "2022-08-17T08:23:42.774Z"
   },
   {
    "duration": 26,
    "start_time": "2022-08-17T08:26:22.270Z"
   },
   {
    "duration": 22,
    "start_time": "2022-08-17T08:26:41.561Z"
   },
   {
    "duration": 28,
    "start_time": "2022-08-17T08:27:01.304Z"
   },
   {
    "duration": 19,
    "start_time": "2022-08-17T08:27:18.922Z"
   },
   {
    "duration": 28,
    "start_time": "2022-08-17T08:27:19.688Z"
   },
   {
    "duration": 12,
    "start_time": "2022-08-17T08:27:58.735Z"
   },
   {
    "duration": 18,
    "start_time": "2022-08-17T08:27:59.240Z"
   },
   {
    "duration": 179,
    "start_time": "2022-08-17T08:28:14.696Z"
   },
   {
    "duration": 17,
    "start_time": "2022-08-17T08:28:28.696Z"
   },
   {
    "duration": 24,
    "start_time": "2022-08-17T08:28:30.314Z"
   },
   {
    "duration": 19,
    "start_time": "2022-08-17T08:28:57.175Z"
   },
   {
    "duration": 12,
    "start_time": "2022-08-17T08:29:03.184Z"
   },
   {
    "duration": 12,
    "start_time": "2022-08-17T08:29:14.967Z"
   },
   {
    "duration": 17,
    "start_time": "2022-08-17T08:29:15.440Z"
   },
   {
    "duration": 3,
    "start_time": "2022-08-17T08:45:24.361Z"
   },
   {
    "duration": 4,
    "start_time": "2022-08-17T08:46:38.920Z"
   },
   {
    "duration": 134,
    "start_time": "2022-08-17T08:46:50.144Z"
   },
   {
    "duration": 210,
    "start_time": "2022-08-17T11:12:59.525Z"
   },
   {
    "duration": 10,
    "start_time": "2022-08-17T11:13:31.246Z"
   },
   {
    "duration": 10,
    "start_time": "2022-08-17T11:13:42.123Z"
   },
   {
    "duration": 129,
    "start_time": "2022-08-17T11:14:04.566Z"
   },
   {
    "duration": 9,
    "start_time": "2022-08-17T11:14:08.262Z"
   },
   {
    "duration": 21,
    "start_time": "2022-08-17T11:14:37.966Z"
   },
   {
    "duration": 20,
    "start_time": "2022-08-17T11:15:22.750Z"
   },
   {
    "duration": 18,
    "start_time": "2022-08-17T11:16:23.662Z"
   },
   {
    "duration": 19,
    "start_time": "2022-08-17T11:17:02.694Z"
   },
   {
    "duration": 73,
    "start_time": "2022-08-17T11:18:46.927Z"
   },
   {
    "duration": 14,
    "start_time": "2022-08-17T11:18:53.550Z"
   },
   {
    "duration": 149,
    "start_time": "2022-08-17T11:56:53.588Z"
   },
   {
    "duration": 15,
    "start_time": "2022-08-17T11:56:55.740Z"
   },
   {
    "duration": 10,
    "start_time": "2022-08-17T11:57:30.580Z"
   },
   {
    "duration": 16,
    "start_time": "2022-08-17T11:57:40.251Z"
   },
   {
    "duration": 18,
    "start_time": "2022-08-17T11:58:17.427Z"
   },
   {
    "duration": 18,
    "start_time": "2022-08-17T11:58:38.475Z"
   },
   {
    "duration": 23,
    "start_time": "2022-08-17T11:59:54.707Z"
   },
   {
    "duration": 132,
    "start_time": "2022-08-17T12:00:13.547Z"
   },
   {
    "duration": 19,
    "start_time": "2022-08-17T12:00:15.539Z"
   },
   {
    "duration": 20,
    "start_time": "2022-08-17T12:00:18.644Z"
   },
   {
    "duration": 16,
    "start_time": "2022-08-17T12:00:56.217Z"
   },
   {
    "duration": 17,
    "start_time": "2022-08-17T12:01:04.123Z"
   },
   {
    "duration": 22,
    "start_time": "2022-08-17T12:01:43.717Z"
   },
   {
    "duration": 15,
    "start_time": "2022-08-17T12:01:58.116Z"
   },
   {
    "duration": 10,
    "start_time": "2022-08-17T12:05:39.450Z"
   },
   {
    "duration": 17,
    "start_time": "2022-08-17T12:06:08.677Z"
   },
   {
    "duration": 14,
    "start_time": "2022-08-17T12:06:40.971Z"
   },
   {
    "duration": 10,
    "start_time": "2022-08-17T12:07:51.763Z"
   },
   {
    "duration": 11,
    "start_time": "2022-08-17T12:07:56.883Z"
   },
   {
    "duration": 17,
    "start_time": "2022-08-17T12:08:09.971Z"
   },
   {
    "duration": 17,
    "start_time": "2022-08-17T12:08:13.259Z"
   },
   {
    "duration": 7,
    "start_time": "2022-08-17T12:16:22.266Z"
   },
   {
    "duration": 16,
    "start_time": "2022-08-17T12:16:32.267Z"
   },
   {
    "duration": 7,
    "start_time": "2022-08-17T12:17:16.098Z"
   },
   {
    "duration": 9,
    "start_time": "2022-08-17T12:17:17.119Z"
   },
   {
    "duration": 14,
    "start_time": "2022-08-17T12:17:23.138Z"
   },
   {
    "duration": 17,
    "start_time": "2022-08-17T12:17:49.820Z"
   },
   {
    "duration": 1163,
    "start_time": "2022-08-17T12:19:16.018Z"
   },
   {
    "duration": 64,
    "start_time": "2022-08-17T12:19:17.183Z"
   },
   {
    "duration": 5,
    "start_time": "2022-08-17T12:19:17.248Z"
   },
   {
    "duration": 42,
    "start_time": "2022-08-17T12:19:17.254Z"
   },
   {
    "duration": 7,
    "start_time": "2022-08-17T12:19:17.299Z"
   },
   {
    "duration": 18,
    "start_time": "2022-08-17T12:19:17.307Z"
   },
   {
    "duration": 11,
    "start_time": "2022-08-17T12:19:17.327Z"
   },
   {
    "duration": 25,
    "start_time": "2022-08-17T12:19:17.339Z"
   },
   {
    "duration": 40,
    "start_time": "2022-08-17T12:19:17.366Z"
   },
   {
    "duration": 7,
    "start_time": "2022-08-17T12:19:17.408Z"
   },
   {
    "duration": 17,
    "start_time": "2022-08-17T12:19:17.417Z"
   },
   {
    "duration": 9,
    "start_time": "2022-08-17T12:19:17.435Z"
   },
   {
    "duration": 504,
    "start_time": "2022-08-17T12:19:17.446Z"
   },
   {
    "duration": 9,
    "start_time": "2022-08-17T12:19:17.952Z"
   },
   {
    "duration": 11,
    "start_time": "2022-08-17T12:19:17.962Z"
   },
   {
    "duration": 149,
    "start_time": "2022-08-17T12:19:17.974Z"
   },
   {
    "duration": 10,
    "start_time": "2022-08-17T12:19:18.125Z"
   },
   {
    "duration": 25,
    "start_time": "2022-08-17T12:19:18.136Z"
   },
   {
    "duration": 18,
    "start_time": "2022-08-17T12:19:18.162Z"
   },
   {
    "duration": 26,
    "start_time": "2022-08-17T12:19:18.181Z"
   },
   {
    "duration": 8,
    "start_time": "2022-08-17T12:19:18.208Z"
   },
   {
    "duration": 8,
    "start_time": "2022-08-17T12:19:18.218Z"
   },
   {
    "duration": 8,
    "start_time": "2022-08-17T12:19:18.227Z"
   },
   {
    "duration": 412,
    "start_time": "2022-08-17T12:19:18.237Z"
   },
   {
    "duration": 5,
    "start_time": "2022-08-17T12:19:18.651Z"
   },
   {
    "duration": 12,
    "start_time": "2022-08-17T12:19:18.658Z"
   },
   {
    "duration": 14,
    "start_time": "2022-08-17T12:19:18.671Z"
   },
   {
    "duration": 130,
    "start_time": "2022-08-17T12:19:18.687Z"
   },
   {
    "duration": 18,
    "start_time": "2022-08-17T12:19:18.818Z"
   },
   {
    "duration": 7,
    "start_time": "2022-08-17T12:19:18.838Z"
   },
   {
    "duration": 96,
    "start_time": "2022-08-17T12:19:18.847Z"
   },
   {
    "duration": 23,
    "start_time": "2022-08-17T12:19:18.945Z"
   },
   {
    "duration": 12,
    "start_time": "2022-08-17T12:19:18.970Z"
   },
   {
    "duration": 83,
    "start_time": "2022-08-17T12:19:18.984Z"
   },
   {
    "duration": 7,
    "start_time": "2022-08-17T12:19:19.069Z"
   },
   {
    "duration": 56,
    "start_time": "2022-08-17T12:19:19.077Z"
   },
   {
    "duration": 7,
    "start_time": "2022-08-17T12:19:19.135Z"
   },
   {
    "duration": 14,
    "start_time": "2022-08-17T12:19:19.143Z"
   },
   {
    "duration": 2942,
    "start_time": "2022-08-17T12:19:19.158Z"
   },
   {
    "duration": 16,
    "start_time": "2022-08-17T12:19:22.101Z"
   },
   {
    "duration": 3,
    "start_time": "2022-08-17T12:19:22.121Z"
   },
   {
    "duration": 33,
    "start_time": "2022-08-17T12:19:22.126Z"
   },
   {
    "duration": 13,
    "start_time": "2022-08-17T12:19:22.160Z"
   },
   {
    "duration": 54,
    "start_time": "2022-08-17T12:19:22.175Z"
   },
   {
    "duration": 11,
    "start_time": "2022-08-17T12:19:22.230Z"
   },
   {
    "duration": 9,
    "start_time": "2022-08-17T12:19:22.243Z"
   },
   {
    "duration": 31,
    "start_time": "2022-08-17T15:17:10.025Z"
   },
   {
    "duration": 178,
    "start_time": "2022-08-17T15:17:35.965Z"
   },
   {
    "duration": 26,
    "start_time": "2022-08-17T15:17:51.428Z"
   },
   {
    "duration": 12,
    "start_time": "2022-08-17T15:22:08.052Z"
   },
   {
    "duration": 8,
    "start_time": "2022-08-17T15:22:08.829Z"
   },
   {
    "duration": 111,
    "start_time": "2022-08-17T15:22:45.156Z"
   },
   {
    "duration": 84,
    "start_time": "2022-08-17T15:22:50.261Z"
   },
   {
    "duration": 12,
    "start_time": "2022-08-17T15:22:57.844Z"
   },
   {
    "duration": 13,
    "start_time": "2022-08-17T15:23:03.214Z"
   },
   {
    "duration": 33,
    "start_time": "2022-08-17T15:23:42.572Z"
   },
   {
    "duration": 33,
    "start_time": "2022-08-17T15:23:54.156Z"
   },
   {
    "duration": 27,
    "start_time": "2022-08-17T15:24:10.914Z"
   },
   {
    "duration": 24,
    "start_time": "2022-08-17T15:24:23.957Z"
   },
   {
    "duration": 12,
    "start_time": "2022-08-17T15:25:00.980Z"
   },
   {
    "duration": 10,
    "start_time": "2022-08-17T15:25:08.316Z"
   },
   {
    "duration": 14,
    "start_time": "2022-08-17T15:25:19.644Z"
   },
   {
    "duration": 31,
    "start_time": "2022-08-17T15:25:48.876Z"
   },
   {
    "duration": 33,
    "start_time": "2022-08-17T15:26:08.853Z"
   },
   {
    "duration": 33,
    "start_time": "2022-08-17T15:28:15.931Z"
   },
   {
    "duration": 32,
    "start_time": "2022-08-17T15:28:49.052Z"
   },
   {
    "duration": 32,
    "start_time": "2022-08-17T15:29:17.240Z"
   },
   {
    "duration": 1284,
    "start_time": "2022-08-18T06:36:26.864Z"
   },
   {
    "duration": 112,
    "start_time": "2022-08-18T06:36:28.150Z"
   },
   {
    "duration": 5,
    "start_time": "2022-08-18T06:36:28.263Z"
   },
   {
    "duration": 38,
    "start_time": "2022-08-18T06:36:28.270Z"
   },
   {
    "duration": 2,
    "start_time": "2022-08-18T06:36:28.310Z"
   },
   {
    "duration": 17,
    "start_time": "2022-08-18T06:36:28.314Z"
   },
   {
    "duration": 12,
    "start_time": "2022-08-18T06:36:28.332Z"
   },
   {
    "duration": 25,
    "start_time": "2022-08-18T06:36:28.345Z"
   },
   {
    "duration": 10,
    "start_time": "2022-08-18T06:36:28.371Z"
   },
   {
    "duration": 8,
    "start_time": "2022-08-18T06:36:28.406Z"
   },
   {
    "duration": 15,
    "start_time": "2022-08-18T06:36:28.415Z"
   },
   {
    "duration": 9,
    "start_time": "2022-08-18T06:36:28.431Z"
   },
   {
    "duration": 477,
    "start_time": "2022-08-18T06:36:28.441Z"
   },
   {
    "duration": 8,
    "start_time": "2022-08-18T06:36:28.920Z"
   },
   {
    "duration": 9,
    "start_time": "2022-08-18T06:36:28.929Z"
   },
   {
    "duration": 150,
    "start_time": "2022-08-18T06:36:28.939Z"
   },
   {
    "duration": 10,
    "start_time": "2022-08-18T06:36:29.091Z"
   },
   {
    "duration": 20,
    "start_time": "2022-08-18T06:36:29.105Z"
   },
   {
    "duration": 14,
    "start_time": "2022-08-18T06:36:29.126Z"
   },
   {
    "duration": 15,
    "start_time": "2022-08-18T06:36:29.142Z"
   },
   {
    "duration": 4,
    "start_time": "2022-08-18T06:36:29.158Z"
   },
   {
    "duration": 7,
    "start_time": "2022-08-18T06:36:29.164Z"
   },
   {
    "duration": 8,
    "start_time": "2022-08-18T06:36:29.172Z"
   },
   {
    "duration": 410,
    "start_time": "2022-08-18T06:36:29.206Z"
   },
   {
    "duration": 6,
    "start_time": "2022-08-18T06:36:29.618Z"
   },
   {
    "duration": 12,
    "start_time": "2022-08-18T06:36:29.626Z"
   },
   {
    "duration": 12,
    "start_time": "2022-08-18T06:36:29.639Z"
   },
   {
    "duration": 167,
    "start_time": "2022-08-18T06:36:29.654Z"
   },
   {
    "duration": 20,
    "start_time": "2022-08-18T06:36:29.822Z"
   },
   {
    "duration": 8,
    "start_time": "2022-08-18T06:36:29.845Z"
   },
   {
    "duration": 97,
    "start_time": "2022-08-18T06:36:29.855Z"
   },
   {
    "duration": 22,
    "start_time": "2022-08-18T06:36:29.953Z"
   },
   {
    "duration": 12,
    "start_time": "2022-08-18T06:36:29.977Z"
   },
   {
    "duration": 63,
    "start_time": "2022-08-18T06:36:30.006Z"
   },
   {
    "duration": 8,
    "start_time": "2022-08-18T06:36:30.071Z"
   },
   {
    "duration": 65,
    "start_time": "2022-08-18T06:36:30.081Z"
   },
   {
    "duration": 11,
    "start_time": "2022-08-18T06:36:30.147Z"
   },
   {
    "duration": 17,
    "start_time": "2022-08-18T06:36:30.160Z"
   },
   {
    "duration": 2975,
    "start_time": "2022-08-18T06:36:30.179Z"
   },
   {
    "duration": 16,
    "start_time": "2022-08-18T06:36:33.155Z"
   },
   {
    "duration": 4,
    "start_time": "2022-08-18T06:36:33.172Z"
   },
   {
    "duration": 51,
    "start_time": "2022-08-18T06:36:33.178Z"
   },
   {
    "duration": 14,
    "start_time": "2022-08-18T06:36:33.230Z"
   },
   {
    "duration": 35,
    "start_time": "2022-08-18T06:36:33.245Z"
   },
   {
    "duration": 5,
    "start_time": "2022-08-18T06:43:56.992Z"
   },
   {
    "duration": 8,
    "start_time": "2022-08-18T06:44:04.018Z"
   },
   {
    "duration": 13,
    "start_time": "2022-08-18T06:44:08.936Z"
   },
   {
    "duration": 144,
    "start_time": "2022-08-18T06:44:29.104Z"
   },
   {
    "duration": 9,
    "start_time": "2022-08-18T06:44:31.777Z"
   },
   {
    "duration": 65,
    "start_time": "2022-08-18T06:47:27.224Z"
   },
   {
    "duration": 45,
    "start_time": "2022-08-18T06:47:29.577Z"
   },
   {
    "duration": 45,
    "start_time": "2022-08-18T06:47:56.377Z"
   },
   {
    "duration": 7,
    "start_time": "2022-08-18T06:48:02.720Z"
   },
   {
    "duration": 69,
    "start_time": "2022-08-18T06:49:35.120Z"
   },
   {
    "duration": 74,
    "start_time": "2022-08-18T07:44:11.543Z"
   },
   {
    "duration": 70,
    "start_time": "2022-08-18T07:44:34.774Z"
   },
   {
    "duration": 71,
    "start_time": "2022-08-18T07:47:20.693Z"
   },
   {
    "duration": 73,
    "start_time": "2022-08-18T07:47:38.357Z"
   },
   {
    "duration": 159,
    "start_time": "2022-08-18T07:47:43.926Z"
   },
   {
    "duration": 74,
    "start_time": "2022-08-18T07:49:12.845Z"
   },
   {
    "duration": 70,
    "start_time": "2022-08-18T07:50:16.588Z"
   },
   {
    "duration": 84,
    "start_time": "2022-08-18T07:50:48.461Z"
   },
   {
    "duration": 1593,
    "start_time": "2022-08-18T11:38:30.780Z"
   },
   {
    "duration": 132,
    "start_time": "2022-08-18T11:38:32.375Z"
   },
   {
    "duration": 5,
    "start_time": "2022-08-18T11:38:32.509Z"
   },
   {
    "duration": 50,
    "start_time": "2022-08-18T11:38:32.516Z"
   },
   {
    "duration": 3,
    "start_time": "2022-08-18T11:38:32.568Z"
   },
   {
    "duration": 31,
    "start_time": "2022-08-18T11:38:32.573Z"
   },
   {
    "duration": 15,
    "start_time": "2022-08-18T11:38:32.606Z"
   },
   {
    "duration": 75,
    "start_time": "2022-08-18T11:38:32.623Z"
   },
   {
    "duration": 15,
    "start_time": "2022-08-18T11:38:32.700Z"
   },
   {
    "duration": 12,
    "start_time": "2022-08-18T11:38:32.719Z"
   },
   {
    "duration": 20,
    "start_time": "2022-08-18T11:38:32.733Z"
   },
   {
    "duration": 48,
    "start_time": "2022-08-18T11:38:32.755Z"
   },
   {
    "duration": 641,
    "start_time": "2022-08-18T11:38:32.805Z"
   },
   {
    "duration": 10,
    "start_time": "2022-08-18T11:38:33.449Z"
   },
   {
    "duration": 33,
    "start_time": "2022-08-18T11:38:33.461Z"
   },
   {
    "duration": 200,
    "start_time": "2022-08-18T11:38:33.496Z"
   },
   {
    "duration": 13,
    "start_time": "2022-08-18T11:38:33.698Z"
   },
   {
    "duration": 29,
    "start_time": "2022-08-18T11:38:33.712Z"
   },
   {
    "duration": 6,
    "start_time": "2022-08-18T11:38:33.742Z"
   },
   {
    "duration": 13,
    "start_time": "2022-08-18T11:38:33.750Z"
   },
   {
    "duration": 28,
    "start_time": "2022-08-18T11:38:33.765Z"
   },
   {
    "duration": 537,
    "start_time": "2022-08-18T11:38:33.795Z"
   },
   {
    "duration": 8,
    "start_time": "2022-08-18T11:38:34.334Z"
   },
   {
    "duration": 21,
    "start_time": "2022-08-18T11:38:34.344Z"
   },
   {
    "duration": 33,
    "start_time": "2022-08-18T11:38:34.368Z"
   },
   {
    "duration": 116,
    "start_time": "2022-08-18T11:38:34.404Z"
   },
   {
    "duration": 121,
    "start_time": "2022-08-18T11:38:34.522Z"
   },
   {
    "duration": 47,
    "start_time": "2022-08-18T11:38:34.648Z"
   },
   {
    "duration": 12,
    "start_time": "2022-08-18T11:38:34.697Z"
   },
   {
    "duration": 106,
    "start_time": "2022-08-18T11:38:34.711Z"
   },
   {
    "duration": 27,
    "start_time": "2022-08-18T11:38:34.819Z"
   },
   {
    "duration": 16,
    "start_time": "2022-08-18T11:38:34.848Z"
   },
   {
    "duration": 97,
    "start_time": "2022-08-18T11:38:34.866Z"
   },
   {
    "duration": 28,
    "start_time": "2022-08-18T11:38:34.964Z"
   },
   {
    "duration": 55,
    "start_time": "2022-08-18T11:38:34.994Z"
   },
   {
    "duration": 9,
    "start_time": "2022-08-18T11:38:35.051Z"
   },
   {
    "duration": 31,
    "start_time": "2022-08-18T11:38:35.062Z"
   },
   {
    "duration": 2862,
    "start_time": "2022-08-18T11:38:35.095Z"
   },
   {
    "duration": 28,
    "start_time": "2022-08-18T11:38:37.959Z"
   },
   {
    "duration": 18,
    "start_time": "2022-08-18T11:38:37.993Z"
   },
   {
    "duration": 56,
    "start_time": "2022-08-18T11:38:38.013Z"
   },
   {
    "duration": 16,
    "start_time": "2022-08-18T11:38:38.070Z"
   },
   {
    "duration": 41,
    "start_time": "2022-08-18T11:38:38.093Z"
   },
   {
    "duration": 12,
    "start_time": "2022-08-18T11:44:55.674Z"
   },
   {
    "duration": 197,
    "start_time": "2022-08-18T11:47:55.974Z"
   },
   {
    "duration": 24,
    "start_time": "2022-08-18T11:50:38.946Z"
   },
   {
    "duration": 12,
    "start_time": "2022-08-18T11:50:40.888Z"
   },
   {
    "duration": 75,
    "start_time": "2022-08-18T11:50:56.877Z"
   },
   {
    "duration": 75,
    "start_time": "2022-08-18T11:51:05.257Z"
   },
   {
    "duration": 90,
    "start_time": "2022-08-18T11:51:27.435Z"
   },
   {
    "duration": 80,
    "start_time": "2022-08-18T11:51:31.419Z"
   },
   {
    "duration": 75,
    "start_time": "2022-08-18T11:51:52.547Z"
   },
   {
    "duration": 71,
    "start_time": "2022-08-18T11:52:08.267Z"
   },
   {
    "duration": 14,
    "start_time": "2022-08-18T12:02:58.928Z"
   },
   {
    "duration": 12,
    "start_time": "2022-08-18T12:03:06.800Z"
   },
   {
    "duration": 15,
    "start_time": "2022-08-18T12:07:41.120Z"
   },
   {
    "duration": 2061,
    "start_time": "2022-08-18T12:10:14.656Z"
   },
   {
    "duration": 74,
    "start_time": "2022-08-18T12:10:38.020Z"
   },
   {
    "duration": 83,
    "start_time": "2022-08-18T12:22:37.664Z"
   },
   {
    "duration": 77,
    "start_time": "2022-08-18T12:22:53.296Z"
   },
   {
    "duration": 4,
    "start_time": "2022-08-18T12:23:35.238Z"
   },
   {
    "duration": 11,
    "start_time": "2022-08-18T12:23:40.862Z"
   },
   {
    "duration": 59,
    "start_time": "2022-08-18T12:23:56.209Z"
   },
   {
    "duration": 5,
    "start_time": "2022-08-18T12:24:03.638Z"
   },
   {
    "duration": 10,
    "start_time": "2022-08-18T12:24:05.202Z"
   },
   {
    "duration": 78,
    "start_time": "2022-08-18T12:24:07.254Z"
   },
   {
    "duration": 12,
    "start_time": "2022-08-18T12:33:54.352Z"
   },
   {
    "duration": 12,
    "start_time": "2022-08-18T12:34:08.255Z"
   },
   {
    "duration": 14,
    "start_time": "2022-08-18T12:34:12.198Z"
   },
   {
    "duration": 5,
    "start_time": "2022-08-18T12:34:17.302Z"
   },
   {
    "duration": 9,
    "start_time": "2022-08-18T12:34:17.720Z"
   },
   {
    "duration": 64,
    "start_time": "2022-08-18T12:34:19.165Z"
   },
   {
    "duration": 125,
    "start_time": "2022-08-18T12:34:21.768Z"
   },
   {
    "duration": 82,
    "start_time": "2022-08-18T12:35:42.493Z"
   },
   {
    "duration": 76,
    "start_time": "2022-08-18T12:35:54.280Z"
   },
   {
    "duration": 99,
    "start_time": "2022-08-18T12:36:28.480Z"
   },
   {
    "duration": 83,
    "start_time": "2022-08-18T12:36:59.227Z"
   },
   {
    "duration": 147,
    "start_time": "2022-08-18T12:38:49.106Z"
   },
   {
    "duration": 85,
    "start_time": "2022-08-18T12:39:04.272Z"
   },
   {
    "duration": 160,
    "start_time": "2022-08-18T12:39:31.143Z"
   },
   {
    "duration": 17,
    "start_time": "2022-08-18T12:40:05.136Z"
   },
   {
    "duration": 13,
    "start_time": "2022-08-18T12:40:06.951Z"
   },
   {
    "duration": 78,
    "start_time": "2022-08-18T12:40:21.107Z"
   },
   {
    "duration": 11,
    "start_time": "2022-08-18T12:46:24.743Z"
   },
   {
    "duration": 51,
    "start_time": "2022-08-18T14:44:28.769Z"
   },
   {
    "duration": 47,
    "start_time": "2022-08-18T14:55:28.158Z"
   },
   {
    "duration": 57,
    "start_time": "2022-08-18T14:55:43.446Z"
   },
   {
    "duration": 10,
    "start_time": "2022-08-18T14:55:47.486Z"
   },
   {
    "duration": 1497,
    "start_time": "2022-08-18T20:05:04.631Z"
   },
   {
    "duration": 263,
    "start_time": "2022-08-18T20:05:06.130Z"
   },
   {
    "duration": 5,
    "start_time": "2022-08-18T20:05:06.395Z"
   },
   {
    "duration": 71,
    "start_time": "2022-08-18T20:05:06.405Z"
   },
   {
    "duration": 4,
    "start_time": "2022-08-18T20:05:06.478Z"
   },
   {
    "duration": 34,
    "start_time": "2022-08-18T20:05:06.484Z"
   },
   {
    "duration": 19,
    "start_time": "2022-08-18T20:05:06.520Z"
   },
   {
    "duration": 34,
    "start_time": "2022-08-18T20:05:06.541Z"
   },
   {
    "duration": 41,
    "start_time": "2022-08-18T20:05:06.577Z"
   },
   {
    "duration": 9,
    "start_time": "2022-08-18T20:05:06.622Z"
   },
   {
    "duration": 17,
    "start_time": "2022-08-18T20:05:06.633Z"
   },
   {
    "duration": 12,
    "start_time": "2022-08-18T20:05:06.652Z"
   },
   {
    "duration": 645,
    "start_time": "2022-08-18T20:05:06.665Z"
   },
   {
    "duration": 10,
    "start_time": "2022-08-18T20:05:07.321Z"
   },
   {
    "duration": 10,
    "start_time": "2022-08-18T20:05:07.333Z"
   },
   {
    "duration": 205,
    "start_time": "2022-08-18T20:05:07.345Z"
   },
   {
    "duration": 14,
    "start_time": "2022-08-18T20:05:07.553Z"
   },
   {
    "duration": 44,
    "start_time": "2022-08-18T20:05:07.569Z"
   },
   {
    "duration": 10,
    "start_time": "2022-08-18T20:05:07.614Z"
   },
   {
    "duration": 13,
    "start_time": "2022-08-18T20:05:07.626Z"
   },
   {
    "duration": 10,
    "start_time": "2022-08-18T20:05:07.642Z"
   },
   {
    "duration": 521,
    "start_time": "2022-08-18T20:05:07.654Z"
   },
   {
    "duration": 7,
    "start_time": "2022-08-18T20:05:08.177Z"
   },
   {
    "duration": 24,
    "start_time": "2022-08-18T20:05:08.186Z"
   },
   {
    "duration": 14,
    "start_time": "2022-08-18T20:05:08.212Z"
   },
   {
    "duration": 112,
    "start_time": "2022-08-18T20:05:08.228Z"
   },
   {
    "duration": 96,
    "start_time": "2022-08-18T20:05:08.342Z"
   },
   {
    "duration": 16,
    "start_time": "2022-08-18T20:05:08.442Z"
   },
   {
    "duration": 10,
    "start_time": "2022-08-18T20:05:08.460Z"
   },
   {
    "duration": 110,
    "start_time": "2022-08-18T20:05:08.472Z"
   },
   {
    "duration": 37,
    "start_time": "2022-08-18T20:05:08.584Z"
   },
   {
    "duration": 5,
    "start_time": "2022-08-18T20:05:08.622Z"
   },
   {
    "duration": 13,
    "start_time": "2022-08-18T20:05:08.629Z"
   },
   {
    "duration": 93,
    "start_time": "2022-08-18T20:05:08.645Z"
   },
   {
    "duration": 93,
    "start_time": "2022-08-18T20:05:08.740Z"
   },
   {
    "duration": 9,
    "start_time": "2022-08-18T20:05:08.834Z"
   },
   {
    "duration": 88,
    "start_time": "2022-08-18T20:05:08.844Z"
   },
   {
    "duration": 3224,
    "start_time": "2022-08-18T20:05:08.937Z"
   },
   {
    "duration": 17,
    "start_time": "2022-08-18T20:05:12.162Z"
   },
   {
    "duration": 11,
    "start_time": "2022-08-18T20:05:12.180Z"
   },
   {
    "duration": 50,
    "start_time": "2022-08-18T20:05:12.194Z"
   },
   {
    "duration": 15,
    "start_time": "2022-08-18T20:05:12.246Z"
   },
   {
    "duration": 60,
    "start_time": "2022-08-18T20:05:12.263Z"
   },
   {
    "duration": 34,
    "start_time": "2022-08-18T20:05:12.325Z"
   },
   {
    "duration": 10,
    "start_time": "2022-08-18T20:05:12.361Z"
   },
   {
    "duration": 76,
    "start_time": "2022-08-18T20:10:58.975Z"
   },
   {
    "duration": 15,
    "start_time": "2022-08-18T20:11:14.264Z"
   },
   {
    "duration": 181,
    "start_time": "2022-08-18T20:11:25.491Z"
   },
   {
    "duration": 8,
    "start_time": "2022-08-18T20:11:37.339Z"
   },
   {
    "duration": 4,
    "start_time": "2022-08-18T20:12:29.981Z"
   },
   {
    "duration": 15,
    "start_time": "2022-08-18T20:13:00.942Z"
   },
   {
    "duration": 4,
    "start_time": "2022-08-18T20:13:04.498Z"
   },
   {
    "duration": 58,
    "start_time": "2022-08-18T20:13:05.774Z"
   },
   {
    "duration": 54,
    "start_time": "2022-08-18T20:17:31.788Z"
   },
   {
    "duration": 289,
    "start_time": "2022-08-18T20:20:40.790Z"
   },
   {
    "duration": 52,
    "start_time": "2022-08-18T20:21:17.457Z"
   },
   {
    "duration": 51,
    "start_time": "2022-08-18T20:23:32.810Z"
   },
   {
    "duration": 57,
    "start_time": "2022-08-18T20:23:43.245Z"
   },
   {
    "duration": 81,
    "start_time": "2022-08-18T20:24:23.887Z"
   },
   {
    "duration": 76,
    "start_time": "2022-08-18T20:26:49.947Z"
   },
   {
    "duration": 187,
    "start_time": "2022-08-18T20:27:09.391Z"
   },
   {
    "duration": 73,
    "start_time": "2022-08-18T20:27:15.088Z"
   },
   {
    "duration": 73,
    "start_time": "2022-08-18T20:27:19.450Z"
   },
   {
    "duration": 75,
    "start_time": "2022-08-18T20:27:41.069Z"
   },
   {
    "duration": 76,
    "start_time": "2022-08-18T20:27:47.666Z"
   },
   {
    "duration": 31,
    "start_time": "2022-08-18T20:46:30.363Z"
   },
   {
    "duration": 9,
    "start_time": "2022-08-18T20:46:34.034Z"
   },
   {
    "duration": 12,
    "start_time": "2022-08-18T20:46:42.346Z"
   },
   {
    "duration": 35,
    "start_time": "2022-08-18T20:47:49.703Z"
   },
   {
    "duration": 11,
    "start_time": "2022-08-18T20:47:51.649Z"
   },
   {
    "duration": 33,
    "start_time": "2022-08-18T20:49:24.669Z"
   },
   {
    "duration": 13,
    "start_time": "2022-08-18T20:49:25.116Z"
   },
   {
    "duration": 16,
    "start_time": "2022-08-18T20:52:01.849Z"
   },
   {
    "duration": 7,
    "start_time": "2022-08-18T20:52:06.794Z"
   },
   {
    "duration": 14,
    "start_time": "2022-08-18T20:52:15.229Z"
   },
   {
    "duration": 16,
    "start_time": "2022-08-18T20:52:18.307Z"
   },
   {
    "duration": 16,
    "start_time": "2022-08-18T20:52:21.667Z"
   },
   {
    "duration": 16,
    "start_time": "2022-08-18T20:52:31.339Z"
   },
   {
    "duration": 13,
    "start_time": "2022-08-18T20:52:36.913Z"
   },
   {
    "duration": 10,
    "start_time": "2022-08-18T20:52:44.764Z"
   },
   {
    "duration": 9,
    "start_time": "2022-08-18T20:53:29.304Z"
   },
   {
    "duration": 1801,
    "start_time": "2022-08-19T18:14:56.102Z"
   },
   {
    "duration": 158,
    "start_time": "2022-08-19T18:14:57.908Z"
   },
   {
    "duration": 8,
    "start_time": "2022-08-19T18:14:58.068Z"
   },
   {
    "duration": 83,
    "start_time": "2022-08-19T18:14:58.078Z"
   },
   {
    "duration": 10,
    "start_time": "2022-08-19T18:14:58.165Z"
   },
   {
    "duration": 29,
    "start_time": "2022-08-19T18:14:58.177Z"
   },
   {
    "duration": 24,
    "start_time": "2022-08-19T18:14:58.214Z"
   },
   {
    "duration": 59,
    "start_time": "2022-08-19T18:14:58.240Z"
   },
   {
    "duration": 15,
    "start_time": "2022-08-19T18:14:58.301Z"
   },
   {
    "duration": 11,
    "start_time": "2022-08-19T18:14:58.318Z"
   },
   {
    "duration": 60,
    "start_time": "2022-08-19T18:14:58.332Z"
   },
   {
    "duration": 15,
    "start_time": "2022-08-19T18:14:58.398Z"
   },
   {
    "duration": 659,
    "start_time": "2022-08-19T18:14:58.415Z"
   },
   {
    "duration": 11,
    "start_time": "2022-08-19T18:14:59.079Z"
   },
   {
    "duration": 38,
    "start_time": "2022-08-19T18:14:59.092Z"
   },
   {
    "duration": 201,
    "start_time": "2022-08-19T18:14:59.132Z"
   },
   {
    "duration": 14,
    "start_time": "2022-08-19T18:14:59.335Z"
   },
   {
    "duration": 45,
    "start_time": "2022-08-19T18:14:59.351Z"
   },
   {
    "duration": 8,
    "start_time": "2022-08-19T18:14:59.398Z"
   },
   {
    "duration": 8,
    "start_time": "2022-08-19T18:14:59.409Z"
   },
   {
    "duration": 11,
    "start_time": "2022-08-19T18:14:59.420Z"
   },
   {
    "duration": 538,
    "start_time": "2022-08-19T18:14:59.433Z"
   },
   {
    "duration": 10,
    "start_time": "2022-08-19T18:14:59.973Z"
   },
   {
    "duration": 52,
    "start_time": "2022-08-19T18:14:59.986Z"
   },
   {
    "duration": 29,
    "start_time": "2022-08-19T18:15:00.074Z"
   },
   {
    "duration": 145,
    "start_time": "2022-08-19T18:15:00.106Z"
   },
   {
    "duration": 104,
    "start_time": "2022-08-19T18:15:00.268Z"
   },
   {
    "duration": 23,
    "start_time": "2022-08-19T18:15:00.374Z"
   },
   {
    "duration": 40,
    "start_time": "2022-08-19T18:15:00.401Z"
   },
   {
    "duration": 232,
    "start_time": "2022-08-19T18:15:00.443Z"
   },
   {
    "duration": 38,
    "start_time": "2022-08-19T18:15:00.677Z"
   },
   {
    "duration": 53,
    "start_time": "2022-08-19T18:15:00.718Z"
   },
   {
    "duration": 40,
    "start_time": "2022-08-19T18:15:00.776Z"
   },
   {
    "duration": 284,
    "start_time": "2022-08-19T18:15:00.818Z"
   },
   {
    "duration": 284,
    "start_time": "2022-08-19T18:15:01.104Z"
   },
   {
    "duration": 22,
    "start_time": "2022-08-19T18:15:01.395Z"
   },
   {
    "duration": 3,
    "start_time": "2022-08-19T18:15:01.420Z"
   },
   {
    "duration": 184,
    "start_time": "2022-08-19T18:15:01.425Z"
   },
   {
    "duration": 3411,
    "start_time": "2022-08-19T18:15:01.612Z"
   },
   {
    "duration": 26,
    "start_time": "2022-08-19T18:15:05.030Z"
   },
   {
    "duration": 47,
    "start_time": "2022-08-19T18:15:05.069Z"
   },
   {
    "duration": 103,
    "start_time": "2022-08-19T18:15:05.119Z"
   },
   {
    "duration": 24,
    "start_time": "2022-08-19T18:15:05.228Z"
   },
   {
    "duration": 83,
    "start_time": "2022-08-19T18:15:05.254Z"
   },
   {
    "duration": 65,
    "start_time": "2022-08-19T18:15:05.339Z"
   },
   {
    "duration": 24,
    "start_time": "2022-08-19T18:15:05.406Z"
   },
   {
    "duration": 19,
    "start_time": "2022-08-19T18:15:05.432Z"
   },
   {
    "duration": 1502,
    "start_time": "2022-08-19T19:09:09.161Z"
   },
   {
    "duration": 95,
    "start_time": "2022-08-19T19:09:10.665Z"
   },
   {
    "duration": 4,
    "start_time": "2022-08-19T19:09:10.762Z"
   },
   {
    "duration": 73,
    "start_time": "2022-08-19T19:09:10.775Z"
   },
   {
    "duration": 3,
    "start_time": "2022-08-19T19:09:10.851Z"
   },
   {
    "duration": 30,
    "start_time": "2022-08-19T19:09:10.856Z"
   },
   {
    "duration": 27,
    "start_time": "2022-08-19T19:09:10.890Z"
   },
   {
    "duration": 34,
    "start_time": "2022-08-19T19:09:10.919Z"
   },
   {
    "duration": 32,
    "start_time": "2022-08-19T19:09:10.954Z"
   },
   {
    "duration": 23,
    "start_time": "2022-08-19T19:09:10.992Z"
   },
   {
    "duration": 21,
    "start_time": "2022-08-19T19:09:11.017Z"
   },
   {
    "duration": 13,
    "start_time": "2022-08-19T19:09:11.040Z"
   },
   {
    "duration": 704,
    "start_time": "2022-08-19T19:09:11.055Z"
   },
   {
    "duration": 33,
    "start_time": "2022-08-19T19:09:11.761Z"
   },
   {
    "duration": 25,
    "start_time": "2022-08-19T19:09:11.797Z"
   },
   {
    "duration": 202,
    "start_time": "2022-08-19T19:09:11.824Z"
   },
   {
    "duration": 12,
    "start_time": "2022-08-19T19:09:12.028Z"
   },
   {
    "duration": 39,
    "start_time": "2022-08-19T19:09:12.041Z"
   },
   {
    "duration": 10,
    "start_time": "2022-08-19T19:09:12.085Z"
   },
   {
    "duration": 13,
    "start_time": "2022-08-19T19:09:12.097Z"
   },
   {
    "duration": 10,
    "start_time": "2022-08-19T19:09:12.112Z"
   },
   {
    "duration": 514,
    "start_time": "2022-08-19T19:09:12.124Z"
   },
   {
    "duration": 9,
    "start_time": "2022-08-19T19:09:12.640Z"
   },
   {
    "duration": 23,
    "start_time": "2022-08-19T19:09:12.652Z"
   },
   {
    "duration": 37,
    "start_time": "2022-08-19T19:09:12.677Z"
   },
   {
    "duration": 118,
    "start_time": "2022-08-19T19:09:12.717Z"
   },
   {
    "duration": 84,
    "start_time": "2022-08-19T19:09:12.837Z"
   },
   {
    "duration": 18,
    "start_time": "2022-08-19T19:09:12.925Z"
   },
   {
    "duration": 30,
    "start_time": "2022-08-19T19:09:12.945Z"
   },
   {
    "duration": 120,
    "start_time": "2022-08-19T19:09:12.977Z"
   },
   {
    "duration": 26,
    "start_time": "2022-08-19T19:09:13.100Z"
   },
   {
    "duration": 4,
    "start_time": "2022-08-19T19:09:13.128Z"
   },
   {
    "duration": 10,
    "start_time": "2022-08-19T19:09:13.134Z"
   },
   {
    "duration": 103,
    "start_time": "2022-08-19T19:09:13.146Z"
   },
   {
    "duration": 106,
    "start_time": "2022-08-19T19:09:13.251Z"
   },
   {
    "duration": 20,
    "start_time": "2022-08-19T19:09:13.359Z"
   },
   {
    "duration": 10,
    "start_time": "2022-08-19T19:09:13.391Z"
   },
   {
    "duration": 62,
    "start_time": "2022-08-19T19:09:13.404Z"
   },
   {
    "duration": 2977,
    "start_time": "2022-08-19T19:09:13.468Z"
   },
   {
    "duration": 32,
    "start_time": "2022-08-19T19:09:16.447Z"
   },
   {
    "duration": 40,
    "start_time": "2022-08-19T19:09:16.481Z"
   },
   {
    "duration": 64,
    "start_time": "2022-08-19T19:09:16.524Z"
   },
   {
    "duration": 21,
    "start_time": "2022-08-19T19:09:16.590Z"
   },
   {
    "duration": 68,
    "start_time": "2022-08-19T19:09:16.613Z"
   },
   {
    "duration": 55,
    "start_time": "2022-08-19T19:09:16.686Z"
   },
   {
    "duration": 9,
    "start_time": "2022-08-19T19:09:16.743Z"
   },
   {
    "duration": 29,
    "start_time": "2022-08-19T19:09:16.756Z"
   },
   {
    "duration": 1861,
    "start_time": "2022-08-20T18:54:42.086Z"
   },
   {
    "duration": 178,
    "start_time": "2022-08-20T18:54:43.949Z"
   },
   {
    "duration": 4,
    "start_time": "2022-08-20T18:54:44.129Z"
   },
   {
    "duration": 102,
    "start_time": "2022-08-20T18:54:44.135Z"
   },
   {
    "duration": 3,
    "start_time": "2022-08-20T18:54:44.239Z"
   },
   {
    "duration": 80,
    "start_time": "2022-08-20T18:54:44.243Z"
   },
   {
    "duration": 12,
    "start_time": "2022-08-20T18:54:44.325Z"
   },
   {
    "duration": 93,
    "start_time": "2022-08-20T18:54:44.339Z"
   },
   {
    "duration": 15,
    "start_time": "2022-08-20T18:54:44.434Z"
   },
   {
    "duration": 10,
    "start_time": "2022-08-20T18:54:44.506Z"
   },
   {
    "duration": 28,
    "start_time": "2022-08-20T18:54:44.517Z"
   },
   {
    "duration": 61,
    "start_time": "2022-08-20T18:54:44.547Z"
   },
   {
    "duration": 552,
    "start_time": "2022-08-20T18:54:44.610Z"
   },
   {
    "duration": 8,
    "start_time": "2022-08-20T18:54:45.164Z"
   },
   {
    "duration": 30,
    "start_time": "2022-08-20T18:54:45.173Z"
   },
   {
    "duration": 154,
    "start_time": "2022-08-20T18:54:45.205Z"
   },
   {
    "duration": 10,
    "start_time": "2022-08-20T18:54:45.360Z"
   },
   {
    "duration": 17,
    "start_time": "2022-08-20T18:54:45.371Z"
   },
   {
    "duration": 11,
    "start_time": "2022-08-20T18:54:45.390Z"
   },
   {
    "duration": 7,
    "start_time": "2022-08-20T18:54:45.405Z"
   },
   {
    "duration": 30,
    "start_time": "2022-08-20T18:54:45.414Z"
   },
   {
    "duration": 588,
    "start_time": "2022-08-20T18:54:45.445Z"
   },
   {
    "duration": 12,
    "start_time": "2022-08-20T18:54:46.035Z"
   },
   {
    "duration": 57,
    "start_time": "2022-08-20T18:54:46.049Z"
   },
   {
    "duration": 27,
    "start_time": "2022-08-20T18:54:46.108Z"
   },
   {
    "duration": 73,
    "start_time": "2022-08-20T18:54:46.137Z"
   },
   {
    "duration": 63,
    "start_time": "2022-08-20T18:54:46.212Z"
   },
   {
    "duration": 32,
    "start_time": "2022-08-20T18:54:46.277Z"
   },
   {
    "duration": 12,
    "start_time": "2022-08-20T18:54:46.311Z"
   },
   {
    "duration": 100,
    "start_time": "2022-08-20T18:54:46.324Z"
   },
   {
    "duration": 24,
    "start_time": "2022-08-20T18:54:46.426Z"
   },
   {
    "duration": 4,
    "start_time": "2022-08-20T18:54:46.451Z"
   },
   {
    "duration": 10,
    "start_time": "2022-08-20T18:54:46.456Z"
   },
   {
    "duration": 93,
    "start_time": "2022-08-20T18:54:46.468Z"
   },
   {
    "duration": 71,
    "start_time": "2022-08-20T18:54:46.563Z"
   },
   {
    "duration": 14,
    "start_time": "2022-08-20T18:54:46.635Z"
   },
   {
    "duration": 2,
    "start_time": "2022-08-20T18:54:46.651Z"
   },
   {
    "duration": 70,
    "start_time": "2022-08-20T18:54:46.654Z"
   },
   {
    "duration": 3115,
    "start_time": "2022-08-20T18:54:46.727Z"
   },
   {
    "duration": 13,
    "start_time": "2022-08-20T18:54:49.844Z"
   },
   {
    "duration": 5,
    "start_time": "2022-08-20T18:54:49.860Z"
   },
   {
    "duration": 46,
    "start_time": "2022-08-20T18:54:49.866Z"
   },
   {
    "duration": 14,
    "start_time": "2022-08-20T18:54:49.913Z"
   },
   {
    "duration": 36,
    "start_time": "2022-08-20T18:54:49.929Z"
   },
   {
    "duration": 49,
    "start_time": "2022-08-20T18:54:49.967Z"
   },
   {
    "duration": 9,
    "start_time": "2022-08-20T18:54:50.018Z"
   },
   {
    "duration": 13,
    "start_time": "2022-08-20T18:54:50.029Z"
   },
   {
    "duration": 1346,
    "start_time": "2022-08-21T10:17:28.098Z"
   },
   {
    "duration": 237,
    "start_time": "2022-08-21T10:17:29.446Z"
   },
   {
    "duration": 4,
    "start_time": "2022-08-21T10:17:29.685Z"
   },
   {
    "duration": 37,
    "start_time": "2022-08-21T10:17:29.691Z"
   },
   {
    "duration": 3,
    "start_time": "2022-08-21T10:17:29.729Z"
   },
   {
    "duration": 17,
    "start_time": "2022-08-21T10:17:29.733Z"
   },
   {
    "duration": 13,
    "start_time": "2022-08-21T10:17:29.752Z"
   },
   {
    "duration": 51,
    "start_time": "2022-08-21T10:17:29.767Z"
   },
   {
    "duration": 10,
    "start_time": "2022-08-21T10:17:29.821Z"
   },
   {
    "duration": 8,
    "start_time": "2022-08-21T10:17:29.833Z"
   },
   {
    "duration": 14,
    "start_time": "2022-08-21T10:17:29.842Z"
   },
   {
    "duration": 44,
    "start_time": "2022-08-21T10:17:29.858Z"
   },
   {
    "duration": 445,
    "start_time": "2022-08-21T10:17:29.904Z"
   },
   {
    "duration": 8,
    "start_time": "2022-08-21T10:17:30.351Z"
   },
   {
    "duration": 27,
    "start_time": "2022-08-21T10:17:30.360Z"
   },
   {
    "duration": 141,
    "start_time": "2022-08-21T10:17:30.388Z"
   },
   {
    "duration": 10,
    "start_time": "2022-08-21T10:17:30.531Z"
   },
   {
    "duration": 43,
    "start_time": "2022-08-21T10:17:30.543Z"
   },
   {
    "duration": 18,
    "start_time": "2022-08-21T10:17:30.588Z"
   },
   {
    "duration": 31,
    "start_time": "2022-08-21T10:17:30.608Z"
   },
   {
    "duration": 21,
    "start_time": "2022-08-21T10:17:30.640Z"
   },
   {
    "duration": 427,
    "start_time": "2022-08-21T10:17:30.663Z"
   },
   {
    "duration": 6,
    "start_time": "2022-08-21T10:17:31.091Z"
   },
   {
    "duration": 13,
    "start_time": "2022-08-21T10:17:31.098Z"
   },
   {
    "duration": 7,
    "start_time": "2022-08-21T10:17:31.113Z"
   },
   {
    "duration": 99,
    "start_time": "2022-08-21T10:17:31.121Z"
   },
   {
    "duration": 76,
    "start_time": "2022-08-21T10:17:31.222Z"
   },
   {
    "duration": 13,
    "start_time": "2022-08-21T10:17:31.302Z"
   },
   {
    "duration": 17,
    "start_time": "2022-08-21T10:17:31.317Z"
   },
   {
    "duration": 103,
    "start_time": "2022-08-21T10:17:31.335Z"
   },
   {
    "duration": 21,
    "start_time": "2022-08-21T10:17:31.440Z"
   },
   {
    "duration": 3,
    "start_time": "2022-08-21T10:17:31.462Z"
   },
   {
    "duration": 9,
    "start_time": "2022-08-21T10:17:31.467Z"
   },
   {
    "duration": 76,
    "start_time": "2022-08-21T10:17:31.477Z"
   },
   {
    "duration": 72,
    "start_time": "2022-08-21T10:17:31.554Z"
   },
   {
    "duration": 12,
    "start_time": "2022-08-21T10:17:31.627Z"
   },
   {
    "duration": 2,
    "start_time": "2022-08-21T10:17:31.641Z"
   },
   {
    "duration": 60,
    "start_time": "2022-08-21T10:17:31.645Z"
   },
   {
    "duration": 2305,
    "start_time": "2022-08-21T10:17:31.707Z"
   },
   {
    "duration": 12,
    "start_time": "2022-08-21T10:17:34.014Z"
   },
   {
    "duration": 16,
    "start_time": "2022-08-21T10:17:34.028Z"
   },
   {
    "duration": 35,
    "start_time": "2022-08-21T10:17:34.045Z"
   },
   {
    "duration": 12,
    "start_time": "2022-08-21T10:17:34.081Z"
   },
   {
    "duration": 33,
    "start_time": "2022-08-21T10:17:34.095Z"
   },
   {
    "duration": 28,
    "start_time": "2022-08-21T10:17:34.129Z"
   },
   {
    "duration": 7,
    "start_time": "2022-08-21T10:17:34.159Z"
   },
   {
    "duration": 32,
    "start_time": "2022-08-21T10:17:34.168Z"
   },
   {
    "duration": 657,
    "start_time": "2022-08-21T10:20:39.297Z"
   },
   {
    "duration": 448,
    "start_time": "2022-08-21T10:21:05.221Z"
   },
   {
    "duration": 424,
    "start_time": "2022-08-21T10:21:11.412Z"
   },
   {
    "duration": 571,
    "start_time": "2022-08-21T10:25:56.882Z"
   },
   {
    "duration": 434,
    "start_time": "2022-08-21T10:26:08.344Z"
   },
   {
    "duration": 449,
    "start_time": "2022-08-21T10:28:12.925Z"
   },
   {
    "duration": 584,
    "start_time": "2022-08-21T10:29:50.885Z"
   },
   {
    "duration": 544,
    "start_time": "2022-08-21T10:29:59.820Z"
   },
   {
    "duration": 559,
    "start_time": "2022-08-21T10:32:26.060Z"
   },
   {
    "duration": 4,
    "start_time": "2022-08-21T10:32:51.438Z"
   },
   {
    "duration": 48,
    "start_time": "2022-08-21T10:33:13.365Z"
   },
   {
    "duration": 68,
    "start_time": "2022-08-21T10:33:28.135Z"
   },
   {
    "duration": 480,
    "start_time": "2022-08-21T10:33:31.650Z"
   },
   {
    "duration": 512,
    "start_time": "2022-08-21T10:36:15.112Z"
   },
   {
    "duration": 601,
    "start_time": "2022-08-21T10:36:43.085Z"
   },
   {
    "duration": 490,
    "start_time": "2022-08-21T10:42:19.952Z"
   },
   {
    "duration": 454,
    "start_time": "2022-08-21T10:43:08.034Z"
   },
   {
    "duration": 13,
    "start_time": "2022-08-21T10:53:12.907Z"
   },
   {
    "duration": 567,
    "start_time": "2022-08-21T10:53:31.491Z"
   },
   {
    "duration": 436,
    "start_time": "2022-08-21T10:53:35.276Z"
   },
   {
    "duration": 561,
    "start_time": "2022-08-21T10:53:48.057Z"
   },
   {
    "duration": 15,
    "start_time": "2022-08-21T11:07:42.503Z"
   },
   {
    "duration": 13,
    "start_time": "2022-08-21T11:07:47.909Z"
   },
   {
    "duration": 14,
    "start_time": "2022-08-21T11:08:52.905Z"
   },
   {
    "duration": 491,
    "start_time": "2022-08-21T11:11:16.678Z"
   },
   {
    "duration": 608,
    "start_time": "2022-08-21T11:11:25.049Z"
   },
   {
    "duration": 465,
    "start_time": "2022-08-21T11:12:56.527Z"
   },
   {
    "duration": 448,
    "start_time": "2022-08-21T11:13:29.450Z"
   },
   {
    "duration": 3,
    "start_time": "2022-08-21T11:14:23.238Z"
   },
   {
    "duration": 80,
    "start_time": "2022-08-21T11:14:37.148Z"
   },
   {
    "duration": 614,
    "start_time": "2022-08-21T11:14:45.765Z"
   },
   {
    "duration": 448,
    "start_time": "2022-08-21T11:17:57.461Z"
   },
   {
    "duration": 518,
    "start_time": "2022-08-21T11:18:04.413Z"
   },
   {
    "duration": 17,
    "start_time": "2022-08-21T11:23:00.707Z"
   },
   {
    "duration": 11,
    "start_time": "2022-08-21T11:23:48.929Z"
   },
   {
    "duration": 17,
    "start_time": "2022-08-21T11:24:10.256Z"
   },
   {
    "duration": 8,
    "start_time": "2022-08-21T11:24:46.625Z"
   },
   {
    "duration": 12,
    "start_time": "2022-08-21T11:25:23.342Z"
   },
   {
    "duration": 10,
    "start_time": "2022-08-21T11:25:37.379Z"
   },
   {
    "duration": 15,
    "start_time": "2022-08-21T11:25:47.083Z"
   },
   {
    "duration": 18,
    "start_time": "2022-08-21T11:41:28.865Z"
   },
   {
    "duration": 18,
    "start_time": "2022-08-21T11:41:46.863Z"
   },
   {
    "duration": 24,
    "start_time": "2022-08-21T11:41:55.352Z"
   },
   {
    "duration": 12,
    "start_time": "2022-08-21T11:42:49.209Z"
   },
   {
    "duration": 155,
    "start_time": "2022-08-21T11:49:26.083Z"
   },
   {
    "duration": 10,
    "start_time": "2022-08-21T11:50:00.901Z"
   },
   {
    "duration": 87,
    "start_time": "2022-08-21T11:56:32.346Z"
   },
   {
    "duration": 56,
    "start_time": "2022-08-21T11:57:17.157Z"
   },
   {
    "duration": 33,
    "start_time": "2022-08-21T11:57:40.164Z"
   },
   {
    "duration": 37,
    "start_time": "2022-08-21T11:58:28.985Z"
   },
   {
    "duration": 21,
    "start_time": "2022-08-21T11:58:43.573Z"
   },
   {
    "duration": 25,
    "start_time": "2022-08-21T11:59:01.527Z"
   },
   {
    "duration": 24,
    "start_time": "2022-08-21T11:59:19.981Z"
   },
   {
    "duration": 13,
    "start_time": "2022-08-21T12:00:56.726Z"
   },
   {
    "duration": 28,
    "start_time": "2022-08-21T12:01:18.546Z"
   },
   {
    "duration": 26,
    "start_time": "2022-08-21T12:01:21.395Z"
   },
   {
    "duration": 14,
    "start_time": "2022-08-21T12:02:04.402Z"
   },
   {
    "duration": 1304,
    "start_time": "2022-08-21T12:02:28.204Z"
   },
   {
    "duration": 1301,
    "start_time": "2022-08-21T12:02:41.326Z"
   },
   {
    "duration": 4,
    "start_time": "2022-08-21T12:03:16.826Z"
   },
   {
    "duration": 24,
    "start_time": "2022-08-21T12:03:26.431Z"
   },
   {
    "duration": 15,
    "start_time": "2022-08-21T12:04:20.489Z"
   },
   {
    "duration": 20,
    "start_time": "2022-08-21T12:04:22.167Z"
   },
   {
    "duration": 64,
    "start_time": "2022-08-21T13:06:16.917Z"
   },
   {
    "duration": 1099,
    "start_time": "2022-08-21T13:09:25.945Z"
   },
   {
    "duration": 68,
    "start_time": "2022-08-21T13:09:27.046Z"
   },
   {
    "duration": 4,
    "start_time": "2022-08-21T13:09:27.115Z"
   },
   {
    "duration": 39,
    "start_time": "2022-08-21T13:09:27.121Z"
   },
   {
    "duration": 3,
    "start_time": "2022-08-21T13:09:27.162Z"
   },
   {
    "duration": 18,
    "start_time": "2022-08-21T13:09:27.166Z"
   },
   {
    "duration": 21,
    "start_time": "2022-08-21T13:09:27.185Z"
   },
   {
    "duration": 26,
    "start_time": "2022-08-21T13:09:27.207Z"
   },
   {
    "duration": 9,
    "start_time": "2022-08-21T13:09:27.234Z"
   },
   {
    "duration": 9,
    "start_time": "2022-08-21T13:09:27.245Z"
   },
   {
    "duration": 13,
    "start_time": "2022-08-21T13:09:27.255Z"
   },
   {
    "duration": 10,
    "start_time": "2022-08-21T13:09:27.299Z"
   },
   {
    "duration": 460,
    "start_time": "2022-08-21T13:09:27.311Z"
   },
   {
    "duration": 7,
    "start_time": "2022-08-21T13:09:27.772Z"
   },
   {
    "duration": 19,
    "start_time": "2022-08-21T13:09:27.781Z"
   },
   {
    "duration": 136,
    "start_time": "2022-08-21T13:09:27.802Z"
   },
   {
    "duration": 10,
    "start_time": "2022-08-21T13:09:27.939Z"
   },
   {
    "duration": 20,
    "start_time": "2022-08-21T13:09:27.951Z"
   },
   {
    "duration": 5,
    "start_time": "2022-08-21T13:09:27.973Z"
   },
   {
    "duration": 27,
    "start_time": "2022-08-21T13:09:27.998Z"
   },
   {
    "duration": 10,
    "start_time": "2022-08-21T13:09:28.027Z"
   },
   {
    "duration": 10,
    "start_time": "2022-08-21T13:09:28.038Z"
   },
   {
    "duration": 4,
    "start_time": "2022-08-21T13:09:28.049Z"
   },
   {
    "duration": 18,
    "start_time": "2022-08-21T13:09:28.054Z"
   },
   {
    "duration": 28,
    "start_time": "2022-08-21T13:09:28.074Z"
   },
   {
    "duration": 9,
    "start_time": "2022-08-21T13:09:28.103Z"
   },
   {
    "duration": 407,
    "start_time": "2022-08-21T13:09:28.114Z"
   },
   {
    "duration": 6,
    "start_time": "2022-08-21T13:09:28.524Z"
   },
   {
    "duration": 19,
    "start_time": "2022-08-21T13:09:28.531Z"
   },
   {
    "duration": 9,
    "start_time": "2022-08-21T13:09:28.552Z"
   },
   {
    "duration": 135,
    "start_time": "2022-08-21T13:09:28.563Z"
   },
   {
    "duration": 45,
    "start_time": "2022-08-21T13:09:28.700Z"
   },
   {
    "duration": 13,
    "start_time": "2022-08-21T13:09:28.747Z"
   },
   {
    "duration": 6,
    "start_time": "2022-08-21T13:09:28.762Z"
   },
   {
    "duration": 94,
    "start_time": "2022-08-21T13:09:28.770Z"
   },
   {
    "duration": 33,
    "start_time": "2022-08-21T13:09:28.866Z"
   },
   {
    "duration": 4,
    "start_time": "2022-08-21T13:09:28.900Z"
   },
   {
    "duration": 11,
    "start_time": "2022-08-21T13:09:28.905Z"
   },
   {
    "duration": 60,
    "start_time": "2022-08-21T13:09:28.918Z"
   },
   {
    "duration": 76,
    "start_time": "2022-08-21T13:09:28.979Z"
   },
   {
    "duration": 12,
    "start_time": "2022-08-21T13:09:29.057Z"
   },
   {
    "duration": 3,
    "start_time": "2022-08-21T13:09:29.070Z"
   },
   {
    "duration": 60,
    "start_time": "2022-08-21T13:09:29.074Z"
   },
   {
    "duration": 3086,
    "start_time": "2022-08-21T13:09:29.136Z"
   },
   {
    "duration": 14,
    "start_time": "2022-08-21T13:09:32.223Z"
   },
   {
    "duration": 5,
    "start_time": "2022-08-21T13:09:32.238Z"
   },
   {
    "duration": 33,
    "start_time": "2022-08-21T13:09:32.299Z"
   },
   {
    "duration": 12,
    "start_time": "2022-08-21T13:09:32.333Z"
   },
   {
    "duration": 106,
    "start_time": "2022-08-21T13:09:32.399Z"
   },
   {
    "duration": 91,
    "start_time": "2022-08-21T13:09:32.507Z"
   },
   {
    "duration": 7,
    "start_time": "2022-08-21T13:09:32.600Z"
   },
   {
    "duration": 10,
    "start_time": "2022-08-21T13:09:32.609Z"
   },
   {
    "duration": 93,
    "start_time": "2022-08-21T13:10:12.837Z"
   },
   {
    "duration": 51,
    "start_time": "2022-08-21T13:13:34.336Z"
   },
   {
    "duration": 193,
    "start_time": "2022-08-21T13:19:15.485Z"
   },
   {
    "duration": 52,
    "start_time": "2022-08-21T13:19:37.320Z"
   },
   {
    "duration": 265,
    "start_time": "2022-08-21T13:19:43.229Z"
   },
   {
    "duration": 47,
    "start_time": "2022-08-21T13:21:14.982Z"
   },
   {
    "duration": 140,
    "start_time": "2022-08-21T13:22:04.647Z"
   },
   {
    "duration": 158,
    "start_time": "2022-08-21T13:22:29.312Z"
   },
   {
    "duration": 166,
    "start_time": "2022-08-21T13:25:22.595Z"
   },
   {
    "duration": 218,
    "start_time": "2022-08-21T13:25:33.400Z"
   },
   {
    "duration": 153,
    "start_time": "2022-08-21T13:25:38.244Z"
   },
   {
    "duration": 165,
    "start_time": "2022-08-21T13:25:45.126Z"
   },
   {
    "duration": 218,
    "start_time": "2022-08-21T13:26:42.384Z"
   },
   {
    "duration": 164,
    "start_time": "2022-08-21T13:29:31.362Z"
   },
   {
    "duration": 152,
    "start_time": "2022-08-21T13:29:48.646Z"
   },
   {
    "duration": 1128,
    "start_time": "2022-08-21T14:34:37.903Z"
   },
   {
    "duration": 66,
    "start_time": "2022-08-21T14:34:39.033Z"
   },
   {
    "duration": 6,
    "start_time": "2022-08-21T14:34:39.100Z"
   },
   {
    "duration": 38,
    "start_time": "2022-08-21T14:34:39.108Z"
   },
   {
    "duration": 3,
    "start_time": "2022-08-21T14:34:39.148Z"
   },
   {
    "duration": 24,
    "start_time": "2022-08-21T14:34:39.152Z"
   },
   {
    "duration": 29,
    "start_time": "2022-08-21T14:34:39.177Z"
   },
   {
    "duration": 28,
    "start_time": "2022-08-21T14:34:39.208Z"
   },
   {
    "duration": 10,
    "start_time": "2022-08-21T14:34:39.237Z"
   },
   {
    "duration": 7,
    "start_time": "2022-08-21T14:34:39.250Z"
   },
   {
    "duration": 51,
    "start_time": "2022-08-21T14:34:39.258Z"
   },
   {
    "duration": 9,
    "start_time": "2022-08-21T14:34:39.311Z"
   },
   {
    "duration": 487,
    "start_time": "2022-08-21T14:34:39.321Z"
   },
   {
    "duration": 9,
    "start_time": "2022-08-21T14:34:39.809Z"
   },
   {
    "duration": 9,
    "start_time": "2022-08-21T14:34:39.819Z"
   },
   {
    "duration": 162,
    "start_time": "2022-08-21T14:34:39.830Z"
   },
   {
    "duration": 11,
    "start_time": "2022-08-21T14:34:39.994Z"
   },
   {
    "duration": 17,
    "start_time": "2022-08-21T14:34:40.006Z"
   },
   {
    "duration": 14,
    "start_time": "2022-08-21T14:34:40.024Z"
   },
   {
    "duration": 33,
    "start_time": "2022-08-21T14:34:40.040Z"
   },
   {
    "duration": 25,
    "start_time": "2022-08-21T14:34:40.074Z"
   },
   {
    "duration": 11,
    "start_time": "2022-08-21T14:34:40.101Z"
   },
   {
    "duration": 4,
    "start_time": "2022-08-21T14:34:40.113Z"
   },
   {
    "duration": 16,
    "start_time": "2022-08-21T14:34:40.119Z"
   },
   {
    "duration": 5,
    "start_time": "2022-08-21T14:34:40.137Z"
   },
   {
    "duration": 12,
    "start_time": "2022-08-21T14:34:40.144Z"
   },
   {
    "duration": 397,
    "start_time": "2022-08-21T14:34:40.157Z"
   },
   {
    "duration": 7,
    "start_time": "2022-08-21T14:34:40.557Z"
   },
   {
    "duration": 37,
    "start_time": "2022-08-21T14:34:40.566Z"
   },
   {
    "duration": 9,
    "start_time": "2022-08-21T14:34:40.604Z"
   },
   {
    "duration": 108,
    "start_time": "2022-08-21T14:34:40.615Z"
   },
   {
    "duration": 47,
    "start_time": "2022-08-21T14:34:40.724Z"
   },
   {
    "duration": 14,
    "start_time": "2022-08-21T14:34:40.801Z"
   },
   {
    "duration": 8,
    "start_time": "2022-08-21T14:34:40.816Z"
   },
   {
    "duration": 87,
    "start_time": "2022-08-21T14:34:40.825Z"
   },
   {
    "duration": 22,
    "start_time": "2022-08-21T14:34:40.913Z"
   },
   {
    "duration": 4,
    "start_time": "2022-08-21T14:34:40.936Z"
   },
   {
    "duration": 9,
    "start_time": "2022-08-21T14:34:40.941Z"
   },
   {
    "duration": 86,
    "start_time": "2022-08-21T14:34:40.951Z"
   },
   {
    "duration": 79,
    "start_time": "2022-08-21T14:34:41.039Z"
   },
   {
    "duration": 13,
    "start_time": "2022-08-21T14:34:41.119Z"
   },
   {
    "duration": 3,
    "start_time": "2022-08-21T14:34:41.133Z"
   },
   {
    "duration": 48,
    "start_time": "2022-08-21T14:34:41.137Z"
   },
   {
    "duration": 231,
    "start_time": "2022-08-21T14:34:41.198Z"
   },
   {
    "duration": 209,
    "start_time": "2022-08-21T14:34:41.431Z"
   },
   {
    "duration": 3742,
    "start_time": "2022-08-21T14:34:41.642Z"
   },
   {
    "duration": 15,
    "start_time": "2022-08-21T14:34:45.386Z"
   },
   {
    "duration": 8,
    "start_time": "2022-08-21T14:34:45.402Z"
   },
   {
    "duration": 32,
    "start_time": "2022-08-21T14:34:45.411Z"
   },
   {
    "duration": 12,
    "start_time": "2022-08-21T14:34:45.445Z"
   },
   {
    "duration": 52,
    "start_time": "2022-08-21T14:34:45.458Z"
   },
   {
    "duration": 28,
    "start_time": "2022-08-21T14:34:45.511Z"
   },
   {
    "duration": 7,
    "start_time": "2022-08-21T14:34:45.541Z"
   },
   {
    "duration": 16,
    "start_time": "2022-08-21T14:34:45.550Z"
   }
  ],
  "kernelspec": {
   "display_name": "Python 3 (ipykernel)",
   "language": "python",
   "name": "python3"
  },
  "language_info": {
   "codemirror_mode": {
    "name": "ipython",
    "version": 3
   },
   "file_extension": ".py",
   "mimetype": "text/x-python",
   "name": "python",
   "nbconvert_exporter": "python",
   "pygments_lexer": "ipython3",
   "version": "3.9.12"
  },
  "toc": {
   "base_numbering": 1,
   "nav_menu": {},
   "number_sections": true,
   "sideBar": true,
   "skip_h1_title": true,
   "title_cell": "Table of Contents",
   "title_sidebar": "Contents",
   "toc_cell": false,
   "toc_position": {
    "height": "calc(100% - 180px)",
    "left": "10px",
    "top": "150px",
    "width": "226.389px"
   },
   "toc_section_display": true,
   "toc_window_display": true
  }
 },
 "nbformat": 4,
 "nbformat_minor": 2
}
