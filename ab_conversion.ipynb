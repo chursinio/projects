{
 "cells": [
  {
   "cell_type": "markdown",
   "metadata": {},
   "source": [
    "# Приоритизация гипотез и проведение A/B теста"
   ]
  },
  {
   "cell_type": "markdown",
   "metadata": {},
   "source": [
    "Отдел маркетинга крупного интернет-магазина подготовили список гипотез для увеличения выручки, а также провёл A/B тестирование новой фичи/функции на сайте.\n",
    "\n",
    "**Цель исследования** \n",
    "1. Определить, какие гипотезы с большей веротяностью способствуют увеличению выручки\n",
    "2. Проанализировать результаты уже проведенного A/B-теста и сделать выводы об эффективности новой функции\n",
    "\n",
    "**Ход исследования**\n",
    "\n",
    "1. Приоритизировать гипотезы, с применением фрэймфворков ICE и RICE\n",
    "2. Определить, как изменилась приоритизация гипотез при применении RICE вместо ICE\n",
    "3. Построить графики кумулятивной выручки,кумулятивного среднего чека по группам и относительного изменения кумулятивного среднего чека группы B к группе A\n",
    "4. Пострить графики кумулятивной конверсии по группам, относительного изменения кумулятивной конверсии группы B к группе A\n",
    "5. Построить точечный график стоимостей заказов и количества заказов по пользователям\n",
    "6. Посчитать 95-й и 99-й перцентили стоимости заказов и  количества заказов на пользователя. Выбрать границу для определения аномальных пользователей и аномальных заказов\n",
    "7. Посчитать статистическую значимость различий в конверсии и среднем чеке заказа между группами по «сырым» данным\n",
    "8. Посчитать статистическую значимость различий в конверсии и среднем чеке заказа между группами по «очищенным» данным. \n",
    "9. Сделать выводы об эффективности новой функции"
   ]
  },
  {
   "cell_type": "markdown",
   "metadata": {},
   "source": [
    "## Изучение данных и подготовка к анализу"
   ]
  },
  {
   "cell_type": "markdown",
   "metadata": {},
   "source": [
    "### Загрузка данных"
   ]
  },
  {
   "cell_type": "markdown",
   "metadata": {},
   "source": [
    "Согласно полученно документации нам представлены следующие данные:\n",
    "1. Таблица **Hypothesis** с гипотезами\n",
    "- `Hypothesis` — краткое описание гипотезы;\n",
    "- `Reach` — охват пользователей по 10-балльной шкале;\n",
    "- `Impact` — влияние на пользователей по 10-балльной шкале;\n",
    "- `Confidence` — уверенность в гипотезе по 10-балльной шкале;\n",
    "- `Efforts` — затраты ресурсов на проверку гипотезы по 10-балльной шкале. Чем больше значение Efforts, тем дороже проверка гипотезы.\n",
    "2. Таблица **orders** c перечнем заказов\n",
    "- `transactionId` — идентификатор заказа;\n",
    "- `visitorId` — идентификатор пользователя, совершившего заказ;\n",
    "- `date` — дата, когда был совершён заказ;\n",
    "- `revenue` — выручка заказа;\n",
    "- `group` — группа A/B-теста, в которую попал заказ\n",
    "3. Таблица **visits** с количеством посетителей в каждую дату\n",
    "- `date` — дата;\n",
    "- `group` — группа A/B-теста;\n",
    "- `visitors` — количество пользователей в указанную дату в указанной группе A/B-теста"
   ]
  },
  {
   "cell_type": "markdown",
   "metadata": {},
   "source": [
    "Импортируем необходимые библиотеки и откроем файлы"
   ]
  },
  {
   "cell_type": "code",
   "execution_count": 1,
   "metadata": {},
   "outputs": [],
   "source": [
    "import pandas as pd\n",
    "import matplotlib.pyplot as plt\n",
    "import seaborn as sns\n",
    "import numpy as np\n",
    "from datetime import datetime, timedelta\n",
    "import scipy.stats as stats"
   ]
  },
  {
   "cell_type": "code",
   "execution_count": 2,
   "metadata": {},
   "outputs": [],
   "source": [
    "try:\n",
    "    hypo, orders, visits = (\n",
    "    pd.read_csv('hypothesis.csv'),\n",
    "    pd.read_csv('orders.csv'),\n",
    "    pd.read_csv('visitors.csv')\n",
    ")\n",
    "except:\n",
    "    hypo, orders, visits = (\n",
    "    pd.read_csv('/Users/ASUS/Учебные проекты/7_Принятие решений в бизнесе/hypothesis.csv'),\n",
    "    pd.read_csv('/Users/ASUS/Учебные проекты/7_Принятие решений в бизнесе/orders.csv'),\n",
    "    pd.read_csv('/Users/ASUS/Учебные проекты/7_Принятие решений в бизнесе/visitors.csv')\n",
    ")"
   ]
  },
  {
   "cell_type": "markdown",
   "metadata": {},
   "source": [
    "### Первичный анализ"
   ]
  },
  {
   "cell_type": "markdown",
   "metadata": {},
   "source": [
    "Посмотрим общую информацию по каждому файлу"
   ]
  },
  {
   "cell_type": "code",
   "execution_count": 3,
   "metadata": {},
   "outputs": [],
   "source": [
    "def data_info(data):\n",
    "    data.columns = data.columns.str.lower()\n",
    "    display(data.head())\n",
    "    print('*' *40)\n",
    "    data.info()\n",
    "    print('*' * 40)\n",
    "    print(f' Количество явных дубликатов - {data.duplicated().sum()}')\n",
    "    print('*' * 40)\n",
    "    print(f' Количество пропусков - {data.isna().sum()}');"
   ]
  },
  {
   "cell_type": "code",
   "execution_count": 4,
   "metadata": {},
   "outputs": [],
   "source": [
    "pd.set_option('max_colwidth', None)"
   ]
  },
  {
   "cell_type": "code",
   "execution_count": 5,
   "metadata": {},
   "outputs": [
    {
     "data": {
      "text/html": [
       "<div>\n",
       "<style scoped>\n",
       "    .dataframe tbody tr th:only-of-type {\n",
       "        vertical-align: middle;\n",
       "    }\n",
       "\n",
       "    .dataframe tbody tr th {\n",
       "        vertical-align: top;\n",
       "    }\n",
       "\n",
       "    .dataframe thead th {\n",
       "        text-align: right;\n",
       "    }\n",
       "</style>\n",
       "<table border=\"1\" class=\"dataframe\">\n",
       "  <thead>\n",
       "    <tr style=\"text-align: right;\">\n",
       "      <th></th>\n",
       "      <th>hypothesis</th>\n",
       "      <th>reach</th>\n",
       "      <th>impact</th>\n",
       "      <th>confidence</th>\n",
       "      <th>efforts</th>\n",
       "    </tr>\n",
       "  </thead>\n",
       "  <tbody>\n",
       "    <tr>\n",
       "      <th>0</th>\n",
       "      <td>Добавить два новых канала привлечения трафика, что позволит привлекать на 30% больше пользователей</td>\n",
       "      <td>3</td>\n",
       "      <td>10</td>\n",
       "      <td>8</td>\n",
       "      <td>6</td>\n",
       "    </tr>\n",
       "    <tr>\n",
       "      <th>1</th>\n",
       "      <td>Запустить собственную службу доставки, что сократит срок доставки заказов</td>\n",
       "      <td>2</td>\n",
       "      <td>5</td>\n",
       "      <td>4</td>\n",
       "      <td>10</td>\n",
       "    </tr>\n",
       "    <tr>\n",
       "      <th>2</th>\n",
       "      <td>Добавить блоки рекомендаций товаров на сайт интернет магазина, чтобы повысить конверсию и средний чек заказа</td>\n",
       "      <td>8</td>\n",
       "      <td>3</td>\n",
       "      <td>7</td>\n",
       "      <td>3</td>\n",
       "    </tr>\n",
       "    <tr>\n",
       "      <th>3</th>\n",
       "      <td>Изменить структура категорий, что увеличит конверсию, т.к. пользователи быстрее найдут нужный товар</td>\n",
       "      <td>8</td>\n",
       "      <td>3</td>\n",
       "      <td>3</td>\n",
       "      <td>8</td>\n",
       "    </tr>\n",
       "    <tr>\n",
       "      <th>4</th>\n",
       "      <td>Изменить цвет фона главной страницы, чтобы увеличить вовлеченность пользователей</td>\n",
       "      <td>3</td>\n",
       "      <td>1</td>\n",
       "      <td>1</td>\n",
       "      <td>1</td>\n",
       "    </tr>\n",
       "  </tbody>\n",
       "</table>\n",
       "</div>"
      ],
      "text/plain": [
       "                                                                                                     hypothesis  \\\n",
       "0            Добавить два новых канала привлечения трафика, что позволит привлекать на 30% больше пользователей   \n",
       "1                                     Запустить собственную службу доставки, что сократит срок доставки заказов   \n",
       "2  Добавить блоки рекомендаций товаров на сайт интернет магазина, чтобы повысить конверсию и средний чек заказа   \n",
       "3           Изменить структура категорий, что увеличит конверсию, т.к. пользователи быстрее найдут нужный товар   \n",
       "4                              Изменить цвет фона главной страницы, чтобы увеличить вовлеченность пользователей   \n",
       "\n",
       "   reach  impact  confidence  efforts  \n",
       "0      3      10           8        6  \n",
       "1      2       5           4       10  \n",
       "2      8       3           7        3  \n",
       "3      8       3           3        8  \n",
       "4      3       1           1        1  "
      ]
     },
     "metadata": {},
     "output_type": "display_data"
    },
    {
     "name": "stdout",
     "output_type": "stream",
     "text": [
      "****************************************\n",
      "<class 'pandas.core.frame.DataFrame'>\n",
      "RangeIndex: 9 entries, 0 to 8\n",
      "Data columns (total 5 columns):\n",
      " #   Column      Non-Null Count  Dtype \n",
      "---  ------      --------------  ----- \n",
      " 0   hypothesis  9 non-null      object\n",
      " 1   reach       9 non-null      int64 \n",
      " 2   impact      9 non-null      int64 \n",
      " 3   confidence  9 non-null      int64 \n",
      " 4   efforts     9 non-null      int64 \n",
      "dtypes: int64(4), object(1)\n",
      "memory usage: 488.0+ bytes\n",
      "****************************************\n",
      " Количество явных дубликатов - 0\n",
      "****************************************\n",
      " Количество пропусков - hypothesis    0\n",
      "reach         0\n",
      "impact        0\n",
      "confidence    0\n",
      "efforts       0\n",
      "dtype: int64\n"
     ]
    },
    {
     "data": {
      "text/html": [
       "<div>\n",
       "<style scoped>\n",
       "    .dataframe tbody tr th:only-of-type {\n",
       "        vertical-align: middle;\n",
       "    }\n",
       "\n",
       "    .dataframe tbody tr th {\n",
       "        vertical-align: top;\n",
       "    }\n",
       "\n",
       "    .dataframe thead th {\n",
       "        text-align: right;\n",
       "    }\n",
       "</style>\n",
       "<table border=\"1\" class=\"dataframe\">\n",
       "  <thead>\n",
       "    <tr style=\"text-align: right;\">\n",
       "      <th></th>\n",
       "      <th>transactionid</th>\n",
       "      <th>visitorid</th>\n",
       "      <th>date</th>\n",
       "      <th>revenue</th>\n",
       "      <th>group</th>\n",
       "    </tr>\n",
       "  </thead>\n",
       "  <tbody>\n",
       "    <tr>\n",
       "      <th>0</th>\n",
       "      <td>3667963787</td>\n",
       "      <td>3312258926</td>\n",
       "      <td>2019-08-15</td>\n",
       "      <td>1650</td>\n",
       "      <td>B</td>\n",
       "    </tr>\n",
       "    <tr>\n",
       "      <th>1</th>\n",
       "      <td>2804400009</td>\n",
       "      <td>3642806036</td>\n",
       "      <td>2019-08-15</td>\n",
       "      <td>730</td>\n",
       "      <td>B</td>\n",
       "    </tr>\n",
       "    <tr>\n",
       "      <th>2</th>\n",
       "      <td>2961555356</td>\n",
       "      <td>4069496402</td>\n",
       "      <td>2019-08-15</td>\n",
       "      <td>400</td>\n",
       "      <td>A</td>\n",
       "    </tr>\n",
       "    <tr>\n",
       "      <th>3</th>\n",
       "      <td>3797467345</td>\n",
       "      <td>1196621759</td>\n",
       "      <td>2019-08-15</td>\n",
       "      <td>9759</td>\n",
       "      <td>B</td>\n",
       "    </tr>\n",
       "    <tr>\n",
       "      <th>4</th>\n",
       "      <td>2282983706</td>\n",
       "      <td>2322279887</td>\n",
       "      <td>2019-08-15</td>\n",
       "      <td>2308</td>\n",
       "      <td>B</td>\n",
       "    </tr>\n",
       "  </tbody>\n",
       "</table>\n",
       "</div>"
      ],
      "text/plain": [
       "   transactionid   visitorid        date  revenue group\n",
       "0     3667963787  3312258926  2019-08-15     1650     B\n",
       "1     2804400009  3642806036  2019-08-15      730     B\n",
       "2     2961555356  4069496402  2019-08-15      400     A\n",
       "3     3797467345  1196621759  2019-08-15     9759     B\n",
       "4     2282983706  2322279887  2019-08-15     2308     B"
      ]
     },
     "metadata": {},
     "output_type": "display_data"
    },
    {
     "name": "stdout",
     "output_type": "stream",
     "text": [
      "****************************************\n",
      "<class 'pandas.core.frame.DataFrame'>\n",
      "RangeIndex: 1197 entries, 0 to 1196\n",
      "Data columns (total 5 columns):\n",
      " #   Column         Non-Null Count  Dtype \n",
      "---  ------         --------------  ----- \n",
      " 0   transactionid  1197 non-null   int64 \n",
      " 1   visitorid      1197 non-null   int64 \n",
      " 2   date           1197 non-null   object\n",
      " 3   revenue        1197 non-null   int64 \n",
      " 4   group          1197 non-null   object\n",
      "dtypes: int64(3), object(2)\n",
      "memory usage: 46.9+ KB\n",
      "****************************************\n",
      " Количество явных дубликатов - 0\n",
      "****************************************\n",
      " Количество пропусков - transactionid    0\n",
      "visitorid        0\n",
      "date             0\n",
      "revenue          0\n",
      "group            0\n",
      "dtype: int64\n"
     ]
    },
    {
     "data": {
      "text/html": [
       "<div>\n",
       "<style scoped>\n",
       "    .dataframe tbody tr th:only-of-type {\n",
       "        vertical-align: middle;\n",
       "    }\n",
       "\n",
       "    .dataframe tbody tr th {\n",
       "        vertical-align: top;\n",
       "    }\n",
       "\n",
       "    .dataframe thead th {\n",
       "        text-align: right;\n",
       "    }\n",
       "</style>\n",
       "<table border=\"1\" class=\"dataframe\">\n",
       "  <thead>\n",
       "    <tr style=\"text-align: right;\">\n",
       "      <th></th>\n",
       "      <th>date</th>\n",
       "      <th>group</th>\n",
       "      <th>visitors</th>\n",
       "    </tr>\n",
       "  </thead>\n",
       "  <tbody>\n",
       "    <tr>\n",
       "      <th>0</th>\n",
       "      <td>2019-08-01</td>\n",
       "      <td>A</td>\n",
       "      <td>719</td>\n",
       "    </tr>\n",
       "    <tr>\n",
       "      <th>1</th>\n",
       "      <td>2019-08-02</td>\n",
       "      <td>A</td>\n",
       "      <td>619</td>\n",
       "    </tr>\n",
       "    <tr>\n",
       "      <th>2</th>\n",
       "      <td>2019-08-03</td>\n",
       "      <td>A</td>\n",
       "      <td>507</td>\n",
       "    </tr>\n",
       "    <tr>\n",
       "      <th>3</th>\n",
       "      <td>2019-08-04</td>\n",
       "      <td>A</td>\n",
       "      <td>717</td>\n",
       "    </tr>\n",
       "    <tr>\n",
       "      <th>4</th>\n",
       "      <td>2019-08-05</td>\n",
       "      <td>A</td>\n",
       "      <td>756</td>\n",
       "    </tr>\n",
       "  </tbody>\n",
       "</table>\n",
       "</div>"
      ],
      "text/plain": [
       "         date group  visitors\n",
       "0  2019-08-01     A       719\n",
       "1  2019-08-02     A       619\n",
       "2  2019-08-03     A       507\n",
       "3  2019-08-04     A       717\n",
       "4  2019-08-05     A       756"
      ]
     },
     "metadata": {},
     "output_type": "display_data"
    },
    {
     "name": "stdout",
     "output_type": "stream",
     "text": [
      "****************************************\n",
      "<class 'pandas.core.frame.DataFrame'>\n",
      "RangeIndex: 62 entries, 0 to 61\n",
      "Data columns (total 3 columns):\n",
      " #   Column    Non-Null Count  Dtype \n",
      "---  ------    --------------  ----- \n",
      " 0   date      62 non-null     object\n",
      " 1   group     62 non-null     object\n",
      " 2   visitors  62 non-null     int64 \n",
      "dtypes: int64(1), object(2)\n",
      "memory usage: 1.6+ KB\n",
      "****************************************\n",
      " Количество явных дубликатов - 0\n",
      "****************************************\n",
      " Количество пропусков - date        0\n",
      "group       0\n",
      "visitors    0\n",
      "dtype: int64\n"
     ]
    }
   ],
   "source": [
    "[data_info(_) for _ in (hypo, orders, visits)];"
   ]
  },
  {
   "cell_type": "markdown",
   "metadata": {},
   "source": [
    "Таблица **hypo** состоит всего из 10 строк. В ней какие-либо проблемы отстуствуют.\n",
    "\n",
    "Таблицы **orders** и **visits** пообъёмнее. В них требуется поменять тип данных в столбцах с датами и поправить название столбцов `transactionid` и `visitorid`\n",
    "\n",
    "Пропуски и дубликаты не обнаружены."
   ]
  },
  {
   "cell_type": "markdown",
   "metadata": {},
   "source": [
    "### Предобработка данных"
   ]
  },
  {
   "cell_type": "markdown",
   "metadata": {},
   "source": [
    "Скорректируем названия столбцов `transactionid` и `visitorid` и добавим пробелы, чтобы улучшить восприятие текста."
   ]
  },
  {
   "cell_type": "code",
   "execution_count": 6,
   "metadata": {},
   "outputs": [],
   "source": [
    "orders.columns = ('transaction_id', 'visitor_id', 'date', 'revenue', 'group')"
   ]
  },
  {
   "cell_type": "markdown",
   "metadata": {},
   "source": [
    "Изменим тип данных в столбцах с датами во всех таблицах"
   ]
  },
  {
   "cell_type": "code",
   "execution_count": 7,
   "metadata": {},
   "outputs": [],
   "source": [
    "orders['date'] = pd.to_datetime(orders['date'])\n",
    "visits['date'] = pd.to_datetime(visits['date'])"
   ]
  },
  {
   "cell_type": "markdown",
   "metadata": {},
   "source": [
    "### Поиск аномалий"
   ]
  },
  {
   "cell_type": "markdown",
   "metadata": {},
   "source": [
    "Рассмотрим датасеты подробнее, вдруг в них есть какие-либо аномальные и выбивающиеся из общей массы значения."
   ]
  },
  {
   "cell_type": "code",
   "execution_count": 8,
   "metadata": {
    "scrolled": true
   },
   "outputs": [
    {
     "data": {
      "text/html": [
       "<div>\n",
       "<style scoped>\n",
       "    .dataframe tbody tr th:only-of-type {\n",
       "        vertical-align: middle;\n",
       "    }\n",
       "\n",
       "    .dataframe tbody tr th {\n",
       "        vertical-align: top;\n",
       "    }\n",
       "\n",
       "    .dataframe thead th {\n",
       "        text-align: right;\n",
       "    }\n",
       "</style>\n",
       "<table border=\"1\" class=\"dataframe\">\n",
       "  <thead>\n",
       "    <tr style=\"text-align: right;\">\n",
       "      <th></th>\n",
       "      <th>date</th>\n",
       "      <th>revenue</th>\n",
       "    </tr>\n",
       "  </thead>\n",
       "  <tbody>\n",
       "    <tr>\n",
       "      <th>min</th>\n",
       "      <td>2019-08-01</td>\n",
       "      <td>50</td>\n",
       "    </tr>\n",
       "    <tr>\n",
       "      <th>max</th>\n",
       "      <td>2019-08-31</td>\n",
       "      <td>1294500</td>\n",
       "    </tr>\n",
       "  </tbody>\n",
       "</table>\n",
       "</div>"
      ],
      "text/plain": [
       "          date  revenue\n",
       "min 2019-08-01       50\n",
       "max 2019-08-31  1294500"
      ]
     },
     "metadata": {},
     "output_type": "display_data"
    },
    {
     "data": {
      "text/html": [
       "<div>\n",
       "<style scoped>\n",
       "    .dataframe tbody tr th:only-of-type {\n",
       "        vertical-align: middle;\n",
       "    }\n",
       "\n",
       "    .dataframe tbody tr th {\n",
       "        vertical-align: top;\n",
       "    }\n",
       "\n",
       "    .dataframe thead th {\n",
       "        text-align: right;\n",
       "    }\n",
       "</style>\n",
       "<table border=\"1\" class=\"dataframe\">\n",
       "  <thead>\n",
       "    <tr style=\"text-align: right;\">\n",
       "      <th></th>\n",
       "      <th>date</th>\n",
       "    </tr>\n",
       "  </thead>\n",
       "  <tbody>\n",
       "    <tr>\n",
       "      <th>min</th>\n",
       "      <td>2019-08-01</td>\n",
       "    </tr>\n",
       "    <tr>\n",
       "      <th>max</th>\n",
       "      <td>2019-08-31</td>\n",
       "    </tr>\n",
       "  </tbody>\n",
       "</table>\n",
       "</div>"
      ],
      "text/plain": [
       "          date\n",
       "min 2019-08-01\n",
       "max 2019-08-31"
      ]
     },
     "metadata": {},
     "output_type": "display_data"
    }
   ],
   "source": [
    "display(orders.agg({'date' : (min, max),'revenue' : (min, max)}),\n",
    "        visits.agg({'date' : (min, max)}))"
   ]
  },
  {
   "cell_type": "markdown",
   "metadata": {},
   "source": [
    "Диапазон дат в обеих таблицах совпадает - с 01 августа 2019 г. по 31 августа 2019 г. Здесь все в порядке\n",
    "\n",
    "Но видим, что диапазон значений выручки варьируется от 50 долларов до 1,29 млн долларов. Рассмотрим распределение значений выручки подробнее."
   ]
  },
  {
   "cell_type": "code",
   "execution_count": 9,
   "metadata": {},
   "outputs": [
    {
     "data": {
      "text/plain": [
       "count    1.197000e+03\n",
       "mean     8.348006e+03\n",
       "std      3.919113e+04\n",
       "min      5.000000e+01\n",
       "25%      1.220000e+03\n",
       "50%      2.978000e+03\n",
       "75%      8.290000e+03\n",
       "max      1.294500e+06\n",
       "Name: revenue, dtype: float64"
      ]
     },
     "execution_count": 9,
     "metadata": {},
     "output_type": "execute_result"
    }
   ],
   "source": [
    "orders['revenue'].describe()"
   ]
  },
  {
   "cell_type": "code",
   "execution_count": 10,
   "metadata": {},
   "outputs": [
    {
     "data": {
      "image/png": "[encoded data removed]",
      "text/plain": [
       "<Figure size 1080x360 with 1 Axes>"
      ]
     },
     "metadata": {
      "needs_background": "light"
     },
     "output_type": "display_data"
    }
   ],
   "source": [
    "plt.figure(figsize=(15,5))\n",
    "sns.histplot(orders['revenue'], color='orange')\n",
    "plt.title('Распределение выручки')\n",
    "plt.xlabel('')\n",
    "plt.ylabel('')\n",
    "plt.grid();"
   ]
  },
  {
   "cell_type": "markdown",
   "metadata": {},
   "source": [
    "Видим, что в данных имеются выбросы, т.к. медианное значение выручки 2,9 тыс. долларов и 3/4 значений находятся в пределах 8 тыс. долларов, и гистограмма с очень \"жирным\" хвостом - покупкой в 1 млн. долларов. \n",
    "\n",
    "Отфильтруем выручку и посмотрим много ли значений больше 50 тыс. долларов."
   ]
  },
  {
   "cell_type": "code",
   "execution_count": 11,
   "metadata": {},
   "outputs": [
    {
     "data": {
      "text/html": [
       "<div>\n",
       "<style scoped>\n",
       "    .dataframe tbody tr th:only-of-type {\n",
       "        vertical-align: middle;\n",
       "    }\n",
       "\n",
       "    .dataframe tbody tr th {\n",
       "        vertical-align: top;\n",
       "    }\n",
       "\n",
       "    .dataframe thead th {\n",
       "        text-align: right;\n",
       "    }\n",
       "</style>\n",
       "<table border=\"1\" class=\"dataframe\">\n",
       "  <thead>\n",
       "    <tr style=\"text-align: right;\">\n",
       "      <th></th>\n",
       "      <th>transaction_id</th>\n",
       "      <th>visitor_id</th>\n",
       "      <th>date</th>\n",
       "      <th>revenue</th>\n",
       "      <th>group</th>\n",
       "    </tr>\n",
       "  </thead>\n",
       "  <tbody>\n",
       "    <tr>\n",
       "      <th>60</th>\n",
       "      <td>1421016313</td>\n",
       "      <td>4256040402</td>\n",
       "      <td>2019-08-16</td>\n",
       "      <td>56650</td>\n",
       "      <td>B</td>\n",
       "    </tr>\n",
       "    <tr>\n",
       "      <th>131</th>\n",
       "      <td>3163614039</td>\n",
       "      <td>2254586615</td>\n",
       "      <td>2019-08-22</td>\n",
       "      <td>53904</td>\n",
       "      <td>A</td>\n",
       "    </tr>\n",
       "    <tr>\n",
       "      <th>287</th>\n",
       "      <td>587872075</td>\n",
       "      <td>2254456485</td>\n",
       "      <td>2019-08-24</td>\n",
       "      <td>53904</td>\n",
       "      <td>A</td>\n",
       "    </tr>\n",
       "    <tr>\n",
       "      <th>425</th>\n",
       "      <td>590470918</td>\n",
       "      <td>1920142716</td>\n",
       "      <td>2019-08-19</td>\n",
       "      <td>1294500</td>\n",
       "      <td>B</td>\n",
       "    </tr>\n",
       "    <tr>\n",
       "      <th>613</th>\n",
       "      <td>4071177889</td>\n",
       "      <td>3931967268</td>\n",
       "      <td>2019-08-07</td>\n",
       "      <td>53904</td>\n",
       "      <td>B</td>\n",
       "    </tr>\n",
       "    <tr>\n",
       "      <th>662</th>\n",
       "      <td>1811671147</td>\n",
       "      <td>4266935830</td>\n",
       "      <td>2019-08-29</td>\n",
       "      <td>78990</td>\n",
       "      <td>A</td>\n",
       "    </tr>\n",
       "    <tr>\n",
       "      <th>682</th>\n",
       "      <td>1216533772</td>\n",
       "      <td>4266935830</td>\n",
       "      <td>2019-08-29</td>\n",
       "      <td>78990</td>\n",
       "      <td>B</td>\n",
       "    </tr>\n",
       "    <tr>\n",
       "      <th>743</th>\n",
       "      <td>3603576309</td>\n",
       "      <td>4133034833</td>\n",
       "      <td>2019-08-09</td>\n",
       "      <td>67990</td>\n",
       "      <td>A</td>\n",
       "    </tr>\n",
       "    <tr>\n",
       "      <th>744</th>\n",
       "      <td>3668308183</td>\n",
       "      <td>888512513</td>\n",
       "      <td>2019-08-27</td>\n",
       "      <td>86620</td>\n",
       "      <td>B</td>\n",
       "    </tr>\n",
       "    <tr>\n",
       "      <th>858</th>\n",
       "      <td>192721366</td>\n",
       "      <td>1316129916</td>\n",
       "      <td>2019-08-27</td>\n",
       "      <td>93940</td>\n",
       "      <td>A</td>\n",
       "    </tr>\n",
       "    <tr>\n",
       "      <th>873</th>\n",
       "      <td>2519737434</td>\n",
       "      <td>4256040402</td>\n",
       "      <td>2019-08-08</td>\n",
       "      <td>58220</td>\n",
       "      <td>B</td>\n",
       "    </tr>\n",
       "    <tr>\n",
       "      <th>940</th>\n",
       "      <td>2420050534</td>\n",
       "      <td>4003628586</td>\n",
       "      <td>2019-08-08</td>\n",
       "      <td>58550</td>\n",
       "      <td>B</td>\n",
       "    </tr>\n",
       "    <tr>\n",
       "      <th>949</th>\n",
       "      <td>1347999392</td>\n",
       "      <td>887908475</td>\n",
       "      <td>2019-08-21</td>\n",
       "      <td>60450</td>\n",
       "      <td>A</td>\n",
       "    </tr>\n",
       "    <tr>\n",
       "      <th>1006</th>\n",
       "      <td>1861540412</td>\n",
       "      <td>2261934787</td>\n",
       "      <td>2019-08-10</td>\n",
       "      <td>52900</td>\n",
       "      <td>A</td>\n",
       "    </tr>\n",
       "    <tr>\n",
       "      <th>1029</th>\n",
       "      <td>469609643</td>\n",
       "      <td>2378935119</td>\n",
       "      <td>2019-08-10</td>\n",
       "      <td>58220</td>\n",
       "      <td>A</td>\n",
       "    </tr>\n",
       "    <tr>\n",
       "      <th>1099</th>\n",
       "      <td>316924019</td>\n",
       "      <td>148427295</td>\n",
       "      <td>2019-08-12</td>\n",
       "      <td>65710</td>\n",
       "      <td>A</td>\n",
       "    </tr>\n",
       "    <tr>\n",
       "      <th>1103</th>\n",
       "      <td>1348774318</td>\n",
       "      <td>1164614297</td>\n",
       "      <td>2019-08-12</td>\n",
       "      <td>66350</td>\n",
       "      <td>A</td>\n",
       "    </tr>\n",
       "    <tr>\n",
       "      <th>1136</th>\n",
       "      <td>666610489</td>\n",
       "      <td>1307669133</td>\n",
       "      <td>2019-08-13</td>\n",
       "      <td>92550</td>\n",
       "      <td>A</td>\n",
       "    </tr>\n",
       "    <tr>\n",
       "      <th>1137</th>\n",
       "      <td>2183069967</td>\n",
       "      <td>759473111</td>\n",
       "      <td>2019-08-13</td>\n",
       "      <td>52480</td>\n",
       "      <td>A</td>\n",
       "    </tr>\n",
       "    <tr>\n",
       "      <th>1142</th>\n",
       "      <td>3815014015</td>\n",
       "      <td>2606908679</td>\n",
       "      <td>2019-08-13</td>\n",
       "      <td>52900</td>\n",
       "      <td>B</td>\n",
       "    </tr>\n",
       "    <tr>\n",
       "      <th>1196</th>\n",
       "      <td>3936777065</td>\n",
       "      <td>2108080724</td>\n",
       "      <td>2019-08-15</td>\n",
       "      <td>202740</td>\n",
       "      <td>B</td>\n",
       "    </tr>\n",
       "  </tbody>\n",
       "</table>\n",
       "</div>"
      ],
      "text/plain": [
       "      transaction_id  visitor_id       date  revenue group\n",
       "60        1421016313  4256040402 2019-08-16    56650     B\n",
       "131       3163614039  2254586615 2019-08-22    53904     A\n",
       "287        587872075  2254456485 2019-08-24    53904     A\n",
       "425        590470918  1920142716 2019-08-19  1294500     B\n",
       "613       4071177889  3931967268 2019-08-07    53904     B\n",
       "662       1811671147  4266935830 2019-08-29    78990     A\n",
       "682       1216533772  4266935830 2019-08-29    78990     B\n",
       "743       3603576309  4133034833 2019-08-09    67990     A\n",
       "744       3668308183   888512513 2019-08-27    86620     B\n",
       "858        192721366  1316129916 2019-08-27    93940     A\n",
       "873       2519737434  4256040402 2019-08-08    58220     B\n",
       "940       2420050534  4003628586 2019-08-08    58550     B\n",
       "949       1347999392   887908475 2019-08-21    60450     A\n",
       "1006      1861540412  2261934787 2019-08-10    52900     A\n",
       "1029       469609643  2378935119 2019-08-10    58220     A\n",
       "1099       316924019   148427295 2019-08-12    65710     A\n",
       "1103      1348774318  1164614297 2019-08-12    66350     A\n",
       "1136       666610489  1307669133 2019-08-13    92550     A\n",
       "1137      2183069967   759473111 2019-08-13    52480     A\n",
       "1142      3815014015  2606908679 2019-08-13    52900     B\n",
       "1196      3936777065  2108080724 2019-08-15   202740     B"
      ]
     },
     "execution_count": 11,
     "metadata": {},
     "output_type": "execute_result"
    }
   ],
   "source": [
    "orders[orders['revenue'] > 50000]"
   ]
  },
  {
   "cell_type": "markdown",
   "metadata": {},
   "source": [
    "Всего 21 покупка, две из которых значительно выбиваются из ряда. Это 0,2 млн. и 1,2 млн.\n",
    "\n",
    "Запомним это и вернемся позднее."
   ]
  },
  {
   "cell_type": "markdown",
   "metadata": {},
   "source": [
    "Рассмотрим, как распределены пользователи и заказы между группами тестирования."
   ]
  },
  {
   "cell_type": "code",
   "execution_count": 12,
   "metadata": {},
   "outputs": [
    {
     "data": {
      "text/html": [
       "<div>\n",
       "<style scoped>\n",
       "    .dataframe tbody tr th:only-of-type {\n",
       "        vertical-align: middle;\n",
       "    }\n",
       "\n",
       "    .dataframe tbody tr th {\n",
       "        vertical-align: top;\n",
       "    }\n",
       "\n",
       "    .dataframe thead th {\n",
       "        text-align: right;\n",
       "    }\n",
       "</style>\n",
       "<table border=\"1\" class=\"dataframe\">\n",
       "  <thead>\n",
       "    <tr style=\"text-align: right;\">\n",
       "      <th></th>\n",
       "      <th>visitor_id</th>\n",
       "    </tr>\n",
       "    <tr>\n",
       "      <th>group</th>\n",
       "      <th></th>\n",
       "    </tr>\n",
       "  </thead>\n",
       "  <tbody>\n",
       "    <tr>\n",
       "      <th>A</th>\n",
       "      <td>503</td>\n",
       "    </tr>\n",
       "    <tr>\n",
       "      <th>B</th>\n",
       "      <td>586</td>\n",
       "    </tr>\n",
       "  </tbody>\n",
       "</table>\n",
       "</div>"
      ],
      "text/plain": [
       "       visitor_id\n",
       "group            \n",
       "A             503\n",
       "B             586"
      ]
     },
     "execution_count": 12,
     "metadata": {},
     "output_type": "execute_result"
    }
   ],
   "source": [
    "orders.groupby('group').agg({'visitor_id' : 'nunique'})"
   ]
  },
  {
   "cell_type": "code",
   "execution_count": 13,
   "metadata": {},
   "outputs": [
    {
     "data": {
      "text/html": [
       "<div>\n",
       "<style scoped>\n",
       "    .dataframe tbody tr th:only-of-type {\n",
       "        vertical-align: middle;\n",
       "    }\n",
       "\n",
       "    .dataframe tbody tr th {\n",
       "        vertical-align: top;\n",
       "    }\n",
       "\n",
       "    .dataframe thead th {\n",
       "        text-align: right;\n",
       "    }\n",
       "</style>\n",
       "<table border=\"1\" class=\"dataframe\">\n",
       "  <thead>\n",
       "    <tr style=\"text-align: right;\">\n",
       "      <th></th>\n",
       "      <th>transaction_id</th>\n",
       "    </tr>\n",
       "    <tr>\n",
       "      <th>group</th>\n",
       "      <th></th>\n",
       "    </tr>\n",
       "  </thead>\n",
       "  <tbody>\n",
       "    <tr>\n",
       "      <th>A</th>\n",
       "      <td>557</td>\n",
       "    </tr>\n",
       "    <tr>\n",
       "      <th>B</th>\n",
       "      <td>640</td>\n",
       "    </tr>\n",
       "  </tbody>\n",
       "</table>\n",
       "</div>"
      ],
      "text/plain": [
       "       transaction_id\n",
       "group                \n",
       "A                 557\n",
       "B                 640"
      ]
     },
     "execution_count": 13,
     "metadata": {},
     "output_type": "execute_result"
    }
   ],
   "source": [
    "orders.groupby('group').agg({'transaction_id' : 'nunique'})"
   ]
  },
  {
   "cell_type": "markdown",
   "metadata": {},
   "source": [
    "Видим, что распределение неравномерное, хотя ожидалось, что в обоих группах будет одинаковое число участников или заказов."
   ]
  },
  {
   "cell_type": "markdown",
   "metadata": {},
   "source": [
    "Также проверим, попадаются ли одни и те же пользователи в обеих группах"
   ]
  },
  {
   "cell_type": "code",
   "execution_count": 14,
   "metadata": {},
   "outputs": [
    {
     "data": {
      "text/plain": [
       "58"
      ]
     },
     "execution_count": 14,
     "metadata": {},
     "output_type": "execute_result"
    }
   ],
   "source": [
    "orders.pivot_table(index='visitor_id', values='group', aggfunc='nunique').reset_index().query('group > 1')['visitor_id'].count()"
   ]
  },
  {
   "cell_type": "markdown",
   "metadata": {},
   "source": [
    "Всего таких 58 человек. Исключать не будем, т.к. нам все равно не получится удалить их из таблицы **visits**"
   ]
  },
  {
   "cell_type": "markdown",
   "metadata": {},
   "source": [
    "### Выводы"
   ]
  },
  {
   "cell_type": "markdown",
   "metadata": {},
   "source": [
    "В полученных данных:\n",
    "1. отсутствуют пропуски\n",
    "2. отсутствуют явные дубликаты\n",
    "3. нарушения стиля устранены\n",
    "4. типы данных изменены\n",
    "5. обнаружены аномальные значения выручки (рассмотрим их в следующих разделах)\n",
    "6. разделение групп для А/В теста неравномерное. Передадим наши замечания отделу маркетинга\n",
    "\n",
    "Можем работать с данными"
   ]
  },
  {
   "cell_type": "markdown",
   "metadata": {},
   "source": [
    "## Приоритизация гипотез"
   ]
  },
  {
   "cell_type": "markdown",
   "metadata": {},
   "source": [
    "Для определения наиболее приоритетной гипотезы воспользуемся методами \n",
    "- **ICE** (Impact Confidence Ease/ Efforts) \n",
    "- **RICE** (Reach Impact Confidence Efforts)"
   ]
  },
  {
   "cell_type": "markdown",
   "metadata": {},
   "source": [
    "Данные возьмем из таблицы с гипотезами **hypo**, в которой перечислены гипотезы и проставлены ранги по десятибальной системе следующим факторам:\n",
    "- Reach (охват пользователей)\n",
    "- Impact (влияние)\n",
    "- Confidence (уверенность в оценке факторов) \n",
    "- Efforts (Трудозатраты или сложность реализации гипотезы)"
   ]
  },
  {
   "cell_type": "markdown",
   "metadata": {},
   "source": [
    "### Метод ICE"
   ]
  },
  {
   "cell_type": "markdown",
   "metadata": {},
   "source": [
    "Сначала применим метод **ICE**"
   ]
  },
  {
   "cell_type": "code",
   "execution_count": 15,
   "metadata": {},
   "outputs": [
    {
     "data": {
      "text/html": [
       "<div>\n",
       "<style scoped>\n",
       "    .dataframe tbody tr th:only-of-type {\n",
       "        vertical-align: middle;\n",
       "    }\n",
       "\n",
       "    .dataframe tbody tr th {\n",
       "        vertical-align: top;\n",
       "    }\n",
       "\n",
       "    .dataframe thead th {\n",
       "        text-align: right;\n",
       "    }\n",
       "</style>\n",
       "<table border=\"1\" class=\"dataframe\">\n",
       "  <thead>\n",
       "    <tr style=\"text-align: right;\">\n",
       "      <th></th>\n",
       "      <th>hypothesis</th>\n",
       "      <th>reach</th>\n",
       "      <th>impact</th>\n",
       "      <th>confidence</th>\n",
       "      <th>efforts</th>\n",
       "      <th>ice</th>\n",
       "    </tr>\n",
       "  </thead>\n",
       "  <tbody>\n",
       "    <tr>\n",
       "      <th>8</th>\n",
       "      <td>Запустить акцию, дающую скидку на товар в день рождения</td>\n",
       "      <td>1</td>\n",
       "      <td>9</td>\n",
       "      <td>9</td>\n",
       "      <td>5</td>\n",
       "      <td>16.200000</td>\n",
       "    </tr>\n",
       "    <tr>\n",
       "      <th>0</th>\n",
       "      <td>Добавить два новых канала привлечения трафика, что позволит привлекать на 30% больше пользователей</td>\n",
       "      <td>3</td>\n",
       "      <td>10</td>\n",
       "      <td>8</td>\n",
       "      <td>6</td>\n",
       "      <td>13.333333</td>\n",
       "    </tr>\n",
       "    <tr>\n",
       "      <th>7</th>\n",
       "      <td>Добавить форму подписки на все основные страницы, чтобы собрать базу клиентов для email-рассылок</td>\n",
       "      <td>10</td>\n",
       "      <td>7</td>\n",
       "      <td>8</td>\n",
       "      <td>5</td>\n",
       "      <td>11.200000</td>\n",
       "    </tr>\n",
       "    <tr>\n",
       "      <th>6</th>\n",
       "      <td>Показать на главной странице баннеры с актуальными акциями и распродажами, чтобы увеличить конверсию</td>\n",
       "      <td>5</td>\n",
       "      <td>3</td>\n",
       "      <td>8</td>\n",
       "      <td>3</td>\n",
       "      <td>8.000000</td>\n",
       "    </tr>\n",
       "    <tr>\n",
       "      <th>2</th>\n",
       "      <td>Добавить блоки рекомендаций товаров на сайт интернет магазина, чтобы повысить конверсию и средний чек заказа</td>\n",
       "      <td>8</td>\n",
       "      <td>3</td>\n",
       "      <td>7</td>\n",
       "      <td>3</td>\n",
       "      <td>7.000000</td>\n",
       "    </tr>\n",
       "    <tr>\n",
       "      <th>1</th>\n",
       "      <td>Запустить собственную службу доставки, что сократит срок доставки заказов</td>\n",
       "      <td>2</td>\n",
       "      <td>5</td>\n",
       "      <td>4</td>\n",
       "      <td>10</td>\n",
       "      <td>2.000000</td>\n",
       "    </tr>\n",
       "    <tr>\n",
       "      <th>5</th>\n",
       "      <td>Добавить страницу отзывов клиентов о магазине, что позволит увеличить количество заказов</td>\n",
       "      <td>3</td>\n",
       "      <td>2</td>\n",
       "      <td>2</td>\n",
       "      <td>3</td>\n",
       "      <td>1.333333</td>\n",
       "    </tr>\n",
       "    <tr>\n",
       "      <th>3</th>\n",
       "      <td>Изменить структура категорий, что увеличит конверсию, т.к. пользователи быстрее найдут нужный товар</td>\n",
       "      <td>8</td>\n",
       "      <td>3</td>\n",
       "      <td>3</td>\n",
       "      <td>8</td>\n",
       "      <td>1.125000</td>\n",
       "    </tr>\n",
       "    <tr>\n",
       "      <th>4</th>\n",
       "      <td>Изменить цвет фона главной страницы, чтобы увеличить вовлеченность пользователей</td>\n",
       "      <td>3</td>\n",
       "      <td>1</td>\n",
       "      <td>1</td>\n",
       "      <td>1</td>\n",
       "      <td>1.000000</td>\n",
       "    </tr>\n",
       "  </tbody>\n",
       "</table>\n",
       "</div>"
      ],
      "text/plain": [
       "                                                                                                     hypothesis  \\\n",
       "8                                                       Запустить акцию, дающую скидку на товар в день рождения   \n",
       "0            Добавить два новых канала привлечения трафика, что позволит привлекать на 30% больше пользователей   \n",
       "7              Добавить форму подписки на все основные страницы, чтобы собрать базу клиентов для email-рассылок   \n",
       "6          Показать на главной странице баннеры с актуальными акциями и распродажами, чтобы увеличить конверсию   \n",
       "2  Добавить блоки рекомендаций товаров на сайт интернет магазина, чтобы повысить конверсию и средний чек заказа   \n",
       "1                                     Запустить собственную службу доставки, что сократит срок доставки заказов   \n",
       "5                      Добавить страницу отзывов клиентов о магазине, что позволит увеличить количество заказов   \n",
       "3           Изменить структура категорий, что увеличит конверсию, т.к. пользователи быстрее найдут нужный товар   \n",
       "4                              Изменить цвет фона главной страницы, чтобы увеличить вовлеченность пользователей   \n",
       "\n",
       "   reach  impact  confidence  efforts        ice  \n",
       "8      1       9           9        5  16.200000  \n",
       "0      3      10           8        6  13.333333  \n",
       "7     10       7           8        5  11.200000  \n",
       "6      5       3           8        3   8.000000  \n",
       "2      8       3           7        3   7.000000  \n",
       "1      2       5           4       10   2.000000  \n",
       "5      3       2           2        3   1.333333  \n",
       "3      8       3           3        8   1.125000  \n",
       "4      3       1           1        1   1.000000  "
      ]
     },
     "execution_count": 15,
     "metadata": {},
     "output_type": "execute_result"
    }
   ],
   "source": [
    "hypo['ice'] = hypo['confidence'] * hypo['impact'] / hypo['efforts']\n",
    "hypo.sort_values(by='ice', ascending=False)"
   ]
  },
  {
   "cell_type": "markdown",
   "metadata": {},
   "source": [
    "Наиболее перспективной для разработки выглядит гипотеза №8 о запуске акции в день рождения. Также в Топ3 входят гипотез №0 и №7."
   ]
  },
  {
   "cell_type": "markdown",
   "metadata": {},
   "source": [
    "### Метод RICE"
   ]
  },
  {
   "cell_type": "markdown",
   "metadata": {},
   "source": [
    "Теперь применим метод RICE и посмотрим на различия в результатах."
   ]
  },
  {
   "cell_type": "code",
   "execution_count": 16,
   "metadata": {},
   "outputs": [
    {
     "data": {
      "text/html": [
       "<div>\n",
       "<style scoped>\n",
       "    .dataframe tbody tr th:only-of-type {\n",
       "        vertical-align: middle;\n",
       "    }\n",
       "\n",
       "    .dataframe tbody tr th {\n",
       "        vertical-align: top;\n",
       "    }\n",
       "\n",
       "    .dataframe thead th {\n",
       "        text-align: right;\n",
       "    }\n",
       "</style>\n",
       "<table border=\"1\" class=\"dataframe\">\n",
       "  <thead>\n",
       "    <tr style=\"text-align: right;\">\n",
       "      <th></th>\n",
       "      <th>hypothesis</th>\n",
       "      <th>reach</th>\n",
       "      <th>impact</th>\n",
       "      <th>confidence</th>\n",
       "      <th>efforts</th>\n",
       "      <th>ice</th>\n",
       "      <th>rice</th>\n",
       "    </tr>\n",
       "  </thead>\n",
       "  <tbody>\n",
       "    <tr>\n",
       "      <th>7</th>\n",
       "      <td>Добавить форму подписки на все основные страницы, чтобы собрать базу клиентов для email-рассылок</td>\n",
       "      <td>10</td>\n",
       "      <td>7</td>\n",
       "      <td>8</td>\n",
       "      <td>5</td>\n",
       "      <td>11.200000</td>\n",
       "      <td>112.0</td>\n",
       "    </tr>\n",
       "    <tr>\n",
       "      <th>2</th>\n",
       "      <td>Добавить блоки рекомендаций товаров на сайт интернет магазина, чтобы повысить конверсию и средний чек заказа</td>\n",
       "      <td>8</td>\n",
       "      <td>3</td>\n",
       "      <td>7</td>\n",
       "      <td>3</td>\n",
       "      <td>7.000000</td>\n",
       "      <td>56.0</td>\n",
       "    </tr>\n",
       "    <tr>\n",
       "      <th>0</th>\n",
       "      <td>Добавить два новых канала привлечения трафика, что позволит привлекать на 30% больше пользователей</td>\n",
       "      <td>3</td>\n",
       "      <td>10</td>\n",
       "      <td>8</td>\n",
       "      <td>6</td>\n",
       "      <td>13.333333</td>\n",
       "      <td>40.0</td>\n",
       "    </tr>\n",
       "    <tr>\n",
       "      <th>6</th>\n",
       "      <td>Показать на главной странице баннеры с актуальными акциями и распродажами, чтобы увеличить конверсию</td>\n",
       "      <td>5</td>\n",
       "      <td>3</td>\n",
       "      <td>8</td>\n",
       "      <td>3</td>\n",
       "      <td>8.000000</td>\n",
       "      <td>40.0</td>\n",
       "    </tr>\n",
       "    <tr>\n",
       "      <th>8</th>\n",
       "      <td>Запустить акцию, дающую скидку на товар в день рождения</td>\n",
       "      <td>1</td>\n",
       "      <td>9</td>\n",
       "      <td>9</td>\n",
       "      <td>5</td>\n",
       "      <td>16.200000</td>\n",
       "      <td>16.2</td>\n",
       "    </tr>\n",
       "    <tr>\n",
       "      <th>3</th>\n",
       "      <td>Изменить структура категорий, что увеличит конверсию, т.к. пользователи быстрее найдут нужный товар</td>\n",
       "      <td>8</td>\n",
       "      <td>3</td>\n",
       "      <td>3</td>\n",
       "      <td>8</td>\n",
       "      <td>1.125000</td>\n",
       "      <td>9.0</td>\n",
       "    </tr>\n",
       "    <tr>\n",
       "      <th>1</th>\n",
       "      <td>Запустить собственную службу доставки, что сократит срок доставки заказов</td>\n",
       "      <td>2</td>\n",
       "      <td>5</td>\n",
       "      <td>4</td>\n",
       "      <td>10</td>\n",
       "      <td>2.000000</td>\n",
       "      <td>4.0</td>\n",
       "    </tr>\n",
       "    <tr>\n",
       "      <th>5</th>\n",
       "      <td>Добавить страницу отзывов клиентов о магазине, что позволит увеличить количество заказов</td>\n",
       "      <td>3</td>\n",
       "      <td>2</td>\n",
       "      <td>2</td>\n",
       "      <td>3</td>\n",
       "      <td>1.333333</td>\n",
       "      <td>4.0</td>\n",
       "    </tr>\n",
       "    <tr>\n",
       "      <th>4</th>\n",
       "      <td>Изменить цвет фона главной страницы, чтобы увеличить вовлеченность пользователей</td>\n",
       "      <td>3</td>\n",
       "      <td>1</td>\n",
       "      <td>1</td>\n",
       "      <td>1</td>\n",
       "      <td>1.000000</td>\n",
       "      <td>3.0</td>\n",
       "    </tr>\n",
       "  </tbody>\n",
       "</table>\n",
       "</div>"
      ],
      "text/plain": [
       "                                                                                                     hypothesis  \\\n",
       "7              Добавить форму подписки на все основные страницы, чтобы собрать базу клиентов для email-рассылок   \n",
       "2  Добавить блоки рекомендаций товаров на сайт интернет магазина, чтобы повысить конверсию и средний чек заказа   \n",
       "0            Добавить два новых канала привлечения трафика, что позволит привлекать на 30% больше пользователей   \n",
       "6          Показать на главной странице баннеры с актуальными акциями и распродажами, чтобы увеличить конверсию   \n",
       "8                                                       Запустить акцию, дающую скидку на товар в день рождения   \n",
       "3           Изменить структура категорий, что увеличит конверсию, т.к. пользователи быстрее найдут нужный товар   \n",
       "1                                     Запустить собственную службу доставки, что сократит срок доставки заказов   \n",
       "5                      Добавить страницу отзывов клиентов о магазине, что позволит увеличить количество заказов   \n",
       "4                              Изменить цвет фона главной страницы, чтобы увеличить вовлеченность пользователей   \n",
       "\n",
       "   reach  impact  confidence  efforts        ice   rice  \n",
       "7     10       7           8        5  11.200000  112.0  \n",
       "2      8       3           7        3   7.000000   56.0  \n",
       "0      3      10           8        6  13.333333   40.0  \n",
       "6      5       3           8        3   8.000000   40.0  \n",
       "8      1       9           9        5  16.200000   16.2  \n",
       "3      8       3           3        8   1.125000    9.0  \n",
       "1      2       5           4       10   2.000000    4.0  \n",
       "5      3       2           2        3   1.333333    4.0  \n",
       "4      3       1           1        1   1.000000    3.0  "
      ]
     },
     "execution_count": 16,
     "metadata": {},
     "output_type": "execute_result"
    }
   ],
   "source": [
    "hypo['rice'] = hypo['reach'] * hypo['confidence'] * hypo['impact'] / hypo['efforts']\n",
    "hypo.sort_values(by='rice', ascending=False)"
   ]
  },
  {
   "cell_type": "markdown",
   "metadata": {},
   "source": [
    "### Выводы"
   ]
  },
  {
   "cell_type": "markdown",
   "metadata": {},
   "source": [
    "Видим, что позиции гипотез по уровню их приоритета перераспределились. Благодаря высоким значениям охвата наибольший коэффициент RICE получила гипотеза №7, а гипотеза №2 оказалась второй. \n",
    "\n",
    "Лидер по методике ICE опустился на пятое место - коэффициент охвата у него минимальный. В нижней части таблицы изменений практически нет.\n",
    "\n",
    "Для метода RICE нужен дополнительный фактор, но благодаря ему можно более детально подойти к определению приоритета гипотезы."
   ]
  },
  {
   "cell_type": "markdown",
   "metadata": {},
   "source": [
    "## A/B тестирование"
   ]
  },
  {
   "cell_type": "markdown",
   "metadata": {},
   "source": [
    "Проанализируем результаты проведенного А/В теста. Для этого изучим таблицы **orders** и **visits**.\n",
    "В них указаны данные о месячных показателях выручки и посетителей, разбитые на группы А и В.\n",
    "\n",
    "- Группа А - это контрольная группа. С ней будут сравниваться результаты\n",
    "- Группа В - тестовая группа, на которой проверяли нововведения"
   ]
  },
  {
   "cell_type": "markdown",
   "metadata": {},
   "source": [
    "### Изучение выручки по группам"
   ]
  },
  {
   "cell_type": "markdown",
   "metadata": {},
   "source": [
    "Сначала рассмотрим выручку по каждой из групп тестирования. \n",
    "\n",
    "Предварительно соберем данные с кумулятивной выручкой, количеством посетителей, покупателей и заказов в одной таблице."
   ]
  },
  {
   "cell_type": "code",
   "execution_count": 17,
   "metadata": {},
   "outputs": [],
   "source": [
    "dates_groups = orders[['date', 'group']].drop_duplicates()\n",
    "\n",
    "orders_agg = (\n",
    "dates_groups.apply(\n",
    "    lambda x: orders[np.logical_and(orders['date'] <= x['date'], orders['group'] == x['group'])].agg({\n",
    "        'date': max,\n",
    "        'group': max, \n",
    "        'transaction_id' : 'nunique' ,\n",
    "        'visitor_id': 'nunique',\n",
    "        'revenue' : sum}), axis=1).sort_values(by=['date','group'])\n",
    ")\n",
    "\n",
    "visitors_agg = (\n",
    "dates_groups.apply(\n",
    "    lambda x: visits[np.logical_and(visits['date'] <= x['date'], visits['group'] == x['group'])].agg({\n",
    "        'date': max,\n",
    "        'group' : max,\n",
    "        'visitors' : sum}), axis=1).sort_values(by=['date','group'])\n",
    ")\n",
    "\n",
    "cumulative_data = orders_agg.merge(visitors_agg, on=['date','group'], how='left')\n",
    "cumulative_data.columns = ['date', 'group', 'orders', 'buyers', 'revenue', 'visitors']"
   ]
  },
  {
   "cell_type": "code",
   "execution_count": 18,
   "metadata": {
    "scrolled": true
   },
   "outputs": [
    {
     "data": {
      "text/html": [
       "<div>\n",
       "<style scoped>\n",
       "    .dataframe tbody tr th:only-of-type {\n",
       "        vertical-align: middle;\n",
       "    }\n",
       "\n",
       "    .dataframe tbody tr th {\n",
       "        vertical-align: top;\n",
       "    }\n",
       "\n",
       "    .dataframe thead th {\n",
       "        text-align: right;\n",
       "    }\n",
       "</style>\n",
       "<table border=\"1\" class=\"dataframe\">\n",
       "  <thead>\n",
       "    <tr style=\"text-align: right;\">\n",
       "      <th></th>\n",
       "      <th>date</th>\n",
       "      <th>group</th>\n",
       "      <th>orders</th>\n",
       "      <th>buyers</th>\n",
       "      <th>revenue</th>\n",
       "      <th>visitors</th>\n",
       "    </tr>\n",
       "  </thead>\n",
       "  <tbody>\n",
       "    <tr>\n",
       "      <th>0</th>\n",
       "      <td>2019-08-01</td>\n",
       "      <td>A</td>\n",
       "      <td>24</td>\n",
       "      <td>20</td>\n",
       "      <td>148579</td>\n",
       "      <td>719</td>\n",
       "    </tr>\n",
       "    <tr>\n",
       "      <th>1</th>\n",
       "      <td>2019-08-01</td>\n",
       "      <td>B</td>\n",
       "      <td>21</td>\n",
       "      <td>20</td>\n",
       "      <td>101217</td>\n",
       "      <td>713</td>\n",
       "    </tr>\n",
       "    <tr>\n",
       "      <th>2</th>\n",
       "      <td>2019-08-02</td>\n",
       "      <td>A</td>\n",
       "      <td>44</td>\n",
       "      <td>38</td>\n",
       "      <td>242401</td>\n",
       "      <td>1338</td>\n",
       "    </tr>\n",
       "    <tr>\n",
       "      <th>3</th>\n",
       "      <td>2019-08-02</td>\n",
       "      <td>B</td>\n",
       "      <td>45</td>\n",
       "      <td>43</td>\n",
       "      <td>266748</td>\n",
       "      <td>1294</td>\n",
       "    </tr>\n",
       "    <tr>\n",
       "      <th>4</th>\n",
       "      <td>2019-08-03</td>\n",
       "      <td>A</td>\n",
       "      <td>68</td>\n",
       "      <td>62</td>\n",
       "      <td>354874</td>\n",
       "      <td>1845</td>\n",
       "    </tr>\n",
       "  </tbody>\n",
       "</table>\n",
       "</div>"
      ],
      "text/plain": [
       "        date group  orders  buyers  revenue  visitors\n",
       "0 2019-08-01     A      24      20   148579       719\n",
       "1 2019-08-01     B      21      20   101217       713\n",
       "2 2019-08-02     A      44      38   242401      1338\n",
       "3 2019-08-02     B      45      43   266748      1294\n",
       "4 2019-08-03     A      68      62   354874      1845"
      ]
     },
     "execution_count": 18,
     "metadata": {},
     "output_type": "execute_result"
    }
   ],
   "source": [
    "cumulative_data.head()"
   ]
  },
  {
   "cell_type": "markdown",
   "metadata": {},
   "source": [
    "Получили таблицу куммулятивных метрик. По ней уже будем строить графики. Предварительно проверим, совпадают ли минимальная и максимальная даты из исходного датафрейма с минимальной и максимальной датой в новом датафрейме cumulative_data."
   ]
  },
  {
   "cell_type": "code",
   "execution_count": 19,
   "metadata": {},
   "outputs": [
    {
     "data": {
      "text/html": [
       "<div>\n",
       "<style scoped>\n",
       "    .dataframe tbody tr th:only-of-type {\n",
       "        vertical-align: middle;\n",
       "    }\n",
       "\n",
       "    .dataframe tbody tr th {\n",
       "        vertical-align: top;\n",
       "    }\n",
       "\n",
       "    .dataframe thead th {\n",
       "        text-align: right;\n",
       "    }\n",
       "</style>\n",
       "<table border=\"1\" class=\"dataframe\">\n",
       "  <thead>\n",
       "    <tr style=\"text-align: right;\">\n",
       "      <th></th>\n",
       "      <th>date</th>\n",
       "    </tr>\n",
       "  </thead>\n",
       "  <tbody>\n",
       "    <tr>\n",
       "      <th>min</th>\n",
       "      <td>2019-08-01</td>\n",
       "    </tr>\n",
       "    <tr>\n",
       "      <th>max</th>\n",
       "      <td>2019-08-31</td>\n",
       "    </tr>\n",
       "  </tbody>\n",
       "</table>\n",
       "</div>"
      ],
      "text/plain": [
       "          date\n",
       "min 2019-08-01\n",
       "max 2019-08-31"
      ]
     },
     "execution_count": 19,
     "metadata": {},
     "output_type": "execute_result"
    }
   ],
   "source": [
    "cumulative_data.agg({'date' : (min, max)})"
   ]
  },
  {
   "cell_type": "markdown",
   "metadata": {},
   "source": [
    "#### Построение графика кумулятивной выручки по группам"
   ]
  },
  {
   "cell_type": "markdown",
   "metadata": {},
   "source": [
    "Для каждой группы создадим переменную со срезом по группе тестирования. Оставим столбцы с датой, кумулятивным количеством заказов и кумулятивной выручкой."
   ]
  },
  {
   "cell_type": "code",
   "execution_count": 20,
   "metadata": {},
   "outputs": [
    {
     "data": {
      "text/html": [
       "<div>\n",
       "<style scoped>\n",
       "    .dataframe tbody tr th:only-of-type {\n",
       "        vertical-align: middle;\n",
       "    }\n",
       "\n",
       "    .dataframe tbody tr th {\n",
       "        vertical-align: top;\n",
       "    }\n",
       "\n",
       "    .dataframe thead th {\n",
       "        text-align: right;\n",
       "    }\n",
       "</style>\n",
       "<table border=\"1\" class=\"dataframe\">\n",
       "  <thead>\n",
       "    <tr style=\"text-align: right;\">\n",
       "      <th></th>\n",
       "      <th>date</th>\n",
       "      <th>orders</th>\n",
       "      <th>revenue</th>\n",
       "    </tr>\n",
       "  </thead>\n",
       "  <tbody>\n",
       "    <tr>\n",
       "      <th>0</th>\n",
       "      <td>2019-08-01</td>\n",
       "      <td>24</td>\n",
       "      <td>148579</td>\n",
       "    </tr>\n",
       "    <tr>\n",
       "      <th>2</th>\n",
       "      <td>2019-08-02</td>\n",
       "      <td>44</td>\n",
       "      <td>242401</td>\n",
       "    </tr>\n",
       "    <tr>\n",
       "      <th>4</th>\n",
       "      <td>2019-08-03</td>\n",
       "      <td>68</td>\n",
       "      <td>354874</td>\n",
       "    </tr>\n",
       "    <tr>\n",
       "      <th>6</th>\n",
       "      <td>2019-08-04</td>\n",
       "      <td>84</td>\n",
       "      <td>425699</td>\n",
       "    </tr>\n",
       "    <tr>\n",
       "      <th>8</th>\n",
       "      <td>2019-08-05</td>\n",
       "      <td>109</td>\n",
       "      <td>549917</td>\n",
       "    </tr>\n",
       "  </tbody>\n",
       "</table>\n",
       "</div>"
      ],
      "text/plain": [
       "        date  orders  revenue\n",
       "0 2019-08-01      24   148579\n",
       "2 2019-08-02      44   242401\n",
       "4 2019-08-03      68   354874\n",
       "6 2019-08-04      84   425699\n",
       "8 2019-08-05     109   549917"
      ]
     },
     "metadata": {},
     "output_type": "display_data"
    },
    {
     "data": {
      "text/html": [
       "<div>\n",
       "<style scoped>\n",
       "    .dataframe tbody tr th:only-of-type {\n",
       "        vertical-align: middle;\n",
       "    }\n",
       "\n",
       "    .dataframe tbody tr th {\n",
       "        vertical-align: top;\n",
       "    }\n",
       "\n",
       "    .dataframe thead th {\n",
       "        text-align: right;\n",
       "    }\n",
       "</style>\n",
       "<table border=\"1\" class=\"dataframe\">\n",
       "  <thead>\n",
       "    <tr style=\"text-align: right;\">\n",
       "      <th></th>\n",
       "      <th>date</th>\n",
       "      <th>orders</th>\n",
       "      <th>revenue</th>\n",
       "    </tr>\n",
       "  </thead>\n",
       "  <tbody>\n",
       "    <tr>\n",
       "      <th>1</th>\n",
       "      <td>2019-08-01</td>\n",
       "      <td>21</td>\n",
       "      <td>101217</td>\n",
       "    </tr>\n",
       "    <tr>\n",
       "      <th>3</th>\n",
       "      <td>2019-08-02</td>\n",
       "      <td>45</td>\n",
       "      <td>266748</td>\n",
       "    </tr>\n",
       "    <tr>\n",
       "      <th>5</th>\n",
       "      <td>2019-08-03</td>\n",
       "      <td>61</td>\n",
       "      <td>380996</td>\n",
       "    </tr>\n",
       "    <tr>\n",
       "      <th>7</th>\n",
       "      <td>2019-08-04</td>\n",
       "      <td>78</td>\n",
       "      <td>489567</td>\n",
       "    </tr>\n",
       "    <tr>\n",
       "      <th>9</th>\n",
       "      <td>2019-08-05</td>\n",
       "      <td>101</td>\n",
       "      <td>581995</td>\n",
       "    </tr>\n",
       "  </tbody>\n",
       "</table>\n",
       "</div>"
      ],
      "text/plain": [
       "        date  orders  revenue\n",
       "1 2019-08-01      21   101217\n",
       "3 2019-08-02      45   266748\n",
       "5 2019-08-03      61   380996\n",
       "7 2019-08-04      78   489567\n",
       "9 2019-08-05     101   581995"
      ]
     },
     "metadata": {},
     "output_type": "display_data"
    }
   ],
   "source": [
    "cumulative_revenue_a = cumulative_data.query('group == \"A\"')[['date', 'orders', 'revenue']]\n",
    "cumulative_revenue_b = cumulative_data.query('group == \"B\"')[['date', 'orders', 'revenue']]\n",
    "\n",
    "display(\n",
    "cumulative_revenue_a.head(),\n",
    "cumulative_revenue_b.head()\n",
    ")"
   ]
  },
  {
   "cell_type": "markdown",
   "metadata": {},
   "source": [
    "С их помощью построим графики кумулятивной выручки по группам"
   ]
  },
  {
   "cell_type": "code",
   "execution_count": 21,
   "metadata": {
    "scrolled": true
   },
   "outputs": [
    {
     "data": {
      "image/png": "[encoded data removed]",
      "text/plain": [
       "<Figure size 1080x360 with 1 Axes>"
      ]
     },
     "metadata": {
      "needs_background": "light"
     },
     "output_type": "display_data"
    }
   ],
   "source": [
    "plt.figure(figsize=(15,5))\n",
    "plt.plot(cumulative_revenue_a['date'], cumulative_revenue_a['revenue'], label='A', color='red')\n",
    "plt.plot(cumulative_revenue_b['date'], cumulative_revenue_b['revenue'], label='B', color='orange')\n",
    "plt.legend()\n",
    "plt.title('График кумулятивной выручки по группам в период с 01 августа 2019 г. по 31 августа 2019 г.')\n",
    "plt.xlabel('Дата')\n",
    "plt.grid()"
   ]
  },
  {
   "cell_type": "markdown",
   "metadata": {},
   "source": [
    "Видим, что до 19 августа кумулятивные выручки обеих групп практически одинаковы, у группы В выручка стабильно больше.\n",
    "\n",
    "Но затем 19 августа происходит скачок, который сильно \"поднимает\" линию группы В на графике. При этом далее оба графика идут практически параллельно друг другу. \n",
    "\n",
    "Как раз 19 августа в группе В была зафиксирована аномальная покупка на 1,2 млн. Эффект от этой покупки мы и наблюдаем на графике."
   ]
  },
  {
   "cell_type": "markdown",
   "metadata": {},
   "source": [
    "#### Построение графика кумулятивного среднего чека по группам"
   ]
  },
  {
   "cell_type": "markdown",
   "metadata": {},
   "source": [
    "Построим графики кумулятивного среднего чека по группам"
   ]
  },
  {
   "cell_type": "code",
   "execution_count": 22,
   "metadata": {},
   "outputs": [
    {
     "data": {
      "image/png": "[encoded data removed]",
      "text/plain": [
       "<Figure size 1080x360 with 1 Axes>"
      ]
     },
     "metadata": {
      "needs_background": "light"
     },
     "output_type": "display_data"
    }
   ],
   "source": [
    "plt.figure(figsize=(15,5))\n",
    "plt.plot(cumulative_revenue_a['date'], cumulative_revenue_a['revenue'] / cumulative_revenue_a['orders'], label='A', color='red')\n",
    "plt.plot(cumulative_revenue_b['date'], cumulative_revenue_b['revenue']/ cumulative_revenue_b['orders'], label='B', color='orange')\n",
    "plt.legend()\n",
    "plt.title('График кумулятивного среднего чека по группам в период с 01 августа 2019 г. по 31 августа 2019 г.')\n",
    "plt.xlabel('Дата')\n",
    "plt.grid()"
   ]
  },
  {
   "cell_type": "markdown",
   "metadata": {},
   "source": [
    "Видим, что \n",
    "1. средний чек группы А до 06 мая уменьшается, а затем показывает рост и стабилизируется в районе 7000. \n",
    "2. средний чек в группе В растет скачкообразно и  так же, как и на предыдущем графике резко увеличивается 19 августа. Но после 19го августа идет на снижение. \n",
    "\n",
    "Предполагаю, что если убрать аномальные значения, то средний чек по группе В окажется меньше, чем в группе А."
   ]
  },
  {
   "cell_type": "markdown",
   "metadata": {},
   "source": [
    "#### Построение графика относительного изменения кумулятивного среднего чека группы B к группе A"
   ]
  },
  {
   "cell_type": "markdown",
   "metadata": {},
   "source": [
    "Построим график относительного изменения кумулятивного среднего чека группы B к группе A. Он позволит наглядно показать разницу между средним чеком обеих групп."
   ]
  },
  {
   "cell_type": "code",
   "execution_count": 23,
   "metadata": {},
   "outputs": [],
   "source": [
    "merged_cumulative_revenue = cumulative_revenue_a.merge(cumulative_revenue_b, on='date', suffixes=('_a', '_b'))"
   ]
  },
  {
   "cell_type": "code",
   "execution_count": 24,
   "metadata": {},
   "outputs": [
    {
     "data": {
      "image/png": "[encoded data removed]",
      "text/plain": [
       "<Figure size 1080x360 with 1 Axes>"
      ]
     },
     "metadata": {
      "needs_background": "light"
     },
     "output_type": "display_data"
    }
   ],
   "source": [
    "plt.figure(figsize=(15,5))\n",
    "plt.plot(merged_cumulative_revenue['date'],\n",
    "         (merged_cumulative_revenue['revenue_b']/merged_cumulative_revenue['orders_b']) / \n",
    "         (merged_cumulative_revenue['revenue_a'] / merged_cumulative_revenue['orders_a']) - 1, color='blue')\n",
    "plt.grid()\n",
    "plt.title('График относительного изменения кумулятивного среднего чека группы B к группе A')\n",
    "plt.xlabel('Дата')\n",
    "plt.axhline(y=0, color='grey', linestyle='--');"
   ]
  },
  {
   "cell_type": "markdown",
   "metadata": {},
   "source": [
    "Видим, что график \"лихорадит\": сначала подъем, затем спад 08 августа, и снова подъем. С 18 августа разница снова уменьшается, но ,кажется , стабилизируется на отметке в 25%. При этом группа В все равно стабильно лучше группы А."
   ]
  },
  {
   "cell_type": "markdown",
   "metadata": {},
   "source": [
    "#### \"Упаковка\" кода в функцию"
   ]
  },
  {
   "cell_type": "markdown",
   "metadata": {},
   "source": [
    "Из написанного выше кода сделаем функцию, чтобы в дальнейшем иметь возможность сформировать нужные таблицы и построить графики по новым данным."
   ]
  },
  {
   "cell_type": "markdown",
   "metadata": {},
   "source": [
    "Функция для получения таблиц кумулятивной выручки и кумулятивного среднего чека"
   ]
  },
  {
   "cell_type": "code",
   "execution_count": 25,
   "metadata": {},
   "outputs": [],
   "source": [
    "def cumulative_dt(orders,visits):\n",
    "    orders_agg = (\n",
    "    dates_groups.apply(\n",
    "    lambda x: orders[np.logical_and(orders['date'] <= x['date'], orders['group'] == x['group'])].agg({\n",
    "        'date': max,\n",
    "        'group': max, \n",
    "        'transaction_id' : 'nunique' ,\n",
    "        'visitor_id': 'nunique',\n",
    "        'revenue' : sum}), axis=1).sort_values(by=['date','group']))\n",
    "\n",
    "    visitors_agg = (\n",
    "    dates_groups.apply(\n",
    "    lambda x: visits[np.logical_and(visits['date'] <= x['date'], visits['group'] == x['group'])].agg({\n",
    "        'date': max,\n",
    "        'group' : max,\n",
    "        'visitors' : sum}), axis=1).sort_values(by=['date','group']))\n",
    "\n",
    "    cumulative_data = orders_agg.merge(visitors_agg, on=['date','group'], how='left')\n",
    "    cumulative_data.columns = ['date', 'group', 'orders', 'buyers', 'revenue', 'visitors']\n",
    "\n",
    "    cumulative_revenue_a = cumulative_data.query('group == \"A\"')[['date', 'orders', 'revenue']]\n",
    "    cumulative_revenue_b = cumulative_data.query('group == \"B\"')[['date', 'orders', 'revenue']]\n",
    "    \n",
    "    merged_cumulative_revenue = cumulative_revenue_a.merge(cumulative_revenue_b, on='date', suffixes=('_a', '_b'))\n",
    "        \n",
    "    return cumulative_data, cumulative_revenue_a, cumulative_revenue_b,merged_cumulative_revenue"
   ]
  },
  {
   "cell_type": "markdown",
   "metadata": {},
   "source": [
    "Функция для построения графиков кумулятивной выручки, кумулятивного среднего чека и относительного изменения среднего чека"
   ]
  },
  {
   "cell_type": "code",
   "execution_count": 26,
   "metadata": {},
   "outputs": [],
   "source": [
    "def revenue_plot(rev_a, rev_b, merged_cumulative_revenue):\n",
    "    plt.figure(figsize=(15,5))\n",
    "    plt.plot(rev_a['date'], rev_a['revenue'], label='A', color='red')\n",
    "    plt.plot(rev_b['date'], rev_b['revenue'], label='B', color='orange')\n",
    "    plt.legend()\n",
    "    plt.title('График кумулятивной выручки по группам в период с 01 августа 2019 г. по 31 августа 2019 г.')\n",
    "    plt.xlabel('Дата')\n",
    "    plt.grid()\n",
    "\n",
    "    plt.figure(figsize=(15,5))\n",
    "    plt.plot(rev_a['date'], rev_a['revenue'] / rev_a['orders'], label='A', color='red')\n",
    "    plt.plot(rev_b['date'], rev_b['revenue']/ rev_b['orders'], label='B', color='orange')\n",
    "    plt.legend()\n",
    "    plt.title('График кумулятивного среднего чека по группам в период с 01 августа 2019 г. по 31 августа 2019 г.')\n",
    "    plt.xlabel('Дата')\n",
    "    plt.grid()\n",
    "\n",
    "    plt.figure(figsize=(15,5))\n",
    "    plt.plot(merged_cumulative_revenue['date'],\n",
    "             (merged_cumulative_revenue['revenue_b']/merged_cumulative_revenue['orders_b']) / \n",
    "             (merged_cumulative_revenue['revenue_a'] / merged_cumulative_revenue['orders_a']) - 1, color='blue')\n",
    "    plt.grid()\n",
    "    plt.title('График относительного изменения кумулятивного среднего чека группы B к группе A')\n",
    "    plt.xlabel('Дата')\n",
    "    plt.axhline(y=0, color='grey', linestyle='--');   "
   ]
  },
  {
   "cell_type": "markdown",
   "metadata": {},
   "source": [
    "### Изучение конверсии по группам"
   ]
  },
  {
   "cell_type": "markdown",
   "metadata": {},
   "source": [
    "Посмотрим динамику кумулятивной конверсии для каждой группы"
   ]
  },
  {
   "cell_type": "markdown",
   "metadata": {},
   "source": [
    "#### Построение графика кумулятивной конверсии по группам"
   ]
  },
  {
   "cell_type": "markdown",
   "metadata": {},
   "source": [
    "Добавим столбец с конверсией к таблице `cumulative_data` и создадим переменные со срезом по каждой группе. Затем построим графики"
   ]
  },
  {
   "cell_type": "code",
   "execution_count": 27,
   "metadata": {},
   "outputs": [
    {
     "data": {
      "text/html": [
       "<div>\n",
       "<style scoped>\n",
       "    .dataframe tbody tr th:only-of-type {\n",
       "        vertical-align: middle;\n",
       "    }\n",
       "\n",
       "    .dataframe tbody tr th {\n",
       "        vertical-align: top;\n",
       "    }\n",
       "\n",
       "    .dataframe thead th {\n",
       "        text-align: right;\n",
       "    }\n",
       "</style>\n",
       "<table border=\"1\" class=\"dataframe\">\n",
       "  <thead>\n",
       "    <tr style=\"text-align: right;\">\n",
       "      <th></th>\n",
       "      <th>date</th>\n",
       "      <th>group</th>\n",
       "      <th>orders</th>\n",
       "      <th>buyers</th>\n",
       "      <th>revenue</th>\n",
       "      <th>visitors</th>\n",
       "      <th>conversion</th>\n",
       "    </tr>\n",
       "  </thead>\n",
       "  <tbody>\n",
       "    <tr>\n",
       "      <th>0</th>\n",
       "      <td>2019-08-01</td>\n",
       "      <td>A</td>\n",
       "      <td>24</td>\n",
       "      <td>20</td>\n",
       "      <td>148579</td>\n",
       "      <td>719</td>\n",
       "      <td>0.027816</td>\n",
       "    </tr>\n",
       "    <tr>\n",
       "      <th>1</th>\n",
       "      <td>2019-08-01</td>\n",
       "      <td>B</td>\n",
       "      <td>21</td>\n",
       "      <td>20</td>\n",
       "      <td>101217</td>\n",
       "      <td>713</td>\n",
       "      <td>0.028050</td>\n",
       "    </tr>\n",
       "    <tr>\n",
       "      <th>2</th>\n",
       "      <td>2019-08-02</td>\n",
       "      <td>A</td>\n",
       "      <td>44</td>\n",
       "      <td>38</td>\n",
       "      <td>242401</td>\n",
       "      <td>1338</td>\n",
       "      <td>0.028401</td>\n",
       "    </tr>\n",
       "    <tr>\n",
       "      <th>3</th>\n",
       "      <td>2019-08-02</td>\n",
       "      <td>B</td>\n",
       "      <td>45</td>\n",
       "      <td>43</td>\n",
       "      <td>266748</td>\n",
       "      <td>1294</td>\n",
       "      <td>0.033230</td>\n",
       "    </tr>\n",
       "    <tr>\n",
       "      <th>4</th>\n",
       "      <td>2019-08-03</td>\n",
       "      <td>A</td>\n",
       "      <td>68</td>\n",
       "      <td>62</td>\n",
       "      <td>354874</td>\n",
       "      <td>1845</td>\n",
       "      <td>0.033604</td>\n",
       "    </tr>\n",
       "  </tbody>\n",
       "</table>\n",
       "</div>"
      ],
      "text/plain": [
       "        date group  orders  buyers  revenue  visitors  conversion\n",
       "0 2019-08-01     A      24      20   148579       719    0.027816\n",
       "1 2019-08-01     B      21      20   101217       713    0.028050\n",
       "2 2019-08-02     A      44      38   242401      1338    0.028401\n",
       "3 2019-08-02     B      45      43   266748      1294    0.033230\n",
       "4 2019-08-03     A      68      62   354874      1845    0.033604"
      ]
     },
     "execution_count": 27,
     "metadata": {},
     "output_type": "execute_result"
    }
   ],
   "source": [
    "cumulative_data['conversion'] = cumulative_data['buyers'] / cumulative_data['visitors']\n",
    "cumulative_data.head()"
   ]
  },
  {
   "cell_type": "code",
   "execution_count": 28,
   "metadata": {},
   "outputs": [],
   "source": [
    "cumulative_conversion_a = cumulative_data.query('group == \"A\"')[['date','conversion']]\n",
    "cumulative_conversion_b = cumulative_data.query('group == \"B\"')[['date','conversion']]"
   ]
  },
  {
   "cell_type": "code",
   "execution_count": 29,
   "metadata": {
    "scrolled": true
   },
   "outputs": [
    {
     "data": {
      "image/png": "[encoded data removed]",
      "text/plain": [
       "<Figure size 1080x360 with 1 Axes>"
      ]
     },
     "metadata": {
      "needs_background": "light"
     },
     "output_type": "display_data"
    }
   ],
   "source": [
    "plt.figure(figsize=(15,5))\n",
    "plt.plot(cumulative_conversion_a['date'], cumulative_conversion_a['conversion'], label='A', color='red')\n",
    "plt.plot(cumulative_conversion_b['date'], cumulative_conversion_b['conversion'], label='B', color='orange')\n",
    "plt.legend()\n",
    "plt.title('График кумулятивной конверсии по группам в период с 01 августа 2019 г. по 31 августа 2019 г.')\n",
    "plt.xlabel('Дата')\n",
    "plt.grid();"
   ]
  },
  {
   "cell_type": "markdown",
   "metadata": {},
   "source": [
    "1. Наблюдаем резкие колебания графиков обеих групп в первые дни\n",
    "2. После 8 августа конверсия группы B повысилась и затем начала стабилизировалаться в районе 3,1%, а конверсия группы А ,наоборот, понизилась, колебалась между 2,7% и 2,8%, а затем снова пошла на снижение.\n",
    "3. Конверсия группы Б стабильно выше конверсии в группе А."
   ]
  },
  {
   "cell_type": "markdown",
   "metadata": {},
   "source": [
    "#### Построение графика относительного изменения конверсии группы B к группе A"
   ]
  },
  {
   "cell_type": "markdown",
   "metadata": {},
   "source": [
    "Построим график относительного изменения конверсии группы В к группе А"
   ]
  },
  {
   "cell_type": "code",
   "execution_count": 30,
   "metadata": {},
   "outputs": [],
   "source": [
    "merged_cumulative_conversion = cumulative_conversion_a.merge(cumulative_conversion_b, on='date', suffixes=('_a', '_b'))"
   ]
  },
  {
   "cell_type": "code",
   "execution_count": 31,
   "metadata": {},
   "outputs": [
    {
     "data": {
      "image/png": "[encoded data removed]",
      "text/plain": [
       "<Figure size 1080x360 with 1 Axes>"
      ]
     },
     "metadata": {
      "needs_background": "light"
     },
     "output_type": "display_data"
    }
   ],
   "source": [
    "plt.figure(figsize=(15,5))\n",
    "plt.plot(merged_cumulative_conversion['date'],\n",
    "         (merged_cumulative_conversion['conversion_b']) / \n",
    "         (merged_cumulative_conversion['conversion_a']) - 1, color='blue')\n",
    "plt.grid()\n",
    "plt.title('График относительного изменения кумулятивной конверсии группы B к группе A')\n",
    "plt.xlabel('Дата')\n",
    "plt.axhline(y=0, color='grey', linestyle='--');"
   ]
  },
  {
   "cell_type": "markdown",
   "metadata": {},
   "source": [
    "Видим, что кумулятивная конверсия группы В стабильно выше группы А. Только со 2го по 5е августа виден провал. Далее разница только положительная и в последние 10 дней месяца составляет в среднем 15%. Прирост конверсии группы B стально выше 10%."
   ]
  },
  {
   "cell_type": "markdown",
   "metadata": {},
   "source": [
    "### Изучение количества и стоимости заказов"
   ]
  },
  {
   "cell_type": "markdown",
   "metadata": {},
   "source": [
    "В разделе 1 мы уже нашли некоторые аномальные значения стоимости заказов. Гистограмма неудобна для более детального изучения выбросов, поэтому нам необходимо построить точечные графики"
   ]
  },
  {
   "cell_type": "markdown",
   "metadata": {},
   "source": [
    "#### Построение точечного графика количества заказов по пользователям"
   ]
  },
  {
   "cell_type": "markdown",
   "metadata": {},
   "source": [
    "Создадим переменную с разбивкой количества уникальных заказов на каждого пользователя и по ней построим точечный график."
   ]
  },
  {
   "cell_type": "code",
   "execution_count": 32,
   "metadata": {},
   "outputs": [
    {
     "data": {
      "text/html": [
       "<div>\n",
       "<style scoped>\n",
       "    .dataframe tbody tr th:only-of-type {\n",
       "        vertical-align: middle;\n",
       "    }\n",
       "\n",
       "    .dataframe tbody tr th {\n",
       "        vertical-align: top;\n",
       "    }\n",
       "\n",
       "    .dataframe thead th {\n",
       "        text-align: right;\n",
       "    }\n",
       "</style>\n",
       "<table border=\"1\" class=\"dataframe\">\n",
       "  <thead>\n",
       "    <tr style=\"text-align: right;\">\n",
       "      <th></th>\n",
       "      <th>userId</th>\n",
       "      <th>orders</th>\n",
       "    </tr>\n",
       "  </thead>\n",
       "  <tbody>\n",
       "    <tr>\n",
       "      <th>0</th>\n",
       "      <td>5114589</td>\n",
       "      <td>1</td>\n",
       "    </tr>\n",
       "    <tr>\n",
       "      <th>1</th>\n",
       "      <td>6958315</td>\n",
       "      <td>1</td>\n",
       "    </tr>\n",
       "    <tr>\n",
       "      <th>2</th>\n",
       "      <td>8300375</td>\n",
       "      <td>2</td>\n",
       "    </tr>\n",
       "    <tr>\n",
       "      <th>3</th>\n",
       "      <td>11685486</td>\n",
       "      <td>1</td>\n",
       "    </tr>\n",
       "    <tr>\n",
       "      <th>4</th>\n",
       "      <td>39475350</td>\n",
       "      <td>1</td>\n",
       "    </tr>\n",
       "    <tr>\n",
       "      <th>...</th>\n",
       "      <td>...</td>\n",
       "      <td>...</td>\n",
       "    </tr>\n",
       "    <tr>\n",
       "      <th>1026</th>\n",
       "      <td>4266935830</td>\n",
       "      <td>2</td>\n",
       "    </tr>\n",
       "    <tr>\n",
       "      <th>1027</th>\n",
       "      <td>4278982564</td>\n",
       "      <td>1</td>\n",
       "    </tr>\n",
       "    <tr>\n",
       "      <th>1028</th>\n",
       "      <td>4279090005</td>\n",
       "      <td>1</td>\n",
       "    </tr>\n",
       "    <tr>\n",
       "      <th>1029</th>\n",
       "      <td>4281247801</td>\n",
       "      <td>1</td>\n",
       "    </tr>\n",
       "    <tr>\n",
       "      <th>1030</th>\n",
       "      <td>4283872382</td>\n",
       "      <td>1</td>\n",
       "    </tr>\n",
       "  </tbody>\n",
       "</table>\n",
       "<p>1031 rows × 2 columns</p>\n",
       "</div>"
      ],
      "text/plain": [
       "          userId  orders\n",
       "0        5114589       1\n",
       "1        6958315       1\n",
       "2        8300375       2\n",
       "3       11685486       1\n",
       "4       39475350       1\n",
       "...          ...     ...\n",
       "1026  4266935830       2\n",
       "1027  4278982564       1\n",
       "1028  4279090005       1\n",
       "1029  4281247801       1\n",
       "1030  4283872382       1\n",
       "\n",
       "[1031 rows x 2 columns]"
      ]
     },
     "execution_count": 32,
     "metadata": {},
     "output_type": "execute_result"
    }
   ],
   "source": [
    "orders_by_users = orders.groupby('visitor_id', as_index=False).agg({'transaction_id' : 'nunique'})\n",
    "orders_by_users.columns = ['userId', 'orders']\n",
    "orders_by_users"
   ]
  },
  {
   "cell_type": "code",
   "execution_count": 33,
   "metadata": {},
   "outputs": [
    {
     "data": {
      "image/png": "[encoded data removed]",
      "text/plain": [
       "<Figure size 1080x360 with 1 Axes>"
      ]
     },
     "metadata": {
      "needs_background": "light"
     },
     "output_type": "display_data"
    }
   ],
   "source": [
    "x_values = pd.Series(range(0,len(orders_by_users['orders'])))\n",
    "\n",
    "plt.figure(figsize=(15,5))\n",
    "plt.scatter(x_values, orders_by_users['orders'], color='pink')\n",
    "plt.grid()\n",
    "plt.title('Точечный график количества заказов по пользователям');"
   ]
  },
  {
   "cell_type": "markdown",
   "metadata": {},
   "source": [
    "Видим много пользователей с 1 и 2 заказами и около десятка пользователей с 5 и более заказами."
   ]
  },
  {
   "cell_type": "markdown",
   "metadata": {},
   "source": [
    "#### Расчет 95-го и 99-го перцентилей количества заказов на пользователя"
   ]
  },
  {
   "cell_type": "markdown",
   "metadata": {},
   "source": [
    "Расчитаем 95й и 99й перцентили количества заказов на пользователя, чтобы определить, сколько заказов мы будем считать аномальными для рядового пользователя."
   ]
  },
  {
   "cell_type": "code",
   "execution_count": 34,
   "metadata": {},
   "outputs": [
    {
     "data": {
      "text/plain": [
       "array([2., 4.])"
      ]
     },
     "execution_count": 34,
     "metadata": {},
     "output_type": "execute_result"
    }
   ],
   "source": [
    "np.percentile(orders_by_users['orders'],[95,99])"
   ]
  },
  {
   "cell_type": "markdown",
   "metadata": {},
   "source": [
    "По расчету перцентилей видим, что 5% пользователей сделали более 2 заказов, а 1% пользователей - более 4.\n",
    "\n",
    "Установим границу аномальных заказов на пользователя равную 4."
   ]
  },
  {
   "cell_type": "markdown",
   "metadata": {},
   "source": [
    "#### Построение точечного графика стоимостей заказов"
   ]
  },
  {
   "cell_type": "markdown",
   "metadata": {},
   "source": [
    "Сделаем то же самое и со стоимостью заказов."
   ]
  },
  {
   "cell_type": "code",
   "execution_count": 35,
   "metadata": {},
   "outputs": [
    {
     "data": {
      "image/png": "[encoded data removed]",
      "text/plain": [
       "<Figure size 1080x360 with 1 Axes>"
      ]
     },
     "metadata": {
      "needs_background": "light"
     },
     "output_type": "display_data"
    }
   ],
   "source": [
    "x_values = pd.Series(range(0,len(orders['revenue'])))\n",
    "\n",
    "plt.figure(figsize=(15,5))\n",
    "plt.scatter(x_values, orders['revenue'], color='pink')\n",
    "plt.grid()\n",
    "plt.title('Точечный график стоимостей заказов по пользователям');"
   ]
  },
  {
   "cell_type": "markdown",
   "metadata": {},
   "source": [
    "Видим, 2 очень больших выброса, которые отмечали ранее. Они не позволяют рассмотреть другие значения. Посмотрим немного поближе, изменив границы графика."
   ]
  },
  {
   "cell_type": "code",
   "execution_count": 36,
   "metadata": {},
   "outputs": [
    {
     "data": {
      "image/png": "[encoded data removed]",
      "text/plain": [
       "<Figure size 1080x360 with 1 Axes>"
      ]
     },
     "metadata": {
      "needs_background": "light"
     },
     "output_type": "display_data"
    }
   ],
   "source": [
    "x_values = pd.Series(range(0,len(orders['revenue'])))\n",
    "\n",
    "plt.figure(figsize=(15,5))\n",
    "plt.scatter(x_values, orders['revenue'], color='pink')\n",
    "plt.grid()\n",
    "plt.title('Точечный график стоимостей заказов по пользователям')\n",
    "plt.ylim(0,100000);"
   ]
  },
  {
   "cell_type": "markdown",
   "metadata": {},
   "source": [
    "Видим наибольшее скопление значении до 40 000. Решение о границе выбросов примем после расчета 95 и 99 процентилей"
   ]
  },
  {
   "cell_type": "markdown",
   "metadata": {},
   "source": [
    "#### Расчет 95-го и 99-го перцентилей стоимости заказов"
   ]
  },
  {
   "cell_type": "markdown",
   "metadata": {},
   "source": [
    "Расчитаем 95й и 99й перцентили стоимости заказов, чтобы определить границу, значения выше которой будем считать аномальными."
   ]
  },
  {
   "cell_type": "code",
   "execution_count": 37,
   "metadata": {},
   "outputs": [
    {
     "data": {
      "text/plain": [
       "array([28000. , 58233.2])"
      ]
     },
     "execution_count": 37,
     "metadata": {},
     "output_type": "execute_result"
    }
   ],
   "source": [
    "np.percentile(orders['revenue'],[95,99])"
   ]
  },
  {
   "cell_type": "markdown",
   "metadata": {},
   "source": [
    "По расчету перцентилей видим, что 5% пользователей потратили больше 28 тыс. долларов на свои заказы, а 1% пользователей - более 58 тыс. долларов."
   ]
  },
  {
   "cell_type": "markdown",
   "metadata": {},
   "source": [
    "Установим границу аномальных стоимостей заказов равную 40 тысячам."
   ]
  },
  {
   "cell_type": "markdown",
   "metadata": {},
   "source": [
    "### Расчет статистической значимости"
   ]
  },
  {
   "cell_type": "markdown",
   "metadata": {},
   "source": [
    "#### Cтатистическая значимость различий в конверсии между группами по «сырым» данным"
   ]
  },
  {
   "cell_type": "markdown",
   "metadata": {},
   "source": [
    "Подготовим данные для расчета. Для каждой группы создадим переменные `sample_a` и `sample_b`, в которых пользователям из разных групп будет соответствовать количество заказов. Тем, кто ничего не заказал, будут соответствовать нули."
   ]
  },
  {
   "cell_type": "code",
   "execution_count": 38,
   "metadata": {},
   "outputs": [],
   "source": [
    "orders_by_users_a = orders.query('group == \"A\"').groupby('visitor_id', as_index=False).agg({'transaction_id' : 'nunique'})\n",
    "orders_by_users_b = orders.query('group == \"B\"').groupby('visitor_id', as_index=False).agg({'transaction_id' : 'nunique'})\n",
    "orders_by_users_a.columns = ['user_id', 'orders']\n",
    "orders_by_users_b.columns = ['user_id', 'orders']"
   ]
  },
  {
   "cell_type": "code",
   "execution_count": 39,
   "metadata": {},
   "outputs": [],
   "source": [
    "visits_a = visits.query('group == \"A\"')['visitors'].sum()\n",
    "visits_b = visits.query('group == \"B\"')['visitors'].sum()"
   ]
  },
  {
   "cell_type": "code",
   "execution_count": 40,
   "metadata": {},
   "outputs": [],
   "source": [
    "sample_a = pd.concat([\n",
    "    orders_by_users_a['orders'], \n",
    "    pd.Series(0,index=np.arange(visits_a - len(orders_by_users_a['orders'])))\n",
    "],axis=0)\n",
    "\n",
    "sample_b = pd.concat([\n",
    "    orders_by_users_b['orders'], \n",
    "    pd.Series(0,index=np.arange(visits_b - len(orders_by_users_b['orders'])))\n",
    "],axis=0)"
   ]
  },
  {
   "cell_type": "markdown",
   "metadata": {},
   "source": [
    "Зададим нулевую и альтернативную гипотезу\n",
    "- H0 : статистически значимых различий в конверсии между группами А и В нет\n",
    "- H1: есть статистические различия в конверсии между группами А и В\n",
    "\n",
    "Уровень статистической значимости установим равный 0.05"
   ]
  },
  {
   "cell_type": "markdown",
   "metadata": {},
   "source": [
    "Т.к. в исходных данных имеются большие выбросы расчитаем статистическую значимость методом Манна-Уитни. Также посчитаем разницу между средними двух групп."
   ]
  },
  {
   "cell_type": "code",
   "execution_count": 41,
   "metadata": {
    "scrolled": true
   },
   "outputs": [
    {
     "name": "stdout",
     "output_type": "stream",
     "text": [
      "Разница между средними групп А и В: 0.138\n"
     ]
    }
   ],
   "source": [
    "print('Разница между средними групп А и В:', \"{0:.3f}\".format(sample_b.mean() / sample_a.mean() - 1))"
   ]
  },
  {
   "cell_type": "code",
   "execution_count": 42,
   "metadata": {},
   "outputs": [
    {
     "name": "stdout",
     "output_type": "stream",
     "text": [
      "Отвергаем нулевую гипотезу: между долями есть значимая разница\n",
      "p-value: 0.016792355056752608\n"
     ]
    }
   ],
   "source": [
    "alpha = 0.05\n",
    "p_value = stats.mannwhitneyu(sample_a, sample_b)[1]\n",
    "if p_value < alpha:\n",
    "    print('Отвергаем нулевую гипотезу: между долями есть значимая разница')\n",
    "    print('p-value:', p_value)\n",
    "else: (print('Не получилось отвергнуть нулевую гипотезу, нет оснований считать доли разными'),\n",
    "        print('p-value:', p_value))"
   ]
  },
  {
   "cell_type": "markdown",
   "metadata": {},
   "source": [
    "Полученное значение p-value = 0,016 меньше уровня статистической значимости, соответственно вероятность получить такую же или большую разницу при верной нулевой гипотезе крайне мала. Отвергаем нулевую гипотезу. Различия между группами статистически значимы."
   ]
  },
  {
   "cell_type": "markdown",
   "metadata": {},
   "source": [
    "#### Cтатистическая значимость различий в среднем чеке между группами по «сырым» данным"
   ]
  },
  {
   "cell_type": "markdown",
   "metadata": {},
   "source": [
    "Теперь проверим статистическую значимость различий в среднем чеке между группами."
   ]
  },
  {
   "cell_type": "markdown",
   "metadata": {},
   "source": [
    "Зададим нулевую и альтернативную гипотезу\n",
    "- H0 : статистических различий в среднем чеке между группами А и В нет\n",
    "- H1: есть статистические различия в среднем чеке между группами\n",
    "\n",
    "Уровень статистической значимости установим равный 0.05"
   ]
  },
  {
   "cell_type": "code",
   "execution_count": 43,
   "metadata": {},
   "outputs": [
    {
     "name": "stdout",
     "output_type": "stream",
     "text": [
      "Разница между средними групп А и В: 0.259\n"
     ]
    }
   ],
   "source": [
    "print('Разница между средними групп А и В:', \n",
    "      \"{0:.3f}\".format(orders.query('group == \"B\"')['revenue'].mean() / orders.query('group == \"A\"')['revenue'].mean() -1))"
   ]
  },
  {
   "cell_type": "code",
   "execution_count": 44,
   "metadata": {},
   "outputs": [
    {
     "name": "stdout",
     "output_type": "stream",
     "text": [
      "Не получилось отвергнуть нулевую гипотезу, нет оснований считать доли разными\n",
      "p-value: 0.7292909855432458\n"
     ]
    }
   ],
   "source": [
    "alpha = 0.05\n",
    "p_value = stats.mannwhitneyu(orders.query('group == \"A\"')['revenue'], orders.query('group == \"B\"')['revenue'])[1]\n",
    "if p_value < alpha:\n",
    "    print('Отвергаем нулевую гипотезу: между долями есть значимая разница')\n",
    "    print('p-value:', p_value)\n",
    "else: (print('Не получилось отвергнуть нулевую гипотезу, нет оснований считать доли разными'),\n",
    "        print('p-value:', p_value))"
   ]
  },
  {
   "cell_type": "markdown",
   "metadata": {},
   "source": [
    "Полученное значение p-value = 0,729 больше уровня статистической значимости, значит нулевую гипотезу мы не отвергаем и нет причин считать, что в среднем чеке двух групп есть различия. \n",
    "\n",
    "Таким образом разница в 25,9% между группами не является статистически значимой. Возможно, это влияние выбросов. \n",
    "\n",
    "Далее посмотрим расчеты по \"очищенным данным\", без выбросов."
   ]
  },
  {
   "cell_type": "markdown",
   "metadata": {},
   "source": [
    "#### Удаление аномальных значений"
   ]
  },
  {
   "cell_type": "markdown",
   "metadata": {},
   "source": [
    "Подготовим список с пользователями, которые совершили более 3 заказов и заказы более, чем на 40 000."
   ]
  },
  {
   "cell_type": "code",
   "execution_count": 45,
   "metadata": {},
   "outputs": [
    {
     "data": {
      "text/plain": [
       "34"
      ]
     },
     "execution_count": 45,
     "metadata": {},
     "output_type": "execute_result"
    }
   ],
   "source": [
    "users_with_many_orders = pd.concat([\n",
    "        orders_by_users_a.query('orders > 3')['user_id'],\n",
    "        orders_by_users_b.query('orders > 3')['user_id'],\n",
    "    ],\n",
    "    axis=0)\n",
    "users_with_exp_orders = orders.query('revenue > 40000')['visitor_id']\n",
    "\n",
    "abnormal_users = pd.concat([users_with_many_orders, users_with_exp_orders],axis=0).drop_duplicates()\n",
    "\n",
    "abnormal_users.shape[0]"
   ]
  },
  {
   "cell_type": "markdown",
   "metadata": {},
   "source": [
    "Всего 34 \"аномальных\" пользователя. Теперь подготовим выборки заказов для расчета по \"очищенным данным\""
   ]
  },
  {
   "cell_type": "code",
   "execution_count": 46,
   "metadata": {},
   "outputs": [],
   "source": [
    "sample_a_filtered = pd.concat([\n",
    "    orders_by_users_a[np.logical_not(orders_by_users_a['user_id'].isin(abnormal_users))]['orders'], \n",
    "    pd.Series(0,index=np.arange(visits_a - len(orders_by_users_a['orders'])))\n",
    "],axis=0)\n",
    "\n",
    "sample_b_filtered = pd.concat([\n",
    "    orders_by_users_b[np.logical_not(orders_by_users_b['user_id'].isin(abnormal_users))]['orders'], \n",
    "    pd.Series(0,index=np.arange(visits_b - len(orders_by_users_b['orders'])))\n",
    "],axis=0)"
   ]
  },
  {
   "cell_type": "markdown",
   "metadata": {},
   "source": [
    "Также сохраним в отдельные переменные выборки для расчетов по среднему чеку."
   ]
  },
  {
   "cell_type": "code",
   "execution_count": 47,
   "metadata": {},
   "outputs": [],
   "source": [
    "sample_a_filtered_bill = orders[np.logical_and(\n",
    "                            orders['group'] == \"A\", np.logical_not(orders['visitor_id'].isin(abnormal_users)))]['revenue']\n",
    "\n",
    "sample_b_filtered_bill = orders[np.logical_and(\n",
    "                            orders['group'] == \"B\", np.logical_not(orders['visitor_id'].isin(abnormal_users)))]['revenue']"
   ]
  },
  {
   "cell_type": "markdown",
   "metadata": {},
   "source": [
    "Переходим к расчетам. Гипотезы и уровень статистической значимости те же."
   ]
  },
  {
   "cell_type": "markdown",
   "metadata": {},
   "source": [
    "#### Cтатистическая значимость различий в конверсии между группами по «очищенным» данным"
   ]
  },
  {
   "cell_type": "markdown",
   "metadata": {},
   "source": [
    "Зададим нулевую и альтернативную гипотезу\n",
    "- H0 : статистически значимых различий в конверсии между группами А и В по \"очищенным данным\" нет\n",
    "- H1: есть статистические различия в конверсии между группами по \"очищенным данным\"\n",
    "\n",
    "Уровень статистической значимости установим равный 0.05"
   ]
  },
  {
   "cell_type": "code",
   "execution_count": 48,
   "metadata": {},
   "outputs": [
    {
     "name": "stdout",
     "output_type": "stream",
     "text": [
      "Разница между средними групп А и В: 0.164\n"
     ]
    }
   ],
   "source": [
    "print('Разница между средними групп А и В:', \"{0:.3f}\".format(sample_b_filtered.mean() / sample_a_filtered.mean() - 1))"
   ]
  },
  {
   "cell_type": "code",
   "execution_count": 49,
   "metadata": {},
   "outputs": [
    {
     "name": "stdout",
     "output_type": "stream",
     "text": [
      "Отвергаем нулевую гипотезу: между долями есть значимая разница\n",
      "p-value: 0.009307722667034158\n"
     ]
    }
   ],
   "source": [
    "alpha = 0.05\n",
    "p_value = stats.mannwhitneyu(sample_a_filtered, sample_b_filtered)[1]\n",
    "if p_value < alpha:\n",
    "    print('Отвергаем нулевую гипотезу: между долями есть значимая разница')\n",
    "    print('p-value:', p_value)\n",
    "else: (print('Не получилось отвергнуть нулевую гипотезу, нет оснований считать доли разными'),\n",
    "        print('p-value:', p_value))"
   ]
  },
  {
   "cell_type": "markdown",
   "metadata": {},
   "source": [
    "Результаты практически не изменились, P-value стал ещё меньше, а разница между средними стала больше.\n",
    "\n",
    "Мы так же отвергаем гипотезу о равенстве конверсии в группах А и В. Имеются статистически значимые различия в конверсиях двух групп"
   ]
  },
  {
   "cell_type": "markdown",
   "metadata": {},
   "source": [
    "#### Cтатистическая значимость различий в среднем чеке между группами по «очищенным» данным"
   ]
  },
  {
   "cell_type": "markdown",
   "metadata": {},
   "source": [
    "Зададим нулевую и альтернативную гипотезу\n",
    "- H0 : статистических различий в среднем чеке между группами А и В нет\n",
    "- H1: есть статистические различия в среднем чеке между группами"
   ]
  },
  {
   "cell_type": "code",
   "execution_count": 50,
   "metadata": {},
   "outputs": [
    {
     "name": "stdout",
     "output_type": "stream",
     "text": [
      "Различия в среднем чеке между группами А и В: 0.060\n"
     ]
    }
   ],
   "source": [
    "print('Различия в среднем чеке между группами А и В:', \"{0:.3f}\".format(sample_b_filtered_bill.mean() / sample_a_filtered_bill.mean() - 1))"
   ]
  },
  {
   "cell_type": "code",
   "execution_count": 51,
   "metadata": {},
   "outputs": [
    {
     "name": "stdout",
     "output_type": "stream",
     "text": [
      "Не получилось отвергнуть нулевую гипотезу, нет оснований считать доли разными\n",
      "p-value: 0.7109821423993444\n"
     ]
    }
   ],
   "source": [
    "alpha = 0.05\n",
    "p_value = stats.mannwhitneyu(sample_a_filtered_bill,sample_b_filtered_bill)[1]\n",
    "if p_value < alpha:\n",
    "    print('Отвергаем нулевую гипотезу: между долями есть значимая разница')\n",
    "    print('p-value:', p_value)\n",
    "else: (print('Не получилось отвергнуть нулевую гипотезу, нет оснований считать доли разными'),\n",
    "        print('p-value:', p_value))"
   ]
  },
  {
   "cell_type": "markdown",
   "metadata": {},
   "source": [
    "Здесь результаты также практически не изменились. Т.е. мы так же не отвергаем нулевую гипотезу, как и в расчете по \"сырым\" данным, но теперь разница между средними значениями стала значительно меньше. "
   ]
  },
  {
   "cell_type": "markdown",
   "metadata": {},
   "source": [
    "### Выводы"
   ]
  },
  {
   "cell_type": "markdown",
   "metadata": {},
   "source": [
    "По результатам теста и расчетов можем сделать следующие выводы:\n",
    "1. Есть статистически значимые различия по среднему количеству заказов (конверсии) между группами как по «сырым», так и по данным после фильтрации аномалий;\n",
    "2. Нет статистически значимого различия в среднем чеке между группами ни по «сырым» данным, ни по данным после фильтрации аномалий;\n",
    "3. График различия конверсии между группами сообщает, что результаты группы B стабильно лучше группы A\n",
    "4. График различия среднего чека говорит о том, что результаты группы B лучше группы А, разница положительная, но не очень большая. На графиках ниже , построенных по отфильтрованным данным, это видно более наглядно."
   ]
  },
  {
   "cell_type": "code",
   "execution_count": 52,
   "metadata": {},
   "outputs": [
    {
     "data": {
      "image/png": "[encoded data removed]",
      "text/plain": [
       "<Figure size 1080x360 with 1 Axes>"
      ]
     },
     "metadata": {
      "needs_background": "light"
     },
     "output_type": "display_data"
    },
    {
     "data": {
      "image/png": "[encoded data removed]",
      "text/plain": [
       "<Figure size 1080x360 with 1 Axes>"
      ]
     },
     "metadata": {
      "needs_background": "light"
     },
     "output_type": "display_data"
    },
    {
     "data": {
      "image/png": "[encoded data removed]",
      "text/plain": [
       "<Figure size 1080x360 with 1 Axes>"
      ]
     },
     "metadata": {
      "needs_background": "light"
     },
     "output_type": "display_data"
    }
   ],
   "source": [
    "orders_f = orders[~orders['visitor_id'].isin(abnormal_users)]\n",
    "\n",
    "c_data, c_revenue_a, c_revenue_b, merged_c_revenue = cumulative_dt(orders_f,visits)\n",
    "\n",
    "revenue_plot(c_revenue_a, c_revenue_b, merged_c_revenue)"
   ]
  },
  {
   "cell_type": "markdown",
   "metadata": {},
   "source": [
    "Исходя из обнаруженных фактов, считаю, что нужно закончить тест и зафиксировать победу группы В.\n",
    "Все показатели вышли в плюс (хотя где-то в незначительный). При выросшей конверсии и стабильном среднем чеке общая выручка будет только расти.\n",
    "\n"
   ]
  }
 ],
 "metadata": {
  "ExecuteTimeLog": [
   {
    "duration": 1301,
    "start_time": "2022-08-01T08:13:42.149Z"
   },
   {
    "duration": 189,
    "start_time": "2022-08-01T08:15:40.995Z"
   },
   {
    "duration": 75,
    "start_time": "2022-08-01T08:16:01.245Z"
   },
   {
    "duration": 3,
    "start_time": "2022-08-01T08:16:58.281Z"
   },
   {
    "duration": 26,
    "start_time": "2022-08-01T08:17:11.045Z"
   },
   {
    "duration": 19,
    "start_time": "2022-08-01T08:17:23.089Z"
   },
   {
    "duration": 18,
    "start_time": "2022-08-01T08:18:05.929Z"
   },
   {
    "duration": 4,
    "start_time": "2022-08-01T08:54:03.486Z"
   },
   {
    "duration": 11,
    "start_time": "2022-08-01T08:55:52.598Z"
   },
   {
    "duration": 3,
    "start_time": "2022-08-01T08:57:42.146Z"
   },
   {
    "duration": 1048,
    "start_time": "2022-08-01T08:57:54.890Z"
   },
   {
    "duration": 75,
    "start_time": "2022-08-01T08:57:55.940Z"
   },
   {
    "duration": 3,
    "start_time": "2022-08-01T08:57:56.017Z"
   },
   {
    "duration": 26,
    "start_time": "2022-08-01T08:57:56.022Z"
   },
   {
    "duration": 8,
    "start_time": "2022-08-01T08:57:56.051Z"
   },
   {
    "duration": 20,
    "start_time": "2022-08-01T08:57:56.061Z"
   },
   {
    "duration": 20,
    "start_time": "2022-08-01T08:57:56.083Z"
   },
   {
    "duration": 71,
    "start_time": "2022-08-01T09:18:11.647Z"
   },
   {
    "duration": 8,
    "start_time": "2022-08-01T10:29:42.947Z"
   },
   {
    "duration": 3,
    "start_time": "2022-08-01T10:29:55.596Z"
   },
   {
    "duration": 9,
    "start_time": "2022-08-01T10:30:02.219Z"
   },
   {
    "duration": 8,
    "start_time": "2022-08-01T10:30:10.972Z"
   },
   {
    "duration": 4,
    "start_time": "2022-08-01T10:30:43.886Z"
   },
   {
    "duration": 4,
    "start_time": "2022-08-01T10:30:53.492Z"
   },
   {
    "duration": 8,
    "start_time": "2022-08-01T10:30:55.668Z"
   },
   {
    "duration": 10,
    "start_time": "2022-08-01T10:40:42.548Z"
   },
   {
    "duration": 24,
    "start_time": "2022-08-01T10:40:43.950Z"
   },
   {
    "duration": 16,
    "start_time": "2022-08-01T10:40:48.516Z"
   },
   {
    "duration": 1118,
    "start_time": "2022-08-01T10:40:54.643Z"
   },
   {
    "duration": 74,
    "start_time": "2022-08-01T10:40:55.763Z"
   },
   {
    "duration": 4,
    "start_time": "2022-08-01T10:40:55.840Z"
   },
   {
    "duration": 25,
    "start_time": "2022-08-01T10:40:55.846Z"
   },
   {
    "duration": 3,
    "start_time": "2022-08-01T10:40:55.872Z"
   },
   {
    "duration": 10,
    "start_time": "2022-08-01T10:40:55.876Z"
   },
   {
    "duration": 47,
    "start_time": "2022-08-01T10:40:55.887Z"
   },
   {
    "duration": 17,
    "start_time": "2022-08-01T10:40:55.936Z"
   },
   {
    "duration": 45,
    "start_time": "2022-08-01T10:42:09.488Z"
   },
   {
    "duration": 48,
    "start_time": "2022-08-01T10:42:51.060Z"
   },
   {
    "duration": 48,
    "start_time": "2022-08-01T10:43:29.520Z"
   },
   {
    "duration": 4,
    "start_time": "2022-08-01T10:44:34.304Z"
   },
   {
    "duration": 4,
    "start_time": "2022-08-01T10:44:41.256Z"
   },
   {
    "duration": 51,
    "start_time": "2022-08-01T10:51:18.350Z"
   },
   {
    "duration": 3,
    "start_time": "2022-08-01T10:54:37.183Z"
   },
   {
    "duration": 14,
    "start_time": "2022-08-01T10:55:02.591Z"
   },
   {
    "duration": 5,
    "start_time": "2022-08-01T10:56:09.871Z"
   },
   {
    "duration": 105,
    "start_time": "2022-08-01T10:56:33.808Z"
   },
   {
    "duration": 6,
    "start_time": "2022-08-01T10:56:53.447Z"
   },
   {
    "duration": 9,
    "start_time": "2022-08-01T10:57:09.644Z"
   },
   {
    "duration": 10,
    "start_time": "2022-08-01T10:57:13.391Z"
   },
   {
    "duration": 8,
    "start_time": "2022-08-01T10:58:07.768Z"
   },
   {
    "duration": 13,
    "start_time": "2022-08-01T10:58:46.272Z"
   },
   {
    "duration": 9,
    "start_time": "2022-08-01T10:59:07.071Z"
   },
   {
    "duration": 66,
    "start_time": "2022-08-01T10:59:25.695Z"
   },
   {
    "duration": 55,
    "start_time": "2022-08-01T10:59:29.719Z"
   },
   {
    "duration": 83,
    "start_time": "2022-08-01T10:59:42.455Z"
   },
   {
    "duration": 95,
    "start_time": "2022-08-01T10:59:55.678Z"
   },
   {
    "duration": 139,
    "start_time": "2022-08-01T11:00:09.159Z"
   },
   {
    "duration": 65,
    "start_time": "2022-08-01T11:00:16.055Z"
   },
   {
    "duration": 8,
    "start_time": "2022-08-01T11:00:23.591Z"
   },
   {
    "duration": 8,
    "start_time": "2022-08-01T11:00:26.215Z"
   },
   {
    "duration": 9,
    "start_time": "2022-08-01T11:00:35.759Z"
   },
   {
    "duration": 12,
    "start_time": "2022-08-01T11:00:51.991Z"
   },
   {
    "duration": 9,
    "start_time": "2022-08-01T11:00:57.742Z"
   },
   {
    "duration": 9,
    "start_time": "2022-08-01T11:01:38.095Z"
   },
   {
    "duration": 170,
    "start_time": "2022-08-01T11:02:20.108Z"
   },
   {
    "duration": 204,
    "start_time": "2022-08-01T11:02:29.663Z"
   },
   {
    "duration": 126,
    "start_time": "2022-08-01T11:02:34.607Z"
   },
   {
    "duration": 1151,
    "start_time": "2022-08-01T11:02:43.121Z"
   },
   {
    "duration": 210,
    "start_time": "2022-08-01T11:02:52.288Z"
   },
   {
    "duration": 8,
    "start_time": "2022-08-01T11:03:16.375Z"
   },
   {
    "duration": 5,
    "start_time": "2022-08-01T11:03:56.255Z"
   },
   {
    "duration": 6,
    "start_time": "2022-08-01T11:04:28.243Z"
   },
   {
    "duration": 11,
    "start_time": "2022-08-01T11:21:28.990Z"
   },
   {
    "duration": 14,
    "start_time": "2022-08-01T11:21:43.879Z"
   },
   {
    "duration": 14,
    "start_time": "2022-08-01T11:21:48.558Z"
   },
   {
    "duration": 2,
    "start_time": "2022-08-01T11:22:50.878Z"
   },
   {
    "duration": 9,
    "start_time": "2022-08-01T11:30:09.451Z"
   },
   {
    "duration": 29,
    "start_time": "2022-08-01T12:12:05.203Z"
   },
   {
    "duration": 12,
    "start_time": "2022-08-01T12:12:12.587Z"
   },
   {
    "duration": 12,
    "start_time": "2022-08-01T12:12:39.936Z"
   },
   {
    "duration": 12,
    "start_time": "2022-08-01T12:13:33.788Z"
   },
   {
    "duration": 2,
    "start_time": "2022-08-01T12:56:28.500Z"
   },
   {
    "duration": 2,
    "start_time": "2022-08-01T12:56:30.481Z"
   },
   {
    "duration": 3,
    "start_time": "2022-08-01T12:58:37.266Z"
   },
   {
    "duration": 3,
    "start_time": "2022-08-01T13:22:40.578Z"
   },
   {
    "duration": 4,
    "start_time": "2022-08-01T13:22:48.399Z"
   },
   {
    "duration": 13,
    "start_time": "2022-08-01T13:23:11.104Z"
   },
   {
    "duration": 6,
    "start_time": "2022-08-01T13:23:36.439Z"
   },
   {
    "duration": 10,
    "start_time": "2022-08-01T13:23:37.728Z"
   },
   {
    "duration": 11,
    "start_time": "2022-08-01T13:25:40.048Z"
   },
   {
    "duration": 153,
    "start_time": "2022-08-01T13:25:47.400Z"
   },
   {
    "duration": 10,
    "start_time": "2022-08-01T13:25:53.728Z"
   },
   {
    "duration": 123,
    "start_time": "2022-08-01T13:27:24.039Z"
   },
   {
    "duration": 111,
    "start_time": "2022-08-01T13:27:38.856Z"
   },
   {
    "duration": 10,
    "start_time": "2022-08-01T13:27:45.088Z"
   },
   {
    "duration": 9,
    "start_time": "2022-08-01T13:36:19.455Z"
   },
   {
    "duration": 122,
    "start_time": "2022-08-01T13:42:04.174Z"
   },
   {
    "duration": 119,
    "start_time": "2022-08-01T13:43:09.279Z"
   },
   {
    "duration": 10,
    "start_time": "2022-08-01T13:43:16.879Z"
   },
   {
    "duration": 152,
    "start_time": "2022-08-01T14:22:14.222Z"
   },
   {
    "duration": 200,
    "start_time": "2022-08-01T14:22:14.717Z"
   },
   {
    "duration": 6,
    "start_time": "2022-08-01T14:23:00.764Z"
   },
   {
    "duration": 12,
    "start_time": "2022-08-01T14:23:04.732Z"
   },
   {
    "duration": 5,
    "start_time": "2022-08-01T14:23:47.541Z"
   },
   {
    "duration": 13,
    "start_time": "2022-08-01T14:23:47.820Z"
   },
   {
    "duration": 265,
    "start_time": "2022-08-01T14:24:42.692Z"
   },
   {
    "duration": 3,
    "start_time": "2022-08-01T14:26:50.589Z"
   },
   {
    "duration": 7,
    "start_time": "2022-08-01T14:27:07.476Z"
   },
   {
    "duration": 12,
    "start_time": "2022-08-01T14:27:10.892Z"
   },
   {
    "duration": 8,
    "start_time": "2022-08-01T14:29:46.285Z"
   },
   {
    "duration": 7,
    "start_time": "2022-08-01T14:29:49.750Z"
   },
   {
    "duration": 231,
    "start_time": "2022-08-01T14:29:50.332Z"
   },
   {
    "duration": 178,
    "start_time": "2022-08-01T14:31:04.797Z"
   },
   {
    "duration": 184,
    "start_time": "2022-08-01T14:32:11.420Z"
   },
   {
    "duration": 202,
    "start_time": "2022-08-01T14:32:28.499Z"
   },
   {
    "duration": 182,
    "start_time": "2022-08-01T14:33:12.020Z"
   },
   {
    "duration": 199,
    "start_time": "2022-08-01T14:33:15.084Z"
   },
   {
    "duration": 7,
    "start_time": "2022-08-01T14:33:27.563Z"
   },
   {
    "duration": 197,
    "start_time": "2022-08-01T14:33:28.931Z"
   },
   {
    "duration": 172,
    "start_time": "2022-08-01T14:33:51.148Z"
   },
   {
    "duration": 190,
    "start_time": "2022-08-01T14:34:07.115Z"
   },
   {
    "duration": 190,
    "start_time": "2022-08-01T14:35:00.660Z"
   },
   {
    "duration": 187,
    "start_time": "2022-08-01T14:47:31.666Z"
   },
   {
    "duration": 201,
    "start_time": "2022-08-01T14:47:42.002Z"
   },
   {
    "duration": 191,
    "start_time": "2022-08-01T14:47:47.331Z"
   },
   {
    "duration": 190,
    "start_time": "2022-08-01T14:47:54.170Z"
   },
   {
    "duration": 203,
    "start_time": "2022-08-01T14:48:01.818Z"
   },
   {
    "duration": 230,
    "start_time": "2022-08-01T14:55:17.428Z"
   },
   {
    "duration": 186,
    "start_time": "2022-08-01T14:55:40.674Z"
   },
   {
    "duration": 270,
    "start_time": "2022-08-01T14:57:59.890Z"
   },
   {
    "duration": 1118,
    "start_time": "2022-08-01T15:07:30.241Z"
   },
   {
    "duration": 7,
    "start_time": "2022-08-01T15:07:56.194Z"
   },
   {
    "duration": 178,
    "start_time": "2022-08-01T15:07:58.361Z"
   },
   {
    "duration": 199,
    "start_time": "2022-08-01T15:08:00.194Z"
   },
   {
    "duration": 11,
    "start_time": "2022-08-01T15:08:54.474Z"
   },
   {
    "duration": 11,
    "start_time": "2022-08-01T15:09:00.505Z"
   },
   {
    "duration": 199,
    "start_time": "2022-08-01T15:09:01.018Z"
   },
   {
    "duration": 194,
    "start_time": "2022-08-01T15:09:02.770Z"
   },
   {
    "duration": 7,
    "start_time": "2022-08-01T15:12:02.969Z"
   },
   {
    "duration": 7,
    "start_time": "2022-08-01T15:12:08.449Z"
   },
   {
    "duration": 8,
    "start_time": "2022-08-01T15:13:07.522Z"
   },
   {
    "duration": 6,
    "start_time": "2022-08-01T15:13:27.130Z"
   },
   {
    "duration": 10,
    "start_time": "2022-08-01T15:13:37.562Z"
   },
   {
    "duration": 6,
    "start_time": "2022-08-01T15:14:13.793Z"
   },
   {
    "duration": 197,
    "start_time": "2022-08-01T15:15:08.010Z"
   },
   {
    "duration": 172,
    "start_time": "2022-08-01T15:15:22.281Z"
   },
   {
    "duration": 177,
    "start_time": "2022-08-01T15:15:46.097Z"
   },
   {
    "duration": 319,
    "start_time": "2022-08-01T15:15:57.329Z"
   },
   {
    "duration": 189,
    "start_time": "2022-08-01T15:16:20.097Z"
   },
   {
    "duration": 278,
    "start_time": "2022-08-01T15:16:30.505Z"
   },
   {
    "duration": 1358,
    "start_time": "2022-08-02T07:21:32.355Z"
   },
   {
    "duration": 181,
    "start_time": "2022-08-02T07:21:33.715Z"
   },
   {
    "duration": 4,
    "start_time": "2022-08-02T07:21:33.897Z"
   },
   {
    "duration": 5,
    "start_time": "2022-08-02T07:21:33.904Z"
   },
   {
    "duration": 50,
    "start_time": "2022-08-02T07:21:33.910Z"
   },
   {
    "duration": 3,
    "start_time": "2022-08-02T07:21:33.962Z"
   },
   {
    "duration": 11,
    "start_time": "2022-08-02T07:21:33.967Z"
   },
   {
    "duration": 15,
    "start_time": "2022-08-02T07:21:33.979Z"
   },
   {
    "duration": 7,
    "start_time": "2022-08-02T07:21:33.996Z"
   },
   {
    "duration": 274,
    "start_time": "2022-08-02T07:21:34.006Z"
   },
   {
    "duration": 6,
    "start_time": "2022-08-02T07:21:34.282Z"
   },
   {
    "duration": 11,
    "start_time": "2022-08-02T07:21:34.289Z"
   },
   {
    "duration": 17,
    "start_time": "2022-08-02T07:21:34.301Z"
   },
   {
    "duration": 26,
    "start_time": "2022-08-02T07:21:34.320Z"
   },
   {
    "duration": 6,
    "start_time": "2022-08-02T07:21:34.348Z"
   },
   {
    "duration": 273,
    "start_time": "2022-08-02T07:21:34.356Z"
   },
   {
    "duration": 10,
    "start_time": "2022-08-02T07:21:34.630Z"
   },
   {
    "duration": 15,
    "start_time": "2022-08-02T07:21:34.641Z"
   },
   {
    "duration": 9,
    "start_time": "2022-08-02T07:21:34.657Z"
   },
   {
    "duration": 272,
    "start_time": "2022-08-02T07:21:34.668Z"
   },
   {
    "duration": 200,
    "start_time": "2022-08-02T07:21:34.942Z"
   },
   {
    "duration": 7,
    "start_time": "2022-08-02T07:21:35.144Z"
   },
   {
    "duration": 324,
    "start_time": "2022-08-02T07:21:35.153Z"
   },
   {
    "duration": 33,
    "start_time": "2022-08-02T08:40:01.638Z"
   },
   {
    "duration": 16,
    "start_time": "2022-08-02T08:40:10.477Z"
   },
   {
    "duration": 17,
    "start_time": "2022-08-02T08:41:57.174Z"
   },
   {
    "duration": 290,
    "start_time": "2022-08-02T08:42:57.235Z"
   },
   {
    "duration": 230,
    "start_time": "2022-08-02T08:45:05.086Z"
   },
   {
    "duration": 408,
    "start_time": "2022-08-02T08:45:09.184Z"
   },
   {
    "duration": 1301,
    "start_time": "2022-08-02T08:47:46.865Z"
   },
   {
    "duration": 260,
    "start_time": "2022-08-02T08:47:48.665Z"
   },
   {
    "duration": 1341,
    "start_time": "2022-08-02T08:48:06.383Z"
   },
   {
    "duration": 8,
    "start_time": "2022-08-02T08:48:18.529Z"
   },
   {
    "duration": 240,
    "start_time": "2022-08-02T08:48:21.564Z"
   },
   {
    "duration": 8,
    "start_time": "2022-08-02T08:48:34.991Z"
   },
   {
    "duration": 1257,
    "start_time": "2022-08-02T08:50:58.169Z"
   },
   {
    "duration": 292,
    "start_time": "2022-08-02T08:52:09.302Z"
   },
   {
    "duration": 233,
    "start_time": "2022-08-02T08:58:28.590Z"
   },
   {
    "duration": 267,
    "start_time": "2022-08-02T08:59:34.135Z"
   },
   {
    "duration": 255,
    "start_time": "2022-08-02T08:59:39.972Z"
   },
   {
    "duration": 292,
    "start_time": "2022-08-02T09:00:13.056Z"
   },
   {
    "duration": 284,
    "start_time": "2022-08-02T09:00:17.681Z"
   },
   {
    "duration": 257,
    "start_time": "2022-08-02T09:00:41.961Z"
   },
   {
    "duration": 416,
    "start_time": "2022-08-02T09:01:23.460Z"
   },
   {
    "duration": 467,
    "start_time": "2022-08-02T09:01:35.665Z"
   },
   {
    "duration": 291,
    "start_time": "2022-08-02T09:02:44.560Z"
   },
   {
    "duration": 312,
    "start_time": "2022-08-02T09:03:11.367Z"
   },
   {
    "duration": 294,
    "start_time": "2022-08-02T09:04:05.876Z"
   },
   {
    "duration": 263,
    "start_time": "2022-08-02T09:04:25.566Z"
   },
   {
    "duration": 9,
    "start_time": "2022-08-02T09:07:26.767Z"
   },
   {
    "duration": 311,
    "start_time": "2022-08-02T09:07:27.485Z"
   },
   {
    "duration": 9,
    "start_time": "2022-08-02T11:27:09.251Z"
   },
   {
    "duration": 10,
    "start_time": "2022-08-02T11:27:21.577Z"
   },
   {
    "duration": 10,
    "start_time": "2022-08-02T11:27:24.722Z"
   },
   {
    "duration": 7,
    "start_time": "2022-08-02T11:27:44.659Z"
   },
   {
    "duration": 10,
    "start_time": "2022-08-02T11:27:47.762Z"
   },
   {
    "duration": 9,
    "start_time": "2022-08-02T11:28:03.675Z"
   },
   {
    "duration": 371,
    "start_time": "2022-08-02T11:30:07.250Z"
   },
   {
    "duration": 115,
    "start_time": "2022-08-02T11:30:23.447Z"
   },
   {
    "duration": 131,
    "start_time": "2022-08-02T11:30:33.875Z"
   },
   {
    "duration": 149,
    "start_time": "2022-08-02T11:30:59.179Z"
   },
   {
    "duration": 241,
    "start_time": "2022-08-02T11:31:06.965Z"
   },
   {
    "duration": 10,
    "start_time": "2022-08-02T11:31:30.123Z"
   },
   {
    "duration": 137,
    "start_time": "2022-08-02T11:31:32.795Z"
   },
   {
    "duration": 10,
    "start_time": "2022-08-02T11:42:45.881Z"
   },
   {
    "duration": 9,
    "start_time": "2022-08-02T11:47:04.088Z"
   },
   {
    "duration": 17,
    "start_time": "2022-08-02T11:47:26.071Z"
   },
   {
    "duration": 22,
    "start_time": "2022-08-02T11:47:37.736Z"
   },
   {
    "duration": 32,
    "start_time": "2022-08-02T11:47:50.632Z"
   },
   {
    "duration": 18,
    "start_time": "2022-08-02T11:53:30.750Z"
   },
   {
    "duration": 13,
    "start_time": "2022-08-02T11:53:32.625Z"
   },
   {
    "duration": 13,
    "start_time": "2022-08-02T11:53:34.726Z"
   },
   {
    "duration": 10,
    "start_time": "2022-08-02T11:53:48.918Z"
   },
   {
    "duration": 90,
    "start_time": "2022-08-02T11:55:01.984Z"
   },
   {
    "duration": 57,
    "start_time": "2022-08-02T11:55:14.239Z"
   },
   {
    "duration": 6,
    "start_time": "2022-08-02T11:57:10.926Z"
   },
   {
    "duration": 8,
    "start_time": "2022-08-02T11:59:02.225Z"
   },
   {
    "duration": 13,
    "start_time": "2022-08-02T11:59:11.654Z"
   },
   {
    "duration": 7,
    "start_time": "2022-08-02T11:59:59.398Z"
   },
   {
    "duration": 8,
    "start_time": "2022-08-02T12:00:18.748Z"
   },
   {
    "duration": 7,
    "start_time": "2022-08-02T12:00:31.323Z"
   },
   {
    "duration": 4,
    "start_time": "2022-08-02T12:00:42.134Z"
   },
   {
    "duration": 8,
    "start_time": "2022-08-02T12:01:10.326Z"
   },
   {
    "duration": 7,
    "start_time": "2022-08-02T12:01:46.069Z"
   },
   {
    "duration": 6,
    "start_time": "2022-08-02T12:01:52.085Z"
   },
   {
    "duration": 13,
    "start_time": "2022-08-02T12:01:59.149Z"
   },
   {
    "duration": 9,
    "start_time": "2022-08-02T12:02:07.725Z"
   },
   {
    "duration": 13,
    "start_time": "2022-08-02T12:02:15.381Z"
   },
   {
    "duration": 9,
    "start_time": "2022-08-02T12:10:45.260Z"
   },
   {
    "duration": 10,
    "start_time": "2022-08-02T12:10:57.249Z"
   },
   {
    "duration": 9,
    "start_time": "2022-08-02T12:11:03.767Z"
   },
   {
    "duration": 13,
    "start_time": "2022-08-02T12:11:23.219Z"
   },
   {
    "duration": 61,
    "start_time": "2022-08-02T12:13:04.820Z"
   },
   {
    "duration": 1070,
    "start_time": "2022-08-02T12:13:14.891Z"
   },
   {
    "duration": 13,
    "start_time": "2022-08-02T12:20:15.580Z"
   },
   {
    "duration": 9,
    "start_time": "2022-08-02T12:33:22.039Z"
   },
   {
    "duration": 5,
    "start_time": "2022-08-02T12:33:28.286Z"
   },
   {
    "duration": 9,
    "start_time": "2022-08-02T12:33:29.439Z"
   },
   {
    "duration": 8,
    "start_time": "2022-08-02T12:33:44.663Z"
   },
   {
    "duration": 9,
    "start_time": "2022-08-02T12:35:30.377Z"
   },
   {
    "duration": 15,
    "start_time": "2022-08-02T12:42:30.232Z"
   },
   {
    "duration": 12,
    "start_time": "2022-08-02T12:43:36.233Z"
   },
   {
    "duration": 11,
    "start_time": "2022-08-02T12:44:28.784Z"
   },
   {
    "duration": 13,
    "start_time": "2022-08-02T12:44:48.161Z"
   },
   {
    "duration": 12,
    "start_time": "2022-08-02T12:47:24.664Z"
   },
   {
    "duration": 13,
    "start_time": "2022-08-02T12:47:33.114Z"
   },
   {
    "duration": 15,
    "start_time": "2022-08-02T12:53:18.784Z"
   },
   {
    "duration": 20,
    "start_time": "2022-08-02T12:53:38.009Z"
   },
   {
    "duration": 7,
    "start_time": "2022-08-02T12:53:59.936Z"
   },
   {
    "duration": 26,
    "start_time": "2022-08-02T12:54:42.817Z"
   },
   {
    "duration": 34,
    "start_time": "2022-08-02T12:55:56.272Z"
   },
   {
    "duration": 21,
    "start_time": "2022-08-02T12:56:57.440Z"
   },
   {
    "duration": 20,
    "start_time": "2022-08-02T13:07:39.005Z"
   },
   {
    "duration": 20,
    "start_time": "2022-08-02T13:08:54.966Z"
   },
   {
    "duration": 21,
    "start_time": "2022-08-02T13:09:08.880Z"
   },
   {
    "duration": 34,
    "start_time": "2022-08-02T13:09:56.840Z"
   },
   {
    "duration": 11,
    "start_time": "2022-08-02T13:10:42.182Z"
   },
   {
    "duration": 17,
    "start_time": "2022-08-02T13:11:08.782Z"
   },
   {
    "duration": 17,
    "start_time": "2022-08-02T13:11:20.673Z"
   },
   {
    "duration": 21,
    "start_time": "2022-08-02T13:11:36.456Z"
   },
   {
    "duration": 21,
    "start_time": "2022-08-02T13:11:51.249Z"
   },
   {
    "duration": 28,
    "start_time": "2022-08-02T13:11:57.423Z"
   },
   {
    "duration": 19,
    "start_time": "2022-08-02T13:12:25.679Z"
   },
   {
    "duration": 30,
    "start_time": "2022-08-02T13:12:31.839Z"
   },
   {
    "duration": 17,
    "start_time": "2022-08-02T13:12:44.520Z"
   },
   {
    "duration": 20,
    "start_time": "2022-08-02T13:12:49.365Z"
   },
   {
    "duration": 16,
    "start_time": "2022-08-02T13:13:59.324Z"
   },
   {
    "duration": 12,
    "start_time": "2022-08-02T13:14:22.783Z"
   },
   {
    "duration": 1291,
    "start_time": "2022-08-02T13:14:35.633Z"
   },
   {
    "duration": 162,
    "start_time": "2022-08-02T13:14:36.926Z"
   },
   {
    "duration": 3,
    "start_time": "2022-08-02T13:14:37.090Z"
   },
   {
    "duration": 7,
    "start_time": "2022-08-02T13:14:37.095Z"
   },
   {
    "duration": 57,
    "start_time": "2022-08-02T13:14:37.104Z"
   },
   {
    "duration": 3,
    "start_time": "2022-08-02T13:14:37.163Z"
   },
   {
    "duration": 12,
    "start_time": "2022-08-02T13:14:37.167Z"
   },
   {
    "duration": 19,
    "start_time": "2022-08-02T13:14:37.180Z"
   },
   {
    "duration": 8,
    "start_time": "2022-08-02T13:14:37.201Z"
   },
   {
    "duration": 278,
    "start_time": "2022-08-02T13:14:37.211Z"
   },
   {
    "duration": 17,
    "start_time": "2022-08-02T13:14:37.491Z"
   },
   {
    "duration": 41,
    "start_time": "2022-08-02T13:14:37.510Z"
   },
   {
    "duration": 14,
    "start_time": "2022-08-02T13:14:37.557Z"
   },
   {
    "duration": 3,
    "start_time": "2022-08-02T13:14:37.575Z"
   },
   {
    "duration": 18,
    "start_time": "2022-08-02T13:14:37.580Z"
   },
   {
    "duration": 13,
    "start_time": "2022-08-02T13:14:37.599Z"
   },
   {
    "duration": 27,
    "start_time": "2022-08-02T13:14:37.614Z"
   },
   {
    "duration": 13,
    "start_time": "2022-08-02T13:14:37.642Z"
   },
   {
    "duration": 15,
    "start_time": "2022-08-02T13:14:37.657Z"
   },
   {
    "duration": 21,
    "start_time": "2022-08-02T13:14:37.674Z"
   },
   {
    "duration": 9,
    "start_time": "2022-08-02T13:14:37.697Z"
   },
   {
    "duration": 338,
    "start_time": "2022-08-02T13:14:37.709Z"
   },
   {
    "duration": 10,
    "start_time": "2022-08-02T13:14:38.049Z"
   },
   {
    "duration": 23,
    "start_time": "2022-08-02T13:14:38.061Z"
   },
   {
    "duration": 13,
    "start_time": "2022-08-02T13:14:38.086Z"
   },
   {
    "duration": 327,
    "start_time": "2022-08-02T13:14:38.101Z"
   },
   {
    "duration": 254,
    "start_time": "2022-08-02T13:14:38.430Z"
   },
   {
    "duration": 6,
    "start_time": "2022-08-02T13:14:38.686Z"
   },
   {
    "duration": 361,
    "start_time": "2022-08-02T13:14:38.694Z"
   },
   {
    "duration": 17,
    "start_time": "2022-08-02T13:14:39.058Z"
   },
   {
    "duration": 19,
    "start_time": "2022-08-02T13:14:39.077Z"
   },
   {
    "duration": 302,
    "start_time": "2022-08-02T13:14:39.097Z"
   },
   {
    "duration": 9,
    "start_time": "2022-08-02T13:14:39.401Z"
   },
   {
    "duration": 390,
    "start_time": "2022-08-02T13:14:39.413Z"
   },
   {
    "duration": 14,
    "start_time": "2022-08-02T13:16:06.915Z"
   },
   {
    "duration": 11,
    "start_time": "2022-08-02T13:16:19.858Z"
   },
   {
    "duration": 13,
    "start_time": "2022-08-02T13:16:27.631Z"
   },
   {
    "duration": 11,
    "start_time": "2022-08-02T13:16:43.521Z"
   },
   {
    "duration": 11,
    "start_time": "2022-08-02T13:16:52.862Z"
   },
   {
    "duration": 7,
    "start_time": "2022-08-02T13:16:55.127Z"
   },
   {
    "duration": 11,
    "start_time": "2022-08-02T13:17:05.991Z"
   },
   {
    "duration": 131,
    "start_time": "2022-08-02T13:17:06.479Z"
   },
   {
    "duration": 10,
    "start_time": "2022-08-02T13:17:09.175Z"
   },
   {
    "duration": 7,
    "start_time": "2022-08-02T13:17:56.758Z"
   },
   {
    "duration": 22,
    "start_time": "2022-08-02T14:48:31.237Z"
   },
   {
    "duration": 105,
    "start_time": "2022-08-02T14:50:50.336Z"
   },
   {
    "duration": 941,
    "start_time": "2022-08-02T15:02:04.636Z"
   },
   {
    "duration": 12,
    "start_time": "2022-08-02T15:04:17.279Z"
   },
   {
    "duration": 9,
    "start_time": "2022-08-02T15:05:49.177Z"
   },
   {
    "duration": 25,
    "start_time": "2022-08-02T15:05:52.877Z"
   },
   {
    "duration": 235,
    "start_time": "2022-08-02T15:06:17.429Z"
   },
   {
    "duration": 123,
    "start_time": "2022-08-02T15:07:19.758Z"
   },
   {
    "duration": 13,
    "start_time": "2022-08-02T15:07:23.357Z"
   },
   {
    "duration": 15,
    "start_time": "2022-08-02T15:07:31.062Z"
   },
   {
    "duration": 132,
    "start_time": "2022-08-02T15:07:46.278Z"
   },
   {
    "duration": 143,
    "start_time": "2022-08-02T15:08:29.366Z"
   },
   {
    "duration": 151,
    "start_time": "2022-08-02T15:08:54.543Z"
   },
   {
    "duration": 143,
    "start_time": "2022-08-02T15:09:38.381Z"
   },
   {
    "duration": 177,
    "start_time": "2022-08-02T15:09:47.686Z"
   },
   {
    "duration": 6,
    "start_time": "2022-08-02T15:13:29.275Z"
   },
   {
    "duration": 5,
    "start_time": "2022-08-02T15:13:44.807Z"
   },
   {
    "duration": 5,
    "start_time": "2022-08-02T15:14:00.371Z"
   },
   {
    "duration": 5,
    "start_time": "2022-08-02T15:14:05.821Z"
   },
   {
    "duration": 13,
    "start_time": "2022-08-02T15:16:15.308Z"
   },
   {
    "duration": 151,
    "start_time": "2022-08-02T15:18:27.947Z"
   },
   {
    "duration": 159,
    "start_time": "2022-08-02T15:19:22.769Z"
   },
   {
    "duration": 6,
    "start_time": "2022-08-02T15:20:51.711Z"
   },
   {
    "duration": 951,
    "start_time": "2022-08-02T15:22:09.321Z"
   },
   {
    "duration": 167,
    "start_time": "2022-08-02T15:22:25.832Z"
   },
   {
    "duration": 14,
    "start_time": "2022-08-02T15:22:34.622Z"
   },
   {
    "duration": 158,
    "start_time": "2022-08-02T15:22:36.016Z"
   },
   {
    "duration": 162,
    "start_time": "2022-08-02T15:22:59.057Z"
   },
   {
    "duration": 140,
    "start_time": "2022-08-02T15:23:05.128Z"
   },
   {
    "duration": 137,
    "start_time": "2022-08-02T15:23:12.018Z"
   },
   {
    "duration": 224,
    "start_time": "2022-08-02T15:23:17.905Z"
   },
   {
    "duration": 1410,
    "start_time": "2022-08-03T10:15:57.551Z"
   },
   {
    "duration": 188,
    "start_time": "2022-08-03T10:15:58.964Z"
   },
   {
    "duration": 4,
    "start_time": "2022-08-03T10:15:59.154Z"
   },
   {
    "duration": 18,
    "start_time": "2022-08-03T10:15:59.161Z"
   },
   {
    "duration": 65,
    "start_time": "2022-08-03T10:15:59.181Z"
   },
   {
    "duration": 3,
    "start_time": "2022-08-03T10:15:59.248Z"
   },
   {
    "duration": 24,
    "start_time": "2022-08-03T10:15:59.252Z"
   },
   {
    "duration": 30,
    "start_time": "2022-08-03T10:15:59.278Z"
   },
   {
    "duration": 13,
    "start_time": "2022-08-03T10:15:59.311Z"
   },
   {
    "duration": 274,
    "start_time": "2022-08-03T10:15:59.327Z"
   },
   {
    "duration": 12,
    "start_time": "2022-08-03T10:15:59.602Z"
   },
   {
    "duration": 12,
    "start_time": "2022-08-03T10:15:59.615Z"
   },
   {
    "duration": 12,
    "start_time": "2022-08-03T10:15:59.639Z"
   },
   {
    "duration": 15,
    "start_time": "2022-08-03T10:15:59.653Z"
   },
   {
    "duration": 24,
    "start_time": "2022-08-03T10:15:59.669Z"
   },
   {
    "duration": 27,
    "start_time": "2022-08-03T10:15:59.695Z"
   },
   {
    "duration": 37,
    "start_time": "2022-08-03T10:15:59.724Z"
   },
   {
    "duration": 27,
    "start_time": "2022-08-03T10:15:59.763Z"
   },
   {
    "duration": 16,
    "start_time": "2022-08-03T10:15:59.792Z"
   },
   {
    "duration": 288,
    "start_time": "2022-08-03T10:15:59.810Z"
   },
   {
    "duration": 11,
    "start_time": "2022-08-03T10:16:00.099Z"
   },
   {
    "duration": 19,
    "start_time": "2022-08-03T10:16:00.112Z"
   },
   {
    "duration": 13,
    "start_time": "2022-08-03T10:16:00.132Z"
   },
   {
    "duration": 304,
    "start_time": "2022-08-03T10:16:00.147Z"
   },
   {
    "duration": 224,
    "start_time": "2022-08-03T10:16:00.453Z"
   },
   {
    "duration": 6,
    "start_time": "2022-08-03T10:16:00.679Z"
   },
   {
    "duration": 424,
    "start_time": "2022-08-03T10:16:00.686Z"
   },
   {
    "duration": 10,
    "start_time": "2022-08-03T10:16:01.113Z"
   },
   {
    "duration": 33,
    "start_time": "2022-08-03T10:16:01.125Z"
   },
   {
    "duration": 228,
    "start_time": "2022-08-03T10:16:01.160Z"
   },
   {
    "duration": 7,
    "start_time": "2022-08-03T10:16:01.390Z"
   },
   {
    "duration": 333,
    "start_time": "2022-08-03T10:16:01.399Z"
   },
   {
    "duration": 13,
    "start_time": "2022-08-03T10:16:01.734Z"
   },
   {
    "duration": 236,
    "start_time": "2022-08-03T10:16:01.749Z"
   },
   {
    "duration": 5,
    "start_time": "2022-08-03T10:16:01.986Z"
   },
   {
    "duration": 176,
    "start_time": "2022-08-03T10:16:01.992Z"
   },
   {
    "duration": 5,
    "start_time": "2022-08-03T10:16:02.169Z"
   },
   {
    "duration": 298,
    "start_time": "2022-08-03T11:34:00.881Z"
   },
   {
    "duration": 156,
    "start_time": "2022-08-03T11:34:41.106Z"
   },
   {
    "duration": 158,
    "start_time": "2022-08-03T11:35:13.966Z"
   },
   {
    "duration": 151,
    "start_time": "2022-08-03T11:35:32.107Z"
   },
   {
    "duration": 164,
    "start_time": "2022-08-03T11:35:57.554Z"
   },
   {
    "duration": 70,
    "start_time": "2022-08-03T11:37:27.261Z"
   },
   {
    "duration": 15,
    "start_time": "2022-08-03T12:25:04.831Z"
   },
   {
    "duration": 5,
    "start_time": "2022-08-03T12:25:28.478Z"
   },
   {
    "duration": 8,
    "start_time": "2022-08-03T12:25:40.976Z"
   },
   {
    "duration": 12,
    "start_time": "2022-08-03T12:26:06.078Z"
   },
   {
    "duration": 8,
    "start_time": "2022-08-03T12:27:06.375Z"
   },
   {
    "duration": 8,
    "start_time": "2022-08-03T12:27:07.967Z"
   },
   {
    "duration": 8,
    "start_time": "2022-08-03T12:27:32.727Z"
   },
   {
    "duration": 8,
    "start_time": "2022-08-03T12:27:51.915Z"
   },
   {
    "duration": 771,
    "start_time": "2022-08-03T12:31:28.417Z"
   },
   {
    "duration": 994,
    "start_time": "2022-08-03T12:32:22.225Z"
   },
   {
    "duration": 64,
    "start_time": "2022-08-03T12:32:48.990Z"
   },
   {
    "duration": 9,
    "start_time": "2022-08-03T12:33:04.630Z"
   },
   {
    "duration": 8,
    "start_time": "2022-08-03T12:33:12.720Z"
   },
   {
    "duration": 96,
    "start_time": "2022-08-03T12:33:33.886Z"
   },
   {
    "duration": 136,
    "start_time": "2022-08-03T12:50:08.928Z"
   },
   {
    "duration": 97,
    "start_time": "2022-08-03T12:52:19.592Z"
   },
   {
    "duration": 112,
    "start_time": "2022-08-03T12:52:41.672Z"
   },
   {
    "duration": 11,
    "start_time": "2022-08-03T12:52:49.755Z"
   },
   {
    "duration": 12,
    "start_time": "2022-08-03T12:59:46.233Z"
   },
   {
    "duration": 13,
    "start_time": "2022-08-03T13:30:16.788Z"
   },
   {
    "duration": 13,
    "start_time": "2022-08-03T13:30:33.569Z"
   },
   {
    "duration": 13,
    "start_time": "2022-08-03T13:32:03.224Z"
   },
   {
    "duration": 12,
    "start_time": "2022-08-03T13:33:18.424Z"
   },
   {
    "duration": 9,
    "start_time": "2022-08-03T13:34:01.152Z"
   },
   {
    "duration": 10,
    "start_time": "2022-08-03T13:34:02.847Z"
   },
   {
    "duration": 14,
    "start_time": "2022-08-03T13:34:54.641Z"
   },
   {
    "duration": 9,
    "start_time": "2022-08-03T13:35:00.039Z"
   },
   {
    "duration": 21,
    "start_time": "2022-08-03T13:38:15.861Z"
   },
   {
    "duration": 48,
    "start_time": "2022-08-03T13:38:32.678Z"
   },
   {
    "duration": 9,
    "start_time": "2022-08-03T13:38:38.198Z"
   },
   {
    "duration": 56,
    "start_time": "2022-08-03T13:39:27.663Z"
   },
   {
    "duration": 8,
    "start_time": "2022-08-03T13:39:29.826Z"
   },
   {
    "duration": 120,
    "start_time": "2022-08-03T13:39:49.055Z"
   },
   {
    "duration": 10,
    "start_time": "2022-08-03T13:39:53.559Z"
   },
   {
    "duration": 10,
    "start_time": "2022-08-03T14:13:55.312Z"
   },
   {
    "duration": 9,
    "start_time": "2022-08-03T14:16:43.173Z"
   },
   {
    "duration": 8,
    "start_time": "2022-08-03T14:17:20.215Z"
   },
   {
    "duration": 9,
    "start_time": "2022-08-03T14:18:22.037Z"
   },
   {
    "duration": 7,
    "start_time": "2022-08-03T14:18:36.725Z"
   },
   {
    "duration": 8,
    "start_time": "2022-08-03T14:18:46.724Z"
   },
   {
    "duration": 6,
    "start_time": "2022-08-03T14:20:02.733Z"
   },
   {
    "duration": 9,
    "start_time": "2022-08-03T14:20:12.636Z"
   },
   {
    "duration": 9,
    "start_time": "2022-08-03T14:20:51.541Z"
   },
   {
    "duration": 8,
    "start_time": "2022-08-03T14:21:10.572Z"
   },
   {
    "duration": 7,
    "start_time": "2022-08-03T14:21:18.236Z"
   },
   {
    "duration": 7,
    "start_time": "2022-08-03T14:22:39.228Z"
   },
   {
    "duration": 9,
    "start_time": "2022-08-03T14:22:43.092Z"
   },
   {
    "duration": 9,
    "start_time": "2022-08-03T14:29:01.380Z"
   },
   {
    "duration": 4,
    "start_time": "2022-08-03T14:29:13.019Z"
   },
   {
    "duration": 14,
    "start_time": "2022-08-03T14:29:20.422Z"
   },
   {
    "duration": 11,
    "start_time": "2022-08-03T14:29:44.219Z"
   },
   {
    "duration": 7,
    "start_time": "2022-08-03T14:31:06.771Z"
   },
   {
    "duration": 8,
    "start_time": "2022-08-03T14:31:10.283Z"
   },
   {
    "duration": 8,
    "start_time": "2022-08-03T14:32:10.826Z"
   },
   {
    "duration": 8,
    "start_time": "2022-08-03T14:34:00.718Z"
   },
   {
    "duration": 3,
    "start_time": "2022-08-03T14:34:01.665Z"
   },
   {
    "duration": 3,
    "start_time": "2022-08-03T14:34:12.826Z"
   },
   {
    "duration": 11,
    "start_time": "2022-08-03T14:34:56.218Z"
   },
   {
    "duration": 11,
    "start_time": "2022-08-03T14:35:19.490Z"
   },
   {
    "duration": 11,
    "start_time": "2022-08-03T14:35:37.857Z"
   },
   {
    "duration": 8,
    "start_time": "2022-08-03T14:42:33.718Z"
   },
   {
    "duration": 11,
    "start_time": "2022-08-03T14:42:41.453Z"
   },
   {
    "duration": 1045,
    "start_time": "2022-08-03T14:42:57.584Z"
   },
   {
    "duration": 70,
    "start_time": "2022-08-03T14:42:58.631Z"
   },
   {
    "duration": 4,
    "start_time": "2022-08-03T14:42:58.702Z"
   },
   {
    "duration": 4,
    "start_time": "2022-08-03T14:42:58.709Z"
   },
   {
    "duration": 50,
    "start_time": "2022-08-03T14:42:58.715Z"
   },
   {
    "duration": 3,
    "start_time": "2022-08-03T14:42:58.767Z"
   },
   {
    "duration": 11,
    "start_time": "2022-08-03T14:42:58.772Z"
   },
   {
    "duration": 16,
    "start_time": "2022-08-03T14:42:58.785Z"
   },
   {
    "duration": 9,
    "start_time": "2022-08-03T14:42:58.802Z"
   },
   {
    "duration": 333,
    "start_time": "2022-08-03T14:42:58.840Z"
   },
   {
    "duration": 11,
    "start_time": "2022-08-03T14:42:59.174Z"
   },
   {
    "duration": 9,
    "start_time": "2022-08-03T14:42:59.186Z"
   },
   {
    "duration": 8,
    "start_time": "2022-08-03T14:42:59.196Z"
   },
   {
    "duration": 34,
    "start_time": "2022-08-03T14:42:59.205Z"
   },
   {
    "duration": 5,
    "start_time": "2022-08-03T14:42:59.241Z"
   },
   {
    "duration": 15,
    "start_time": "2022-08-03T14:42:59.247Z"
   },
   {
    "duration": 13,
    "start_time": "2022-08-03T14:42:59.264Z"
   },
   {
    "duration": 15,
    "start_time": "2022-08-03T14:42:59.278Z"
   },
   {
    "duration": 10,
    "start_time": "2022-08-03T14:42:59.294Z"
   },
   {
    "duration": 287,
    "start_time": "2022-08-03T14:42:59.306Z"
   },
   {
    "duration": 6,
    "start_time": "2022-08-03T14:42:59.594Z"
   },
   {
    "duration": 17,
    "start_time": "2022-08-03T14:42:59.602Z"
   },
   {
    "duration": 12,
    "start_time": "2022-08-03T14:42:59.621Z"
   },
   {
    "duration": 11,
    "start_time": "2022-08-03T14:42:59.634Z"
   },
   {
    "duration": 9,
    "start_time": "2022-08-03T14:42:59.647Z"
   },
   {
    "duration": 290,
    "start_time": "2022-08-03T14:42:59.658Z"
   },
   {
    "duration": 217,
    "start_time": "2022-08-03T14:42:59.949Z"
   },
   {
    "duration": 6,
    "start_time": "2022-08-03T14:43:00.169Z"
   },
   {
    "duration": 301,
    "start_time": "2022-08-03T14:43:00.176Z"
   },
   {
    "duration": 10,
    "start_time": "2022-08-03T14:43:00.479Z"
   },
   {
    "duration": 21,
    "start_time": "2022-08-03T14:43:00.491Z"
   },
   {
    "duration": 333,
    "start_time": "2022-08-03T14:43:00.514Z"
   },
   {
    "duration": 6,
    "start_time": "2022-08-03T14:43:00.849Z"
   },
   {
    "duration": 498,
    "start_time": "2022-08-03T14:43:00.856Z"
   },
   {
    "duration": 11,
    "start_time": "2022-08-03T14:43:01.356Z"
   },
   {
    "duration": 480,
    "start_time": "2022-08-03T14:43:01.369Z"
   },
   {
    "duration": 5,
    "start_time": "2022-08-03T14:43:01.851Z"
   },
   {
    "duration": 321,
    "start_time": "2022-08-03T14:43:01.857Z"
   },
   {
    "duration": 5,
    "start_time": "2022-08-03T14:43:02.180Z"
   },
   {
    "duration": 261,
    "start_time": "2022-08-03T14:43:02.239Z"
   },
   {
    "duration": 126,
    "start_time": "2022-08-03T14:43:02.501Z"
   },
   {
    "duration": 0,
    "start_time": "2022-08-03T14:43:02.628Z"
   },
   {
    "duration": 0,
    "start_time": "2022-08-03T14:43:02.629Z"
   },
   {
    "duration": 0,
    "start_time": "2022-08-03T14:43:02.630Z"
   },
   {
    "duration": 0,
    "start_time": "2022-08-03T14:43:02.631Z"
   },
   {
    "duration": 0,
    "start_time": "2022-08-03T14:43:02.638Z"
   },
   {
    "duration": 9,
    "start_time": "2022-08-03T14:43:12.729Z"
   },
   {
    "duration": 9,
    "start_time": "2022-08-03T14:43:13.729Z"
   },
   {
    "duration": 4,
    "start_time": "2022-08-03T14:43:15.018Z"
   },
   {
    "duration": 10,
    "start_time": "2022-08-03T14:43:50.889Z"
   },
   {
    "duration": 9,
    "start_time": "2022-08-03T14:44:14.034Z"
   },
   {
    "duration": 12,
    "start_time": "2022-08-03T14:48:53.864Z"
   },
   {
    "duration": 12,
    "start_time": "2022-08-03T14:48:55.456Z"
   },
   {
    "duration": 1363,
    "start_time": "2022-08-03T20:11:35.174Z"
   },
   {
    "duration": 220,
    "start_time": "2022-08-03T20:11:36.539Z"
   },
   {
    "duration": 4,
    "start_time": "2022-08-03T20:11:36.761Z"
   },
   {
    "duration": 24,
    "start_time": "2022-08-03T20:11:36.767Z"
   },
   {
    "duration": 71,
    "start_time": "2022-08-03T20:11:36.793Z"
   },
   {
    "duration": 3,
    "start_time": "2022-08-03T20:11:36.866Z"
   },
   {
    "duration": 12,
    "start_time": "2022-08-03T20:11:36.870Z"
   },
   {
    "duration": 52,
    "start_time": "2022-08-03T20:11:36.885Z"
   },
   {
    "duration": 10,
    "start_time": "2022-08-03T20:11:36.938Z"
   },
   {
    "duration": 276,
    "start_time": "2022-08-03T20:11:36.951Z"
   },
   {
    "duration": 21,
    "start_time": "2022-08-03T20:11:37.230Z"
   },
   {
    "duration": 37,
    "start_time": "2022-08-03T20:11:37.253Z"
   },
   {
    "duration": 58,
    "start_time": "2022-08-03T20:11:37.291Z"
   },
   {
    "duration": 38,
    "start_time": "2022-08-03T20:11:37.351Z"
   },
   {
    "duration": 33,
    "start_time": "2022-08-03T20:11:37.391Z"
   },
   {
    "duration": 36,
    "start_time": "2022-08-03T20:11:37.426Z"
   },
   {
    "duration": 77,
    "start_time": "2022-08-03T20:11:37.465Z"
   },
   {
    "duration": 27,
    "start_time": "2022-08-03T20:11:37.543Z"
   },
   {
    "duration": 11,
    "start_time": "2022-08-03T20:11:37.572Z"
   },
   {
    "duration": 310,
    "start_time": "2022-08-03T20:11:37.585Z"
   },
   {
    "duration": 7,
    "start_time": "2022-08-03T20:11:37.897Z"
   },
   {
    "duration": 16,
    "start_time": "2022-08-03T20:11:37.909Z"
   },
   {
    "duration": 16,
    "start_time": "2022-08-03T20:11:37.927Z"
   },
   {
    "duration": 12,
    "start_time": "2022-08-03T20:11:37.945Z"
   },
   {
    "duration": 12,
    "start_time": "2022-08-03T20:11:37.960Z"
   },
   {
    "duration": 296,
    "start_time": "2022-08-03T20:11:37.974Z"
   },
   {
    "duration": 249,
    "start_time": "2022-08-03T20:11:38.271Z"
   },
   {
    "duration": 5,
    "start_time": "2022-08-03T20:11:38.526Z"
   },
   {
    "duration": 421,
    "start_time": "2022-08-03T20:11:38.533Z"
   },
   {
    "duration": 14,
    "start_time": "2022-08-03T20:11:38.956Z"
   },
   {
    "duration": 16,
    "start_time": "2022-08-03T20:11:38.972Z"
   },
   {
    "duration": 255,
    "start_time": "2022-08-03T20:11:38.990Z"
   },
   {
    "duration": 7,
    "start_time": "2022-08-03T20:11:39.246Z"
   },
   {
    "duration": 288,
    "start_time": "2022-08-03T20:11:39.255Z"
   },
   {
    "duration": 15,
    "start_time": "2022-08-03T20:11:39.546Z"
   },
   {
    "duration": 241,
    "start_time": "2022-08-03T20:11:39.563Z"
   },
   {
    "duration": 7,
    "start_time": "2022-08-03T20:11:39.809Z"
   },
   {
    "duration": 164,
    "start_time": "2022-08-03T20:11:39.817Z"
   },
   {
    "duration": 5,
    "start_time": "2022-08-03T20:11:39.983Z"
   },
   {
    "duration": 182,
    "start_time": "2022-08-03T20:11:39.990Z"
   },
   {
    "duration": 12,
    "start_time": "2022-08-03T20:11:40.174Z"
   },
   {
    "duration": 10,
    "start_time": "2022-08-03T20:11:40.188Z"
   },
   {
    "duration": 126,
    "start_time": "2022-08-03T20:11:40.210Z"
   },
   {
    "duration": 0,
    "start_time": "2022-08-03T20:11:40.338Z"
   },
   {
    "duration": 0,
    "start_time": "2022-08-03T20:11:40.339Z"
   },
   {
    "duration": 0,
    "start_time": "2022-08-03T20:11:40.340Z"
   },
   {
    "duration": 0,
    "start_time": "2022-08-03T20:11:40.342Z"
   },
   {
    "duration": 8,
    "start_time": "2022-08-03T20:15:49.320Z"
   },
   {
    "duration": 8,
    "start_time": "2022-08-03T20:16:24.926Z"
   },
   {
    "duration": 8,
    "start_time": "2022-08-03T20:16:28.256Z"
   },
   {
    "duration": 6,
    "start_time": "2022-08-03T20:16:28.840Z"
   },
   {
    "duration": 13,
    "start_time": "2022-08-03T20:16:29.324Z"
   },
   {
    "duration": 4,
    "start_time": "2022-08-03T20:16:29.727Z"
   },
   {
    "duration": 11,
    "start_time": "2022-08-03T20:16:31.235Z"
   },
   {
    "duration": 12,
    "start_time": "2022-08-03T20:16:34.245Z"
   },
   {
    "duration": 12,
    "start_time": "2022-08-03T20:20:44.525Z"
   },
   {
    "duration": 10,
    "start_time": "2022-08-03T20:22:25.819Z"
   },
   {
    "duration": 9,
    "start_time": "2022-08-03T20:24:44.434Z"
   },
   {
    "duration": 14,
    "start_time": "2022-08-03T20:24:48.185Z"
   },
   {
    "duration": 6,
    "start_time": "2022-08-03T20:24:52.223Z"
   },
   {
    "duration": 11,
    "start_time": "2022-08-03T20:26:15.937Z"
   },
   {
    "duration": 13,
    "start_time": "2022-08-03T20:26:20.133Z"
   },
   {
    "duration": 14,
    "start_time": "2022-08-03T20:31:21.840Z"
   },
   {
    "duration": 14,
    "start_time": "2022-08-03T20:31:41.969Z"
   },
   {
    "duration": 13,
    "start_time": "2022-08-03T20:32:34.746Z"
   },
   {
    "duration": 17,
    "start_time": "2022-08-03T20:33:50.425Z"
   },
   {
    "duration": 9,
    "start_time": "2022-08-03T20:33:55.132Z"
   },
   {
    "duration": 33,
    "start_time": "2022-08-03T20:34:13.025Z"
   },
   {
    "duration": 23,
    "start_time": "2022-08-03T20:40:11.938Z"
   },
   {
    "duration": 10,
    "start_time": "2022-08-03T20:42:21.246Z"
   },
   {
    "duration": 60,
    "start_time": "2022-08-03T20:46:46.197Z"
   },
   {
    "duration": 101,
    "start_time": "2022-08-03T20:47:06.376Z"
   },
   {
    "duration": 11,
    "start_time": "2022-08-03T20:48:33.194Z"
   },
   {
    "duration": 9,
    "start_time": "2022-08-03T20:50:33.289Z"
   },
   {
    "duration": 12,
    "start_time": "2022-08-03T20:50:40.690Z"
   },
   {
    "duration": 50,
    "start_time": "2022-08-03T20:52:42.349Z"
   },
   {
    "duration": 11,
    "start_time": "2022-08-03T20:52:52.239Z"
   },
   {
    "duration": 14,
    "start_time": "2022-08-03T20:52:58.130Z"
   },
   {
    "duration": 22,
    "start_time": "2022-08-03T20:53:11.442Z"
   },
   {
    "duration": 11,
    "start_time": "2022-08-03T20:53:11.861Z"
   },
   {
    "duration": 10,
    "start_time": "2022-08-03T20:53:14.555Z"
   },
   {
    "duration": 23,
    "start_time": "2022-08-03T20:57:01.687Z"
   },
   {
    "duration": 13,
    "start_time": "2022-08-03T20:57:05.076Z"
   },
   {
    "duration": 9,
    "start_time": "2022-08-03T20:58:19.736Z"
   },
   {
    "duration": 32,
    "start_time": "2022-08-03T21:06:10.234Z"
   },
   {
    "duration": 24,
    "start_time": "2022-08-03T21:06:17.464Z"
   },
   {
    "duration": 4,
    "start_time": "2022-08-03T21:06:28.130Z"
   },
   {
    "duration": 54,
    "start_time": "2022-08-03T21:07:02.528Z"
   },
   {
    "duration": 35,
    "start_time": "2022-08-03T21:07:07.395Z"
   },
   {
    "duration": 9,
    "start_time": "2022-08-03T21:07:11.430Z"
   },
   {
    "duration": 27,
    "start_time": "2022-08-03T21:12:16.154Z"
   },
   {
    "duration": 6,
    "start_time": "2022-08-03T21:12:45.122Z"
   },
   {
    "duration": 36,
    "start_time": "2022-08-03T21:12:47.193Z"
   },
   {
    "duration": 35,
    "start_time": "2022-08-03T21:13:34.067Z"
   },
   {
    "duration": 11,
    "start_time": "2022-08-03T21:15:47.932Z"
   },
   {
    "duration": 1070,
    "start_time": "2022-08-03T21:16:29.066Z"
   },
   {
    "duration": 77,
    "start_time": "2022-08-03T21:16:30.138Z"
   },
   {
    "duration": 3,
    "start_time": "2022-08-03T21:16:30.217Z"
   },
   {
    "duration": 16,
    "start_time": "2022-08-03T21:16:30.222Z"
   },
   {
    "duration": 69,
    "start_time": "2022-08-03T21:16:30.239Z"
   },
   {
    "duration": 3,
    "start_time": "2022-08-03T21:16:30.309Z"
   },
   {
    "duration": 16,
    "start_time": "2022-08-03T21:16:30.313Z"
   },
   {
    "duration": 26,
    "start_time": "2022-08-03T21:16:30.330Z"
   },
   {
    "duration": 33,
    "start_time": "2022-08-03T21:16:30.358Z"
   },
   {
    "duration": 256,
    "start_time": "2022-08-03T21:16:30.393Z"
   },
   {
    "duration": 11,
    "start_time": "2022-08-03T21:16:30.650Z"
   },
   {
    "duration": 25,
    "start_time": "2022-08-03T21:16:30.663Z"
   },
   {
    "duration": 12,
    "start_time": "2022-08-03T21:16:30.690Z"
   },
   {
    "duration": 24,
    "start_time": "2022-08-03T21:16:30.703Z"
   },
   {
    "duration": 10,
    "start_time": "2022-08-03T21:16:30.729Z"
   },
   {
    "duration": 26,
    "start_time": "2022-08-03T21:16:30.741Z"
   },
   {
    "duration": 13,
    "start_time": "2022-08-03T21:16:30.769Z"
   },
   {
    "duration": 19,
    "start_time": "2022-08-03T21:16:30.784Z"
   },
   {
    "duration": 23,
    "start_time": "2022-08-03T21:16:30.805Z"
   },
   {
    "duration": 275,
    "start_time": "2022-08-03T21:16:30.830Z"
   },
   {
    "duration": 6,
    "start_time": "2022-08-03T21:16:31.108Z"
   },
   {
    "duration": 24,
    "start_time": "2022-08-03T21:16:31.115Z"
   },
   {
    "duration": 36,
    "start_time": "2022-08-03T21:16:31.140Z"
   },
   {
    "duration": 64,
    "start_time": "2022-08-03T21:16:31.178Z"
   },
   {
    "duration": 287,
    "start_time": "2022-08-03T21:16:31.244Z"
   },
   {
    "duration": 221,
    "start_time": "2022-08-03T21:16:31.532Z"
   },
   {
    "duration": 7,
    "start_time": "2022-08-03T21:16:31.755Z"
   },
   {
    "duration": 316,
    "start_time": "2022-08-03T21:16:31.766Z"
   },
   {
    "duration": 11,
    "start_time": "2022-08-03T21:16:32.083Z"
   },
   {
    "duration": 8,
    "start_time": "2022-08-03T21:16:32.109Z"
   },
   {
    "duration": 223,
    "start_time": "2022-08-03T21:16:32.119Z"
   },
   {
    "duration": 6,
    "start_time": "2022-08-03T21:16:32.344Z"
   },
   {
    "duration": 302,
    "start_time": "2022-08-03T21:16:32.353Z"
   },
   {
    "duration": 13,
    "start_time": "2022-08-03T21:16:32.657Z"
   },
   {
    "duration": 221,
    "start_time": "2022-08-03T21:16:32.672Z"
   },
   {
    "duration": 5,
    "start_time": "2022-08-03T21:16:32.895Z"
   },
   {
    "duration": 156,
    "start_time": "2022-08-03T21:16:32.902Z"
   },
   {
    "duration": 5,
    "start_time": "2022-08-03T21:16:33.060Z"
   },
   {
    "duration": 160,
    "start_time": "2022-08-03T21:16:33.066Z"
   },
   {
    "duration": 9,
    "start_time": "2022-08-03T21:16:33.228Z"
   },
   {
    "duration": 34,
    "start_time": "2022-08-03T21:16:33.238Z"
   },
   {
    "duration": 5,
    "start_time": "2022-08-03T21:16:33.274Z"
   },
   {
    "duration": 13,
    "start_time": "2022-08-03T21:16:33.280Z"
   },
   {
    "duration": 11,
    "start_time": "2022-08-03T21:16:33.309Z"
   },
   {
    "duration": 26,
    "start_time": "2022-08-03T21:16:33.321Z"
   },
   {
    "duration": 9,
    "start_time": "2022-08-03T21:16:33.349Z"
   },
   {
    "duration": 5,
    "start_time": "2022-08-03T21:19:32.210Z"
   },
   {
    "duration": 10,
    "start_time": "2022-08-03T21:19:38.919Z"
   },
   {
    "duration": 26,
    "start_time": "2022-08-03T21:19:41.934Z"
   },
   {
    "duration": 11,
    "start_time": "2022-08-03T21:19:42.461Z"
   },
   {
    "duration": 25,
    "start_time": "2022-08-03T21:20:18.491Z"
   },
   {
    "duration": 10,
    "start_time": "2022-08-03T21:20:18.979Z"
   },
   {
    "duration": 1169,
    "start_time": "2022-08-04T07:34:42.066Z"
   },
   {
    "duration": 75,
    "start_time": "2022-08-04T07:34:43.238Z"
   },
   {
    "duration": 4,
    "start_time": "2022-08-04T07:34:43.314Z"
   },
   {
    "duration": 8,
    "start_time": "2022-08-04T07:34:43.320Z"
   },
   {
    "duration": 51,
    "start_time": "2022-08-04T07:34:43.330Z"
   },
   {
    "duration": 2,
    "start_time": "2022-08-04T07:34:43.383Z"
   },
   {
    "duration": 9,
    "start_time": "2022-08-04T07:34:43.387Z"
   },
   {
    "duration": 46,
    "start_time": "2022-08-04T07:34:43.398Z"
   },
   {
    "duration": 9,
    "start_time": "2022-08-04T07:34:43.446Z"
   },
   {
    "duration": 283,
    "start_time": "2022-08-04T07:34:43.457Z"
   },
   {
    "duration": 13,
    "start_time": "2022-08-04T07:34:43.742Z"
   },
   {
    "duration": 10,
    "start_time": "2022-08-04T07:34:43.757Z"
   },
   {
    "duration": 8,
    "start_time": "2022-08-04T07:34:43.769Z"
   },
   {
    "duration": 16,
    "start_time": "2022-08-04T07:34:43.779Z"
   },
   {
    "duration": 6,
    "start_time": "2022-08-04T07:34:43.797Z"
   },
   {
    "duration": 13,
    "start_time": "2022-08-04T07:34:43.838Z"
   },
   {
    "duration": 10,
    "start_time": "2022-08-04T07:34:43.853Z"
   },
   {
    "duration": 28,
    "start_time": "2022-08-04T07:34:43.865Z"
   },
   {
    "duration": 12,
    "start_time": "2022-08-04T07:34:43.895Z"
   },
   {
    "duration": 283,
    "start_time": "2022-08-04T07:34:43.909Z"
   },
   {
    "duration": 7,
    "start_time": "2022-08-04T07:34:44.194Z"
   },
   {
    "duration": 12,
    "start_time": "2022-08-04T07:34:44.202Z"
   },
   {
    "duration": 23,
    "start_time": "2022-08-04T07:34:44.216Z"
   },
   {
    "duration": 14,
    "start_time": "2022-08-04T07:34:44.241Z"
   },
   {
    "duration": 321,
    "start_time": "2022-08-04T07:34:44.257Z"
   },
   {
    "duration": 235,
    "start_time": "2022-08-04T07:34:44.581Z"
   },
   {
    "duration": 6,
    "start_time": "2022-08-04T07:34:44.818Z"
   },
   {
    "duration": 342,
    "start_time": "2022-08-04T07:34:44.838Z"
   },
   {
    "duration": 12,
    "start_time": "2022-08-04T07:34:45.182Z"
   },
   {
    "duration": 16,
    "start_time": "2022-08-04T07:34:45.196Z"
   },
   {
    "duration": 248,
    "start_time": "2022-08-04T07:34:45.214Z"
   },
   {
    "duration": 7,
    "start_time": "2022-08-04T07:34:45.464Z"
   },
   {
    "duration": 323,
    "start_time": "2022-08-04T07:34:45.473Z"
   },
   {
    "duration": 13,
    "start_time": "2022-08-04T07:34:45.798Z"
   },
   {
    "duration": 229,
    "start_time": "2022-08-04T07:34:45.812Z"
   },
   {
    "duration": 6,
    "start_time": "2022-08-04T07:34:46.043Z"
   },
   {
    "duration": 184,
    "start_time": "2022-08-04T07:34:46.050Z"
   },
   {
    "duration": 5,
    "start_time": "2022-08-04T07:34:46.238Z"
   },
   {
    "duration": 167,
    "start_time": "2022-08-04T07:34:46.244Z"
   },
   {
    "duration": 10,
    "start_time": "2022-08-04T07:34:46.413Z"
   },
   {
    "duration": 32,
    "start_time": "2022-08-04T07:34:46.437Z"
   },
   {
    "duration": 6,
    "start_time": "2022-08-04T07:34:46.471Z"
   },
   {
    "duration": 19,
    "start_time": "2022-08-04T07:34:46.478Z"
   },
   {
    "duration": 14,
    "start_time": "2022-08-04T07:34:46.499Z"
   },
   {
    "duration": 48,
    "start_time": "2022-08-04T07:34:46.514Z"
   },
   {
    "duration": 9,
    "start_time": "2022-08-04T07:34:46.564Z"
   },
   {
    "duration": 9,
    "start_time": "2022-08-04T08:42:47.267Z"
   },
   {
    "duration": 15,
    "start_time": "2022-08-04T08:42:51.689Z"
   },
   {
    "duration": 11,
    "start_time": "2022-08-04T08:43:36.890Z"
   },
   {
    "duration": 111,
    "start_time": "2022-08-04T08:59:27.334Z"
   },
   {
    "duration": 12,
    "start_time": "2022-08-04T08:59:33.220Z"
   },
   {
    "duration": 12,
    "start_time": "2022-08-04T08:59:37.055Z"
   },
   {
    "duration": 5,
    "start_time": "2022-08-04T09:06:48.206Z"
   },
   {
    "duration": 4,
    "start_time": "2022-08-04T09:06:52.246Z"
   },
   {
    "duration": 11,
    "start_time": "2022-08-04T09:09:19.767Z"
   },
   {
    "duration": 7,
    "start_time": "2022-08-04T09:09:26.915Z"
   },
   {
    "duration": 5,
    "start_time": "2022-08-04T09:09:51.039Z"
   },
   {
    "duration": 14,
    "start_time": "2022-08-04T09:10:46.342Z"
   },
   {
    "duration": 10,
    "start_time": "2022-08-04T09:11:06.317Z"
   },
   {
    "duration": 14,
    "start_time": "2022-08-04T09:12:01.646Z"
   },
   {
    "duration": 14,
    "start_time": "2022-08-04T09:15:41.734Z"
   },
   {
    "duration": 7,
    "start_time": "2022-08-04T09:15:49.105Z"
   },
   {
    "duration": 4,
    "start_time": "2022-08-04T09:17:53.733Z"
   },
   {
    "duration": 5,
    "start_time": "2022-08-04T09:18:06.437Z"
   },
   {
    "duration": 13,
    "start_time": "2022-08-04T09:20:02.628Z"
   },
   {
    "duration": 7,
    "start_time": "2022-08-04T09:20:07.852Z"
   },
   {
    "duration": 6,
    "start_time": "2022-08-04T09:20:08.531Z"
   },
   {
    "duration": 5,
    "start_time": "2022-08-04T09:21:54.027Z"
   },
   {
    "duration": 7,
    "start_time": "2022-08-04T09:22:44.483Z"
   },
   {
    "duration": 6,
    "start_time": "2022-08-04T09:22:50.859Z"
   },
   {
    "duration": 12,
    "start_time": "2022-08-04T09:26:02.163Z"
   },
   {
    "duration": 3,
    "start_time": "2022-08-04T09:26:23.042Z"
   },
   {
    "duration": 11,
    "start_time": "2022-08-04T09:26:28.898Z"
   },
   {
    "duration": 23,
    "start_time": "2022-08-04T09:26:39.226Z"
   },
   {
    "duration": 5,
    "start_time": "2022-08-04T09:32:41.768Z"
   },
   {
    "duration": 6,
    "start_time": "2022-08-04T09:32:50.984Z"
   },
   {
    "duration": 25,
    "start_time": "2022-08-04T09:33:58.301Z"
   },
   {
    "duration": 36,
    "start_time": "2022-08-04T09:34:01.698Z"
   },
   {
    "duration": 11,
    "start_time": "2022-08-04T09:42:37.906Z"
   },
   {
    "duration": 16,
    "start_time": "2022-08-04T09:43:23.879Z"
   },
   {
    "duration": 21,
    "start_time": "2022-08-04T09:43:38.890Z"
   },
   {
    "duration": 47,
    "start_time": "2022-08-04T09:50:42.864Z"
   },
   {
    "duration": 9,
    "start_time": "2022-08-04T12:17:19.822Z"
   },
   {
    "duration": 314,
    "start_time": "2022-08-04T14:36:52.716Z"
   },
   {
    "duration": 1294,
    "start_time": "2022-08-05T07:48:43.468Z"
   },
   {
    "duration": 203,
    "start_time": "2022-08-05T07:48:44.765Z"
   },
   {
    "duration": 3,
    "start_time": "2022-08-05T07:48:44.970Z"
   },
   {
    "duration": 15,
    "start_time": "2022-08-05T07:48:44.975Z"
   },
   {
    "duration": 56,
    "start_time": "2022-08-05T07:48:44.991Z"
   },
   {
    "duration": 3,
    "start_time": "2022-08-05T07:48:45.049Z"
   },
   {
    "duration": 9,
    "start_time": "2022-08-05T07:48:45.053Z"
   },
   {
    "duration": 16,
    "start_time": "2022-08-05T07:48:45.064Z"
   },
   {
    "duration": 8,
    "start_time": "2022-08-05T07:48:45.082Z"
   },
   {
    "duration": 280,
    "start_time": "2022-08-05T07:48:45.092Z"
   },
   {
    "duration": 16,
    "start_time": "2022-08-05T07:48:45.375Z"
   },
   {
    "duration": 12,
    "start_time": "2022-08-05T07:48:45.393Z"
   },
   {
    "duration": 33,
    "start_time": "2022-08-05T07:48:45.407Z"
   },
   {
    "duration": 22,
    "start_time": "2022-08-05T07:48:45.442Z"
   },
   {
    "duration": 6,
    "start_time": "2022-08-05T07:48:45.466Z"
   },
   {
    "duration": 27,
    "start_time": "2022-08-05T07:48:45.474Z"
   },
   {
    "duration": 38,
    "start_time": "2022-08-05T07:48:45.503Z"
   },
   {
    "duration": 16,
    "start_time": "2022-08-05T07:48:45.544Z"
   },
   {
    "duration": 287,
    "start_time": "2022-08-05T07:48:45.562Z"
   },
   {
    "duration": 8,
    "start_time": "2022-08-05T07:48:45.851Z"
   },
   {
    "duration": 20,
    "start_time": "2022-08-05T07:48:45.861Z"
   },
   {
    "duration": 295,
    "start_time": "2022-08-05T07:48:45.882Z"
   },
   {
    "duration": 210,
    "start_time": "2022-08-05T07:48:46.178Z"
   },
   {
    "duration": 6,
    "start_time": "2022-08-05T07:48:46.389Z"
   },
   {
    "duration": 386,
    "start_time": "2022-08-05T07:48:46.396Z"
   },
   {
    "duration": 10,
    "start_time": "2022-08-05T07:48:46.784Z"
   },
   {
    "duration": 15,
    "start_time": "2022-08-05T07:48:46.796Z"
   },
   {
    "duration": 220,
    "start_time": "2022-08-05T07:48:46.815Z"
   },
   {
    "duration": 6,
    "start_time": "2022-08-05T07:48:47.036Z"
   },
   {
    "duration": 318,
    "start_time": "2022-08-05T07:48:47.044Z"
   },
   {
    "duration": 10,
    "start_time": "2022-08-05T07:48:47.364Z"
   },
   {
    "duration": 224,
    "start_time": "2022-08-05T07:48:47.375Z"
   },
   {
    "duration": 4,
    "start_time": "2022-08-05T07:48:47.601Z"
   },
   {
    "duration": 160,
    "start_time": "2022-08-05T07:48:47.607Z"
   },
   {
    "duration": 4,
    "start_time": "2022-08-05T07:48:47.769Z"
   },
   {
    "duration": 153,
    "start_time": "2022-08-05T07:48:47.774Z"
   },
   {
    "duration": 15,
    "start_time": "2022-08-05T07:48:47.928Z"
   },
   {
    "duration": 30,
    "start_time": "2022-08-05T07:48:47.944Z"
   },
   {
    "duration": 5,
    "start_time": "2022-08-05T07:48:47.975Z"
   },
   {
    "duration": 26,
    "start_time": "2022-08-05T07:48:47.981Z"
   },
   {
    "duration": 30,
    "start_time": "2022-08-05T07:48:48.009Z"
   },
   {
    "duration": 13,
    "start_time": "2022-08-05T07:48:48.041Z"
   },
   {
    "duration": 6,
    "start_time": "2022-08-05T07:48:48.055Z"
   },
   {
    "duration": 7,
    "start_time": "2022-08-05T07:48:48.063Z"
   },
   {
    "duration": 24,
    "start_time": "2022-08-05T07:48:48.072Z"
   },
   {
    "duration": 4,
    "start_time": "2022-08-05T07:48:48.098Z"
   },
   {
    "duration": 35,
    "start_time": "2022-08-05T07:48:48.103Z"
   },
   {
    "duration": 331,
    "start_time": "2022-08-05T08:06:19.750Z"
   },
   {
    "duration": 268,
    "start_time": "2022-08-05T08:06:33.289Z"
   },
   {
    "duration": 55,
    "start_time": "2022-08-05T08:10:50.527Z"
   },
   {
    "duration": 59,
    "start_time": "2022-08-05T08:55:04.428Z"
   },
   {
    "duration": 52,
    "start_time": "2022-08-05T10:15:22.225Z"
   },
   {
    "duration": 23,
    "start_time": "2022-08-05T10:15:33.376Z"
   },
   {
    "duration": 23,
    "start_time": "2022-08-05T10:15:42.048Z"
   },
   {
    "duration": 22,
    "start_time": "2022-08-05T10:15:48.120Z"
   },
   {
    "duration": 6,
    "start_time": "2022-08-05T10:16:15.136Z"
   },
   {
    "duration": 25,
    "start_time": "2022-08-05T10:16:40.256Z"
   },
   {
    "duration": 31,
    "start_time": "2022-08-05T10:16:45.545Z"
   },
   {
    "duration": 107,
    "start_time": "2022-08-05T11:21:30.534Z"
   },
   {
    "duration": 14,
    "start_time": "2022-08-05T11:22:02.290Z"
   },
   {
    "duration": 7,
    "start_time": "2022-08-05T11:56:20.002Z"
   },
   {
    "duration": 6,
    "start_time": "2022-08-05T11:56:25.262Z"
   },
   {
    "duration": 9,
    "start_time": "2022-08-05T11:56:34.326Z"
   },
   {
    "duration": 8,
    "start_time": "2022-08-05T12:01:58.633Z"
   },
   {
    "duration": 5,
    "start_time": "2022-08-05T12:02:04.304Z"
   },
   {
    "duration": 10,
    "start_time": "2022-08-05T12:02:10.496Z"
   },
   {
    "duration": 5,
    "start_time": "2022-08-05T12:02:11.473Z"
   },
   {
    "duration": 4,
    "start_time": "2022-08-05T12:02:21.809Z"
   },
   {
    "duration": 9,
    "start_time": "2022-08-05T12:03:09.306Z"
   },
   {
    "duration": 4,
    "start_time": "2022-08-05T12:03:13.012Z"
   },
   {
    "duration": 10,
    "start_time": "2022-08-05T12:03:45.921Z"
   },
   {
    "duration": 4,
    "start_time": "2022-08-05T12:03:46.978Z"
   },
   {
    "duration": 974,
    "start_time": "2022-08-05T12:23:19.227Z"
   },
   {
    "duration": 6,
    "start_time": "2022-08-05T12:23:30.814Z"
   },
   {
    "duration": 5,
    "start_time": "2022-08-05T12:23:40.816Z"
   },
   {
    "duration": 5,
    "start_time": "2022-08-05T12:23:55.523Z"
   },
   {
    "duration": 16,
    "start_time": "2022-08-05T12:24:15.491Z"
   },
   {
    "duration": 11,
    "start_time": "2022-08-05T12:24:29.091Z"
   },
   {
    "duration": 7,
    "start_time": "2022-08-05T12:25:11.614Z"
   },
   {
    "duration": 29,
    "start_time": "2022-08-05T12:31:51.917Z"
   },
   {
    "duration": 79,
    "start_time": "2022-08-05T12:41:14.007Z"
   },
   {
    "duration": 15,
    "start_time": "2022-08-05T12:41:21.463Z"
   },
   {
    "duration": 16,
    "start_time": "2022-08-05T12:45:00.421Z"
   },
   {
    "duration": 64,
    "start_time": "2022-08-05T12:47:49.869Z"
   },
   {
    "duration": 6,
    "start_time": "2022-08-05T12:49:12.206Z"
   },
   {
    "duration": 6,
    "start_time": "2022-08-05T12:49:22.842Z"
   },
   {
    "duration": 7,
    "start_time": "2022-08-05T12:49:42.933Z"
   },
   {
    "duration": 7,
    "start_time": "2022-08-05T12:50:57.820Z"
   },
   {
    "duration": 12,
    "start_time": "2022-08-05T12:50:59.061Z"
   },
   {
    "duration": 19,
    "start_time": "2022-08-05T12:53:51.671Z"
   },
   {
    "duration": 4,
    "start_time": "2022-08-05T12:54:02.469Z"
   },
   {
    "duration": 1122,
    "start_time": "2022-08-05T12:54:09.439Z"
   },
   {
    "duration": 76,
    "start_time": "2022-08-05T12:54:10.564Z"
   },
   {
    "duration": 4,
    "start_time": "2022-08-05T12:54:10.641Z"
   },
   {
    "duration": 5,
    "start_time": "2022-08-05T12:54:10.648Z"
   },
   {
    "duration": 56,
    "start_time": "2022-08-05T12:54:10.654Z"
   },
   {
    "duration": 3,
    "start_time": "2022-08-05T12:54:10.738Z"
   },
   {
    "duration": 9,
    "start_time": "2022-08-05T12:54:10.743Z"
   },
   {
    "duration": 18,
    "start_time": "2022-08-05T12:54:10.754Z"
   },
   {
    "duration": 8,
    "start_time": "2022-08-05T12:54:10.773Z"
   },
   {
    "duration": 277,
    "start_time": "2022-08-05T12:54:10.784Z"
   },
   {
    "duration": 12,
    "start_time": "2022-08-05T12:54:11.063Z"
   },
   {
    "duration": 12,
    "start_time": "2022-08-05T12:54:11.076Z"
   },
   {
    "duration": 10,
    "start_time": "2022-08-05T12:54:11.090Z"
   },
   {
    "duration": 39,
    "start_time": "2022-08-05T12:54:11.101Z"
   },
   {
    "duration": 6,
    "start_time": "2022-08-05T12:54:11.142Z"
   },
   {
    "duration": 7,
    "start_time": "2022-08-05T12:54:11.149Z"
   },
   {
    "duration": 13,
    "start_time": "2022-08-05T12:54:11.157Z"
   },
   {
    "duration": 13,
    "start_time": "2022-08-05T12:54:11.172Z"
   },
   {
    "duration": 323,
    "start_time": "2022-08-05T12:54:11.187Z"
   },
   {
    "duration": 10,
    "start_time": "2022-08-05T12:54:11.512Z"
   },
   {
    "duration": 34,
    "start_time": "2022-08-05T12:54:11.533Z"
   },
   {
    "duration": 304,
    "start_time": "2022-08-05T12:54:11.569Z"
   },
   {
    "duration": 223,
    "start_time": "2022-08-05T12:54:11.875Z"
   },
   {
    "duration": 6,
    "start_time": "2022-08-05T12:54:12.099Z"
   },
   {
    "duration": 341,
    "start_time": "2022-08-05T12:54:12.107Z"
   },
   {
    "duration": 16,
    "start_time": "2022-08-05T12:54:12.451Z"
   },
   {
    "duration": 16,
    "start_time": "2022-08-05T12:54:12.468Z"
   },
   {
    "duration": 253,
    "start_time": "2022-08-05T12:54:12.490Z"
   },
   {
    "duration": 6,
    "start_time": "2022-08-05T12:54:12.745Z"
   },
   {
    "duration": 334,
    "start_time": "2022-08-05T12:54:12.752Z"
   },
   {
    "duration": 13,
    "start_time": "2022-08-05T12:54:13.088Z"
   },
   {
    "duration": 291,
    "start_time": "2022-08-05T12:54:13.103Z"
   },
   {
    "duration": 7,
    "start_time": "2022-08-05T12:54:13.396Z"
   },
   {
    "duration": 190,
    "start_time": "2022-08-05T12:54:13.405Z"
   },
   {
    "duration": 180,
    "start_time": "2022-08-05T12:54:13.598Z"
   },
   {
    "duration": 5,
    "start_time": "2022-08-05T12:54:13.780Z"
   },
   {
    "duration": 20,
    "start_time": "2022-08-05T12:54:13.786Z"
   },
   {
    "duration": 7,
    "start_time": "2022-08-05T12:54:13.808Z"
   },
   {
    "duration": 22,
    "start_time": "2022-08-05T12:54:13.817Z"
   },
   {
    "duration": 29,
    "start_time": "2022-08-05T12:54:13.841Z"
   },
   {
    "duration": 14,
    "start_time": "2022-08-05T12:54:13.872Z"
   },
   {
    "duration": 12,
    "start_time": "2022-08-05T12:54:13.887Z"
   },
   {
    "duration": 42,
    "start_time": "2022-08-05T12:54:13.901Z"
   },
   {
    "duration": 10,
    "start_time": "2022-08-05T12:54:13.945Z"
   },
   {
    "duration": 47,
    "start_time": "2022-08-05T12:54:13.957Z"
   },
   {
    "duration": 8,
    "start_time": "2022-08-05T12:54:14.006Z"
   },
   {
    "duration": 4,
    "start_time": "2022-08-05T13:23:47.589Z"
   },
   {
    "duration": 123,
    "start_time": "2022-08-05T13:24:50.609Z"
   },
   {
    "duration": 296,
    "start_time": "2022-08-05T13:28:50.434Z"
   },
   {
    "duration": 5,
    "start_time": "2022-08-05T13:30:38.738Z"
   },
   {
    "duration": 338,
    "start_time": "2022-08-05T13:30:46.617Z"
   },
   {
    "duration": 4,
    "start_time": "2022-08-05T13:31:07.266Z"
   },
   {
    "duration": 274,
    "start_time": "2022-08-05T13:31:07.770Z"
   },
   {
    "duration": 239,
    "start_time": "2022-08-05T13:32:10.364Z"
   },
   {
    "duration": 1142,
    "start_time": "2022-08-05T13:32:19.475Z"
   },
   {
    "duration": 76,
    "start_time": "2022-08-05T13:32:20.619Z"
   },
   {
    "duration": 4,
    "start_time": "2022-08-05T13:32:20.696Z"
   },
   {
    "duration": 11,
    "start_time": "2022-08-05T13:32:20.703Z"
   },
   {
    "duration": 51,
    "start_time": "2022-08-05T13:32:20.716Z"
   },
   {
    "duration": 3,
    "start_time": "2022-08-05T13:32:20.769Z"
   },
   {
    "duration": 9,
    "start_time": "2022-08-05T13:32:20.774Z"
   },
   {
    "duration": 18,
    "start_time": "2022-08-05T13:32:20.785Z"
   },
   {
    "duration": 34,
    "start_time": "2022-08-05T13:32:20.805Z"
   },
   {
    "duration": 266,
    "start_time": "2022-08-05T13:32:20.843Z"
   },
   {
    "duration": 13,
    "start_time": "2022-08-05T13:32:21.111Z"
   },
   {
    "duration": 9,
    "start_time": "2022-08-05T13:32:21.138Z"
   },
   {
    "duration": 22,
    "start_time": "2022-08-05T13:32:21.150Z"
   },
   {
    "duration": 17,
    "start_time": "2022-08-05T13:32:21.175Z"
   },
   {
    "duration": 5,
    "start_time": "2022-08-05T13:32:21.193Z"
   },
   {
    "duration": 13,
    "start_time": "2022-08-05T13:32:21.200Z"
   },
   {
    "duration": 28,
    "start_time": "2022-08-05T13:32:21.215Z"
   },
   {
    "duration": 35,
    "start_time": "2022-08-05T13:32:21.246Z"
   },
   {
    "duration": 274,
    "start_time": "2022-08-05T13:32:21.283Z"
   },
   {
    "duration": 9,
    "start_time": "2022-08-05T13:32:21.559Z"
   },
   {
    "duration": 20,
    "start_time": "2022-08-05T13:32:21.569Z"
   },
   {
    "duration": 290,
    "start_time": "2022-08-05T13:32:21.590Z"
   },
   {
    "duration": 214,
    "start_time": "2022-08-05T13:32:21.882Z"
   },
   {
    "duration": 5,
    "start_time": "2022-08-05T13:32:22.098Z"
   },
   {
    "duration": 336,
    "start_time": "2022-08-05T13:32:22.105Z"
   },
   {
    "duration": 15,
    "start_time": "2022-08-05T13:32:22.443Z"
   },
   {
    "duration": 15,
    "start_time": "2022-08-05T13:32:22.460Z"
   },
   {
    "duration": 232,
    "start_time": "2022-08-05T13:32:22.479Z"
   },
   {
    "duration": 6,
    "start_time": "2022-08-05T13:32:22.714Z"
   },
   {
    "duration": 323,
    "start_time": "2022-08-05T13:32:22.722Z"
   },
   {
    "duration": 12,
    "start_time": "2022-08-05T13:32:23.046Z"
   },
   {
    "duration": 251,
    "start_time": "2022-08-05T13:32:23.059Z"
   },
   {
    "duration": 4,
    "start_time": "2022-08-05T13:32:23.313Z"
   },
   {
    "duration": 166,
    "start_time": "2022-08-05T13:32:23.319Z"
   },
   {
    "duration": 162,
    "start_time": "2022-08-05T13:32:23.487Z"
   },
   {
    "duration": 5,
    "start_time": "2022-08-05T13:32:23.651Z"
   },
   {
    "duration": 21,
    "start_time": "2022-08-05T13:32:23.658Z"
   },
   {
    "duration": 23,
    "start_time": "2022-08-05T13:32:23.681Z"
   },
   {
    "duration": 25,
    "start_time": "2022-08-05T13:32:23.706Z"
   },
   {
    "duration": 57,
    "start_time": "2022-08-05T13:32:23.733Z"
   },
   {
    "duration": 15,
    "start_time": "2022-08-05T13:32:23.792Z"
   },
   {
    "duration": 17,
    "start_time": "2022-08-05T13:32:23.808Z"
   },
   {
    "duration": 20,
    "start_time": "2022-08-05T13:32:23.826Z"
   },
   {
    "duration": 11,
    "start_time": "2022-08-05T13:32:23.848Z"
   },
   {
    "duration": 40,
    "start_time": "2022-08-05T13:32:23.860Z"
   },
   {
    "duration": 10,
    "start_time": "2022-08-05T13:32:23.902Z"
   },
   {
    "duration": 318,
    "start_time": "2022-08-05T13:32:23.913Z"
   },
   {
    "duration": 4,
    "start_time": "2022-08-05T13:32:24.238Z"
   },
   {
    "duration": 309,
    "start_time": "2022-08-05T13:32:24.243Z"
   },
   {
    "duration": 219,
    "start_time": "2022-08-05T13:32:24.554Z"
   },
   {
    "duration": 4,
    "start_time": "2022-08-05T13:33:48.430Z"
   },
   {
    "duration": 3,
    "start_time": "2022-08-05T13:34:12.470Z"
   },
   {
    "duration": 4,
    "start_time": "2022-08-05T13:34:17.319Z"
   },
   {
    "duration": 6,
    "start_time": "2022-08-05T13:34:28.638Z"
   },
   {
    "duration": 698,
    "start_time": "2022-08-05T13:34:41.397Z"
   },
   {
    "duration": 1136,
    "start_time": "2022-08-05T13:35:35.415Z"
   },
   {
    "duration": 75,
    "start_time": "2022-08-05T13:35:36.554Z"
   },
   {
    "duration": 4,
    "start_time": "2022-08-05T13:35:36.631Z"
   },
   {
    "duration": 6,
    "start_time": "2022-08-05T13:35:36.637Z"
   },
   {
    "duration": 49,
    "start_time": "2022-08-05T13:35:36.645Z"
   },
   {
    "duration": 3,
    "start_time": "2022-08-05T13:35:36.695Z"
   },
   {
    "duration": 12,
    "start_time": "2022-08-05T13:35:36.699Z"
   },
   {
    "duration": 30,
    "start_time": "2022-08-05T13:35:36.713Z"
   },
   {
    "duration": 8,
    "start_time": "2022-08-05T13:35:36.745Z"
   },
   {
    "duration": 263,
    "start_time": "2022-08-05T13:35:36.755Z"
   },
   {
    "duration": 19,
    "start_time": "2022-08-05T13:35:37.020Z"
   },
   {
    "duration": 8,
    "start_time": "2022-08-05T13:35:37.041Z"
   },
   {
    "duration": 11,
    "start_time": "2022-08-05T13:35:37.050Z"
   },
   {
    "duration": 11,
    "start_time": "2022-08-05T13:35:37.064Z"
   },
   {
    "duration": 4,
    "start_time": "2022-08-05T13:35:37.076Z"
   },
   {
    "duration": 6,
    "start_time": "2022-08-05T13:35:37.081Z"
   },
   {
    "duration": 12,
    "start_time": "2022-08-05T13:35:37.089Z"
   },
   {
    "duration": 46,
    "start_time": "2022-08-05T13:35:37.102Z"
   },
   {
    "duration": 266,
    "start_time": "2022-08-05T13:35:37.150Z"
   },
   {
    "duration": 9,
    "start_time": "2022-08-05T13:35:37.418Z"
   },
   {
    "duration": 16,
    "start_time": "2022-08-05T13:35:37.438Z"
   },
   {
    "duration": 297,
    "start_time": "2022-08-05T13:35:37.455Z"
   },
   {
    "duration": 247,
    "start_time": "2022-08-05T13:35:37.754Z"
   },
   {
    "duration": 6,
    "start_time": "2022-08-05T13:35:38.003Z"
   },
   {
    "duration": 338,
    "start_time": "2022-08-05T13:35:38.010Z"
   },
   {
    "duration": 11,
    "start_time": "2022-08-05T13:35:38.350Z"
   },
   {
    "duration": 9,
    "start_time": "2022-08-05T13:35:38.364Z"
   },
   {
    "duration": 234,
    "start_time": "2022-08-05T13:35:38.375Z"
   },
   {
    "duration": 6,
    "start_time": "2022-08-05T13:35:38.611Z"
   },
   {
    "duration": 365,
    "start_time": "2022-08-05T13:35:38.619Z"
   },
   {
    "duration": 15,
    "start_time": "2022-08-05T13:35:38.985Z"
   },
   {
    "duration": 266,
    "start_time": "2022-08-05T13:35:39.002Z"
   },
   {
    "duration": 5,
    "start_time": "2022-08-05T13:35:39.270Z"
   },
   {
    "duration": 158,
    "start_time": "2022-08-05T13:35:39.277Z"
   },
   {
    "duration": 148,
    "start_time": "2022-08-05T13:35:39.438Z"
   },
   {
    "duration": 5,
    "start_time": "2022-08-05T13:35:39.587Z"
   },
   {
    "duration": 14,
    "start_time": "2022-08-05T13:35:39.594Z"
   },
   {
    "duration": 6,
    "start_time": "2022-08-05T13:35:39.610Z"
   },
   {
    "duration": 23,
    "start_time": "2022-08-05T13:35:39.618Z"
   },
   {
    "duration": 27,
    "start_time": "2022-08-05T13:35:39.642Z"
   },
   {
    "duration": 20,
    "start_time": "2022-08-05T13:35:39.674Z"
   },
   {
    "duration": 19,
    "start_time": "2022-08-05T13:35:39.695Z"
   },
   {
    "duration": 32,
    "start_time": "2022-08-05T13:35:39.715Z"
   },
   {
    "duration": 7,
    "start_time": "2022-08-05T13:35:39.749Z"
   },
   {
    "duration": 25,
    "start_time": "2022-08-05T13:35:39.758Z"
   },
   {
    "duration": 9,
    "start_time": "2022-08-05T13:35:39.785Z"
   },
   {
    "duration": 345,
    "start_time": "2022-08-05T13:35:39.796Z"
   },
   {
    "duration": 5,
    "start_time": "2022-08-05T13:35:40.142Z"
   },
   {
    "duration": 6,
    "start_time": "2022-08-05T13:35:40.148Z"
   },
   {
    "duration": 7,
    "start_time": "2022-08-05T13:35:40.155Z"
   },
   {
    "duration": 325,
    "start_time": "2022-08-05T13:35:40.163Z"
   },
   {
    "duration": 223,
    "start_time": "2022-08-05T13:35:40.490Z"
   },
   {
    "duration": 13,
    "start_time": "2022-08-05T13:38:25.516Z"
   },
   {
    "duration": 10,
    "start_time": "2022-08-05T13:38:43.866Z"
   },
   {
    "duration": 287,
    "start_time": "2022-08-05T13:38:45.571Z"
   },
   {
    "duration": 1075,
    "start_time": "2022-08-05T13:39:09.564Z"
   },
   {
    "duration": 76,
    "start_time": "2022-08-05T13:39:10.641Z"
   },
   {
    "duration": 3,
    "start_time": "2022-08-05T13:39:10.719Z"
   },
   {
    "duration": 11,
    "start_time": "2022-08-05T13:39:10.724Z"
   },
   {
    "duration": 47,
    "start_time": "2022-08-05T13:39:10.737Z"
   },
   {
    "duration": 2,
    "start_time": "2022-08-05T13:39:10.786Z"
   },
   {
    "duration": 11,
    "start_time": "2022-08-05T13:39:10.790Z"
   },
   {
    "duration": 39,
    "start_time": "2022-08-05T13:39:10.803Z"
   },
   {
    "duration": 8,
    "start_time": "2022-08-05T13:39:10.844Z"
   },
   {
    "duration": 264,
    "start_time": "2022-08-05T13:39:10.854Z"
   },
   {
    "duration": 19,
    "start_time": "2022-08-05T13:39:11.120Z"
   },
   {
    "duration": 9,
    "start_time": "2022-08-05T13:39:11.141Z"
   },
   {
    "duration": 12,
    "start_time": "2022-08-05T13:39:11.152Z"
   },
   {
    "duration": 18,
    "start_time": "2022-08-05T13:39:11.165Z"
   },
   {
    "duration": 8,
    "start_time": "2022-08-05T13:39:11.184Z"
   },
   {
    "duration": 6,
    "start_time": "2022-08-05T13:39:11.193Z"
   },
   {
    "duration": 16,
    "start_time": "2022-08-05T13:39:11.201Z"
   },
   {
    "duration": 28,
    "start_time": "2022-08-05T13:39:11.218Z"
   },
   {
    "duration": 285,
    "start_time": "2022-08-05T13:39:11.248Z"
   },
   {
    "duration": 10,
    "start_time": "2022-08-05T13:39:11.535Z"
   },
   {
    "duration": 18,
    "start_time": "2022-08-05T13:39:11.546Z"
   },
   {
    "duration": 301,
    "start_time": "2022-08-05T13:39:11.565Z"
   },
   {
    "duration": 217,
    "start_time": "2022-08-05T13:39:11.868Z"
   },
   {
    "duration": 6,
    "start_time": "2022-08-05T13:39:12.086Z"
   },
   {
    "duration": 293,
    "start_time": "2022-08-05T13:39:12.093Z"
   },
   {
    "duration": 10,
    "start_time": "2022-08-05T13:39:12.388Z"
   },
   {
    "duration": 10,
    "start_time": "2022-08-05T13:39:12.400Z"
   },
   {
    "duration": 214,
    "start_time": "2022-08-05T13:39:12.414Z"
   },
   {
    "duration": 11,
    "start_time": "2022-08-05T13:39:12.630Z"
   },
   {
    "duration": 345,
    "start_time": "2022-08-05T13:39:12.642Z"
   },
   {
    "duration": 12,
    "start_time": "2022-08-05T13:39:12.988Z"
   },
   {
    "duration": 247,
    "start_time": "2022-08-05T13:39:13.001Z"
   },
   {
    "duration": 4,
    "start_time": "2022-08-05T13:39:13.250Z"
   },
   {
    "duration": 156,
    "start_time": "2022-08-05T13:39:13.256Z"
   },
   {
    "duration": 148,
    "start_time": "2022-08-05T13:39:13.413Z"
   },
   {
    "duration": 5,
    "start_time": "2022-08-05T13:39:13.562Z"
   },
   {
    "duration": 15,
    "start_time": "2022-08-05T13:39:13.568Z"
   },
   {
    "duration": 6,
    "start_time": "2022-08-05T13:39:13.585Z"
   },
   {
    "duration": 9,
    "start_time": "2022-08-05T13:39:13.593Z"
   },
   {
    "duration": 61,
    "start_time": "2022-08-05T13:39:13.604Z"
   },
   {
    "duration": 27,
    "start_time": "2022-08-05T13:39:13.667Z"
   },
   {
    "duration": 19,
    "start_time": "2022-08-05T13:39:13.696Z"
   },
   {
    "duration": 22,
    "start_time": "2022-08-05T13:39:13.717Z"
   },
   {
    "duration": 8,
    "start_time": "2022-08-05T13:39:13.741Z"
   },
   {
    "duration": 27,
    "start_time": "2022-08-05T13:39:13.751Z"
   },
   {
    "duration": 9,
    "start_time": "2022-08-05T13:39:13.780Z"
   },
   {
    "duration": 333,
    "start_time": "2022-08-05T13:39:13.790Z"
   },
   {
    "duration": 4,
    "start_time": "2022-08-05T13:39:14.125Z"
   },
   {
    "duration": 7,
    "start_time": "2022-08-05T13:39:14.138Z"
   },
   {
    "duration": 7,
    "start_time": "2022-08-05T13:39:14.146Z"
   },
   {
    "duration": 10,
    "start_time": "2022-08-05T13:39:14.154Z"
   },
   {
    "duration": 294,
    "start_time": "2022-08-05T13:39:14.165Z"
   },
   {
    "duration": 220,
    "start_time": "2022-08-05T13:39:14.461Z"
   },
   {
    "duration": 13,
    "start_time": "2022-08-05T13:40:58.931Z"
   },
   {
    "duration": 7,
    "start_time": "2022-08-05T13:41:10.691Z"
   },
   {
    "duration": 6,
    "start_time": "2022-08-05T13:41:11.972Z"
   },
   {
    "duration": 23,
    "start_time": "2022-08-05T13:41:13.371Z"
   },
   {
    "duration": 8,
    "start_time": "2022-08-05T13:41:16.835Z"
   },
   {
    "duration": 212,
    "start_time": "2022-08-05T13:51:49.716Z"
   },
   {
    "duration": 1357,
    "start_time": "2022-08-05T13:51:51.533Z"
   },
   {
    "duration": 258,
    "start_time": "2022-08-05T13:51:52.944Z"
   },
   {
    "duration": 4,
    "start_time": "2022-08-05T13:52:20.094Z"
   },
   {
    "duration": 7,
    "start_time": "2022-08-05T13:52:22.501Z"
   },
   {
    "duration": 257,
    "start_time": "2022-08-05T13:52:23.573Z"
   },
   {
    "duration": 1129,
    "start_time": "2022-08-05T14:20:18.833Z"
   },
   {
    "duration": 77,
    "start_time": "2022-08-05T14:20:19.964Z"
   },
   {
    "duration": 4,
    "start_time": "2022-08-05T14:20:20.042Z"
   },
   {
    "duration": 5,
    "start_time": "2022-08-05T14:20:20.048Z"
   },
   {
    "duration": 52,
    "start_time": "2022-08-05T14:20:20.055Z"
   },
   {
    "duration": 3,
    "start_time": "2022-08-05T14:20:20.108Z"
   },
   {
    "duration": 27,
    "start_time": "2022-08-05T14:20:20.112Z"
   },
   {
    "duration": 16,
    "start_time": "2022-08-05T14:20:20.140Z"
   },
   {
    "duration": 7,
    "start_time": "2022-08-05T14:20:20.157Z"
   },
   {
    "duration": 249,
    "start_time": "2022-08-05T14:20:20.166Z"
   },
   {
    "duration": 11,
    "start_time": "2022-08-05T14:20:20.416Z"
   },
   {
    "duration": 8,
    "start_time": "2022-08-05T14:20:20.438Z"
   },
   {
    "duration": 7,
    "start_time": "2022-08-05T14:20:20.448Z"
   },
   {
    "duration": 12,
    "start_time": "2022-08-05T14:20:20.456Z"
   },
   {
    "duration": 4,
    "start_time": "2022-08-05T14:20:20.469Z"
   },
   {
    "duration": 5,
    "start_time": "2022-08-05T14:20:20.475Z"
   },
   {
    "duration": 12,
    "start_time": "2022-08-05T14:20:20.481Z"
   },
   {
    "duration": 16,
    "start_time": "2022-08-05T14:20:20.494Z"
   },
   {
    "duration": 263,
    "start_time": "2022-08-05T14:20:20.539Z"
   },
   {
    "duration": 8,
    "start_time": "2022-08-05T14:20:20.804Z"
   },
   {
    "duration": 27,
    "start_time": "2022-08-05T14:20:20.813Z"
   },
   {
    "duration": 272,
    "start_time": "2022-08-05T14:20:20.842Z"
   },
   {
    "duration": 209,
    "start_time": "2022-08-05T14:20:21.115Z"
   },
   {
    "duration": 6,
    "start_time": "2022-08-05T14:20:21.326Z"
   },
   {
    "duration": 300,
    "start_time": "2022-08-05T14:20:21.333Z"
   },
   {
    "duration": 10,
    "start_time": "2022-08-05T14:20:21.639Z"
   },
   {
    "duration": 9,
    "start_time": "2022-08-05T14:20:21.650Z"
   },
   {
    "duration": 214,
    "start_time": "2022-08-05T14:20:21.662Z"
   },
   {
    "duration": 6,
    "start_time": "2022-08-05T14:20:21.877Z"
   },
   {
    "duration": 282,
    "start_time": "2022-08-05T14:20:21.884Z"
   },
   {
    "duration": 11,
    "start_time": "2022-08-05T14:20:22.168Z"
   },
   {
    "duration": 234,
    "start_time": "2022-08-05T14:20:22.180Z"
   },
   {
    "duration": 5,
    "start_time": "2022-08-05T14:20:22.416Z"
   },
   {
    "duration": 151,
    "start_time": "2022-08-05T14:20:22.422Z"
   },
   {
    "duration": 152,
    "start_time": "2022-08-05T14:20:22.574Z"
   },
   {
    "duration": 10,
    "start_time": "2022-08-05T14:20:22.728Z"
   },
   {
    "duration": 12,
    "start_time": "2022-08-05T14:20:22.740Z"
   },
   {
    "duration": 6,
    "start_time": "2022-08-05T14:20:22.753Z"
   },
   {
    "duration": 6,
    "start_time": "2022-08-05T14:20:22.761Z"
   },
   {
    "duration": 26,
    "start_time": "2022-08-05T14:20:22.768Z"
   },
   {
    "duration": 14,
    "start_time": "2022-08-05T14:20:22.796Z"
   },
   {
    "duration": 12,
    "start_time": "2022-08-05T14:20:22.838Z"
   },
   {
    "duration": 7,
    "start_time": "2022-08-05T14:20:22.851Z"
   },
   {
    "duration": 8,
    "start_time": "2022-08-05T14:20:22.859Z"
   },
   {
    "duration": 23,
    "start_time": "2022-08-05T14:20:22.868Z"
   },
   {
    "duration": 6,
    "start_time": "2022-08-05T14:20:22.892Z"
   },
   {
    "duration": 239,
    "start_time": "2022-08-05T14:20:22.899Z"
   },
   {
    "duration": 4,
    "start_time": "2022-08-05T14:20:23.140Z"
   },
   {
    "duration": 267,
    "start_time": "2022-08-05T14:20:23.145Z"
   },
   {
    "duration": 7,
    "start_time": "2022-08-05T14:20:23.413Z"
   },
   {
    "duration": 219,
    "start_time": "2022-08-05T14:20:23.421Z"
   },
   {
    "duration": 1051,
    "start_time": "2022-08-05T15:15:03.864Z"
   },
   {
    "duration": 74,
    "start_time": "2022-08-05T15:15:04.917Z"
   },
   {
    "duration": 4,
    "start_time": "2022-08-05T15:15:04.992Z"
   },
   {
    "duration": 22,
    "start_time": "2022-08-05T15:15:04.997Z"
   },
   {
    "duration": 63,
    "start_time": "2022-08-05T15:15:05.021Z"
   },
   {
    "duration": 3,
    "start_time": "2022-08-05T15:15:05.085Z"
   },
   {
    "duration": 16,
    "start_time": "2022-08-05T15:15:05.089Z"
   },
   {
    "duration": 44,
    "start_time": "2022-08-05T15:15:05.107Z"
   },
   {
    "duration": 14,
    "start_time": "2022-08-05T15:15:05.153Z"
   },
   {
    "duration": 249,
    "start_time": "2022-08-05T15:15:05.169Z"
   },
   {
    "duration": 11,
    "start_time": "2022-08-05T15:15:05.419Z"
   },
   {
    "duration": 9,
    "start_time": "2022-08-05T15:15:05.438Z"
   },
   {
    "duration": 23,
    "start_time": "2022-08-05T15:15:05.448Z"
   },
   {
    "duration": 19,
    "start_time": "2022-08-05T15:15:05.473Z"
   },
   {
    "duration": 17,
    "start_time": "2022-08-05T15:15:05.494Z"
   },
   {
    "duration": 21,
    "start_time": "2022-08-05T15:15:05.513Z"
   },
   {
    "duration": 26,
    "start_time": "2022-08-05T15:15:05.536Z"
   },
   {
    "duration": 39,
    "start_time": "2022-08-05T15:15:05.564Z"
   },
   {
    "duration": 279,
    "start_time": "2022-08-05T15:15:05.605Z"
   },
   {
    "duration": 7,
    "start_time": "2022-08-05T15:15:05.886Z"
   },
   {
    "duration": 21,
    "start_time": "2022-08-05T15:15:05.895Z"
   },
   {
    "duration": 290,
    "start_time": "2022-08-05T15:15:05.917Z"
   },
   {
    "duration": 216,
    "start_time": "2022-08-05T15:15:06.209Z"
   },
   {
    "duration": 6,
    "start_time": "2022-08-05T15:15:06.426Z"
   },
   {
    "duration": 303,
    "start_time": "2022-08-05T15:15:06.438Z"
   },
   {
    "duration": 10,
    "start_time": "2022-08-05T15:15:06.742Z"
   },
   {
    "duration": 10,
    "start_time": "2022-08-05T15:15:06.754Z"
   },
   {
    "duration": 229,
    "start_time": "2022-08-05T15:15:06.768Z"
   },
   {
    "duration": 6,
    "start_time": "2022-08-05T15:15:06.999Z"
   },
   {
    "duration": 338,
    "start_time": "2022-08-05T15:15:07.006Z"
   },
   {
    "duration": 12,
    "start_time": "2022-08-05T15:15:07.345Z"
   },
   {
    "duration": 237,
    "start_time": "2022-08-05T15:15:07.359Z"
   },
   {
    "duration": 5,
    "start_time": "2022-08-05T15:15:07.597Z"
   },
   {
    "duration": 164,
    "start_time": "2022-08-05T15:15:07.603Z"
   },
   {
    "duration": 152,
    "start_time": "2022-08-05T15:15:07.769Z"
   },
   {
    "duration": 5,
    "start_time": "2022-08-05T15:15:07.923Z"
   },
   {
    "duration": 13,
    "start_time": "2022-08-05T15:15:07.938Z"
   },
   {
    "duration": 6,
    "start_time": "2022-08-05T15:15:07.952Z"
   },
   {
    "duration": 12,
    "start_time": "2022-08-05T15:15:07.960Z"
   },
   {
    "duration": 84,
    "start_time": "2022-08-05T15:15:07.974Z"
   },
   {
    "duration": 14,
    "start_time": "2022-08-05T15:15:08.060Z"
   },
   {
    "duration": 13,
    "start_time": "2022-08-05T15:15:08.075Z"
   },
   {
    "duration": 9,
    "start_time": "2022-08-05T15:15:08.089Z"
   },
   {
    "duration": 5,
    "start_time": "2022-08-05T15:15:08.100Z"
   },
   {
    "duration": 46,
    "start_time": "2022-08-05T15:15:08.106Z"
   },
   {
    "duration": 7,
    "start_time": "2022-08-05T15:15:08.153Z"
   },
   {
    "duration": 213,
    "start_time": "2022-08-05T15:15:08.161Z"
   },
   {
    "duration": 4,
    "start_time": "2022-08-05T15:15:08.375Z"
   },
   {
    "duration": 116,
    "start_time": "2022-08-05T15:15:08.380Z"
   },
   {
    "duration": 0,
    "start_time": "2022-08-05T15:15:08.497Z"
   },
   {
    "duration": 0,
    "start_time": "2022-08-05T15:15:08.498Z"
   },
   {
    "duration": 12,
    "start_time": "2022-08-05T15:15:46.187Z"
   },
   {
    "duration": 273,
    "start_time": "2022-08-05T15:16:11.635Z"
   },
   {
    "duration": 12,
    "start_time": "2022-08-05T15:16:14.379Z"
   },
   {
    "duration": 219,
    "start_time": "2022-08-05T15:16:16.067Z"
   },
   {
    "duration": 353,
    "start_time": "2022-08-05T15:18:23.076Z"
   },
   {
    "duration": 1413,
    "start_time": "2022-08-05T17:52:36.192Z"
   },
   {
    "duration": 177,
    "start_time": "2022-08-05T17:52:37.607Z"
   },
   {
    "duration": 4,
    "start_time": "2022-08-05T17:52:37.786Z"
   },
   {
    "duration": 9,
    "start_time": "2022-08-05T17:52:37.793Z"
   },
   {
    "duration": 64,
    "start_time": "2022-08-05T17:52:37.803Z"
   },
   {
    "duration": 3,
    "start_time": "2022-08-05T17:52:37.870Z"
   },
   {
    "duration": 11,
    "start_time": "2022-08-05T17:52:37.875Z"
   },
   {
    "duration": 22,
    "start_time": "2022-08-05T17:52:37.888Z"
   },
   {
    "duration": 11,
    "start_time": "2022-08-05T17:52:37.912Z"
   },
   {
    "duration": 295,
    "start_time": "2022-08-05T17:52:37.925Z"
   },
   {
    "duration": 15,
    "start_time": "2022-08-05T17:52:38.222Z"
   },
   {
    "duration": 9,
    "start_time": "2022-08-05T17:52:38.239Z"
   },
   {
    "duration": 15,
    "start_time": "2022-08-05T17:52:38.272Z"
   },
   {
    "duration": 13,
    "start_time": "2022-08-05T17:52:38.289Z"
   },
   {
    "duration": 5,
    "start_time": "2022-08-05T17:52:38.304Z"
   },
   {
    "duration": 18,
    "start_time": "2022-08-05T17:52:38.311Z"
   },
   {
    "duration": 40,
    "start_time": "2022-08-05T17:52:38.330Z"
   },
   {
    "duration": 310,
    "start_time": "2022-08-05T17:52:38.372Z"
   },
   {
    "duration": 9,
    "start_time": "2022-08-05T17:52:38.684Z"
   },
   {
    "duration": 22,
    "start_time": "2022-08-05T17:52:38.694Z"
   },
   {
    "duration": 325,
    "start_time": "2022-08-05T17:52:38.718Z"
   },
   {
    "duration": 236,
    "start_time": "2022-08-05T17:52:39.045Z"
   },
   {
    "duration": 8,
    "start_time": "2022-08-05T17:52:39.283Z"
   },
   {
    "duration": 342,
    "start_time": "2022-08-05T17:52:39.292Z"
   },
   {
    "duration": 12,
    "start_time": "2022-08-05T17:52:39.635Z"
   },
   {
    "duration": 26,
    "start_time": "2022-08-05T17:52:39.649Z"
   },
   {
    "duration": 242,
    "start_time": "2022-08-05T17:52:39.677Z"
   },
   {
    "duration": 6,
    "start_time": "2022-08-05T17:52:39.922Z"
   },
   {
    "duration": 319,
    "start_time": "2022-08-05T17:52:39.930Z"
   },
   {
    "duration": 26,
    "start_time": "2022-08-05T17:52:40.251Z"
   },
   {
    "duration": 265,
    "start_time": "2022-08-05T17:52:40.279Z"
   },
   {
    "duration": 4,
    "start_time": "2022-08-05T17:52:40.546Z"
   },
   {
    "duration": 344,
    "start_time": "2022-08-05T17:52:40.552Z"
   },
   {
    "duration": 371,
    "start_time": "2022-08-05T17:52:40.899Z"
   },
   {
    "duration": 5,
    "start_time": "2022-08-05T17:52:41.272Z"
   },
   {
    "duration": 23,
    "start_time": "2022-08-05T17:52:41.278Z"
   },
   {
    "duration": 9,
    "start_time": "2022-08-05T17:52:41.304Z"
   },
   {
    "duration": 58,
    "start_time": "2022-08-05T17:52:41.316Z"
   },
   {
    "duration": 38,
    "start_time": "2022-08-05T17:52:41.376Z"
   },
   {
    "duration": 68,
    "start_time": "2022-08-05T17:52:41.416Z"
   },
   {
    "duration": 19,
    "start_time": "2022-08-05T17:52:41.486Z"
   },
   {
    "duration": 64,
    "start_time": "2022-08-05T17:52:41.507Z"
   },
   {
    "duration": 10,
    "start_time": "2022-08-05T17:52:41.573Z"
   },
   {
    "duration": 86,
    "start_time": "2022-08-05T17:52:41.584Z"
   },
   {
    "duration": 8,
    "start_time": "2022-08-05T17:52:41.672Z"
   },
   {
    "duration": 491,
    "start_time": "2022-08-05T17:52:41.682Z"
   },
   {
    "duration": 15,
    "start_time": "2022-08-05T17:52:42.175Z"
   },
   {
    "duration": 613,
    "start_time": "2022-08-05T17:52:42.192Z"
   },
   {
    "duration": 63,
    "start_time": "2022-08-05T17:52:42.807Z"
   },
   {
    "duration": 926,
    "start_time": "2022-08-05T17:52:42.872Z"
   },
   {
    "duration": 239,
    "start_time": "2022-08-05T17:53:39.726Z"
   },
   {
    "duration": 133,
    "start_time": "2022-08-05T18:14:19.698Z"
   },
   {
    "duration": 101,
    "start_time": "2022-08-05T18:15:46.795Z"
   },
   {
    "duration": 10,
    "start_time": "2022-08-05T18:16:35.091Z"
   },
   {
    "duration": 10,
    "start_time": "2022-08-05T18:16:47.792Z"
   },
   {
    "duration": 370,
    "start_time": "2022-08-05T18:17:05.556Z"
   },
   {
    "duration": 106,
    "start_time": "2022-08-05T18:17:28.905Z"
   },
   {
    "duration": 1244,
    "start_time": "2022-08-05T18:17:59.030Z"
   },
   {
    "duration": 71,
    "start_time": "2022-08-05T18:18:00.276Z"
   },
   {
    "duration": 4,
    "start_time": "2022-08-05T18:18:00.349Z"
   },
   {
    "duration": 6,
    "start_time": "2022-08-05T18:18:00.356Z"
   },
   {
    "duration": 69,
    "start_time": "2022-08-05T18:18:00.364Z"
   },
   {
    "duration": 4,
    "start_time": "2022-08-05T18:18:00.435Z"
   },
   {
    "duration": 16,
    "start_time": "2022-08-05T18:18:00.467Z"
   },
   {
    "duration": 48,
    "start_time": "2022-08-05T18:18:00.486Z"
   },
   {
    "duration": 13,
    "start_time": "2022-08-05T18:18:00.536Z"
   },
   {
    "duration": 283,
    "start_time": "2022-08-05T18:18:00.553Z"
   },
   {
    "duration": 21,
    "start_time": "2022-08-05T18:18:00.838Z"
   },
   {
    "duration": 15,
    "start_time": "2022-08-05T18:18:00.867Z"
   },
   {
    "duration": 12,
    "start_time": "2022-08-05T18:18:00.885Z"
   },
   {
    "duration": 15,
    "start_time": "2022-08-05T18:18:00.899Z"
   },
   {
    "duration": 10,
    "start_time": "2022-08-05T18:18:00.916Z"
   },
   {
    "duration": 26,
    "start_time": "2022-08-05T18:18:00.928Z"
   },
   {
    "duration": 28,
    "start_time": "2022-08-05T18:18:00.955Z"
   },
   {
    "duration": 322,
    "start_time": "2022-08-05T18:18:00.985Z"
   },
   {
    "duration": 10,
    "start_time": "2022-08-05T18:18:01.309Z"
   },
   {
    "duration": 33,
    "start_time": "2022-08-05T18:18:01.320Z"
   },
   {
    "duration": 356,
    "start_time": "2022-08-05T18:18:01.355Z"
   },
   {
    "duration": 246,
    "start_time": "2022-08-05T18:18:01.713Z"
   },
   {
    "duration": 10,
    "start_time": "2022-08-05T18:18:01.961Z"
   },
   {
    "duration": 333,
    "start_time": "2022-08-05T18:18:01.973Z"
   },
   {
    "duration": 13,
    "start_time": "2022-08-05T18:18:02.308Z"
   },
   {
    "duration": 79,
    "start_time": "2022-08-05T18:18:02.324Z"
   },
   {
    "duration": 299,
    "start_time": "2022-08-05T18:18:02.405Z"
   },
   {
    "duration": 8,
    "start_time": "2022-08-05T18:18:02.709Z"
   },
   {
    "duration": 385,
    "start_time": "2022-08-05T18:18:02.720Z"
   },
   {
    "duration": 19,
    "start_time": "2022-08-05T18:18:03.107Z"
   },
   {
    "duration": 267,
    "start_time": "2022-08-05T18:18:03.129Z"
   },
   {
    "duration": 6,
    "start_time": "2022-08-05T18:18:03.398Z"
   },
   {
    "duration": 203,
    "start_time": "2022-08-05T18:18:03.407Z"
   },
   {
    "duration": 196,
    "start_time": "2022-08-05T18:18:03.612Z"
   },
   {
    "duration": 6,
    "start_time": "2022-08-05T18:18:03.810Z"
   },
   {
    "duration": 52,
    "start_time": "2022-08-05T18:18:03.818Z"
   },
   {
    "duration": 11,
    "start_time": "2022-08-05T18:18:03.872Z"
   },
   {
    "duration": 16,
    "start_time": "2022-08-05T18:18:03.886Z"
   },
   {
    "duration": 43,
    "start_time": "2022-08-05T18:18:03.905Z"
   },
   {
    "duration": 43,
    "start_time": "2022-08-05T18:18:03.950Z"
   },
   {
    "duration": 21,
    "start_time": "2022-08-05T18:18:03.996Z"
   },
   {
    "duration": 31,
    "start_time": "2022-08-05T18:18:04.019Z"
   },
   {
    "duration": 30,
    "start_time": "2022-08-05T18:18:04.053Z"
   },
   {
    "duration": 64,
    "start_time": "2022-08-05T18:18:04.086Z"
   },
   {
    "duration": 14,
    "start_time": "2022-08-05T18:18:04.153Z"
   },
   {
    "duration": 242,
    "start_time": "2022-08-05T18:18:04.169Z"
   },
   {
    "duration": 331,
    "start_time": "2022-08-05T18:18:04.413Z"
   },
   {
    "duration": 238,
    "start_time": "2022-08-05T18:18:04.746Z"
   },
   {
    "duration": 6,
    "start_time": "2022-08-05T18:18:04.985Z"
   },
   {
    "duration": 374,
    "start_time": "2022-08-05T18:18:04.993Z"
   },
   {
    "duration": 13,
    "start_time": "2022-08-05T18:18:09.389Z"
   },
   {
    "duration": 15,
    "start_time": "2022-08-05T18:18:13.717Z"
   },
   {
    "duration": 15,
    "start_time": "2022-08-05T18:18:18.660Z"
   },
   {
    "duration": 295,
    "start_time": "2022-08-05T18:20:38.601Z"
   },
   {
    "duration": 230,
    "start_time": "2022-08-05T18:21:02.337Z"
   },
   {
    "duration": 245,
    "start_time": "2022-08-05T18:23:52.650Z"
   },
   {
    "duration": 532,
    "start_time": "2022-08-05T18:24:49.945Z"
   },
   {
    "duration": 7,
    "start_time": "2022-08-05T18:26:27.191Z"
   },
   {
    "duration": 440,
    "start_time": "2022-08-05T18:26:27.692Z"
   },
   {
    "duration": 281,
    "start_time": "2022-08-05T18:26:55.425Z"
   },
   {
    "duration": 321,
    "start_time": "2022-08-05T18:27:09.987Z"
   },
   {
    "duration": 865,
    "start_time": "2022-08-05T18:27:32.261Z"
   },
   {
    "duration": 30,
    "start_time": "2022-08-05T18:32:19.924Z"
   },
   {
    "duration": 1606,
    "start_time": "2022-08-05T18:32:31.788Z"
   },
   {
    "duration": 79,
    "start_time": "2022-08-05T18:32:33.396Z"
   },
   {
    "duration": 7,
    "start_time": "2022-08-05T18:32:33.478Z"
   },
   {
    "duration": 46,
    "start_time": "2022-08-05T18:32:33.490Z"
   },
   {
    "duration": 95,
    "start_time": "2022-08-05T18:32:33.539Z"
   },
   {
    "duration": 10,
    "start_time": "2022-08-05T18:32:33.637Z"
   },
   {
    "duration": 31,
    "start_time": "2022-08-05T18:32:33.650Z"
   },
   {
    "duration": 50,
    "start_time": "2022-08-05T18:32:33.684Z"
   },
   {
    "duration": 31,
    "start_time": "2022-08-05T18:32:33.737Z"
   },
   {
    "duration": 427,
    "start_time": "2022-08-05T18:32:33.772Z"
   },
   {
    "duration": 20,
    "start_time": "2022-08-05T18:32:34.202Z"
   },
   {
    "duration": 17,
    "start_time": "2022-08-05T18:32:34.224Z"
   },
   {
    "duration": 31,
    "start_time": "2022-08-05T18:32:34.245Z"
   },
   {
    "duration": 18,
    "start_time": "2022-08-05T18:32:34.278Z"
   },
   {
    "duration": 6,
    "start_time": "2022-08-05T18:32:34.298Z"
   },
   {
    "duration": 25,
    "start_time": "2022-08-05T18:32:34.306Z"
   },
   {
    "duration": 39,
    "start_time": "2022-08-05T18:32:34.333Z"
   },
   {
    "duration": 452,
    "start_time": "2022-08-05T18:32:34.374Z"
   },
   {
    "duration": 12,
    "start_time": "2022-08-05T18:32:34.828Z"
   },
   {
    "duration": 39,
    "start_time": "2022-08-05T18:32:34.842Z"
   },
   {
    "duration": 480,
    "start_time": "2022-08-05T18:32:34.883Z"
   },
   {
    "duration": 306,
    "start_time": "2022-08-05T18:32:35.368Z"
   },
   {
    "duration": 8,
    "start_time": "2022-08-05T18:32:35.676Z"
   },
   {
    "duration": 332,
    "start_time": "2022-08-05T18:32:35.686Z"
   },
   {
    "duration": 13,
    "start_time": "2022-08-05T18:32:36.020Z"
   },
   {
    "duration": 32,
    "start_time": "2022-08-05T18:32:36.035Z"
   },
   {
    "duration": 261,
    "start_time": "2022-08-05T18:32:36.070Z"
   },
   {
    "duration": 7,
    "start_time": "2022-08-05T18:32:36.334Z"
   },
   {
    "duration": 428,
    "start_time": "2022-08-05T18:32:36.343Z"
   },
   {
    "duration": 19,
    "start_time": "2022-08-05T18:32:36.776Z"
   },
   {
    "duration": 329,
    "start_time": "2022-08-05T18:32:36.797Z"
   },
   {
    "duration": 8,
    "start_time": "2022-08-05T18:32:37.128Z"
   },
   {
    "duration": 217,
    "start_time": "2022-08-05T18:32:37.138Z"
   },
   {
    "duration": 212,
    "start_time": "2022-08-05T18:32:37.357Z"
   },
   {
    "duration": 12,
    "start_time": "2022-08-05T18:32:37.571Z"
   },
   {
    "duration": 29,
    "start_time": "2022-08-05T18:32:37.585Z"
   },
   {
    "duration": 11,
    "start_time": "2022-08-05T18:32:37.616Z"
   },
   {
    "duration": 11,
    "start_time": "2022-08-05T18:32:37.629Z"
   },
   {
    "duration": 37,
    "start_time": "2022-08-05T18:32:37.641Z"
   },
   {
    "duration": 19,
    "start_time": "2022-08-05T18:32:37.680Z"
   },
   {
    "duration": 15,
    "start_time": "2022-08-05T18:32:37.701Z"
   },
   {
    "duration": 16,
    "start_time": "2022-08-05T18:32:37.718Z"
   },
   {
    "duration": 36,
    "start_time": "2022-08-05T18:32:37.736Z"
   },
   {
    "duration": 25,
    "start_time": "2022-08-05T18:32:37.775Z"
   },
   {
    "duration": 10,
    "start_time": "2022-08-05T18:32:37.802Z"
   },
   {
    "duration": 10,
    "start_time": "2022-08-05T18:32:37.814Z"
   },
   {
    "duration": 485,
    "start_time": "2022-08-05T18:32:37.826Z"
   },
   {
    "duration": 1054,
    "start_time": "2022-08-05T18:32:38.314Z"
   },
   {
    "duration": 16,
    "start_time": "2022-08-05T18:36:27.540Z"
   },
   {
    "duration": 1312,
    "start_time": "2022-08-05T18:36:46.304Z"
   },
   {
    "duration": 7,
    "start_time": "2022-08-05T18:37:18.511Z"
   },
   {
    "duration": 8,
    "start_time": "2022-08-05T18:39:25.682Z"
   },
   {
    "duration": 887,
    "start_time": "2022-08-05T18:39:40.886Z"
   },
   {
    "duration": 21,
    "start_time": "2022-08-05T18:47:14.223Z"
   },
   {
    "duration": 17,
    "start_time": "2022-08-05T18:47:27.343Z"
   },
   {
    "duration": 21,
    "start_time": "2022-08-05T19:00:30.438Z"
   },
   {
    "duration": 9,
    "start_time": "2022-08-05T19:00:36.454Z"
   },
   {
    "duration": 24,
    "start_time": "2022-08-05T19:00:39.130Z"
   },
   {
    "duration": 8,
    "start_time": "2022-08-05T19:00:45.014Z"
   },
   {
    "duration": 8,
    "start_time": "2022-08-05T19:00:49.909Z"
   },
   {
    "duration": 8,
    "start_time": "2022-08-05T19:00:51.422Z"
   },
   {
    "duration": 1254,
    "start_time": "2022-08-05T19:06:24.645Z"
   },
   {
    "duration": 11,
    "start_time": "2022-08-06T15:32:03.223Z"
   },
   {
    "duration": 1351,
    "start_time": "2022-08-06T15:32:13.655Z"
   },
   {
    "duration": 196,
    "start_time": "2022-08-06T15:32:15.008Z"
   },
   {
    "duration": 3,
    "start_time": "2022-08-06T15:32:15.206Z"
   },
   {
    "duration": 35,
    "start_time": "2022-08-06T15:32:15.211Z"
   },
   {
    "duration": 54,
    "start_time": "2022-08-06T15:32:15.247Z"
   },
   {
    "duration": 2,
    "start_time": "2022-08-06T15:32:15.303Z"
   },
   {
    "duration": 16,
    "start_time": "2022-08-06T15:32:15.307Z"
   },
   {
    "duration": 22,
    "start_time": "2022-08-06T15:32:15.325Z"
   },
   {
    "duration": 8,
    "start_time": "2022-08-06T15:32:15.348Z"
   },
   {
    "duration": 375,
    "start_time": "2022-08-06T15:32:15.358Z"
   },
   {
    "duration": 17,
    "start_time": "2022-08-06T15:32:15.734Z"
   },
   {
    "duration": 12,
    "start_time": "2022-08-06T15:32:15.753Z"
   },
   {
    "duration": 18,
    "start_time": "2022-08-06T15:32:15.766Z"
   },
   {
    "duration": 13,
    "start_time": "2022-08-06T15:32:15.810Z"
   },
   {
    "duration": 10,
    "start_time": "2022-08-06T15:32:15.825Z"
   },
   {
    "duration": 12,
    "start_time": "2022-08-06T15:32:15.837Z"
   },
   {
    "duration": 332,
    "start_time": "2022-08-06T15:32:15.851Z"
   },
   {
    "duration": 9,
    "start_time": "2022-08-06T15:32:16.185Z"
   },
   {
    "duration": 28,
    "start_time": "2022-08-06T15:32:16.196Z"
   },
   {
    "duration": 286,
    "start_time": "2022-08-06T15:32:16.226Z"
   },
   {
    "duration": 217,
    "start_time": "2022-08-06T15:32:16.514Z"
   },
   {
    "duration": 5,
    "start_time": "2022-08-06T15:32:16.733Z"
   },
   {
    "duration": 332,
    "start_time": "2022-08-06T15:32:16.740Z"
   },
   {
    "duration": 5,
    "start_time": "2022-08-06T15:32:17.074Z"
   },
   {
    "duration": 8,
    "start_time": "2022-08-06T15:32:17.081Z"
   },
   {
    "duration": 129,
    "start_time": "2022-08-06T15:32:17.091Z"
   },
   {
    "duration": 0,
    "start_time": "2022-08-06T15:32:17.223Z"
   },
   {
    "duration": 1,
    "start_time": "2022-08-06T15:32:17.224Z"
   },
   {
    "duration": 0,
    "start_time": "2022-08-06T15:32:17.226Z"
   },
   {
    "duration": 0,
    "start_time": "2022-08-06T15:32:17.227Z"
   },
   {
    "duration": 0,
    "start_time": "2022-08-06T15:32:17.230Z"
   },
   {
    "duration": 0,
    "start_time": "2022-08-06T15:32:17.231Z"
   },
   {
    "duration": 0,
    "start_time": "2022-08-06T15:32:17.232Z"
   },
   {
    "duration": 0,
    "start_time": "2022-08-06T15:32:17.234Z"
   },
   {
    "duration": 0,
    "start_time": "2022-08-06T15:32:17.236Z"
   },
   {
    "duration": 0,
    "start_time": "2022-08-06T15:32:17.237Z"
   },
   {
    "duration": 0,
    "start_time": "2022-08-06T15:32:17.239Z"
   },
   {
    "duration": 0,
    "start_time": "2022-08-06T15:32:17.240Z"
   },
   {
    "duration": 0,
    "start_time": "2022-08-06T15:32:17.241Z"
   },
   {
    "duration": 0,
    "start_time": "2022-08-06T15:32:17.243Z"
   },
   {
    "duration": 0,
    "start_time": "2022-08-06T15:32:17.245Z"
   },
   {
    "duration": 0,
    "start_time": "2022-08-06T15:32:17.247Z"
   },
   {
    "duration": 0,
    "start_time": "2022-08-06T15:32:17.248Z"
   },
   {
    "duration": 0,
    "start_time": "2022-08-06T15:32:17.249Z"
   },
   {
    "duration": 0,
    "start_time": "2022-08-06T15:32:17.251Z"
   },
   {
    "duration": 0,
    "start_time": "2022-08-06T15:32:17.252Z"
   },
   {
    "duration": 0,
    "start_time": "2022-08-06T15:32:17.254Z"
   },
   {
    "duration": 9,
    "start_time": "2022-08-06T15:34:03.267Z"
   },
   {
    "duration": 12,
    "start_time": "2022-08-06T15:34:20.990Z"
   },
   {
    "duration": 9,
    "start_time": "2022-08-06T15:35:45.167Z"
   },
   {
    "duration": 12,
    "start_time": "2022-08-06T15:35:51.469Z"
   },
   {
    "duration": 1187,
    "start_time": "2022-08-06T15:36:09.622Z"
   },
   {
    "duration": 78,
    "start_time": "2022-08-06T15:36:10.810Z"
   },
   {
    "duration": 4,
    "start_time": "2022-08-06T15:36:10.890Z"
   },
   {
    "duration": 6,
    "start_time": "2022-08-06T15:36:10.896Z"
   },
   {
    "duration": 53,
    "start_time": "2022-08-06T15:36:10.903Z"
   },
   {
    "duration": 3,
    "start_time": "2022-08-06T15:36:10.958Z"
   },
   {
    "duration": 8,
    "start_time": "2022-08-06T15:36:10.963Z"
   },
   {
    "duration": 37,
    "start_time": "2022-08-06T15:36:10.973Z"
   },
   {
    "duration": 9,
    "start_time": "2022-08-06T15:36:11.013Z"
   },
   {
    "duration": 249,
    "start_time": "2022-08-06T15:36:11.025Z"
   },
   {
    "duration": 13,
    "start_time": "2022-08-06T15:36:11.276Z"
   },
   {
    "duration": 21,
    "start_time": "2022-08-06T15:36:11.291Z"
   },
   {
    "duration": 10,
    "start_time": "2022-08-06T15:36:11.313Z"
   },
   {
    "duration": 14,
    "start_time": "2022-08-06T15:36:11.324Z"
   },
   {
    "duration": 10,
    "start_time": "2022-08-06T15:36:11.339Z"
   },
   {
    "duration": 15,
    "start_time": "2022-08-06T15:36:11.351Z"
   },
   {
    "duration": 294,
    "start_time": "2022-08-06T15:36:11.368Z"
   },
   {
    "duration": 8,
    "start_time": "2022-08-06T15:36:11.663Z"
   },
   {
    "duration": 36,
    "start_time": "2022-08-06T15:36:11.672Z"
   },
   {
    "duration": 289,
    "start_time": "2022-08-06T15:36:11.710Z"
   },
   {
    "duration": 217,
    "start_time": "2022-08-06T15:36:12.001Z"
   },
   {
    "duration": 6,
    "start_time": "2022-08-06T15:36:12.220Z"
   },
   {
    "duration": 311,
    "start_time": "2022-08-06T15:36:12.227Z"
   },
   {
    "duration": 6,
    "start_time": "2022-08-06T15:36:12.540Z"
   },
   {
    "duration": 9,
    "start_time": "2022-08-06T15:36:12.548Z"
   },
   {
    "duration": 17,
    "start_time": "2022-08-06T15:36:12.558Z"
   },
   {
    "duration": 15,
    "start_time": "2022-08-06T15:36:12.576Z"
   },
   {
    "duration": 21,
    "start_time": "2022-08-06T15:36:12.594Z"
   },
   {
    "duration": 225,
    "start_time": "2022-08-06T15:36:12.617Z"
   },
   {
    "duration": 6,
    "start_time": "2022-08-06T15:36:12.844Z"
   },
   {
    "duration": 273,
    "start_time": "2022-08-06T15:36:12.852Z"
   },
   {
    "duration": 11,
    "start_time": "2022-08-06T15:36:13.127Z"
   },
   {
    "duration": 239,
    "start_time": "2022-08-06T15:36:13.140Z"
   },
   {
    "duration": 5,
    "start_time": "2022-08-06T15:36:13.381Z"
   },
   {
    "duration": 160,
    "start_time": "2022-08-06T15:36:13.388Z"
   },
   {
    "duration": 169,
    "start_time": "2022-08-06T15:36:13.550Z"
   },
   {
    "duration": 7,
    "start_time": "2022-08-06T15:36:13.721Z"
   },
   {
    "duration": 16,
    "start_time": "2022-08-06T15:36:13.729Z"
   },
   {
    "duration": 8,
    "start_time": "2022-08-06T15:36:13.747Z"
   },
   {
    "duration": 9,
    "start_time": "2022-08-06T15:36:13.756Z"
   },
   {
    "duration": 55,
    "start_time": "2022-08-06T15:36:13.766Z"
   },
   {
    "duration": 16,
    "start_time": "2022-08-06T15:36:13.822Z"
   },
   {
    "duration": 14,
    "start_time": "2022-08-06T15:36:13.840Z"
   },
   {
    "duration": 8,
    "start_time": "2022-08-06T15:36:13.856Z"
   },
   {
    "duration": 10,
    "start_time": "2022-08-06T15:36:13.866Z"
   },
   {
    "duration": 62,
    "start_time": "2022-08-06T15:36:13.878Z"
   },
   {
    "duration": 7,
    "start_time": "2022-08-06T15:36:13.942Z"
   },
   {
    "duration": 116,
    "start_time": "2022-08-06T15:36:13.950Z"
   },
   {
    "duration": 1002,
    "start_time": "2022-08-06T15:36:27.634Z"
   },
   {
    "duration": 1186,
    "start_time": "2022-08-06T15:37:59.842Z"
   },
   {
    "duration": 77,
    "start_time": "2022-08-06T15:38:01.030Z"
   },
   {
    "duration": 3,
    "start_time": "2022-08-06T15:38:01.109Z"
   },
   {
    "duration": 32,
    "start_time": "2022-08-06T15:38:01.114Z"
   },
   {
    "duration": 64,
    "start_time": "2022-08-06T15:38:01.148Z"
   },
   {
    "duration": 3,
    "start_time": "2022-08-06T15:38:01.214Z"
   },
   {
    "duration": 25,
    "start_time": "2022-08-06T15:38:01.218Z"
   },
   {
    "duration": 39,
    "start_time": "2022-08-06T15:38:01.245Z"
   },
   {
    "duration": 19,
    "start_time": "2022-08-06T15:38:01.286Z"
   },
   {
    "duration": 277,
    "start_time": "2022-08-06T15:38:01.309Z"
   },
   {
    "duration": 22,
    "start_time": "2022-08-06T15:38:01.588Z"
   },
   {
    "duration": 28,
    "start_time": "2022-08-06T15:38:01.612Z"
   },
   {
    "duration": 24,
    "start_time": "2022-08-06T15:38:01.642Z"
   },
   {
    "duration": 22,
    "start_time": "2022-08-06T15:38:01.668Z"
   },
   {
    "duration": 14,
    "start_time": "2022-08-06T15:38:01.693Z"
   },
   {
    "duration": 20,
    "start_time": "2022-08-06T15:38:01.709Z"
   },
   {
    "duration": 288,
    "start_time": "2022-08-06T15:38:01.730Z"
   },
   {
    "duration": 9,
    "start_time": "2022-08-06T15:38:02.020Z"
   },
   {
    "duration": 20,
    "start_time": "2022-08-06T15:38:02.031Z"
   },
   {
    "duration": 295,
    "start_time": "2022-08-06T15:38:02.053Z"
   },
   {
    "duration": 216,
    "start_time": "2022-08-06T15:38:02.350Z"
   },
   {
    "duration": 6,
    "start_time": "2022-08-06T15:38:02.568Z"
   },
   {
    "duration": 342,
    "start_time": "2022-08-06T15:38:02.575Z"
   },
   {
    "duration": 7,
    "start_time": "2022-08-06T15:38:02.918Z"
   },
   {
    "duration": 9,
    "start_time": "2022-08-06T15:38:02.926Z"
   },
   {
    "duration": 108,
    "start_time": "2022-08-06T15:38:02.937Z"
   },
   {
    "duration": 0,
    "start_time": "2022-08-06T15:38:03.047Z"
   },
   {
    "duration": 0,
    "start_time": "2022-08-06T15:38:03.049Z"
   },
   {
    "duration": 0,
    "start_time": "2022-08-06T15:38:03.050Z"
   },
   {
    "duration": 0,
    "start_time": "2022-08-06T15:38:03.051Z"
   },
   {
    "duration": 0,
    "start_time": "2022-08-06T15:38:03.053Z"
   },
   {
    "duration": 0,
    "start_time": "2022-08-06T15:38:03.054Z"
   },
   {
    "duration": 0,
    "start_time": "2022-08-06T15:38:03.055Z"
   },
   {
    "duration": 0,
    "start_time": "2022-08-06T15:38:03.057Z"
   },
   {
    "duration": 0,
    "start_time": "2022-08-06T15:38:03.058Z"
   },
   {
    "duration": 0,
    "start_time": "2022-08-06T15:38:03.060Z"
   },
   {
    "duration": 0,
    "start_time": "2022-08-06T15:38:03.061Z"
   },
   {
    "duration": 0,
    "start_time": "2022-08-06T15:38:03.062Z"
   },
   {
    "duration": 0,
    "start_time": "2022-08-06T15:38:03.064Z"
   },
   {
    "duration": 0,
    "start_time": "2022-08-06T15:38:03.065Z"
   },
   {
    "duration": 1,
    "start_time": "2022-08-06T15:38:03.066Z"
   },
   {
    "duration": 0,
    "start_time": "2022-08-06T15:38:03.068Z"
   },
   {
    "duration": 0,
    "start_time": "2022-08-06T15:38:03.069Z"
   },
   {
    "duration": 0,
    "start_time": "2022-08-06T15:38:03.070Z"
   },
   {
    "duration": 0,
    "start_time": "2022-08-06T15:38:03.072Z"
   },
   {
    "duration": 0,
    "start_time": "2022-08-06T15:38:03.110Z"
   },
   {
    "duration": 0,
    "start_time": "2022-08-06T15:38:03.111Z"
   },
   {
    "duration": 1346,
    "start_time": "2022-08-06T15:46:54.987Z"
   },
   {
    "duration": 77,
    "start_time": "2022-08-06T15:46:56.335Z"
   },
   {
    "duration": 3,
    "start_time": "2022-08-06T15:46:56.414Z"
   },
   {
    "duration": 8,
    "start_time": "2022-08-06T15:46:56.420Z"
   },
   {
    "duration": 79,
    "start_time": "2022-08-06T15:46:56.430Z"
   },
   {
    "duration": 3,
    "start_time": "2022-08-06T15:46:56.511Z"
   },
   {
    "duration": 9,
    "start_time": "2022-08-06T15:46:56.516Z"
   },
   {
    "duration": 18,
    "start_time": "2022-08-06T15:46:56.526Z"
   },
   {
    "duration": 14,
    "start_time": "2022-08-06T15:46:56.545Z"
   },
   {
    "duration": 298,
    "start_time": "2022-08-06T15:46:56.562Z"
   },
   {
    "duration": 12,
    "start_time": "2022-08-06T15:46:56.862Z"
   },
   {
    "duration": 9,
    "start_time": "2022-08-06T15:46:56.877Z"
   },
   {
    "duration": 25,
    "start_time": "2022-08-06T15:46:56.887Z"
   },
   {
    "duration": 34,
    "start_time": "2022-08-06T15:46:56.914Z"
   },
   {
    "duration": 16,
    "start_time": "2022-08-06T15:46:56.950Z"
   },
   {
    "duration": 28,
    "start_time": "2022-08-06T15:46:56.967Z"
   },
   {
    "duration": 340,
    "start_time": "2022-08-06T15:46:56.996Z"
   },
   {
    "duration": 12,
    "start_time": "2022-08-06T15:46:57.339Z"
   },
   {
    "duration": 53,
    "start_time": "2022-08-06T15:46:57.353Z"
   },
   {
    "duration": 430,
    "start_time": "2022-08-06T15:46:57.408Z"
   },
   {
    "duration": 232,
    "start_time": "2022-08-06T15:46:57.841Z"
   },
   {
    "duration": 6,
    "start_time": "2022-08-06T15:46:58.075Z"
   },
   {
    "duration": 371,
    "start_time": "2022-08-06T15:46:58.083Z"
   },
   {
    "duration": 6,
    "start_time": "2022-08-06T15:46:58.456Z"
   },
   {
    "duration": 12,
    "start_time": "2022-08-06T15:46:58.463Z"
   },
   {
    "duration": 17,
    "start_time": "2022-08-06T15:46:58.477Z"
   },
   {
    "duration": 27,
    "start_time": "2022-08-06T15:46:58.495Z"
   },
   {
    "duration": 234,
    "start_time": "2022-08-06T15:46:58.525Z"
   },
   {
    "duration": 7,
    "start_time": "2022-08-06T15:46:58.761Z"
   },
   {
    "duration": 346,
    "start_time": "2022-08-06T15:46:58.770Z"
   },
   {
    "duration": 14,
    "start_time": "2022-08-06T15:46:59.118Z"
   },
   {
    "duration": 257,
    "start_time": "2022-08-06T15:46:59.134Z"
   },
   {
    "duration": 5,
    "start_time": "2022-08-06T15:46:59.392Z"
   },
   {
    "duration": 160,
    "start_time": "2022-08-06T15:46:59.408Z"
   },
   {
    "duration": 179,
    "start_time": "2022-08-06T15:46:59.569Z"
   },
   {
    "duration": 6,
    "start_time": "2022-08-06T15:46:59.749Z"
   },
   {
    "duration": 16,
    "start_time": "2022-08-06T15:46:59.756Z"
   },
   {
    "duration": 6,
    "start_time": "2022-08-06T15:46:59.774Z"
   },
   {
    "duration": 29,
    "start_time": "2022-08-06T15:46:59.782Z"
   },
   {
    "duration": 23,
    "start_time": "2022-08-06T15:46:59.813Z"
   },
   {
    "duration": 17,
    "start_time": "2022-08-06T15:46:59.837Z"
   },
   {
    "duration": 12,
    "start_time": "2022-08-06T15:46:59.856Z"
   },
   {
    "duration": 44,
    "start_time": "2022-08-06T15:46:59.871Z"
   },
   {
    "duration": 11,
    "start_time": "2022-08-06T15:46:59.916Z"
   },
   {
    "duration": 25,
    "start_time": "2022-08-06T15:46:59.929Z"
   },
   {
    "duration": 8,
    "start_time": "2022-08-06T15:46:59.956Z"
   },
   {
    "duration": 1078,
    "start_time": "2022-08-06T15:46:59.966Z"
   },
   {
    "duration": 1117,
    "start_time": "2022-08-06T17:31:17.350Z"
   },
   {
    "duration": 180,
    "start_time": "2022-08-06T17:31:18.469Z"
   },
   {
    "duration": 4,
    "start_time": "2022-08-06T17:31:18.651Z"
   },
   {
    "duration": 6,
    "start_time": "2022-08-06T17:31:18.657Z"
   },
   {
    "duration": 47,
    "start_time": "2022-08-06T17:31:18.665Z"
   },
   {
    "duration": 3,
    "start_time": "2022-08-06T17:31:18.713Z"
   },
   {
    "duration": 10,
    "start_time": "2022-08-06T17:31:18.717Z"
   },
   {
    "duration": 15,
    "start_time": "2022-08-06T17:31:18.728Z"
   },
   {
    "duration": 7,
    "start_time": "2022-08-06T17:31:18.745Z"
   },
   {
    "duration": 260,
    "start_time": "2022-08-06T17:31:18.754Z"
   },
   {
    "duration": 12,
    "start_time": "2022-08-06T17:31:19.016Z"
   },
   {
    "duration": 8,
    "start_time": "2022-08-06T17:31:19.029Z"
   },
   {
    "duration": 8,
    "start_time": "2022-08-06T17:31:19.038Z"
   },
   {
    "duration": 13,
    "start_time": "2022-08-06T17:31:19.047Z"
   },
   {
    "duration": 10,
    "start_time": "2022-08-06T17:31:19.062Z"
   },
   {
    "duration": 11,
    "start_time": "2022-08-06T17:31:19.099Z"
   },
   {
    "duration": 257,
    "start_time": "2022-08-06T17:31:19.111Z"
   },
   {
    "duration": 8,
    "start_time": "2022-08-06T17:31:19.369Z"
   },
   {
    "duration": 23,
    "start_time": "2022-08-06T17:31:19.378Z"
   },
   {
    "duration": 247,
    "start_time": "2022-08-06T17:31:19.403Z"
   },
   {
    "duration": 188,
    "start_time": "2022-08-06T17:31:19.652Z"
   },
   {
    "duration": 6,
    "start_time": "2022-08-06T17:31:19.841Z"
   },
   {
    "duration": 342,
    "start_time": "2022-08-06T17:31:19.848Z"
   },
   {
    "duration": 8,
    "start_time": "2022-08-06T17:31:20.192Z"
   },
   {
    "duration": 14,
    "start_time": "2022-08-06T17:31:20.201Z"
   },
   {
    "duration": 16,
    "start_time": "2022-08-06T17:31:20.216Z"
   },
   {
    "duration": 10,
    "start_time": "2022-08-06T17:31:20.234Z"
   },
   {
    "duration": 202,
    "start_time": "2022-08-06T17:31:20.247Z"
   },
   {
    "duration": 6,
    "start_time": "2022-08-06T17:31:20.450Z"
   },
   {
    "duration": 302,
    "start_time": "2022-08-06T17:31:20.457Z"
   },
   {
    "duration": 13,
    "start_time": "2022-08-06T17:31:20.760Z"
   },
   {
    "duration": 238,
    "start_time": "2022-08-06T17:31:20.774Z"
   },
   {
    "duration": 4,
    "start_time": "2022-08-06T17:31:21.014Z"
   },
   {
    "duration": 237,
    "start_time": "2022-08-06T17:31:21.019Z"
   },
   {
    "duration": 142,
    "start_time": "2022-08-06T17:31:21.258Z"
   },
   {
    "duration": 5,
    "start_time": "2022-08-06T17:31:21.401Z"
   },
   {
    "duration": 18,
    "start_time": "2022-08-06T17:31:21.408Z"
   },
   {
    "duration": 6,
    "start_time": "2022-08-06T17:31:21.427Z"
   },
   {
    "duration": 6,
    "start_time": "2022-08-06T17:31:21.443Z"
   },
   {
    "duration": 29,
    "start_time": "2022-08-06T17:31:21.451Z"
   },
   {
    "duration": 32,
    "start_time": "2022-08-06T17:31:21.481Z"
   },
   {
    "duration": 12,
    "start_time": "2022-08-06T17:31:21.515Z"
   },
   {
    "duration": 16,
    "start_time": "2022-08-06T17:31:21.529Z"
   },
   {
    "duration": 15,
    "start_time": "2022-08-06T17:31:21.547Z"
   },
   {
    "duration": 37,
    "start_time": "2022-08-06T17:31:21.563Z"
   },
   {
    "duration": 8,
    "start_time": "2022-08-06T17:31:21.601Z"
   },
   {
    "duration": 915,
    "start_time": "2022-08-06T17:31:21.611Z"
   },
   {
    "duration": 89,
    "start_time": "2022-08-06T17:31:35.963Z"
   },
   {
    "duration": 756,
    "start_time": "2022-08-06T17:31:48.941Z"
   },
   {
    "duration": 163,
    "start_time": "2022-08-06T17:32:12.092Z"
   }
  ],
  "kernelspec": {
   "display_name": "Python 3 (ipykernel)",
   "language": "python",
   "name": "python3"
  },
  "language_info": {
   "codemirror_mode": {
    "name": "ipython",
    "version": 3
   },
   "file_extension": ".py",
   "mimetype": "text/x-python",
   "name": "python",
   "nbconvert_exporter": "python",
   "pygments_lexer": "ipython3",
   "version": "3.9.12"
  },
  "toc": {
   "base_numbering": 1,
   "nav_menu": {},
   "number_sections": true,
   "sideBar": true,
   "skip_h1_title": true,
   "title_cell": "Table of Contents",
   "title_sidebar": "Contents",
   "toc_cell": false,
   "toc_position": {
    "height": "calc(100% - 180px)",
    "left": "10px",
    "top": "150px",
    "width": "215.391px"
   },
   "toc_section_display": true,
   "toc_window_display": true
  }
 },
 "nbformat": 4,
 "nbformat_minor": 2
}
